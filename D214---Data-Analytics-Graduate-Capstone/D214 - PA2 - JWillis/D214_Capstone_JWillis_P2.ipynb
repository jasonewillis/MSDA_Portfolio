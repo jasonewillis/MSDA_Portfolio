{
 "cells": [
  {
   "cell_type": "markdown",
   "id": "9a05da96-be7f-4b72-9404-ffa428e7d251",
   "metadata": {
    "pycharm": {
     "name": "#%% md\n"
    }
   },
   "source": [
    "### D214 - Capstone - PA2"
   ]
  },
  {
   "cell_type": "markdown",
   "id": "6f2ccc30-cd76-4012-ad10-2fc554e6ee5d",
   "metadata": {
    "pycharm": {
     "name": "#%% md\n"
    }
   },
   "source": [
    "### Background Info:\n",
    "\n",
    "**-- PA 1 is complete.**  \n",
    "**-- PA 2: Prep data for ANOVA analysis and to export to Tableau.**"
   ]
  },
  {
   "cell_type": "markdown",
   "id": "d8fee251-bc92-4b73-92ba-0edfee533830",
   "metadata": {},
   "source": [
    "**A1 _Question: Is communication from a doctor more statistically significant to a patients overall hospital rating than a nurse?_**"
   ]
  },
  {
   "cell_type": "markdown",
   "id": "07712ef5-8175-4032-9a36-3973f6db834f",
   "metadata": {
    "pycharm": {
     "name": "#%% md\n"
    }
   },
   "source": [
    "--- \n",
    "### Import Libraries\n",
    "---"
   ]
  },
  {
   "cell_type": "code",
   "execution_count": 1,
   "id": "4506d0d8",
   "metadata": {},
   "outputs": [],
   "source": [
    "# Standard libraries\n",
    "\n",
    "import pandas as pd\n",
    "import numpy as np\n",
    "import scipy as sc\n",
    "import matplotlib.pyplot as plt\n",
    "%matplotlib inline\n",
    "import seaborn as sns\n",
    "import statsmodels as stats\n",
    "from pandas import DataFrame\n",
    "from scipy.stats import kurtosis, skew\n",
    "from matplotlib.ticker import StrMethodFormatter\n",
    "\n",
    "# get ANOVA table\n",
    "import statsmodels.api as sm\n",
    "import statsmodels.formula.api as smf\n",
    "from statsmodels.formula.api import ols\n",
    "\n",
    "## Handle Warnings\n",
    "import warnings\n",
    "warnings.filterwarnings('ignore')\n",
    "## Warnings filter\n",
    "from warnings import simplefilter\n",
    "# ignore all future warnings\n",
    "simplefilter(action='ignore', category=FutureWarning)\n",
    "#\n",
    "## Timer for debugging\n",
    "#%time\n",
    "#%timeit"
   ]
  },
  {
   "cell_type": "code",
   "execution_count": 2,
   "id": "e8e0509c",
   "metadata": {},
   "outputs": [
    {
     "name": "stdout",
     "output_type": "stream",
     "text": [
      "The python version used is: 3.9.13\n"
     ]
    }
   ],
   "source": [
    "from platform import python_version\n",
    "print('The python version used is: %s' % python_version())"
   ]
  },
  {
   "cell_type": "markdown",
   "id": "cda6fb4a-5397-4e47-9a3a-3cac4c26f260",
   "metadata": {},
   "source": [
    "** Load Data"
   ]
  },
  {
   "cell_type": "code",
   "execution_count": 3,
   "id": "f016d9a9",
   "metadata": {
    "tags": []
   },
   "outputs": [
    {
     "data": {
      "text/html": [
       "<div>\n",
       "<style scoped>\n",
       "    .dataframe tbody tr th:only-of-type {\n",
       "        vertical-align: middle;\n",
       "    }\n",
       "\n",
       "    .dataframe tbody tr th {\n",
       "        vertical-align: top;\n",
       "    }\n",
       "\n",
       "    .dataframe thead th {\n",
       "        text-align: right;\n",
       "    }\n",
       "</style>\n",
       "<table border=\"1\" class=\"dataframe\">\n",
       "  <thead>\n",
       "    <tr style=\"text-align: right;\">\n",
       "      <th></th>\n",
       "      <th>Facility ID</th>\n",
       "      <th>Facility Name</th>\n",
       "      <th>Address</th>\n",
       "      <th>City</th>\n",
       "      <th>State</th>\n",
       "      <th>ZIP Code</th>\n",
       "      <th>County Name</th>\n",
       "      <th>Phone Number</th>\n",
       "      <th>HCAHPS Measure ID</th>\n",
       "      <th>HCAHPS Question</th>\n",
       "      <th>...</th>\n",
       "      <th>Patient Survey Star Rating Footnote</th>\n",
       "      <th>HCAHPS Answer Percent</th>\n",
       "      <th>HCAHPS Answer Percent Footnote</th>\n",
       "      <th>HCAHPS Linear Mean Value</th>\n",
       "      <th>Number of Completed Surveys</th>\n",
       "      <th>Number of Completed Surveys Footnote</th>\n",
       "      <th>Survey Response Rate Percent</th>\n",
       "      <th>Survey Response Rate Percent Footnote</th>\n",
       "      <th>Start Date</th>\n",
       "      <th>End Date</th>\n",
       "    </tr>\n",
       "  </thead>\n",
       "  <tbody>\n",
       "    <tr>\n",
       "      <th>0</th>\n",
       "      <td>010001</td>\n",
       "      <td>SOUTHEAST HEALTH MEDICAL CENTER</td>\n",
       "      <td>1108 ROSS CLARK CIRCLE</td>\n",
       "      <td>DOTHAN</td>\n",
       "      <td>AL</td>\n",
       "      <td>36301</td>\n",
       "      <td>HOUSTON</td>\n",
       "      <td>(334) 793-8701</td>\n",
       "      <td>H_COMP_1_A_P</td>\n",
       "      <td>Patients who reported that their nurses \"Alway...</td>\n",
       "      <td>...</td>\n",
       "      <td>NaN</td>\n",
       "      <td>77</td>\n",
       "      <td>NaN</td>\n",
       "      <td>Not Applicable</td>\n",
       "      <td>501</td>\n",
       "      <td>NaN</td>\n",
       "      <td>19</td>\n",
       "      <td>NaN</td>\n",
       "      <td>10/01/2020</td>\n",
       "      <td>09/30/2021</td>\n",
       "    </tr>\n",
       "    <tr>\n",
       "      <th>1</th>\n",
       "      <td>010001</td>\n",
       "      <td>SOUTHEAST HEALTH MEDICAL CENTER</td>\n",
       "      <td>1108 ROSS CLARK CIRCLE</td>\n",
       "      <td>DOTHAN</td>\n",
       "      <td>AL</td>\n",
       "      <td>36301</td>\n",
       "      <td>HOUSTON</td>\n",
       "      <td>(334) 793-8701</td>\n",
       "      <td>H_COMP_1_SN_P</td>\n",
       "      <td>Patients who reported that their nurses \"Somet...</td>\n",
       "      <td>...</td>\n",
       "      <td>NaN</td>\n",
       "      <td>7</td>\n",
       "      <td>NaN</td>\n",
       "      <td>Not Applicable</td>\n",
       "      <td>501</td>\n",
       "      <td>NaN</td>\n",
       "      <td>19</td>\n",
       "      <td>NaN</td>\n",
       "      <td>10/01/2020</td>\n",
       "      <td>09/30/2021</td>\n",
       "    </tr>\n",
       "    <tr>\n",
       "      <th>2</th>\n",
       "      <td>010001</td>\n",
       "      <td>SOUTHEAST HEALTH MEDICAL CENTER</td>\n",
       "      <td>1108 ROSS CLARK CIRCLE</td>\n",
       "      <td>DOTHAN</td>\n",
       "      <td>AL</td>\n",
       "      <td>36301</td>\n",
       "      <td>HOUSTON</td>\n",
       "      <td>(334) 793-8701</td>\n",
       "      <td>H_COMP_1_U_P</td>\n",
       "      <td>Patients who reported that their nurses \"Usual...</td>\n",
       "      <td>...</td>\n",
       "      <td>NaN</td>\n",
       "      <td>16</td>\n",
       "      <td>NaN</td>\n",
       "      <td>Not Applicable</td>\n",
       "      <td>501</td>\n",
       "      <td>NaN</td>\n",
       "      <td>19</td>\n",
       "      <td>NaN</td>\n",
       "      <td>10/01/2020</td>\n",
       "      <td>09/30/2021</td>\n",
       "    </tr>\n",
       "    <tr>\n",
       "      <th>3</th>\n",
       "      <td>010001</td>\n",
       "      <td>SOUTHEAST HEALTH MEDICAL CENTER</td>\n",
       "      <td>1108 ROSS CLARK CIRCLE</td>\n",
       "      <td>DOTHAN</td>\n",
       "      <td>AL</td>\n",
       "      <td>36301</td>\n",
       "      <td>HOUSTON</td>\n",
       "      <td>(334) 793-8701</td>\n",
       "      <td>H_COMP_1_LINEAR_SCORE</td>\n",
       "      <td>Nurse communication - linear mean score</td>\n",
       "      <td>...</td>\n",
       "      <td>NaN</td>\n",
       "      <td>Not Applicable</td>\n",
       "      <td>NaN</td>\n",
       "      <td>90</td>\n",
       "      <td>501</td>\n",
       "      <td>NaN</td>\n",
       "      <td>19</td>\n",
       "      <td>NaN</td>\n",
       "      <td>10/01/2020</td>\n",
       "      <td>09/30/2021</td>\n",
       "    </tr>\n",
       "    <tr>\n",
       "      <th>4</th>\n",
       "      <td>010001</td>\n",
       "      <td>SOUTHEAST HEALTH MEDICAL CENTER</td>\n",
       "      <td>1108 ROSS CLARK CIRCLE</td>\n",
       "      <td>DOTHAN</td>\n",
       "      <td>AL</td>\n",
       "      <td>36301</td>\n",
       "      <td>HOUSTON</td>\n",
       "      <td>(334) 793-8701</td>\n",
       "      <td>H_COMP_1_STAR_RATING</td>\n",
       "      <td>Nurse communication - star rating</td>\n",
       "      <td>...</td>\n",
       "      <td>NaN</td>\n",
       "      <td>Not Applicable</td>\n",
       "      <td>NaN</td>\n",
       "      <td>Not Applicable</td>\n",
       "      <td>501</td>\n",
       "      <td>NaN</td>\n",
       "      <td>19</td>\n",
       "      <td>NaN</td>\n",
       "      <td>10/01/2020</td>\n",
       "      <td>09/30/2021</td>\n",
       "    </tr>\n",
       "  </tbody>\n",
       "</table>\n",
       "<p>5 rows × 22 columns</p>\n",
       "</div>"
      ],
      "text/plain": [
       "  Facility ID                    Facility Name                 Address  \\\n",
       "0      010001  SOUTHEAST HEALTH MEDICAL CENTER  1108 ROSS CLARK CIRCLE   \n",
       "1      010001  SOUTHEAST HEALTH MEDICAL CENTER  1108 ROSS CLARK CIRCLE   \n",
       "2      010001  SOUTHEAST HEALTH MEDICAL CENTER  1108 ROSS CLARK CIRCLE   \n",
       "3      010001  SOUTHEAST HEALTH MEDICAL CENTER  1108 ROSS CLARK CIRCLE   \n",
       "4      010001  SOUTHEAST HEALTH MEDICAL CENTER  1108 ROSS CLARK CIRCLE   \n",
       "\n",
       "     City State  ZIP Code County Name    Phone Number      HCAHPS Measure ID  \\\n",
       "0  DOTHAN    AL     36301     HOUSTON  (334) 793-8701           H_COMP_1_A_P   \n",
       "1  DOTHAN    AL     36301     HOUSTON  (334) 793-8701          H_COMP_1_SN_P   \n",
       "2  DOTHAN    AL     36301     HOUSTON  (334) 793-8701           H_COMP_1_U_P   \n",
       "3  DOTHAN    AL     36301     HOUSTON  (334) 793-8701  H_COMP_1_LINEAR_SCORE   \n",
       "4  DOTHAN    AL     36301     HOUSTON  (334) 793-8701   H_COMP_1_STAR_RATING   \n",
       "\n",
       "                                     HCAHPS Question  ...  \\\n",
       "0  Patients who reported that their nurses \"Alway...  ...   \n",
       "1  Patients who reported that their nurses \"Somet...  ...   \n",
       "2  Patients who reported that their nurses \"Usual...  ...   \n",
       "3            Nurse communication - linear mean score  ...   \n",
       "4                  Nurse communication - star rating  ...   \n",
       "\n",
       "  Patient Survey Star Rating Footnote HCAHPS Answer Percent  \\\n",
       "0                                 NaN                    77   \n",
       "1                                 NaN                     7   \n",
       "2                                 NaN                    16   \n",
       "3                                 NaN        Not Applicable   \n",
       "4                                 NaN        Not Applicable   \n",
       "\n",
       "  HCAHPS Answer Percent Footnote HCAHPS Linear Mean Value  \\\n",
       "0                            NaN           Not Applicable   \n",
       "1                            NaN           Not Applicable   \n",
       "2                            NaN           Not Applicable   \n",
       "3                            NaN                       90   \n",
       "4                            NaN           Not Applicable   \n",
       "\n",
       "  Number of Completed Surveys Number of Completed Surveys Footnote  \\\n",
       "0                         501                                  NaN   \n",
       "1                         501                                  NaN   \n",
       "2                         501                                  NaN   \n",
       "3                         501                                  NaN   \n",
       "4                         501                                  NaN   \n",
       "\n",
       "  Survey Response Rate Percent Survey Response Rate Percent Footnote  \\\n",
       "0                           19                                   NaN   \n",
       "1                           19                                   NaN   \n",
       "2                           19                                   NaN   \n",
       "3                           19                                   NaN   \n",
       "4                           19                                   NaN   \n",
       "\n",
       "   Start Date    End Date  \n",
       "0  10/01/2020  09/30/2021  \n",
       "1  10/01/2020  09/30/2021  \n",
       "2  10/01/2020  09/30/2021  \n",
       "3  10/01/2020  09/30/2021  \n",
       "4  10/01/2020  09/30/2021  \n",
       "\n",
       "[5 rows x 22 columns]"
      ]
     },
     "execution_count": 3,
     "metadata": {},
     "output_type": "execute_result"
    }
   ],
   "source": [
    "# load data file\n",
    "df = pd.read_csv('HCAHPS-Hospital.csv')\n",
    "# quick test the data is present and see the shape\n",
    "df.head(5)  # DtypeWarning: Columns (12,14,17,19) have mixed types. Specify dtype option on import or set low_memory=False."
   ]
  },
  {
   "cell_type": "markdown",
   "id": "c9091c3b-9d1a-40ea-be1e-6ac8a125f69e",
   "metadata": {
    "pycharm": {
     "name": "#%% md\n"
    }
   },
   "source": [
    "---\n",
    "### Data Cleaning & Exploratory Data Analysis\n",
    "---"
   ]
  },
  {
   "cell_type": "code",
   "execution_count": 4,
   "id": "6a221c32-3969-4ab4-ad20-a57d18310e46",
   "metadata": {},
   "outputs": [
    {
     "data": {
      "text/plain": [
       "Index(['Facility ID', 'Facility Name', 'Address', 'City', 'State', 'ZIP Code',\n",
       "       'County Name', 'Phone Number', 'HCAHPS Measure ID', 'HCAHPS Question',\n",
       "       'HCAHPS Answer Description', 'Patient Survey Star Rating',\n",
       "       'Patient Survey Star Rating Footnote', 'HCAHPS Answer Percent',\n",
       "       'HCAHPS Answer Percent Footnote', 'HCAHPS Linear Mean Value',\n",
       "       'Number of Completed Surveys', 'Number of Completed Surveys Footnote',\n",
       "       'Survey Response Rate Percent', 'Survey Response Rate Percent Footnote',\n",
       "       'Start Date', 'End Date'],\n",
       "      dtype='object')"
      ]
     },
     "execution_count": 4,
     "metadata": {},
     "output_type": "execute_result"
    }
   ],
   "source": [
    "df.columns"
   ]
  },
  {
   "cell_type": "code",
   "execution_count": 5,
   "id": "36c4e3b0-3e0b-4fa2-8bd2-55c2fa3aa5c1",
   "metadata": {},
   "outputs": [],
   "source": [
    "# Remove Unecessary Data Series\n",
    "df_clean = df[['HCAHPS Answer Description', 'Patient Survey Star Rating']]\n",
    "\n",
    "# Rename Columns\n",
    "df_clean = df_clean.rename(columns={'HCAHPS Answer Description':'Questions',\n",
    "                                     'Patient Survey Star Rating':'Ratings'})"
   ]
  },
  {
   "cell_type": "code",
   "execution_count": 6,
   "id": "0929ceb1-b1da-4a81-94fa-5f65aab4af3f",
   "metadata": {},
   "outputs": [
    {
     "data": {
      "text/html": [
       "<div>\n",
       "<style scoped>\n",
       "    .dataframe tbody tr th:only-of-type {\n",
       "        vertical-align: middle;\n",
       "    }\n",
       "\n",
       "    .dataframe tbody tr th {\n",
       "        vertical-align: top;\n",
       "    }\n",
       "\n",
       "    .dataframe thead th {\n",
       "        text-align: right;\n",
       "    }\n",
       "</style>\n",
       "<table border=\"1\" class=\"dataframe\">\n",
       "  <thead>\n",
       "    <tr style=\"text-align: right;\">\n",
       "      <th></th>\n",
       "      <th>Questions</th>\n",
       "      <th>Ratings</th>\n",
       "    </tr>\n",
       "  </thead>\n",
       "  <tbody>\n",
       "    <tr>\n",
       "      <th>60224</th>\n",
       "      <td>Discharge information - star rating</td>\n",
       "      <td>5</td>\n",
       "    </tr>\n",
       "    <tr>\n",
       "      <th>16793</th>\n",
       "      <td>Discharge information - star rating</td>\n",
       "      <td>4</td>\n",
       "    </tr>\n",
       "    <tr>\n",
       "      <th>72249</th>\n",
       "      <td>Quietness - star rating</td>\n",
       "      <td>2</td>\n",
       "    </tr>\n",
       "    <tr>\n",
       "      <th>281461</th>\n",
       "      <td>Communication about medicines - star rating</td>\n",
       "      <td>3</td>\n",
       "    </tr>\n",
       "    <tr>\n",
       "      <th>367289</th>\n",
       "      <td>Staff responsiveness - star rating</td>\n",
       "      <td>3</td>\n",
       "    </tr>\n",
       "    <tr>\n",
       "      <th>197055</th>\n",
       "      <td>Quietness - star rating</td>\n",
       "      <td>5</td>\n",
       "    </tr>\n",
       "    <tr>\n",
       "      <th>95078</th>\n",
       "      <td>Staff responsiveness - star rating</td>\n",
       "      <td>1</td>\n",
       "    </tr>\n",
       "    <tr>\n",
       "      <th>87473</th>\n",
       "      <td>Discharge information - star rating</td>\n",
       "      <td>4</td>\n",
       "    </tr>\n",
       "    <tr>\n",
       "      <th>295924</th>\n",
       "      <td>Recommend hospital - star rating</td>\n",
       "      <td>4</td>\n",
       "    </tr>\n",
       "    <tr>\n",
       "      <th>220956</th>\n",
       "      <td>Quietness - star rating</td>\n",
       "      <td>3</td>\n",
       "    </tr>\n",
       "    <tr>\n",
       "      <th>158455</th>\n",
       "      <td>Cleanliness - star rating</td>\n",
       "      <td>3</td>\n",
       "    </tr>\n",
       "    <tr>\n",
       "      <th>425958</th>\n",
       "      <td>Doctor communication - star rating</td>\n",
       "      <td>3</td>\n",
       "    </tr>\n",
       "    <tr>\n",
       "      <th>254584</th>\n",
       "      <td>Communication about medicines - star rating</td>\n",
       "      <td>3</td>\n",
       "    </tr>\n",
       "    <tr>\n",
       "      <th>267</th>\n",
       "      <td>Quietness - star rating</td>\n",
       "      <td>3</td>\n",
       "    </tr>\n",
       "    <tr>\n",
       "      <th>186649</th>\n",
       "      <td>Recommend hospital - star rating</td>\n",
       "      <td>4</td>\n",
       "    </tr>\n",
       "    <tr>\n",
       "      <th>218642</th>\n",
       "      <td>Summary star rating</td>\n",
       "      <td>3</td>\n",
       "    </tr>\n",
       "    <tr>\n",
       "      <th>83218</th>\n",
       "      <td>Cleanliness - star rating</td>\n",
       "      <td>2</td>\n",
       "    </tr>\n",
       "    <tr>\n",
       "      <th>178186</th>\n",
       "      <td>Recommend hospital - star rating</td>\n",
       "      <td>4</td>\n",
       "    </tr>\n",
       "    <tr>\n",
       "      <th>340619</th>\n",
       "      <td>Discharge information - star rating</td>\n",
       "      <td>5</td>\n",
       "    </tr>\n",
       "    <tr>\n",
       "      <th>148367</th>\n",
       "      <td>Staff responsiveness - star rating</td>\n",
       "      <td>2</td>\n",
       "    </tr>\n",
       "  </tbody>\n",
       "</table>\n",
       "</div>"
      ],
      "text/plain": [
       "                                          Questions  Ratings\n",
       "60224           Discharge information - star rating        5\n",
       "16793           Discharge information - star rating        4\n",
       "72249                       Quietness - star rating        2\n",
       "281461  Communication about medicines - star rating        3\n",
       "367289           Staff responsiveness - star rating        3\n",
       "197055                      Quietness - star rating        5\n",
       "95078            Staff responsiveness - star rating        1\n",
       "87473           Discharge information - star rating        4\n",
       "295924             Recommend hospital - star rating        4\n",
       "220956                      Quietness - star rating        3\n",
       "158455                    Cleanliness - star rating        3\n",
       "425958           Doctor communication - star rating        3\n",
       "254584  Communication about medicines - star rating        3\n",
       "267                         Quietness - star rating        3\n",
       "186649             Recommend hospital - star rating        4\n",
       "218642                          Summary star rating        3\n",
       "83218                     Cleanliness - star rating        2\n",
       "178186             Recommend hospital - star rating        4\n",
       "340619          Discharge information - star rating        5\n",
       "148367           Staff responsiveness - star rating        2"
      ]
     },
     "execution_count": 6,
     "metadata": {},
     "output_type": "execute_result"
    }
   ],
   "source": [
    "# DtypeWarning: Columns (12,14,17,19) have mixed types. Specify dtype option on import or set low_memory=False.\n",
    "\n",
    "df_clean = df_clean.drop(df_clean[df_clean['Ratings'].isin(['Not Applicable', 'Not Available'])].index)  # Index --> of row\n",
    "df_clean['Ratings'] = df_clean['Ratings'].astype(int)\n",
    "\n",
    "df_clean.sample(20)"
   ]
  },
  {
   "cell_type": "code",
   "execution_count": 7,
   "id": "5aceb937-8e43-4dd3-ac53-eaac28be2d50",
   "metadata": {},
   "outputs": [
    {
     "name": "stdout",
     "output_type": "stream",
     "text": [
      "<class 'pandas.core.frame.DataFrame'>\n",
      "Int64Index: 36520 entries, 4 to 449747\n",
      "Data columns (total 2 columns):\n",
      " #   Column     Non-Null Count  Dtype \n",
      "---  ------     --------------  ----- \n",
      " 0   Questions  36520 non-null  object\n",
      " 1   Ratings    36520 non-null  int64 \n",
      "dtypes: int64(1), object(1)\n",
      "memory usage: 855.9+ KB\n"
     ]
    }
   ],
   "source": [
    "# Verify Ratins Series is of type integer\n",
    "df_clean.info() "
   ]
  },
  {
   "cell_type": "code",
   "execution_count": 8,
   "id": "109090b6-6eac-45ec-92d4-af82de3d6b1b",
   "metadata": {},
   "outputs": [
    {
     "name": "stdout",
     "output_type": "stream",
     "text": [
      "***********************************\n",
      "* DataFrame Shape:  (36520, 2)\n",
      "***********************************\n"
     ]
    },
    {
     "data": {
      "text/html": [
       "<div>\n",
       "<style scoped>\n",
       "    .dataframe tbody tr th:only-of-type {\n",
       "        vertical-align: middle;\n",
       "    }\n",
       "\n",
       "    .dataframe tbody tr th {\n",
       "        vertical-align: top;\n",
       "    }\n",
       "\n",
       "    .dataframe thead th {\n",
       "        text-align: right;\n",
       "    }\n",
       "</style>\n",
       "<table border=\"1\" class=\"dataframe\">\n",
       "  <thead>\n",
       "    <tr style=\"text-align: right;\">\n",
       "      <th></th>\n",
       "      <th>Questions</th>\n",
       "      <th>Ratings</th>\n",
       "    </tr>\n",
       "  </thead>\n",
       "  <tbody>\n",
       "    <tr>\n",
       "      <th>count</th>\n",
       "      <td>36520</td>\n",
       "      <td>36520.000000</td>\n",
       "    </tr>\n",
       "    <tr>\n",
       "      <th>unique</th>\n",
       "      <td>11</td>\n",
       "      <td>NaN</td>\n",
       "    </tr>\n",
       "    <tr>\n",
       "      <th>top</th>\n",
       "      <td>Nurse communication - star rating</td>\n",
       "      <td>NaN</td>\n",
       "    </tr>\n",
       "    <tr>\n",
       "      <th>freq</th>\n",
       "      <td>3320</td>\n",
       "      <td>NaN</td>\n",
       "    </tr>\n",
       "    <tr>\n",
       "      <th>mean</th>\n",
       "      <td>NaN</td>\n",
       "      <td>3.158050</td>\n",
       "    </tr>\n",
       "    <tr>\n",
       "      <th>std</th>\n",
       "      <td>NaN</td>\n",
       "      <td>1.008707</td>\n",
       "    </tr>\n",
       "    <tr>\n",
       "      <th>min</th>\n",
       "      <td>NaN</td>\n",
       "      <td>1.000000</td>\n",
       "    </tr>\n",
       "    <tr>\n",
       "      <th>25%</th>\n",
       "      <td>NaN</td>\n",
       "      <td>2.000000</td>\n",
       "    </tr>\n",
       "    <tr>\n",
       "      <th>50%</th>\n",
       "      <td>NaN</td>\n",
       "      <td>3.000000</td>\n",
       "    </tr>\n",
       "    <tr>\n",
       "      <th>75%</th>\n",
       "      <td>NaN</td>\n",
       "      <td>4.000000</td>\n",
       "    </tr>\n",
       "    <tr>\n",
       "      <th>max</th>\n",
       "      <td>NaN</td>\n",
       "      <td>5.000000</td>\n",
       "    </tr>\n",
       "  </tbody>\n",
       "</table>\n",
       "</div>"
      ],
      "text/plain": [
       "                                Questions       Ratings\n",
       "count                               36520  36520.000000\n",
       "unique                                 11           NaN\n",
       "top     Nurse communication - star rating           NaN\n",
       "freq                                 3320           NaN\n",
       "mean                                  NaN      3.158050\n",
       "std                                   NaN      1.008707\n",
       "min                                   NaN      1.000000\n",
       "25%                                   NaN      2.000000\n",
       "50%                                   NaN      3.000000\n",
       "75%                                   NaN      4.000000\n",
       "max                                   NaN      5.000000"
      ]
     },
     "execution_count": 8,
     "metadata": {},
     "output_type": "execute_result"
    }
   ],
   "source": [
    "print(\"*******\"*5)\n",
    "print(\"* DataFrame Shape: \", df_clean.shape)\n",
    "print(\"*******\"*5)\n",
    "df_clean.describe(include='all')"
   ]
  },
  {
   "cell_type": "code",
   "execution_count": 9,
   "id": "44fb325e-051b-4e1f-af4c-e8ecff231e6f",
   "metadata": {},
   "outputs": [
    {
     "data": {
      "text/html": [
       "<div>\n",
       "<style scoped>\n",
       "    .dataframe tbody tr th:only-of-type {\n",
       "        vertical-align: middle;\n",
       "    }\n",
       "\n",
       "    .dataframe tbody tr th {\n",
       "        vertical-align: top;\n",
       "    }\n",
       "\n",
       "    .dataframe thead th {\n",
       "        text-align: right;\n",
       "    }\n",
       "</style>\n",
       "<table border=\"1\" class=\"dataframe\">\n",
       "  <thead>\n",
       "    <tr style=\"text-align: right;\">\n",
       "      <th></th>\n",
       "      <th>Questions</th>\n",
       "      <th>Ratings</th>\n",
       "    </tr>\n",
       "  </thead>\n",
       "  <tbody>\n",
       "    <tr>\n",
       "      <th>4</th>\n",
       "      <td>Nurse communication - star rating</td>\n",
       "      <td>3</td>\n",
       "    </tr>\n",
       "    <tr>\n",
       "      <th>18</th>\n",
       "      <td>Doctor communication - star rating</td>\n",
       "      <td>3</td>\n",
       "    </tr>\n",
       "    <tr>\n",
       "      <th>32</th>\n",
       "      <td>Staff responsiveness - star rating</td>\n",
       "      <td>2</td>\n",
       "    </tr>\n",
       "    <tr>\n",
       "      <th>43</th>\n",
       "      <td>Communication about medicines - star rating</td>\n",
       "      <td>3</td>\n",
       "    </tr>\n",
       "    <tr>\n",
       "      <th>53</th>\n",
       "      <td>Discharge information - star rating</td>\n",
       "      <td>4</td>\n",
       "    </tr>\n",
       "    <tr>\n",
       "      <th>...</th>\n",
       "      <td>...</td>\n",
       "      <td>...</td>\n",
       "    </tr>\n",
       "    <tr>\n",
       "      <th>449673</th>\n",
       "      <td>Doctor communication - star rating</td>\n",
       "      <td>4</td>\n",
       "    </tr>\n",
       "    <tr>\n",
       "      <th>449687</th>\n",
       "      <td>Staff responsiveness - star rating</td>\n",
       "      <td>3</td>\n",
       "    </tr>\n",
       "    <tr>\n",
       "      <th>449698</th>\n",
       "      <td>Communication about medicines - star rating</td>\n",
       "      <td>3</td>\n",
       "    </tr>\n",
       "    <tr>\n",
       "      <th>449708</th>\n",
       "      <td>Discharge information - star rating</td>\n",
       "      <td>4</td>\n",
       "    </tr>\n",
       "    <tr>\n",
       "      <th>449717</th>\n",
       "      <td>Care transition - star rating</td>\n",
       "      <td>4</td>\n",
       "    </tr>\n",
       "  </tbody>\n",
       "</table>\n",
       "<p>36515 rows × 2 columns</p>\n",
       "</div>"
      ],
      "text/plain": [
       "                                          Questions  Ratings\n",
       "4                 Nurse communication - star rating        3\n",
       "18               Doctor communication - star rating        3\n",
       "32               Staff responsiveness - star rating        2\n",
       "43      Communication about medicines - star rating        3\n",
       "53              Discharge information - star rating        4\n",
       "...                                             ...      ...\n",
       "449673           Doctor communication - star rating        4\n",
       "449687           Staff responsiveness - star rating        3\n",
       "449698  Communication about medicines - star rating        3\n",
       "449708          Discharge information - star rating        4\n",
       "449717                Care transition - star rating        4\n",
       "\n",
       "[36515 rows x 2 columns]"
      ]
     },
     "execution_count": 9,
     "metadata": {},
     "output_type": "execute_result"
    }
   ],
   "source": [
    "df_clean.head(-5)"
   ]
  },
  {
   "cell_type": "code",
   "execution_count": 10,
   "id": "656a4a1a-5338-471e-a7ce-8d6a2e7bbf17",
   "metadata": {},
   "outputs": [
    {
     "data": {
      "text/plain": [
       "array(['Nurse communication - star rating',\n",
       "       'Doctor communication - star rating',\n",
       "       'Staff responsiveness - star rating',\n",
       "       'Communication about medicines - star rating',\n",
       "       'Discharge information - star rating',\n",
       "       'Care transition - star rating', 'Cleanliness - star rating',\n",
       "       'Quietness - star rating', 'Overall hospital rating - star rating',\n",
       "       'Recommend hospital - star rating', 'Summary star rating'],\n",
       "      dtype=object)"
      ]
     },
     "execution_count": 10,
     "metadata": {},
     "output_type": "execute_result"
    }
   ],
   "source": [
    "pd.unique(df_clean['Questions'])"
   ]
  },
  {
   "cell_type": "markdown",
   "id": "88ffb8df-9f29-432c-8b67-a4550e62004c",
   "metadata": {
    "pycharm": {
     "name": "#%% md\n"
    }
   },
   "source": [
    "### Check for Missing or Null Values"
   ]
  },
  {
   "cell_type": "code",
   "execution_count": 11,
   "id": "a1c926c3",
   "metadata": {},
   "outputs": [
    {
     "data": {
      "image/png": "[encoded data removed]",
      "text/plain": [
       "<Figure size 600x400 with 1 Axes>"
      ]
     },
     "metadata": {},
     "output_type": "display_data"
    }
   ],
   "source": [
    "# Mapping to view missing data...none present.\n",
    "fig, ax = plt.subplots(figsize=(6,4))         # Sample figsize in inches\n",
    "sns.heatmap(df_clean.isnull(), yticklabels=False, cbar=False, cmap='viridis');"
   ]
  },
  {
   "cell_type": "code",
   "execution_count": 12,
   "id": "49276640-b071-41ae-990f-c68f74f7ddf3",
   "metadata": {},
   "outputs": [
    {
     "name": "stdout",
     "output_type": "stream",
     "text": [
      "***********************************\n",
      "* Any Rows Missing:  False\n",
      "***********************************\n",
      "Any Null Values:\n",
      " Questions    False\n",
      "Ratings      False\n",
      "dtype: bool\n"
     ]
    }
   ],
   "source": [
    "# Drop any null columns\n",
    "df_clean = df_clean.dropna()\n",
    "\n",
    "print(\"*******\"*5)\n",
    "print(\"* Any Rows Missing: \",df_clean.isnull().all(axis=1).any())\n",
    "print(\"*******\"*5)\n",
    "print(\"Any Null Values:\\n\", df_clean.isnull().any())"
   ]
  },
  {
   "cell_type": "markdown",
   "id": "be10e83f",
   "metadata": {},
   "source": [
    "#### Explore Data"
   ]
  },
  {
   "cell_type": "code",
   "execution_count": 13,
   "id": "e406bc30-4cb2-4cc7-a93b-851c86ec37cb",
   "metadata": {},
   "outputs": [
    {
     "data": {
      "text/html": [
       "<div>\n",
       "<style scoped>\n",
       "    .dataframe tbody tr th:only-of-type {\n",
       "        vertical-align: middle;\n",
       "    }\n",
       "\n",
       "    .dataframe tbody tr th {\n",
       "        vertical-align: top;\n",
       "    }\n",
       "\n",
       "    .dataframe thead th {\n",
       "        text-align: right;\n",
       "    }\n",
       "</style>\n",
       "<table border=\"1\" class=\"dataframe\">\n",
       "  <thead>\n",
       "    <tr style=\"text-align: right;\">\n",
       "      <th></th>\n",
       "      <th>Questions</th>\n",
       "      <th>Ratings</th>\n",
       "    </tr>\n",
       "  </thead>\n",
       "  <tbody>\n",
       "    <tr>\n",
       "      <th>4</th>\n",
       "      <td>Nurse communication - star rating</td>\n",
       "      <td>3</td>\n",
       "    </tr>\n",
       "    <tr>\n",
       "      <th>18</th>\n",
       "      <td>Doctor communication - star rating</td>\n",
       "      <td>3</td>\n",
       "    </tr>\n",
       "    <tr>\n",
       "      <th>32</th>\n",
       "      <td>Staff responsiveness - star rating</td>\n",
       "      <td>2</td>\n",
       "    </tr>\n",
       "    <tr>\n",
       "      <th>43</th>\n",
       "      <td>Communication about medicines - star rating</td>\n",
       "      <td>3</td>\n",
       "    </tr>\n",
       "    <tr>\n",
       "      <th>53</th>\n",
       "      <td>Discharge information - star rating</td>\n",
       "      <td>4</td>\n",
       "    </tr>\n",
       "  </tbody>\n",
       "</table>\n",
       "</div>"
      ],
      "text/plain": [
       "                                      Questions  Ratings\n",
       "4             Nurse communication - star rating        3\n",
       "18           Doctor communication - star rating        3\n",
       "32           Staff responsiveness - star rating        2\n",
       "43  Communication about medicines - star rating        3\n",
       "53          Discharge information - star rating        4"
      ]
     },
     "execution_count": 13,
     "metadata": {},
     "output_type": "execute_result"
    }
   ],
   "source": [
    "# Sample DataFrame Fields\n",
    "df_clean.head()"
   ]
  },
  {
   "cell_type": "code",
   "execution_count": 14,
   "id": "4e4c36e7",
   "metadata": {},
   "outputs": [
    {
     "name": "stdout",
     "output_type": "stream",
     "text": [
      "*****************************************************************\n",
      "* DF Columns:  Index(['Questions', 'Ratings'], dtype='object')\n",
      "*****************************************************************\n",
      "<class 'pandas.core.frame.DataFrame'>\n",
      "Int64Index: 36520 entries, 4 to 449747\n",
      "Data columns (total 2 columns):\n",
      " #   Column     Non-Null Count  Dtype \n",
      "---  ------     --------------  ----- \n",
      " 0   Questions  36520 non-null  object\n",
      " 1   Ratings    36520 non-null  int64 \n",
      "dtypes: int64(1), object(1)\n",
      "memory usage: 855.9+ KB\n"
     ]
    }
   ],
   "source": [
    "# Understand Columns, Shape and Types\n",
    "print(\"*************\"*5)\n",
    "print(\"* DF Columns: \",df_clean.columns)\n",
    "print(\"*************\"*5)\n",
    "df_clean.info()"
   ]
  },
  {
   "cell_type": "code",
   "execution_count": 15,
   "id": "f6782979-35fb-434d-a932-48ae37830018",
   "metadata": {},
   "outputs": [],
   "source": [
    "# Export Cleaned data\n",
    "pd.DataFrame(df_clean).to_csv('df_clean.csv')"
   ]
  },
  {
   "cell_type": "code",
   "execution_count": 16,
   "id": "bc424769-96e1-4bf8-b8c9-0dc13b897fd7",
   "metadata": {},
   "outputs": [
    {
     "data": {
      "text/html": [
       "<div>\n",
       "<style scoped>\n",
       "    .dataframe tbody tr th:only-of-type {\n",
       "        vertical-align: middle;\n",
       "    }\n",
       "\n",
       "    .dataframe tbody tr th {\n",
       "        vertical-align: top;\n",
       "    }\n",
       "\n",
       "    .dataframe thead th {\n",
       "        text-align: right;\n",
       "    }\n",
       "</style>\n",
       "<table border=\"1\" class=\"dataframe\">\n",
       "  <thead>\n",
       "    <tr style=\"text-align: right;\">\n",
       "      <th></th>\n",
       "      <th>Questions</th>\n",
       "      <th>Ratings</th>\n",
       "    </tr>\n",
       "  </thead>\n",
       "  <tbody>\n",
       "    <tr>\n",
       "      <th>113267</th>\n",
       "      <td>Overall hospital rating - star rating</td>\n",
       "      <td>3</td>\n",
       "    </tr>\n",
       "    <tr>\n",
       "      <th>312019</th>\n",
       "      <td>Nurse communication - star rating</td>\n",
       "      <td>3</td>\n",
       "    </tr>\n",
       "    <tr>\n",
       "      <th>41750</th>\n",
       "      <td>Overall hospital rating - star rating</td>\n",
       "      <td>2</td>\n",
       "    </tr>\n",
       "    <tr>\n",
       "      <th>192224</th>\n",
       "      <td>Overall hospital rating - star rating</td>\n",
       "      <td>4</td>\n",
       "    </tr>\n",
       "    <tr>\n",
       "      <th>365</th>\n",
       "      <td>Overall hospital rating - star rating</td>\n",
       "      <td>4</td>\n",
       "    </tr>\n",
       "    <tr>\n",
       "      <th>190296</th>\n",
       "      <td>Doctor communication - star rating</td>\n",
       "      <td>3</td>\n",
       "    </tr>\n",
       "    <tr>\n",
       "      <th>164056</th>\n",
       "      <td>Nurse communication - star rating</td>\n",
       "      <td>4</td>\n",
       "    </tr>\n",
       "    <tr>\n",
       "      <th>207766</th>\n",
       "      <td>Nurse communication - star rating</td>\n",
       "      <td>4</td>\n",
       "    </tr>\n",
       "    <tr>\n",
       "      <th>444930</th>\n",
       "      <td>Doctor communication - star rating</td>\n",
       "      <td>4</td>\n",
       "    </tr>\n",
       "    <tr>\n",
       "      <th>281529</th>\n",
       "      <td>Doctor communication - star rating</td>\n",
       "      <td>3</td>\n",
       "    </tr>\n",
       "    <tr>\n",
       "      <th>336027</th>\n",
       "      <td>Doctor communication - star rating</td>\n",
       "      <td>3</td>\n",
       "    </tr>\n",
       "    <tr>\n",
       "      <th>376017</th>\n",
       "      <td>Doctor communication - star rating</td>\n",
       "      <td>4</td>\n",
       "    </tr>\n",
       "    <tr>\n",
       "      <th>334539</th>\n",
       "      <td>Doctor communication - star rating</td>\n",
       "      <td>2</td>\n",
       "    </tr>\n",
       "    <tr>\n",
       "      <th>147144</th>\n",
       "      <td>Doctor communication - star rating</td>\n",
       "      <td>4</td>\n",
       "    </tr>\n",
       "    <tr>\n",
       "      <th>286258</th>\n",
       "      <td>Nurse communication - star rating</td>\n",
       "      <td>2</td>\n",
       "    </tr>\n",
       "    <tr>\n",
       "      <th>55525</th>\n",
       "      <td>Nurse communication - star rating</td>\n",
       "      <td>5</td>\n",
       "    </tr>\n",
       "    <tr>\n",
       "      <th>330075</th>\n",
       "      <td>Doctor communication - star rating</td>\n",
       "      <td>4</td>\n",
       "    </tr>\n",
       "    <tr>\n",
       "      <th>146121</th>\n",
       "      <td>Doctor communication - star rating</td>\n",
       "      <td>4</td>\n",
       "    </tr>\n",
       "    <tr>\n",
       "      <th>147770</th>\n",
       "      <td>Overall hospital rating - star rating</td>\n",
       "      <td>3</td>\n",
       "    </tr>\n",
       "    <tr>\n",
       "      <th>116894</th>\n",
       "      <td>Overall hospital rating - star rating</td>\n",
       "      <td>3</td>\n",
       "    </tr>\n",
       "  </tbody>\n",
       "</table>\n",
       "</div>"
      ],
      "text/plain": [
       "                                    Questions  Ratings\n",
       "113267  Overall hospital rating - star rating        3\n",
       "312019      Nurse communication - star rating        3\n",
       "41750   Overall hospital rating - star rating        2\n",
       "192224  Overall hospital rating - star rating        4\n",
       "365     Overall hospital rating - star rating        4\n",
       "190296     Doctor communication - star rating        3\n",
       "164056      Nurse communication - star rating        4\n",
       "207766      Nurse communication - star rating        4\n",
       "444930     Doctor communication - star rating        4\n",
       "281529     Doctor communication - star rating        3\n",
       "336027     Doctor communication - star rating        3\n",
       "376017     Doctor communication - star rating        4\n",
       "334539     Doctor communication - star rating        2\n",
       "147144     Doctor communication - star rating        4\n",
       "286258      Nurse communication - star rating        2\n",
       "55525       Nurse communication - star rating        5\n",
       "330075     Doctor communication - star rating        4\n",
       "146121     Doctor communication - star rating        4\n",
       "147770  Overall hospital rating - star rating        3\n",
       "116894  Overall hospital rating - star rating        3"
      ]
     },
     "execution_count": 16,
     "metadata": {},
     "output_type": "execute_result"
    }
   ],
   "source": [
    "# Using lambda\n",
    "df_clean = df_clean[df_clean[\"Questions\"].isin(['Nurse communication - star rating',\n",
    "                                                'Doctor communication - star rating',\n",
    "                                                'Overall hospital rating - star rating'])]\n",
    "df_clean.dropna()\n",
    "df_clean.sample(20)"
   ]
  },
  {
   "cell_type": "code",
   "execution_count": 17,
   "id": "65e47615",
   "metadata": {},
   "outputs": [
    {
     "name": "stdout",
     "output_type": "stream",
     "text": [
      "****************************************\n",
      "*** Describe Data ***\n",
      "****************************************\n",
      "* Median:  Ratings    3.0\n",
      "dtype: float64\n",
      "****************************************\n",
      "Mode:                                        Questions\n",
      "Nurse communication - star rating           3320\n",
      "Doctor communication - star rating          3320\n",
      "Overall hospital rating - star rating       3320\n",
      "\n",
      "   Ratings\n",
      "1      374\n",
      "5      995\n",
      "2     1903\n",
      "4     3189\n",
      "3     3499\n"
     ]
    }
   ],
   "source": [
    "print('********'*5)\n",
    "print('*** Describe Data ***')\n",
    "print('********'*5)\n",
    "print('* Median: ',df_clean.median())\n",
    "print('********'*5)\n",
    "\n",
    "print('Mode: ' + str(df_clean['Questions'].value_counts(ascending=True).loc[lambda x : x>1].to_frame()) + \n",
    "      '\\n\\n' + str(df_clean['Ratings'].value_counts(ascending=True).loc[lambda x : x>1].to_frame()))"
   ]
  },
  {
   "cell_type": "code",
   "execution_count": 18,
   "id": "657c3063-86e4-4f83-af9c-ad8e8e3c6575",
   "metadata": {},
   "outputs": [
    {
     "name": "stdout",
     "output_type": "stream",
     "text": [
      "                               Questions   Ratings\n",
      "0     Doctor communication - star rating  3.238253\n",
      "1      Nurse communication - star rating  3.259940\n",
      "2  Overall hospital rating - star rating  3.263253\n"
     ]
    }
   ],
   "source": [
    "df_grouped = df_clean.groupby(['Questions'],as_index=False).mean()\n",
    "print(df_grouped)"
   ]
  },
  {
   "cell_type": "markdown",
   "id": "8a85d49d",
   "metadata": {},
   "source": [
    "---\n",
    "### Visualize Data\n",
    "---"
   ]
  },
  {
   "cell_type": "code",
   "execution_count": 19,
   "id": "7a6b3cc3",
   "metadata": {},
   "outputs": [
    {
     "data": {
      "image/png": "[encoded data removed]",
      "text/plain": [
       "<Figure size 640x480 with 1 Axes>"
      ]
     },
     "metadata": {},
     "output_type": "display_data"
    }
   ],
   "source": [
    "# Ratings Distribution \n",
    "df_clean['Ratings'].plot.hist();\n",
    "\n",
    "plt.xlabel('# of Star Rating')\n",
    "plt.ylabel('# of Patients')\n",
    "plt.title('Rating Distribution');"
   ]
  },
  {
   "cell_type": "code",
   "execution_count": 20,
   "id": "e519e79f-6a77-48f6-9e45-7fb317861a8d",
   "metadata": {},
   "outputs": [
    {
     "data": {
      "image/png": "[encoded data removed]",
      "text/plain": [
       "<Figure size 1000x600 with 1 Axes>"
      ]
     },
     "metadata": {},
     "output_type": "display_data"
    }
   ],
   "source": [
    "# Create Boxplot\n",
    "df_clean.boxplot('Ratings', by='Questions', figsize=(10, 6))\n",
    "\n",
    "control = df_clean['Ratings'][df_clean['Questions'] == 'Overall hospital rating - star rating']\n",
    "\n",
    "grps = pd.unique(df_clean['Questions'].values)\n",
    "d_data = {grp:df_clean['Ratings'][df_clean['Questions'] == grp] for grp in grps}\n",
    "\n",
    "k = len(pd.unique(df_clean['Questions']))  # number of conditions\n",
    "N = len(df_clean.values)  # conditions times participants\n",
    "n = df_clean.groupby('Questions').size()[0] #Participants in each condition"
   ]
  },
  {
   "cell_type": "markdown",
   "id": "3de849dd",
   "metadata": {},
   "source": [
    "---\n",
    "### One-Way ANOVA\n",
    "---"
   ]
  },
  {
   "cell_type": "code",
   "execution_count": 21,
   "id": "908b993e",
   "metadata": {},
   "outputs": [
    {
     "name": "stdout",
     "output_type": "stream",
     "text": [
      "                  df       sum_sq   mean_sq         F    PR(>F)\n",
      "C(Questions)     2.0     1.224297  0.612149  0.614114  0.541141\n",
      "Residual      9957.0  9925.130723  0.996799       NaN       NaN\n"
     ]
    }
   ],
   "source": [
    "# Set up ANOVA Model\n",
    "mod = ols('Ratings ~ C(Questions)', # Note the Catigorical Data C()\n",
    "                data=df_clean).fit() \n",
    "\n",
    "# Carry out the ANOVA                \n",
    "aov_table = sm.stats.anova_lm(mod)\n",
    "print(aov_table)"
   ]
  },
  {
   "cell_type": "code",
   "execution_count": 22,
   "id": "ff5048e2",
   "metadata": {},
   "outputs": [
    {
     "name": "stdout",
     "output_type": "stream",
     "text": [
      "                            OLS Regression Results                            \n",
      "==============================================================================\n",
      "Dep. Variable:                Ratings   R-squared:                       0.000\n",
      "Model:                            OLS   Adj. R-squared:                 -0.000\n",
      "Method:                 Least Squares   F-statistic:                    0.6141\n",
      "Date:                Thu, 08 Sep 2022   Prob (F-statistic):              0.541\n",
      "Time:                        09:57:52   Log-Likelihood:                -14115.\n",
      "No. Observations:                9960   AIC:                         2.824e+04\n",
      "Df Residuals:                    9957   BIC:                         2.826e+04\n",
      "Df Model:                           2                                         \n",
      "Covariance Type:            nonrobust                                         \n",
      "=========================================================================================================================\n",
      "                                                            coef    std err          t      P>|t|      [0.025      0.975]\n",
      "-------------------------------------------------------------------------------------------------------------------------\n",
      "Intercept                                                 3.2383      0.017    186.886      0.000       3.204       3.272\n",
      "C(Questions)[T.Nurse communication - star rating]         0.0217      0.025      0.885      0.376      -0.026       0.070\n",
      "C(Questions)[T.Overall hospital rating - star rating]     0.0250      0.025      1.020      0.308      -0.023       0.073\n",
      "==============================================================================\n",
      "Omnibus:                      241.290   Durbin-Watson:                   0.859\n",
      "Prob(Omnibus):                  0.000   Jarque-Bera (JB):              147.053\n",
      "Skew:                          -0.151   Prob(JB):                     1.17e-32\n",
      "Kurtosis:                       2.487   Cond. No.                         3.73\n",
      "==============================================================================\n",
      "\n",
      "Notes:\n",
      "[1] Standard Errors assume that the covariance matrix of the errors is correctly specified.\n"
     ]
    }
   ],
   "source": [
    "print(mod.summary()) # Print More Details"
   ]
  },
  {
   "cell_type": "markdown",
   "id": "cc5925e6",
   "metadata": {},
   "source": [
    "## End "
   ]
  }
 ],
 "metadata": {
  "kernelspec": {
   "display_name": "Python 3 (ipykernel)",
   "language": "python",
   "name": "python3"
  },
  "language_info": {
   "codemirror_mode": {
    "name": "ipython",
    "version": 3
   },
   "file_extension": ".py",
   "mimetype": "text/x-python",
   "name": "python",
   "nbconvert_exporter": "python",
   "pygments_lexer": "ipython3",
   "version": "3.9.13"
  },
  "vscode": {
   "interpreter": {
    "hash": "5abbd6db220e8e7e0d98705c152b109e4d42831fb3d2e63347ab02729524c35e"
   }
  }
 },
 "nbformat": 4,
 "nbformat_minor": 5
}
