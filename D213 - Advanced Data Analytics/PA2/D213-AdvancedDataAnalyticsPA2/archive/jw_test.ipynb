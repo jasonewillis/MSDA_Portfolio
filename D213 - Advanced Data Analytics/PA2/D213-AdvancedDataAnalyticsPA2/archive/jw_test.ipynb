{
 "cells": [
  {
   "cell_type": "code",
   "execution_count": 1,
   "metadata": {},
   "outputs": [
    {
     "name": "stdout",
     "output_type": "stream",
     "text": [
      "Python version used for this analysis is:  3.7.13\n"
     ]
    }
   ],
   "source": [
    "from platform import python_version\n",
    "print(\"Python version used for this analysis is: \", python_version())"
   ]
  },
  {
   "cell_type": "code",
   "execution_count": 2,
   "metadata": {},
   "outputs": [],
   "source": [
    "# LOADING PYTHON LIBRARIES NEEDED FOR THE ANALYSIS\n",
    "import sys    # System Functions\n",
    "import os     # View OS File Info\n",
    "\n",
    "#Scikit-learn for predictive analysis \n",
    "import sklearn\n",
    "from sklearn import preprocessing\n",
    "from sklearn.preprocessing import OneHotEncoder\n",
    "from sklearn import model_selection\n",
    "from sklearn.model_selection import train_test_split\n",
    "import re\n",
    "import tensorflow as tf\n",
    "import keras\n",
    "\n",
    "import tensorflow as ft        # tensorFlow Package\n",
    "from tensorflow import keras  # Neural network API\n",
    "from keras import preprocessing\n",
    "\n",
    "from tensorflow.keras.preprocessing.text import Tokenizer # Convert input text to tokens.\n",
    "from tensorflow.keras.callbacks import EarlyStopping      # Stop training at a threshold.\n",
    "from tensorflow.keras.models import load_model            # To load a saved model.\n",
    "from tensorflow.keras.layers import Dense, Embedding\n",
    "from tensorflow.keras.models import Sequential\n",
    "from tensorflow.keras.preprocessing.sequence import pad_sequences # For padding of text.\n"
   ]
  },
  {
   "cell_type": "code",
   "execution_count": 3,
   "metadata": {},
   "outputs": [
    {
     "name": "stderr",
     "output_type": "stream",
     "text": [
      "[nltk_data] Downloading package stopwords to\n",
      "[nltk_data]     /Users/jasonewillis/nltk_data...\n",
      "[nltk_data]   Package stopwords is already up-to-date!\n",
      "[nltk_data] Downloading package punkt to\n",
      "[nltk_data]     /Users/jasonewillis/nltk_data...\n",
      "[nltk_data]   Package punkt is already up-to-date!\n",
      "[nltk_data] Downloading package wordnet to\n",
      "[nltk_data]     /Users/jasonewillis/nltk_data...\n",
      "[nltk_data]   Package wordnet is already up-to-date!\n"
     ]
    },
    {
     "data": {
      "text/plain": [
       "True"
      ]
     },
     "execution_count": 3,
     "metadata": {},
     "output_type": "execute_result"
    }
   ],
   "source": [
    "import pandas as pd              # For Dataframe and data manipulations\n",
    "import numpy as np               # Provides array objects for calculations\n",
    "import gzip        # For unzipping the input customer review files\n",
    "import re\n",
    "import seaborn as sns              # For visualization like data distribution matrix\n",
    "import nltk                        # Natural Language toolkit\n",
    "import re                          # For regular expression usage\n",
    "\n",
    "from nltk.corpus import stopwords # For stopword usage\n",
    "from nltk import word_tokenize\n",
    "from nltk.corpus import stopwords\n",
    "from nltk.stem import PorterStemmer\n",
    "nltk.download ('stopwords')\n",
    "nltk.download ('punkt')\n",
    "nltk.download ('wordnet')"
   ]
  },
  {
   "cell_type": "code",
   "execution_count": 4,
   "metadata": {},
   "outputs": [],
   "source": [
    "# Shows matplotlib output inline in the jupyter notebook\n",
    "import matplotlib.pyplot as plt\n",
    "%matplotlib inline\n",
    "sns.color_palette(\"vlag\", as_cmap=True);"
   ]
  },
  {
   "cell_type": "code",
   "execution_count": 5,
   "metadata": {},
   "outputs": [
    {
     "name": "stdout",
     "output_type": "stream",
     "text": [
      "['combo.txt', 'amazon_cells_labelled.txt', 'readme.txt', '.ipynb_checkpoints', 'yelp_labelled.txt', 'imdb_labelled.txt']\n"
     ]
    }
   ],
   "source": [
    "# Verify Input File Locations\n",
    "print(os.listdir(path='./Data/sentiment_labelled_sentences/'))\n",
    "# Output: ['.DS_Store', 'combo.txt', 'amazon_cells_labelled.txt', 'readme.txt', 'yelp_labelled.txt', 'imdb_labelled.txt']"
   ]
  },
  {
   "cell_type": "markdown",
   "id": "dbb231fb-a260-451c-bb3a-f085371d21b6",
   "metadata": {
    "pycharm": {
     "name": "#%% md\n"
    }
   },
   "source": [
    "---\n",
    "### Load Data From UCI *.txt Files to DFs\n",
    "---"
   ]
  },
  {
   "cell_type": "code",
   "execution_count": 6,
   "id": "ae78b466-ae42-4caf-889a-6ff70a6cd528",
   "metadata": {
    "pycharm": {
     "name": "#%%\n"
    },
    "tags": []
   },
   "outputs": [],
   "source": [
    "# load data file\n",
    "df_amz = pd.read_csv('./Data/sentiment_labelled_sentences/amazon_cells_labelled.txt', delimiter='\\t', header=None)\n",
    "df_amz.columns = ['review', 'sentiment']\n",
    "\n",
    "df_imdb = pd.read_csv('./Data/sentiment_labelled_sentences/imdb_labelled.txt', delimiter='\\t', header=None)\n",
    "df_imdb.columns = ['review', 'sentiment']\n",
    "\n",
    "df_yelp = pd.read_csv('./Data/sentiment_labelled_sentences/yelp_labelled.txt', delimiter='\\t', header=None)\n",
    "df_yelp.columns = ['review', 'sentiment']"
   ]
  },
  {
   "cell_type": "code",
   "execution_count": 7,
   "id": "9ce72a1a-c347-4ffe-817b-9c17842ac723",
   "metadata": {},
   "outputs": [
    {
     "data": {
      "text/html": [
       "<div>\n",
       "<style scoped>\n",
       "    .dataframe tbody tr th:only-of-type {\n",
       "        vertical-align: middle;\n",
       "    }\n",
       "\n",
       "    .dataframe tbody tr th {\n",
       "        vertical-align: top;\n",
       "    }\n",
       "\n",
       "    .dataframe thead th {\n",
       "        text-align: right;\n",
       "    }\n",
       "</style>\n",
       "<table border=\"1\" class=\"dataframe\">\n",
       "  <thead>\n",
       "    <tr style=\"text-align: right;\">\n",
       "      <th></th>\n",
       "      <th>review</th>\n",
       "      <th>sentiment</th>\n",
       "    </tr>\n",
       "  </thead>\n",
       "  <tbody>\n",
       "    <tr>\n",
       "      <th>0</th>\n",
       "      <td>So there is no way for me to plug it in here i...</td>\n",
       "      <td>0</td>\n",
       "    </tr>\n",
       "    <tr>\n",
       "      <th>1</th>\n",
       "      <td>Good case, Excellent value.</td>\n",
       "      <td>1</td>\n",
       "    </tr>\n",
       "    <tr>\n",
       "      <th>2</th>\n",
       "      <td>Great for the jawbone.</td>\n",
       "      <td>1</td>\n",
       "    </tr>\n",
       "    <tr>\n",
       "      <th>3</th>\n",
       "      <td>Tied to charger for conversations lasting more...</td>\n",
       "      <td>0</td>\n",
       "    </tr>\n",
       "    <tr>\n",
       "      <th>4</th>\n",
       "      <td>The mic is great.</td>\n",
       "      <td>1</td>\n",
       "    </tr>\n",
       "  </tbody>\n",
       "</table>\n",
       "</div>"
      ],
      "text/plain": [
       "                                              review  sentiment\n",
       "0  So there is no way for me to plug it in here i...          0\n",
       "1                        Good case, Excellent value.          1\n",
       "2                             Great for the jawbone.          1\n",
       "3  Tied to charger for conversations lasting more...          0\n",
       "4                                  The mic is great.          1"
      ]
     },
     "execution_count": 7,
     "metadata": {},
     "output_type": "execute_result"
    }
   ],
   "source": [
    "# Concatinate and Read in Combo File to DF\n",
    "\n",
    "df_concat = pd.concat([df_amz, df_imdb, df_yelp], axis=0)\n",
    "df = df_concat.copy()\n",
    "df.reset_index(drop=True, col_fill=True, inplace=True)\n",
    "#df.info()\n",
    "df.head()"
   ]
  },
  {
   "cell_type": "code",
   "execution_count": 8,
   "metadata": {},
   "outputs": [
    {
     "data": {
      "text/plain": [
       "(2748, 2)"
      ]
     },
     "execution_count": 8,
     "metadata": {},
     "output_type": "execute_result"
    }
   ],
   "source": [
    "#View Shape of the data (Data2.csv)\n",
    "df.shape"
   ]
  },
  {
   "cell_type": "code",
   "execution_count": 9,
   "metadata": {},
   "outputs": [
    {
     "data": {
      "text/html": [
       "<div>\n",
       "<style scoped>\n",
       "    .dataframe tbody tr th:only-of-type {\n",
       "        vertical-align: middle;\n",
       "    }\n",
       "\n",
       "    .dataframe tbody tr th {\n",
       "        vertical-align: top;\n",
       "    }\n",
       "\n",
       "    .dataframe thead th {\n",
       "        text-align: right;\n",
       "    }\n",
       "</style>\n",
       "<table border=\"1\" class=\"dataframe\">\n",
       "  <thead>\n",
       "    <tr style=\"text-align: right;\">\n",
       "      <th></th>\n",
       "      <th>sentiment</th>\n",
       "    </tr>\n",
       "  </thead>\n",
       "  <tbody>\n",
       "    <tr>\n",
       "      <th>count</th>\n",
       "      <td>2748.000000</td>\n",
       "    </tr>\n",
       "    <tr>\n",
       "      <th>mean</th>\n",
       "      <td>0.504367</td>\n",
       "    </tr>\n",
       "    <tr>\n",
       "      <th>std</th>\n",
       "      <td>0.500072</td>\n",
       "    </tr>\n",
       "    <tr>\n",
       "      <th>min</th>\n",
       "      <td>0.000000</td>\n",
       "    </tr>\n",
       "    <tr>\n",
       "      <th>25%</th>\n",
       "      <td>0.000000</td>\n",
       "    </tr>\n",
       "    <tr>\n",
       "      <th>50%</th>\n",
       "      <td>1.000000</td>\n",
       "    </tr>\n",
       "    <tr>\n",
       "      <th>75%</th>\n",
       "      <td>1.000000</td>\n",
       "    </tr>\n",
       "    <tr>\n",
       "      <th>max</th>\n",
       "      <td>1.000000</td>\n",
       "    </tr>\n",
       "  </tbody>\n",
       "</table>\n",
       "</div>"
      ],
      "text/plain": [
       "         sentiment\n",
       "count  2748.000000\n",
       "mean      0.504367\n",
       "std       0.500072\n",
       "min       0.000000\n",
       "25%       0.000000\n",
       "50%       1.000000\n",
       "75%       1.000000\n",
       "max       1.000000"
      ]
     },
     "execution_count": 9,
     "metadata": {},
     "output_type": "execute_result"
    }
   ],
   "source": [
    "df.describe()"
   ]
  },
  {
   "cell_type": "code",
   "execution_count": 10,
   "metadata": {},
   "outputs": [
    {
     "data": {
      "text/html": [
       "<div>\n",
       "<style scoped>\n",
       "    .dataframe tbody tr th:only-of-type {\n",
       "        vertical-align: middle;\n",
       "    }\n",
       "\n",
       "    .dataframe tbody tr th {\n",
       "        vertical-align: top;\n",
       "    }\n",
       "\n",
       "    .dataframe thead th {\n",
       "        text-align: right;\n",
       "    }\n",
       "</style>\n",
       "<table border=\"1\" class=\"dataframe\">\n",
       "  <thead>\n",
       "    <tr style=\"text-align: right;\">\n",
       "      <th></th>\n",
       "      <th>review</th>\n",
       "      <th>sentiment</th>\n",
       "    </tr>\n",
       "  </thead>\n",
       "  <tbody>\n",
       "    <tr>\n",
       "      <th>0</th>\n",
       "      <td>So there is no way for me to plug it in here in the US unless I go by a converter.</td>\n",
       "      <td>0</td>\n",
       "    </tr>\n",
       "    <tr>\n",
       "      <th>1</th>\n",
       "      <td>Good case, Excellent value.</td>\n",
       "      <td>1</td>\n",
       "    </tr>\n",
       "    <tr>\n",
       "      <th>2</th>\n",
       "      <td>Great for the jawbone.</td>\n",
       "      <td>1</td>\n",
       "    </tr>\n",
       "    <tr>\n",
       "      <th>3</th>\n",
       "      <td>Tied to charger for conversations lasting more than 45 minutes.MAJOR PROBLEMS!!</td>\n",
       "      <td>0</td>\n",
       "    </tr>\n",
       "    <tr>\n",
       "      <th>4</th>\n",
       "      <td>The mic is great.</td>\n",
       "      <td>1</td>\n",
       "    </tr>\n",
       "    <tr>\n",
       "      <th>5</th>\n",
       "      <td>I have to jiggle the plug to get it to line up right to get decent volume.</td>\n",
       "      <td>0</td>\n",
       "    </tr>\n",
       "    <tr>\n",
       "      <th>6</th>\n",
       "      <td>If you have several dozen or several hundred contacts, then imagine the fun of sending each of them one by one.</td>\n",
       "      <td>0</td>\n",
       "    </tr>\n",
       "    <tr>\n",
       "      <th>7</th>\n",
       "      <td>If you are Razr owner...you must have this!</td>\n",
       "      <td>1</td>\n",
       "    </tr>\n",
       "    <tr>\n",
       "      <th>8</th>\n",
       "      <td>Needless to say, I wasted my money.</td>\n",
       "      <td>0</td>\n",
       "    </tr>\n",
       "    <tr>\n",
       "      <th>9</th>\n",
       "      <td>What a waste of money and time!.</td>\n",
       "      <td>0</td>\n",
       "    </tr>\n",
       "  </tbody>\n",
       "</table>\n",
       "</div>"
      ],
      "text/plain": [
       "                                                                                                            review  \\\n",
       "0                               So there is no way for me to plug it in here in the US unless I go by a converter.   \n",
       "1                                                                                      Good case, Excellent value.   \n",
       "2                                                                                           Great for the jawbone.   \n",
       "3                                  Tied to charger for conversations lasting more than 45 minutes.MAJOR PROBLEMS!!   \n",
       "4                                                                                                The mic is great.   \n",
       "5                                       I have to jiggle the plug to get it to line up right to get decent volume.   \n",
       "6  If you have several dozen or several hundred contacts, then imagine the fun of sending each of them one by one.   \n",
       "7                                                                      If you are Razr owner...you must have this!   \n",
       "8                                                                              Needless to say, I wasted my money.   \n",
       "9                                                                                 What a waste of money and time!.   \n",
       "\n",
       "   sentiment  \n",
       "0          0  \n",
       "1          1  \n",
       "2          1  \n",
       "3          0  \n",
       "4          1  \n",
       "5          0  \n",
       "6          0  \n",
       "7          1  \n",
       "8          0  \n",
       "9          0  "
      ]
     },
     "execution_count": 10,
     "metadata": {},
     "output_type": "execute_result"
    }
   ],
   "source": [
    "# Check for special characters.The review text contains punctuation and special characters like ;)/()!-#\n",
    "pd.set_option('display.max_colwidth', 5000)\n",
    "df.head(10)"
   ]
  },
  {
   "cell_type": "code",
   "execution_count": 11,
   "metadata": {},
   "outputs": [
    {
     "data": {
      "text/plain": [
       "<matplotlib.axes._subplots.AxesSubplot at 0x7fef01b34c90>"
      ]
     },
     "execution_count": 11,
     "metadata": {},
     "output_type": "execute_result"
    },
    {
     "data": {
      "image/png": "[encoded data removed]",
      "text/plain": [
       "<Figure size 432x288 with 1 Axes>"
      ]
     },
     "metadata": {
      "needs_background": "light"
     },
     "output_type": "display_data"
    }
   ],
   "source": [
    "# Verify the distribution of the data. \n",
    "sns.countplot(data=df, x='sentiment', palette=\"dark\")"
   ]
  },
  {
   "cell_type": "markdown",
   "metadata": {},
   "source": []
  },
  {
   "cell_type": "markdown",
   "metadata": {},
   "source": [
    "## Data Cleaning"
   ]
  },
  {
   "cell_type": "code",
   "execution_count": 12,
   "metadata": {},
   "outputs": [],
   "source": [
    "# Convert ratings to Integer\n",
    "df['sentiment'] = df['sentiment'].astype(int)\n",
    "\n",
    "# Take only 2 needed columns if your dataset has many columns and you needed just two.\n",
    "df = df[['review', 'sentiment']]"
   ]
  },
  {
   "cell_type": "code",
   "execution_count": 13,
   "metadata": {},
   "outputs": [],
   "source": [
    "# Drop any null columns\n",
    "df = df.dropna()"
   ]
  },
  {
   "cell_type": "code",
   "execution_count": 14,
   "metadata": {},
   "outputs": [],
   "source": [
    "# Convert any non string values to string values.\n",
    "for i in range (0, len(df)-1):\n",
    "    if type(df.iloc[i] ['review'])!= str:\n",
    "        df.iloc[i] ['review'] = str(df.iloc[i] ['review'])"
   ]
  },
  {
   "cell_type": "code",
   "execution_count": 15,
   "metadata": {},
   "outputs": [],
   "source": [
    "# Remove any rating with neutral rating, we need only negative and positive reviews.\n",
    "#df = df[df['sentiment'] != 3]"
   ]
  },
  {
   "cell_type": "code",
   "execution_count": 16,
   "metadata": {},
   "outputs": [
    {
     "data": {
      "text/html": [
       "<div>\n",
       "<style scoped>\n",
       "    .dataframe tbody tr th:only-of-type {\n",
       "        vertical-align: middle;\n",
       "    }\n",
       "\n",
       "    .dataframe tbody tr th {\n",
       "        vertical-align: top;\n",
       "    }\n",
       "\n",
       "    .dataframe thead th {\n",
       "        text-align: right;\n",
       "    }\n",
       "</style>\n",
       "<table border=\"1\" class=\"dataframe\">\n",
       "  <thead>\n",
       "    <tr style=\"text-align: right;\">\n",
       "      <th></th>\n",
       "      <th>review</th>\n",
       "      <th>sentiment</th>\n",
       "      <th>label</th>\n",
       "    </tr>\n",
       "  </thead>\n",
       "  <tbody>\n",
       "    <tr>\n",
       "      <th>0</th>\n",
       "      <td>So there is no way for me to plug it in here in the US unless I go by a converter.</td>\n",
       "      <td>0</td>\n",
       "      <td>0</td>\n",
       "    </tr>\n",
       "    <tr>\n",
       "      <th>1</th>\n",
       "      <td>Good case, Excellent value.</td>\n",
       "      <td>1</td>\n",
       "      <td>0</td>\n",
       "    </tr>\n",
       "    <tr>\n",
       "      <th>2</th>\n",
       "      <td>Great for the jawbone.</td>\n",
       "      <td>1</td>\n",
       "      <td>0</td>\n",
       "    </tr>\n",
       "    <tr>\n",
       "      <th>3</th>\n",
       "      <td>Tied to charger for conversations lasting more than 45 minutes.MAJOR PROBLEMS!!</td>\n",
       "      <td>0</td>\n",
       "      <td>0</td>\n",
       "    </tr>\n",
       "    <tr>\n",
       "      <th>4</th>\n",
       "      <td>The mic is great.</td>\n",
       "      <td>1</td>\n",
       "      <td>0</td>\n",
       "    </tr>\n",
       "    <tr>\n",
       "      <th>5</th>\n",
       "      <td>I have to jiggle the plug to get it to line up right to get decent volume.</td>\n",
       "      <td>0</td>\n",
       "      <td>0</td>\n",
       "    </tr>\n",
       "    <tr>\n",
       "      <th>6</th>\n",
       "      <td>If you have several dozen or several hundred contacts, then imagine the fun of sending each of them one by one.</td>\n",
       "      <td>0</td>\n",
       "      <td>0</td>\n",
       "    </tr>\n",
       "    <tr>\n",
       "      <th>7</th>\n",
       "      <td>If you are Razr owner...you must have this!</td>\n",
       "      <td>1</td>\n",
       "      <td>0</td>\n",
       "    </tr>\n",
       "    <tr>\n",
       "      <th>8</th>\n",
       "      <td>Needless to say, I wasted my money.</td>\n",
       "      <td>0</td>\n",
       "      <td>0</td>\n",
       "    </tr>\n",
       "    <tr>\n",
       "      <th>9</th>\n",
       "      <td>What a waste of money and time!.</td>\n",
       "      <td>0</td>\n",
       "      <td>0</td>\n",
       "    </tr>\n",
       "  </tbody>\n",
       "</table>\n",
       "</div>"
      ],
      "text/plain": [
       "                                                                                                            review  \\\n",
       "0                               So there is no way for me to plug it in here in the US unless I go by a converter.   \n",
       "1                                                                                      Good case, Excellent value.   \n",
       "2                                                                                           Great for the jawbone.   \n",
       "3                                  Tied to charger for conversations lasting more than 45 minutes.MAJOR PROBLEMS!!   \n",
       "4                                                                                                The mic is great.   \n",
       "5                                       I have to jiggle the plug to get it to line up right to get decent volume.   \n",
       "6  If you have several dozen or several hundred contacts, then imagine the fun of sending each of them one by one.   \n",
       "7                                                                      If you are Razr owner...you must have this!   \n",
       "8                                                                              Needless to say, I wasted my money.   \n",
       "9                                                                                 What a waste of money and time!.   \n",
       "\n",
       "   sentiment  label  \n",
       "0          0      0  \n",
       "1          1      0  \n",
       "2          1      0  \n",
       "3          0      0  \n",
       "4          1      0  \n",
       "5          0      0  \n",
       "6          0      0  \n",
       "7          1      0  \n",
       "8          0      0  \n",
       "9          0      0  "
      ]
     },
     "execution_count": 16,
     "metadata": {},
     "output_type": "execute_result"
    }
   ],
   "source": [
    "# Convert ratings 1 and 2 to 0 which is a negative review\n",
    "# Convert ratings 4 and 5 to 1 which is a positive review\n",
    "def label(i):\n",
    "    return 1 if i >= 4 else 0\n",
    "df['label'] = df['sentiment'].apply(label)\n",
    "df.head(10)\n"
   ]
  },
  {
   "cell_type": "code",
   "execution_count": 17,
   "metadata": {},
   "outputs": [
    {
     "data": {
      "text/html": [
       "<div>\n",
       "<style scoped>\n",
       "    .dataframe tbody tr th:only-of-type {\n",
       "        vertical-align: middle;\n",
       "    }\n",
       "\n",
       "    .dataframe tbody tr th {\n",
       "        vertical-align: top;\n",
       "    }\n",
       "\n",
       "    .dataframe thead th {\n",
       "        text-align: right;\n",
       "    }\n",
       "</style>\n",
       "<table border=\"1\" class=\"dataframe\">\n",
       "  <thead>\n",
       "    <tr style=\"text-align: right;\">\n",
       "      <th></th>\n",
       "      <th>review</th>\n",
       "      <th>label</th>\n",
       "    </tr>\n",
       "  </thead>\n",
       "  <tbody>\n",
       "    <tr>\n",
       "      <th>0</th>\n",
       "      <td>So there is no way for me to plug it in here in the US unless I go by a converter.</td>\n",
       "      <td>0</td>\n",
       "    </tr>\n",
       "    <tr>\n",
       "      <th>1</th>\n",
       "      <td>Good case, Excellent value.</td>\n",
       "      <td>0</td>\n",
       "    </tr>\n",
       "    <tr>\n",
       "      <th>2</th>\n",
       "      <td>Great for the jawbone.</td>\n",
       "      <td>0</td>\n",
       "    </tr>\n",
       "    <tr>\n",
       "      <th>3</th>\n",
       "      <td>Tied to charger for conversations lasting more than 45 minutes.MAJOR PROBLEMS!!</td>\n",
       "      <td>0</td>\n",
       "    </tr>\n",
       "    <tr>\n",
       "      <th>4</th>\n",
       "      <td>The mic is great.</td>\n",
       "      <td>0</td>\n",
       "    </tr>\n",
       "  </tbody>\n",
       "</table>\n",
       "</div>"
      ],
      "text/plain": [
       "                                                                               review  \\\n",
       "0  So there is no way for me to plug it in here in the US unless I go by a converter.   \n",
       "1                                                         Good case, Excellent value.   \n",
       "2                                                              Great for the jawbone.   \n",
       "3     Tied to charger for conversations lasting more than 45 minutes.MAJOR PROBLEMS!!   \n",
       "4                                                                   The mic is great.   \n",
       "\n",
       "   label  \n",
       "0      0  \n",
       "1      0  \n",
       "2      0  \n",
       "3      0  \n",
       "4      0  "
      ]
     },
     "execution_count": 17,
     "metadata": {},
     "output_type": "execute_result"
    }
   ],
   "source": [
    "#Rename the columns\n",
    "#df.rename(columns = {\"rating\": \"overall\"}, inplace=True) Do this if applicable but I'm not doing here.\n",
    "\n",
    "# Drop the column named rating\n",
    "#df.drop(['sentiment'],axis=1)\n",
    "df = df.drop(['sentiment'],axis=1)\n",
    "df.head()"
   ]
  },
  {
   "cell_type": "code",
   "execution_count": 18,
   "metadata": {},
   "outputs": [
    {
     "data": {
      "text/plain": [
       "(2748, 2)"
      ]
     },
     "execution_count": 18,
     "metadata": {},
     "output_type": "execute_result"
    }
   ],
   "source": [
    "review_df = df\n",
    "review_df.shape"
   ]
  },
  {
   "cell_type": "code",
   "execution_count": 19,
   "metadata": {},
   "outputs": [],
   "source": [
    "# Balancing the Positive and Negative reviews\n",
    "# positive_df = review_df[review_df['label'] == 1].sample(n=len(review_df[review_df['label'] == 0]), random_state=15)\n",
    "# negative_df = review_df[review_df['label'] == 0]\n",
    "# print(positive_df.shape , negative_df.shape)"
   ]
  },
  {
   "cell_type": "code",
   "execution_count": 20,
   "metadata": {},
   "outputs": [],
   "source": [
    "# # Combine the reviews\n",
    "# review_df = positive_df.append(negative_df).reset_index(drop=True)"
   ]
  },
  {
   "cell_type": "code",
   "execution_count": 21,
   "metadata": {},
   "outputs": [
    {
     "data": {
      "image/png": "[encoded data removed]",
      "text/plain": [
       "<Figure size 432x288 with 1 Axes>"
      ]
     },
     "metadata": {
      "needs_background": "light"
     },
     "output_type": "display_data"
    }
   ],
   "source": [
    "# Verify the distribution of the data again.\n",
    "sns.countplot(x=\"label\",data=review_df);"
   ]
  },
  {
   "cell_type": "code",
   "execution_count": 22,
   "metadata": {},
   "outputs": [
    {
     "name": "stdout",
     "output_type": "stream",
     "text": [
      "Vocabulary size:  5272\n"
     ]
    }
   ],
   "source": [
    "# Identify vocabulary size\n",
    "tokenizer = Tokenizer()\n",
    "tokenizer.fit_on_texts(review_df['review'])\n",
    "print(\"Vocabulary size: \", len(tokenizer.word_index) + 1)"
   ]
  },
  {
   "cell_type": "code",
   "execution_count": 23,
   "metadata": {},
   "outputs": [],
   "source": [
    "# DATA PROCESSING\n",
    "# Removes punctuations and special characters\n",
    "# Makes the text into lowercase\n",
    "# Performs tokenization\n",
    "# Performs lemmatization\n",
    "# Removes stopwords"
   ]
  },
  {
   "cell_type": "code",
   "execution_count": 24,
   "metadata": {},
   "outputs": [],
   "source": [
    "description_list = []\n",
    "stop_words = stopwords.words('english')\n",
    "for description in review_df.review:\n",
    "    #Regular Expression, removes punctuations and special characters.\n",
    "    description = re.sub(\"[^a-zA-Z]\", \" \", description)\n",
    "    \n",
    "    #Convert to lower case\n",
    "    description = description.lower()\n",
    "    \n",
    "    #Perform tokenization\n",
    "    description=nltk.word_tokenize(description)\n",
    "    \n",
    "    #Perform lemmatization to bring the words to its root or join the inflected words.\n",
    "    lemma = nltk.WordNetLemmatizer()\n",
    "    description = [lemma.lemmatize(word) for word in description]\n",
    "    \n",
    "    #Removing stopwords\n",
    "    description = [word for word in description if not word in stop_words]\n",
    "    description = \" \".join(description)\n",
    "    description_list.append(description)"
   ]
  },
  {
   "cell_type": "code",
   "execution_count": 25,
   "metadata": {},
   "outputs": [
    {
     "data": {
      "text/plain": [
       "['way plug u unless go converter',\n",
       " 'good case excellent value',\n",
       " 'great jawbone',\n",
       " 'tied charger conversation lasting minute major problem',\n",
       " 'mic great']"
      ]
     },
     "execution_count": 25,
     "metadata": {},
     "output_type": "execute_result"
    }
   ],
   "source": [
    "# Display top 5 reviews after they are preprocessed\n",
    "description_list[0:5]"
   ]
  },
  {
   "cell_type": "code",
   "execution_count": 26,
   "metadata": {},
   "outputs": [
    {
     "name": "stdout",
     "output_type": "stream",
     "text": [
      "['i', 'me', 'my', 'myself', 'we', 'our', 'ours', 'ourselves', 'you', \"you're\", \"you've\", \"you'll\", \"you'd\", 'your', 'yours', 'yourself', 'yourselves', 'he', 'him', 'his', 'himself', 'she', \"she's\", 'her', 'hers', 'herself', 'it', \"it's\", 'its', 'itself', 'they', 'them', 'their', 'theirs', 'themselves', 'what', 'which', 'who', 'whom', 'this', 'that', \"that'll\", 'these', 'those', 'am', 'is', 'are', 'was', 'were', 'be', 'been', 'being', 'have', 'has', 'had', 'having', 'do', 'does', 'did', 'doing', 'a', 'an', 'the', 'and', 'but', 'if', 'or', 'because', 'as', 'until', 'while', 'of', 'at', 'by', 'for', 'with', 'about', 'against', 'between', 'into', 'through', 'during', 'before', 'after', 'above', 'below', 'to', 'from', 'up', 'down', 'in', 'out', 'on', 'off', 'over', 'under', 'again', 'further', 'then', 'once', 'here', 'there', 'when', 'where', 'why', 'how', 'all', 'any', 'both', 'each', 'few', 'more', 'most', 'other', 'some', 'such', 'no', 'nor', 'not', 'only', 'own', 'same', 'so', 'than', 'too', 'very', 's', 't', 'can', 'will', 'just', 'don', \"don't\", 'should', \"should've\", 'now', 'd', 'll', 'm', 'o', 're', 've', 'y', 'ain', 'aren', \"aren't\", 'couldn', \"couldn't\", 'didn', \"didn't\", 'doesn', \"doesn't\", 'hadn', \"hadn't\", 'hasn', \"hasn't\", 'haven', \"haven't\", 'isn', \"isn't\", 'ma', 'mightn', \"mightn't\", 'mustn', \"mustn't\", 'needn', \"needn't\", 'shan', \"shan't\", 'shouldn', \"shouldn't\", 'wasn', \"wasn't\", 'weren', \"weren't\", 'won', \"won't\", 'wouldn', \"wouldn't\"]\n"
     ]
    }
   ],
   "source": [
    "# Print the Stopwords that were applied. Stopwords in Python do not add much meaning to a sentence, can be ignored.\n",
    "print(stop_words)"
   ]
  },
  {
   "cell_type": "code",
   "execution_count": 27,
   "metadata": {},
   "outputs": [
    {
     "name": "stdout",
     "output_type": "stream",
     "text": [
      "Training size:  (2198,)\n",
      "Testing size:  (550,)\n"
     ]
    }
   ],
   "source": [
    "# Splitting the data into training and test set.\n",
    "X = np.array(description_list)\n",
    "y = review_df.label.values\n",
    "\n",
    "from sklearn.model_selection import train_test_split\n",
    "X_train, X_test, y_train, y_test = train_test_split(X, y, test_size = 0.20, random_state = 15, stratify = y)\n",
    "\n",
    "y_train = pd.Series(y_train)\n",
    "y_test = pd.Series(y_test)\n",
    "\n",
    "# View the training and testing sample sizes\n",
    "print(\"Training size: \", X_train.shape)\n",
    "print(\"Testing size: \", X_test.shape)\n"
   ]
  },
  {
   "cell_type": "code",
   "execution_count": 28,
   "metadata": {},
   "outputs": [],
   "source": [
    "# Convert the labels to one-hot-encoding\n",
    "from keras.utils.np_utils import to_categorical\n",
    "y_train = to_categorical(y_train, num_classes = 2)\n",
    "y_test = to_categorical(y_test, num_classes =2)"
   ]
  },
  {
   "cell_type": "code",
   "execution_count": 29,
   "metadata": {},
   "outputs": [],
   "source": [
    "# Define the variables that will be used to override the defaults\n",
    "vocab_size = 15000\n",
    "oov_tok = \"<oov>\"\n",
    "embedding_dim = 16\n",
    "max_length = 50\n",
    "trunc_type= 'post'\n",
    "padding_type='post'"
   ]
  },
  {
   "cell_type": "code",
   "execution_count": 30,
   "metadata": {},
   "outputs": [
    {
     "name": "stdout",
     "output_type": "stream",
     "text": [
      "{'<oov>': 1, 'wa': 2, 'movie': 3, 'good': 4, 'great': 5, 'phone': 6, 'film': 7, 'one': 8, 'time': 9, 'like': 10, 'food': 11, 'place': 12, 'service': 13, 'work': 14, 'really': 15, 'bad': 16, 'well': 17, 'would': 18, 'ha': 19, 'even': 20, 'best': 21, 'also': 22, 'ever': 23, 'go': 24, 'back': 25, 'get': 26, 'make': 27, 'quality': 28, 'love': 29, 'product': 30, 'headset': 31, 'character': 32, 'made': 33, 'could': 34, 'never': 35, 'thing': 36, 'battery': 37, 'much': 38, 'nice': 39, 'better': 40, 'way': 41, 'recommend': 42, 'excellent': 43, 'sound': 44, 'pretty': 45, 'acting': 46, 'see': 47, 'first': 48, 'think': 49, 'everything': 50, 'say': 51, 'got': 52, 'use': 53, 'look': 54, 'worst': 55, 'still': 56, 'price': 57, 'amazing': 58, 'minute': 59, 'doe': 60, 'enough': 61, 'every': 62, 'little': 63, 'terrible': 64, 'disappointed': 65, 'ear': 66, 'two': 67, 'right': 68, 'story': 69, 'definitely': 70, 'scene': 71, 'year': 72, 'lot': 73, 'friendly': 74, 'case': 75, 'star': 76, 'waste': 77, 'know': 78, 'money': 79, 'going': 80, 'people': 81, 'real': 82, 'u': 83, 'give': 84, 'piece': 85, 'worth': 86, 'actor': 87, 'problem': 88, 'many': 89, 'new': 90, 'day': 91, 'always': 92, 'came': 93, 'come': 94, 'plot': 95, 'life': 96, 'seen': 97, 'poor': 98, 'nothing': 99, 'far': 100, 'screen': 101, 'restaurant': 102, 'wonderful': 103, 'highly': 104, 'happy': 105, 'call': 106, 'hour': 107, 'script': 108, 'want': 109, 'experience': 110, 'line': 111, 'used': 112, 'loved': 113, 'anyone': 114, 'awful': 115, 'feel': 116, 'watch': 117, 'delicious': 118, 'slow': 119, 'buy': 120, 'show': 121, 'quite': 122, 'around': 123, 'item': 124, 'performance': 125, 'another': 126, 'long': 127, 'went': 128, 'totally': 129, 'fit': 130, 'absolutely': 131, 'vega': 132, 'order': 133, 'watching': 134, 'take': 135, 'thought': 136, 'funny': 137, 'bought': 138, 'awesome': 139, 'however': 140, 'part': 141, 'cast': 142, 'music': 143, 'fine': 144, 'horrible': 145, 'said': 146, 'probably': 147, 'kind': 148, 'overall': 149, 'comfortable': 150, 'menu': 151, 'special': 152, 'find': 153, 'cool': 154, 'since': 155, 'worked': 156, 'reception': 157, 'last': 158, 'burger': 159, 'camera': 160, 'black': 161, 'cheap': 162, 'easy': 163, 'job': 164, 'night': 165, 'bit': 166, 'steak': 167, 'car': 168, 'charger': 169, 'stupid': 170, 'found': 171, 'big': 172, 'eat': 173, 'sure': 174, 'ordered': 175, 'end': 176, 'suck': 177, 'picture': 178, 'hand': 179, 'staff': 180, 'game': 181, 'director': 182, 'simply': 183, 'bluetooth': 184, 'side': 185, 'family': 186, 'fantastic': 187, 'least': 188, 'especially': 189, 'perfect': 190, 'impressed': 191, 'interesting': 192, 'try': 193, 'dish': 194, 'done': 195, 'pizza': 196, 'must': 197, 'effect': 198, 'purchase': 199, 'beautiful': 200, 'dialogue': 201, 'play': 202, 'anything': 203, 'low': 204, 'liked': 205, 'table': 206, 'device': 207, 'working': 208, 'though': 209, 'white': 210, 'talk': 211, 'hear': 212, 'man': 213, 'whole': 214, 'avoid': 215, 'different': 216, 'coming': 217, 'saw': 218, 'short': 219, 'keep': 220, 'writing': 221, 'turn': 222, 'need': 223, 'old': 224, 'feeling': 225, 'completely': 226, 'fresh': 227, 'customer': 228, 'wait': 229, 'bar': 230, 'selection': 231, 'fast': 232, 'seriously': 233, 'sucked': 234, 'extremely': 235, 'hard': 236, 'art': 237, 'enjoyed': 238, 'next': 239, 'almost': 240, 'stay': 241, 'away': 242, 'either': 243, 'month': 244, 'fact': 245, 'kid': 246, 'felt': 247, 'friend': 248, 'chicken': 249, 'disappointing': 250, 'super': 251, 'salad': 252, 'several': 253, 'atmosphere': 254, 'server': 255, 'small': 256, 'may': 257, 'light': 258, 'without': 259, 'motorola': 260, 'actually': 261, 'taste': 262, 'flavor': 263, 'tasty': 264, 'sushi': 265, 'deal': 266, 'design': 267, 'word': 268, 'three': 269, 'boring': 270, 'return': 271, 'sauce': 272, 'bland': 273, 'easily': 274, 'shot': 275, 'fun': 276, 'using': 277, 'took': 278, 'second': 279, 'worse': 280, 'crap': 281, 'cost': 282, 'watched': 283, 'clear': 284, 'huge': 285, 'expect': 286, 'face': 287, 'waited': 288, 'charge': 289, 'played': 290, 'pleased': 291, 'mediocre': 292, 'glad': 293, 'breakfast': 294, 'meal': 295, 'received': 296, 'feature': 297, 'disappointment': 298, 'enjoy': 299, 'started': 300, 'plug': 301, 'waitress': 302, 'le': 303, 'fry': 304, 'wasted': 305, 'ending': 306, 'drama': 307, 'rather': 308, 'top': 309, 'set': 310, 'cell': 311, 'full': 312, 'voice': 313, 'getting': 314, 'wrong': 315, 'free': 316, 'mess': 317, 'series': 318, 'together': 319, 'perfectly': 320, 'yet': 321, 'strong': 322, 'volume': 323, 'incredible': 324, 'value': 325, 'unfortunately': 326, 'everyone': 327, 'area': 328, 'tried': 329, 'understand': 330, 'jabra': 331, 'wear': 332, 'looking': 333, 'buffet': 334, 'hold': 335, 'beer': 336, 'gave': 337, 'week': 338, 'lunch': 339, 'barely': 340, 'style': 341, 'dropped': 342, 'broke': 343, 'cold': 344, 'lack': 345, 'predictable': 346, 'wanted': 347, 'oh': 348, 'unit': 349, 'button': 350, 'tasted': 351, 'pay': 352, 'guess': 353, 'company': 354, 'inside': 355, 'playing': 356, 'care': 357, 'child': 358, 'check': 359, 'original': 360, 'tv': 361, 'certainly': 362, 'lost': 363, 'told': 364, 'high': 365, 'put': 366, 'song': 367, 'else': 368, 'world': 369, 'tell': 370, 'let': 371, 'audio': 372, 'none': 373, 'twice': 374, 'verizon': 375, 'truly': 376, 'point': 377, 'reason': 378, 'classic': 379, 'flick': 380, 'needed': 381, 'mention': 382, 'color': 383, 'important': 384, 'cinema': 385, 'amazon': 386, 'mean': 387, 'human': 388, 'setting': 389, 'believe': 390, 'waiter': 391, 'rating': 392, 'mostly': 393, 'dessert': 394, 'left': 395, 'helpful': 396, 'seems': 397, 'guy': 398, 'owner': 399, 'half': 400, 'player': 401, 'drink': 402, 'weak': 403, 'fails': 404, 'ask': 405, 'hole': 406, 'beyond': 407, 'perhaps': 408, 'recommended': 409, 'suspense': 410, 'drive': 411, 'entire': 412, 'kept': 413, 'annoying': 414, 'eye': 415, 'john': 416, 'tender': 417, 'cable': 418, 'choice': 419, 'fan': 420, 'given': 421, 'trying': 422, 'authentic': 423, 'waiting': 424, 'book': 425, 'budget': 426, 'rude': 427, 'couple': 428, 'girl': 429, 'junk': 430, 'role': 431, 'making': 432, 'cover': 433, 'simple': 434, 'eating': 435, 'soon': 436, 'decent': 437, 'charm': 438, 'chip': 439, 'town': 440, 'touch': 441, 'hate': 442, 'might': 443, 'throughout': 444, 'clean': 445, 'quickly': 446, 'basically': 447, 'single': 448, 'finally': 449, 'something': 450, 'history': 451, 'although': 452, 'pho': 453, 'review': 454, 'editing': 455, 'priced': 456, 'dinner': 457, 'option': 458, 'location': 459, 'seeing': 460, 'ridiculous': 461, 'happened': 462, 'beat': 463, 'whatever': 464, 'amount': 465, 'warm': 466, 'running': 467, 'software': 468, 'management': 469, 'result': 470, 'signal': 471, 'sometimes': 472, 'bring': 473, 'pasta': 474, 'sandwich': 475, 'directing': 476, 'believable': 477, 'subtle': 478, 'comedy': 479, 'thriller': 480, 'heart': 481, 'hot': 482, 'average': 483, 'meat': 484, 'obviously': 485, 'mind': 486, 'exactly': 487, 'store': 488, 'cinematography': 489, 'literally': 490, 'mistake': 491, 'non': 492, 'dining': 493, 'someone': 494, 'loud': 495, 'hitchcock': 496, 'direction': 497, 'considering': 498, 'solid': 499, 'portrayal': 500, 'hope': 501, 'connection': 502, 'earpiece': 503, 'cooked': 504, 'large': 505, 'spicy': 506, 'self': 507, 'instead': 508, 'cut': 509, 'v': 510, 'taco': 511, 'later': 512, 'expected': 513, 'useless': 514, 'mouth': 515, 'overpriced': 516, 'quick': 517, 'wall': 518, 'potato': 519, 'house': 520, 'hit': 521, 'break': 522, 'shrimp': 523, 'nokia': 524, 'offer': 525, 'business': 526, 'arrived': 527, 'within': 528, 'ok': 529, 'water': 530, 'served': 531, 'owned': 532, 'along': 533, 'start': 534, 'stuff': 535, 'hilarious': 536, 'adorable': 537, 'charging': 538, 'trip': 539, 'living': 540, 'rock': 541, 'horror': 542, 'documentary': 543, 'particular': 544, 'chef': 545, 'attempt': 546, 'ice': 547, 'head': 548, 'plus': 549, 'tool': 550, 'silent': 551, 'asked': 552, 'damn': 553, 'ago': 554, 'bother': 555, 'plain': 556, 'rate': 557, 'lame': 558, 'zero': 559, 'moving': 560, 'rent': 561, 'recently': 562, 'beef': 563, 'flaw': 564, 'rare': 565, 'elsewhere': 566, 'audience': 567, 'mobile': 568, 'replace': 569, 'help': 570, 'maybe': 571, 'room': 572, 'course': 573, 'sweet': 574, 'memorable': 575, 'total': 576, 'flat': 577, 'rest': 578, 'pathetic': 579, 'action': 580, 'spoiler': 581, 'website': 582, 'leave': 583, 'bathroom': 584, 'dont': 585, 'longer': 586, 'issue': 587, 'portion': 588, 'consider': 589, 'brilliant': 590, 'fish': 591, 'complaint': 592, 'ambiance': 593, 'internet': 594, 'seated': 595, 'razr': 596, 'belt': 597, 'written': 598, 'favorite': 599, 'difficult': 600, 'clip': 601, 'bt': 602, 'sad': 603, 'form': 604, 'today': 605, 'person': 606, 'period': 607, 'empty': 608, 'blue': 609, 'leather': 610, 'wine': 611, 'party': 612, 'situation': 613, 'beginning': 614, 'nut': 615, 'genuine': 616, 'lacked': 617, 'nasty': 618, 'poorly': 619, 'insult': 620, 'outside': 621, 'please': 622, 'husband': 623, 'sending': 624, 'bread': 625, 'whatsoever': 626, 'looked': 627, 'roll': 628, 'decision': 629, 'charming': 630, 'tasteless': 631, 'weird': 632, 'smell': 633, 'video': 634, 'phoenix': 635, 'purchased': 636, 'clarity': 637, 'recent': 638, 'superb': 639, 'premise': 640, 'particularly': 641, 'remember': 642, 'warning': 643, 'meaning': 644, 'fall': 645, 'bacon': 646, 'depth': 647, 'etc': 648, 'relationship': 649, 'bored': 650, 'cute': 651, 'list': 652, 'wonderfully': 653, 'number': 654, 'fear': 655, 'cream': 656, 'run': 657, 'dead': 658, 'lightweight': 659, 'data': 660, 'missed': 661, 'sign': 662, 'shipping': 663, 'thoroughly': 664, 'manager': 665, 'forever': 666, 'contact': 667, 'q': 668, 'headphone': 669, 'terrific': 670, 'daughter': 671, 'massive': 672, 'trouble': 673, 'theme': 674, 'incredibly': 675, 'age': 676, 'appreciate': 677, 'effective': 678, 'garbage': 679, 'five': 680, 'puppet': 681, 'master': 682, 'death': 683, 'masterpiece': 684, 'red': 685, 'establishment': 686, 'level': 687, 'range': 688, 'main': 689, 'son': 690, 'whether': 691, 'wow': 692, 'thumb': 693, 'unless': 694, 'showed': 695, 'note': 696, 'pull': 697, 'station': 698, 'home': 699, 'unbelievable': 700, 'deserves': 701, 'dirty': 702, 'emotion': 703, 'appealing': 704, 'th': 705, 'seafood': 706, 'mp': 707, 'crisp': 708, 'production': 709, 'ray': 710, 'charles': 711, 'usual': 712, 'greatest': 713, 'actress': 714, 'trash': 715, 'casting': 716, 'mexican': 717, 'memory': 718, 'ed': 719, 'sick': 720, 'young': 721, 'often': 722, 'reviewer': 723, 'due': 724, 'sturdy': 725, 'tone': 726, 'turned': 727, 'delight': 728, 'conclusion': 729, 'thin': 730, 'plantronics': 731, 'third': 732, 'min': 733, 'entertaining': 734, 'credit': 735, 'belly': 736, 'dance': 737, 'instruction': 738, 'easier': 739, 'salmon': 740, 'palm': 741, 'despite': 742, 'yummy': 743, 'fairly': 744, 'able': 745, 'checked': 746, 'drop': 747, 'cartoon': 748, 'possible': 749, 'conversation': 750, 'stop': 751, 'drago': 752, 'idea': 753, 'lady': 754, 'paid': 755, 'seem': 756, 'chemistry': 757, 'italian': 758, 'crazy': 759, 'strip': 760, 'lg': 761, 'appearance': 762, 'cingular': 763, 'happier': 764, 'true': 765, 'ringtones': 766, 'drain': 767, 'ready': 768, 'clearly': 769, 'plastic': 770, 'follow': 771, 'graphic': 772, 'joke': 773, 'honestly': 774, 'dialog': 775, 'thai': 776, 'type': 777, 'nearly': 778, 'crowd': 779, 'mic': 780, 'egg': 781, 'soup': 782, 'description': 783, 'greek': 784, 'dressing': 785, 'flavorful': 786, 'seemed': 787, 'journey': 788, 'member': 789, 'attentive': 790, 'fried': 791, 'stand': 792, 'odd': 793, 'insulted': 794, 'anyway': 795, 'thrown': 796, 'holster': 797, 'seller': 798, 'ball': 799, 'inexpensive': 800, 'boot': 801, 'appalling': 802, 'tension': 803, 'gyro': 804, 'cause': 805, 'cant': 806, 'explain': 807, 'dog': 808, 'ease': 809, 'boyfriend': 810, 'speed': 811, 'vegetarian': 812, 'enjoyable': 813, 'moist': 814, 'example': 815, 'paced': 816, 'complete': 817, 'sort': 818, 'thrilled': 819, 'forget': 820, 'foot': 821, 'storyline': 822, 'stage': 823, 'laugh': 824, 'experienced': 825, 'negative': 826, 'christmas': 827, 'score': 828, 'wing': 829, 'satisfied': 830, 'spent': 831, 'wireless': 832, 'walked': 833, 'embarrassing': 834, 'leaf': 835, 'lasting': 836, 'control': 837, 'equally': 838, 'plan': 839, 'failed': 840, 'size': 841, 'dozen': 842, 'imagine': 843, 'buying': 844, 'heard': 845, 'charged': 846, 'melt': 847, 'wish': 848, 'busy': 849, 'impressive': 850, 'thinking': 851, 'stink': 852, 'watchable': 853, 'killing': 854, 'pointless': 855, 'ability': 856, 'pm': 857, 'brain': 858, 'scary': 859, 'fx': 860, 'serious': 861, 'utterly': 862, 'stayed': 863, 'holding': 864, 'quiet': 865, 'conflict': 866, 'previous': 867, 'tale': 868, 'dream': 869, 'comment': 870, 'photography': 871, 'reasonable': 872, 'e': 873, 'amazed': 874, 'pace': 875, 'stunning': 876, 'late': 877, 'flawed': 878, 'towards': 879, 'guest': 880, 'huston': 881, 'steve': 882, 'stick': 883, 'bunch': 884, 'recommendation': 885, 'yeah': 886, 'gadget': 887, 'mother': 888, 'plugged': 889, 'live': 890, 'handsfree': 891, 'imagination': 892, 'brilliance': 893, 'bargain': 894, 'flip': 895, 'extra': 896, 'sequel': 897, 'provoking': 898, 'exceptional': 899, 'known': 900, 'intelligent': 901, 'imaginative': 902, 'already': 903, 'forced': 904, 'modern': 905, 'sister': 906, 'thats': 907, 'date': 908, 'convincing': 909, 'clever': 910, 'angle': 911, 'beautifully': 912, 'oscar': 913, 'lock': 914, 'pocket': 915, 'provided': 916, 'material': 917, 'energy': 918, 'machine': 919, 'addition': 920, 'attention': 921, 'dancing': 922, 'dvd': 923, 'struck': 924, 'gotten': 925, 'significant': 926, 'visual': 927, 'called': 928, 'soundtrack': 929, 'parent': 930, 'surprisingly': 931, 'thanks': 932, 'released': 933, 'indeed': 934, 'fabulous': 935, 'theater': 936, 'billy': 937, 'trilogy': 938, 'talented': 939, 'disaster': 940, 'judge': 941, 'earlier': 942, 'directed': 943, 'intelligence': 944, 'delivers': 945, 'pretentious': 946, 'anne': 947, 'checking': 948, 'james': 949, 'ring': 950, 'soggy': 951, 'four': 952, 'cheese': 953, 'produced': 954, 'fi': 955, 'pancake': 956, 'hummus': 957, 'supposedly': 958, 'effort': 959, 'excuse': 960, 'supposed': 961, 'sunglass': 962, 'jawbone': 963, 'pita': 964, 'american': 965, 'clich': 966, 'biggest': 967, 'treated': 968, 'gone': 969, 'worthless': 970, 'sprint': 971, 'nobody': 972, 'ate': 973, 'letting': 974, 'disappoint': 975, 'patio': 976, 'seating': 977, 'salt': 978, 'save': 979, 'sitting': 980, 'ended': 981, 'spend': 982, 'scenery': 983, 'power': 984, 'load': 985, 'keypad': 986, 'message': 987, 'wasting': 988, 'dark': 989, 'saying': 990, 'close': 991, 'tea': 992, 'lacking': 993, 'putting': 994, 'boy': 995, 'support': 996, 'properly': 997, 'bean': 998, 'ten': 999, 'lovely': 1000, 'event': 1001, 'pack': 1002, 'wife': 1003, 'constructed': 1004, 'chewy': 1005, 'pleasant': 1006, 'treat': 1007, 'sashimi': 1008, 'speaker': 1009, 'pork': 1010, 'immediately': 1011, 'tom': 1012, 'female': 1013, 'animation': 1014, 'miyazaki': 1015, 'keyboard': 1016, 'woman': 1017, 'happen': 1018, 'setup': 1019, 'beep': 1020, 'combination': 1021, 'biscuit': 1022, 'mickey': 1023, 'folk': 1024, 'mini': 1025, 'everywhere': 1026, 'green': 1027, 'smart': 1028, 'unreliable': 1029, 'era': 1030, 'ripped': 1031, 'convenient': 1032, 'stopped': 1033, 'final': 1034, 'sea': 1035, 'sat': 1036, 'usb': 1037, 'gem': 1038, 'microphone': 1039, 'returned': 1040, 'par': 1041, 'tinny': 1042, 'bill': 1043, 'delightful': 1044, 'twist': 1045, 'generally': 1046, 'vibe': 1047, 'market': 1048, 'wooden': 1049, 'space': 1050, 'mature': 1051, 'apart': 1052, 'included': 1053, 'lover': 1054, 'yes': 1055, 'pg': 1056, 'moment': 1057, 'grace': 1058, 'regret': 1059, 'front': 1060, 'reading': 1061, 'gross': 1062, 'martin': 1063, 'sounded': 1064, 'relation': 1065, 'chinese': 1066, 'torture': 1067, 'los': 1068, 'angeles': 1069, 'begin': 1070, 'tip': 1071, 'lead': 1072, 'visit': 1073, 'appears': 1074, 'reasonably': 1075, 'outlet': 1076, 'passed': 1077, 'anytime': 1078, 'disgusting': 1079, 'expensive': 1080, 'doubt': 1081, 'honest': 1082, 'vegetable': 1083, 'neither': 1084, 'hoping': 1085, 'network': 1086, 'sorry': 1087, 'glass': 1088, 'noise': 1089, 'construction': 1090, 'ambience': 1091, 'professional': 1092, 'creamy': 1093, 'fascinating': 1094, 'telephone': 1095, 'reaction': 1096, 'undercooked': 1097, 'dry': 1098, 'texture': 1099, 'underwhelming': 1100, 'tap': 1101, 'highlight': 1102, 'spot': 1103, 'unbearable': 1104, 'charisma': 1105, 'protection': 1106, 'bartender': 1107, 'smoke': 1108, 'logitech': 1109, 'stir': 1110, 'purpose': 1111, 'brick': 1112, 'oven': 1113, 'f': 1114, 'join': 1115, 'club': 1116, 'via': 1117, 'stomach': 1118, 'complain': 1119, 'vehicle': 1120, 'box': 1121, 'match': 1122, 'understanding': 1123, 'tremendously': 1124, 'lobster': 1125, 'chick': 1126, 'dealing': 1127, 'employee': 1128, 'refill': 1129, 'ugly': 1130, 'ringing': 1131, 'junkyard': 1132, 'adapter': 1133, 'current': 1134, 'definately': 1135, 'sharply': 1136, 'european': 1137, 'student': 1138, 'circumstance': 1139, 'modest': 1140, 'pda': 1141, 'shipped': 1142, 'promptly': 1143, 'wide': 1144, 'choose': 1145, 'sens': 1146, 'move': 1147, 'correct': 1148, 'dumb': 1149, 'zombie': 1150, 'removing': 1151, 'needle': 1152, 'understated': 1153, 'joy': 1154, 'shed': 1155, 'tear': 1156, 'cult': 1157, 'bakery': 1158, 'assistant': 1159, 'smile': 1160, 'de': 1161, 'creates': 1162, 'finger': 1163, 'basic': 1164, 'focus': 1165, 'episode': 1166, 'sand': 1167, 'freedom': 1168, 'flawlessly': 1169, 'enter': 1170, 'overwhelmed': 1171, 'delivery': 1172, 'communication': 1173, 'faster': 1174, 'static': 1175, 'step': 1176, 'excited': 1177, 'similar': 1178, 'cheaper': 1179, 'predictably': 1180, 'terribly': 1181, 'ordering': 1182, 'angry': 1183, 'cradle': 1184, 'mark': 1185, 'possibly': 1186, 'wrap': 1187, 'delish': 1188, 'tuna': 1189, 'painful': 1190, 'cashier': 1191, 'brought': 1192, 'miss': 1193, 'warmth': 1194, 'contrast': 1195, 'peter': 1196, 'abysmal': 1197, 'impossible': 1198, 'spoil': 1199, 'writer': 1200, 'achievement': 1201, 'timely': 1202, 'culture': 1203, 'disturbing': 1204, 'distorted': 1205, 'remaining': 1206, 'build': 1207, 'laughable': 1208, 'hell': 1209, 'villain': 1210, 'write': 1211, 'giallo': 1212, 'season': 1213, 'consistent': 1214, 'mainly': 1215, 'center': 1216, 'cheesy': 1217, 'asleep': 1218, 'betty': 1219, 'soul': 1220, 'pro': 1221, 'cumbersome': 1222, 'finish': 1223, 'fire': 1224, 'killer': 1225, 'boost': 1226, 'cole': 1227, 'jerky': 1228, 'standard': 1229, 'wind': 1230, 'lion': 1231, 'identify': 1232, 'connery': 1233, 'overcooked': 1234, 'charcoal': 1235, 'development': 1236, 'following': 1237, 'whine': 1238, 'roast': 1239, 'bachi': 1240, 'gon': 1241, 'na': 1242, 'bagel': 1243, 'docking': 1244, 'echo': 1245, 'unsatisfactory': 1246, 'duck': 1247, 'char': 1248, 'realized': 1249, 'depicts': 1250, 'driving': 1251, 'usually': 1252, 'unhappy': 1253, 'taking': 1254, 'lesser': 1255, 'racism': 1256, 'advertised': 1257, 'sunday': 1258, 'began': 1259, 'treo': 1260, 'discount': 1261, 'operate': 1262, 'stanwyck': 1263, 'morgan': 1264, 'unique': 1265, 'finished': 1266, 'plate': 1267, 'idiot': 1268, 'narrative': 1269, 'engaging': 1270, 'became': 1271, 'class': 1272, 'nacho': 1273, 'notable': 1274, 'colored': 1275, 'costume': 1276, 'coppola': 1277, 'flash': 1278, 'acted': 1279, 'hence': 1280, 'certain': 1281, 'chilly': 1282, 'bore': 1283, 'lousy': 1284, 'contained': 1285, 'frankly': 1286, 'realistic': 1287, 'talent': 1288, 'speak': 1289, 'site': 1290, 'chance': 1291, 'aerial': 1292, 'deeply': 1293, 'interest': 1294, 'sequence': 1295, 'crafted': 1296, 'sour': 1297, 'wise': 1298, 'matter': 1299, 'rank': 1300, 'psychological': 1301, 'tremendous': 1302, 'expectation': 1303, 'gripping': 1304, 'camerawork': 1305, 'summary': 1306, 'witty': 1307, 'cease': 1308, 'favourite': 1309, 'french': 1310, 'suffering': 1311, 'vomited': 1312, 'unfolds': 1313, 'lie': 1314, 'sublime': 1315, 'offensive': 1316, 'poetry': 1317, 'rice': 1318, 'reminded': 1319, 'adaptation': 1320, 'judging': 1321, 'prompt': 1322, 'japanese': 1323, 'hopefully': 1324, 'length': 1325, 'changing': 1326, 'worthwhile': 1327, 'open': 1328, 'broken': 1329, 'filling': 1330, 'pricing': 1331, 'secure': 1332, 'opened': 1333, 'assure': 1334, 'building': 1335, 'neat': 1336, 'scale': 1337, 'balance': 1338, 'spring': 1339, 'tot': 1340, 'meh': 1341, 'auto': 1342, 'reverse': 1343, 'industry': 1344, 'valley': 1345, 'excellently': 1346, 'typical': 1347, 'sci': 1348, 'brand': 1349, 'alone': 1350, 'ample': 1351, 'crashed': 1352, 'wild': 1353, 'defective': 1354, 'pure': 1355, 'serve': 1356, 'indian': 1357, 'apparently': 1358, 'handy': 1359, 'bear': 1360, 'god': 1361, 'male': 1362, 'pad': 1363, 'switch': 1364, 'wearing': 1365, 'personally': 1366, 'learn': 1367, 'compromise': 1368, 'whiny': 1369, 'careful': 1370, 'redeeming': 1371, 'blew': 1372, 'refreshing': 1373, 'lightly': 1374, 'badly': 1375, 'pan': 1376, 'described': 1377, 'fail': 1378, 'presentation': 1379, 'entree': 1380, 'carry': 1381, 'moto': 1382, 'thus': 1383, 'otherwise': 1384, 'catching': 1385, 'lane': 1386, 'warranty': 1387, 'produce': 1388, 'luck': 1389, 'access': 1390, 'brother': 1391, 'mall': 1392, 'middle': 1393, 'greeted': 1394, 'mercy': 1395, 'c': 1396, 'falling': 1397, 'filet': 1398, 'pepper': 1399, 'shelf': 1400, 'model': 1401, 'favor': 1402, 'aspect': 1403, 'buzzing': 1404, 'override': 1405, 'ryan': 1406, 'giving': 1407, 'regular': 1408, 'brian': 1409, 'disbelief': 1410, 'version': 1411, 'joint': 1412, 'dangerous': 1413, 'rated': 1414, 'except': 1415, 'covered': 1416, 'group': 1417, 'handled': 1418, 'baby': 1419, 'macbeth': 1420, 'blood': 1421, 'essentially': 1422, 'pulled': 1423, 'acknowledged': 1424, 'gosh': 1425, 'healthy': 1426, 'summer': 1427, 'cow': 1428, 'tongue': 1429, 'cheek': 1430, 'pair': 1431, 'provides': 1432, 'thank': 1433, 'dollar': 1434, 'mad': 1435, 'tribute': 1436, 'major': 1437, 'involved': 1438, 'sandra': 1439, 'bullock': 1440, 'producer': 1441, 'user': 1442, 'discomfort': 1443, 'refund': 1444, 'mary': 1445, 'edge': 1446, 'familiar': 1447, 'scared': 1448, 'footage': 1449, 'awkwardly': 1450, 'english': 1451, 'jerk': 1452, 'unconvincing': 1453, 'cardboard': 1454, 'jean': 1455, 'door': 1456, 'wilkinson': 1457, 'unacceptable': 1458, 'flop': 1459, 'talking': 1460, 'grill': 1461, 'downtown': 1462, 'built': 1463, 'nun': 1464, 'touching': 1465, 'church': 1466, 'mom': 1467, 'pop': 1468, 'shop': 1469, 'bay': 1470, 'thick': 1471, 'sleek': 1472, 'storage': 1473, 'lighting': 1474, 'dine': 1475, 'pc': 1476, 'cook': 1477, 'mouse': 1478, 'famous': 1479, 'ground': 1480, 'bottom': 1481, 'extraordinary': 1482, 'limited': 1483, 'crab': 1484, 'leg': 1485, 'regarding': 1486, 'add': 1487, 'iphone': 1488, 'rarely': 1489, 'eggplant': 1490, 'worry': 1491, 'cake': 1492, 'remake': 1493, 'accept': 1494, 'window': 1495, 'medium': 1496, 'glance': 1497, 'grilled': 1498, 'loop': 1499, 'tiny': 1500, 'pairing': 1501, 'disrespected': 1502, 'preparing': 1503, 'brief': 1504, 'decay': 1505, 'force': 1506, 'fill': 1507, 'practically': 1508, 'faux': 1509, 'boba': 1510, 'allows': 1511, 'watkins': 1512, 'neighborhood': 1513, 'jimmy': 1514, 'duet': 1515, 'underlying': 1516, 'rubber': 1517, 'double': 1518, 'jack': 1519, 'functionality': 1520, 'eaten': 1521, 'question': 1522, 'loneliness': 1523, 'tapa': 1524, 'plenty': 1525, 'ipod': 1526, 'drawing': 1527, 'coffee': 1528, 'cafe': 1529, 'decorated': 1530, 'edible': 1531, 'stereotype': 1532, 'surprising': 1533, 'hollywood': 1534, 'performed': 1535, 'subject': 1536, 'neil': 1537, 'seamlessly': 1538, 'uncomfortable': 1539, 'vx': 1540, 'genius': 1541, 'overacting': 1542, 'occasionally': 1543, 'dramatic': 1544, 'imaginable': 1545, 'buck': 1546, 'butter': 1547, 'fare': 1548, 'blackberry': 1549, 'early': 1550, 'create': 1551, 'canada': 1552, 'interested': 1553, 'unfunny': 1554, 'generic': 1555, 'managed': 1556, 'hill': 1557, 'lazy': 1558, 'presence': 1559, 'obvious': 1560, 'g': 1561, 'paul': 1562, 'handle': 1563, 'bold': 1564, 'crayon': 1565, 'numerous': 1566, 'street': 1567, 'wont': 1568, 'war': 1569, 'reality': 1570, 'unusable': 1571, 'advise': 1572, 'attractive': 1573, 'utter': 1574, 'exchange': 1575, 'maintain': 1576, 'share': 1577, 'consumer': 1578, 'peanut': 1579, 'overly': 1580, 'race': 1581, 'jamie': 1582, 'change': 1583, 'strange': 1584, 'forgetting': 1585, 'indoor': 1586, 'cocktail': 1587, 'afternoon': 1588, 'dirt': 1589, 'behind': 1590, 'continue': 1591, 'kinda': 1592, 'satisfying': 1593, 'volcano': 1594, 'tough': 1595, 'occupied': 1596, 'older': 1597, 'mid': 1598, 'surprised': 1599, 'focused': 1600, 'spice': 1601, 'fat': 1602, 'describe': 1603, 'dialing': 1604, 'combo': 1605, 'igo': 1606, 'transfer': 1607, 'entirely': 1608, 'shakespear': 1609, 'update': 1610, 'girlfriend': 1611, 'stated': 1612, 'difference': 1613, 'outstanding': 1614, 'classy': 1615, 'appetizer': 1616, 'wave': 1617, 'confusing': 1618, 'hollow': 1619, 'cat': 1620, 'struggle': 1621, 'flower': 1622, 'homemade': 1623, 'legit': 1624, 'download': 1625, 'past': 1626, 'wayne': 1627, 'extended': 1628, 'caused': 1629, 'created': 1630, 'earbud': 1631, 'chow': 1632, 'la': 1633, 'function': 1634, 'technology': 1635, 'toast': 1636, 'frozen': 1637, 'yum': 1638, 'computer': 1639, 'expert': 1640, 'nonsense': 1641, 'earphone': 1642, 'compliment': 1643, 'curry': 1644, 'purchasing': 1645, 'others': 1646, 'scream': 1647, 'bug': 1648, 'seat': 1649, 'deserving': 1650, 'award': 1651, 'central': 1652, 'card': 1653, 'aside': 1654, 'opinion': 1655, 'childhood': 1656, 'knew': 1657, 'bowl': 1658, 'sex': 1659, 'turkey': 1660, 'hardly': 1661, 'somewhat': 1662, 'doctor': 1663, 'quinn': 1664, 'astronaut': 1665, 'die': 1666, 'blown': 1667, 'losing': 1668, 'frustration': 1669, 'install': 1670, 'balanced': 1671, 'blah': 1672, 'proceeding': 1673, 'remotely': 1674, 'america': 1675, 'staying': 1676, 'serf': 1677, 'nyc': 1678, 'laptop': 1679, 'gel': 1680, 'sugary': 1681, 'scallop': 1682, 'reader': 1683, 'scratched': 1684, 'lose': 1685, 'figure': 1686, 'portraying': 1687, 'mood': 1688, 'tooth': 1689, 'studio': 1690, 'winner': 1691, 'latest': 1692, 'att': 1693, 'perfection': 1694, 'grossed': 1695, 'additional': 1696, 'ponyo': 1697, 'hair': 1698, 'toasted': 1699, 'bye': 1700, 'comfort': 1701, 'answer': 1702, 'soooo': 1703, 'filmed': 1704, 'stocking': 1705, 'monster': 1706, 'ups': 1707, 'subway': 1708, 'noticed': 1709, 'fly': 1710, 'vomit': 1711, 'listening': 1712, 'wholesome': 1713, 'stale': 1714, 'accidentally': 1715, 'coach': 1716, 'repair': 1717, 'bitchy': 1718, 'bos': 1719, 'ninja': 1720, 'rotating': 1721, 'contstruct': 1722, 'hinge': 1723, 'comedic': 1724, 'timing': 1725, 'unbelievably': 1726, 'bulky': 1727, 'personable': 1728, 'profound': 1729, 'deuchebaggery': 1730, 'serving': 1731, 'solidify': 1732, 'noodle': 1733, 'disagree': 1734, 'fellow': 1735, 'yelpers': 1736, 'dual': 1737, 'ergonomic': 1738, 'theory': 1739, 'bela': 1740, 'lugosi': 1741, 'extraneous': 1742, 'intoning': 1743, 'app': 1744, 'email': 1745, 'motion': 1746, 'needlessly': 1747, 'repeat': 1748, 'backed': 1749, 'continuity': 1750, 'corn': 1751, 'flake': 1752, 'directorial': 1753, 'bordered': 1754, 'stupidity': 1755, 'photo': 1756, 'ad': 1757, 'patient': 1758, 'downside': 1759, 'maine': 1760, 'scare': 1761, 'medical': 1762, 'terminology': 1763, 'iffy': 1764, 'insulin': 1765, 'dependant': 1766, 'diabetic': 1767, 'bluetoooth': 1768, 'pleasure': 1769, 'lettuce': 1770, 'hbo': 1771, 'drivng': 1772, 'decide': 1773, 'romantic': 1774, 'laughed': 1775, 'forgot': 1776, 'definitly': 1777, 'provide': 1778, 'steamboat': 1779, 'willie': 1780, 'amazingly': 1781, 'protects': 1782, 'stinker': 1783, 'direct': 1784, 'release': 1785, 'earpad': 1786, 'ensued': 1787, 'crack': 1788, 'sadly': 1789, 'gordon': 1790, 'ramsey': 1791, 'shall': 1792, 'throwback': 1793, 'abroad': 1794, 'interacting': 1795, 'nationality': 1796, 'slightly': 1797, 'picked': 1798, 'w': 1799, 'earbugs': 1800, 'cellular': 1801, 'array': 1802, 'revenge': 1803, 'boogeyman': 1804, 'zombiez': 1805, 'hellish': 1806, 'trinity': 1807, 'assaulted': 1808, 'strident': 1809, 'cord': 1810, 'blare': 1811, 'coupon': 1812, 'uplifting': 1813, 'deliciously': 1814, 'seasoned': 1815, 'hella': 1816, 'salty': 1817, 'established': 1818, 'necklace': 1819, 'containing': 1820, 'meteorite': 1821, 'courtroom': 1822, 'eew': 1823, 'overhaul': 1824, 'campy': 1825, 'underneath': 1826, 'malta': 1827, 'barren': 1828, 'hockey': 1829, 'defensemen': 1830, 'goalie': 1831, 'diving': 1832, 'net': 1833, 'superficial': 1834, 'stagey': 1835, 'farce': 1836, 'pyromaniac': 1837, 'waylaid': 1838, 'switched': 1839, 'yawn': 1840, 'educational': 1841, 'barney': 1842, 'duper': 1843, 'babie': 1844, 'bop': 1845, 'storm': 1846, 'trooper': 1847, 'informative': 1848, 'tick': 1849, 'background': 1850, 'universe': 1851, 'imdb': 1852, 'interview': 1853, 'vampire': 1854, 'lestat': 1855, 'stuart': 1856, 'townsend': 1857, 'cruise': 1858, 'inspiration': 1859, 'overcome': 1860, 'rejection': 1861, 'sidelined': 1862, 'inexplicable': 1863, 'crew': 1864, 'thunderbird': 1865, 'filmmaker': 1866, 'hide': 1867, 'corded': 1868, 'suited': 1869, 'relatively': 1870, 'luke': 1871, 'sever': 1872, 'vanilla': 1873, 'smooth': 1874, 'profiterole': 1875, 'chou': 1876, 'pastry': 1877, 'motorolas': 1878, 'entertainment': 1879, 'activesync': 1880, 'optimal': 1881, 'synchronization': 1882, 'inconspicuous': 1883, 'president': 1884, 'potted': 1885, 'plant': 1886, 'strength': 1887, 'renowned': 1888, 'screenwriter': 1889, 'france': 1890, 'marion': 1891, 'impression': 1892, 'shocked': 1893, 'indicate': 1894, 'cash': 1895, 'timeframe': 1896, 'source': 1897, 'nobu': 1898, 'contract': 1899, 'competitor': 1900, 'speaking': 1901, 'unbearably': 1902, 'kitchy': 1903, 'stream': 1904, 'submerged': 1905, 'convey': 1906, 'broad': 1907, 'sweep': 1908, 'landscape': 1909, 'hundred': 1910, 'europe': 1911, 'asia': 1912, 'voodoo': 1913, 'gluten': 1914, 'kit': 1915, 'snow': 1916, 'accommodation': 1917, 'recall': 1918, 'including': 1919, 'meatloaf': 1920, 'crispy': 1921, 'accessory': 1922, 'manufacturer': 1923, 'penny': 1924, 'philadelphia': 1925, 'generates': 1926, 'austere': 1927, 'backdrop': 1928, 'telly': 1929, 'savalas': 1930, 'boyle': 1931, 'sheer': 1932, 'tedium': 1933, 'melodrama': 1934, 'sinking': 1935, 'lord': 1936, 'atrocious': 1937, 'establish': 1938, 'sub': 1939, 'follows': 1940, 'band': 1941, 'latter': 1942, 'mansonites': 1943, 'reporter': 1944, 'anniversary': 1945, 'indication': 1946, 'meld': 1947, 'volatile': 1948, 'temperament': 1949, 'seamless': 1950, 'union': 1951, 'creativity': 1952, 'powerhouse': 1953, 'fascination': 1954, 'celebrity': 1955, 'interpretation': 1956, 'fame': 1957, 'forgotten': 1958, 'kevin': 1959, 'spacey': 1960, 'verbal': 1961, 'tsunami': 1962, 'buddy': 1963, 'ackerman': 1964, 'scripting': 1965, 'unmatched': 1966, 'younger': 1967, 'reference': 1968, 'galley': 1969, 'forwarded': 1970, 'horrendously': 1971, 'slightest': 1972, 'captain': 1973, 'howdy': 1974, 'semi': 1975, 'truck': 1976, 'linda': 1977, 'cardellini': 1978, 'poised': 1979, 'dee': 1980, 'snider': 1981, 'act': 1982, 'sleep': 1983, 'pacing': 1984, 'sophisticated': 1985, 'miserably': 1986, 'unoriginal': 1987, 'cinematic': 1988, 'captured': 1989, 'celluloid': 1990, 'fulci': 1991, 'supernatural': 1992, 'thread': 1993, 'leni': 1994, 'parker': 1995, 'anita': 1996, 'laselva': 1997, 'taelons': 1998, 'idealogical': 1999, 'dislike': 2000, 'explains': 2001, 'sinister': 2002, 'origin': 2003, 'x': 2004, 'insomniac': 2005, 'heartwarming': 2006, 'chasing': 2007, 'nurse': 2008, 'unpredictability': 2009, 'body': 2010, 'frenchman': 2011, 'posted': 2012, 'detailed': 2013, 'grey': 2014, 'chai': 2015, 'latte': 2016, 'routine': 2017, 'based': 2018, 'flavourful': 2019, 'meredith': 2020, 'craving': 2021, 'satisifed': 2022, 'movement': 2023, 'regardless': 2024, 'similarly': 2025, 'apology': 2026, 'gold': 2027, 'raw': 2028, 'sublimely': 2029, 'witnessed': 2030, 'uninspired': 2031, 'largely': 2032, 'sean': 2033, 'noble': 2034, 'brigand': 2035, 'candace': 2036, 'bergen': 2037, 'feisty': 2038, 'heroine': 2039, 'wily': 2040, 'hay': 2041, 'kanaly': 2042, 'spiffy': 2043, 'radiant': 2044, 'ruthless': 2045, 'lieutenant': 2046, 'roosevelt': 2047, 'portable': 2048, 'research': 2049, 'division': 2050, 'schoolers': 2051, 'cry': 2052, 'mortified': 2053, 'correctly': 2054, 'government': 2055, 'scientist': 2056, 'argued': 2057, 'humanity': 2058, 'grade': 2059, 'z': 2060, 'drag': 2061, 'darn': 2062, 'grocery': 2063, 'correction': 2064, 'heimer': 2065, 'pitch': 2066, 'unwrapped': 2067, 'mile': 2068, 'brushfire': 2069, 'file': 2070, 'browser': 2071, 'maria': 2072, 'pink': 2073, 'stretch': 2074, 'closed': 2075, 'virgin': 2076, 'bell': 2077, 'whistle': 2078, 'accent': 2079, 'loudest': 2080, 'jessice': 2081, 'lange': 2082, 'clothes': 2083, 'matrix': 2084, 'mindblowing': 2085, 'kudos': 2086, 'worker': 2087, 'crash': 2088, 'depressing': 2089, 'provokes': 2090, 'teach': 2091, 'prejudice': 2092, 'loudspeaker': 2093, 'bumper': 2094, 'sals': 2095, 'wrongly': 2096, 'march': 2097, 'taped': 2098, 'refused': 2099, 'upgrade': 2100, 'interface': 2101, 'decade': 2102, 'compete': 2103, 'equivalent': 2104, 'dickens': 2105, 'carol': 2106, 'sensibility': 2107, 'highlighted': 2108, 'rge': 2109, 'fillet': 2110, 'relleno': 2111, 'savant': 2112, 'dimensional': 2113, 'pic': 2114, 'wrapped': 2115, 'continuously': 2116, 'bertolucci': 2117, 'attempting': 2118, 'artiness': 2119, 'existent': 2120, 'college': 2121, 'cooking': 2122, 'timeless': 2123, 'colder': 2124, 'fella': 2125, 'huevos': 2126, 'rancheros': 2127, 'ringer': 2128, 'bailey': 2129, 'eiko': 2130, 'ishioka': 2131, 'dracula': 2132, 'deserved': 2133, 'randomly': 2134, 'locked': 2135, 'sentiment': 2136, 'doughy': 2137, 'flavorless': 2138, 'legendary': 2139, 'biographical': 2140, 'musician': 2141, 'ironically': 2142, 'secondly': 2143, 'perfected': 2144, 'chase': 2145, 'pandering': 2146, 'sabotage': 2147, 'rumble': 2148, 'desperately': 2149, 'depending': 2150, 'logic': 2151, 'mishima': 2152, 'uninteresting': 2153, 'unremarkable': 2154, 'author': 2155, 'abstruse': 2156, 'reenactment': 2157, 'emotionally': 2158, 'adrift': 2159, 'stagy': 2160, 'sits': 2161, 'soldier': 2162, 'singing': 2163, 'masculinity': 2164, 'pledge': 2165, 'hairsplitting': 2166, 'purity': 2167, 'admiration': 2168, 'sword': 2169, 'kill': 2170, 'momentum': 2171, 'quicker': 2172, 'schrader': 2173, 'resume': 2174, 'amateurish': 2175, 'fascinated': 2176, 'inconsistency': 2177, 'horrid': 2178, 'ballet': 2179, 'repertory': 2180, 'woa': 2181, 'sappiest': 2182, 'unwatchable': 2183, 'filmography': 2184, 'intention': 2185, 'undertone': 2186, 'fifty': 2187, 'existential': 2188, 'weariness': 2189, 'ought': 2190, 'regrettably': 2191, 'expression': 2192, 'celebration': 2193, 'patriotism': 2194, 'underline': 2195, 'june': 2196, 'allison': 2197, 'concert': 2198, 'ridiculousness': 2199, 'surface': 2200, 'superbly': 2201, 'state': 2202, 'conceptually': 2203, 'everybody': 2204, 'fantasy': 2205, 'considered': 2206, 'understood': 2207, 'identified': 2208, 'noir': 2209, 'crime': 2210, 'belmondo': 2211, 'lino': 2212, 'ventura': 2213, 'complex': 2214, 'detailing': 2215, 'loyalty': 2216, 'treachery': 2217, 'melville': 2218, 'manages': 2219, 'transcend': 2220, 'limitation': 2221, 'indie': 2222, 'continually': 2223, 'subverting': 2224, 'emerge': 2225, 'intense': 2226, 'crocdodile': 2227, 'believed': 2228, 'crocs': 2229, 'swamp': 2230, 'christopher': 2231, 'eccleston': 2232, 'tardis': 2233, 'continuation': 2234, 'succeeded': 2235, 'pi': 2236, 'witticism': 2237, 'bob': 2238, 'rise': 2239, 'finale': 2240, 'kieslowski': 2241, 'amaze': 2242, 'colour': 2243, 'flag': 2244, 'visually': 2245, 'survivor': 2246, 'ferry': 2247, 'valentine': 2248, 'solidifying': 2249, 'happiness': 2250, 'dealt': 2251, 'roth': 2252, 'pearl': 2253, 'awarded': 2254, 'eloquently': 2255, 'francis': 2256, 'ford': 2257, 'gradually': 2258, 'develop': 2259, 'nicola': 2260, 'roeg': 2261, 'wih': 2262, 'translating': 2263, 'strives': 2264, 'greatness': 2265, 'muddled': 2266, 'disparate': 2267, 'accurately': 2268, 'defined': 2269, 'sensitivity': 2270, 'treatment': 2271, 'waterproof': 2272, 'shipment': 2273, 'stranger': 2274, 'evinced': 2275, 'faithful': 2276, 'joyce': 2277, 'acclaimed': 2278, 'novella': 2279, 'caught': 2280, 'inspired': 2281, 'drunk': 2282, 'eclectic': 2283, 'dude': 2284, 'cox': 2285, 'win': 2286, 'metro': 2287, 'rubbish': 2288, 'researched': 2289, 'title': 2290, 'crepe': 2291, 'murky': 2292, 'related': 2293, 'hawaiian': 2294, 'breeze': 2295, 'mango': 2296, 'magic': 2297, 'pineapple': 2298, 'smoothy': 2299, 'concern': 2300, 'mellow': 2301, 'mushroom': 2302, 'cr': 2303, 'pe': 2304, 'delicate': 2305, 'reheated': 2306, 'wedge': 2307, 'glove': 2308, 'durable': 2309, 'receiving': 2310, 'trippy': 2311, 'latch': 2312, 'visor': 2313, 'reversible': 2314, 'tater': 2315, 'southwest': 2316, 'screamy': 2317, 'masculine': 2318, 'arrives': 2319, 'friday': 2320, 'blow': 2321, 'tape': 2322, 'hospitality': 2323, 'paradise': 2324, 'refrained': 2325, 'recommending': 2326, 'cibo': 2327, 'milkshake': 2328, 'chocolate': 2329, 'milk': 2330, 'replaced': 2331, 'seasonal': 2332, 'fruit': 2333, 'peach': 2334, 'puree': 2335, 'leopard': 2336, 'print': 2337, 'nonetheless': 2338, 'applauded': 2339, 'composed': 2340, 'sense': 2341, 'confuses': 2342, 'relate': 2343, 'naan': 2344, 'pine': 2345, 'okay': 2346, 'fair': 2347, 'critic': 2348, 'creature': 2349, 'linked': 2350, 'humor': 2351, 'pitiful': 2352, 'dosen': 2353, 'involves': 2354, 'vulcan': 2355, 'stealing': 2356, 'enterprise': 2357, 'uhura': 2358, 'distract': 2359, 'guard': 2360, 'slacker': 2361, 'mac': 2362, 'unlike': 2363, 'popcorn': 2364, 'hackneyed': 2365, 'border': 2366, 'rocketed': 2367, 'destination': 2368, 'unknown': 2369, 'hat': 2370, 'errol': 2371, 'flynn': 2372, 'dad': 2373, 'grew': 2374, 'involving': 2375, 'copier': 2376, 'tartar': 2377, 'plantronincs': 2378, 'continues': 2379, 'fest': 2380, 'spoiled': 2381, 'brat': 2382, 'babysitting': 2383, 'disgraceful': 2384, 'mirrormask': 2385, 'lasted': 2386, 'tungsten': 2387, 'underwater': 2388, 'repeated': 2389, 'thousand': 2390, 'notch': 2391, 'vinaigrette': 2392, 'hatred': 2393, 'admitted': 2394, 'concrete': 2395, 'knock': 2396, 'wood': 2397, 'behing': 2398, 'comfortible': 2399, 'pain': 2400, 'plantain': 2401, 'smallest': 2402, 'eve': 2403, 'dressed': 2404, 'rudely': 2405, 'bottowm': 2406, 'gimmick': 2407, 'disapppointment': 2408, 'macarons': 2409, 'insanely': 2410, 'jim': 2411, 'connor': 2412, 'energetic': 2413, 'george': 2414, 'dull': 2415, 'transmit': 2416, 'linear': 2417, 'narration': 2418, 'flashback': 2419, 'articulated': 2420, 'smoking': 2421, 'lastly': 2422, 'mozzarella': 2423, 'counterfeit': 2424, 'tolerance': 2425, 'polite': 2426, 'wash': 2427, 'freezing': 2428, 'littered': 2429, 'overt': 2430, 'racial': 2431, 'slur': 2432, 'depicted': 2433, 'moron': 2434, 'boob': 2435, 'apologize': 2436, 'frog': 2437, 'lower': 2438, 'contacted': 2439, 'receipt': 2440, 'instance': 2441, 'law': 2442, 'beeping': 2443, 'dieing': 2444, 'surefire': 2445, 'gx': 2446, 'fianc': 2447, 'derivative': 2448, 'accessoryone': 2449, 'grtting': 2450, 'proudly': 2451, 'classical': 2452, 'wb': 2453, 'psyched': 2454, 'appointment': 2455, 'del': 2456, 'avoided': 2457, 'transformed': 2458, 'organizational': 2459, 'capability': 2460, 'heavy': 2461, 'bisque': 2462, 'bussell': 2463, 'sprout': 2464, 'risotto': 2465, 'flavored': 2466, 'smartphone': 2467, 'actual': 2468, 'paint': 2469, 'photograph': 2470, 'loos': 2471, 'packaged': 2472, 'nicely': 2473, 'damage': 2474, 'squib': 2475, 'omg': 2476, 'delicioso': 2477, 'ideal': 2478, 'whose': 2479, 'sensitive': 2480, 'generous': 2481, 'motor': 2482, 'voltage': 2483, 'humming': 2484, 'equipment': 2485, 'edinburgh': 2486, 'revisiting': 2487, 'protector': 2488, 'understatement': 2489, 'clipping': 2490, 'deffinitely': 2491, 'cent': 2492, 'concept': 2493, 'victor': 2494, 'mclaglen': 2495, 'donlevy': 2496, 'unrecognizable': 2497, 'qualified': 2498, 'bag': 2499, 'stephen': 2500, 'mchattie': 2501, 'lance': 2502, 'hendrikson': 2503, 'raging': 2504, 'cheekbone': 2505, 'mail': 2506, 'backlight': 2507, 'spaghetti': 2508, 'sitcom': 2509, 'oriented': 2510, 'teenager': 2511, 'waaaaaayyyyyyyyyy': 2512, 'improve': 2513, 'leak': 2514, 'poignant': 2515, 'iced': 2516, 'buyer': 2517, 'lense': 2518, 'manual': 2519, 'earth': 2520, 'iron': 2521, 'claimed': 2522, 'earset': 2523, 'outgoing': 2524, 'helen': 2525, 'baxendale': 2526, 'credible': 2527, 'cheerfull': 2528, 'naughty': 2529, 'deadly': 2530, 'evil': 2531, 'microsoft': 2532, 'tech': 2533, 'daily': 2534, 'enjoyment': 2535, 'detail': 2536, 'dysfunction': 2537, 'fox': 2538, 'channel': 2539, 'installed': 2540, 'overnite': 2541, 'comfortably': 2542, 'refried': 2543, 'dried': 2544, 'crusty': 2545, 'forty': 2546, 'vain': 2547, 'possesed': 2548, 'furthermore': 2549, 'operation': 2550, 'efficient': 2551, 'kiddos': 2552, 'recharge': 2553, 'frequentyly': 2554, 'followed': 2555, 'absolutley': 2556, 'relax': 2557, 'extensive': 2558, 'exciting': 2559, 'driest': 2560, 'ticket': 2561, 'nine': 2562, 'hereas': 2563, 'held': 2564, 'rickman': 2565, 'stowe': 2566, 'hilt': 2567, 'childrens': 2568, 'subversive': 2569, 'tract': 2570, 'tied': 2571, 'shawarrrrrrma': 2572, 'added': 2573, 'bonus': 2574, 'includes': 2575, 'shatner': 2576, 'nimoy': 2577, 'washed': 2578, 'tacky': 2579, 'spock': 2580, 'rescue': 2581, 'kirk': 2582, 'jet': 2583, 'mountain': 2584, 'ben': 2585, 'affleck': 2586, 'leaving': 2587, 'knocked': 2588, 'scot': 2589, 'vandiver': 2590, 'blanket': 2591, 'moz': 2592, 'subpar': 2593, 'tracfonewebsite': 2594, 'toactivate': 2595, 'navigate': 2596, 'recessed': 2597, 'push': 2598, 'near': 2599, 'causing': 2600, 'saved': 2601, 'alot': 2602, 'cheesecurds': 2603, 'genuinely': 2604, 'enthusiastic': 2605, 'bloddy': 2606, 'indescribably': 2607, 'idiotic': 2608, 'disapoinment': 2609, 'intermittently': 2610, 'cutting': 2611, 'sit': 2612, 'revealing': 2613, 'uneasy': 2614, 'blueant': 2615, 'supertooth': 2616, 'guacamole': 2617, 'pur': 2618, 'elderly': 2619, 'babbling': 2620, 'overwrought': 2621, 'pseudo': 2622, 'satanic': 2623, 'gibberish': 2624, 'corny': 2625, 'teen': 2626, 'goth': 2627, 'blush': 2628, 'olde': 2629, 'latin': 2630, 'blandly': 2631, 'edward': 2632, 'chodorov': 2633, 'negulesco': 2634, 'trumbull': 2635, 'lucy': 2636, 'sibling': 2637, 'bond': 2638, 'venturing': 2639, 'hoursthe': 2640, 'thereplacement': 2641, 'exceeds': 2642, 'sight': 2643, 'blame': 2644, 'placed': 2645, 'football': 2646, 'perplexing': 2647, 'fashioned': 2648, 'tuneful': 2649, 'unpleasant': 2650, 'infatuated': 2651, 'fumbling': 2652, 'hanky': 2653, 'among': 2654, 'alike': 2655, 'contacting': 2656, 'learned': 2657, 'lesson': 2658, 'online': 2659, 'dominated': 2660, 'disney': 2661, 'pixar': 2662, 'cgi': 2663, 'comforting': 2664, 'relying': 2665, 'traditional': 2666, 'drawn': 2667, 'enchanting': 2668, 'smudged': 2669, 'shouting': 2670, 'attack': 2671, 'lined': 2672, 'h': 2673, 'defect': 2674, 'risk': 2675, 'anyways': 2676, 'usable': 2677, 'useful': 2678, 'investment': 2679, 'improvement': 2680, 'ursula': 2681, 'burton': 2682, 'deaf': 2683, 'reminds': 2684, 'san': 2685, 'francisco': 2686, 'relocated': 2687, 'wonton': 2688, 'natural': 2689, 'fucking': 2690, 'olive': 2691, 'defeat': 2692, 'practical': 2693, 'heat': 2694, 'weekend': 2695, 'core': 2696, 'reccommend': 2697, 'steakhouse': 2698, 'iriver': 2699, 'spinn': 2700, 'veggitarian': 2701, 'platter': 2702, 'plane': 2703, 'breaking': 2704, 'reoccure': 2705, 'somewhere': 2706, 'inspiring': 2707, 'regularly': 2708, 'bloody': 2709, 'aailiyah': 2710, 'akasha': 2711, 'compelling': 2712, 'entrance': 2713, 'smeared': 2714, 'stepped': 2715, 'tracked': 2716, 'pile': 2717, 'bird': 2718, 'poop': 2719, 'boiled': 2720, 'ayce': 2721, 'juano': 2722, 'hernandez': 2723, 'supporting': 2724, 'proud': 2725, 'accused': 2726, 'murdering': 2727, 'south': 2728, 'package': 2729, 'goat': 2730, 'skimp': 2731, 'keeping': 2732, 'baklava': 2733, 'falafel': 2734, 'baba': 2735, 'ganoush': 2736, 'velvet': 2737, 'ohhh': 2738, 'sporting': 2739, 'airline': 2740, 'wedding': 2741, 'cbr': 2742, 'preferably': 2743, 'convoluted': 2744, 'convince': 2745, 'questioning': 2746, 'yellow': 2747, 'saffron': 2748, 'seasoning': 2749, 'soap': 2750, 'opera': 2751, 'ride': 2752, 'smoother': 2753, 'bank': 2754, 'holiday': 2755, 'rick': 2756, 'barking': 2757, 'rich': 2758, 'accordingly': 2759, 'jason': 2760, 'moved': 2761, 'monolog': 2762, 'candle': 2763, 'sphere': 2764, 'moral': 2765, 'binge': 2766, 'drinking': 2767, 'carbs': 2768, 'theft': 2769, 'gooodd': 2770, 'visited': 2771, 'dedicated': 2772, 'jenni': 2773, 'asking': 2774, 'connect': 2775, 'wayyy': 2776, 'southern': 2777, 'california': 2778, 'desert': 2779, 'patent': 2780, 'science': 2781, 'teacher': 2782, 'achille': 2783, 'philippa': 2784, 'sing': 2785, 'giovanni': 2786, 'describes': 2787, 'layer': 2788, 'constantine': 2789, 'intensity': 2790, 'motivation': 2791, 'ahead': 2792, 'warmer': 2793, 'possibility': 2794, 'booking': 2795, 'jamaican': 2796, 'mojitos': 2797, 'imagined': 2798, 'con': 2799, 'spotty': 2800, 'slide': 2801, 'grip': 2802, 'prevents': 2803, 'slipping': 2804, 'attached': 2805, 'gas': 2806, 'steer': 2807, 'replacementr': 2808, 'pen': 2809, 'threw': 2810, 'upbeat': 2811, 'unexperienced': 2812, 'loving': 2813, 'arguing': 2814, 'recognition': 2815, 'sweetest': 2816, 'threshold': 2817, 'calendar': 2818, 'sync': 2819, 'reflected': 2820, 'borrowed': 2821, 'sanyo': 2822, 'survived': 2823, 'blacktop': 2824, 'ill': 2825, 'wit': 2826, 'dropping': 2827, 'reach': 2828, 'popular': 2829, 'evidently': 2830, 'offered': 2831, 'hip': 2832, 'maintaining': 2833, 'coziness': 2834, 'currently': 2835, 'shooter': 2836, 'delay': 2837, 'accident': 2838, 'acceptable': 2839, 'poured': 2840, 'wound': 2841, 'camp': 2842, 'exceptionally': 2843, 'warn': 2844, 'dumbest': 2845, 'dustin': 2846, 'hoffman': 2847, 'dit': 2848, 'beware': 2849, 'proclaimed': 2850, 'wildly': 2851, 'garlic': 2852, 'fondue': 2853, 'speakerphone': 2854, 'skilled': 2855, 'identifies': 2856, 'cutout': 2857, 'expecting': 2858, 'collective': 2859, 'concerning': 2860, 'antena': 2861, 'jay': 2862, 'adam': 2863, 'unfortunate': 2864, 'evokes': 2865, 'woven': 2866, 'splendid': 2867, 'view': 2868, 'decided': 2869, 'nutshell': 2870, 'restaraunt': 2871, 'sewer': 2872, 'timer': 2873, 'exemplar': 2874, 'designer': 2875, 'prime': 2876, 'nargile': 2877, 'accompanied': 2878, 'creak': 2879, 'floor': 2880, 'env': 2881, 'cellphone': 2882, 'planning': 2883, 'passion': 2884, 'aluminum': 2885, 'protected': 2886, 'handheld': 2887, 'hopeless': 2888, 'monumental': 2889, 'suggests': 2890, 'brings': 2891, 'inappropriate': 2892, 'smiling': 2893, 'keira': 2894, 'knightley': 2895, 'prone': 2896, 'hang': 2897, 'artless': 2898, 'endlessly': 2899, 'present': 2900, 'ugliest': 2901, 'electronics': 2902, 'available': 2903, 'fm': 2904, 'transmitter': 2905, 'dylan': 2906, 'tummy': 2907, 'voyage': 2908, 'discovery': 2909, 'web': 2910, 'browsing': 2911, 'significantly': 2912, 'rolled': 2913, 'gringo': 2914, 'critical': 2915, 'multi': 2916, 'grain': 2917, 'pumpkin': 2918, 'pecan': 2919, 'fluffy': 2920, 'tasting': 2921, 'jeff': 2922, 'ethic': 2923, 'relaxing': 2924, 'viewing': 2925, 'im': 2926, 'rpg': 2927, 'disgrace': 2928, 'respecting': 2929, 'rpger': 2930, 'exploit': 2931, 'financial': 2932, 'gain': 2933, 'empowerment': 2934, 'standout': 2935, 'washing': 2936, 'twirling': 2937, 'hurt': 2938, 'linking': 2939, 'curve': 2940, 'fix': 2941, 'evening': 2942, 'simpler': 2943, 'structure': 2944, 'tightly': 2945, 'vitally': 2946, 'occurs': 2947, 'content': 2948, 'highest': 2949, 'superlative': 2950, 'require': 2951, 'puzzle': 2952, 'solving': 2953, 'punch': 2954, 'insane': 2955, 'unlockable': 2956, 'aye': 2957, 'doomed': 2958, 'conception': 2959, 'minor': 2960, 'confirm': 2961, 'exaggerating': 2962, 'trailer': 2963, 'carrell': 2964, 'co': 2965, 'freeman': 2966, 'jonah': 2967, 'helm': 2968, 'animal': 2969, 'integration': 2970, 'translate': 2971, 'succeeds': 2972, 'meagre': 2973, 'cancan': 2974, 'boast': 2975, 'cutest': 2976, 'leading': 2977, 'heel': 2978, 'insipid': 2979, 'future': 2980, 'heche': 2981, 'sam': 2982, 'shepard': 2983, 'gung': 2984, 'ho': 2985, 'marine': 2986, 'sobering': 2987, 'riveted': 2988, 'resounding': 2989, 'hank': 2990, 'fingernail': 2991, 'chalkboard': 2992, 'unnecessary': 2993, 'train': 2994, 'roller': 2995, 'coaster': 2996, 'grate': 2997, 'nerve': 2998, 'improved': 2999, 'improvisation': 3000, 'delivering': 3001, 'surroundings': 3002, 'crackle': 3003, 'unpredictable': 3004, 'youthful': 3005, 'concentrate': 3006, 'meander': 3007, 'builder': 3008, 'cross': 3009, 'cliche': 3010, 'predict': 3011, 'verbatim': 3012, 'chill': 3013, 'alexander': 3014, 'nevsky': 3015, 'artist': 3016, 'whoever': 3017, 'lived': 3018, 'planned': 3019, 'dodge': 3020, 'stratus': 3021, 'maker': 3022, 'restrained': 3023, 'qu': 3024, 'bec': 3025, 'haggis': 3026, 'stroke': 3027, 'storytelling': 3028, 'painted': 3029, 'cheeseburger': 3030, 'patty': 3031, 'uploaded': 3032, 'denny': 3033, 'interplay': 3034, 'emilio': 3035, 'contains': 3036, 'charlie': 3037, 'inconsiderate': 3038, 'razor': 3039, 'delete': 3040, 'fourth': 3041, 'hated': 3042, 'sturdiness': 3043, 'elegantly': 3044, 'labute': 3045, 'us': 3046, 'brutal': 3047, 'violence': 3048, 'seperate': 3049, 'helped': 3050, 'transmission': 3051, 'omit': 3052, 'applause': 3053, 'prelude': 3054, 'pleasing': 3055, 'linksys': 3056, 'refurb': 3057, 'starter': 3058, 'cheapy': 3059, 'cassette': 3060, 'occasion': 3061, 'bloodiest': 3062, 'monkey': 3063, 'dna': 3064, 'copy': 3065, 'shoe': 3066, 'allergy': 3067, 'clue': 3068, 'contain': 3069, 'theatrical': 3070, 'terror': 3071, 'escalating': 3072, 'monstrous': 3073, 'consequence': 3074, 'secondary': 3075, 'incomprehensible': 3076, 'primary': 3077, 'mystifying': 3078, 'jennifer': 3079, 'rubin': 3080, 'harris': 3081, 'nervous': 3082, 'starlet': 3083, 'weekly': 3084, 'haunt': 3085, 'replacement': 3086, 'startac': 3087, 'regretted': 3088, 'veteran': 3089, 'nostalgia': 3090, 'casino': 3091, 'forward': 3092, 'hey': 3093, 'pleasantly': 3094, 'suprised': 3095, 'cheated': 3096, 'opportunity': 3097, 'texas': 3098, 'nigiri': 3099, 'lifetime': 3100, 'air': 3101, 'sell': 3102, 'unrealistic': 3103, 'politics': 3104, 'wanting': 3105, 'unconditional': 3106, 'armband': 3107, 'douchey': 3108, 'garden': 3109, 'lemon': 3110, 'raspberry': 3111, 'realize': 3112, 'michael': 3113, 'ironside': 3114, 'aged': 3115, 'upper': 3116, 'uptight': 3117, 'tigerlilly': 3118, 'waaay': 3119, 'team': 3120, 'phrase': 3121, 'owed': 3122, 'count': 3123, 'skype': 3124, 'wallet': 3125, 'dignity': 3126, 'shocking': 3127, 'bougth': 3128, 'l': 3129, 'chain': 3130, 'ebay': 3131, 'peaking': 3132, 'paper': 3133, 'columbo': 3134, 'article': 3135, 'read': 3136, 'awkward': 3137, 'lb': 3138, 'gristle': 3139, 'stood': 3140, 'painfully': 3141, 'dreary': 3142, 'waster': 3143, 'restart': 3144, 'explanation': 3145, 'atrocity': 3146, 'host': 3147, 'bitch': 3148, 'muffled': 3149, 'incoming': 3150, 'severe': 3151, 'ala': 3152, 'cart': 3153, 'handmade': 3154, 'recieve': 3155, 'zillion': 3156, 'row': 3157, 'unmoving': 3158, 'stuck': 3159, 'max': 3160, 'mute': 3161, 'fo': 3162, 'brownish': 3163, 'procedure': 3164, 'decidely': 3165, 'universal': 3166, 'b': 3167, 'fond': 3168, 'magnetic': 3169, 'strap': 3170, 'hurry': 3171, 'thru': 3172, 'somehow': 3173, 'frustrated': 3174, 'arrival': 3175, 'fraction': 3176, 'shakespears': 3177, 'lyric': 3178, 'sorely': 3179, 'honeslty': 3180, 'key': 3181, 'lit': 3182, 'marriage': 3183, 'integrated': 3184, 'veal': 3185, 'nano': 3186, 'dissapointed': 3187, 'dissapointing': 3188, 'connoisseur': 3189, 'excruciatingly': 3190, 'existing': 3191, 'cd': 3192, 'kris': 3193, 'kristoffersen': 3194, 'succulent': 3195, 'baseball': 3196, 'outshining': 3197, 'halibut': 3198, 'elia': 3199, 'koteas': 3200, 'palance': 3201, 'angelina': 3202, 'naked': 3203, 'cameo': 3204, 'sven': 3205, 'ole': 3206, 'thorsen': 3207, 'surf': 3208, 'deep': 3209, 'impact': 3210, 'armageddon': 3211, 'subplots': 3212, 'native': 3213, 'brainsucking': 3214, 'shell': 3215, 'round': 3216, 'opening': 3217, 'n': 3218, 'besides': 3219, 'costco': 3220, 'mega': 3221, 'pixel': 3222, 'accessible': 3223, 'batter': 3224, 'dough': 3225, 'constantly': 3226, 'sergeant': 3227, 'auju': 3228, 'hardest': 3229, 'address': 3230, 'reboots': 3231, 'crust': 3232, 'agree': 3233, 'jessica': 3234, 'military': 3235, 'forgery': 3236, 'abound': 3237, 'airport': 3238, 'speedy': 3239, 'convention': 3240, 'according': 3241, 'applifies': 3242, 'shined': 3243, 'senior': 3244, 'indulgent': 3245, 'showcasing': 3246, 'noteworthy': 3247, 'punched': 3248, 'gallon': 3249, 'spew': 3250, 'forth': 3251, 'foxx': 3252, 'owns': 3253, 'spacek': 3254, 'coal': 3255, 'miner': 3256, 'quaid': 3257, 'saving': 3258, 'titta': 3259, 'di': 3260, 'girolamo': 3261, 'vision': 3262, 'outperform': 3263, 'china': 3264, 'vinegrette': 3265, 'postinos': 3266, 'accomodate': 3267, 'vegan': 3268, 'veggie': 3269, 'sensor': 3270, 'overnight': 3271, 'arriving': 3272, 'petroleum': 3273, 'foreigner': 3274, 'crema': 3275, 'caf': 3276, 'expanded': 3277, 'majority': 3278, 'cheerless': 3279, 'heist': 3280, 'characterisation': 3281, 'underbite': 3282, 'stoic': 3283, 'emoting': 3284, 'yun': 3285, 'tomorrow': 3286, 'abandoned': 3287, 'factory': 3288, 'executed': 3289, 'flying': 3290, 'judo': 3291, 'woo': 3292, 'accessing': 3293, 'downloading': 3294, 'performing': 3295, 'sketchy': 3296, 'ticker': 3297, 'absolutel': 3298, 'perpared': 3299, 'giant': 3300, 'slice': 3301, 'dusted': 3302, 'powdered': 3303, 'sugar': 3304, 'integral': 3305, 'element': 3306, 'helping': 3307, 'designed': 3308, 'stylized': 3309, 'aggravating': 3310, 'gabriel': 3311, 'intangible': 3312, 'leap': 3313, 'viewer': 3314, 'grasp': 3315, 'albondigas': 3316, 'tomato': 3317, 'meatball': 3318, 'redeemed': 3319, 'mst': 3320, 'k': 3321, 'fodder': 3322, 'grandmother': 3323, 'roasted': 3324, 'refuse': 3325, 'sliding': 3326, 'pant': 3327, 'owl': 3328, 'eel': 3329, 'mayo': 3330, 'absolute': 3331, 'prepared': 3332, 'ordeal': 3333, 'progress': 3334, 'anguish': 3335, 'banana': 3336, 'petrified': 3337, 'string': 3338, 'paolo': 3339, 'sorrentino': 3340, 'tony': 3341, 'unforgettable': 3342, 'excelent': 3343, 'angela': 3344, 'bennett': 3345, 'spicier': 3346, 'prefer': 3347, 'hungry': 3348, 'stuffed': 3349, 'crumby': 3350, 'poisoning': 3351, 'technically': 3352, 'riz': 3353, 'ortolani': 3354, 'recurring': 3355, 'unaccompanied': 3356, 'vocal': 3357, 'distant': 3358, 'blandest': 3359, 'cuisine': 3360, 'suffered': 3361, 'fell': 3362, 'soft': 3363, 'tight': 3364, 'shape': 3365, 'adventure': 3366, 'companion': 3367, 'figured': 3368, 'publicly': 3369, 'loudly': 3370, 'wirefly': 3371, 'inform': 3372, 'practice': 3373, 'promise': 3374, 'lordy': 3375, 'khao': 3376, 'soi': 3377, 'allot': 3378, 'clearer': 3379, 'judith': 3380, 'somethat': 3381, 'climbing': 3382, 'kitchen': 3383, 'replenished': 3384, 'yucky': 3385, 'casted': 3386, 'quaint': 3387, 'consolation': 3388, 'martini': 3389, 'dr': 3390, 'seuss': 3391, 'brilliantly': 3392, 'animated': 3393, 'upa': 3394, 'finest': 3395, 'academy': 3396, 'maintains': 3397, 'flawless': 3398, 'normal': 3399, 'ant': 3400, 'ineptly': 3401, 'stereotypically': 3402, 'destroy': 3403, 'latifa': 3404, 'agreed': 3405, 'bluetooths': 3406, 'listener': 3407, 'century': 3408, 'jutland': 3409, 'instrument': 3410, 'experiencing': 3411, 'stewart': 3412, 'hero': 3413, 'rip': 3414, 'climax': 3415, 'embassy': 3416, 'brooding': 3417, 'menace': 3418, 'shiny': 3419, 'nicest': 3420, 'lately': 3421, 'phenomenal': 3422, 'emperor': 3423, 'exquisite': 3424, 'unneeded': 3425, 'controversy': 3426, 'reccomendation': 3427, 'relative': 3428, 'everyday': 3429, 'gifted': 3430, 'tucson': 3431, 'mode': 3432, 'allowing': 3433, 'format': 3434, 'baaaaaad': 3435, 'reservation': 3436, 'negatively': 3437, 'miserable': 3438, 'walkman': 3439, 'geeky': 3440, 'ooze': 3441, 'embedded': 3442, 'stylish': 3443, 'cashew': 3444, 'faceplate': 3445, 'elegant': 3446, 'straw': 3447, 'cruel': 3448, 'weight': 3449, 'notice': 3450, 'bruschetta': 3451, 'devine': 3452, 'gc': 3453, 'inflate': 3454, 'smaller': 3455, 'attitude': 3456, 'grow': 3457, 'rapidly': 3458, 'angus': 3459, 'scrimm': 3460, 'gently': 3461, 'menacing': 3462, 'violin': 3463, 'anatomist': 3464, 'tired': 3465, 'tmobile': 3466, 'text': 3467, 'messaging': 3468, 'tricky': 3469, 'eargels': 3470, 'panna': 3471, 'cotta': 3472, 'wouldnt': 3473, 'considers': 3474, 'ussr': 3475, 'surprise': 3476, 'grab': 3477, 'bite': 3478, 'pub': 3479, 'bmw': 3480, 'hearing': 3481, 'inexperience': 3482, 'meant': 3483, 'omelet': 3484, 'pissd': 3485, 'jewel': 3486, 'widmark': 3487, 'unintentionally': 3488, 'comical': 3489, 'shut': 3490, 'primal': 3491, 'impulse': 3492, 'preservation': 3493, 'julian': 3494, 'fellowes': 3495, 'triumphed': 3496, 'ca': 3497, 'sangria': 3498, 'armand': 3499, 'assante': 3500, 'greater': 3501, 'p': 3502, 'outta': 3503, 'complained': 3504, 'def': 3505, 'exercise': 3506, 'smoothly': 3507, 'aired': 3508, 'dribble': 3509, 'sexy': 3510, 'outrageously': 3511, 'flirting': 3512, 'hottest': 3513, 'roam': 3514, 'superfast': 3515, 'chosen': 3516, 'tortured': 3517, 'blatant': 3518, 'propaganda': 3519, 'suffers': 3520, 'han': 3521, 'nan': 3522, 'humorous': 3523, 'carly': 3524, 'shallow': 3525, 'insincere': 3526, 'underacting': 3527, 'burrittos': 3528, 'lukewarm': 3529, 'drained': 3530, 'dying': 3531, 'hosting': 3532, 'monotonous': 3533, 'uncalled': 3534, 'detachable': 3535, 'pillow': 3536, 'gloriously': 3537, 'accurate': 3538, 'raver': 3539, 'infra': 3540, 'port': 3541, 'irda': 3542, 'whelm': 3543, 'mgm': 3544, 'shouldve': 3545, 'invented': 3546, 'sooner': 3547, 'overdue': 3548, 'riingtones': 3549, 'bose': 3550, 'cancelling': 3551, 'commuter': 3552, 'elaborately': 3553, 'aesthetically': 3554, 'sculpture': 3555, 'fleshed': 3556, 'grime': 3557, 'blake': 3558, 'deliver': 3559, 'scripted': 3560, 'deadpan': 3561, 'commentary': 3562, 'undoubtedly': 3563, 'ir': 3564, 'send': 3565, 'r': 3566, 'amusing': 3567, 'exchanged': 3568, 'debit': 3569, 'raving': 3570, 'tailored': 3571, 'palate': 3572, 'six': 3573, 'northern': 3574, 'humour': 3575, 'positive': 3576, 'community': 3577, 'represents': 3578, 'thorn': 3579, 'abhor': 3580, 'purcashed': 3581, 'capacity': 3582, 'confortable': 3583, 'horrified': 3584, 'sympathetic': 3585, 'vessel': 3586, 'taken': 3587, 'mighty': 3588, 'frost': 3589, 'securly': 3590, 'term': 3591, 'displeased': 3592, 'communicate': 3593, 'originally': 3594, 'discarded': 3595, 'lap': 3596, 'bodes': 3597, 'mirage': 3598, 'bud': 3599, 'jx': 3600, 'fireball': 3601, 'reliability': 3602, 'samsung': 3603, 'pretext': 3604, 'florida': 3605, 'shameful': 3606, 'yama': 3607, 'taylor': 3608, 'promote': 3609, 'north': 3610, 'scottsdale': 3611, 'downright': 3612, 'mussel': 3613, 'reduction': 3614, 'located': 3615, 'crystal': 3616, 'shopping': 3617, 'aria': 3618, 'damian': 3619, 'versatile': 3620, 'engineered': 3621, 'emptiness': 3622, 'hi': 3623, 'otto': 3624, 'welcome': 3625, 'retarded': 3626, 'pencil': 3627, 'colorful': 3628, 'fanciful': 3629, 'marred': 3630, 'constant': 3631, 'exterior': 3632, 'land': 3633, 'tracking': 3634, 'disapointing': 3635, 'horrendous': 3636, 'qwerty': 3637, 'latched': 3638, 'endearing': 3639, 'become': 3640, 'crawl': 3641, 'decor': 3642, 'piano': 3643, 'alert': 3644, 'decipher': 3645, 'connected': 3646, 'disconnected': 3647, 'yell': 3648, 'magical': 3649, 'anywhere': 3650, 'noca': 3651, 'courteous': 3652, 'onion': 3653, 'touched': 3654, 'pulling': 3655, 'happening': 3656, 'margarita': 3657, 'restored': 3658, 'soyo': 3659, 'tonight': 3660, 'elk': 3661, 'strike': 3662, 'rushed': 3663, 'tiramisu': 3664, 'cannoli': 3665, 'melted': 3666, 'styrofoam': 3667, 'owning': 3668, 'official': 3669, 'oem': 3670, 'brunch': 3671, 'hayao': 3672, 'eighth': 3673, 'ghibili': 3674, 'gake': 3675, 'ue': 3676, 'cliff': 3677, 'yellowtail': 3678, 'carpaccio': 3679, 'headband': 3680, 'frightening': 3681, 'jury': 3682, 'lawyer': 3683, 'court': 3684, 'occasional': 3685, 'pat': 3686, 'mmmm': 3687, 'serivce': 3688, 'ton': 3689, 'granted': 3690, 'pleaser': 3691, 'lil': 3692, 'fuzzy': 3693, 'trimmed': 3694, 'outdoor': 3695, 'unintelligible': 3696, 'trek': 3697, 'frontier': 3698, 'normally': 3699, 'haul': 3700, 'returning': 3701, 'pricey': 3702, 'freeway': 3703, 'travled': 3704, 'swivel': 3705, 'condescends': 3706, 'amp': 3707, 'shine': 3708, 'hamburger': 3709, 'paired': 3710, 'peachy': 3711, 'keen': 3712, 'debbie': 3713, 'rochon': 3714, 'contributory': 3715, 'former': 3716, 'chimp': 3717, 'tolerable': 3718, 'upload': 3719, 'spinach': 3720, 'avocado': 3721, 'ingredient': 3722, 'customize': 3723, 'colleague': 3724, 'puff': 3725, 'shifting': 3726, 'bubbling': 3727, 'peeling': 3728, 'scratch': 3729, 'droid': 3730, 'iam': 3731, 'rocked': 3732, 'social': 3733, 'physical': 3734, 'admins': 3735, 'drawback': 3736, 'pause': 3737, 'skip': 3738, 'garfield': 3739, 'ann': 3740, 'revere': 3741, 'lilli': 3742, 'plmer': 3743, 'william': 3744, 'conrad': 3745, 'lee': 3746, 'cinematographer': 3747, 'wong': 3748, 'howe': 3749, 'coverage': 3750, 'garbo': 3751, 'bat': 3752, 'netflix': 3753, 'matthew': 3754, 'wrote': 3755, 'grim': 3756, 'unprofessional': 3757, 'loyal': 3758, 'patron': 3759, 'rendering': 3760, 'imperial': 3761, 'afraid': 3762, 'subtitle': 3763, 'aversion': 3764, 'therapy': 3765, 'officially': 3766, 'block': 3767, 'foolish': 3768, 'bus': 3769, 'ta': 3770, 'slimy': 3771, 'drooling': 3772, 'teeth': 3773, 'disgusted': 3774, 'holder': 3775, 'rough': 3776, 'draft': 3777, 'shooting': 3778, 'completed': 3779, 'robert': 3780, 'imitation': 3781, 'individual': 3782, 'fulfills': 3783, 'requirement': 3784, 'cancellation': 3785, 'meet': 3786, 'sloppy': 3787, 'alongside': 3788, 'olivia': 3789, 'havilland': 3790, 'bamboo': 3791, 'shoot': 3792, 'interior': 3793, 'instant': 3794, 'catchy': 3795, 'potentially': 3796, 'specially': 3797, 'suggestion': 3798, 'sim': 3799, 'remarkable': 3800, 'quit': 3801, 'hoped': 3802, 'adhesive': 3803, 'flimsy': 3804, 'confidence': 3805, 'sold': 3806, 'poler': 3807, 'fort': 3808, 'steele': 3809, 'cingulair': 3810, 'nicer': 3811, 'peculiarity': 3812, 'google': 3813, 'smashburger': 3814, 'fully': 3815, 'bed': 3816, 'wi': 3817, 'morning': 3818, 'spends': 3819, 'pap': 3820, 'screened': 3821, 'punish': 3822, 'unemployed': 3823, 'apple': 3824, 'juice': 3825, 'impeccable': 3826, 'letdown': 3827, 'camelback': 3828, 'cartel': 3829, 'silently': 3830, 'aimless': 3831, 'distressed': 3832, 'drifting': 3833, 'thirty': 3834, 'vacant': 3835, 'apartment': 3836, 'tolerate': 3837, 'political': 3838, 'incorrectness': 3839, 'artistic': 3840, 'suspension': 3841, 'slavic': 3842, 'choked': 3843, 'shenanigan': 3844, 'surrounding': 3845, 'murdered': 3846, 'spy': 3847, 'kidnapped': 3848, 'foreign': 3849, 'random': 3850, 'taxidermist': 3851, 'neighbour': 3852, 'misplace': 3853, 'hypocrisy': 3854, 'dripping': 3855, 'grease': 3856, 'originality': 3857, 'freshness': 3858, 'repeating': 3859, 'robotic': 3860, 'rita': 3861, 'hayworth': 3862, 'pedestal': 3863, 'donut': 3864, 'shame': 3865, 'madison': 3866, 'ironman': 3867, 'saggy': 3868, 'floppy': 3869, 'couldnt': 3870, 'caring': 3871, 'teamwork': 3872, 'degree': 3873, 'receive': 3874, 'accolade': 3875, 'inviting': 3876, 'duris': 3877, 'entertained': 3878, 'lox': 3879, 'caper': 3880, 'muffin': 3881, 'untoasted': 3882, 'unrecommended': 3883, 'appetite': 3884, 'instantly': 3885, 'trust': 3886, 'pale': 3887, 'nevertheless': 3888, 'stable': 3889, 'bitpim': 3890, 'program': 3891, 'improper': 3892, 'hankering': 3893, 'handling': 3894, 'rowdy': 3895, 'pear': 3896, 'almond': 3897, 'personality': 3898, 'occur': 3899, 'snap': 3900, 'faultless': 3901, 'composition': 3902, 'underappreciated': 3903, 'keith': 3904, 'bully': 3905, 'teddy': 3906, 'vivid': 3907, 'sudden': 3908, 'compared': 3909, 'wired': 3910, 'plethora': 3911, 'seal': 3912, 'approval': 3913, 'recognizes': 3914, 'shirt': 3915, 'factor': 3916, 'joey': 3917, 'voted': 3918, 'magazine': 3919, 'prettier': 3920, 'sharp': 3921, 'punishment': 3922, 'park': 3923, 'attacked': 3924, 'protective': 3925, 'destroying': 3926, 'emily': 3927, 'watson': 3928, 'anthony': 3929, 'horse': 3930, 'halfway': 3931, 'embarrassed': 3932, 'howell': 3933, 'eyed': 3934, 'pea': 3935, 'unreal': 3936, 'fishnet': 3937, 'astonishingly': 3938, 'ham': 3939, 'fisted': 3940, 'grainy': 3941, 'enhanced': 3942, 'andddd': 3943, 'connisseur': 3944, 'topic': 3945, 'gore': 3946, 'commercial': 3947, 'misleading': 3948, 'sooooo': 3949, 'politically': 3950, 'missing': 3951, 'crostini': 3952, 'greasy': 3953, 'unhealthy': 3954, 'bendingly': 3955, 'ignore': 3956, 'toro': 3957, 'tartare': 3958, 'cavier': 3959, 'thinly': 3960, 'sliced': 3961, 'wagyu': 3962, 'truffle': 3963, 'atleast': 3964, 'krussel': 3965, 'multiple': 3966, 'ignored': 3967, 'hostess': 3968, 'mein': 3969, 'dwight': 3970, 'schultz': 3971, 'hello': 3972, 'godfather': 3973, 'charismatic': 3974, 'shield': 3975, 'incrediable': 3976, 'louder': 3977, 'diverse': 3978, 'desired': 3979, 'marble': 3980, 'implausible': 3981, 'virtue': 3982, 'regrettable': 3983, 'functional': 3984, 'tragedy': 3985, 'prompted': 3986, 'initially': 3987, 'local': 3988, 'buffalo': 3989, 'intrigued': 3990, 'wondered': 3991, 'shortlist': 3992, 'swung': 3993, 'cotton': 3994, 'unfaithful': 3995, 'gere': 3996, 'jiggle': 3997, 'accountant': 3998, 'screwed': 3999, 'caballero': 4000, 'magnificent': 4001, 'slim': 4002, 'alarm': 4003, 'clock': 4004, 'converter': 4005, 'activate': 4006, 'gentle': 4007, 'youtube': 4008, 'leftover': 4009, 'gerardo': 4010, 'jalapeno': 4011}\n"
     ]
    }
   ],
   "source": [
    "# Perform Tokenization\n",
    "tokenizer = Tokenizer(num_words=vocab_size, oov_token=oov_tok)\n",
    "tokenizer.fit_on_texts(X_train)\n",
    "word_index = tokenizer.word_index\n",
    "\n",
    "print(word_index) #Commenting to avoid printing the entire dictionary which makes the PDF large.\n"
   ]
  },
  {
   "cell_type": "code",
   "execution_count": 31,
   "metadata": {},
   "outputs": [],
   "source": [
    "# Apply padding to training data\n",
    "sequences_train = tokenizer.texts_to_sequences(X_train)\n",
    "padded_train = pad_sequences(sequences_train, maxlen=max_length, padding=padding_type, truncating=trunc_type)\n",
    "\n",
    "# Apply padding to testing data\n",
    "sequences_test = tokenizer.texts_to_sequences(X_test)\n",
    "padded_test = pad_sequences(sequences_test, maxlen=max_length, padding=padding_type, truncating=trunc_type)"
   ]
  },
  {
   "cell_type": "code",
   "execution_count": 32,
   "metadata": {},
   "outputs": [
    {
     "data": {
      "text/plain": [
       "array([  6, 335, 289,  10,   2,  90,   0,   0,   0,   0,   0,   0,   0,\n",
       "         0,   0,   0,   0,   0,   0,   0,   0,   0,   0,   0,   0,   0,\n",
       "         0,   0,   0,   0,   0,   0,   0,   0,   0,   0,   0,   0,   0,\n",
       "         0,   0,   0,   0,   0,   0,   0,   0,   0,   0,   0], dtype=int32)"
      ]
     },
     "execution_count": 32,
     "metadata": {},
     "output_type": "execute_result"
    }
   ],
   "source": [
    "# Display the padded sequence\n",
    "np.set_printoptions(threshold=sys.maxsize)\n",
    "padded_train[1]"
   ]
  },
  {
   "cell_type": "code",
   "execution_count": 33,
   "metadata": {},
   "outputs": [],
   "source": [
    "# Convert padded data to numpy array to be used in model.\n",
    "training_padded = np.array(padded_train)\n",
    "training_label = np.array(y_train)\n",
    "test_padded = np.array(padded_test)\n",
    "test_label = np.array(y_test)"
   ]
  },
  {
   "cell_type": "code",
   "execution_count": 34,
   "metadata": {},
   "outputs": [],
   "source": [
    "# Export the data to csv file\n",
    "# pd.DataFrame(training_padded).to_csv(\"training_padded.csv\")\n",
    "# pd.DataFrame(training_label).to_csv(\"training_label.csv\")\n",
    "# pd.DataFrame(test_padded).to_csv(\"test_padded.csv\")\n",
    "# pd.DataFrame(test_label).to_csv(\"test_label.csv\")"
   ]
  },
  {
   "cell_type": "markdown",
   "metadata": {},
   "source": [
    "### Part III:  Network Architecture¶\n"
   ]
  },
  {
   "cell_type": "code",
   "execution_count": 35,
   "metadata": {},
   "outputs": [
    {
     "name": "stderr",
     "output_type": "stream",
     "text": [
      "2022-08-23 19:01:47.096608: I tensorflow/core/platform/cpu_feature_guard.cc:151] This TensorFlow binary is optimized with oneAPI Deep Neural Network Library (oneDNN) to use the following CPU instructions in performance-critical operations:  SSE4.1 SSE4.2\n",
      "To enable them in other operations, rebuild TensorFlow with the appropriate compiler flags.\n"
     ]
    },
    {
     "name": "stdout",
     "output_type": "stream",
     "text": [
      "Model: \"sequential\"\n",
      "_________________________________________________________________\n",
      " Layer (type)                Output Shape              Param #   \n",
      "=================================================================\n",
      " embedding (Embedding)       (None, 50, 16)            240000    \n",
      "                                                                 \n",
      " global_average_pooling1d (G  (None, 16)               0         \n",
      " lobalAveragePooling1D)                                          \n",
      "                                                                 \n",
      " dense (Dense)               (None, 100)               1700      \n",
      "                                                                 \n",
      " dense_1 (Dense)             (None, 50)                5050      \n",
      "                                                                 \n",
      " dense_2 (Dense)             (None, 2)                 102       \n",
      "                                                                 \n",
      "=================================================================\n",
      "Total params: 246,852\n",
      "Trainable params: 246,852\n",
      "Non-trainable params: 0\n",
      "_________________________________________________________________\n",
      "Epoch 1/20\n",
      "49/49 [==============================] - 0s 4ms/step - loss: 0.3821 - accuracy: 1.0000 - val_loss: 0.0564 - val_accuracy: 1.0000\n",
      "Epoch 2/20\n",
      "49/49 [==============================] - 0s 2ms/step - loss: 0.0129 - accuracy: 1.0000 - val_loss: 0.0017 - val_accuracy: 1.0000\n",
      "Epoch 3/20\n",
      "49/49 [==============================] - 0s 2ms/step - loss: 0.0010 - accuracy: 1.0000 - val_loss: 4.9330e-04 - val_accuracy: 1.0000\n",
      "Epoch 4/20\n",
      "49/49 [==============================] - 0s 2ms/step - loss: 3.1487e-04 - accuracy: 1.0000 - val_loss: 1.4969e-04 - val_accuracy: 1.0000\n",
      "Epoch 5/20\n",
      "49/49 [==============================] - 0s 2ms/step - loss: 1.1290e-04 - accuracy: 1.0000 - val_loss: 6.4221e-05 - val_accuracy: 1.0000\n",
      "Epoch 6/20\n",
      "49/49 [==============================] - 0s 2ms/step - loss: 5.6730e-05 - accuracy: 1.0000 - val_loss: 3.5914e-05 - val_accuracy: 1.0000\n",
      "Epoch 7/20\n",
      "49/49 [==============================] - 0s 2ms/step - loss: 3.4523e-05 - accuracy: 1.0000 - val_loss: 2.2759e-05 - val_accuracy: 1.0000\n",
      "Epoch 8/20\n",
      "49/49 [==============================] - 0s 2ms/step - loss: 2.3338e-05 - accuracy: 1.0000 - val_loss: 1.5738e-05 - val_accuracy: 1.0000\n",
      "Epoch 9/20\n",
      "49/49 [==============================] - 0s 2ms/step - loss: 1.6947e-05 - accuracy: 1.0000 - val_loss: 1.1536e-05 - val_accuracy: 1.0000\n",
      "Epoch 10/20\n",
      "49/49 [==============================] - 0s 2ms/step - loss: 1.2850e-05 - accuracy: 1.0000 - val_loss: 8.9098e-06 - val_accuracy: 1.0000\n",
      "Epoch 11/20\n",
      "49/49 [==============================] - 0s 2ms/step - loss: 1.0128e-05 - accuracy: 1.0000 - val_loss: 6.9844e-06 - val_accuracy: 1.0000\n",
      "Epoch 12/20\n",
      "49/49 [==============================] - 0s 2ms/step - loss: 8.1661e-06 - accuracy: 1.0000 - val_loss: 5.6369e-06 - val_accuracy: 1.0000\n",
      "Epoch 13/20\n",
      "49/49 [==============================] - 0s 2ms/step - loss: 6.7284e-06 - accuracy: 1.0000 - val_loss: 4.6349e-06 - val_accuracy: 1.0000\n",
      "Epoch 14/20\n",
      "49/49 [==============================] - 0s 2ms/step - loss: 5.5810e-06 - accuracy: 1.0000 - val_loss: 3.8221e-06 - val_accuracy: 1.0000\n",
      "Epoch 15/20\n",
      "49/49 [==============================] - 0s 2ms/step - loss: 4.7489e-06 - accuracy: 1.0000 - val_loss: 3.2586e-06 - val_accuracy: 1.0000\n",
      "Epoch 16/20\n",
      "49/49 [==============================] - 0s 2ms/step - loss: 4.1042e-06 - accuracy: 1.0000 - val_loss: 2.7994e-06 - val_accuracy: 1.0000\n",
      "Epoch 17/20\n",
      "49/49 [==============================] - 0s 2ms/step - loss: 3.5814e-06 - accuracy: 1.0000 - val_loss: 2.4342e-06 - val_accuracy: 1.0000\n",
      "Epoch 18/20\n",
      "49/49 [==============================] - 0s 2ms/step - loss: 3.1454e-06 - accuracy: 1.0000 - val_loss: 2.1346e-06 - val_accuracy: 1.0000\n",
      "Epoch 19/20\n",
      "49/49 [==============================] - 0s 2ms/step - loss: 2.7910e-06 - accuracy: 1.0000 - val_loss: 1.8835e-06 - val_accuracy: 1.0000\n",
      "Epoch 20/20\n",
      "49/49 [==============================] - 0s 2ms/step - loss: 2.4912e-06 - accuracy: 1.0000 - val_loss: 1.6684e-06 - val_accuracy: 1.0000\n"
     ]
    }
   ],
   "source": [
    "# SENTIMENT ANALYSIS\n",
    "\n",
    "# Build a neural network to perform sentiment analysis.\n",
    "activation = 'softmax'\n",
    "loss = 'categorical_crossentropy'\n",
    "optimizer = 'adam' #rmsprop\n",
    "num_epochs = 20\n",
    "\n",
    "# Define early_stopping_monitor\n",
    "early_stopping_monitor = EarlyStopping(patience=2)\n",
    "\n",
    "model = tf.keras.Sequential([\n",
    "    tf.keras.layers.Embedding(vocab_size, embedding_dim, input_length=max_length),\n",
    "    tf.keras.layers.GlobalAveragePooling1D(),\n",
    "    tf.keras.layers.Dense(100, activation='relu'),\n",
    "    tf.keras.layers.Dense(50, activation='relu'),\n",
    "    tf.keras.layers.Dense(2, activation=activation)\n",
    "])\n",
    "\n",
    "model.compile(loss=loss,optimizer=optimizer,metrics=['accuracy'])\n",
    "model.summary()\n",
    "history = model.fit(training_padded, training_label, batch_size=32 ,epochs=num_epochs, validation_split = 0.3, callbacks=[early_stopping_monitor], verbose=True)"
   ]
  },
  {
   "cell_type": "code",
   "execution_count": 36,
   "metadata": {},
   "outputs": [
    {
     "data": {
      "image/png": "[encoded data removed]",
      "text/plain": [
       "<Figure size 432x288 with 1 Axes>"
      ]
     },
     "metadata": {
      "needs_background": "light"
     },
     "output_type": "display_data"
    },
    {
     "data": {
      "image/png": "[encoded data removed]",
      "text/plain": [
       "<Figure size 432x288 with 1 Axes>"
      ]
     },
     "metadata": {
      "needs_background": "light"
     },
     "output_type": "display_data"
    }
   ],
   "source": [
    "import matplotlib.pyplot as plt\n",
    "def plot_graphs(history, string):\n",
    "    plt.plot(history.history[string])\n",
    "    plt.plot(history.history['val_'+string])\n",
    "    plt.xlabel(\"Epochs\")\n",
    "    plt.ylabel(string)\n",
    "    plt.legend([string, 'val_'+string])\n",
    "    plt.show()\n",
    "plot_graphs(history, \"accuracy\")\n",
    "plot_graphs(history, \"loss\")"
   ]
  },
  {
   "cell_type": "code",
   "execution_count": 37,
   "metadata": {},
   "outputs": [
    {
     "name": "stdout",
     "output_type": "stream",
     "text": [
      "Test loss: 3.960656158596976e-06 / Test accuracy: 1.0\n"
     ]
    }
   ],
   "source": [
    "# Verify model accuracy on test data (data not seen by the model earlier)\n",
    "score = model.evaluate(test_padded, test_label, verbose=0)\n",
    "print(f'Test loss: {score[0]} / Test accuracy: {score[1]}')"
   ]
  },
  {
   "cell_type": "code",
   "execution_count": 38,
   "metadata": {},
   "outputs": [],
   "source": [
    "# Saving and reloading the model to perform predictions\n",
    "#SAVE THE MODEL\n",
    "\n",
    "model.save('SentimentAnalysisModel.h5')\n",
    "\n",
    "# Load the model for performing predictions\n",
    "my_model = load_model('SentimentAnalysisModel.h5') #// A .h5 is a hierarchical data format (HDF)\n"
   ]
  },
  {
   "cell_type": "code",
   "execution_count": 39,
   "metadata": {},
   "outputs": [
    {
     "name": "stdout",
     "output_type": "stream",
     "text": [
      "Predicted review text: wa left shattered experience watching film took good two hour fully recover \n",
      "\n",
      "Predicted: Negative review\n",
      "Actual:  Negative review\n"
     ]
    }
   ],
   "source": [
    "# PERFORM PREDICTIONS\n",
    "# Perform predictions on the model\n",
    " \n",
    "predictions = my_model.predict(test_padded)\n",
    "\n",
    "# Verify the predicted sentiment by comparing to actual label from test data\n",
    "i = 9   #Take any text from test data to verify.\n",
    "\n",
    "print(\"Predicted review text:\" , X_test[i], \"\\n\")\n",
    "print(\"Predicted:\", \"Negative\" if predictions[i][0] >= 0.5 else \"Positive\" , \"review\")\n",
    "print(\"Actual: \", \"Negative\" if y_test[i][1] == 0 else \"Positive\" , \"review\")"
   ]
  }
 ],
 "metadata": {
  "kernelspec": {
   "display_name": "Python 3 (ipykernel)",
   "language": "python",
   "name": "python3"
  },
  "language_info": {
   "codemirror_mode": {
    "name": "ipython",
    "version": 3
   },
   "file_extension": ".py",
   "mimetype": "text/x-python",
   "name": "python",
   "nbconvert_exporter": "python",
   "pygments_lexer": "ipython3",
   "version": "3.7.13"
  },
  "vscode": {
   "interpreter": {
    "hash": "de1011e35e6283183da03ba650d19824e6e19faf47dff75695f4661ce9eccc9c"
   }
  }
 },
 "nbformat": 4,
 "nbformat_minor": 2
}
