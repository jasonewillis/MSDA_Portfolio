{
 "cells": [
  {
   "cell_type": "markdown",
   "id": "9a05da96-be7f-4b72-9404-ffa428e7d251",
   "metadata": {
    "pycharm": {
     "name": "#%% md\n"
    }
   },
   "source": [
    "### D213 - Advanced Data Analytics - PA2"
   ]
  },
  {
   "cell_type": "markdown",
   "id": "6f2ccc30-cd76-4012-ad10-2fc554e6ee5d",
   "metadata": {
    "pycharm": {
     "name": "#%% md\n"
    }
   },
   "source": [
    "### Background Info:\n",
    "\n",
    "**Build a neural network designed to learn word usage and context using NLP techniques.**"
   ]
  },
  {
   "cell_type": "markdown",
   "id": "fbd3eb28",
   "metadata": {},
   "source": [
    "_You will provide visualizations and a report, as well as build your network in an interactive development environment._"
   ]
  },
  {
   "cell_type": "markdown",
   "id": "d8fee251-bc92-4b73-92ba-0edfee533830",
   "metadata": {},
   "source": [
    "**A1 _Question: Using historical product reviews, what effect will Natural Language Processing and Neural Networks have on the ability to accurately predict future consumer sentiment?_**"
   ]
  },
  {
   "cell_type": "markdown",
   "id": "07712ef5-8175-4032-9a36-3973f6db834f",
   "metadata": {
    "pycharm": {
     "name": "#%% md\n"
    }
   },
   "source": [
    "--- \n",
    "### Import Libraries\n",
    "---"
   ]
  },
  {
   "cell_type": "code",
   "execution_count": 1,
   "id": "e8e0509c",
   "metadata": {},
   "outputs": [
    {
     "name": "stdout",
     "output_type": "stream",
     "text": [
      "The python version used is: 3.7.13\n"
     ]
    }
   ],
   "source": [
    "from platform import python_version\n",
    "print('The python version used is: %s' % python_version())"
   ]
  },
  {
   "cell_type": "code",
   "execution_count": 2,
   "id": "4506d0d8",
   "metadata": {},
   "outputs": [
    {
     "name": "stdout",
     "output_type": "stream",
     "text": [
      "CPU times: user 1 µs, sys: 0 ns, total: 1 µs\n",
      "Wall time: 3.1 µs\n"
     ]
    }
   ],
   "source": [
    "# Standard libraries\n",
    "\n",
    "import numpy as np # Array manipulation\n",
    "import pandas as pd # DataFrame manipulation\n",
    "\n",
    "# Plotting\n",
    "#import seaborn as sns # for plotting\n",
    "import matplotlib.pyplot as plt\n",
    "import seaborn as sns\n",
    "%matplotlib inline\n",
    "\n",
    "# Local File Manipulation\n",
    "import sys\n",
    "import os # System and OS commands\n",
    "import re # regex\n",
    "import gzip # for reading compressed files\n",
    "\n",
    "# Warnings\n",
    "import warnings\n",
    "warnings.filterwarnings('ignore')\n",
    "# Warnings filter\n",
    "from warnings import simplefilter\n",
    "# ignore all future warnings\n",
    "simplefilter(action='ignore', category=FutureWarning)\n",
    "\n",
    "# Timer\n",
    "%time\n",
    "%timeit"
   ]
  },
  {
   "cell_type": "code",
   "execution_count": 3,
   "id": "5089f901-9f93-4cf5-be6c-d2497e6cc1fb",
   "metadata": {},
   "outputs": [],
   "source": [
    "# Analytics Library Imports\n",
    "\n",
    "from scipy import signal \n",
    "import sklearn # Predictive Analytics\n",
    "from sklearn import preprocessing\n",
    "from sklearn.preprocessing import OneHotEncoder\n",
    "from sklearn import model_selection\n",
    "from sklearn.model_selection import train_test_split"
   ]
  },
  {
   "cell_type": "code",
   "execution_count": 52,
   "id": "df83b34d-1955-4a21-bde0-f68c26a235e7",
   "metadata": {
    "pycharm": {
     "name": "#%%\n"
    }
   },
   "outputs": [
    {
     "name": "stderr",
     "output_type": "stream",
     "text": [
      "[nltk_data] Downloading package omw-1.4 to\n",
      "[nltk_data]     /Users/jasonewillis/nltk_data...\n",
      "[nltk_data]   Package omw-1.4 is already up-to-date!\n",
      "[nltk_data] Downloading package stopwords to\n",
      "[nltk_data]     /Users/jasonewillis/nltk_data...\n",
      "[nltk_data]   Package stopwords is already up-to-date!\n",
      "[nltk_data] Downloading package punkt to\n",
      "[nltk_data]     /Users/jasonewillis/nltk_data...\n",
      "[nltk_data]   Package punkt is already up-to-date!\n",
      "[nltk_data] Downloading package wordnet to\n",
      "[nltk_data]     /Users/jasonewillis/nltk_data...\n",
      "[nltk_data]   Package wordnet is already up-to-date!\n"
     ]
    },
    {
     "data": {
      "text/plain": [
       "True"
      ]
     },
     "execution_count": 52,
     "metadata": {},
     "output_type": "execute_result"
    }
   ],
   "source": [
    "# TensorFlow and Keras\n",
    "\n",
    "import tensorflow as tf # ML / Deep Learning\n",
    "import keras # Deep Learning API\n",
    "from keras import preprocessing\n",
    "\n",
    "from tensorflow.keras.preprocessing.text import Tokenizer\n",
    "from tensorflow.keras.callbacks import EarlyStopping\n",
    "from tensorflow.keras.models import load_model\n",
    "from tensorflow.keras.models import Sequential\n",
    "from tensorflow.keras.layers import LSTM, Dense, Embedding, Dropout, SpatialDropout1D\n",
    "from tensorflow.keras.preprocessing.sequence import pad_sequences\n",
    "\n",
    "import nltk # Natural Language Processing\n",
    "nltk.download('omw-1.4')\n",
    "from nltk.corpus import stopwords\n",
    "from nltk import word_tokenize\n",
    "from nltk.stem import PorterStemmer\n",
    "nltk.download('stopwords')\n",
    "nltk.download('punkt')\n",
    "nltk.download('wordnet')"
   ]
  },
  {
   "cell_type": "code",
   "execution_count": 53,
   "id": "6672f990",
   "metadata": {},
   "outputs": [],
   "source": [
    "# %lsmagic"
   ]
  },
  {
   "cell_type": "code",
   "execution_count": 54,
   "id": "85665074",
   "metadata": {},
   "outputs": [
    {
     "data": {
      "text/plain": [
       "<matplotlib.colors.ListedColormap at 0x7fc7b114fbd0>"
      ]
     },
     "execution_count": 54,
     "metadata": {},
     "output_type": "execute_result"
    }
   ],
   "source": [
    "sns.color_palette(\"vlag\", as_cmap=True)"
   ]
  },
  {
   "cell_type": "code",
   "execution_count": 55,
   "id": "dec54428-19b6-44f8-971b-a61bd7d9d430",
   "metadata": {},
   "outputs": [
    {
     "name": "stdout",
     "output_type": "stream",
     "text": [
      "['combo.txt', 'amazon_cells_labelled.txt', 'readme.txt', '.ipynb_checkpoints', 'yelp_labelled.txt', 'imdb_labelled.txt']\n"
     ]
    }
   ],
   "source": [
    "# Verify Input File Locations\n",
    "print(os.listdir(path='./Data/sentiment_labelled_sentences/'))\n",
    "# Output: ['.DS_Store', 'combo.txt', 'amazon_cells_labelled.txt', 'readme.txt', 'yelp_labelled.txt', 'imdb_labelled.txt']"
   ]
  },
  {
   "cell_type": "markdown",
   "id": "dbb231fb-a260-451c-bb3a-f085371d21b6",
   "metadata": {
    "pycharm": {
     "name": "#%% md\n"
    }
   },
   "source": [
    "---\n",
    "### Load Data From UCI *.txt Files to DFs\n",
    "---"
   ]
  },
  {
   "cell_type": "code",
   "execution_count": 56,
   "id": "ae78b466-ae42-4caf-889a-6ff70a6cd528",
   "metadata": {
    "pycharm": {
     "name": "#%%\n"
    },
    "tags": []
   },
   "outputs": [],
   "source": [
    "# load data file\n",
    "df_amz = pd.read_csv('./Data/sentiment_labelled_sentences/amazon_cells_labelled.txt', delimiter='\\t', header=None)\n",
    "df_amz.columns = ['review', 'sentiment']\n",
    "\n",
    "df_imdb = pd.read_csv('./Data/sentiment_labelled_sentences/imdb_labelled.txt', delimiter='\\t', header=None)\n",
    "df_imdb.columns = ['review', 'sentiment']\n",
    "\n",
    "df_yelp = pd.read_csv('./Data/sentiment_labelled_sentences/yelp_labelled.txt', delimiter='\\t', header=None)\n",
    "df_yelp.columns = ['review', 'sentiment']"
   ]
  },
  {
   "cell_type": "code",
   "execution_count": 57,
   "id": "9ce72a1a-c347-4ffe-817b-9c17842ac723",
   "metadata": {},
   "outputs": [],
   "source": [
    "# Concatinate and Read in Combo File to DF\n",
    "\n",
    "df_concat = pd.concat([df_amz, df_imdb, df_yelp], axis=0)\n",
    "df = df_concat.copy()"
   ]
  },
  {
   "cell_type": "markdown",
   "id": "674c6f92-79c3-48df-a3c3-743eb69771e2",
   "metadata": {
    "pycharm": {
     "name": "#%% md\n"
    }
   },
   "source": [
    "---\n",
    "### Data Cleaning & Exploratory Data Analysis\n",
    "---"
   ]
  },
  {
   "cell_type": "code",
   "execution_count": 58,
   "id": "e406bc30-4cb2-4cc7-a93b-851c86ec37cb",
   "metadata": {},
   "outputs": [
    {
     "name": "stdout",
     "output_type": "stream",
     "text": [
      "******************************\n",
      "* DataFrame Shape:  (2748, 2)\n",
      "******************************\n"
     ]
    },
    {
     "data": {
      "text/html": [
       "<div>\n",
       "<style scoped>\n",
       "    .dataframe tbody tr th:only-of-type {\n",
       "        vertical-align: middle;\n",
       "    }\n",
       "\n",
       "    .dataframe tbody tr th {\n",
       "        vertical-align: top;\n",
       "    }\n",
       "\n",
       "    .dataframe thead th {\n",
       "        text-align: right;\n",
       "    }\n",
       "</style>\n",
       "<table border=\"1\" class=\"dataframe\">\n",
       "  <thead>\n",
       "    <tr style=\"text-align: right;\">\n",
       "      <th></th>\n",
       "      <th>review</th>\n",
       "      <th>sentiment</th>\n",
       "    </tr>\n",
       "  </thead>\n",
       "  <tbody>\n",
       "    <tr>\n",
       "      <th>0</th>\n",
       "      <td>So there is no way for me to plug it in here in the US unless I go by a converter.</td>\n",
       "      <td>0</td>\n",
       "    </tr>\n",
       "    <tr>\n",
       "      <th>1</th>\n",
       "      <td>Good case, Excellent value.</td>\n",
       "      <td>1</td>\n",
       "    </tr>\n",
       "    <tr>\n",
       "      <th>2</th>\n",
       "      <td>Great for the jawbone.</td>\n",
       "      <td>1</td>\n",
       "    </tr>\n",
       "    <tr>\n",
       "      <th>3</th>\n",
       "      <td>Tied to charger for conversations lasting more than 45 minutes.MAJOR PROBLEMS!!</td>\n",
       "      <td>0</td>\n",
       "    </tr>\n",
       "    <tr>\n",
       "      <th>4</th>\n",
       "      <td>The mic is great.</td>\n",
       "      <td>1</td>\n",
       "    </tr>\n",
       "  </tbody>\n",
       "</table>\n",
       "</div>"
      ],
      "text/plain": [
       "                                                                               review  \\\n",
       "0  So there is no way for me to plug it in here in the US unless I go by a converter.   \n",
       "1                                                         Good case, Excellent value.   \n",
       "2                                                              Great for the jawbone.   \n",
       "3     Tied to charger for conversations lasting more than 45 minutes.MAJOR PROBLEMS!!   \n",
       "4                                                                   The mic is great.   \n",
       "\n",
       "   sentiment  \n",
       "0          0  \n",
       "1          1  \n",
       "2          1  \n",
       "3          0  \n",
       "4          1  "
      ]
     },
     "execution_count": 58,
     "metadata": {},
     "output_type": "execute_result"
    }
   ],
   "source": [
    "print(\"******\"*5)\n",
    "print(\"* DataFrame Shape: \", df.shape)\n",
    "print(\"******\"*5)\n",
    "pd.set_option('display.max_colwidth', 5000) # set max width\n",
    "df.head()"
   ]
  },
  {
   "cell_type": "code",
   "execution_count": 59,
   "id": "0105c2c9",
   "metadata": {},
   "outputs": [
    {
     "data": {
      "text/plain": [
       "Index(['review', 'sentiment'], dtype='object')"
      ]
     },
     "execution_count": 59,
     "metadata": {},
     "output_type": "execute_result"
    }
   ],
   "source": [
    "df.columns"
   ]
  },
  {
   "cell_type": "code",
   "execution_count": 60,
   "id": "2ec08047",
   "metadata": {},
   "outputs": [
    {
     "data": {
      "text/html": [
       "<div>\n",
       "<style scoped>\n",
       "    .dataframe tbody tr th:only-of-type {\n",
       "        vertical-align: middle;\n",
       "    }\n",
       "\n",
       "    .dataframe tbody tr th {\n",
       "        vertical-align: top;\n",
       "    }\n",
       "\n",
       "    .dataframe thead th {\n",
       "        text-align: right;\n",
       "    }\n",
       "</style>\n",
       "<table border=\"1\" class=\"dataframe\">\n",
       "  <thead>\n",
       "    <tr style=\"text-align: right;\">\n",
       "      <th></th>\n",
       "      <th>review</th>\n",
       "      <th>sentiment</th>\n",
       "    </tr>\n",
       "  </thead>\n",
       "  <tbody>\n",
       "    <tr>\n",
       "      <th>count</th>\n",
       "      <td>2748</td>\n",
       "      <td>2748.000000</td>\n",
       "    </tr>\n",
       "    <tr>\n",
       "      <th>unique</th>\n",
       "      <td>2731</td>\n",
       "      <td>NaN</td>\n",
       "    </tr>\n",
       "    <tr>\n",
       "      <th>top</th>\n",
       "      <td>If you like a loud buzzing to override all your conversations, then this phone is for you!</td>\n",
       "      <td>NaN</td>\n",
       "    </tr>\n",
       "    <tr>\n",
       "      <th>freq</th>\n",
       "      <td>2</td>\n",
       "      <td>NaN</td>\n",
       "    </tr>\n",
       "    <tr>\n",
       "      <th>mean</th>\n",
       "      <td>NaN</td>\n",
       "      <td>0.504367</td>\n",
       "    </tr>\n",
       "    <tr>\n",
       "      <th>std</th>\n",
       "      <td>NaN</td>\n",
       "      <td>0.500072</td>\n",
       "    </tr>\n",
       "    <tr>\n",
       "      <th>min</th>\n",
       "      <td>NaN</td>\n",
       "      <td>0.000000</td>\n",
       "    </tr>\n",
       "    <tr>\n",
       "      <th>25%</th>\n",
       "      <td>NaN</td>\n",
       "      <td>0.000000</td>\n",
       "    </tr>\n",
       "    <tr>\n",
       "      <th>50%</th>\n",
       "      <td>NaN</td>\n",
       "      <td>1.000000</td>\n",
       "    </tr>\n",
       "    <tr>\n",
       "      <th>75%</th>\n",
       "      <td>NaN</td>\n",
       "      <td>1.000000</td>\n",
       "    </tr>\n",
       "    <tr>\n",
       "      <th>max</th>\n",
       "      <td>NaN</td>\n",
       "      <td>1.000000</td>\n",
       "    </tr>\n",
       "  </tbody>\n",
       "</table>\n",
       "</div>"
      ],
      "text/plain": [
       "                                                                                            review  \\\n",
       "count                                                                                         2748   \n",
       "unique                                                                                        2731   \n",
       "top     If you like a loud buzzing to override all your conversations, then this phone is for you!   \n",
       "freq                                                                                             2   \n",
       "mean                                                                                           NaN   \n",
       "std                                                                                            NaN   \n",
       "min                                                                                            NaN   \n",
       "25%                                                                                            NaN   \n",
       "50%                                                                                            NaN   \n",
       "75%                                                                                            NaN   \n",
       "max                                                                                            NaN   \n",
       "\n",
       "          sentiment  \n",
       "count   2748.000000  \n",
       "unique          NaN  \n",
       "top             NaN  \n",
       "freq            NaN  \n",
       "mean       0.504367  \n",
       "std        0.500072  \n",
       "min        0.000000  \n",
       "25%        0.000000  \n",
       "50%        1.000000  \n",
       "75%        1.000000  \n",
       "max        1.000000  "
      ]
     },
     "execution_count": 60,
     "metadata": {},
     "output_type": "execute_result"
    }
   ],
   "source": [
    "df.describe(include='all')"
   ]
  },
  {
   "cell_type": "code",
   "execution_count": 61,
   "id": "ec9c8c71",
   "metadata": {},
   "outputs": [
    {
     "data": {
      "text/plain": [
       "1    1386\n",
       "0    1362\n",
       "Name: sentiment, dtype: int64"
      ]
     },
     "execution_count": 61,
     "metadata": {},
     "output_type": "execute_result"
    }
   ],
   "source": [
    "# Sentiment Value Counts\n",
    "df['sentiment'].value_counts()"
   ]
  },
  {
   "cell_type": "code",
   "execution_count": 62,
   "id": "5279857f",
   "metadata": {},
   "outputs": [
    {
     "data": {
      "image/png": "[encoded data removed]",
      "text/plain": [
       "<Figure size 432x288 with 1 Axes>"
      ]
     },
     "metadata": {
      "needs_background": "light"
     },
     "output_type": "display_data"
    }
   ],
   "source": [
    "# Visually Verify Value Counts\n",
    "sns.countplot(data=df, x='sentiment', palette=\"vlag\");"
   ]
  },
  {
   "cell_type": "code",
   "execution_count": 93,
   "id": "977f60fd",
   "metadata": {},
   "outputs": [
    {
     "data": {
      "image/png": "[encoded data removed]",
      "text/plain": [
       "<Figure size 432x288 with 1 Axes>"
      ]
     },
     "metadata": {
      "needs_background": "light"
     },
     "output_type": "display_data"
    }
   ],
   "source": [
    "# View Data Distro\n",
    "sns.countplot(data=df, x='sentiment', palette='viridis').set(title='Sentiment Data Distribution');"
   ]
  },
  {
   "cell_type": "markdown",
   "id": "bb9829dc",
   "metadata": {},
   "source": [
    "### Data Cleaning"
   ]
  },
  {
   "cell_type": "code",
   "execution_count": 63,
   "id": "4d6bf233",
   "metadata": {},
   "outputs": [],
   "source": [
    "# Convert Ratings to Int\n",
    "df['sentiment'] = df['sentiment'].astype(int)"
   ]
  },
  {
   "cell_type": "code",
   "execution_count": 64,
   "id": "b509fd71",
   "metadata": {},
   "outputs": [],
   "source": [
    "# Drop Any Nulls\n",
    "df = df.dropna()"
   ]
  },
  {
   "cell_type": "code",
   "execution_count": 65,
   "id": "34840188",
   "metadata": {},
   "outputs": [
    {
     "name": "stdout",
     "output_type": "stream",
     "text": [
      "<class 'pandas.core.frame.DataFrame'>\n",
      "Int64Index: 2748 entries, 0 to 999\n",
      "Data columns (total 2 columns):\n",
      " #   Column     Non-Null Count  Dtype \n",
      "---  ------     --------------  ----- \n",
      " 0   review     2748 non-null   object\n",
      " 1   sentiment  2748 non-null   int64 \n",
      "dtypes: int64(1), object(1)\n",
      "memory usage: 64.4+ KB\n"
     ]
    }
   ],
   "source": [
    "# Verify Review Data are of Type String\n",
    "for i in range (0, len(df)-1):\n",
    "    if type(df.iloc[i] ['review']) != str:\n",
    "        df.iloc[i]['review'] = str(df.iloc[i] ['review'])\n",
    "\n",
    "df.info() # Verify review is of type string and sentiment is of type int"
   ]
  },
  {
   "cell_type": "code",
   "execution_count": 66,
   "id": "1b762d22",
   "metadata": {},
   "outputs": [
    {
     "name": "stdout",
     "output_type": "stream",
     "text": [
      "DataFrame Columns:  Index(['review', 'sentiment'], dtype='object')\n",
      "DataFrame Shape:  (2748, 2)\n"
     ]
    }
   ],
   "source": [
    "print(\"DataFrame Columns: \",df.columns)\n",
    "print(\"DataFrame Shape: \",df.shape)"
   ]
  },
  {
   "cell_type": "code",
   "execution_count": 67,
   "id": "1d69b9e4",
   "metadata": {},
   "outputs": [
    {
     "name": "stdout",
     "output_type": "stream",
     "text": [
      "Number of Characters:  91\n",
      "['S', 'o', ' ', 't', 'h', 'e', 'r', 'i', 's', 'n', 'w', 'a', 'y', 'f', 'm', 'p', 'l', 'u', 'g', 'U', 'I', 'b', 'c', 'v', '.', 'G', 'd', ',', 'E', 'x', 'j', 'T', '4', '5', 'M', 'A', 'J', 'O', 'R', 'P', 'B', 'L', '!', 'z', 'N', 'W', 'q', 'H', '+', 'V', '\"', 'Y', 'D', 'F', 'k', \"'\", 'K', 'C', '/', '7', '3', '6', '8', '0', '2', '?', 'Z', '-', '1', ':', ')', '(', 'Q', '&', '$', '*', ';', 'X', '%', '9', '#', '[', ']', '\\x96', '\\t', '\\n', 'é', '\\x85', 'å', '\\x97', 'ê']\n"
     ]
    }
   ],
   "source": [
    "# Display Characters to Include Special Characters\n",
    "commentary = df['review']\n",
    "list_of_chars = []\n",
    "for comment in commentary:\n",
    "    for character in comment:\n",
    "        if character not in list_of_chars:\n",
    "            list_of_chars.append(character)\n",
    "num_of_chars = len(list_of_chars)\n",
    "print(\"Number of Characters: \", num_of_chars)\n",
    "print(list_of_chars) # Notice presence of unusual characters "
   ]
  },
  {
   "cell_type": "code",
   "execution_count": 102,
   "id": "dea50774",
   "metadata": {},
   "outputs": [],
   "source": [
    "# Remove Stop Words\n",
    "review_df = df.copy()\n",
    "description_list = []\n",
    "stop_word_list = stopwords.words('english')\n",
    "for description in review_df.review:\n",
    "    description = re.sub(\"[^a-zA-Z]\",\"\", description) # Remove any unusual char, e.g. other than alphanumeric\n",
    "\n",
    "# Convert to Lower Case\n",
    "description.lower()\n",
    "\n",
    "# Tokenization\n",
    "description=nltk.word_tokenize(description)\n",
    "\n",
    "# Perform Lemmatization\n",
    "lemma = nltk.WordNetLemmatizer()\n",
    "description = [lemma.lemmatize(word) for word in description]\n",
    "\n",
    "# Removing stopwords\n",
    "description = [word for word in description if not word in stop_word_list]\n",
    "description = \"\".join(description)\n",
    "description_list.append(description)\n",
    "\n",
    "description_list = []\n",
    "stop_word_list = stopwords"
   ]
  },
  {
   "cell_type": "code",
   "execution_count": 103,
   "id": "dd74b78b",
   "metadata": {},
   "outputs": [
    {
     "name": "stdout",
     "output_type": "stream",
     "text": [
      "Vocab Size:  5272\n"
     ]
    }
   ],
   "source": [
    "# Vocab Size (B1b)\n",
    "tokenizer = Tokenizer()\n",
    "tokenizer.fit_on_texts(review_df['review'])\n",
    "print('Vocab Size: ', len(tokenizer.word_index)+1)"
   ]
  },
  {
   "cell_type": "code",
   "execution_count": 101,
   "id": "2ffb990e",
   "metadata": {},
   "outputs": [],
   "source": [
    "# Use Keras Tokenizer to Filter Data and Quantify Vocab Size\n",
    "#keras_token = Tokenizer(filters='\\t\\n})~!|#*=&><:;+.{/,(?$^%_-`@)[\\\\]', oov_token = '[UNK]', lower = True)\n",
    "\n",
    "#Fit Commentary Dict Based on Frequency\n",
    "#keras_token.fit_on_texts(commentary)\n",
    "\n",
    "#word_count = keras_token.word_index # Create Dict Var\n",
    "#print('Size of data vocab: ', len(word_count)+1)\n",
    "#list(word_count.items())[2015:2022] # Random Sample\n"
   ]
  },
  {
   "cell_type": "code",
   "execution_count": 75,
   "id": "c5cf1f50",
   "metadata": {},
   "outputs": [
    {
     "data": {
      "text/plain": [
       "11"
      ]
     },
     "execution_count": 75,
     "metadata": {},
     "output_type": "execute_result"
    }
   ],
   "source": [
    "max_sequence_embedding = int(round(np.sqrt(np.sqrt(vocab_size)),0))\n",
    "max_sequence_embedding"
   ]
  },
  {
   "cell_type": "code",
   "execution_count": 76,
   "id": "2b720810",
   "metadata": {},
   "outputs": [
    {
     "data": {
      "text/plain": [
       "(array([0, 1, 1, ..., 0, 0, 0]), Int64Index([0, 1], dtype='int64'))"
      ]
     },
     "execution_count": 76,
     "metadata": {},
     "output_type": "execute_result"
    }
   ],
   "source": [
    "# Convert Sentiment Scores\n",
    "sentiment_label = df.sentiment.factorize()\n",
    "sentiment_label"
   ]
  },
  {
   "cell_type": "code",
   "execution_count": 111,
   "id": "b0de0b1b",
   "metadata": {},
   "outputs": [],
   "source": [
    "# Apply Tokenizer and Pad to max length\n",
    "reviews = review_df.review.values\n",
    "tokenizer = Tokenizer(num_words=6000)\n",
    "tokenizer.fit_on_texts(reviews)\n",
    "vocab_size = len(tokenizer.word_index) + 1\n",
    "encoded_docs = tokenizer.texts_to_sequences(reviews)\n",
    "padded_sequences = pad_sequences(encoded_docs, maxlen=200) # max length of 200"
   ]
  },
  {
   "cell_type": "code",
   "execution_count": 112,
   "id": "007796d9",
   "metadata": {},
   "outputs": [
    {
     "name": "stdout",
     "output_type": "stream",
     "text": [
      "{'the': 1, 'and': 2, 'i': 3, 'a': 4, 'is': 5, 'it': 6, 'to': 7, 'this': 8, 'of': 9, 'was': 10, 'in': 11, 'for': 12, 'not': 13, 'that': 14, 'with': 15, 'my': 16, 'very': 17, 'good': 18, 'on': 19, 'great': 20, 'you': 21, 'but': 22, 'have': 23, 'movie': 24, 'are': 25, 'as': 26, 'so': 27, 'phone': 28, 'film': 29, 'be': 30, 'all': 31, 'one': 32, '0': 33, 'had': 34, '1': 35, 'at': 36, 'food': 37, 'like': 38, 'just': 39, 'place': 40, \"it's\": 41, 'time': 42, 'service': 43, 'an': 44, 'were': 45, 'if': 46, 'from': 47, 'bad': 48, 'really': 49, 'there': 50, 'they': 51, 'we': 52, 'well': 53, 'out': 54, 'has': 55, 'would': 56, 'about': 57, 'no': 58, 'or': 59, 'your': 60, 'only': 61, 'by': 62, 'best': 63, \"don't\": 64, 'even': 65, 'here': 66, 'ever': 67, 'up': 68, 'also': 69, 'will': 70, 'back': 71, 'me': 72, 'when': 73, 'more': 74, 'than': 75, 'quality': 76, 'go': 77, 'what': 78, 'love': 79, 'he': 80, \"i've\": 81, 'can': 82, 'made': 83, 'which': 84, 'because': 85, 'how': 86, 'product': 87, 'too': 88, 'work': 89, 'get': 90, 'their': 91, 'some': 92, 'excellent': 93, 'any': 94, 'do': 95, 'works': 96, 'could': 97, 'nice': 98, 'better': 99, 'never': 100, 'after': 101, \"i'm\": 102, 'been': 103, 'sound': 104, 'recommend': 105, 'much': 106, 'who': 107, 'again': 108, 'use': 109, 'did': 110, 'our': 111, 'other': 112, 'his': 113, 'headset': 114, 'think': 115, 'first': 116, 'battery': 117, 'way': 118, 'them': 119, 'pretty': 120, 'see': 121, 'acting': 122, \"didn't\": 123, 'make': 124, 'its': 125, 'most': 126, 'over': 127, 'worst': 128, 'now': 129, 'still': 130, '2': 131, 'got': 132, '10': 133, 'does': 134, 'everything': 135, 'say': 136, 'enough': 137, 'two': 138, 'ear': 139, 'little': 140, 'disappointed': 141, 'am': 142, 'every': 143, 'characters': 144, 'right': 145, 'then': 146, 'going': 147, 'thing': 148, 'price': 149, 'these': 150, 'being': 151, 'amazing': 152, 'minutes': 153, 'waste': 154, 'people': 155, 'real': 156, 'off': 157, 'definitely': 158, 'case': 159, 'terrible': 160, 'money': 161, 'look': 162, 'new': 163, 'both': 164, 'know': 165, 'experience': 166, 'came': 167, 'movies': 168, 'into': 169, 'friendly': 170, \"doesn't\": 171, 'few': 172, 'many': 173, 'plot': 174, 'story': 175, 'her': 176, 'far': 177, 'life': 178, 'poor': 179, 'piece': 180, 'used': 181, 'worth': 182, 'long': 183, 'years': 184, 'nothing': 185, \"won't\": 186, 'seen': 187, 'us': 188, 'want': 189, 'lot': 190, 'while': 191, 'quite': 192, \"can't\": 193, 'wonderful': 194, 'restaurant': 195, 'she': 196, 'happy': 197, 'screen': 198, 'always': 199, 'films': 200, 'script': 201, 'highly': 202, 'camera': 203, 'found': 204, 'give': 205, 'anyone': 206, \"wasn't\": 207, 'character': 208, 'delicious': 209, 'down': 210, 'easy': 211, 'times': 212, 'another': 213, 'watching': 214, 'vegas': 215, 'went': 216, 'bought': 217, 'absolutely': 218, 'loved': 219, 'car': 220, 'fine': 221, 'buy': 222, 'should': 223, 'worked': 224, 'around': 225, 'funny': 226, 'probably': 227, 'however': 228, 'take': 229, 'awful': 230, 'comfortable': 231, 'since': 232, 'big': 233, 'item': 234, 'same': 235, 'slow': 236, 'awesome': 237, 'before': 238, 'thought': 239, 'horrible': 240, 'stars': 241, 'charger': 242, 'impressed': 243, '5': 244, 'makes': 245, 'end': 246, 'cool': 247, 'find': 248, 'music': 249, 'where': 250, 'those': 251, 'things': 252, 'show': 253, 'totally': 254, 'scenes': 255, 'actors': 256, 'watch': 257, 'staff': 258, 'eat': 259, 'must': 260, 'though': 261, 'last': 262, 'talk': 263, 'bluetooth': 264, 'such': 265, \"couldn't\": 266, 'job': 267, 'small': 268, 'cheap': 269, 'fantastic': 270, 'night': 271, 'overall': 272, 'part': 273, 'old': 274, 'day': 275, 'come': 276, 'cast': 277, 'line': 278, 'beautiful': 279, 'black': 280, 'reception': 281, 'kind': 282, 'ordered': 283, 'family': 284, 'stupid': 285, 'said': 286, 'feel': 287, 'perfect': 288, 'chicken': 289, 'problem': 290, 'sure': 291, 'performance': 292, 'actually': 293, 'done': 294, 'avoid': 295, \"i'd\": 296, 'try': 297, 'low': 298, 'especially': 299, 'next': 300, 'fresh': 301, 'special': 302, 'problems': 303, 'charge': 304, 'least': 305, '3': 306, 'working': 307, 'order': 308, 'tried': 309, 'between': 310, 'simply': 311, 'felt': 312, 'bit': 313, 'year': 314, 'customer': 315, 'anything': 316, 'sucks': 317, 'hard': 318, 'coming': 319, 'scene': 320, 'interesting': 321, 'menu': 322, 'salad': 323, 'pizza': 324, 'each': 325, 'everyone': 326, 'without': 327, 'hear': 328, 'calls': 329, 'looks': 330, 'purchase': 331, 'gets': 332, 'expect': 333, 'fit': 334, 'fast': 335, 'cell': 336, 'completely': 337, 'almost': 338, 'either': 339, 'away': 340, 'liked': 341, 'man': 342, 'enjoyed': 343, 'writing': 344, 'worse': 345, 'taste': 346, 'wait': 347, 'steak': 348, 'left': 349, 'short': 350, 'clear': 351, 'seriously': 352, 'different': 353, 'device': 354, 'super': 355, 'using': 356, 'white': 357, 'call': 358, 'whole': 359, \"i'll\": 360, 'rather': 361, 'bland': 362, 'through': 363, 'hour': 364, 'fact': 365, 'art': 366, 'dialogue': 367, 'server': 368, 'sushi': 369, 'flavor': 370, 'plug': 371, 'volume': 372, 'several': 373, 'started': 374, 'design': 375, \"that's\": 376, 'three': 377, 'play': 378, 'motorola': 379, 'full': 380, 'may': 381, 'getting': 382, 'perfectly': 383, 'side': 384, 'put': 385, 'incredible': 386, 'extremely': 387, 'tell': 388, 'return': 389, 'disappointing': 390, 'looking': 391, 'having': 392, 'crap': 393, 'deal': 394, 'understand': 395, 'unfortunately': 396, 'took': 397, 'sucked': 398, 'enjoy': 399, 'believe': 400, 'saw': 401, 'buffet': 402, 'feeling': 403, 'watched': 404, 'atmosphere': 405, 'burger': 406, 'yet': 407, 'need': 408, 'received': 409, 'huge': 410, 'high': 411, 'light': 412, 'fits': 413, 'during': 414, 'hours': 415, 'less': 416, 'once': 417, 'stay': 418, \"there's\": 419, 'certainly': 420, 'mess': 421, 'disappointment': 422, 'hands': 423, 'care': 424, 'hot': 425, 'oh': 426, 'wrong': 427, 'barely': 428, 'truly': 429, 'mediocre': 430, 'soon': 431, 'ending': 432, 'boring': 433, 'tasty': 434, 'meal': 435, 'fun': 436, 'wasted': 437, 'original': 438, 'days': 439, 'months': 440, 'recommended': 441, 'kept': 442, 'picture': 443, 'phones': 444, 'series': 445, 'home': 446, 'strong': 447, 'pleased': 448, 'voice': 449, 'area': 450, 'glad': 451, 'gave': 452, 'star': 453, 'none': 454, 'own': 455, 'something': 456, 'together': 457, 'effects': 458, 'easily': 459, 'inside': 460, 'top': 461, 'kids': 462, 'predictable': 463, 'cinematography': 464, 'actor': 465, 'played': 466, 'director': 467, 'why': 468, 'drama': 469, 'cold': 470, 'selection': 471, 'prices': 472, 'sauce': 473, 'lunch': 474, 'breakfast': 475, 'waited': 476, 'decent': 477, 'helpful': 478, 'turn': 479, 'priced': 480, 'dropped': 481, 'seems': 482, 'world': 483, 'wear': 484, 'broke': 485, 'free': 486, 'set': 487, 'house': 488, 'check': 489, 'lost': 490, 'company': 491, 'junk': 492, 'amazon': 493, 'ago': 494, 'couple': 495, 'face': 496, 'self': 497, 'trying': 498, 'wanted': 499, 'keep': 500, '20': 501, 'under': 502, 'cannot': 503, 'guess': 504, 'bar': 505, 'tv': 506, 'making': 507, 'places': 508, 'half': 509, 'directing': 510, 'game': 511, 'horror': 512, 'myself': 513, 'playing': 514, 'him': 515, 'waitress': 516, 'second': 517, 'style': 518, 'spot': 519, 'eating': 520, 'fries': 521, 'table': 522, 'sandwich': 523, 'meat': 524, 'dishes': 525, 'clean': 526, 'value': 527, 'simple': 528, 'hate': 529, 'garbage': 530, 'audio': 531, 'mind': 532, 'verizon': 533, 'buttons': 534, 'perhaps': 535, 'let': 536, 'arrived': 537, 'quickly': 538, 'pictures': 539, 'although': 540, 'ask': 541, 'jabra': 542, \"wouldn't\": 543, 'obviously': 544, 'mostly': 545, 'expected': 546, 'important': 547, 'someone': 548, 'weak': 549, 'average': 550, 'finally': 551, 'today': 552, 'waiting': 553, 'comes': 554, 'unit': 555, 'given': 556, 'quick': 557, 'plus': 558, 'point': 559, 'pay': 560, 'told': 561, 'entire': 562, '4': 563, 'else': 564, 'fails': 565, 'word': 566, 'cinema': 567, 'amount': 568, 'itself': 569, 'twice': 570, 'suspense': 571, 'human': 572, 'beer': 573, 'dish': 574, 'dining': 575, 'spicy': 576, 'rude': 577, 'tasted': 578, 'unless': 579, 'book': 580, 'loud': 581, 'reasonable': 582, 'front': 583, 'week': 584, 'later': 585, 'feels': 586, 'headsets': 587, 'within': 588, 'wife': 589, 'software': 590, 'brilliant': 591, 'literally': 592, 'superb': 593, 'internet': 594, 'charm': 595, 'useless': 596, 'color': 597, 'room': 598, 'authentic': 599, 'cable': 600, '8': 601, 'nokia': 602, 'outside': 603, 'others': 604, 'mention': 605, 'might': 606, 'solid': 607, 'review': 608, 'store': 609, 'above': 610, 'friends': 611, \"isn't\": 612, 'course': 613, 'needed': 614, 'wall': 615, 'whatever': 616, 'management': 617, 'joy': 618, 'lines': 619, 'non': 620, 'hilarious': 621, 'budget': 622, 'single': 623, 'editing': 624, 'written': 625, 'annoying': 626, 'classic': 627, 'bring': 628, 'maybe': 629, 'possible': 630, 'beyond': 631, 'close': 632, 'john': 633, 'action': 634, 'hope': 635, 'location': 636, 'sick': 637, 'subtle': 638, 'drive': 639, '30': 640, 'comedy': 641, 'heart': 642, 'tender': 643, 'served': 644, 'overpriced': 645, 'warm': 646, 'waiter': 647, 'attentive': 648, 'cooked': 649, 'town': 650, 'ambiance': 651, 'chips': 652, 'blue': 653, 'below': 654, 'bars': 655, 'hold': 656, 'ears': 657, 'features': 658, 'instead': 659, 'large': 660, 'headphones': 661, 'particular': 662, 'player': 663, 'songs': 664, 'sometimes': 665, 'longer': 666, 'costs': 667, 'dont': 668, 'signal': 669, 'basically': 670, 'seemed': 671, 'goes': 672, 'whether': 673, 'hit': 674, 'thin': 675, 'bother': 676, 'range': 677, 'living': 678, 'child': 679, 'mistake': 680, 'whatsoever': 681, 'feature': 682, 'adorable': 683, 'poorly': 684, 'clever': 685, 'lacking': 686, 'reason': 687, 'exactly': 688, 'dead': 689, 'plastic': 690, 'note': 691, 'difficult': 692, 'seem': 693, 'zero': 694, 'joke': 695, 'walked': 696, 'idea': 697, \"they're\": 698, 'samsung': 699, 'cases': 700, 'extra': 701, 'reviews': 702, 'happened': 703, 'despite': 704, 'etc': 705, 'elsewhere': 706, 'hand': 707, 'rare': 708, 'lots': 709, 'until': 710, 'setting': 711, 'rating': 712, 'rest': 713, 'wow': 714, 'girl': 715, 'ridiculous': 716, 'running': 717, 'lacks': 718, 'casting': 719, 'history': 720, 'flick': 721, 'lovely': 722, 'performances': 723, 'believable': 724, 'portrayal': 725, 'sat': 726, 'gives': 727, 'business': 728, 'terrific': 729, 'rent': 730, 'fish': 731, 'holes': 732, 'considering': 733, 'memorable': 734, 'sweet': 735, 'seeing': 736, 'become': 737, 'leave': 738, 'throughout': 739, 'looked': 740, \"you're\": 741, 'damn': 742, 'pho': 743, 'shrimp': 744, 'potato': 745, 'dinner': 746, 'razr': 747, 'charging': 748, 'owned': 749, '7': 750, 'mobile': 751, 'provided': 752, 'moving': 753, 'sturdy': 754, 'party': 755, 'cover': 756, 'person': 757, 'choice': 758, 'holds': 759, 'bargain': 760, 'shipping': 761, 'rated': 762, 'impressive': 763, 'fall': 764, 'leather': 765, 'weeks': 766, 'stuff': 767, 'minute': 768, 'forever': 769, 'graphics': 770, 'offers': 771, 'options': 772, 'needs': 773, 'recently': 774, \"you'll\": 775, 'incredibly': 776, 'reasonably': 777, 'form': 778, 'embarrassing': 779, 'favorite': 780, 'cute': 781, 'buying': 782, 'cant': 783, 'games': 784, 'belt': 785, 'data': 786, 'along': 787, 'sides': 788, 'satisfied': 789, \"you'd\": 790, 'clarity': 791, 'wish': 792, 'turned': 793, 'reading': 794, 'computer': 795, 'ability': 796, 'roles': 797, 'ended': 798, 'replace': 799, 'touch': 800, 'total': 801, 't': 802, 'please': 803, 'due': 804, 'trash': 805, 'connection': 806, 'wind': 807, 'rate': 808, 'beat': 809, 'shots': 810, 'generally': 811, 'break': 812, 'thumbs': 813, 'dirty': 814, \"haven't\": 815, 'utterly': 816, 'ok': 817, 'flat': 818, 'audience': 819, 'empty': 820, 'consider': 821, 'production': 822, '\\x96': 823, 'level': 824, 'deserves': 825, 'lame': 826, 'tom': 827, 'often': 828, \"aren't\": 829, 'mouth': 830, 'list': 831, 'trip': 832, 'direction': 833, 'imagination': 834, 'cult': 835, 'mean': 836, 'lead': 837, 'silent': 838, 'hitchcock': 839, 'thriller': 840, 'usual': 841, 'themselves': 842, 'pathetic': 843, 'lacked': 844, 'plain': 845, 'soundtrack': 846, 'fans': 847, 'eyes': 848, 'water': 849, 'shot': 850, 'dry': 851, 'fan': 852, 'involved': 853, 'period': 854, 'particularly': 855, 'recent': 856, 'par': 857, 'unbelievable': 858, 'sub': 859, '40': 860, 'sad': 861, 'asked': 862, 'tables': 863, 'portions': 864, 'dessert': 865, 'beef': 866, 'servers': 867, 'seafood': 868, 'pasta': 869, 'tasteless': 870, 'thai': 871, 'eaten': 872, 'seated': 873, 'bacon': 874, 'ice': 875, 'bread': 876, 'fried': 877, 'anytime': 878, 'mic': 879, 'sending': 880, 'owner': 881, 'clip': 882, 'advise': 883, 'website': 884, 'pair': 885, 'run': 886, 'instructions': 887, 'pull': 888, 'included': 889, 'worthless': 890, 'thats': 891, 'keyboard': 892, 'turns': 893, 'forget': 894, 'support': 895, 'clearly': 896, 'fairly': 897, 'trouble': 898, 'station': 899, 'purchased': 900, 'loves': 901, 'decision': 902, 'rocks': 903, 'number': 904, 'comfortably': 905, 'failed': 906, 'takes': 907, 'previous': 908, 's': 909, 'tool': 910, 'share': 911, 'wasting': 912, 'network': 913, 'likes': 914, 'lasts': 915, 'nearly': 916, 'anyway': 917, 'able': 918, 'issues': 919, 'lightweight': 920, 'hair': 921, 'market': 922, 'type': 923, 'earpiece': 924, 'unreliable': 925, 'seller': 926, 'plantronics': 927, 'charged': 928, 'strip': 929, 'lg': 930, 'gotten': 931, 'immediately': 932, 'easier': 933, 'appealing': 934, 'called': 935, 'happier': 936, 'starts': 937, 'effective': 938, 'weird': 939, 'appearance': 940, 'q': 941, 'expensive': 942, 'results': 943, 'im': 944, 'earlier': 945, 'palm': 946, 'missed': 947, 'cingular': 948, 'hated': 949, 'ringtones': 950, 'stop': 951, 'plays': 952, 'doing': 953, 'killer': 954, '50': 955, 'treo': 956, 'usb': 957, 'genuine': 958, 'red': 959, 'third': 960, 'ready': 961, 'chinese': 962, 'crisp': 963, 'video': 964, 'power': 965, 'passed': 966, 'shows': 967, 'cut': 968, 'somewhat': 969, 'cost': 970, 'son': 971, 'addition': 972, '12': 973, 'disgusting': 974, 'five': 975, 'yes': 976, 'checked': 977, 'says': 978, 'exceptional': 979, 'wonderfully': 980, 'christmas': 981, 'directed': 982, 'young': 983, 'song': 984, 'head': 985, 'showed': 986, 'main': 987, 'tale': 988, 'greatest': 989, 'gem': 990, 'true': 991, 'words': 992, 'massive': 993, 'pg': 994, 'complete': 995, 'green': 996, 'convincing': 997, 'honestly': 998, 'follow': 999, 'energy': 1000, 'pretentious': 1001, 'occasionally': 1002, 'including': 1003, 'chemistry': 1004, 'fear': 1005, 'depth': 1006, 'bunch': 1007, 'paid': 1008, 'crazy': 1009, 'storyline': 1010, 'boyfriend': 1011, 'gone': 1012, 'already': 1013, 'attempt': 1014, 'torture': 1015, 'pleasant': 1016, 'premise': 1017, 'ups': 1018, 'age': 1019, 'ray': 1020, 'remember': 1021, 'attention': 1022, 'visual': 1023, 'mexican': 1024, 'indeed': 1025, 'thoroughly': 1026, 'theater': 1027, 'intelligence': 1028, 'intelligent': 1029, 'sense': 1030, 'entertaining': 1031, 'bored': 1032, 'guy': 1033, 'towards': 1034, 'drago': 1035, 'enjoyable': 1036, '90': 1037, 'parts': 1038, 'sets': 1039, 'stories': 1040, 'created': 1041, 'role': 1042, 'scamp': 1043, 'charming': 1044, 'insult': 1045, 'death': 1046, 'rolls': 1047, 'space': 1048, 'conclusion': 1049, 'ten': 1050, 'final': 1051, 'serious': 1052, 'crowd': 1053, 'james': 1054, 'vibe': 1055, 'dark': 1056, 'honest': 1057, 'known': 1058, 'nasty': 1059, 'delight': 1060, 'thinking': 1061, 'heard': 1062, 'dance': 1063, 'italian': 1064, 'beginning': 1065, 'appreciate': 1066, 'yourself': 1067, 'tacos': 1068, 'salmon': 1069, 'visit': 1070, 'establishment': 1071, 'husband': 1072, 'drinks': 1073, 'rice': 1074, 'yummy': 1075, \"we'll\": 1076, 'wine': 1077, 'steaks': 1078, 'pork': 1079, 'burgers': 1080, 'cream': 1081, 'drink': 1082, 'bay': 1083, 'phoenix': 1084, 'wings': 1085, 'live': 1086, 'folks': 1087, 'chef': 1088, 'tea': 1089, 'vegetables': 1090, 'soup': 1091, 'owners': 1092, 'manager': 1093, 'jawbone': 1094, 'conversations': 1095, 'lasting': 1096, 'contacts': 1097, 'imagine': 1098, 'needless': 1099, 'static': 1100, 'odd': 1101, 'wonder': 1102, 'fire': 1103, 'mother': 1104, 'pocket': 1105, 'pc': 1106, 'combination': 1107, 'speed': 1108, 'gonna': 1109, 'returned': 1110, 'protection': 1111, 'machine': 1112, '15': 1113, 'seconds': 1114, '510': 1115, 'complaints': 1116, \"phone's\": 1117, 'glasses': 1118, 'quiet': 1119, 'saying': 1120, 'packaged': 1121, '6': 1122, 'construction': 1123, 'boy': 1124, 'loads': 1125, 'ease': 1126, 'plan': 1127, 'beware': 1128, 'supposedly': 1129, 'match': 1130, 'pros': 1131, 'flaw': 1132, 'expectations': 1133, 'display': 1134, 'sex': 1135, 'setup': 1136, 'earpieces': 1137, 'bt': 1138, 'earbud': 1139, 'coverage': 1140, 'tremendous': 1141, 'experienced': 1142, 'drops': 1143, 'description': 1144, 'hoping': 1145, 'sounds': 1146, 'sharp': 1147, 'chargers': 1148, 'handsfree': 1149, '13': 1150, 'bucks': 1151, 'replacement': 1152, 'strange': 1153, 'means': 1154, 'sony': 1155, 'comfort': 1156, 'aspect': 1157, 'appears': 1158, 'scary': 1159, 'drain': 1160, 'fry': 1161, 'giving': 1162, 'scratched': 1163, 'wise': 1164, 'microphone': 1165, 'uncomfortable': 1166, 'plugged': 1167, 'driving': 1168, 'neither': 1169, 'flip': 1170, 'inexpensive': 1171, 'sitting': 1172, 'los': 1173, 'angeles': 1174, 'wireless': 1175, 'save': 1176, 'help': 1177, 'era': 1178, 'breaks': 1179, 'effect': 1180, 'warning': 1181, 'alone': 1182, 'size': 1183, 'wearing': 1184, 'sunglasses': 1185, 'returning': 1186, 'changing': 1187, 'worthwhile': 1188, 'pricing': 1189, 'regret': 1190, 'user': 1191, 'pitiful': 1192, 'noise': 1193, 'holster': 1194, 'eye': 1195, 'amazed': 1196, 'orders': 1197, 'thanks': 1198, 'edge': 1199, 'refund': 1200, 'drop': 1201, 'ones': 1202, 'properly': 1203, 'flawed': 1204, 'forced': 1205, 'speaker': 1206, 'constructed': 1207, 'holding': 1208, 'sprint': 1209, 'effort': 1210, 'breaking': 1211, 'stopped': 1212, 'pack': 1213, 'apart': 1214, 'surprised': 1215, 'fabulous': 1216, 'tinny': 1217, 'overly': 1218, 'placed': 1219, 'keeps': 1220, 'falling': 1221, 'tiny': 1222, 'four': 1223, 'spring': 1224, 'tries': 1225, 'interested': 1226, 'continue': 1227, 'pairing': 1228, 'balance': 1229, 'explain': 1230, 'biggest': 1231, 'stand': 1232, 'occupied': 1233, 'ripped': 1234, 'mini': 1235, 'iphone': 1236, 'multiple': 1237, 'outlet': 1238, 'freedom': 1239, 'mark': 1240, '100': 1241, 'plenty': 1242, 'convenient': 1243, 'date': 1244, 'bottom': 1245, 'wooden': 1246, 'boot': 1247, 'sorry': 1248, 'double': 1249, 'sounded': 1250, 'feet': 1251, 'everywhere': 1252, 'father': 1253, 'send': 1254, 'describe': 1255, 'letting': 1256, 'material': 1257, 'flaws': 1258, 'beep': 1259, 'managed': 1260, 'seat': 1261, 'otherwise': 1262, 'control': 1263, 'complain': 1264, 'lousy': 1265, 'painful': 1266, 'disappoint': 1267, 'speak': 1268, 'meaning': 1269, 'baby': 1270, 'delivers': 1271, 'sea': 1272, 'faux': 1273, 'significant': 1274, 'pure': 1275, 'brilliance': 1276, 'moment': 1277, 'talented': 1278, 'fare': 1279, 'hill': 1280, 'ed': 1281, 'ladies': 1282, 'grace': 1283, 'negative': 1284, 'cause': 1285, 'pointless': 1286, 'children': 1287, 'parents': 1288, 'dialog': 1289, 'selections': 1290, 'gross': 1291, 'provoking': 1292, 'paced': 1293, 'lion': 1294, 'acted': 1295, 'checking': 1296, 'touching': 1297, 'scenery': 1298, 'paper': 1299, 'mature': 1300, 'episode': 1301, 'remake': 1302, 'nobody': 1303, 'putting': 1304, 'conflict': 1305, 'handled': 1306, 'hell': 1307, 'disaster': 1308, 'treat': 1309, 'yeah': 1310, 'stereotypes': 1311, 'cartoon': 1312, 'paul': 1313, 'women': 1314, 'brain': 1315, 'redeeming': 1316, 'appalling': 1317, 'presents': 1318, 'screenwriter': 1319, 'step': 1320, 'industry': 1321, 'indulgent': 1322, 'spent': 1323, 'charles': 1324, 'daughter': 1325, 'singing': 1326, 'bore': 1327, 'dancing': 1328, 'dvd': 1329, 'struck': 1330, 'contained': 1331, 'theme': 1332, 'aerial': 1333, 'thrilled': 1334, 'deeply': 1335, 'interest': 1336, 'narrative': 1337, 'actress': 1338, 'spoilers': 1339, 'stunning': 1340, 'fx': 1341, 'surprisingly': 1342, 'released': 1343, 'ranks': 1344, 'journey': 1345, 'memories': 1346, 'summary': 1347, \"weren't\": 1348, 'billy': 1349, 'possibly': 1350, 'trilogy': 1351, 'favourite': 1352, 'judge': 1353, 'wrap': 1354, 'leaves': 1355, 'reviewer': 1356, 'smart': 1357, 'bakery': 1358, 'stage': 1359, \"he's\": 1360, 'actresses': 1361, 'ways': 1362, 'modern': 1363, 'scared': 1364, 'supposed': 1365, 'god': 1366, 'learn': 1367, 'values': 1368, 'photography': 1369, 'steve': 1370, 'ruthless': 1371, 'war': 1372, 'example': 1373, 'angel': 1374, 'clichés': 1375, 'thrown': 1376, 'nut': 1377, 'scale': 1378, 'glance': 1379, 'score': 1380, 'frightening': 1381, 'oscar': 1382, 'knew': 1383, 'fat': 1384, 'footage': 1385, 'opened': 1386, 'sort': 1387, 'behind': 1388, 'race': 1389, 'happen': 1390, 'unconvincing': 1391, 'produced': 1392, 'early': 1393, 'documentary': 1394, 'martin': 1395, 'racial': 1396, 'mickey': 1397, 'imaginative': 1398, 'watchable': 1399, 'pace': 1400, 'lighting': 1401, 'past': 1402, \"film's\": 1403, \"90's\": 1404, 'excuse': 1405, 'nonsense': 1406, 'exquisite': 1407, 'south': 1408, 'lady': 1409, 'delightful': 1410, 'beautifully': 1411, 'begin': 1412, 'late': 1413, 'giallo': 1414, 'emotions': 1415, 'belly': 1416, 'spend': 1417, 'write': 1418, 'stinks': 1419, 'writer': 1420, 'suck': 1421, 'stayed': 1422, 'puppets': 1423, 'doubt': 1424, 'guys': 1425, 'hip': 1426, 'realized': 1427, 'animation': 1428, 'added': 1429, 'texture': 1430, 'recommendation': 1431, 'potatoes': 1432, 'brought': 1433, 'sashimi': 1434, 'moist': 1435, 'frozen': 1436, 'greek': 1437, 'dressing': 1438, 'pita': 1439, 'hummus': 1440, 'duck': 1441, 'salt': 1442, 'chewy': 1443, 'tip': 1444, 'cafe': 1445, 'ambience': 1446, 'busy': 1447, 'delish': 1448, 'melt': 1449, 'cheese': 1450, 'subway': 1451, 'restaurants': 1452, 'ate': 1453, 'stale': 1454, 'treated': 1455, 'vegetarian': 1456, 'healthy': 1457, 'decor': 1458, 'butter': 1459, 'egg': 1460, 'dog': 1461, 'insulted': 1462, 'brunch': 1463, 'soggy': 1464, 'lobster': 1465, 'flavorful': 1466, 'generous': 1467, 'patio': 1468, 'outstanding': 1469, \"friend's\": 1470, 'pizzas': 1471, 'pulled': 1472, 'equally': 1473, 'bathroom': 1474, 'door': 1475, 'stomach': 1476, 'beans': 1477, 'regular': 1478, '35': 1479, 'bill': 1480, 'meals': 1481, 'homemade': 1482, 'desserts': 1483, 'edible': 1484, 'seating': 1485, 'salsa': 1486, '45': 1487, 'major': 1488, 'dozen': 1489, 'extended': 1490, 'notice': 1491, 'tooth': 1492, 'unusable': 1493, 'contract': 1494, 'juice': 1495, 'regarding': 1496, 'pda': 1497, 'neat': 1498, 'gadget': 1499, 'e': 1500, 'essentially': 1501, 'tech': 1502, 'elegant': 1503, 'angle': 1504, 'mp3': 1505, 'skip': 1506, 'lock': 1507, 'died': 1508, 'situations': 1509, 'docking': 1510, 'd807': 1511, 'advertised': 1512, 'handy': 1513, 'cheaper': 1514, 'seamlessly': 1515, 'buyer': 1516, 'apparently': 1517, 'relatively': 1518, 'resolution': 1519, 'slim': 1520, 'toast': 1521, 'sleek': 1522, 'compromise': 1523, 'basic': 1524, 'keypad': 1525, 'unhappy': 1526, 'winner': 1527, 'realize': 1528, 'careful': 1529, 'logitech': 1530, 'recognition': 1531, 'stated': 1532, 'blackberry': 1533, 'technology': 1534, 'wired': 1535, 'messages': 1536, 'faster': 1537, 'build': 1538, 'w810i': 1539, 'whine': 1540, 'maintain': 1541, \"shouldn't\": 1542, 'humans': 1543, 'button': 1544, 'thank': 1545, 'igo': 1546, 'tips': 1547, 'connected': 1548, \"wife's\": 1549, 'latest': 1550, 'storage': 1551, 'buzzing': 1552, 'override': 1553, 'functionality': 1554, 'ring': 1555, 'tone': 1556, 'dropping': 1557, 'weight': 1558, 'hardly': 1559, 'ends': 1560, 'consumer': 1561, 'background': 1562, 'usually': 1563, 'excited': 1564, 'additional': 1565, 'gels': 1566, 'purpose': 1567, 'secure': 1568, 'gosh': 1569, 'attractive': 1570, 'rubber': 1571, 'smell': 1572, 'unbearable': 1573, 'caused': 1574, 'flimsy': 1575, 'month': 1576, 'flawlessly': 1577, 'rotating': 1578, 'thru': 1579, 'cat': 1580, 'removing': 1581, 'compliments': 1582, 'state': 1583, 'allow': 1584, 'dialing': 1585, 'ipod': 1586, 'recharge': 1587, 'practically': 1588, 'add': 1589, 'boost': 1590, 'finished': 1591, 'ringing': 1592, 'auto': 1593, 'reverse': 1594, 'hurt': 1595, 'push': 1596, 'skype': 1597, 'shipped': 1598, 'promptly': 1599, 'prompt': 1600, 'noticed': 1601, 'colored': 1602, 'cheaply': 1603, 'att': 1604, 'distorted': 1605, 'forgot': 1606, 'model': 1607, 'finds': 1608, 'enter': 1609, 'modest': 1610, 'dying': 1611, 'built': 1612, 'install': 1613, 'purchasing': 1614, 'moto': 1615, 'figure': 1616, 'key': 1617, 'fully': 1618, 'fi': 1619, 'memory': 1620, 'card': 1621, 'timely': 1622, 'update': 1623, 'cumbersome': 1624, 'delivery': 1625, 'switch': 1626, 'batteries': 1627, 'receiving': 1628, 'exchanged': 1629, 'cellphone': 1630, 'described': 1631, '11': 1632, 'nyc': 1633, 'defective': 1634, 'unacceptable': 1635, 'catching': 1636, 'function': 1637, 'timeframe': 1638, 'complaint': 1639, 'standard': 1640, 'ugly': 1641, 'improvement': 1642, 'accidentally': 1643, 'listening': 1644, 'kitchen': 1645, 'conversation': 1646, 'practical': 1647, 'ample': 1648, 'eargels': 1649, 'channel': 1650, 'numerous': 1651, 'frustration': 1652, 'understanding': 1653, 'menus': 1654, 'broken': 1655, 'development': 1656, 'knows': 1657, 'operate': 1658, 'paired': 1659, 'normally': 1660, 'brand': 1661, 'players': 1662, 'comments': 1663, 'performed': 1664, 'echo': 1665, 'warranty': 1666, 'produce': 1667, 'luck': 1668, 'exchange': 1669, 'utter': 1670, 'download': 1671, 'designed': 1672, 'smoothly': 1673, 'study': 1674, 'access': 1675, 'somehow': 1676, 'flash': 1677, 'choices': 1678, 'tones': 1679, 'prime': 1680, 'jack': 1681, 'accept': 1682, 'except': 1683, 'allows': 1684, 'open': 1685, 'allowing': 1686, 'numbers': 1687, 'r': 1688, 'crashed': 1689, 'quit': 1690, 'via': 1691, 'span': 1692, 'signs': 1693, 'sizes': 1694, 'provides': 1695, 'classy': 1696, 'mainly': 1697, 'metro': 1698, 'smoke': 1699, 'carries': 1700, 'highest': 1701, 'protector': 1702, 'wont': 1703, 'impossible': 1704, 'refused': 1705, 'discount': 1706, 'talking': 1707, 'telephone': 1708, 'ordering': 1709, 'awkward': 1710, 'row': 1711, 'current': 1712, 'answer': 1713, 'read': 1714, 'laptop': 1715, 'sister': 1716, 'discomfort': 1717, 'normal': 1718, 'confusing': 1719, 'lose': 1720, 'cutouts': 1721, 'cuts': 1722, 'wild': 1723, 'carry': 1724, 'loose': 1725, 'receive': 1726, 'lightly': 1727, 'against': 1728, '2005': 1729, 'certain': 1730, 'unsatisfactory': 1731, 'hype': 1732, 'covered': 1733, 'falls': 1734, 'blew': 1735, 'touches': 1736, 'whom': 1737, 'angles': 1738, 'became': 1739, 'jimmy': 1740, 'sisters': 1741, 'terms': 1742, 'masterpiece': 1743, 'masterpieces': 1744, 'fill': 1745, 'imaginable': 1746, 'pieces': 1747, 'create': 1748, 'levels': 1749, 'canada': 1750, 'sequel': 1751, 'unfunny': 1752, 'generic': 1753, 'morgan': 1754, 'jonah': 1755, 'lazy': 1756, 'presence': 1757, 'obvious': 1758, 'lesser': 1759, 'french': 1760, 'whiny': 1761, 'future': 1762, 'anne': 1763, '9': 1764, 'warmth': 1765, 'delivering': 1766, 'unpredictable': 1767, 'badly': 1768, 'alexander': 1769, 'artist': 1770, 'lived': 1771, 'superbly': 1772, 'b': 1773, 'heaven': 1774, 'lives': 1775, 'church': 1776, 'tonight': 1777, 'uplifting': 1778, 'frankly': 1779, 'club': 1780, 'lane': 1781, 'chick': 1782, 'correct': 1783, 'bold': 1784, 'helps': 1785, 'idiot': 1786, 'accused': 1787, 'afraid': 1788, 'tremendously': 1789, 'sandra': 1790, 'bullock': 1791, 'moments': 1792, 'losing': 1793, 'ratings': 1794, 'dramatic': 1795, 'tension': 1796, 'central': 1797, 'themes': 1798, 'core': 1799, 'following': 1800, 'viewing': 1801, 'quinn': 1802, 'girlfriend': 1803, 'disliked': 1804, 'dollars': 1805, 'mad': 1806, 'cardboard': 1807, 'predictably': 1808, 'crafted': 1809, 'depressing': 1810, 'racism': 1811, 'charisma': 1812, 'explanation': 1813, \"hasn't\": 1814, 'drag': 1815, 'wayne': 1816, 'older': 1817, \"hadn't\": 1818, 'noteworthy': 1819, 'blood': 1820, 'forth': 1821, 'jamie': 1822, 'genius': 1823, 'hence': 1824, 'mishima': 1825, 'uninteresting': 1826, 'chilly': 1827, 'schrader': 1828, 'realistic': 1829, 'talent': 1830, \"director's\": 1831, 'chance': 1832, 'master': 1833, 'senses': 1834, 'june': 1835, 'angry': 1836, 'sour': 1837, 'matter': 1838, 'noir': 1839, 'complex': 1840, 'psychological': 1841, 'soul': 1842, 'gripping': 1843, 'disturbing': 1844, 'jerky': 1845, 'camerawork': 1846, 'witty': 1847, 'ceases': 1848, 'directors': 1849, 'visually': 1850, 'spoiler': 1851, 'remaining': 1852, 'suffering': 1853, 'smile': 1854, 'vomited': 1855, '25': 1856, 'unfolds': 1857, 'contrast': 1858, 'sublime': 1859, 'offensive': 1860, 'poetry': 1861, 'masterful': 1862, 'nature': 1863, 'disbelief': 1864, 'female': 1865, 'array': 1866, 'nuts': 1867, 'dangerous': 1868, 'reactions': 1869, 'twist': 1870, 'shed': 1871, 'underneath': 1872, 'wide': 1873, 'relationship': 1874, 'assistant': 1875, 'laugh': 1876, 'de': 1877, 'taped': 1878, 'wholesome': 1879, 'portraying': 1880, 'taking': 1881, 'forgetting': 1882, 'attempts': 1883, 'situation': 1884, 'bear': 1885, 'kinda': 1886, 'question': 1887, 'lucy': 1888, 'japanese': 1889, 'composition': 1890, 'brian': 1891, 'largely': 1892, 'member': 1893, 'identify': 1894, \"huston's\": 1895, 'robert': 1896, 'murdered': 1897, 'humour': 1898, 'brother': 1899, \"'cover\": 1900, \"girl'\": 1901, 'hollywood': 1902, 'thus': 1903, 'undoubtedly': 1904, 'popular': 1905, 'positive': 1906, 'unique': 1907, 'european': 1908, 'circumstances': 1909, 'caught': 1910, 'junkyard': 1911, 'dogs': 1912, 'american': 1913, 'americans': 1914, 'pile': 1915, 'round': 1916, 'continuity': 1917, 'corn': 1918, 'box': 1919, 'directorial': 1920, 'proud': 1921, 'sand': 1922, 'sake': 1923, 'jobs': 1924, 'public': 1925, 'unrecognizable': 1926, 'relations': 1927, 'stanwyck': 1928, 'surprising': 1929, 'entirely': 1930, 'chow': 1931, 'cheesy': 1932, 'proceedings': 1933, 'remotely': 1934, 'mercy': 1935, 'killing': 1936, 'overacting': 1937, 'awkwardly': 1938, 'english': 1939, 'hackneyed': 1940, 'blah': 1941, 'balanced': 1942, \"would've\": 1943, 'length': 1944, 'air': 1945, 'afternoon': 1946, 'creates': 1947, 'fascinating': 1948, 'humorous': 1949, 'filmed': 1950, 'thoughts': 1951, 'dislike': 1952, 'began': 1953, 'change': 1954, 'season': 1955, 'contains': 1956, '17': 1957, 'reality': 1958, '20th': 1959, 'century': 1960, 'implausible': 1961, 'jean': 1962, 'studio': 1963, 'indoor': 1964, 'start': 1965, 'middle': 1966, 'class': 1967, 'betty': 1968, 'aside': 1969, 'mouse': 1970, 'famous': 1971, 'ground': 1972, 'pleaser': 1973, 'turkey': 1974, 'among': 1975, 'terribly': 1976, 'deserving': 1977, 'shame': 1978, 'credit': 1979, 'version': 1980, \"let's\": 1981, 'dumb': 1982, 'zombie': 1983, 'monster': 1984, 'lack': 1985, 'notable': 1986, 'opening': 1987, 'sequence': 1988, 'gas': 1989, 'fair': 1990, 'teeth': 1991, 'sum': 1992, 'avoided': 1993, 'limited': 1994, 'sign': 1995, 'asleep': 1996, 'cartoons': 1997, 'deserved': 1998, 'element': 1999, 'sit': 2000, 'fifteen': 2001, 'volcano': 2002, 'abysmal': 2003, 'vomit': 2004, 'miss': 2005, 'dedication': 2006, 'versus': 2007, 'brings': 2008, 'focus': 2009, 'underlying': 2010, 'relationships': 2011, 'engaging': 2012, \"master's\": 2013, 'errol': 2014, 'flynn': 2015, 'dull': 2016, 'guests': 2017, 'surrounding': 2018, 'excellently': 2019, 'tops': 2020, 'typical': 2021, 'sci': 2022, 'revealing': 2023, 'africa': 2024, 'process': 2025, 'shakespear': 2026, 'macbeth': 2027, 'brief': 2028, 'moral': 2029, 'decay': 2030, 'forces': 2031, 'evil': 2032, 'adaptation': 2033, 'costumes': 2034, 'ball': 2035, 'wilkinson': 2036, 'judging': 2037, 'difference': 2038, 'documentaries': 2039, \"joe's\": 2040, 'watkins': 2041, 'peter': 2042, 'hollow': 2043, 'laughable': 2044, 'expert': 2045, 'ass': 2046, 'cole': 2047, 'disgrace': 2048, 'sleep': 2049, 'achievement': 2050, \"kid's\": 2051, 'tough': 2052, 'whenever': 2053, 'earth': 2054, 'emily': 2055, 'prepared': 2056, 'compelling': 2057, 'sentiment': 2058, 'trap': 2059, 'fulci': 2060, 'genre': 2061, 'personally': 2062, 'thick': 2063, 'blown': 2064, 'events': 2065, 'result': 2066, 'slightest': 2067, 'duet': 2068, 'doctor': 2069, 'extraordinary': 2070, 'courtroom': 2071, 'highlights': 2072, 'discovering': 2073, 'court': 2074, 'understated': 2075, 'based': 2076, 'smells': 2077, 'male': 2078, 'phenomenal': 2079, 'opinion': 2080, 'neil': 2081, 'delights': 2082, 'sample': 2083, 'deliver': 2084, 'sharply': 2085, 'tongue': 2086, 'cheek': 2087, 'struggle': 2088, 'heads': 2089, 'reminded': 2090, 'childhood': 2091, 'further': 2092, 'lord': 2093, 'atrocious': 2094, 'spoil': 2095, 'references': 2096, 'act': 2097, 'pacing': 2098, 'consistent': 2099, 'dreams': 2100, 'uses': 2101, 'hopefully': 2102, 'loneliness': 2103, 'emilio': 2104, 'interplay': 2105, 'suggest': 2106, 'natural': 2107, 'street': 2108, 'readers': 2109, \"miyazaki's\": 2110, 'hearts': 2111, 'closed': 2112, 'depicts': 2113, \"we'd\": 2114, 'reasons': 2115, 'ponyo': 2116, 'refreshing': 2117, 'traditional': 2118, 'wants': 2119, 'wave': 2120, 'deep': 2121, 'lange': 2122, 'crust': 2123, 'cashier': 2124, 'mmmm': 2125, 'overwhelmed': 2126, 'bite': 2127, 'familiar': 2128, 'favor': 2129, 'grossed': 2130, 'char': 2131, 'attitudes': 2132, 'customers': 2133, 'portion': 2134, 'attack': 2135, 'grill': 2136, 'downtown': 2137, 'scallop': 2138, 'refill': 2139, 'appetizers': 2140, 'batter': 2141, 'finish': 2142, 'meh': 2143, 'min': 2144, 'seasoned': 2145, 'opportunity': 2146, 'underwhelming': 2147, 'grease': 2148, 'roast': 2149, 'sugary': 2150, 'six': 2151, 'die': 2152, 'bye': 2153, 'serves': 2154, 'roasted': 2155, 'garlic': 2156, 'marrow': 2157, 'bartender': 2158, 'lovers': 2159, 'preparing': 2160, 'indian': 2161, 'crispy': 2162, 'tuna': 2163, 'bagels': 2164, 'dine': 2165, 'rarely': 2166, 'curry': 2167, 'bathrooms': 2168, 'decorated': 2169, 'greeted': 2170, 'joint': 2171, 'overcooked': 2172, 'charcoal': 2173, 'decided': 2174, 'dirt': 2175, 'gyros': 2176, 'valley': 2177, 'bowl': 2178, 'disrespected': 2179, 'stepped': 2180, 'gold': 2181, 'puree': 2182, 'bug': 2183, \"we're\": 2184, 'friend': 2185, 'shower': 2186, 'bisque': 2187, 'filet': 2188, 'pepper': 2189, 'cook': 2190, 'dealing': 2191, 'cheeseburger': 2192, 'yum': 2193, 'mayo': 2194, 'building': 2195, 'creamy': 2196, 'similar': 2197, 'sticks': 2198, 'tap': 2199, 'coffee': 2200, 'boba': 2201, 'taco': 2202, 'bachi': 2203, 'salads': 2204, 'neighborhood': 2205, 'soooo': 2206, 'stir': 2207, 'summer': 2208, 'toasted': 2209, 'serve': 2210, 'mom': 2211, 'bites': 2212, 'omg': 2213, 'brick': 2214, 'oven': 2215, 'pancakes': 2216, 'eggs': 2217, 'evening': 2218, 'lukewarm': 2219, 'eggplant': 2220, 'stuffed': 2221, 'mall': 2222, 'perfection': 2223, 'impeccable': 2224, 'pop': 2225, 'assure': 2226, 'professional': 2227, \"we've\": 2228, 'nicest': 2229, 'biscuits': 2230, 'cow': 2231, 'driest': 2232, 'tots': 2233, 'acknowledged': 2234, 'margaritas': 2235, 'flower': 2236, 'group': 2237, 'crab': 2238, 'legs': 2239, 'sliced': 2240, 'filling': 2241, 'choose': 2242, 'entrees': 2243, 'tapas': 2244, 'vinegrette': 2245, 'helped': 2246, 'presentation': 2247, 'satisfying': 2248, 'grilled': 2249, 'focused': 2250, 'promise': 2251, 'legit': 2252, 'staying': 2253, 'fail': 2254, 'plate': 2255, 'serving': 2256, 'fly': 2257, 'mid': 2258, 'definately': 2259, 'flavorless': 2260, 'nachos': 2261, 'tribute': 2262, 'fell': 2263, 'services': 2264, 'heat': 2265, 'undercooked': 2266, 'converter': 2267, 'tied': 2268, 'jiggle': 2269, 'hundred': 2270, 'seperated': 2271, 'mere': 2272, 'ft': 2273, 'excessive': 2274, 'garbled': 2275, 'fooled': 2276, 'clicks': 2277, 'mechanism': 2278, \"motorola's\": 2279, 'followed': 2280, 'directions': 2281, 'kindle': 2282, 'commercials': 2283, 'misleading': 2284, 'couldnt': 2285, 'earphone': 2286, 'breakage': 2287, 'unacceptible': 2288, 'ideal': 2289, 'whose': 2290, 'sensitive': 2291, 'freeway': 2292, 'ac': 2293, 'highy': 2294, 'mins': 2295, '680': 2296, '2mp': 2297, 'pics': 2298, 'arguing': 2299, 'bulky': 2300, 'usable': 2301, 'useful': 2302, 'stream': 2303, 'submerged': 2304, \"microsoft's\": 2305, 'faceplates': 2306, 'drawback': 2307, 'pause': 2308, 'activated': 2309, 'suddenly': 2310, 'ipods': 2311, 'bmw': 2312, 'hearing': 2313, 'wrongly': 2314, 'everyday': 2315, 'intended': 2316, 'runs': 2317, 'greater': 2318, 'buds': 2319, 'waaay': 2320, 'bluetooths': 2321, 'listener': 2322, 'integrated': 2323, 'flush': 2324, 'toilet': 2325, '375': 2326, 'styles': 2327, 'correctly': 2328, '350': 2329, 'jabra350': 2330, 'megapixels': 2331, 'renders': 2332, 'images': 2333, 'purcashed': 2334, 'geeky': 2335, 'oozes': 2336, 'embedded': 2337, 'stylish': 2338, 'qwerty': 2339, 'simpler': 2340, 'iam': 2341, 'disapoinment': 2342, 'accompanied': 2343, 'nicely': 2344, 'damage': 2345, 'definitly': 2346, 'majority': 2347, 'peachy': 2348, 'keen': 2349, 'upstairs': 2350, 'basement': 2351, 'reccomendation': 2352, 'relative': 2353, 'items': 2354, 'sudden': 2355, 'linking': 2356, '8530': 2357, 'curve': 2358, 'sketchy': 2359, 'web': 2360, 'browsing': 2361, 'significantly': 2362, 'unlike': 2363, 'colors': 2364, 'communications': 2365, 'communicate': 2366, 'monkeys': 2367, 'dna': 2368, 'copy': 2369, 'bougth': 2370, 'l7c': 2371, 'mode': 2372, 'file': 2373, 'browser': 2374, 'hs850': 2375, 'os': 2376, 'v1': 2377, '15g': 2378, 'crawl': 2379, 'recognizes': 2380, 'bluetoooth': 2381, 'thorn': 2382, 'abhor': 2383, 'disconnected': 2384, 'mail': 2385, 'backlight': 2386, 'message': 2387, 'lately': 2388, 'wit': 2389, 'pleather': 2390, 'deaf': 2391, 'prettier': 2392, 'investment': 2393, 'ticking': 2394, 'noises': 2395, 'electronics': 2396, 'available': 2397, 'fm': 2398, 'transmitters': 2399, 'h500': 2400, 'mega': 2401, 'pixel': 2402, 'good7': 2403, 'transmit': 2404, 'contacting': 2405, 'dollar': 2406, 'learned': 2407, 'lesson': 2408, 'online': 2409, 'earbugs': 2410, 'roam': 2411, 'crack': 2412, 'infatuated': 2413, 'freezes': 2414, 'frequently4': 2415, 'tick': 2416, 'headbands': 2417, 'ericsson': 2418, 'purchases': 2419, 'shine': 2420, 'calendar': 2421, 'sync': 2422, 'defeats': 2423, 'penny': 2424, 'wallet': 2425, 'excrutiatingly': 2426, 'glove': 2427, 'durable': 2428, 'o': 2429, 'factor': 2430, 'petroleum': 2431, 'stereo': 2432, 'absolutel': 2433, 'potentially': 2434, 'reversible': 2435, 'contstruct': 2436, 'hinge': 2437, 'installed': 2438, 'overnite': 2439, 'handset': 2440, 'attacked': 2441, 'protective': 2442, 'destroying': 2443, 'razor': 2444, 'v3i': 2445, 'shouldve': 2446, 'invented': 2447, 'sooner': 2448, 'engineered': 2449, 'complained': 2450, \"headset's\": 2451, '2160': 2452, 'tracfone': 2453, 'instruction': 2454, 'manual': 2455, 'alarm': 2456, 'clock': 2457, 'antena': 2458, 'compared': 2459, 'usage': 2460, 'ngage': 2461, 'earbuds': 2462, 'riingtones': 2463, 'rip': 2464, 'frequentyly': 2465, 'adhesive': 2466, 'concrete': 2467, 'knock': 2468, 'wood': 2469, 'transformed': 2470, 'organizational': 2471, 'capability': 2472, 'vehicle': 2473, 'cradle': 2474, 'jerks': 2475, 'starter': 2476, 'loudspeaker': 2477, 'option': 2478, 'bumpers': 2479, 'lights': 2480, 'improve': 2481, 'leaks': 2482, 'according': 2483, 'applifies': 2484, 'specially': 2485, 'transmission': 2486, 's11': 2487, 'drivng': 2488, 'tape': 2489, 'embarassing': 2490, 'protects': 2491, 'operates': 2492, 'soyo': 2493, 'portraits': 2494, 'exterior': 2495, 'mentioned': 2496, 'gadgets': 2497, 'magical': 2498, 'comparably': 2499, 'offering': 2500, 'encourage': 2501, 'recieve': 2502, 'cradles': 2503, 'kits': 2504, 'excelent': 2505, 'cingulair': 2506, 'nicer': 2507, 'hoursthe': 2508, 'thereplacement': 2509, '2000': 2510, 'yell': 2511, 'iriver': 2512, 'spinn': 2513, 'fond': 2514, 'magnetic': 2515, 'strap': 2516, 'psyched': 2517, 'appointments': 2518, 'sanyo': 2519, 'survived': 2520, 'dozens': 2521, 'blacktop': 2522, 'ill': 2523, 'earphones': 2524, 'cellular': 2525, 'awsome': 2526, 'drained': 2527, 'earpad': 2528, 'displeased': 2529, 'defect': 2530, 'risk': 2531, 'restored': 2532, 'jx': 2533, 'searched': 2534, 'pad': 2535, 'lit': 2536, 'portable': 2537, 'colleague': 2538, 'bed': 2539, 'wi': 2540, 'morning': 2541, 'hat': 2542, 'shipment': 2543, 'surefire': 2544, 'gx2': 2545, 'bt50': 2546, 'buyers': 2547, 'remorse': 2548, 'accessoryone': 2549, 'inexcusable': 2550, 'carriers': 2551, 'tmobile': 2552, 'procedure': 2553, 'motorolas': 2554, 'vx9900': 2555, 'env': 2556, 'rocketed': 2557, 'destination': 2558, 'unknown': 2559, 'conditions': 2560, 'usefulness': 2561, \"verizon's\": 2562, 'bills': 2563, 'plans': 2564, 'overnight': 2565, 'respect': 2566, 'stuck': 2567, 'max': 2568, 'mute': 2569, 'hybrid': 2570, 'palmtop': 2571, 'excels': 2572, 'bt250v': 2573, 'bose': 2574, 'cancelling': 2575, 'commuter': 2576, 'photo': 2577, 'ad': 2578, 'noted': 2579, 'happens': 2580, 'frog': 2581, 'pushed': 2582, 'aluminum': 2583, 'vx': 2584, 'protected': 2585, 'handheld': 2586, 'tools': 2587, 'sturdiness': 2588, 'source': 2589, 'waterproof': 2590, 'sliding': 2591, 'pants': 2592, 'pockets': 2593, 'shield': 2594, 'incrediable': 2595, 'refuse': 2596, 'activate': 2597, 'gentle': 2598, 'threw': 2599, 'window': 2600, 'inches': 2601, 'counter': 2602, 'cracked': 2603, 'laughing': 2604, 'trunk': 2605, 'carried': 2606, 'hitch': 2607, 'directly': 2608, 'increase': 2609, 'shifting': 2610, 'bubbling': 2611, 'peeling': 2612, 'scratch': 2613, 'droid': 2614, 'exercise': 2615, 'earset': 2616, 'outgoing': 2617, 'package': 2618, 'patient': 2619, 'wirefly': 2620, 'contact': 2621, 'inform': 2622, 'practice': 2623, 'aggravating': 2624, 'virgin': 2625, 'muddy': 2626, 'casing': 2627, \"wire's\": 2628, 'insert': 2629, 'glued': 2630, 'slid': 2631, 'plantronincs': 2632, 'continues': 2633, 'disapointing': 2634, 'fourth': 2635, 'fixes': 2636, 'accessing': 2637, 'downloading': 2638, 'performing': 2639, 'functions': 2640, 'constantly': 2641, 'happening': 2642, 'adapters': 2643, 'procedures': 2644, 're': 2645, 'wiping': 2646, 'strength': 2647, 'louder': 2648, 'navigate': 2649, 'recessed': 2650, 'avoiding': 2651, 'smoking': 2652, 'linked': 2653, 'possesed': 2654, 'research': 2655, 'division': 2656, 'infuriating': 2657, 'walkman': 2658, 'charges': 2659, 'europe': 2660, 'asia': 2661, 'clipping': 2662, 'deffinitely': 2663, \"cent's\": 2664, 'behing': 2665, '5020': 2666, 'comfortible': 2667, '24': 2668, 'pain': 2669, 'arrival': 2670, 'fraction': 2671, 'crappy': 2672, 'e715': 2673, 'seeen': 2674, 'interface': 2675, 'decade': 2676, 'compete': 2677, 'designs': 2678, '700w': 2679, 'transceiver': 2680, 'steer': 2681, 'replacementr': 2682, 'pens': 2683, 'buyit': 2684, 'beats': 2685, 'fingers': 2686, 'steep': 2687, 'haul': 2688, 'dissapointing': 2689, 'originally': 2690, 'discarded': 2691, 'posted': 2692, 'detailed': 2693, 'grey': 2694, 'existing': 2695, 'cds': 2696, 'currently': 2697, 'shooters': 2698, 'delay': 2699, 'messes': 2700, 'bitpim': 2701, 'program': 2702, 'transfer': 2703, 'accessory': 2704, 'manufacturer': 2705, 'muffled': 2706, 'incoming': 2707, 'severe': 2708, 'resistant': 2709, 'contacted': 2710, 'receipt': 2711, 'linksys': 2712, 'refurb': 2713, 'snug': 2714, 'heavy': 2715, 'promised': 2716, 'loop': 2717, 'latch': 2718, 'visor': 2719, 'address': 2720, 'reboots': 2721, 'tungsten': 2722, 'e2': 2723, 'flipphones': 2724, 'sins': 2725, 'industrial': 2726, 'tracking': 2727, 'detachable': 2728, 'periodically': 2729, 'upload': 2730, 'locks': 2731, 'screens': 2732, 'randomly': 2733, 'locked': 2734, '325': 2735, 'worn': 2736, 'ringer': 2737, 'acceptable': 2738, 'upbeat': 2739, 'forgeries': 2740, 'abound': 2741, 'ca': 2742, '42': 2743, 'smallest': 2744, 'stays': 2745, 'drains': 2746, 'superfast': 2747, 'ergonomic': 2748, 'theory': 2749, 'clips': 2750, 'distracting': 2751, 'cbr': 2752, 'mp3s': 2753, 'preferably': 2754, 'windows': 2755, 'media': 2756, 'sos': 2757, 'signals': 2758, 'connect': 2759, 'near': 2760, 'startac': 2761, 'regretted': 2762, 'outperform': 2763, 'china': 2764, 'v325i': 2765, 'sim': 2766, '3o': 2767, 'replaced': 2768, '18': 2769, '4s': 2770, 'connecting': 2771, 'sources': 2772, 'imac': 2773, 'external': 2774, 'bells': 2775, 'whistles': 2776, 'slide': 2777, 'grip': 2778, 'prevents': 2779, 'slipping': 2780, 'exclaim': 2781, 'whoa': 2782, 'corded': 2783, 'functional': 2784, 'soft': 2785, 'tight': 2786, 'shape': 2787, 'copier': 2788, 'sent': 2789, 'anywhere': 2790, 'sold': 2791, 'units': 2792, 'krussel': 2793, 'tracfonewebsite': 2794, 'toactivate': 2795, 'texas': 2796, 'dit': 2797, '5320': 2798, 'blueant': 2799, 'supertooth': 2800, 'pcs': 2801, 'sch': 2802, 'r450': 2803, 'slider': 2804, 'premium': 2805, 'plugs': 2806, 'capacity': 2807, 'confortable': 2808, 'periods': 2809, 'ant': 2810, 'hey': 2811, 'pleasantly': 2812, 'suprised': 2813, 'dustpan': 2814, 'indoors': 2815, 'disposable': 2816, 'puff': 2817, 'ride': 2818, 'smoother': 2819, 'nano': 2820, 'dissapointed': 2821, 'reccommend': 2822, 'anti': 2823, 'glare': 2824, 'smartphone': 2825, 'atleast': 2826, 'amp': 2827, 'reoccure': 2828, 'somewhere': 2829, 'creaks': 2830, 'floor': 2831, 'apartment': 2832, 'inconspicuous': 2833, 'slowly': 2834, 'upgrade': 2835, 'securly': 2836, 'possibility': 2837, 'booking': 2838, 'entertainment': 2839, 'communication': 2840, 'activesync': 2841, 'optimal': 2842, 'synchronization': 2843, 'coupon': 2844, 'instance': 2845, 'ps3': 2846, 'cheapy': 2847, 'shouting': 2848, 'shiny': 2849, 'grtting': 2850, '44': 2851, 'v3c': 2852, 'exceeds': 2853, 'sight': 2854, 'improper': 2855, 'palms': 2856, 'hoped': 2857, 'v265': 2858, 'pads': 2859, 'stops': 2860, 'intermittently': 2861, 'reaching': 2862, 'keys': 2863, 'nightmare': 2864, 'speakerphone': 2865, 'cassette': 2866, 'cellphones': 2867, 'planning': 2868, \"other's\": 2869, 'products': 2870, 'sensor': 2871, 'reliability': 2872, 'beeping': 2873, 'dieing': 2874, 'ir': 2875, 'cancellation': 2876, 'counterfeit': 2877, 'travled': 2878, 'swivel': 2879, 'dual': 2880, '8125': 2881, 'keeping': 2882, 'bottowm': 2883, 'gimmick': 2884, 'opens': 2885, 'causing': 2886, 'trust': 2887, 'maintains': 2888, 'flawless': 2889, 'devices': 2890, 'holder': 2891, 'land': 2892, 'loops': 2893, 'owning': 2894, 'official': 2895, 'oem': 2896, 'loudest': 2897, 'competitors': 2898, 'saved': 2899, 'alot': 2900, 'unintelligible': 2901, 'restart': 2902, 'bend': 2903, 'leaf': 2904, 'metal': 2905, 'stress': 2906, 'leopard': 2907, 'print': 2908, 'saggy': 2909, 'floppy': 2910, 'looses': 2911, 'snap': 2912, '8525': 2913, 'fliptop': 2914, 'wobbly': 2915, 'eventually': 2916, 'fulfills': 2917, 'requirements': 2918, 'rests': 2919, 'websites': 2920, 'cables': 2921, 'lap': 2922, 'controls': 2923, 'accessable': 2924, 'mine': 2925, 'satisifed': 2926, 's710a': 2927, 'specs': 2928, 'armband': 2929, 'allot': 2930, 'clearer': 2931, 'keypads': 2932, 'reach': 2933, 'ericson': 2934, 'z500a': 2935, 'motor': 2936, 'center': 2937, 'voltage': 2938, 'humming': 2939, 'equipment': 2940, 'wake': 2941, 'styling': 2942, 'restocking': 2943, 'fee': 2944, 'darn': 2945, 'sweetest': 2946, 'securely': 2947, 'hook': 2948, 'canal': 2949, 'videos': 2950, 'negatively': 2951, 'adapter': 2952, 'provide': 2953, 'assumed': 2954, 'lense': 2955, 'text': 2956, 'messaging': 2957, 'tricky': 2958, 'lasted': 2959, 'flops': 2960, 'smudged': 2961, 'infra': 2962, 'port': 2963, 'irda': 2964, 'aimless': 2965, 'distressed': 2966, 'drifting': 2967, 'attempting': 2968, 'artiness': 2969, 'existent': 2970, 'gerardo': 2971, 'emptiness': 2972, 'science': 2973, 'teacher': 2974, 'owls': 2975, 'florida': 2976, 'muppets': 2977, 'overdue': 2978, 'screenplay': 2979, 'post': 2980, 'structure': 2981, 'tightly': 2982, 'vitally': 2983, 'occurs': 2984, 'content': 2985, 'superlative': 2986, 'require': 2987, 'puzzle': 2988, 'solving': 2989, 'pulls': 2990, 'punches': 2991, 'th': 2992, 'insane': 2993, 'unlockable': 2994, 'aye': 2995, 'doomed': 2996, 'conception': 2997, 'minor': 2998, 'confirm': 2999, 'exaggerating': 3000, 'trailer': 3001, 'carrell': 3002, 'co': 3003, 'freeman': 3004, 'helms': 3005, 'animals': 3006, 'integration': 3007, 'translate': 3008, 'succeeds': 3009, 'meagre': 3010, 'cancan': 3011, 'boasts': 3012, 'cutest': 3013, 'leading': 3014, 'heels': 3015, 'insipid': 3016, 'efforts': 3017, 'heche': 3018, 'sam': 3019, \"shepard's\": 3020, 'gung': 3021, 'ho': 3022, 'marine': 3023, 'sobering': 3024, 'riveted': 3025, 'resounding': 3026, 'hanks': 3027, 'fingernails': 3028, 'chalkboard': 3029, 'unnecessary': 3030, 'train': 3031, 'roller': 3032, 'coaster': 3033, 'grates': 3034, 'nerves': 3035, 'improved': 3036, 'improvisation': 3037, 'worry': 3038, 'surroundings': 3039, 'crackles': 3040, 'youthful': 3041, 'concentrate': 3042, 'meanders': 3043, 'builders': 3044, 'cross': 3045, 'g': 3046, 'cliche': 3047, 'predict': 3048, 'verbatim': 3049, 'chills': 3050, 'nevsky': 3051, 'whoever': 3052, 'planned': 3053, 'dodge': 3054, 'stratus': 3055, 'makers': 3056, 'restrained': 3057, 'québec': 3058, 'promote': 3059, 'suited': 3060, 'horrendous': 3061, 'retarded': 3062, 'girls': 3063, 'manna': 3064, 'evaluate': 3065, 'veteran': 3066, 'nostalgia': 3067, 'ursula': 3068, \"burton's\": 3069, 'nun': 3070, 'nuns': 3071, 'shirley': 3072, 'jones': 3073, 'rendition': 3074, 'cotton': 3075, 'unfaithful': 3076, 'gere': 3077, 'dialogs': 3078, 'shallow': 3079, 'insincere': 3080, 'politically': 3081, 'savant': 3082, 'peaking': 3083, 'columbo': 3084, 'neighbour': 3085, 'misplace': 3086, 'weaker': 3087, 'debated': 3088, 'sack': 3089, 'trumpeter': 3090, 'falsely': 3091, 'murder': 3092, 'applause': 3093, 'prelude': 3094, 'villain': 3095, 'michael': 3096, 'ironside': 3097, 'rocked': 3098, 'social': 3099, 'physical': 3100, 'outlets': 3101, 'ben': 3102, 'affleck': 3103, 'leaving': 3104, 'knocked': 3105, 'excruciatingly': 3106, 'wedding': 3107, 'agreed': 3108, 'aired': 3109, 'dribble': 3110, 'imdb': 3111, 'mirrormask': 3112, 'inexperience': 3113, 'meant': 3114, 'ineptly': 3115, 'stereotypically': 3116, 'schoolers': 3117, 'cry': 3118, 'relate': 3119, 'sharing': 3120, 'confuses': 3121, 'underwater': 3122, 'repeated': 3123, 'thousand': 3124, 'redeemed': 3125, 'mst3k': 3126, 'fodder': 3127, 'anthony': 3128, 'horse': 3129, 'walk': 3130, 'theatre': 3131, 'relief': 3132, 'pillow': 3133, 'tickets': 3134, 'identifies': 3135, 'haggis': 3136, 'handle': 3137, 'strokes': 3138, 'storytelling': 3139, 'painted': 3140, 'crayons': 3141, 'crash': 3142, 'provokes': 3143, 'emotion': 3144, 'teaches': 3145, 'prejudice': 3146, 'empowerment': 3147, 'shut': 3148, 'primal': 3149, 'impulse': 3150, 'preservation': 3151, 'shattered': 3152, \"'film'\": 3153, 'recover': 3154, 'joins': 3155, 'revenge': 3156, 'boogeyman': 3157, 'zombiez': 3158, 'hellish': 3159, 'trinity': 3160, 'distinction': 3161, 'artless': 3162, 'endlessly': 3163, 'ugliest': 3164, 'is\\x85was': 3165, 'merit': 3166, 'akin': 3167, 'atrocity': 3168, 'voyage': 3169, 'discovery': 3170, 'unrecommended': 3171, 'ms': 3172, 'garbo': 3173, 'bat': 3174, 'talents': 3175, 'netflix': 3176, 'stocking': 3177, 'renowned': 3178, 'frances': 3179, 'marion': 3180, 'suffered': 3181, 'heroes': 3182, 'shined': 3183, 'senior': 3184, 'showcasing': 3185, 'punched': 3186, 'gallon': 3187, 'spew': 3188, 'foxx': 3189, 'owns': 3190, 'spacek': 3191, 'coal': 3192, \"miner's\": 3193, 'quaid': 3194, 'balls': 3195, 'himself': 3196, 'legendary': 3197, \"charles'\": 3198, 'biographical': 3199, 'musician': 3200, 'ironically': 3201, 'secondly': 3202, 'perfected': 3203, 'chase': 3204, 'pandering': 3205, 'sabotages': 3206, 'rumbles': 3207, 'desperately': 3208, 'depending': 3209, 'logic': 3210, 'unremarkable': 3211, 'author': 3212, 'abstruse': 3213, 'culture': 3214, 'reenactments': 3215, 'emotionally': 3216, 'adrift': 3217, 'stagy': 3218, 'sits': 3219, 'soldiers': 3220, 'masculinity': 3221, 'pledge': 3222, 'hairsplitting': 3223, 'purity': 3224, 'admiration': 3225, 'swords': 3226, 'kill': 3227, 'momentum': 3228, 'quicker': 3229, 'resume': 3230, 'amateurish': 3231, '80s': 3232, 'fascinated': 3233, 'inconsistencies': 3234, 'horrid': 3235, 'ballet': 3236, 'repertory': 3237, 'developments': 3238, 'woa': 3239, 'sappiest': 3240, 'unwatchable': 3241, 'filmography': 3242, 'site': 3243, 'intentions': 3244, 'undertone': 3245, 'fifties': 3246, 'existential': 3247, 'weariness': 3248, 'ought': 3249, 'regrettably': 3250, 'expression': 3251, 'celebration': 3252, 'patriotism': 3253, 'underlines': 3254, 'allison': 3255, 'concert': 3256, 'sequences': 3257, 'ridiculousness': 3258, 'surface': 3259, 'conceptually': 3260, 'everybody': 3261, 'fantasy': 3262, 'considered': 3263, 'understood': 3264, 'identified': 3265, 'crime': 3266, 'belmondo': 3267, 'lino': 3268, 'ventura': 3269, 'portrayals': 3270, 'detailing': 3271, 'loyalty': 3272, 'treachery': 3273, 'melville': 3274, 'manages': 3275, 'transcend': 3276, 'limitations': 3277, 'indie': 3278, 'continually': 3279, 'subverting': 3280, 'emerge': 3281, 'intense': 3282, 'crocdodile': 3283, 'believed': 3284, 'crocs': 3285, 'swamp': 3286, 'christopher': 3287, 'eccleston': 3288, 'tardis': 3289, 'continuation': 3290, 'succeeded': 3291, \"here's\": 3292, 'pi': 3293, 'witticisms': 3294, 'bob': 3295, 'rise': 3296, 'finale': 3297, 'kieslowski': 3298, 'amaze': 3299, 'colours': 3300, 'flag': 3301, 'connections': 3302, 'survivors': 3303, 'ferry': 3304, 'valentine': 3305, 'solidifying': 3306, 'happiness': 3307, 'dealt': 3308, \"roth's\": 3309, 'pearls': 3310, 'awarded': 3311, 'eloquently': 3312, 'francis': 3313, 'ford': 3314, 'coppola': 3315, 'gradually': 3316, 'develop': 3317, 'lies': 3318, \"nicola's\": 3319, 'roeg': 3320, 'wih': 3321, 'translating': 3322, 'strives': 3323, 'greatness': 3324, 'muddled': 3325, 'disparate': 3326, 'accurately': 3327, 'defined': 3328, 'tolerate': 3329, 'political': 3330, 'incorrectness': 3331, 'artistic': 3332, 'suspension': 3333, 'slavic': 3334, 'outlandish': 3335, 'psychotic': 3336, 'lovable': 3337, 'enjoyment': 3338, 'repair': 3339, 'bitchy': 3340, 'boss': 3341, 'tear': 3342, 'malta': 3343, 'settings': 3344, 'barren': 3345, 'hockey': 3346, 'defensemen': 3347, 'goalies': 3348, 'diving': 3349, 'net': 3350, 'superficial': 3351, \"'stagey'\": 3352, 'farce': 3353, 'pyromaniac': 3354, 'waylaid': 3355, 'switched': 3356, 'yawn': 3357, 'educational': 3358, 'barney': 3359, 'duper': 3360, 'babie': 3361, 'bop': 3362, 'storm': 3363, 'trooper': 3364, 'potted': 3365, 'plants': 3366, 'shameful': 3367, 'television': 3368, 'writers': 3369, 'smack': 3370, 'bonus': 3371, 'episodes': 3372, 'latched': 3373, 'endearing': 3374, \"family's\": 3375, 'sibling': 3376, 'bond': 3377, 'unneeded': 3378, 'controversy': 3379, 'damian': 3380, 'versatile': 3381, 'cutting': 3382, 'passion': 3383, 'ireland': 3384, 'horrified': 3385, 'sympathetic': 3386, 'movements': 3387, 'shelf': 3388, 'elias': 3389, 'koteas': 3390, 'palance': 3391, 'angelina': 3392, 'naked': 3393, 'cameo': 3394, 'sven': 3395, 'ole': 3396, 'thorsen': 3397, 'ebay': 3398, 'poler': 3399, 'fort': 3400, 'steele': 3401, 'unrealistic': 3402, '70000': 3403, 'bell': 3404, 'higher': 3405, 'sink': 3406, 'slackers': 3407, 'excuses': 3408, 'actions': 3409, 'excerpts': 3410, 'stylized': 3411, 'exemplars': 3412, 'designer': 3413, 'powerful': 3414, 'explorations': 3415, 'politics': 3416, 'rendering': 3417, \"america's\": 3418, 'imperial': 3419, 'faultless': 3420, 'underappreciated': 3421, 'keith': 3422, 'bully': 3423, 'teddy': 3424, 'vivid': 3425, 'sean': 3426, \"connery's\": 3427, 'noble': 3428, 'brigand': 3429, 'candace': 3430, \"bergen's\": 3431, 'feisty': 3432, 'heroine': 3433, 'wily': 3434, 'hay': 3435, \"kanaly's\": 3436, 'spiffy': 3437, 'radiant': 3438, 'lieutenant': 3439, \"roosevelt's\": 3440, 'stick': 3441, 'adventure': 3442, 'ryans': 3443, 'portrayed': 3444, 'schizophrenic': 3445, 'affected': 3446, 'apt': 3447, 'ryan': 3448, 'imitation': 3449, 'individual': 3450, 'fashioned': 3451, 'tuneful': 3452, 'rita': 3453, 'hayworth': 3454, 'pedestal': 3455, 'exploit': 3456, 'financial': 3457, 'gain': 3458, 'linear': 3459, 'narration': 3460, 'flashbacks': 3461, 'articulated': 3462, 'monica': 3463, 'bellucci': 3464, 'commentary': 3465, \"today's\": 3466, 'timers': 3467, 'laughs': 3468, 'northern': 3469, 'community': 3470, 'represents': 3471, 'vivian': 3472, 'schilling': 3473, '95': 3474, 'theatres': 3475, 'screamy': 3476, 'masculine': 3477, 'casted': 3478, 'throwback': 3479, 'student': 3480, \"1980's\": 3481, 'experiences': 3482, 'abroad': 3483, 'interacting': 3484, 'nationalities': 3485, 'slightly': 3486, 'ticker': 3487, 'buildings': 3488, 'locations': 3489, 'hummh': 3490, 'yelps': 3491, 'hes': 3492, 'funniest': 3493, 'curtain': 3494, \"'ive\": 3495, \"before'\": 3496, 'edition': 3497, 'lid': 3498, 'romantic': 3499, 'laughed': 3500, 'chosen': 3501, 'tortured': 3502, 'blatant': 3503, 'propaganda': 3504, 'hatred': 3505, 'admitted': 3506, 'school': 3507, 'admins': 3508, 'thunderbirds': 3509, 'motion': 3510, 'needlessly': 3511, 'repeats': 3512, 'backed': 3513, 'vehicles': 3514, 'flakes': 3515, 'bordered': 3516, 'stupidity': 3517, 'filmmaker': 3518, 'nor': 3519, 'hide': 3520, 'monumental': 3521, 'halfway': 3522, 'embarrassed': 3523, 'howell': 3524, 'bag': 3525, 'stephen': 3526, 'mchattie': 3527, 'lance': 3528, 'hendrikson': 3529, 'raging': 3530, 'cheekbones': 3531, 'professionals': 3532, 'debbie': 3533, 'rochon': 3534, 'contributory': 3535, 'former': 3536, 'chimp': 3537, 'tolerable': 3538, 'oy': 3539, 'vey': 3540, 'simplifying': 3541, 'brevity': 3542, 'fulfilling': 3543, 'amusing': 3544, 'convoluted': 3545, 'convince': 3546, 'questioning': 3547, 'bela': 3548, 'lugosi': 3549, 'extraneous': 3550, 'intoning': 3551, 'decidely': 3552, 'universal': 3553, 'armand': 3554, 'assante': 3555, \"company's\": 3556, 'tying': 3557, 'comprehensible': 3558, 'hang': 3559, 'camp': 3560, 'expecting': 3561, 'iq': 3562, 'mollusk': 3563, 'loosely': 3564, 'string': 3565, 'lower': 3566, 'fox': 3567, 'scripts': 3568, 'victor': 3569, 'mclaglen': 3570, 'donlevy': 3571, 'taylor': 3572, 'president': 3573, 'u': 3574, 'unmoving': 3575, \"taylor's\": 3576, \"stanwyck's\": 3577, 'producer': 3578, 'gifted': 3579, 'cheerless': 3580, 'heist': 3581, 'characterisation': 3582, 'underbite': 3583, 'stoic': 3584, 'emoting': 3585, 'yun': 3586, 'tomorrow': 3587, 'abandoned': 3588, 'factory': 3589, 'executed': 3590, 'flying': 3591, 'judo': 3592, 'la': 3593, 'woo': 3594, 'squibs': 3595, 'america': 3596, 'derivative': 3597, 'hopeless': 3598, 'uneasy': 3599, 'composed': 3600, 'elderly': 3601, 'babbling': 3602, 'overwrought': 3603, 'pseudo': 3604, 'satanic': 3605, 'gibberish': 3606, 'corny': 3607, 'teen': 3608, 'goth': 3609, 'blush': 3610, 'olde': 3611, 'latin': 3612, 'sloppy': 3613, 'underacting': 3614, 'competent': 3615, 'jerry': 3616, 'falwell': 3617, 'starring': 3618, 'jaclyn': 3619, 'smith': 3620, 'lifetime': 3621, 'sells': 3622, 'assaulted': 3623, 'strident': 3624, 'cords': 3625, 'blare': 3626, 'pap': 3627, 'screened': 3628, 'punish': 3629, 'unemployed': 3630, 'understatement': 3631, 'universe': 3632, 'team': 3633, 'trond': 3634, 'fausa': 3635, 'aurvåg': 3636, 'bothersome': 3637, 'comment': 3638, '2006': 3639, 'move': 3640, 'initially': 3641, 'local': 3642, 'sites': 3643, 'buffalo': 3644, 'intrigued': 3645, 'applauded': 3646, 'lilt': 3647, 'duris': 3648, 'views': 3649, 'barcelona': 3650, 'famed': 3651, 'gaudi': 3652, 'towers': 3653, 'despised': 3654, 'rough': 3655, 'draft': 3656, 'shooting': 3657, 'completed': 3658, 'personalities': 3659, 'twists': 3660, 'occur': 3661, 'irritating': 3662, 'indescribably': 3663, 'idiotic': 3664, 'cheesiness': 3665, 'unethical': 3666, 'nc': 3667, 'zillion': 3668, 'washing': 3669, 'twirling': 3670, 'grade': 3671, 'z': 3672, \"fox's\": 3673, 'road': 3674, '1948': 3675, 'silly': 3676, 'unmitigated': 3677, 'blandly': 3678, 'edward': 3679, 'chodorov': 3680, 'negulesco': 3681, 'widmark': 3682, 'unintentionally': 3683, 'comical': 3684, 'marbles': 3685, 'marred': 3686, 'constant': 3687, 'exteriors': 3688, 'prompted': 3689, 'aged': 3690, 'upper': 3691, 'uptight': 3692, 'mistakes': 3693, 'jokes': 3694, 'offend': 3695, 'littered': 3696, 'overt': 3697, 'slurs': 3698, 'members': 3699, 'whites': 3700, 'depicted': 3701, 'morons': 3702, 'boobs': 3703, 'lets': 3704, 'destroy': 3705, \"latifa's\": 3706, 'wouldnt': 3707, 'steamboat': 3708, 'willie': 3709, 'amazingly': 3710, 'plane': 3711, 'tons': 3712, 'granted': 3713, '1928': 3714, 'timeless': 3715, 'straw': 3716, 'cruel': 3717, \"mickey's\": 3718, '80': 3719, 'bipolarity': 3720, 'thug': 3721, \"luv's\": 3722, 'diaper': 3723, 'commercial': 3724, 'awards': 3725, 'accolades': 3726, 'body': 3727, '1947': 3728, 'garfield': 3729, 'ann': 3730, 'revere': 3731, 'lilli': 3732, 'plmer': 3733, 'william': 3734, 'conrad': 3735, 'lee': 3736, 'cinematographers': 3737, 'wong': 3738, 'howe': 3739, 'qualities': 3740, 'thomerson': 3741, '1986': 3742, 'problems\\x97the': 3743, 'professor': 3744, 'established': 3745, 'students': 3746, 'necklace': 3747, 'containing': 3748, 'meteorite': 3749, 'matthews': 3750, 'wrote': 3751, '1995': 3752, 'grim': 3753, 'aspects': 3754, 'gore': 3755, 'convention': 3756, 'cg': 3757, 'microsoft': 3758, 'slideshow': 3759, \"god's\": 3760, 'explosion': 3761, 'tanks': 3762, 'okay': 3763, 'critic': 3764, \"credit's\": 3765, 'creature': 3766, 'gotta': 3767, 'slimy': 3768, 'drooling': 3769, 'breeders': 3770, 'ebola': 3771, 'virus': 3772, 'comedic': 3773, 'timing': 3774, 'debits': 3775, 'popcorn': 3776, 'borders': 3777, 'lewis': 3778, \"black's\": 3779, 'considerable': 3780, 'incendiary': 3781, 'unrestrained': 3782, 'sole': 3783, 'bright': 3784, 'superbad': 3785, 'interim': 3786, 'originality': 3787, 'freshness': 3788, 'offer': 3789, 'evidently': 3790, 'reflected': 3791, 'borrowed': 3792, 'filmiing': 3793, 'expansive': 3794, 'convey': 3795, 'broad': 3796, 'sweep': 3797, 'landscapes': 3798, 'trashy': 3799, 'precisely': 3800, 'proudly': 3801, 'classical': 3802, 'wb': 3803, 'toons': 3804, 'delivered': 3805, 'underrated': 3806, 'murky': 3807, 'related': 3808, 'sitcoms': 3809, 'oriented': 3810, 'teenagers': 3811, 'peculiarity': 3812, 'excessively': 3813, 'phony': 3814, 'contrived': 3815, 'um': 3816, 'perabo': 3817, 'foolish': 3818, 'accents': 3819, 'hypocrisy': 3820, 'rubbish': 3821, 'researched': 3822, 'pitch': 3823, 'omit': 3824, 'instant': 3825, 'catchy': 3826, 'credits': 3827, 'simmering': 3828, 'boiling': 3829, 'warts': 3830, \"poet's\": 3831, 'bohemian': 3832, 'wartime': 3833, 'bombardments': 3834, 'london': 3835, 'outward': 3836, 'tranquillity': 3837, 'welsh': 3838, 'coastal': 3839, 'retreat': 3840, 'borderlines': 3841, 'friendship': 3842, 'lust': 3843, 'concerns': 3844, 'jealousy': 3845, 'rivalry': 3846, 'cowardice': 3847, 'egotism': 3848, 'heroism': 3849, 'sacrifice': 3850, 'suggests': 3851, 'tensions': 3852, 'inappropriate': 3853, 'smiling': 3854, 'keira': 3855, 'knightley': 3856, 'prone': 3857, 'inventive': 3858, 'pointillistic': 3859, 'behold': 3860, 'continuously': 3861, 'bertolucci': 3862, 'sidelined': 3863, 'inexplicable': 3864, 'crew': 3865, 'regardless': 3866, 'custer': 3867, 'alongside': 3868, 'olivia': 3869, 'havilland': 3870, 'dads': 3871, 'grew': 3872, 'realised': 3873, 'jim': 3874, \"o'connor\": 3875, 'energetic': 3876, 'george': 3877, 'hosting': 3878, 'overs': 3879, 'monotonous': 3880, 'shenanigans': 3881, 'spy': 3882, 'kidnapped': 3883, 'foreign': 3884, 'random': 3885, 'taxidermists': 3886, 'stewart': 3887, 'hero': 3888, 'rips': 3889, 'climax': 3890, 'embassy': 3891, 'brooding': 3892, 'menace': 3893, \"hitchcock's\": 3894, 'nevertheless': 3895, 'stable': 3896, \"fi's\": 3897, 'producers': 3898, 'scot': 3899, 'vandiver': 3900, 'nonetheless': 3901, 'campy': 3902, 'bendingly': 3903, 'scares': 3904, 'medical': 3905, 'terminology': 3906, 'iffy': 3907, 'insulin': 3908, 'dependant': 3909, 'diabetic': 3910, 'complexity': 3911, 'task': 3912, 'challenges': 3913, 'facing': 3914, 'attempted': 3915, 'truth': 3916, 'reconciliation': 3917, 'magnificent': 3918, 'woven': 3919, 'splendid': 3920, 'view': 3921, 'subtitles': 3922, 'aversion': 3923, 'therapy': 3924, \"'must'\": 3925, 'jason': 3926, 'connery': 3927, 'moved': 3928, 'tears': 3929, 'monolog': 3930, 'candle': 3931, 'sphere': 3932, 'helen': 3933, 'baxendale': 3934, 'credible': 3935, 'cheerfull': 3936, 'naughty': 3937, 'deadly': 3938, 'shakespears': 3939, 'lyrics': 3940, 'dr': 3941, 'seuss': 3942, 'brilliantly': 3943, 'animated': 3944, \"upa's\": 3945, 'finest': 3946, 'academy': 3947, 'award': 3948, 'integral': 3949, 'helping': 3950, \"bailey's\": 3951, 'eiko': 3952, 'ishioka': 3953, \"coppola's\": 3954, 'dracula': 3955, '1971': 3956, 'format': 3957, 'baaaaaad': 3958, 'collect': 3959, 'extant': 3960, \"austen's\": 3961, 'consolations': 3962, \"anne's\": 3963, 'speaking': 3964, 'unbearably': 3965, 'kitchy': 3966, 'raw': 3967, 'sublimely': 3968, 'theatrical': 3969, \"everyone's\": 3970, 'terror': 3971, 'lie': 3972, 'escalating': 3973, 'monstrous': 3974, 'consequences': 3975, 'mesmerising': 3976, \"else's\": 3977, 'fumbling': 3978, 'hankies': 3979, 'faces': 3980, 'males': 3981, 'females': 3982, 'alike': 3983, 'julian': 3984, 'fellowes': 3985, 'triumphed': 3986, 'national': 3987, 'treasure': 3988, 'phrase': 3989, 'owed': 3990, 'kris': 3991, 'kristoffersen': 3992, 'marriage': 3993, 'errors': 3994, 'commented': 3995, 'cars': 3996, 'garage': 3997, 'facial': 3998, 'configuration': 3999, 'inspiration': 4000, 'overcome': 4001, 'rejection': 4002, 'punishment': 4003, 'park': 4004, 'southern': 4005, 'california': 4006, 'desert': 4007, 'patent': 4008, 'accessible': 4009, 'miserable': 4010, \"'so\": 4011, \"laughable'\": 4012, 'angela': 4013, 'bennett': 4014, 'pretext': 4015, 'repeating': 4016, 'robotic': 4017, 'moves': 4018, 'delete': 4019, 'uncalled': 4020, 'geek': 4021, 'bible': 4022, 'thumper': 4023, 'pulling': 4024, 'equivalent': 4025, \"dickens'\": 4026, 'carol': 4027, 'sensibility': 4028, 'success': 4029, 'depends': 4030, 'sydney': 4031, 'greenstreet': 4032, 'yardley': 4033, 'pleasing': 4034, 'rpg': 4035, 'respecting': 4036, 'rpger': 4037, 'youtube': 4038, 'lassie': 4039, 'painfully': 4040, 'dreary': 4041, 'waster': 4042, 'becomes': 4043, 'forgettable': 4044, 'shell': 4045, 'barking': 4046, 'transfers': 4047, 'relaxing': 4048, 'title': 4049, 'handles': 4050, 'dignity': 4051, 'shocking': 4052, 'memorized': 4053, 'fishnet': 4054, 'stockings': 4055, 'astonishingly': 4056, 'ham': 4057, 'fisted': 4058, 'irons': 4059, 'watson': 4060, 'unconditional': 4061, \"wilkinson's\": 4062, 'ordeal': 4063, 'progresses': 4064, \"character's\": 4065, 'anguish': 4066, \"watson's\": 4067, 'pans': 4068, 'reviewers': 4069, 'interview': 4070, 'vampire': 4071, 'lestat': 4072, 'stuart': 4073, 'townsend': 4074, \"cruise's\": 4075, 'aailiyah': 4076, 'akasha': 4077, 'entrance': 4078, \"rice's\": 4079, 'sensitivities': 4080, 'treatments': 4081, 'details': 4082, 'dysfunction': 4083, 'football': 4084, 'perplexing': 4085, 'skilled': 4086, 'meredith': 4087, 'm': 4088, 'maker': 4089, 'worthy': 4090, 'syrupy': 4091, 'nine': 4092, 'goremeister': 4093, 'lucio': 4094, 'thrillers': 4095, \"70's\": 4096, 'standout': 4097, 'unpleasant': 4098, 'technically': 4099, 'riz': 4100, 'ortolani': 4101, 'recurring': 4102, 'unaccompanied': 4103, 'vocal': 4104, 'distant': 4105, 'dustin': 4106, \"hoffman's\": 4107, 'involving': 4108, 'issue': 4109, 'tired': 4110, 'ps': 4111, 'jennifer': 4112, 'rubin': 4113, 'harris': 4114, 'changes': 4115, 'nervous': 4116, 'starlet': 4117, 'coach': 4118, 'snow': 4119, 'ultra': 4120, 'exciting': 4121, 'uniqueness': 4122, 'foreigner': 4123, '1973': 4124, 'stranger': 4125, 'astronaut': 4126, 'considers': 4127, \"astronaut's\": 4128, 'ussr': 4129, 'scream': 4130, 'scare': 4131, 'indictment': 4132, 'justice': 4133, 'system': 4134, 'fundamental': 4135, 'legal': 4136, 'guilt': 4137, 'innocence': 4138, 'routine': 4139, 'constantine': 4140, 'intensity': 4141, 'motivations': 4142, 'inspiring': 4143, 'stinker': 4144, 'direct': 4145, 'release': 4146, 'trek': 4147, 'v': 4148, 'frontier': 4149, 'includes': 4150, 'shatner': 4151, 'nimoy': 4152, 'washed': 4153, 'tacky': 4154, 'spock': 4155, 'rescue': 4156, 'kirk': 4157, 'jet': 4158, 'mountain': 4159, 'humor': 4160, \"dosen't\": 4161, 'involves': 4162, 'vulcan': 4163, 'stealing': 4164, 'enterprise': 4165, 'uhura': 4166, 'distract': 4167, 'guards': 4168, 'subjects': 4169, 'jay': 4170, \"adams'\": 4171, 'unfortunate': 4172, 'subject': 4173, 'evokes': 4174, '70s': 4175, 'grainy': 4176, 'enhanced': 4177, 'surprises': 4178, 'achille': 4179, 'philippa': 4180, 'sing': 4181, 'don': 4182, 'giovanni': 4183, 'describes': 4184, 'layers': 4185, '18th': 4186, 'jutland': 4187, 'instruments': 4188, 'general': 4189, \"loewenhielm's\": 4190, 'partaking': 4191, 'cailles': 4192, 'en': 4193, 'sarcophage': 4194, 'savor': 4195, 'impression': 4196, 'generates': 4197, 'austere': 4198, 'backdrop': 4199, 'wanting': 4200, 'notch': 4201, 'fleshed': 4202, 'grimes': 4203, 'blake': 4204, 'scripted': 4205, 'deadpan': 4206, 'angus': 4207, 'scrimm': 4208, 'gently': 4209, 'menacing': 4210, 'violin': 4211, 'anatomist': 4212, 'entertained': 4213, 'phantasm': 4214, '1949': 4215, 'collective': 4216, 'concerning': 4217, 'kudos': 4218, \"movie's\": 4219, 'juano': 4220, 'hernandez': 4221, 'supporting': 4222, 'murdering': 4223, 'trumbull': 4224, 'huston': 4225, 'evinced': 4226, 'faithful': 4227, \"joyce's\": 4228, 'acclaimed': 4229, 'novella': 4230, 'feelings': 4231, \"gabriel's\": 4232, 'intangibles': 4233, 'leap': 4234, \"viewer's\": 4235, 'grasp': 4236, 'wondered': 4237, 'shortlist': 4238, 'emperor': 4239, 'surely': 4240, 'coherent': 4241, 'force': 4242, 'obliged': 4243, 'creative': 4244, 'subplots': 4245, 'native': 4246, 'brainsucking': 4247, 'telly': 4248, 'savalas': 4249, 'boyle': 4250, '54': 4251, 'sheer': 4252, 'tedium': 4253, 'melodrama': 4254, 'sinking': 4255, 'decisions': 4256, 'establish': 4257, 'follows': 4258, 'band': 4259, 'latter': 4260, 'mansonites': 4261, 'reporter': 4262, \"who's\": 4263, 'anniversary': 4264, 'killings': 4265, 'indication': 4266, 'meld': 4267, 'volatile': 4268, 'temperaments': 4269, 'seamless': 4270, 'union': 4271, 'creativity': 4272, 'powerhouse': 4273, \"culture's\": 4274, 'fascination': 4275, 'celebrity': 4276, 'interpretations': 4277, 'fame': 4278, 'forgotten': 4279, 'kevin': 4280, 'spacey': 4281, 'verbal': 4282, 'tsunami': 4283, 'buddy': 4284, 'ackerman': 4285, 'scripting': 4286, 'unmatched': 4287, 'ages': 4288, 'younger': 4289, 'galley': 4290, 'pm': 4291, '8pm': 4292, '15pm': 4293, 'forwarded': 4294, 'horrendously': 4295, 'captain': 4296, 'howdy': 4297, 'semi': 4298, 'truck': 4299, 'linda': 4300, 'cardellini': 4301, \"she's\": 4302, 'poised': 4303, 'dee': 4304, 'snider': 4305, 'villains': 4306, 'sophisticated': 4307, 'miserably': 4308, 'unoriginal': 4309, 'cinematic': 4310, 'captured': 4311, 'celluloid': 4312, 'supernatural': 4313, 'thread': 4314, 'leni': 4315, 'parker': 4316, 'anita': 4317, 'laselva': 4318, 'taelons': 4319, 'idealogical': 4320, 'centers': 4321, 'puppet': 4322, \"80's\": 4323, 'flicks': 4324, 'explains': 4325, 'sinister': 4326, 'origins': 4327, 'f': 4328, 'x': 4329, 'insomniacs': 4330, 'heartwarming': 4331, 'chasing': 4332, 'nurse': 4333, 'unpredictability': 4334, 'labute': 4335, 'brutal': 4336, 'violence': 4337, 'seperate': 4338, 'secondary': 4339, 'incomprehensible': 4340, 'relation': 4341, 'primary': 4342, 'mystifying': 4343, 'shelves': 4344, 'warn': 4345, 'dumbest': 4346, 'hbo': 4347, 'cox': 4348, 'win': 4349, 'agree': 4350, 'jessica': 4351, 'dimensional': 4352, 'elaborately': 4353, 'aesthetically': 4354, 'sculpture': 4355, 'soap': 4356, 'operas': 4357, \"pray's\": 4358, 'charismatic': 4359, 'paolo': 4360, 'sorrentino': 4361, 'tony': 4362, 'unforgettable': 4363, \"'titta\": 4364, 'di': 4365, \"girolamo'\": 4366, 'vision': 4367, \"estevez's\": 4368, 'debut': 4369, 'estevez': 4370, 'charlie': 4371, 'kathy': 4372, 'bates': 4373, 'desperation': 4374, 'escapism': 4375, 'variation': 4376, 'fields': 4377, 'condescends': 4378, 'arts': 4379, 'daughters': 4380, 'paint': 4381, 'photograph': 4382, 'poignant': 4383, 'alert': 4384, 'decipher': 4385, 'meanings': 4386, 'matrix': 4387, 'sequels': 4388, 'mindblowing': 4389, 'dream': 4390, 'rickman': 4391, 'stowe': 4392, 'hilt': 4393, \"childrens'\": 4394, 'subversive': 4395, 'tract': 4396, 'gloriously': 4397, 'accurate': 4398, 'raver': 4399, 'idyllic': 4400, 'downs': 4401, 'groove': 4402, 'antithesis': 4403, 'traffic': 4404, \"crowe's\": 4405, 'picked': 4406, 'government': 4407, 'scientist': 4408, 'argued': 4409, 'humanity': 4410, 'dwight': 4411, 'schultz': 4412, 'sincere': 4413, 'critical': 4414, 'gorman': 4415, 'bechard': 4416, 'homework': 4417, 'appropriate': 4418, 'captures': 4419, 'essence': 4420, 'track': 4421, 'commands': 4422, 'contributing': 4423, 'seeing\\x85': 4424, 'threshold': 4425, 'hayao': 4426, 'eighth': 4427, 'ghibili': 4428, 'gake': 4429, 'ue': 4430, 'cliff': 4431, 'dominated': 4432, 'disney': 4433, \"pixar's\": 4434, 'cgi': 4435, 'comforting': 4436, 'miyazaki': 4437, 'relying': 4438, 'drawn': 4439, 'enchanting': 4440, 'remarkable': 4441, 'crayon': 4442, 'pencil': 4443, 'drawings': 4444, 'colorful': 4445, 'fanciful': 4446, 'drift': 4447, 'surf': 4448, '1998': 4449, 'impact': 4450, 'armageddon': 4451, 'choked': 4452, \"you've\": 4453, 'vessel': 4454, 'taken': 4455, 'mighty': 4456, 'frost': 4457, 'bonuses': 4458, 'fest': 4459, 'spoiled': 4460, 'brat': 4461, 'babysitting': 4462, 'sundays': 4463, 'march': 4464, 'judith': 4465, 'cutie': 4466, 'confidence': 4467, 'riot': 4468, 'hugo': 4469, 'weaving': 4470, 'obsessed': 4471, 'gay': 4472, 'estate': 4473, 'salesman': 4474, \"clients'\": 4475, 'houses': 4476, 'trysts': 4477, 'flaming': 4478, 'darren': 4479, 'hollander': 4480, 'flowed': 4481, 'bonding': 4482, 'hoot': 4483, 'n': 4484, 'jessice': 4485, 'clothes': 4486, 'virtue': 4487, 'regrettable': 4488, 'exceptionally': 4489, \"one's\": 4490, 'bank': 4491, 'holiday': 4492, 'rick': 4493, 'honeslty': 4494, 'ahead': 4495, 'warmer': 4496, 'wayyy': 4497, 'cape': 4498, 'cod': 4499, 'ravoli': 4500, 'cranberry': 4501, 'disgusted': 4502, 'shocked': 4503, 'indicate': 4504, 'cash': 4505, 'burrittos': 4506, 'interior': 4507, 'velvet': 4508, 'cake': 4509, 'ohhh': 4510, 'hole': 4511, 'luke': 4512, 'sever': 4513, 'combos': 4514, '23': 4515, 'blow': 4516, 'accident': 4517, 'grab': 4518, 'pub': 4519, 'hiro': 4520, 'melted': 4521, 'styrofoam': 4522, 'pucks': 4523, 'disgust': 4524, 'register': 4525, 'rib': 4526, 'section': 4527, 'firehouse': 4528, 'pink': 4529, 'mein': 4530, 'lined': 4531, 'strings': 4532, 'banana': 4533, 'petrified': 4534, 'receives': 4535, 'cocktails': 4536, 'handmade': 4537, 'military': 4538, 'dos': 4539, 'gringos': 4540, 'tastings': 4541, 'jeff': 4542, 'milkshake': 4543, 'chocolate': 4544, 'milk': 4545, 'excalibur': 4546, 'common': 4547, 'cheated': 4548, 'experiencing': 4549, 'parties': 4550, 'smelled': 4551, 'pan': 4552, 'cakes': 4553, 'raving': 4554, 'tailored': 4555, 'palate': 4556, 'ratio': 4557, 'tenders': 4558, 'unsatisfying': 4559, 'omelets': 4560, 'sexy': 4561, 'outrageously': 4562, 'flirting': 4563, 'hottest': 4564, 'rock': 4565, 'casino': 4566, 'forward': 4567, 'bone': 4568, 'bloddy': 4569, \"mary's\": 4570, 'mussels': 4571, 'reduction': 4572, 'buffets': 4573, 'tigerlilly': 4574, 'personable': 4575, 'sooooo': 4576, 'yama': 4577, '40min': 4578, 'arriving': 4579, 'actual': 4580, 'blandest': 4581, 'cuisine': 4582, 'worries': 4583, 'loving': 4584, 'venture': 4585, 'host': 4586, 'bitches': 4587, 'liking': 4588, 'reviewing': 4589, 'venturing': 4590, 'penne': 4591, 'vodka': 4592, 'meatloaf': 4593, 'lox': 4594, 'capers': 4595, 'meet': 4596, 'weekend': 4597, 'suggestions': 4598, 'bamboo': 4599, 'shoots': 4600, 'blanket': 4601, 'moz': 4602, 'subpar': 4603, 'ignore': 4604, 'fiancé': 4605, 'mandalay': 4606, 'forty': 4607, 'vain': 4608, 'crostini': 4609, 'nigiri': 4610, 'flavored': 4611, 'voodoo': 4612, 'gluten': 4613, 'leftover': 4614, 'relocated': 4615, 'diverse': 4616, 'hella': 4617, 'salty': 4618, 'spinach': 4619, 'avocado': 4620, 'ingredients': 4621, 'handed': 4622, 'listed': 4623, 'waitresses': 4624, 'lordy': 4625, 'khao': 4626, 'soi': 4627, 'accommodations': 4628, 'inspired': 4629, 'desired': 4630, 'maintaining': 4631, 'coziness': 4632, 'weekly': 4633, 'haunt': 4634, 'asking': 4635, 'verge': 4636, 'dressed': 4637, 'rudely': 4638, 'hits': 4639, 'quantity': 4640, 'lemon': 4641, 'raspberry': 4642, 'cocktail': 4643, 'imagined': 4644, 'crepe': 4645, 'bits': 4646, 'missing': 4647, \"joey's\": 4648, 'voted': 4649, 'magazine': 4650, 'fridays': 4651, 'blows': 4652, 'exceeding': 4653, 'dreamed': 4654, 'serivce': 4655, 'inviting': 4656, '1979': 4657, 'foot': 4658, 'mixed': 4659, 'mushrooms': 4660, 'yukon': 4661, 'beateous': 4662, 'climbing': 4663, 'tartar': 4664, 'jamaican': 4665, 'mojitos': 4666, 'rich': 4667, 'accordingly': 4668, 'rinse': 4669, 'nude': 4670, 'bussell': 4671, 'sprouts': 4672, 'risotto': 4673, 'bodes': 4674, 'wrapped': 4675, 'dates': 4676, 'otto': 4677, 'welcome': 4678, 'mains': 4679, 'uninspired': 4680, \"world's\": 4681, 'drunk': 4682, 'patty': 4683, 'uploaded': 4684, 'sporting': 4685, 'walls': 4686, \"tv's\": 4687, \"they'd\": 4688, 'descriptions': 4689, 'eel': 4690, 'sauces': 4691, 'hardest': 4692, \"m's\": 4693, 'rolled': 4694, 'providing': 4695, 'flavourful': 4696, 'freezing': 4697, 'ayce': 4698, 'mood': 4699, 'gratitude': 4700, \"owner's\": 4701, 'privileged': 4702, 'silently': 4703, 'peanut': 4704, 'godfathers': 4705, 'recall': 4706, 'visited': 4707, 'proclaimed': 4708, 'wildly': 4709, 'veggitarian': 4710, 'platter': 4711, 'madison': 4712, 'ironman': 4713, 'chefs': 4714, 'dedicated': 4715, 'spots': 4716, 'jenni': 4717, 'goat': 4718, 'skimp': 4719, 'mac': 4720, 'burned': 4721, 'saganaki': 4722, 'disagree': 4723, 'fellow': 4724, 'yelpers': 4725, 'noodles': 4726, 'chip': 4727, 'count': 4728, 'greedy': 4729, 'corporation': 4730, 'dime': 4731, 'outdoor': 4732, 'muffin': 4733, 'untoasted': 4734, 'bus': 4735, 'figured': 4736, 'publicly': 4737, 'loudly': 4738, 'bbq': 4739, 'lighter': 4740, 'downside': 4741, 'shawarrrrrrma': 4742, 'eyed': 4743, 'peas': 4744, 'unreal': 4745, 'vinaigrette': 4746, '00': 4747, 'honor': 4748, 'hut': 4749, 'coupons': 4750, 'unbelievably': 4751, 'covers': 4752, 'replenished': 4753, 'yucky': 4754, 'delicioso': 4755, 'spaghetti': 4756, 'tucson': 4757, 'chipotle': 4758, 'succulent': 4759, 'baseball': 4760, 'app': 4761, 'genuinely': 4762, 'enthusiastic': 4763, 'sadly': 4764, 'gordon': 4765, \"ramsey's\": 4766, 'shall': 4767, 'offered': 4768, 'handling': 4769, 'rowdy': 4770, 'despicable': 4771, 'craving': 4772, 'ache': 4773, 'elegantly': 4774, 'customize': 4775, 'bean': 4776, 'outta': 4777, 'inconsiderate': 4778, 'hi': 4779, 'dinners': 4780, 'outshining': 4781, 'halibut': 4782, 'starving': 4783, 'def': 4784, 'ethic': 4785, 'andddd': 4786, 'located': 4787, 'crystals': 4788, 'shopping': 4789, 'aria': 4790, 'summarize': 4791, 'nay': 4792, 'transcendant': 4793, 'pneumatic': 4794, 'condiment': 4795, 'dispenser': 4796, 'ians': 4797, 'kiddos': 4798, 'bouchon': 4799, 'accountant': 4800, 'screwed': 4801, 'reminds': 4802, 'shops': 4803, 'san': 4804, 'francisco': 4805, 'buldogis': 4806, 'gourmet': 4807, 'frustrated': 4808, 'petty': 4809, 'iced': 4810, 'hungry': 4811, 'sore': 4812, 'companions': 4813, 'smeared': 4814, 'tracked': 4815, 'bird': 4816, 'poop': 4817, 'furthermore': 4818, 'operation': 4819, 'connisseur': 4820, 'topic': 4821, 'jerk': 4822, 'strike': 4823, 'rushed': 4824, 'across': 4825, 'appetizer': 4826, 'absolutley': 4827, '5lb': 4828, '4ths': 4829, 'gristle': 4830, 'steiners': 4831, 'fs': 4832, 'pears': 4833, 'almonds': 4834, 'spicier': 4835, 'prefer': 4836, 'ribeye': 4837, 'mesquite': 4838, 'gooodd': 4839, 'connoisseur': 4840, 'mouthful': 4841, 'relaxed': 4842, 'venue': 4843, 'couples': 4844, 'groups': 4845, 'nargile': 4846, 'tater': 4847, 'southwest': 4848, 'vanilla': 4849, 'smooth': 4850, 'profiterole': 4851, 'choux': 4852, 'pastry': 4853, 'az': 4854, \"carly's\": 4855, 'ventilation': 4856, 'upgrading': 4857, 'letdown': 4858, 'camelback': 4859, 'shop': 4860, 'cartel': 4861, 'trimmed': 4862, '70': 4863, 'claimed': 4864, 'jewel': 4865, 'las': 4866, 'boiled': 4867, 'toro': 4868, 'tartare': 4869, 'cavier': 4870, 'thinly': 4871, 'wagyu': 4872, 'truffle': 4873, 'attached': 4874, 'decide': 4875, 'humiliated': 4876, 'worker': 4877, 'name': 4878, 'callings': 4879, 'daily': 4880, 'specials': 4881, 'tragedy': 4882, 'pancake': 4883, 'crawfish': 4884, \"mom's\": 4885, 'multi': 4886, 'grain': 4887, 'pumpkin': 4888, 'pecan': 4889, 'fluffy': 4890, 'airline': 4891, 'noca': 4892, 'gyro': 4893, 'lettuce': 4894, 'pastas': 4895, 'cheesecurds': 4896, 'finger': 4897, 'beauty': 4898, 'greasy': 4899, 'unhealthy': 4900, 'similarly': 4901, 'apology': 4902, 'tiramisu': 4903, 'cannoli': 4904, 'sun': 4905, 'meats': 4906, 'frenchman': 4907, 'martini': 4908, 'gc': 4909, 'thirty': 4910, 'vacant': 4911, 'yellowtail': 4912, 'carpaccio': 4913, 'strangers': 4914, 'hello': 4915, 'donut': 4916, 'saving': 4917, 'disgraceful': 4918, 'suffers': 4919, 'greens': 4920, 'hankering': 4921, 'theft': 4922, 'eew': 4923, 'overhaul': 4924, 'witnessed': 4925, 'regularly': 4926, 'swung': 4927, 'efficient': 4928, 'sucker': 4929, 'olives': 4930, 'perpared': 4931, 'giant': 4932, 'slices': 4933, 'dusted': 4934, 'powdered': 4935, 'sugar': 4936, 'fo': 4937, 'accomodate': 4938, 'vegan': 4939, 'veggie': 4940, 'crumby': 4941, 'pale': 4942, 'croutons': 4943, \"it'll\": 4944, 'trips': 4945, 'crema': 4946, 'café': 4947, 'expanded': 4948, 'philadelphia': 4949, 'north': 4950, 'scottsdale': 4951, 'soooooo': 4952, 'freaking': 4953, 'papers': 4954, 'reheated': 4955, 'wedges': 4956, 'absolute': 4957, 'bloody': 4958, 'mary': 4959, 'businesses': 4960, 'yellow': 4961, 'saffron': 4962, 'seasoning': 4963, 'grandmother': 4964, 'ignored': 4965, 'hostess': 4966, 'boys': 4967, 'shirt': 4968, 'drastically': 4969, 'caesar': 4970, 'madhouse': 4971, 'proven': 4972, 'moods': 4973, 'macarons': 4974, 'insanely': 4975, 'informative': 4976, 'plater': 4977, 'relax': 4978, 'screams': 4979, \"somethat's\": 4980, 'duo': 4981, 'violinists': 4982, 'requested': 4983, 'baklava': 4984, 'falafels': 4985, 'baba': 4986, 'ganoush': 4987, 'mgm': 4988, 'courteous': 4989, 'eclectic': 4990, 'onion': 4991, 'rings': 4992, 'nobu': 4993, 'google': 4994, 'smashburger': 4995, 'lover': 4996, 'plantains': 4997, 'spends': 4998, 'panna': 4999, 'cotta': 5000, 'flavors': 5001, 'slaw': 5002, 'drenched': 5003, 'piano': 5004, 'rge': 5005, 'fillet': 5006, 'relleno': 5007, 'sergeant': 5008, 'auju': 5009, 'hawaiian': 5010, 'breeze': 5011, 'mango': 5012, 'magic': 5013, 'pineapple': 5014, 'smoothies': 5015, 'mortified': 5016, 'anyways': 5017, 'dripping': 5018, '2007': 5019, 'hospitality': 5020, 'paradise': 5021, 'refrained': 5022, 'recommending': 5023, 'cibo': 5024, 'mouths': 5025, 'bellies': 5026, 'dough': 5027, 'elk': 5028, 'hooked': 5029, 'classics': 5030, 'sorely': 5031, 'quaint': 5032, 'deliciously': 5033, 'dylan': 5034, 'tummy': 5035, 'gratuity': 5036, 'larger': 5037, 'apple': 5038, 'han': 5039, 'nan': 5040, \"ryan's\": 5041, 'edinburgh': 5042, 'revisiting': 5043, 'naan': 5044, 'pine': 5045, 'touched': 5046, 'airport': 5047, 'speedy': 5048, 'calligraphy': 5049, 'stood': 5050, 'guest': 5051, 'extensive': 5052, 'inflate': 5053, 'smaller': 5054, 'grow': 5055, 'rapidly': 5056, 'lil': 5057, 'fuzzy': 5058, 'wontons': 5059, 'spice': 5060, 'whelm': 5061, '30s': 5062, 'arepas': 5063, 'jalapeno': 5064, 'shoe': 5065, 'block': 5066, 'fancy': 5067, 'affordable': 5068, 'soups': 5069, 'sunday': 5070, 'hunan': 5071, 'flair': 5072, 'bartenders': 5073, 'nutshell': 5074, 'restaraunt': 5075, 'sewer': 5076, \"girlfriend's\": 5077, 'veal': 5078, 'satifying': 5079, 'join': 5080, 'email': 5081, 'colder': 5082, 'describing': 5083, 'tepid': 5084, 'chains': 5085, 'crowds': 5086, 'juries': 5087, 'lawyers': 5088, 'arrives': 5089, 'paying': 5090, '85': 5091, 'wienerschnitzel': 5092, 'maine': 5093, 'roll': 5094, 'law': 5095, 'hereas': 5096, 'event': 5097, 'held': 5098, 'pissd': 5099, 'surprise': 5100, 'golden': 5101, 'hopes': 5102, 'bruschetta': 5103, 'devine': 5104, 'employee': 5105, 'lastly': 5106, 'mozzarella': 5107, 'negligent': 5108, 'unwelcome': 5109, 'packed': 5110, 'seasonal': 5111, 'fruit': 5112, 'peach': 5113, 'officially': 5114, 'containers': 5115, 'opposed': 5116, 'cramming': 5117, 'takeout': 5118, 'boxes': 5119, 'crêpe': 5120, 'delicate': 5121, 'kabuki': 5122, 'maria': 5123, 'article': 5124, 'spices': 5125, 'fucking': 5126, \"caballero's\": 5127, 'oysters': 5128, 'qualified': 5129, 'foods': 5130, 'tolerance': 5131, 'polite': 5132, 'wash': 5133, 'biscuit': 5134, 'coconut': 5135, 'fella': 5136, 'huevos': 5137, 'rancheros': 5138, 'wines': 5139, 'pricey': 5140, 'temp': 5141, 'prepare': 5142, 'bare': 5143, 'gloves': 5144, 'oil': 5145, 'pleasure': 5146, 'plethora': 5147, 'sandwiches': 5148, 'seal': 5149, 'approval': 5150, 'college': 5151, 'cooking': 5152, 'besides': 5153, \"costco's\": 5154, 'highlighted': 5155, 'grocery': 5156, 'dude': 5157, 'doughy': 5158, 'inch': 5159, 'wire': 5160, 'ourselves': 5161, 'albondigas': 5162, 'tomato': 5163, 'meatballs': 5164, 'occasions': 5165, 'medium': 5166, 'bloodiest': 5167, 'anymore': 5168, 'chai': 5169, 'latte': 5170, 'allergy': 5171, 'warnings': 5172, 'clue': 5173, 'contain': 5174, 'peanuts': 5175, 'mediterranean': 5176, 'beers': 5177, 'highlight': 5178, 'concern': 5179, 'mellow': 5180, 'mushroom': 5181, 'strawberry': 5182, 'unprofessional': 5183, 'loyal': 5184, 'patron': 5185, 'occasional': 5186, 'pats': 5187, 'bellagio': 5188, 'anticipated': 5189, 'sals': 5190, 'fav': 5191, 'unexperienced': 5192, 'employees': 5193, 'chickens': 5194, 'steakhouse': 5195, 'concept': 5196, 'guacamole': 5197, 'puréed': 5198, 'postinos': 5199, 'poisoning': 5200, 'batch': 5201, 'yay': 5202, 'eve': 5203, 'caring': 5204, 'teamwork': 5205, 'degree': 5206, 'ri': 5207, 'calamari': 5208, 'fondue': 5209, \"denny's\": 5210, 'downright': 5211, 'waaaaaayyyyyyyyyy': 5212, 'sangria': 5213, 'glass': 5214, 'brisket': 5215, 'trippy': 5216, 'hurry': 5217, 'reservation': 5218, 'stretch': 5219, 'cashew': 5220, 'chipolte': 5221, 'ranch': 5222, 'dipping': 5223, 'sause': 5224, 'watered': 5225, 'workers': 5226, 'douchey': 5227, 'garden': 5228, 'con': 5229, 'spotty': 5230, 'ensued': 5231, 'apologize': 5232, 'binge': 5233, 'drinking': 5234, 'carbs': 5235, 'insults': 5236, 'profound': 5237, 'deuchebaggery': 5238, 'solidify': 5239, \"don't'\": 5240, 'combo': 5241, 'ala': 5242, 'cart': 5243, 'blame': 5244, 'rave': 5245, 'del': 5246, 'hamburger': 5247, \"ya'all\": 5248, 'fireball': 5249, 'disapppointment': 5250, 'correction': 5251, 'heimer': 5252, 'brownish': 5253, 'ha': 5254, 'flop': 5255, '99': 5256, 'bigger': 5257, 'unwrapped': 5258, 'mile': 5259, 'brushfire': 5260, 'mirage': 5261, 'refried': 5262, 'dried': 5263, 'crusty': 5264, 'caterpillar': 5265, 'appetite': 5266, 'instantly': 5267, 'ninja': 5268, 'poured': 5269, 'wound': 5270, 'drawing': 5271}\n"
     ]
    }
   ],
   "source": [
    "print(tokenizer.word_index)"
   ]
  },
  {
   "cell_type": "code",
   "execution_count": 113,
   "id": "eece0c7f",
   "metadata": {},
   "outputs": [
    {
     "name": "stdout",
     "output_type": "stream",
     "text": [
      "So there is no way for me to plug it in here in the US unless I go by a converter.\n",
      "[27, 50, 5, 58, 118, 12, 72, 7, 371, 6, 11, 66, 11, 1, 188, 579, 3, 77, 62, 4, 2267]\n"
     ]
    }
   ],
   "source": [
    "# Reviews Encoded and Padded\n",
    "print(reviews[0])\n",
    "print(encoded_docs[0])"
   ]
  },
  {
   "cell_type": "code",
   "execution_count": 114,
   "id": "a161ff51",
   "metadata": {},
   "outputs": [
    {
     "name": "stdout",
     "output_type": "stream",
     "text": [
      "[   0    0    0    0    0    0    0    0    0    0    0    0    0    0\n",
      "    0    0    0    0    0    0    0    0    0    0    0    0    0    0\n",
      "    0    0    0    0    0    0    0    0    0    0    0    0    0    0\n",
      "    0    0    0    0    0    0    0    0    0    0    0    0    0    0\n",
      "    0    0    0    0    0    0    0    0    0    0    0    0    0    0\n",
      "    0    0    0    0    0    0    0    0    0    0    0    0    0    0\n",
      "    0    0    0    0    0    0    0    0    0    0    0    0    0    0\n",
      "    0    0    0    0    0    0    0    0    0    0    0    0    0    0\n",
      "    0    0    0    0    0    0    0    0    0    0    0    0    0    0\n",
      "    0    0    0    0    0    0    0    0    0    0    0    0    0    0\n",
      "    0    0    0    0    0    0    0    0    0    0    0    0    0    0\n",
      "    0    0    0    0    0    0    0    0    0    0    0    0    0    0\n",
      "    0    0    0    0    0    0    0    0    0    0    0   27   50    5\n",
      "   58  118   12   72    7  371    6   11   66   11    1  188  579    3\n",
      "   77   62    4 2267]\n"
     ]
    }
   ],
   "source": [
    "print(padded_sequences[0])"
   ]
  },
  {
   "cell_type": "code",
   "execution_count": 115,
   "id": "cd0866d7",
   "metadata": {},
   "outputs": [
    {
     "name": "stdout",
     "output_type": "stream",
     "text": [
      "The minimum length or our sequences is:  1\n",
      "The median length or our sequences is:  11.0\n",
      "The maximum length or our sequences is:  1393\n"
     ]
    }
   ],
   "source": [
    "commentary_length = []\n",
    "for char_len in commentary:\n",
    "    commentary_length.append(len(char_len.split(' ')))\n",
    "\n",
    "# Set max, min, median vars\n",
    "commentary_max = np.max(commentary_length)\n",
    "commentary_min = np.min(commentary_length)\n",
    "commentary_median = np.median(commentary_length)\n",
    "\n",
    "print(\"The minimum length or our sequences is: \", commentary_min)\n",
    "print(\"The median length or our sequences is: \", commentary_median)\n",
    "print(\"The maximum length or our sequences is: \", commentary_max)"
   ]
  },
  {
   "cell_type": "code",
   "execution_count": 116,
   "id": "4d31fd58",
   "metadata": {},
   "outputs": [],
   "source": [
    "X = padded_sequences\n",
    "y = np.array(df[['sentiment']])\n",
    "X_train, X_test, y_train, y_test = train_test_split(X, \n",
    "                                                    y, \n",
    "                                                    random_state = 40,\n",
    "                                                    test_size = 0.20,  \n",
    "                                                    stratify = y)\n",
    "\n",
    "X_train, X_validation, y_train, y_validation = train_test_split(X_train, \n",
    "                                                    y_train, \n",
    "                                                    random_state = 40,\n",
    "                                                    test_size = 0.20,  \n",
    "                                                    stratify = y_train)"
   ]
  },
  {
   "cell_type": "code",
   "execution_count": 117,
   "id": "d685fda3",
   "metadata": {},
   "outputs": [
    {
     "name": "stdout",
     "output_type": "stream",
     "text": [
      "(1758, 200) (550, 200) (440, 200)\n"
     ]
    }
   ],
   "source": [
    "# Verify Shapes\n",
    "print(X_train.shape, X_test.shape, X_validation.shape)"
   ]
  },
  {
   "cell_type": "code",
   "execution_count": 118,
   "id": "7b5b7b41",
   "metadata": {},
   "outputs": [],
   "source": [
    "# Export padded train/test data\n",
    "pd.DataFrame(X_train).to_csv('X_training_df.csv')\n",
    "pd.DataFrame(X_test).to_csv('X_testing_df.csv')\n",
    "pd.DataFrame(y_train).to_csv('y_training_df.csv')\n",
    "pd.DataFrame(y_test).to_csv('y_testing_df.csv')\n",
    "pd.DataFrame(X_validation).to_csv('X_validation_df.csv')\n",
    "pd.DataFrame(y_validation).to_csv('y_validation_df.csv')"
   ]
  },
  {
   "cell_type": "code",
   "execution_count": 119,
   "id": "cc6786fc",
   "metadata": {},
   "outputs": [
    {
     "ename": "AttributeError",
     "evalue": "'numpy.ndarray' object has no attribute 'lower'",
     "output_type": "error",
     "traceback": [
      "\u001b[0;31m---------------------------------------------------------------------------\u001b[0m",
      "\u001b[0;31mAttributeError\u001b[0m                            Traceback (most recent call last)",
      "\u001b[0;32m/var/folders/45/_087y05165x0c7wb_dw4k6nh0000gn/T/ipykernel_3800/3444376328.py\u001b[0m in \u001b[0;36m<module>\u001b[0;34m\u001b[0m\n\u001b[1;32m      1\u001b[0m \u001b[0;31m# Train  --48:00\u001b[0m\u001b[0;34m\u001b[0m\u001b[0;34m\u001b[0m\u001b[0;34m\u001b[0m\u001b[0m\n\u001b[0;32m----> 2\u001b[0;31m \u001b[0msequences_train\u001b[0m \u001b[0;34m=\u001b[0m \u001b[0mtokenizer\u001b[0m\u001b[0;34m.\u001b[0m\u001b[0mtexts_to_sequences\u001b[0m\u001b[0;34m(\u001b[0m\u001b[0mX_train\u001b[0m\u001b[0;34m)\u001b[0m\u001b[0;34m\u001b[0m\u001b[0;34m\u001b[0m\u001b[0m\n\u001b[0m\u001b[1;32m      3\u001b[0m \u001b[0mpadded_train\u001b[0m \u001b[0;34m=\u001b[0m \u001b[0mpad_sequences\u001b[0m\u001b[0;34m(\u001b[0m\u001b[0msequences_train\u001b[0m\u001b[0;34m,\u001b[0m \u001b[0mmaxlen\u001b[0m\u001b[0;34m=\u001b[0m\u001b[0mmax_length\u001b[0m\u001b[0;34m,\u001b[0m \u001b[0mpadding\u001b[0m\u001b[0;34m=\u001b[0m\u001b[0mpadding_type\u001b[0m\u001b[0;34m,\u001b[0m \u001b[0mtruncating\u001b[0m\u001b[0;34m=\u001b[0m\u001b[0mtrunc_type\u001b[0m\u001b[0;34m)\u001b[0m\u001b[0;34m\u001b[0m\u001b[0;34m\u001b[0m\u001b[0m\n\u001b[1;32m      4\u001b[0m \u001b[0;34m\u001b[0m\u001b[0m\n\u001b[1;32m      5\u001b[0m \u001b[0;31m# Test\u001b[0m\u001b[0;34m\u001b[0m\u001b[0;34m\u001b[0m\u001b[0;34m\u001b[0m\u001b[0m\n",
      "\u001b[0;32m~/opt/anaconda3/envs/py37/lib/python3.7/site-packages/keras_preprocessing/text.py\u001b[0m in \u001b[0;36mtexts_to_sequences\u001b[0;34m(self, texts)\u001b[0m\n\u001b[1;32m    279\u001b[0m             \u001b[0mA\u001b[0m \u001b[0mlist\u001b[0m \u001b[0mof\u001b[0m \u001b[0msequences\u001b[0m\u001b[0;34m.\u001b[0m\u001b[0;34m\u001b[0m\u001b[0;34m\u001b[0m\u001b[0m\n\u001b[1;32m    280\u001b[0m         \"\"\"\n\u001b[0;32m--> 281\u001b[0;31m         \u001b[0;32mreturn\u001b[0m \u001b[0mlist\u001b[0m\u001b[0;34m(\u001b[0m\u001b[0mself\u001b[0m\u001b[0;34m.\u001b[0m\u001b[0mtexts_to_sequences_generator\u001b[0m\u001b[0;34m(\u001b[0m\u001b[0mtexts\u001b[0m\u001b[0;34m)\u001b[0m\u001b[0;34m)\u001b[0m\u001b[0;34m\u001b[0m\u001b[0;34m\u001b[0m\u001b[0m\n\u001b[0m\u001b[1;32m    282\u001b[0m \u001b[0;34m\u001b[0m\u001b[0m\n\u001b[1;32m    283\u001b[0m     \u001b[0;32mdef\u001b[0m \u001b[0mtexts_to_sequences_generator\u001b[0m\u001b[0;34m(\u001b[0m\u001b[0mself\u001b[0m\u001b[0;34m,\u001b[0m \u001b[0mtexts\u001b[0m\u001b[0;34m)\u001b[0m\u001b[0;34m:\u001b[0m\u001b[0;34m\u001b[0m\u001b[0;34m\u001b[0m\u001b[0m\n",
      "\u001b[0;32m~/opt/anaconda3/envs/py37/lib/python3.7/site-packages/keras_preprocessing/text.py\u001b[0m in \u001b[0;36mtexts_to_sequences_generator\u001b[0;34m(self, texts)\u001b[0m\n\u001b[1;32m    310\u001b[0m                                             \u001b[0mself\u001b[0m\u001b[0;34m.\u001b[0m\u001b[0mfilters\u001b[0m\u001b[0;34m,\u001b[0m\u001b[0;34m\u001b[0m\u001b[0;34m\u001b[0m\u001b[0m\n\u001b[1;32m    311\u001b[0m                                             \u001b[0mself\u001b[0m\u001b[0;34m.\u001b[0m\u001b[0mlower\u001b[0m\u001b[0;34m,\u001b[0m\u001b[0;34m\u001b[0m\u001b[0;34m\u001b[0m\u001b[0m\n\u001b[0;32m--> 312\u001b[0;31m                                             self.split)\n\u001b[0m\u001b[1;32m    313\u001b[0m             \u001b[0mvect\u001b[0m \u001b[0;34m=\u001b[0m \u001b[0;34m[\u001b[0m\u001b[0;34m]\u001b[0m\u001b[0;34m\u001b[0m\u001b[0;34m\u001b[0m\u001b[0m\n\u001b[1;32m    314\u001b[0m             \u001b[0;32mfor\u001b[0m \u001b[0mw\u001b[0m \u001b[0;32min\u001b[0m \u001b[0mseq\u001b[0m\u001b[0;34m:\u001b[0m\u001b[0;34m\u001b[0m\u001b[0;34m\u001b[0m\u001b[0m\n",
      "\u001b[0;32m~/opt/anaconda3/envs/py37/lib/python3.7/site-packages/keras_preprocessing/text.py\u001b[0m in \u001b[0;36mtext_to_word_sequence\u001b[0;34m(text, filters, lower, split)\u001b[0m\n\u001b[1;32m     41\u001b[0m     \"\"\"\n\u001b[1;32m     42\u001b[0m     \u001b[0;32mif\u001b[0m \u001b[0mlower\u001b[0m\u001b[0;34m:\u001b[0m\u001b[0;34m\u001b[0m\u001b[0;34m\u001b[0m\u001b[0m\n\u001b[0;32m---> 43\u001b[0;31m         \u001b[0mtext\u001b[0m \u001b[0;34m=\u001b[0m \u001b[0mtext\u001b[0m\u001b[0;34m.\u001b[0m\u001b[0mlower\u001b[0m\u001b[0;34m(\u001b[0m\u001b[0;34m)\u001b[0m\u001b[0;34m\u001b[0m\u001b[0;34m\u001b[0m\u001b[0m\n\u001b[0m\u001b[1;32m     44\u001b[0m \u001b[0;34m\u001b[0m\u001b[0m\n\u001b[1;32m     45\u001b[0m     \u001b[0;32mif\u001b[0m \u001b[0msys\u001b[0m\u001b[0;34m.\u001b[0m\u001b[0mversion_info\u001b[0m \u001b[0;34m<\u001b[0m \u001b[0;34m(\u001b[0m\u001b[0;36m3\u001b[0m\u001b[0;34m,\u001b[0m\u001b[0;34m)\u001b[0m\u001b[0;34m:\u001b[0m\u001b[0;34m\u001b[0m\u001b[0;34m\u001b[0m\u001b[0m\n",
      "\u001b[0;31mAttributeError\u001b[0m: 'numpy.ndarray' object has no attribute 'lower'"
     ]
    }
   ],
   "source": [
    "# Train  --48:00\n",
    "sequences_train = tokenizer.texts_to_sequences(X_train)\n",
    "padded_train = pad_sequences(sequences_train, maxlen=max_length, padding=padding_type, truncating=trunc_type)\n",
    "\n",
    "# Test\n",
    "sequences_test = tokenizer.texts_to_sequences(X_test)\n",
    "padded_test = pad_sequences(sequences_test, maxlen=max_length, padding=padding_type, truncating=trunc_type)\n",
    "\n",
    "# Display the Padded Sequence\n",
    "np.set_printoptions(threshold=sys.maxsize)\n",
    "padded_train[1]"
   ]
  },
  {
   "cell_type": "code",
   "execution_count": null,
   "id": "3042d2d8",
   "metadata": {},
   "outputs": [],
   "source": []
  },
  {
   "cell_type": "code",
   "execution_count": 120,
   "id": "05b18b5e",
   "metadata": {},
   "outputs": [],
   "source": [
    "# B4 - Sentiment Analysis\n",
    "activation = 'softmax'\n",
    "loss = 'categorical_crossentropy'\n",
    "optimzer = 'adam' #rmsprop\n",
    "\n",
    "num_epochs = 20\n",
    "\n",
    "# Define early_stopping_monitor\n",
    "early_stopping_monitor=EarlyStopping(patience=2)\n",
    "\n",
    "model = tf.keras.Sequential([\n",
    "    tf.keras.layers.Embedding(vocab_size, embedding_dim, input_length=max_length),\n",
    "    tf.keras.layers.GlobalAveragePooling1D(),\n",
    "    tf.keras.layers.Dense(100, activation='relu'),\n",
    "    tf.keras.layers.Dense(50, activation='relu'),\n",
    "    tf.keras.layers.Dense(2, activation=activation)\n",
    "])\n",
    "\n",
    "model.compile(loss=loss, optimizer=optimzer, metrics=['accuracy'])"
   ]
  },
  {
   "cell_type": "markdown",
   "id": "d8f4dc3d",
   "metadata": {},
   "source": [
    "## C5 - Prepared Dataset"
   ]
  },
  {
   "cell_type": "code",
   "execution_count": null,
   "id": "36a695a2",
   "metadata": {},
   "outputs": [],
   "source": []
  },
  {
   "cell_type": "code",
   "execution_count": null,
   "id": "df785e76",
   "metadata": {},
   "outputs": [],
   "source": [
    "# Export stationary data\n",
    "pd.DataFrame(df_stationary).to_csv(\"df_cleaned_stationary.csv\")"
   ]
  },
  {
   "cell_type": "code",
   "execution_count": null,
   "id": "388b945d",
   "metadata": {},
   "outputs": [],
   "source": []
  },
  {
   "cell_type": "markdown",
   "id": "6e468abb",
   "metadata": {},
   "source": [
    "## Train, Test, and Split"
   ]
  },
  {
   "cell_type": "code",
   "execution_count": null,
   "id": "38abfd62",
   "metadata": {},
   "outputs": [],
   "source": [
    "# Split for Training and Testing\n",
    "\n",
    "X_train = df_stationary.loc[:'2020-09-30'] # Get all but the last 90 days for training\n",
    "X_test = df_stationary['2020-10-01':] # Get last 90 days of data to test\n",
    "\n",
    "print('Shape of X_train: ', X_train.shape)\n",
    "print('Shape of X_test: ', X_test.shape)"
   ]
  },
  {
   "cell_type": "code",
   "execution_count": null,
   "id": "d9188477",
   "metadata": {},
   "outputs": [],
   "source": []
  },
  {
   "cell_type": "code",
   "execution_count": 71,
   "id": "da2f4959",
   "metadata": {},
   "outputs": [],
   "source": [
    "vocab_size = 15000\n",
    "oov_tok = \"<oov>\"\n",
    "embedding_dim = 16\n",
    "max_length = 50\n",
    "trunc_type='post'\n",
    "padding_type='post'"
   ]
  },
  {
   "cell_type": "code",
   "execution_count": 72,
   "id": "4c551bc0",
   "metadata": {
    "scrolled": true
   },
   "outputs": [
    {
     "ename": "AttributeError",
     "evalue": "'Tokenizer' object has no attribute 'fit_on_text'",
     "output_type": "error",
     "traceback": [
      "\u001b[0;31m---------------------------------------------------------------------------\u001b[0m",
      "\u001b[0;31mAttributeError\u001b[0m                            Traceback (most recent call last)",
      "\u001b[0;32m/var/folders/45/_087y05165x0c7wb_dw4k6nh0000gn/T/ipykernel_3800/2581197643.py\u001b[0m in \u001b[0;36m<module>\u001b[0;34m\u001b[0m\n\u001b[1;32m      1\u001b[0m \u001b[0;31m# B2 Tokenization\u001b[0m\u001b[0;34m\u001b[0m\u001b[0;34m\u001b[0m\u001b[0;34m\u001b[0m\u001b[0m\n\u001b[1;32m      2\u001b[0m \u001b[0mtokenize\u001b[0m \u001b[0;34m=\u001b[0m \u001b[0mTokenizer\u001b[0m\u001b[0;34m(\u001b[0m\u001b[0mnum_words\u001b[0m\u001b[0;34m=\u001b[0m\u001b[0mvocab_size\u001b[0m\u001b[0;34m,\u001b[0m \u001b[0moov_token\u001b[0m\u001b[0;34m=\u001b[0m\u001b[0moov_tok\u001b[0m\u001b[0;34m)\u001b[0m\u001b[0;34m\u001b[0m\u001b[0;34m\u001b[0m\u001b[0m\n\u001b[0;32m----> 3\u001b[0;31m \u001b[0mtokenize\u001b[0m\u001b[0;34m.\u001b[0m\u001b[0mfit_on_text\u001b[0m\u001b[0;34m(\u001b[0m\u001b[0mX_train\u001b[0m\u001b[0;34m)\u001b[0m\u001b[0;34m\u001b[0m\u001b[0;34m\u001b[0m\u001b[0m\n\u001b[0m\u001b[1;32m      4\u001b[0m \u001b[0mword_index\u001b[0m \u001b[0;34m=\u001b[0m \u001b[0mtokenizer\u001b[0m\u001b[0;34m.\u001b[0m\u001b[0mword_index\u001b[0m\u001b[0;34m\u001b[0m\u001b[0;34m\u001b[0m\u001b[0m\n\u001b[1;32m      5\u001b[0m \u001b[0mprint\u001b[0m\u001b[0;34m(\u001b[0m\u001b[0mword_index\u001b[0m\u001b[0;34m)\u001b[0m\u001b[0;34m\u001b[0m\u001b[0;34m\u001b[0m\u001b[0m\n",
      "\u001b[0;31mAttributeError\u001b[0m: 'Tokenizer' object has no attribute 'fit_on_text'"
     ]
    }
   ],
   "source": [
    "# B2 Tokenization\n",
    "tokenize = Tokenizer(num_words=vocab_size, oov_token=oov_tok)\n",
    "tokenize.fit_on_text(X_train)\n",
    "word_index = tokenizer.word_index\n",
    "print(word_index)"
   ]
  },
  {
   "cell_type": "code",
   "execution_count": null,
   "id": "08bc6212",
   "metadata": {},
   "outputs": [],
   "source": []
  },
  {
   "cell_type": "code",
   "execution_count": null,
   "id": "888bde68",
   "metadata": {},
   "outputs": [],
   "source": []
  },
  {
   "cell_type": "code",
   "execution_count": null,
   "id": "c4be9de4",
   "metadata": {},
   "outputs": [],
   "source": []
  },
  {
   "cell_type": "code",
   "execution_count": null,
   "id": "e3d437b2",
   "metadata": {},
   "outputs": [],
   "source": []
  },
  {
   "cell_type": "code",
   "execution_count": null,
   "id": "8ff18afe",
   "metadata": {},
   "outputs": [],
   "source": []
  },
  {
   "cell_type": "markdown",
   "id": "950e8000",
   "metadata": {},
   "source": [
    "### Build Model using LSTM"
   ]
  },
  {
   "cell_type": "code",
   "execution_count": 25,
   "id": "3655a0cd",
   "metadata": {},
   "outputs": [
    {
     "name": "stdout",
     "output_type": "stream",
     "text": [
      "Model: \"sequential_2\"\n",
      "_________________________________________________________________\n",
      " Layer (type)                Output Shape              Param #   \n",
      "=================================================================\n",
      " embedding_2 (Embedding)     (None, 200, 32)           168704    \n",
      "                                                                 \n",
      " spatial_dropout1d (SpatialD  (None, 200, 32)          0         \n",
      " ropout1D)                                                       \n",
      "                                                                 \n",
      " lstm (LSTM)                 (None, 50)                16600     \n",
      "                                                                 \n",
      " dropout (Dropout)           (None, 50)                0         \n",
      "                                                                 \n",
      " dense (Dense)               (None, 1)                 51        \n",
      "                                                                 \n",
      "=================================================================\n",
      "Total params: 185,355\n",
      "Trainable params: 185,355\n",
      "Non-trainable params: 0\n",
      "_________________________________________________________________\n"
     ]
    }
   ],
   "source": [
    "embedding_vactor_length = 32\n",
    "model = Sequential()\n",
    "model.add(Embedding(vocab_size, embedding_vactor_length, input_length=200))\n",
    "model.add(SpatialDropout1D(0.25))\n",
    "model.add(LSTM(50, dropout=0.5, recurrent_dropout=0.5))\n",
    "model.add(Dropout(0.2))\n",
    "model.add(Dense(1, activation='sigmoid'))\n",
    "model.compile(loss='binary_crossentropy', optimizer='adam', metrics=['accuracy'])\n",
    "model.summary()"
   ]
  },
  {
   "cell_type": "code",
   "execution_count": 26,
   "id": "eee0df00",
   "metadata": {},
   "outputs": [
    {
     "name": "stdout",
     "output_type": "stream",
     "text": [
      "Epoch 1/5\n",
      "69/69 [==============================] - 11s 142ms/step - loss: 0.6919 - accuracy: 0.5136 - val_loss: 0.6927 - val_accuracy: 0.4527\n",
      "Epoch 2/5\n",
      "69/69 [==============================] - 10s 139ms/step - loss: 0.6577 - accuracy: 0.6861 - val_loss: 0.6192 - val_accuracy: 0.6836\n",
      "Epoch 3/5\n",
      "69/69 [==============================] - 10s 139ms/step - loss: 0.4931 - accuracy: 0.8007 - val_loss: 0.4954 - val_accuracy: 0.7782\n",
      "Epoch 4/5\n",
      "69/69 [==============================] - 10s 138ms/step - loss: 0.3263 - accuracy: 0.8826 - val_loss: 0.4515 - val_accuracy: 0.8091\n",
      "Epoch 5/5\n",
      "69/69 [==============================] - 10s 139ms/step - loss: 0.2354 - accuracy: 0.9149 - val_loss: 0.4548 - val_accuracy: 0.8127\n"
     ]
    }
   ],
   "source": [
    "history = model.fit(padded_sequence, sentiment_label[0], epochs=5, verbose=1, validation_split=0.2, batch_size=32)"
   ]
  },
  {
   "cell_type": "code",
   "execution_count": 27,
   "id": "3f04b4c7",
   "metadata": {},
   "outputs": [
    {
     "data": {
      "image/png": "[encoded data removed]",
      "text/plain": [
       "<Figure size 432x288 with 1 Axes>"
      ]
     },
     "metadata": {
      "needs_background": "light"
     },
     "output_type": "display_data"
    },
    {
     "data": {
      "text/plain": [
       "<Figure size 432x288 with 0 Axes>"
      ]
     },
     "metadata": {},
     "output_type": "display_data"
    }
   ],
   "source": [
    "plt.plot(history.history['accuracy'], label='accuracy')\n",
    "plt.plot(history.history['val_accuracy'], label='val_accuracy')\n",
    "plt.legend()\n",
    "plt.show()\n",
    "plt.savefig(\"AccuracyPlot.png\")"
   ]
  },
  {
   "cell_type": "code",
   "execution_count": 29,
   "id": "ab9434a3",
   "metadata": {},
   "outputs": [
    {
     "data": {
      "image/png": "[encoded data removed]",
      "text/plain": [
       "<Figure size 432x288 with 1 Axes>"
      ]
     },
     "metadata": {
      "needs_background": "light"
     },
     "output_type": "display_data"
    },
    {
     "data": {
      "text/plain": [
       "<Figure size 432x288 with 0 Axes>"
      ]
     },
     "metadata": {},
     "output_type": "display_data"
    }
   ],
   "source": [
    "plt.plot(history.history['loss'], label='loss')\n",
    "plt.plot(history.history['val_loss'], label='val_loss')\n",
    "plt.legend()\n",
    "plt.show()\n",
    "plt.savefig(\"LossPlot.png\")"
   ]
  },
  {
   "cell_type": "markdown",
   "id": "e5a3ae45",
   "metadata": {},
   "source": [
    "## Test Model"
   ]
  },
  {
   "cell_type": "code",
   "execution_count": 33,
   "id": "f74e9134",
   "metadata": {},
   "outputs": [],
   "source": [
    "def predict_sentiment(review):\n",
    "    tw = tokenizer.texts_to_sequences([review])\n",
    "    tw = pad_sequences(tw, maxlen=200)\n",
    "    prediction = int(model.predict(tw).round().item())\n",
    "    print(\"Predicted Label: \", sentiment_label[1][prediction])"
   ]
  },
  {
   "cell_type": "code",
   "execution_count": 34,
   "id": "018a27e5",
   "metadata": {},
   "outputs": [
    {
     "name": "stdout",
     "output_type": "stream",
     "text": [
      "Predicted Label:  1\n",
      "Predicted Label:  0\n"
     ]
    }
   ],
   "source": [
    "test_sentence1 = \"I enjoyed my journey with this class, I hope to leverage NLP skills at work soon!\"\n",
    "predict_sentiment(test_sentence1)\n",
    "\n",
    "test_sentence2 = \"I hated this class, I'll never use NLP and hope to never take touch this subject again!\"\n",
    "predict_sentiment(test_sentence2)"
   ]
  },
  {
   "cell_type": "markdown",
   "id": "cc5925e6",
   "metadata": {},
   "source": [
    "## End "
   ]
  }
 ],
 "metadata": {
  "kernelspec": {
   "display_name": "Python 3 (ipykernel)",
   "language": "python",
   "name": "python3"
  },
  "language_info": {
   "codemirror_mode": {
    "name": "ipython",
    "version": 3
   },
   "file_extension": ".py",
   "mimetype": "text/x-python",
   "name": "python",
   "nbconvert_exporter": "python",
   "pygments_lexer": "ipython3",
   "version": "3.7.13"
  },
  "vscode": {
   "interpreter": {
    "hash": "de1011e35e6283183da03ba650d19824e6e19faf47dff75695f4661ce9eccc9c"
   }
  }
 },
 "nbformat": 4,
 "nbformat_minor": 5
}
