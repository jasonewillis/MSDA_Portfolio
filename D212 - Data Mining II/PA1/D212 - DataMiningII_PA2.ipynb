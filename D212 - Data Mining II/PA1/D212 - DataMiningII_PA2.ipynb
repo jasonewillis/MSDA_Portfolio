{
 "cells": [
  {
   "cell_type": "markdown",
   "id": "9a05da96-be7f-4b72-9404-ffa428e7d251",
   "metadata": {
    "pycharm": {
     "name": "#%% md\n"
    }
   },
   "source": [
    "## D212 - Data Mining II - PA1"
   ]
  },
  {
   "cell_type": "markdown",
   "id": "6f2ccc30-cd76-4012-ad10-2fc554e6ee5d",
   "metadata": {
    "pycharm": {
     "name": "#%% md\n"
    }
   },
   "source": [
    "### Background Info:\n",
    "\n",
    "**You are an analyst on a team of analysts for a popular medical hospital chain with patients in almost every state in the United States. You have been asked to investigate the extent to which readmission is a problem for this chain of hospitals.The purpose of the analysis is to predict readmission based on other conditions and factors of the patient.**\n",
    "\n",
    "**You have been asked to use PCA to analyze patient data to identify the principal variables of your patients, ultimately allowing better business and strategic decision-making for the hospital.**"
   ]
  },
  {
   "cell_type": "markdown",
   "id": "07712ef5-8175-4032-9a36-3973f6db834f",
   "metadata": {
    "pycharm": {
     "name": "#%% md\n"
    }
   },
   "source": [
    "### Import Libraries"
   ]
  },
  {
   "cell_type": "code",
   "execution_count": 1,
   "id": "df83b34d-1955-4a21-bde0-f68c26a235e7",
   "metadata": {
    "pycharm": {
     "name": "#%%\n"
    }
   },
   "outputs": [],
   "source": [
    "import pandas as pd\n",
    "import seaborn as sns\n",
    "import numpy as np\n",
    "from sklearn.cluster import KMeans\n",
    "from sklearn.preprocessing import LabelEncoder\n",
    "from sklearn.preprocessing import MinMaxScaler\n",
    "from sklearn.decomposition import PCA\n",
    "import matplotlib.pyplot as plt\n",
    "from sklearn.model_selection import train_test_split\n",
    "%matplotlib inline"
   ]
  },
  {
   "cell_type": "markdown",
   "id": "dbb231fb-a260-451c-bb3a-f085371d21b6",
   "metadata": {
    "pycharm": {
     "name": "#%% md\n"
    }
   },
   "source": [
    "### Load Data From medical_clean.csv"
   ]
  },
  {
   "cell_type": "code",
   "execution_count": 2,
   "id": "ae78b466-ae42-4caf-889a-6ff70a6cd528",
   "metadata": {
    "pycharm": {
     "name": "#%%\n"
    }
   },
   "outputs": [
    {
     "data": {
      "text/plain": "   CaseOrder Customer_id                           Interaction  \\\n0          1     C412403  8cd49b13-f45a-4b47-a2bd-173ffa932c2f   \n1          2     Z919181  d2450b70-0337-4406-bdbb-bc1037f1734c   \n2          3     F995323  a2057123-abf5-4a2c-abad-8ffe33512562   \n3          4     A879973  1dec528d-eb34-4079-adce-0d7a40e82205   \n4          5     C544523  5885f56b-d6da-43a3-8760-83583af94266   \n\n                                UID          City State        County    Zip  \\\n0  3a83ddb66e2ae73798bdf1d705dc0932           Eva    AL        Morgan  35621   \n1  176354c5eef714957d486009feabf195      Marianna    FL       Jackson  32446   \n2  e19a0fa00aeda885b8a436757e889bc9   Sioux Falls    SD     Minnehaha  57110   \n3  cd17d7b6d152cb6f23957346d11c3f07  New Richland    MN        Waseca  56072   \n4  d2f0425877b10ed6bb381f3e2579424a    West Point    VA  King William  23181   \n\n        Lat       Lng  ...  TotalCharge Additional_charges Item1 Item2  Item3  \\\n0  34.34960 -86.72508  ...  3726.702860       17939.403420     3     3      2   \n1  30.84513 -85.22907  ...  4193.190458       17612.998120     3     4      3   \n2  43.54321 -96.63772  ...  2434.234222       17505.192460     2     4      4   \n3  43.89744 -93.51479  ...  2127.830423       12993.437350     3     5      5   \n4  37.59894 -76.88958  ...  2113.073274        3716.525786     2     1      3   \n\n   Item4  Item5 Item6 Item7 Item8  \n0      2      4     3     3     4  \n1      4      4     4     3     3  \n2      4      3     4     3     3  \n3      3      4     5     5     5  \n4      3      5     3     4     3  \n\n[5 rows x 50 columns]",
      "text/html": "<div>\n<style scoped>\n    .dataframe tbody tr th:only-of-type {\n        vertical-align: middle;\n    }\n\n    .dataframe tbody tr th {\n        vertical-align: top;\n    }\n\n    .dataframe thead th {\n        text-align: right;\n    }\n</style>\n<table border=\"1\" class=\"dataframe\">\n  <thead>\n    <tr style=\"text-align: right;\">\n      <th></th>\n      <th>CaseOrder</th>\n      <th>Customer_id</th>\n      <th>Interaction</th>\n      <th>UID</th>\n      <th>City</th>\n      <th>State</th>\n      <th>County</th>\n      <th>Zip</th>\n      <th>Lat</th>\n      <th>Lng</th>\n      <th>...</th>\n      <th>TotalCharge</th>\n      <th>Additional_charges</th>\n      <th>Item1</th>\n      <th>Item2</th>\n      <th>Item3</th>\n      <th>Item4</th>\n      <th>Item5</th>\n      <th>Item6</th>\n      <th>Item7</th>\n      <th>Item8</th>\n    </tr>\n  </thead>\n  <tbody>\n    <tr>\n      <th>0</th>\n      <td>1</td>\n      <td>C412403</td>\n      <td>8cd49b13-f45a-4b47-a2bd-173ffa932c2f</td>\n      <td>3a83ddb66e2ae73798bdf1d705dc0932</td>\n      <td>Eva</td>\n      <td>AL</td>\n      <td>Morgan</td>\n      <td>35621</td>\n      <td>34.34960</td>\n      <td>-86.72508</td>\n      <td>...</td>\n      <td>3726.702860</td>\n      <td>17939.403420</td>\n      <td>3</td>\n      <td>3</td>\n      <td>2</td>\n      <td>2</td>\n      <td>4</td>\n      <td>3</td>\n      <td>3</td>\n      <td>4</td>\n    </tr>\n    <tr>\n      <th>1</th>\n      <td>2</td>\n      <td>Z919181</td>\n      <td>d2450b70-0337-4406-bdbb-bc1037f1734c</td>\n      <td>176354c5eef714957d486009feabf195</td>\n      <td>Marianna</td>\n      <td>FL</td>\n      <td>Jackson</td>\n      <td>32446</td>\n      <td>30.84513</td>\n      <td>-85.22907</td>\n      <td>...</td>\n      <td>4193.190458</td>\n      <td>17612.998120</td>\n      <td>3</td>\n      <td>4</td>\n      <td>3</td>\n      <td>4</td>\n      <td>4</td>\n      <td>4</td>\n      <td>3</td>\n      <td>3</td>\n    </tr>\n    <tr>\n      <th>2</th>\n      <td>3</td>\n      <td>F995323</td>\n      <td>a2057123-abf5-4a2c-abad-8ffe33512562</td>\n      <td>e19a0fa00aeda885b8a436757e889bc9</td>\n      <td>Sioux Falls</td>\n      <td>SD</td>\n      <td>Minnehaha</td>\n      <td>57110</td>\n      <td>43.54321</td>\n      <td>-96.63772</td>\n      <td>...</td>\n      <td>2434.234222</td>\n      <td>17505.192460</td>\n      <td>2</td>\n      <td>4</td>\n      <td>4</td>\n      <td>4</td>\n      <td>3</td>\n      <td>4</td>\n      <td>3</td>\n      <td>3</td>\n    </tr>\n    <tr>\n      <th>3</th>\n      <td>4</td>\n      <td>A879973</td>\n      <td>1dec528d-eb34-4079-adce-0d7a40e82205</td>\n      <td>cd17d7b6d152cb6f23957346d11c3f07</td>\n      <td>New Richland</td>\n      <td>MN</td>\n      <td>Waseca</td>\n      <td>56072</td>\n      <td>43.89744</td>\n      <td>-93.51479</td>\n      <td>...</td>\n      <td>2127.830423</td>\n      <td>12993.437350</td>\n      <td>3</td>\n      <td>5</td>\n      <td>5</td>\n      <td>3</td>\n      <td>4</td>\n      <td>5</td>\n      <td>5</td>\n      <td>5</td>\n    </tr>\n    <tr>\n      <th>4</th>\n      <td>5</td>\n      <td>C544523</td>\n      <td>5885f56b-d6da-43a3-8760-83583af94266</td>\n      <td>d2f0425877b10ed6bb381f3e2579424a</td>\n      <td>West Point</td>\n      <td>VA</td>\n      <td>King William</td>\n      <td>23181</td>\n      <td>37.59894</td>\n      <td>-76.88958</td>\n      <td>...</td>\n      <td>2113.073274</td>\n      <td>3716.525786</td>\n      <td>2</td>\n      <td>1</td>\n      <td>3</td>\n      <td>3</td>\n      <td>5</td>\n      <td>3</td>\n      <td>4</td>\n      <td>3</td>\n    </tr>\n  </tbody>\n</table>\n<p>5 rows × 50 columns</p>\n</div>"
     },
     "execution_count": 2,
     "metadata": {},
     "output_type": "execute_result"
    }
   ],
   "source": [
    "# load data file\n",
    "df = pd.read_csv('medical_clean.csv')\n",
    "# quick test the data is present and see the shape\n",
    "df.head()"
   ]
  },
  {
   "cell_type": "markdown",
   "id": "674c6f92-79c3-48df-a3c3-743eb69771e2",
   "metadata": {
    "pycharm": {
     "name": "#%% md\n"
    }
   },
   "source": [
    "---\n",
    "### Exploratory Data Analysis\n",
    "---"
   ]
  },
  {
   "cell_type": "code",
   "execution_count": 3,
   "id": "5832d92a-c445-435c-8378-9dcfaa3681bb",
   "metadata": {
    "pycharm": {
     "name": "#%%\n"
    }
   },
   "outputs": [
    {
     "name": "stdout",
     "output_type": "stream",
     "text": [
      "<class 'pandas.core.frame.DataFrame'>\n",
      "RangeIndex: 10000 entries, 0 to 9999\n",
      "Data columns (total 50 columns):\n",
      " #   Column              Non-Null Count  Dtype  \n",
      "---  ------              --------------  -----  \n",
      " 0   CaseOrder           10000 non-null  int64  \n",
      " 1   Customer_id         10000 non-null  object \n",
      " 2   Interaction         10000 non-null  object \n",
      " 3   UID                 10000 non-null  object \n",
      " 4   City                10000 non-null  object \n",
      " 5   State               10000 non-null  object \n",
      " 6   County              10000 non-null  object \n",
      " 7   Zip                 10000 non-null  int64  \n",
      " 8   Lat                 10000 non-null  float64\n",
      " 9   Lng                 10000 non-null  float64\n",
      " 10  Population          10000 non-null  int64  \n",
      " 11  Area                10000 non-null  object \n",
      " 12  TimeZone            10000 non-null  object \n",
      " 13  Job                 10000 non-null  object \n",
      " 14  Children            10000 non-null  int64  \n",
      " 15  Age                 10000 non-null  int64  \n",
      " 16  Income              10000 non-null  float64\n",
      " 17  Marital             10000 non-null  object \n",
      " 18  Gender              10000 non-null  object \n",
      " 19  ReAdmis             10000 non-null  object \n",
      " 20  VitD_levels         10000 non-null  float64\n",
      " 21  Doc_visits          10000 non-null  int64  \n",
      " 22  Full_meals_eaten    10000 non-null  int64  \n",
      " 23  vitD_supp           10000 non-null  int64  \n",
      " 24  Soft_drink          10000 non-null  object \n",
      " 25  Initial_admin       10000 non-null  object \n",
      " 26  HighBlood           10000 non-null  object \n",
      " 27  Stroke              10000 non-null  object \n",
      " 28  Complication_risk   10000 non-null  object \n",
      " 29  Overweight          10000 non-null  object \n",
      " 30  Arthritis           10000 non-null  object \n",
      " 31  Diabetes            10000 non-null  object \n",
      " 32  Hyperlipidemia      10000 non-null  object \n",
      " 33  BackPain            10000 non-null  object \n",
      " 34  Anxiety             10000 non-null  object \n",
      " 35  Allergic_rhinitis   10000 non-null  object \n",
      " 36  Reflux_esophagitis  10000 non-null  object \n",
      " 37  Asthma              10000 non-null  object \n",
      " 38  Services            10000 non-null  object \n",
      " 39  Initial_days        10000 non-null  float64\n",
      " 40  TotalCharge         10000 non-null  float64\n",
      " 41  Additional_charges  10000 non-null  float64\n",
      " 42  Item1               10000 non-null  int64  \n",
      " 43  Item2               10000 non-null  int64  \n",
      " 44  Item3               10000 non-null  int64  \n",
      " 45  Item4               10000 non-null  int64  \n",
      " 46  Item5               10000 non-null  int64  \n",
      " 47  Item6               10000 non-null  int64  \n",
      " 48  Item7               10000 non-null  int64  \n",
      " 49  Item8               10000 non-null  int64  \n",
      "dtypes: float64(7), int64(16), object(27)\n",
      "memory usage: 3.8+ MB\n"
     ]
    }
   ],
   "source": [
    "df.info()"
   ]
  },
  {
   "cell_type": "markdown",
   "id": "ae23d16f-0a3c-4844-ad79-34d06f7de851",
   "metadata": {
    "pycharm": {
     "name": "#%% md\n"
    }
   },
   "source": [
    "### Check for Missing Values"
   ]
  },
  {
   "cell_type": "code",
   "execution_count": 4,
   "id": "2203a14c-41fb-4ea8-ac50-df59756aa276",
   "metadata": {
    "pycharm": {
     "name": "#%%\n"
    }
   },
   "outputs": [
    {
     "data": {
      "text/plain": "<Figure size 432x288 with 1 Axes>",
      "image/png": "[encoded data removed]"
     },
     "metadata": {
      "needs_background": "light"
     },
     "output_type": "display_data"
    }
   ],
   "source": [
    "# Mapping to view missing data...none present.\n",
    "sns.heatmap(df.isnull(), yticklabels=False, cbar=False, cmap='viridis');"
   ]
  },
  {
   "cell_type": "code",
   "execution_count": 5,
   "id": "4d655d3b-6f11-4412-937c-4023efc97581",
   "metadata": {
    "pycharm": {
     "name": "#%%\n"
    }
   },
   "outputs": [
    {
     "data": {
      "text/plain": "         CaseOrder           Zip           Lat           Lng     Population  \\\ncount  10000.00000  10000.000000  10000.000000  10000.000000   10000.000000   \nmean    5000.50000  50159.323900     38.751099    -91.243080    9965.253800   \nstd     2886.89568  27469.588208      5.403085     15.205998   14824.758614   \nmin        1.00000    610.000000     17.967190   -174.209700       0.000000   \n25%     2500.75000  27592.000000     35.255120    -97.352982     694.750000   \n50%     5000.50000  50207.000000     39.419355    -88.397230    2769.000000   \n75%     7500.25000  72411.750000     42.044175    -80.438050   13945.000000   \nmax    10000.00000  99929.000000     70.560990    -65.290170  122814.000000   \n\n           Children           Age         Income   VitD_levels    Doc_visits  \\\ncount  10000.000000  10000.000000   10000.000000  10000.000000  10000.000000   \nmean       2.097200     53.511700   40490.495160     17.964262      5.012200   \nstd        2.163659     20.638538   28521.153293      2.017231      1.045734   \nmin        0.000000     18.000000     154.080000      9.806483      1.000000   \n25%        0.000000     36.000000   19598.775000     16.626439      4.000000   \n50%        1.000000     53.000000   33768.420000     17.951122      5.000000   \n75%        3.000000     71.000000   54296.402500     19.347963      6.000000   \nmax       10.000000     89.000000  207249.100000     26.394449      9.000000   \n\n       ...   TotalCharge  Additional_charges         Item1         Item2  \\\ncount  ...  10000.000000        10000.000000  10000.000000  10000.000000   \nmean   ...   5312.172769        12934.528587      3.518800      3.506700   \nstd    ...   2180.393838         6542.601544      1.031966      1.034825   \nmin    ...   1938.312067         3125.703000      1.000000      1.000000   \n25%    ...   3179.374015         7986.487755      3.000000      3.000000   \n50%    ...   5213.952000        11573.977735      4.000000      3.000000   \n75%    ...   7459.699750        15626.490000      4.000000      4.000000   \nmax    ...   9180.728000        30566.070000      8.000000      7.000000   \n\n              Item3         Item4         Item5         Item6         Item7  \\\ncount  10000.000000  10000.000000  10000.000000  10000.000000  10000.000000   \nmean       3.511100      3.515100      3.496900      3.522500      3.494000   \nstd        1.032755      1.036282      1.030192      1.032376      1.021405   \nmin        1.000000      1.000000      1.000000      1.000000      1.000000   \n25%        3.000000      3.000000      3.000000      3.000000      3.000000   \n50%        4.000000      4.000000      3.000000      4.000000      3.000000   \n75%        4.000000      4.000000      4.000000      4.000000      4.000000   \nmax        8.000000      7.000000      7.000000      7.000000      7.000000   \n\n              Item8  \ncount  10000.000000  \nmean       3.509700  \nstd        1.042312  \nmin        1.000000  \n25%        3.000000  \n50%        3.000000  \n75%        4.000000  \nmax        7.000000  \n\n[8 rows x 23 columns]",
      "text/html": "<div>\n<style scoped>\n    .dataframe tbody tr th:only-of-type {\n        vertical-align: middle;\n    }\n\n    .dataframe tbody tr th {\n        vertical-align: top;\n    }\n\n    .dataframe thead th {\n        text-align: right;\n    }\n</style>\n<table border=\"1\" class=\"dataframe\">\n  <thead>\n    <tr style=\"text-align: right;\">\n      <th></th>\n      <th>CaseOrder</th>\n      <th>Zip</th>\n      <th>Lat</th>\n      <th>Lng</th>\n      <th>Population</th>\n      <th>Children</th>\n      <th>Age</th>\n      <th>Income</th>\n      <th>VitD_levels</th>\n      <th>Doc_visits</th>\n      <th>...</th>\n      <th>TotalCharge</th>\n      <th>Additional_charges</th>\n      <th>Item1</th>\n      <th>Item2</th>\n      <th>Item3</th>\n      <th>Item4</th>\n      <th>Item5</th>\n      <th>Item6</th>\n      <th>Item7</th>\n      <th>Item8</th>\n    </tr>\n  </thead>\n  <tbody>\n    <tr>\n      <th>count</th>\n      <td>10000.00000</td>\n      <td>10000.000000</td>\n      <td>10000.000000</td>\n      <td>10000.000000</td>\n      <td>10000.000000</td>\n      <td>10000.000000</td>\n      <td>10000.000000</td>\n      <td>10000.000000</td>\n      <td>10000.000000</td>\n      <td>10000.000000</td>\n      <td>...</td>\n      <td>10000.000000</td>\n      <td>10000.000000</td>\n      <td>10000.000000</td>\n      <td>10000.000000</td>\n      <td>10000.000000</td>\n      <td>10000.000000</td>\n      <td>10000.000000</td>\n      <td>10000.000000</td>\n      <td>10000.000000</td>\n      <td>10000.000000</td>\n    </tr>\n    <tr>\n      <th>mean</th>\n      <td>5000.50000</td>\n      <td>50159.323900</td>\n      <td>38.751099</td>\n      <td>-91.243080</td>\n      <td>9965.253800</td>\n      <td>2.097200</td>\n      <td>53.511700</td>\n      <td>40490.495160</td>\n      <td>17.964262</td>\n      <td>5.012200</td>\n      <td>...</td>\n      <td>5312.172769</td>\n      <td>12934.528587</td>\n      <td>3.518800</td>\n      <td>3.506700</td>\n      <td>3.511100</td>\n      <td>3.515100</td>\n      <td>3.496900</td>\n      <td>3.522500</td>\n      <td>3.494000</td>\n      <td>3.509700</td>\n    </tr>\n    <tr>\n      <th>std</th>\n      <td>2886.89568</td>\n      <td>27469.588208</td>\n      <td>5.403085</td>\n      <td>15.205998</td>\n      <td>14824.758614</td>\n      <td>2.163659</td>\n      <td>20.638538</td>\n      <td>28521.153293</td>\n      <td>2.017231</td>\n      <td>1.045734</td>\n      <td>...</td>\n      <td>2180.393838</td>\n      <td>6542.601544</td>\n      <td>1.031966</td>\n      <td>1.034825</td>\n      <td>1.032755</td>\n      <td>1.036282</td>\n      <td>1.030192</td>\n      <td>1.032376</td>\n      <td>1.021405</td>\n      <td>1.042312</td>\n    </tr>\n    <tr>\n      <th>min</th>\n      <td>1.00000</td>\n      <td>610.000000</td>\n      <td>17.967190</td>\n      <td>-174.209700</td>\n      <td>0.000000</td>\n      <td>0.000000</td>\n      <td>18.000000</td>\n      <td>154.080000</td>\n      <td>9.806483</td>\n      <td>1.000000</td>\n      <td>...</td>\n      <td>1938.312067</td>\n      <td>3125.703000</td>\n      <td>1.000000</td>\n      <td>1.000000</td>\n      <td>1.000000</td>\n      <td>1.000000</td>\n      <td>1.000000</td>\n      <td>1.000000</td>\n      <td>1.000000</td>\n      <td>1.000000</td>\n    </tr>\n    <tr>\n      <th>25%</th>\n      <td>2500.75000</td>\n      <td>27592.000000</td>\n      <td>35.255120</td>\n      <td>-97.352982</td>\n      <td>694.750000</td>\n      <td>0.000000</td>\n      <td>36.000000</td>\n      <td>19598.775000</td>\n      <td>16.626439</td>\n      <td>4.000000</td>\n      <td>...</td>\n      <td>3179.374015</td>\n      <td>7986.487755</td>\n      <td>3.000000</td>\n      <td>3.000000</td>\n      <td>3.000000</td>\n      <td>3.000000</td>\n      <td>3.000000</td>\n      <td>3.000000</td>\n      <td>3.000000</td>\n      <td>3.000000</td>\n    </tr>\n    <tr>\n      <th>50%</th>\n      <td>5000.50000</td>\n      <td>50207.000000</td>\n      <td>39.419355</td>\n      <td>-88.397230</td>\n      <td>2769.000000</td>\n      <td>1.000000</td>\n      <td>53.000000</td>\n      <td>33768.420000</td>\n      <td>17.951122</td>\n      <td>5.000000</td>\n      <td>...</td>\n      <td>5213.952000</td>\n      <td>11573.977735</td>\n      <td>4.000000</td>\n      <td>3.000000</td>\n      <td>4.000000</td>\n      <td>4.000000</td>\n      <td>3.000000</td>\n      <td>4.000000</td>\n      <td>3.000000</td>\n      <td>3.000000</td>\n    </tr>\n    <tr>\n      <th>75%</th>\n      <td>7500.25000</td>\n      <td>72411.750000</td>\n      <td>42.044175</td>\n      <td>-80.438050</td>\n      <td>13945.000000</td>\n      <td>3.000000</td>\n      <td>71.000000</td>\n      <td>54296.402500</td>\n      <td>19.347963</td>\n      <td>6.000000</td>\n      <td>...</td>\n      <td>7459.699750</td>\n      <td>15626.490000</td>\n      <td>4.000000</td>\n      <td>4.000000</td>\n      <td>4.000000</td>\n      <td>4.000000</td>\n      <td>4.000000</td>\n      <td>4.000000</td>\n      <td>4.000000</td>\n      <td>4.000000</td>\n    </tr>\n    <tr>\n      <th>max</th>\n      <td>10000.00000</td>\n      <td>99929.000000</td>\n      <td>70.560990</td>\n      <td>-65.290170</td>\n      <td>122814.000000</td>\n      <td>10.000000</td>\n      <td>89.000000</td>\n      <td>207249.100000</td>\n      <td>26.394449</td>\n      <td>9.000000</td>\n      <td>...</td>\n      <td>9180.728000</td>\n      <td>30566.070000</td>\n      <td>8.000000</td>\n      <td>7.000000</td>\n      <td>8.000000</td>\n      <td>7.000000</td>\n      <td>7.000000</td>\n      <td>7.000000</td>\n      <td>7.000000</td>\n      <td>7.000000</td>\n    </tr>\n  </tbody>\n</table>\n<p>8 rows × 23 columns</p>\n</div>"
     },
     "execution_count": 5,
     "metadata": {},
     "output_type": "execute_result"
    }
   ],
   "source": [
    "df.describe()"
   ]
  },
  {
   "cell_type": "markdown",
   "id": "8921e578-fc53-48d6-9d83-9651fe3ec695",
   "metadata": {
    "pycharm": {
     "name": "#%% md\n"
    }
   },
   "source": [
    "### Describe and Explore Numeric Fields:"
   ]
  },
  {
   "cell_type": "code",
   "execution_count": 6,
   "id": "ed69eccc-df93-4b3b-a150-529b25f9d2fd",
   "metadata": {
    "pycharm": {
     "name": "#%%\n"
    }
   },
   "outputs": [
    {
     "data": {
      "text/plain": "         CaseOrder           Zip           Lat           Lng     Population  \\\ncount  10000.00000  10000.000000  10000.000000  10000.000000   10000.000000   \nmean    5000.50000  50159.323900     38.751099    -91.243080    9965.253800   \nstd     2886.89568  27469.588208      5.403085     15.205998   14824.758614   \nmin        1.00000    610.000000     17.967190   -174.209700       0.000000   \n25%     2500.75000  27592.000000     35.255120    -97.352982     694.750000   \n50%     5000.50000  50207.000000     39.419355    -88.397230    2769.000000   \n75%     7500.25000  72411.750000     42.044175    -80.438050   13945.000000   \nmax    10000.00000  99929.000000     70.560990    -65.290170  122814.000000   \n\n           Children           Age         Income   VitD_levels    Doc_visits  \\\ncount  10000.000000  10000.000000   10000.000000  10000.000000  10000.000000   \nmean       2.097200     53.511700   40490.495160     17.964262      5.012200   \nstd        2.163659     20.638538   28521.153293      2.017231      1.045734   \nmin        0.000000     18.000000     154.080000      9.806483      1.000000   \n25%        0.000000     36.000000   19598.775000     16.626439      4.000000   \n50%        1.000000     53.000000   33768.420000     17.951122      5.000000   \n75%        3.000000     71.000000   54296.402500     19.347963      6.000000   \nmax       10.000000     89.000000  207249.100000     26.394449      9.000000   \n\n       ...   TotalCharge  Additional_charges         Item1         Item2  \\\ncount  ...  10000.000000        10000.000000  10000.000000  10000.000000   \nmean   ...   5312.172769        12934.528587      3.518800      3.506700   \nstd    ...   2180.393838         6542.601544      1.031966      1.034825   \nmin    ...   1938.312067         3125.703000      1.000000      1.000000   \n25%    ...   3179.374015         7986.487755      3.000000      3.000000   \n50%    ...   5213.952000        11573.977735      4.000000      3.000000   \n75%    ...   7459.699750        15626.490000      4.000000      4.000000   \nmax    ...   9180.728000        30566.070000      8.000000      7.000000   \n\n              Item3         Item4         Item5         Item6         Item7  \\\ncount  10000.000000  10000.000000  10000.000000  10000.000000  10000.000000   \nmean       3.511100      3.515100      3.496900      3.522500      3.494000   \nstd        1.032755      1.036282      1.030192      1.032376      1.021405   \nmin        1.000000      1.000000      1.000000      1.000000      1.000000   \n25%        3.000000      3.000000      3.000000      3.000000      3.000000   \n50%        4.000000      4.000000      3.000000      4.000000      3.000000   \n75%        4.000000      4.000000      4.000000      4.000000      4.000000   \nmax        8.000000      7.000000      7.000000      7.000000      7.000000   \n\n              Item8  \ncount  10000.000000  \nmean       3.509700  \nstd        1.042312  \nmin        1.000000  \n25%        3.000000  \n50%        3.000000  \n75%        4.000000  \nmax        7.000000  \n\n[8 rows x 23 columns]",
      "text/html": "<div>\n<style scoped>\n    .dataframe tbody tr th:only-of-type {\n        vertical-align: middle;\n    }\n\n    .dataframe tbody tr th {\n        vertical-align: top;\n    }\n\n    .dataframe thead th {\n        text-align: right;\n    }\n</style>\n<table border=\"1\" class=\"dataframe\">\n  <thead>\n    <tr style=\"text-align: right;\">\n      <th></th>\n      <th>CaseOrder</th>\n      <th>Zip</th>\n      <th>Lat</th>\n      <th>Lng</th>\n      <th>Population</th>\n      <th>Children</th>\n      <th>Age</th>\n      <th>Income</th>\n      <th>VitD_levels</th>\n      <th>Doc_visits</th>\n      <th>...</th>\n      <th>TotalCharge</th>\n      <th>Additional_charges</th>\n      <th>Item1</th>\n      <th>Item2</th>\n      <th>Item3</th>\n      <th>Item4</th>\n      <th>Item5</th>\n      <th>Item6</th>\n      <th>Item7</th>\n      <th>Item8</th>\n    </tr>\n  </thead>\n  <tbody>\n    <tr>\n      <th>count</th>\n      <td>10000.00000</td>\n      <td>10000.000000</td>\n      <td>10000.000000</td>\n      <td>10000.000000</td>\n      <td>10000.000000</td>\n      <td>10000.000000</td>\n      <td>10000.000000</td>\n      <td>10000.000000</td>\n      <td>10000.000000</td>\n      <td>10000.000000</td>\n      <td>...</td>\n      <td>10000.000000</td>\n      <td>10000.000000</td>\n      <td>10000.000000</td>\n      <td>10000.000000</td>\n      <td>10000.000000</td>\n      <td>10000.000000</td>\n      <td>10000.000000</td>\n      <td>10000.000000</td>\n      <td>10000.000000</td>\n      <td>10000.000000</td>\n    </tr>\n    <tr>\n      <th>mean</th>\n      <td>5000.50000</td>\n      <td>50159.323900</td>\n      <td>38.751099</td>\n      <td>-91.243080</td>\n      <td>9965.253800</td>\n      <td>2.097200</td>\n      <td>53.511700</td>\n      <td>40490.495160</td>\n      <td>17.964262</td>\n      <td>5.012200</td>\n      <td>...</td>\n      <td>5312.172769</td>\n      <td>12934.528587</td>\n      <td>3.518800</td>\n      <td>3.506700</td>\n      <td>3.511100</td>\n      <td>3.515100</td>\n      <td>3.496900</td>\n      <td>3.522500</td>\n      <td>3.494000</td>\n      <td>3.509700</td>\n    </tr>\n    <tr>\n      <th>std</th>\n      <td>2886.89568</td>\n      <td>27469.588208</td>\n      <td>5.403085</td>\n      <td>15.205998</td>\n      <td>14824.758614</td>\n      <td>2.163659</td>\n      <td>20.638538</td>\n      <td>28521.153293</td>\n      <td>2.017231</td>\n      <td>1.045734</td>\n      <td>...</td>\n      <td>2180.393838</td>\n      <td>6542.601544</td>\n      <td>1.031966</td>\n      <td>1.034825</td>\n      <td>1.032755</td>\n      <td>1.036282</td>\n      <td>1.030192</td>\n      <td>1.032376</td>\n      <td>1.021405</td>\n      <td>1.042312</td>\n    </tr>\n    <tr>\n      <th>min</th>\n      <td>1.00000</td>\n      <td>610.000000</td>\n      <td>17.967190</td>\n      <td>-174.209700</td>\n      <td>0.000000</td>\n      <td>0.000000</td>\n      <td>18.000000</td>\n      <td>154.080000</td>\n      <td>9.806483</td>\n      <td>1.000000</td>\n      <td>...</td>\n      <td>1938.312067</td>\n      <td>3125.703000</td>\n      <td>1.000000</td>\n      <td>1.000000</td>\n      <td>1.000000</td>\n      <td>1.000000</td>\n      <td>1.000000</td>\n      <td>1.000000</td>\n      <td>1.000000</td>\n      <td>1.000000</td>\n    </tr>\n    <tr>\n      <th>25%</th>\n      <td>2500.75000</td>\n      <td>27592.000000</td>\n      <td>35.255120</td>\n      <td>-97.352982</td>\n      <td>694.750000</td>\n      <td>0.000000</td>\n      <td>36.000000</td>\n      <td>19598.775000</td>\n      <td>16.626439</td>\n      <td>4.000000</td>\n      <td>...</td>\n      <td>3179.374015</td>\n      <td>7986.487755</td>\n      <td>3.000000</td>\n      <td>3.000000</td>\n      <td>3.000000</td>\n      <td>3.000000</td>\n      <td>3.000000</td>\n      <td>3.000000</td>\n      <td>3.000000</td>\n      <td>3.000000</td>\n    </tr>\n    <tr>\n      <th>50%</th>\n      <td>5000.50000</td>\n      <td>50207.000000</td>\n      <td>39.419355</td>\n      <td>-88.397230</td>\n      <td>2769.000000</td>\n      <td>1.000000</td>\n      <td>53.000000</td>\n      <td>33768.420000</td>\n      <td>17.951122</td>\n      <td>5.000000</td>\n      <td>...</td>\n      <td>5213.952000</td>\n      <td>11573.977735</td>\n      <td>4.000000</td>\n      <td>3.000000</td>\n      <td>4.000000</td>\n      <td>4.000000</td>\n      <td>3.000000</td>\n      <td>4.000000</td>\n      <td>3.000000</td>\n      <td>3.000000</td>\n    </tr>\n    <tr>\n      <th>75%</th>\n      <td>7500.25000</td>\n      <td>72411.750000</td>\n      <td>42.044175</td>\n      <td>-80.438050</td>\n      <td>13945.000000</td>\n      <td>3.000000</td>\n      <td>71.000000</td>\n      <td>54296.402500</td>\n      <td>19.347963</td>\n      <td>6.000000</td>\n      <td>...</td>\n      <td>7459.699750</td>\n      <td>15626.490000</td>\n      <td>4.000000</td>\n      <td>4.000000</td>\n      <td>4.000000</td>\n      <td>4.000000</td>\n      <td>4.000000</td>\n      <td>4.000000</td>\n      <td>4.000000</td>\n      <td>4.000000</td>\n    </tr>\n    <tr>\n      <th>max</th>\n      <td>10000.00000</td>\n      <td>99929.000000</td>\n      <td>70.560990</td>\n      <td>-65.290170</td>\n      <td>122814.000000</td>\n      <td>10.000000</td>\n      <td>89.000000</td>\n      <td>207249.100000</td>\n      <td>26.394449</td>\n      <td>9.000000</td>\n      <td>...</td>\n      <td>9180.728000</td>\n      <td>30566.070000</td>\n      <td>8.000000</td>\n      <td>7.000000</td>\n      <td>8.000000</td>\n      <td>7.000000</td>\n      <td>7.000000</td>\n      <td>7.000000</td>\n      <td>7.000000</td>\n      <td>7.000000</td>\n    </tr>\n  </tbody>\n</table>\n<p>8 rows × 23 columns</p>\n</div>"
     },
     "execution_count": 6,
     "metadata": {},
     "output_type": "execute_result"
    }
   ],
   "source": [
    "df.describe(include = [np.number])"
   ]
  },
  {
   "cell_type": "markdown",
   "id": "25cf9116-84b7-4f8a-9e73-ee9e314df319",
   "metadata": {
    "pycharm": {
     "name": "#%% md\n"
    }
   },
   "source": [
    "#### Create DataFrame w/Number DataTypes Only"
   ]
  },
  {
   "cell_type": "code",
   "execution_count": 7,
   "id": "4eed1326-d09f-4efc-8bc4-e7b4cbb168b7",
   "metadata": {
    "pycharm": {
     "name": "#%%\n"
    }
   },
   "outputs": [
    {
     "data": {
      "text/plain": "   CaseOrder    Zip       Lat       Lng  Population  Children  Age    Income  \\\n0          1  35621  34.34960 -86.72508        2951         1   53  86575.93   \n1          2  32446  30.84513 -85.22907       11303         3   51  46805.99   \n2          3  57110  43.54321 -96.63772       17125         3   53  14370.14   \n3          4  56072  43.89744 -93.51479        2162         0   78  39741.49   \n4          5  23181  37.59894 -76.88958        5287         1   22   1209.56   \n\n   VitD_levels  Doc_visits  ...  TotalCharge  Additional_charges  Item1  \\\n0    19.141466           6  ...  3726.702860        17939.403420      3   \n1    18.940352           4  ...  4193.190458        17612.998120      3   \n2    18.057507           4  ...  2434.234222        17505.192460      2   \n3    16.576858           4  ...  2127.830423        12993.437350      3   \n4    17.439069           5  ...  2113.073274         3716.525786      2   \n\n   Item2  Item3  Item4  Item5  Item6  Item7  Item8  \n0      3      2      2      4      3      3      4  \n1      4      3      4      4      4      3      3  \n2      4      4      4      3      4      3      3  \n3      5      5      3      4      5      5      5  \n4      1      3      3      5      3      4      3  \n\n[5 rows x 23 columns]",
      "text/html": "<div>\n<style scoped>\n    .dataframe tbody tr th:only-of-type {\n        vertical-align: middle;\n    }\n\n    .dataframe tbody tr th {\n        vertical-align: top;\n    }\n\n    .dataframe thead th {\n        text-align: right;\n    }\n</style>\n<table border=\"1\" class=\"dataframe\">\n  <thead>\n    <tr style=\"text-align: right;\">\n      <th></th>\n      <th>CaseOrder</th>\n      <th>Zip</th>\n      <th>Lat</th>\n      <th>Lng</th>\n      <th>Population</th>\n      <th>Children</th>\n      <th>Age</th>\n      <th>Income</th>\n      <th>VitD_levels</th>\n      <th>Doc_visits</th>\n      <th>...</th>\n      <th>TotalCharge</th>\n      <th>Additional_charges</th>\n      <th>Item1</th>\n      <th>Item2</th>\n      <th>Item3</th>\n      <th>Item4</th>\n      <th>Item5</th>\n      <th>Item6</th>\n      <th>Item7</th>\n      <th>Item8</th>\n    </tr>\n  </thead>\n  <tbody>\n    <tr>\n      <th>0</th>\n      <td>1</td>\n      <td>35621</td>\n      <td>34.34960</td>\n      <td>-86.72508</td>\n      <td>2951</td>\n      <td>1</td>\n      <td>53</td>\n      <td>86575.93</td>\n      <td>19.141466</td>\n      <td>6</td>\n      <td>...</td>\n      <td>3726.702860</td>\n      <td>17939.403420</td>\n      <td>3</td>\n      <td>3</td>\n      <td>2</td>\n      <td>2</td>\n      <td>4</td>\n      <td>3</td>\n      <td>3</td>\n      <td>4</td>\n    </tr>\n    <tr>\n      <th>1</th>\n      <td>2</td>\n      <td>32446</td>\n      <td>30.84513</td>\n      <td>-85.22907</td>\n      <td>11303</td>\n      <td>3</td>\n      <td>51</td>\n      <td>46805.99</td>\n      <td>18.940352</td>\n      <td>4</td>\n      <td>...</td>\n      <td>4193.190458</td>\n      <td>17612.998120</td>\n      <td>3</td>\n      <td>4</td>\n      <td>3</td>\n      <td>4</td>\n      <td>4</td>\n      <td>4</td>\n      <td>3</td>\n      <td>3</td>\n    </tr>\n    <tr>\n      <th>2</th>\n      <td>3</td>\n      <td>57110</td>\n      <td>43.54321</td>\n      <td>-96.63772</td>\n      <td>17125</td>\n      <td>3</td>\n      <td>53</td>\n      <td>14370.14</td>\n      <td>18.057507</td>\n      <td>4</td>\n      <td>...</td>\n      <td>2434.234222</td>\n      <td>17505.192460</td>\n      <td>2</td>\n      <td>4</td>\n      <td>4</td>\n      <td>4</td>\n      <td>3</td>\n      <td>4</td>\n      <td>3</td>\n      <td>3</td>\n    </tr>\n    <tr>\n      <th>3</th>\n      <td>4</td>\n      <td>56072</td>\n      <td>43.89744</td>\n      <td>-93.51479</td>\n      <td>2162</td>\n      <td>0</td>\n      <td>78</td>\n      <td>39741.49</td>\n      <td>16.576858</td>\n      <td>4</td>\n      <td>...</td>\n      <td>2127.830423</td>\n      <td>12993.437350</td>\n      <td>3</td>\n      <td>5</td>\n      <td>5</td>\n      <td>3</td>\n      <td>4</td>\n      <td>5</td>\n      <td>5</td>\n      <td>5</td>\n    </tr>\n    <tr>\n      <th>4</th>\n      <td>5</td>\n      <td>23181</td>\n      <td>37.59894</td>\n      <td>-76.88958</td>\n      <td>5287</td>\n      <td>1</td>\n      <td>22</td>\n      <td>1209.56</td>\n      <td>17.439069</td>\n      <td>5</td>\n      <td>...</td>\n      <td>2113.073274</td>\n      <td>3716.525786</td>\n      <td>2</td>\n      <td>1</td>\n      <td>3</td>\n      <td>3</td>\n      <td>5</td>\n      <td>3</td>\n      <td>4</td>\n      <td>3</td>\n    </tr>\n  </tbody>\n</table>\n<p>5 rows × 23 columns</p>\n</div>"
     },
     "execution_count": 7,
     "metadata": {},
     "output_type": "execute_result"
    }
   ],
   "source": [
    "df_num = df.select_dtypes(include='number')\n",
    "df_num.head()"
   ]
  },
  {
   "cell_type": "markdown",
   "id": "d15d5fc2-3829-4e79-9375-9021c994db0e",
   "metadata": {
    "pycharm": {
     "name": "#%% md\n"
    }
   },
   "source": [
    "### Describe and Explore Categorical Fields:"
   ]
  },
  {
   "cell_type": "code",
   "execution_count": 8,
   "id": "f1ba7908-547a-430f-a68a-69878949ac4a",
   "metadata": {
    "pycharm": {
     "name": "#%%\n"
    }
   },
   "outputs": [
    {
     "data": {
      "text/plain": "       Customer_id                           Interaction  \\\ncount        10000                                 10000   \nunique       10000                                 10000   \ntop        C412403  8cd49b13-f45a-4b47-a2bd-173ffa932c2f   \nfreq             1                                     1   \n\n                                     UID     City  State     County   Area  \\\ncount                              10000    10000  10000      10000  10000   \nunique                             10000     6072     52       1607      3   \ntop     3a83ddb66e2ae73798bdf1d705dc0932  Houston     TX  Jefferson  Rural   \nfreq                                   1       36    553        118   3369   \n\n                TimeZone                                   Job  Marital  ...  \\\ncount              10000                                 10000    10000  ...   \nunique                26                                   639        5  ...   \ntop     America/New_York  Outdoor activities/education manager  Widowed  ...   \nfreq                3889                                    29     2045  ...   \n\n       Overweight Arthritis Diabetes Hyperlipidemia BackPain Anxiety  \\\ncount       10000     10000    10000          10000    10000   10000   \nunique          2         2        2              2        2       2   \ntop           Yes        No       No             No       No      No   \nfreq         7094      6426     7262           6628     5886    6785   \n\n       Allergic_rhinitis Reflux_esophagitis Asthma    Services  \ncount              10000              10000  10000       10000  \nunique                 2                  2      2           4  \ntop                   No                 No     No  Blood Work  \nfreq                6059               5865   7107        5265  \n\n[4 rows x 27 columns]",
      "text/html": "<div>\n<style scoped>\n    .dataframe tbody tr th:only-of-type {\n        vertical-align: middle;\n    }\n\n    .dataframe tbody tr th {\n        vertical-align: top;\n    }\n\n    .dataframe thead th {\n        text-align: right;\n    }\n</style>\n<table border=\"1\" class=\"dataframe\">\n  <thead>\n    <tr style=\"text-align: right;\">\n      <th></th>\n      <th>Customer_id</th>\n      <th>Interaction</th>\n      <th>UID</th>\n      <th>City</th>\n      <th>State</th>\n      <th>County</th>\n      <th>Area</th>\n      <th>TimeZone</th>\n      <th>Job</th>\n      <th>Marital</th>\n      <th>...</th>\n      <th>Overweight</th>\n      <th>Arthritis</th>\n      <th>Diabetes</th>\n      <th>Hyperlipidemia</th>\n      <th>BackPain</th>\n      <th>Anxiety</th>\n      <th>Allergic_rhinitis</th>\n      <th>Reflux_esophagitis</th>\n      <th>Asthma</th>\n      <th>Services</th>\n    </tr>\n  </thead>\n  <tbody>\n    <tr>\n      <th>count</th>\n      <td>10000</td>\n      <td>10000</td>\n      <td>10000</td>\n      <td>10000</td>\n      <td>10000</td>\n      <td>10000</td>\n      <td>10000</td>\n      <td>10000</td>\n      <td>10000</td>\n      <td>10000</td>\n      <td>...</td>\n      <td>10000</td>\n      <td>10000</td>\n      <td>10000</td>\n      <td>10000</td>\n      <td>10000</td>\n      <td>10000</td>\n      <td>10000</td>\n      <td>10000</td>\n      <td>10000</td>\n      <td>10000</td>\n    </tr>\n    <tr>\n      <th>unique</th>\n      <td>10000</td>\n      <td>10000</td>\n      <td>10000</td>\n      <td>6072</td>\n      <td>52</td>\n      <td>1607</td>\n      <td>3</td>\n      <td>26</td>\n      <td>639</td>\n      <td>5</td>\n      <td>...</td>\n      <td>2</td>\n      <td>2</td>\n      <td>2</td>\n      <td>2</td>\n      <td>2</td>\n      <td>2</td>\n      <td>2</td>\n      <td>2</td>\n      <td>2</td>\n      <td>4</td>\n    </tr>\n    <tr>\n      <th>top</th>\n      <td>C412403</td>\n      <td>8cd49b13-f45a-4b47-a2bd-173ffa932c2f</td>\n      <td>3a83ddb66e2ae73798bdf1d705dc0932</td>\n      <td>Houston</td>\n      <td>TX</td>\n      <td>Jefferson</td>\n      <td>Rural</td>\n      <td>America/New_York</td>\n      <td>Outdoor activities/education manager</td>\n      <td>Widowed</td>\n      <td>...</td>\n      <td>Yes</td>\n      <td>No</td>\n      <td>No</td>\n      <td>No</td>\n      <td>No</td>\n      <td>No</td>\n      <td>No</td>\n      <td>No</td>\n      <td>No</td>\n      <td>Blood Work</td>\n    </tr>\n    <tr>\n      <th>freq</th>\n      <td>1</td>\n      <td>1</td>\n      <td>1</td>\n      <td>36</td>\n      <td>553</td>\n      <td>118</td>\n      <td>3369</td>\n      <td>3889</td>\n      <td>29</td>\n      <td>2045</td>\n      <td>...</td>\n      <td>7094</td>\n      <td>6426</td>\n      <td>7262</td>\n      <td>6628</td>\n      <td>5886</td>\n      <td>6785</td>\n      <td>6059</td>\n      <td>5865</td>\n      <td>7107</td>\n      <td>5265</td>\n    </tr>\n  </tbody>\n</table>\n<p>4 rows × 27 columns</p>\n</div>"
     },
     "execution_count": 8,
     "metadata": {},
     "output_type": "execute_result"
    }
   ],
   "source": [
    "df.describe(exclude=[np.number])"
   ]
  },
  {
   "cell_type": "markdown",
   "id": "4f677743-1082-479b-b091-faa9e10849c0",
   "metadata": {
    "pycharm": {
     "name": "#%% md\n"
    }
   },
   "source": [
    "#### Create DataFrame w/Categorical DataTypes Only"
   ]
  },
  {
   "cell_type": "code",
   "execution_count": 9,
   "id": "b73c08d9-5947-40e8-a69c-fb07fae4bd39",
   "metadata": {
    "pycharm": {
     "name": "#%%\n"
    }
   },
   "outputs": [
    {
     "data": {
      "text/plain": "  Customer_id                           Interaction  \\\n0     C412403  8cd49b13-f45a-4b47-a2bd-173ffa932c2f   \n1     Z919181  d2450b70-0337-4406-bdbb-bc1037f1734c   \n2     F995323  a2057123-abf5-4a2c-abad-8ffe33512562   \n3     A879973  1dec528d-eb34-4079-adce-0d7a40e82205   \n4     C544523  5885f56b-d6da-43a3-8760-83583af94266   \n\n                                UID          City State        County  \\\n0  3a83ddb66e2ae73798bdf1d705dc0932           Eva    AL        Morgan   \n1  176354c5eef714957d486009feabf195      Marianna    FL       Jackson   \n2  e19a0fa00aeda885b8a436757e889bc9   Sioux Falls    SD     Minnehaha   \n3  cd17d7b6d152cb6f23957346d11c3f07  New Richland    MN        Waseca   \n4  d2f0425877b10ed6bb381f3e2579424a    West Point    VA  King William   \n\n       Area          TimeZone                               Job   Marital  \\\n0  Suburban   America/Chicago  Psychologist, sport and exercise  Divorced   \n1     Urban   America/Chicago      Community development worker   Married   \n2  Suburban   America/Chicago           Chief Executive Officer   Widowed   \n3  Suburban   America/Chicago               Early years teacher   Married   \n4     Rural  America/New_York       Health promotion specialist   Widowed   \n\n   ... Overweight Arthritis Diabetes Hyperlipidemia BackPain Anxiety  \\\n0  ...         No       Yes      Yes             No      Yes     Yes   \n1  ...        Yes        No       No             No       No      No   \n2  ...        Yes        No      Yes             No       No      No   \n3  ...         No       Yes       No             No       No      No   \n4  ...         No        No       No            Yes       No      No   \n\n  Allergic_rhinitis Reflux_esophagitis Asthma     Services  \n0               Yes                 No    Yes   Blood Work  \n1                No                Yes     No  Intravenous  \n2                No                 No     No   Blood Work  \n3                No                Yes    Yes   Blood Work  \n4               Yes                 No     No      CT Scan  \n\n[5 rows x 27 columns]",
      "text/html": "<div>\n<style scoped>\n    .dataframe tbody tr th:only-of-type {\n        vertical-align: middle;\n    }\n\n    .dataframe tbody tr th {\n        vertical-align: top;\n    }\n\n    .dataframe thead th {\n        text-align: right;\n    }\n</style>\n<table border=\"1\" class=\"dataframe\">\n  <thead>\n    <tr style=\"text-align: right;\">\n      <th></th>\n      <th>Customer_id</th>\n      <th>Interaction</th>\n      <th>UID</th>\n      <th>City</th>\n      <th>State</th>\n      <th>County</th>\n      <th>Area</th>\n      <th>TimeZone</th>\n      <th>Job</th>\n      <th>Marital</th>\n      <th>...</th>\n      <th>Overweight</th>\n      <th>Arthritis</th>\n      <th>Diabetes</th>\n      <th>Hyperlipidemia</th>\n      <th>BackPain</th>\n      <th>Anxiety</th>\n      <th>Allergic_rhinitis</th>\n      <th>Reflux_esophagitis</th>\n      <th>Asthma</th>\n      <th>Services</th>\n    </tr>\n  </thead>\n  <tbody>\n    <tr>\n      <th>0</th>\n      <td>C412403</td>\n      <td>8cd49b13-f45a-4b47-a2bd-173ffa932c2f</td>\n      <td>3a83ddb66e2ae73798bdf1d705dc0932</td>\n      <td>Eva</td>\n      <td>AL</td>\n      <td>Morgan</td>\n      <td>Suburban</td>\n      <td>America/Chicago</td>\n      <td>Psychologist, sport and exercise</td>\n      <td>Divorced</td>\n      <td>...</td>\n      <td>No</td>\n      <td>Yes</td>\n      <td>Yes</td>\n      <td>No</td>\n      <td>Yes</td>\n      <td>Yes</td>\n      <td>Yes</td>\n      <td>No</td>\n      <td>Yes</td>\n      <td>Blood Work</td>\n    </tr>\n    <tr>\n      <th>1</th>\n      <td>Z919181</td>\n      <td>d2450b70-0337-4406-bdbb-bc1037f1734c</td>\n      <td>176354c5eef714957d486009feabf195</td>\n      <td>Marianna</td>\n      <td>FL</td>\n      <td>Jackson</td>\n      <td>Urban</td>\n      <td>America/Chicago</td>\n      <td>Community development worker</td>\n      <td>Married</td>\n      <td>...</td>\n      <td>Yes</td>\n      <td>No</td>\n      <td>No</td>\n      <td>No</td>\n      <td>No</td>\n      <td>No</td>\n      <td>No</td>\n      <td>Yes</td>\n      <td>No</td>\n      <td>Intravenous</td>\n    </tr>\n    <tr>\n      <th>2</th>\n      <td>F995323</td>\n      <td>a2057123-abf5-4a2c-abad-8ffe33512562</td>\n      <td>e19a0fa00aeda885b8a436757e889bc9</td>\n      <td>Sioux Falls</td>\n      <td>SD</td>\n      <td>Minnehaha</td>\n      <td>Suburban</td>\n      <td>America/Chicago</td>\n      <td>Chief Executive Officer</td>\n      <td>Widowed</td>\n      <td>...</td>\n      <td>Yes</td>\n      <td>No</td>\n      <td>Yes</td>\n      <td>No</td>\n      <td>No</td>\n      <td>No</td>\n      <td>No</td>\n      <td>No</td>\n      <td>No</td>\n      <td>Blood Work</td>\n    </tr>\n    <tr>\n      <th>3</th>\n      <td>A879973</td>\n      <td>1dec528d-eb34-4079-adce-0d7a40e82205</td>\n      <td>cd17d7b6d152cb6f23957346d11c3f07</td>\n      <td>New Richland</td>\n      <td>MN</td>\n      <td>Waseca</td>\n      <td>Suburban</td>\n      <td>America/Chicago</td>\n      <td>Early years teacher</td>\n      <td>Married</td>\n      <td>...</td>\n      <td>No</td>\n      <td>Yes</td>\n      <td>No</td>\n      <td>No</td>\n      <td>No</td>\n      <td>No</td>\n      <td>No</td>\n      <td>Yes</td>\n      <td>Yes</td>\n      <td>Blood Work</td>\n    </tr>\n    <tr>\n      <th>4</th>\n      <td>C544523</td>\n      <td>5885f56b-d6da-43a3-8760-83583af94266</td>\n      <td>d2f0425877b10ed6bb381f3e2579424a</td>\n      <td>West Point</td>\n      <td>VA</td>\n      <td>King William</td>\n      <td>Rural</td>\n      <td>America/New_York</td>\n      <td>Health promotion specialist</td>\n      <td>Widowed</td>\n      <td>...</td>\n      <td>No</td>\n      <td>No</td>\n      <td>No</td>\n      <td>Yes</td>\n      <td>No</td>\n      <td>No</td>\n      <td>Yes</td>\n      <td>No</td>\n      <td>No</td>\n      <td>CT Scan</td>\n    </tr>\n  </tbody>\n</table>\n<p>5 rows × 27 columns</p>\n</div>"
     },
     "execution_count": 9,
     "metadata": {},
     "output_type": "execute_result"
    }
   ],
   "source": [
    "df_cat = df.select_dtypes(exclude='number')\n",
    "df_cat.head()"
   ]
  },
  {
   "cell_type": "markdown",
   "id": "e653d8a1-665c-447a-af26-9d194875b3c5",
   "metadata": {
    "pycharm": {
     "name": "#%% md\n"
    }
   },
   "source": [
    "#### Describe Readmissions"
   ]
  },
  {
   "cell_type": "code",
   "execution_count": 10,
   "id": "6515fe2e-3892-41fe-bebe-7825aeecd2d4",
   "metadata": {
    "pycharm": {
     "name": "#%%\n"
    }
   },
   "outputs": [
    {
     "data": {
      "text/plain": "       ReAdmis\ncount    10000\nunique       2\ntop         No\nfreq      6331",
      "text/html": "<div>\n<style scoped>\n    .dataframe tbody tr th:only-of-type {\n        vertical-align: middle;\n    }\n\n    .dataframe tbody tr th {\n        vertical-align: top;\n    }\n\n    .dataframe thead th {\n        text-align: right;\n    }\n</style>\n<table border=\"1\" class=\"dataframe\">\n  <thead>\n    <tr style=\"text-align: right;\">\n      <th></th>\n      <th>ReAdmis</th>\n    </tr>\n  </thead>\n  <tbody>\n    <tr>\n      <th>count</th>\n      <td>10000</td>\n    </tr>\n    <tr>\n      <th>unique</th>\n      <td>2</td>\n    </tr>\n    <tr>\n      <th>top</th>\n      <td>No</td>\n    </tr>\n    <tr>\n      <th>freq</th>\n      <td>6331</td>\n    </tr>\n  </tbody>\n</table>\n</div>"
     },
     "execution_count": 10,
     "metadata": {},
     "output_type": "execute_result"
    }
   ],
   "source": [
    "df[['ReAdmis']].describe()"
   ]
  },
  {
   "cell_type": "markdown",
   "id": "deac87a0-839d-49b2-8a62-56c7a7c18e5e",
   "metadata": {
    "pycharm": {
     "name": "#%% md\n"
    }
   },
   "source": [
    "#### Store ReAdmin='Yes' in New Var"
   ]
  },
  {
   "cell_type": "code",
   "execution_count": 11,
   "id": "b7d53069-fca0-4712-9ad9-2692158a91cb",
   "metadata": {
    "pycharm": {
     "name": "#%%\n"
    }
   },
   "outputs": [
    {
     "data": {
      "text/plain": "0       0\n1       0\n2       0\n3       0\n4       0\n       ..\n9995    0\n9996    1\n9997    1\n9998    1\n9999    1\nName: ReAdmis_Yes, Length: 10000, dtype: int64"
     },
     "execution_count": 11,
     "metadata": {},
     "output_type": "execute_result"
    }
   ],
   "source": [
    "df['ReAdmis_Yes'] = df['ReAdmis'].eq('Yes').astype(int)\n",
    "df['ReAdmis_Yes']"
   ]
  },
  {
   "cell_type": "markdown",
   "id": "01e80f4d-aa6c-4895-a2fe-b86cac28c0f9",
   "metadata": {
    "pycharm": {
     "name": "#%% md\n"
    }
   },
   "source": [
    "#### Describe Gender"
   ]
  },
  {
   "cell_type": "code",
   "execution_count": 12,
   "id": "52d5d880-5bc0-4f8f-851e-edcf0acd525a",
   "metadata": {
    "pycharm": {
     "name": "#%%\n"
    }
   },
   "outputs": [
    {
     "data": {
      "text/plain": "Female       5018\nMale         4768\nNonbinary     214\nName: Gender, dtype: int64"
     },
     "execution_count": 12,
     "metadata": {},
     "output_type": "execute_result"
    }
   ],
   "source": [
    "df['Gender'].value_counts()"
   ]
  },
  {
   "cell_type": "code",
   "execution_count": 13,
   "id": "60044dc2-eea3-4a6b-bded-d46ff9db7358",
   "metadata": {
    "pycharm": {
     "name": "#%%\n"
    }
   },
   "outputs": [
    {
     "name": "stdout",
     "output_type": "stream",
     "text": [
      "      Female  Male  Nonbinary\n",
      "0          0     1          0\n",
      "1          1     0          0\n",
      "2          1     0          0\n",
      "3          0     1          0\n",
      "4          1     0          0\n",
      "...      ...   ...        ...\n",
      "9995       0     1          0\n",
      "9996       0     1          0\n",
      "9997       1     0          0\n",
      "9998       0     1          0\n",
      "9999       1     0          0\n",
      "\n",
      "[10000 rows x 3 columns]\n",
      "Female       5018\n",
      "Male         4768\n",
      "Nonbinary     214\n",
      "dtype: int64\n"
     ]
    }
   ],
   "source": [
    "df_gender = pd.get_dummies(df[\"Gender\"])\n",
    "print(df_gender)\n",
    "print(df_gender.sum())"
   ]
  },
  {
   "cell_type": "code",
   "execution_count": 14,
   "id": "f202faa1-25a0-4747-9b48-0a2ad7b47240",
   "metadata": {
    "pycharm": {
     "name": "#%%\n"
    }
   },
   "outputs": [
    {
     "data": {
      "text/plain": "Index(['CaseOrder', 'Customer_id', 'Interaction', 'UID', 'City', 'State',\n       'County', 'Zip', 'Lat', 'Lng', 'Population', 'Area', 'TimeZone', 'Job',\n       'Children', 'Age', 'Income', 'Marital', 'Gender', 'ReAdmis',\n       'VitD_levels', 'Doc_visits', 'Full_meals_eaten', 'vitD_supp',\n       'Soft_drink', 'Initial_admin', 'HighBlood', 'Stroke',\n       'Complication_risk', 'Overweight', 'Arthritis', 'Diabetes',\n       'Hyperlipidemia', 'BackPain', 'Anxiety', 'Allergic_rhinitis',\n       'Reflux_esophagitis', 'Asthma', 'Services', 'Initial_days',\n       'TotalCharge', 'Additional_charges', 'Item1', 'Item2', 'Item3', 'Item4',\n       'Item5', 'Item6', 'Item7', 'Item8', 'ReAdmis_Yes'],\n      dtype='object')"
     },
     "execution_count": 14,
     "metadata": {},
     "output_type": "execute_result"
    }
   ],
   "source": [
    "df.columns"
   ]
  },
  {
   "cell_type": "code",
   "execution_count": 15,
   "id": "534ef0a5-cd65-439e-b701-cca14a08bc3b",
   "metadata": {
    "pycharm": {
     "name": "#%%\n"
    }
   },
   "outputs": [],
   "source": [
    "df_test = df[['Age', 'Gender', 'ReAdmis', 'VitD_levels', 'Doc_visits', 'vitD_supp', 'Initial_admin', \\\n",
    "              'HighBlood', 'Stroke', 'Complication_risk', 'Overweight', 'Arthritis', 'Diabetes', 'Hyperlipidemia', \\\n",
    "              'BackPain', 'Anxiety', 'Allergic_rhinitis', 'Reflux_esophagitis', 'Asthma', 'Services', 'Initial_days', \\\n",
    "              'TotalCharge', 'Additional_charges']]"
   ]
  },
  {
   "cell_type": "code",
   "execution_count": 16,
   "id": "f8274ef6-ef0b-400e-9295-05bcaedd5d3e",
   "metadata": {
    "pycharm": {
     "name": "#%%\n"
    }
   },
   "outputs": [
    {
     "data": {
      "text/plain": "   Age  VitD_levels  Doc_visits  vitD_supp  Initial_days  TotalCharge  \\\n0   53    19.141466           6          0     10.585770  3726.702860   \n1   51    18.940352           4          1     15.129562  4193.190458   \n2   53    18.057507           4          0      4.772177  2434.234222   \n3   78    16.576858           4          0      1.714879  2127.830423   \n4   22    17.439069           5          2      1.254807  2113.073274   \n\n   Additional_charges  Gender_Female  Gender_Male  Gender_Nonbinary  ...  \\\n0        17939.403420              0            1                 0  ...   \n1        17612.998120              1            0                 0  ...   \n2        17505.192460              1            0                 0  ...   \n3        12993.437350              0            1                 0  ...   \n4         3716.525786              1            0                 0  ...   \n\n   Allergic_rhinitis_No  Allergic_rhinitis_Yes  Reflux_esophagitis_No  \\\n0                     0                      1                      1   \n1                     1                      0                      0   \n2                     1                      0                      1   \n3                     1                      0                      0   \n4                     0                      1                      1   \n\n   Reflux_esophagitis_Yes  Asthma_No  Asthma_Yes  Services_Blood Work  \\\n0                       0          0           1                    1   \n1                       1          1           0                    0   \n2                       0          1           0                    1   \n3                       1          0           1                    1   \n4                       0          1           0                    0   \n\n   Services_CT Scan  Services_Intravenous  Services_MRI  \n0                 0                     0             0  \n1                 0                     1             0  \n2                 0                     0             0  \n3                 0                     0             0  \n4                 1                     0             0  \n\n[5 rows x 44 columns]",
      "text/html": "<div>\n<style scoped>\n    .dataframe tbody tr th:only-of-type {\n        vertical-align: middle;\n    }\n\n    .dataframe tbody tr th {\n        vertical-align: top;\n    }\n\n    .dataframe thead th {\n        text-align: right;\n    }\n</style>\n<table border=\"1\" class=\"dataframe\">\n  <thead>\n    <tr style=\"text-align: right;\">\n      <th></th>\n      <th>Age</th>\n      <th>VitD_levels</th>\n      <th>Doc_visits</th>\n      <th>vitD_supp</th>\n      <th>Initial_days</th>\n      <th>TotalCharge</th>\n      <th>Additional_charges</th>\n      <th>Gender_Female</th>\n      <th>Gender_Male</th>\n      <th>Gender_Nonbinary</th>\n      <th>...</th>\n      <th>Allergic_rhinitis_No</th>\n      <th>Allergic_rhinitis_Yes</th>\n      <th>Reflux_esophagitis_No</th>\n      <th>Reflux_esophagitis_Yes</th>\n      <th>Asthma_No</th>\n      <th>Asthma_Yes</th>\n      <th>Services_Blood Work</th>\n      <th>Services_CT Scan</th>\n      <th>Services_Intravenous</th>\n      <th>Services_MRI</th>\n    </tr>\n  </thead>\n  <tbody>\n    <tr>\n      <th>0</th>\n      <td>53</td>\n      <td>19.141466</td>\n      <td>6</td>\n      <td>0</td>\n      <td>10.585770</td>\n      <td>3726.702860</td>\n      <td>17939.403420</td>\n      <td>0</td>\n      <td>1</td>\n      <td>0</td>\n      <td>...</td>\n      <td>0</td>\n      <td>1</td>\n      <td>1</td>\n      <td>0</td>\n      <td>0</td>\n      <td>1</td>\n      <td>1</td>\n      <td>0</td>\n      <td>0</td>\n      <td>0</td>\n    </tr>\n    <tr>\n      <th>1</th>\n      <td>51</td>\n      <td>18.940352</td>\n      <td>4</td>\n      <td>1</td>\n      <td>15.129562</td>\n      <td>4193.190458</td>\n      <td>17612.998120</td>\n      <td>1</td>\n      <td>0</td>\n      <td>0</td>\n      <td>...</td>\n      <td>1</td>\n      <td>0</td>\n      <td>0</td>\n      <td>1</td>\n      <td>1</td>\n      <td>0</td>\n      <td>0</td>\n      <td>0</td>\n      <td>1</td>\n      <td>0</td>\n    </tr>\n    <tr>\n      <th>2</th>\n      <td>53</td>\n      <td>18.057507</td>\n      <td>4</td>\n      <td>0</td>\n      <td>4.772177</td>\n      <td>2434.234222</td>\n      <td>17505.192460</td>\n      <td>1</td>\n      <td>0</td>\n      <td>0</td>\n      <td>...</td>\n      <td>1</td>\n      <td>0</td>\n      <td>1</td>\n      <td>0</td>\n      <td>1</td>\n      <td>0</td>\n      <td>1</td>\n      <td>0</td>\n      <td>0</td>\n      <td>0</td>\n    </tr>\n    <tr>\n      <th>3</th>\n      <td>78</td>\n      <td>16.576858</td>\n      <td>4</td>\n      <td>0</td>\n      <td>1.714879</td>\n      <td>2127.830423</td>\n      <td>12993.437350</td>\n      <td>0</td>\n      <td>1</td>\n      <td>0</td>\n      <td>...</td>\n      <td>1</td>\n      <td>0</td>\n      <td>0</td>\n      <td>1</td>\n      <td>0</td>\n      <td>1</td>\n      <td>1</td>\n      <td>0</td>\n      <td>0</td>\n      <td>0</td>\n    </tr>\n    <tr>\n      <th>4</th>\n      <td>22</td>\n      <td>17.439069</td>\n      <td>5</td>\n      <td>2</td>\n      <td>1.254807</td>\n      <td>2113.073274</td>\n      <td>3716.525786</td>\n      <td>1</td>\n      <td>0</td>\n      <td>0</td>\n      <td>...</td>\n      <td>0</td>\n      <td>1</td>\n      <td>1</td>\n      <td>0</td>\n      <td>1</td>\n      <td>0</td>\n      <td>0</td>\n      <td>1</td>\n      <td>0</td>\n      <td>0</td>\n    </tr>\n  </tbody>\n</table>\n<p>5 rows × 44 columns</p>\n</div>"
     },
     "execution_count": 16,
     "metadata": {},
     "output_type": "execute_result"
    }
   ],
   "source": [
    "df_dummies = pd.get_dummies(df_test)\n",
    "df_dummies.head()"
   ]
  },
  {
   "cell_type": "code",
   "execution_count": 17,
   "id": "db923538-c1c0-44fe-88d8-071bfe266c48",
   "metadata": {
    "pycharm": {
     "name": "#%%\n"
    }
   },
   "outputs": [
    {
     "name": "stdout",
     "output_type": "stream",
     "text": [
      "<class 'pandas.core.frame.DataFrame'>\n",
      "RangeIndex: 10000 entries, 0 to 9999\n",
      "Data columns (total 44 columns):\n",
      " #   Column                               Non-Null Count  Dtype  \n",
      "---  ------                               --------------  -----  \n",
      " 0   Age                                  10000 non-null  int64  \n",
      " 1   VitD_levels                          10000 non-null  float64\n",
      " 2   Doc_visits                           10000 non-null  int64  \n",
      " 3   vitD_supp                            10000 non-null  int64  \n",
      " 4   Initial_days                         10000 non-null  float64\n",
      " 5   TotalCharge                          10000 non-null  float64\n",
      " 6   Additional_charges                   10000 non-null  float64\n",
      " 7   Gender_Female                        10000 non-null  uint8  \n",
      " 8   Gender_Male                          10000 non-null  uint8  \n",
      " 9   Gender_Nonbinary                     10000 non-null  uint8  \n",
      " 10  ReAdmis_No                           10000 non-null  uint8  \n",
      " 11  ReAdmis_Yes                          10000 non-null  uint8  \n",
      " 12  Initial_admin_Elective Admission     10000 non-null  uint8  \n",
      " 13  Initial_admin_Emergency Admission    10000 non-null  uint8  \n",
      " 14  Initial_admin_Observation Admission  10000 non-null  uint8  \n",
      " 15  HighBlood_No                         10000 non-null  uint8  \n",
      " 16  HighBlood_Yes                        10000 non-null  uint8  \n",
      " 17  Stroke_No                            10000 non-null  uint8  \n",
      " 18  Stroke_Yes                           10000 non-null  uint8  \n",
      " 19  Complication_risk_High               10000 non-null  uint8  \n",
      " 20  Complication_risk_Low                10000 non-null  uint8  \n",
      " 21  Complication_risk_Medium             10000 non-null  uint8  \n",
      " 22  Overweight_No                        10000 non-null  uint8  \n",
      " 23  Overweight_Yes                       10000 non-null  uint8  \n",
      " 24  Arthritis_No                         10000 non-null  uint8  \n",
      " 25  Arthritis_Yes                        10000 non-null  uint8  \n",
      " 26  Diabetes_No                          10000 non-null  uint8  \n",
      " 27  Diabetes_Yes                         10000 non-null  uint8  \n",
      " 28  Hyperlipidemia_No                    10000 non-null  uint8  \n",
      " 29  Hyperlipidemia_Yes                   10000 non-null  uint8  \n",
      " 30  BackPain_No                          10000 non-null  uint8  \n",
      " 31  BackPain_Yes                         10000 non-null  uint8  \n",
      " 32  Anxiety_No                           10000 non-null  uint8  \n",
      " 33  Anxiety_Yes                          10000 non-null  uint8  \n",
      " 34  Allergic_rhinitis_No                 10000 non-null  uint8  \n",
      " 35  Allergic_rhinitis_Yes                10000 non-null  uint8  \n",
      " 36  Reflux_esophagitis_No                10000 non-null  uint8  \n",
      " 37  Reflux_esophagitis_Yes               10000 non-null  uint8  \n",
      " 38  Asthma_No                            10000 non-null  uint8  \n",
      " 39  Asthma_Yes                           10000 non-null  uint8  \n",
      " 40  Services_Blood Work                  10000 non-null  uint8  \n",
      " 41  Services_CT Scan                     10000 non-null  uint8  \n",
      " 42  Services_Intravenous                 10000 non-null  uint8  \n",
      " 43  Services_MRI                         10000 non-null  uint8  \n",
      "dtypes: float64(4), int64(3), uint8(37)\n",
      "memory usage: 908.3 KB\n"
     ]
    }
   ],
   "source": [
    "df_dummies.info()"
   ]
  },
  {
   "cell_type": "markdown",
   "id": "1e7f0cb0-6fcc-458f-9af9-31a472b7c63c",
   "metadata": {
    "pycharm": {
     "name": "#%% md\n"
    }
   },
   "source": [
    "#### Describe Columns"
   ]
  },
  {
   "cell_type": "code",
   "execution_count": 18,
   "id": "aa48fc95-2955-49f6-a98a-b399fae2c699",
   "metadata": {
    "pycharm": {
     "name": "#%%\n"
    }
   },
   "outputs": [
    {
     "data": {
      "text/plain": "Index(['Age', 'VitD_levels', 'Doc_visits', 'vitD_supp', 'Initial_days',\n       'TotalCharge', 'Additional_charges', 'Gender_Female', 'Gender_Male',\n       'Gender_Nonbinary', 'ReAdmis_No', 'ReAdmis_Yes',\n       'Initial_admin_Elective Admission', 'Initial_admin_Emergency Admission',\n       'Initial_admin_Observation Admission', 'HighBlood_No', 'HighBlood_Yes',\n       'Stroke_No', 'Stroke_Yes', 'Complication_risk_High',\n       'Complication_risk_Low', 'Complication_risk_Medium', 'Overweight_No',\n       'Overweight_Yes', 'Arthritis_No', 'Arthritis_Yes', 'Diabetes_No',\n       'Diabetes_Yes', 'Hyperlipidemia_No', 'Hyperlipidemia_Yes',\n       'BackPain_No', 'BackPain_Yes', 'Anxiety_No', 'Anxiety_Yes',\n       'Allergic_rhinitis_No', 'Allergic_rhinitis_Yes',\n       'Reflux_esophagitis_No', 'Reflux_esophagitis_Yes', 'Asthma_No',\n       'Asthma_Yes', 'Services_Blood Work', 'Services_CT Scan',\n       'Services_Intravenous', 'Services_MRI'],\n      dtype='object')"
     },
     "execution_count": 18,
     "metadata": {},
     "output_type": "execute_result"
    }
   ],
   "source": [
    "df_dummies.columns"
   ]
  },
  {
   "cell_type": "markdown",
   "id": "47e8d7b9-04cf-46af-b71e-7a84ed1c2f68",
   "metadata": {
    "pycharm": {
     "name": "#%% md\n"
    }
   },
   "source": [
    "### Keep Only Necessary Columns"
   ]
  },
  {
   "cell_type": "code",
   "execution_count": 19,
   "id": "2545c0c9-1759-4068-9e6e-62c1721ca6a5",
   "metadata": {
    "pycharm": {
     "name": "#%%\n"
    }
   },
   "outputs": [
    {
     "data": {
      "text/plain": "Index(['City', 'Age', 'Gender', 'ReAdmis', 'Doc_visits', 'vitD_supp',\n       'Initial_admin', 'HighBlood', 'Stroke', 'Complication_risk',\n       'Overweight', 'Arthritis', 'Diabetes', 'Hyperlipidemia', 'BackPain',\n       'Anxiety', 'Allergic_rhinitis', 'Reflux_esophagitis', 'Asthma',\n       'Services', 'Initial_days', 'TotalCharge', 'Additional_charges',\n       'ReAdmis_Yes'],\n      dtype='object')"
     },
     "execution_count": 19,
     "metadata": {},
     "output_type": "execute_result"
    }
   ],
   "source": [
    "# Start pruning non-relavent series\n",
    "pruned_df = df.drop(['CaseOrder', 'Customer_id', 'Interaction', 'UID', 'State', \\\n",
    "                     'County', 'Zip', 'Lat', 'Lng', 'Population', 'Area', 'TimeZone', 'Job', \\\n",
    "                     'Children', 'Income', 'Marital', 'VitD_levels', 'Full_meals_eaten', \\\n",
    "                     'Soft_drink', 'Item1', 'Item2', 'Item3', 'Item4', 'Item5', 'Item6', 'Item7', 'Item8'], axis=1)\n",
    "pruned_df.columns"
   ]
  },
  {
   "cell_type": "code",
   "execution_count": 20,
   "id": "1c0e6708-6a6a-4ed2-8828-afc1c1820b43",
   "metadata": {
    "pycharm": {
     "name": "#%%\n"
    }
   },
   "outputs": [
    {
     "data": {
      "text/plain": "           City  Age  Gender ReAdmis  Doc_visits  vitD_supp  \\\n0           Eva   53    Male      No           6          0   \n1      Marianna   51  Female      No           4          1   \n2   Sioux Falls   53  Female      No           4          0   \n3  New Richland   78    Male      No           4          0   \n4    West Point   22  Female      No           5          2   \n\n         Initial_admin HighBlood Stroke Complication_risk  ... BackPain  \\\n0  Emergency Admission       Yes     No            Medium  ...      Yes   \n1  Emergency Admission       Yes     No              High  ...       No   \n2   Elective Admission       Yes     No            Medium  ...       No   \n3   Elective Admission        No    Yes            Medium  ...       No   \n4   Elective Admission        No     No               Low  ...       No   \n\n  Anxiety Allergic_rhinitis Reflux_esophagitis Asthma     Services  \\\n0     Yes               Yes                 No    Yes   Blood Work   \n1      No                No                Yes     No  Intravenous   \n2      No                No                 No     No   Blood Work   \n3      No                No                Yes    Yes   Blood Work   \n4      No               Yes                 No     No      CT Scan   \n\n  Initial_days  TotalCharge Additional_charges ReAdmis_Yes  \n0    10.585770  3726.702860       17939.403420           0  \n1    15.129562  4193.190458       17612.998120           0  \n2     4.772177  2434.234222       17505.192460           0  \n3     1.714879  2127.830423       12993.437350           0  \n4     1.254807  2113.073274        3716.525786           0  \n\n[5 rows x 24 columns]",
      "text/html": "<div>\n<style scoped>\n    .dataframe tbody tr th:only-of-type {\n        vertical-align: middle;\n    }\n\n    .dataframe tbody tr th {\n        vertical-align: top;\n    }\n\n    .dataframe thead th {\n        text-align: right;\n    }\n</style>\n<table border=\"1\" class=\"dataframe\">\n  <thead>\n    <tr style=\"text-align: right;\">\n      <th></th>\n      <th>City</th>\n      <th>Age</th>\n      <th>Gender</th>\n      <th>ReAdmis</th>\n      <th>Doc_visits</th>\n      <th>vitD_supp</th>\n      <th>Initial_admin</th>\n      <th>HighBlood</th>\n      <th>Stroke</th>\n      <th>Complication_risk</th>\n      <th>...</th>\n      <th>BackPain</th>\n      <th>Anxiety</th>\n      <th>Allergic_rhinitis</th>\n      <th>Reflux_esophagitis</th>\n      <th>Asthma</th>\n      <th>Services</th>\n      <th>Initial_days</th>\n      <th>TotalCharge</th>\n      <th>Additional_charges</th>\n      <th>ReAdmis_Yes</th>\n    </tr>\n  </thead>\n  <tbody>\n    <tr>\n      <th>0</th>\n      <td>Eva</td>\n      <td>53</td>\n      <td>Male</td>\n      <td>No</td>\n      <td>6</td>\n      <td>0</td>\n      <td>Emergency Admission</td>\n      <td>Yes</td>\n      <td>No</td>\n      <td>Medium</td>\n      <td>...</td>\n      <td>Yes</td>\n      <td>Yes</td>\n      <td>Yes</td>\n      <td>No</td>\n      <td>Yes</td>\n      <td>Blood Work</td>\n      <td>10.585770</td>\n      <td>3726.702860</td>\n      <td>17939.403420</td>\n      <td>0</td>\n    </tr>\n    <tr>\n      <th>1</th>\n      <td>Marianna</td>\n      <td>51</td>\n      <td>Female</td>\n      <td>No</td>\n      <td>4</td>\n      <td>1</td>\n      <td>Emergency Admission</td>\n      <td>Yes</td>\n      <td>No</td>\n      <td>High</td>\n      <td>...</td>\n      <td>No</td>\n      <td>No</td>\n      <td>No</td>\n      <td>Yes</td>\n      <td>No</td>\n      <td>Intravenous</td>\n      <td>15.129562</td>\n      <td>4193.190458</td>\n      <td>17612.998120</td>\n      <td>0</td>\n    </tr>\n    <tr>\n      <th>2</th>\n      <td>Sioux Falls</td>\n      <td>53</td>\n      <td>Female</td>\n      <td>No</td>\n      <td>4</td>\n      <td>0</td>\n      <td>Elective Admission</td>\n      <td>Yes</td>\n      <td>No</td>\n      <td>Medium</td>\n      <td>...</td>\n      <td>No</td>\n      <td>No</td>\n      <td>No</td>\n      <td>No</td>\n      <td>No</td>\n      <td>Blood Work</td>\n      <td>4.772177</td>\n      <td>2434.234222</td>\n      <td>17505.192460</td>\n      <td>0</td>\n    </tr>\n    <tr>\n      <th>3</th>\n      <td>New Richland</td>\n      <td>78</td>\n      <td>Male</td>\n      <td>No</td>\n      <td>4</td>\n      <td>0</td>\n      <td>Elective Admission</td>\n      <td>No</td>\n      <td>Yes</td>\n      <td>Medium</td>\n      <td>...</td>\n      <td>No</td>\n      <td>No</td>\n      <td>No</td>\n      <td>Yes</td>\n      <td>Yes</td>\n      <td>Blood Work</td>\n      <td>1.714879</td>\n      <td>2127.830423</td>\n      <td>12993.437350</td>\n      <td>0</td>\n    </tr>\n    <tr>\n      <th>4</th>\n      <td>West Point</td>\n      <td>22</td>\n      <td>Female</td>\n      <td>No</td>\n      <td>5</td>\n      <td>2</td>\n      <td>Elective Admission</td>\n      <td>No</td>\n      <td>No</td>\n      <td>Low</td>\n      <td>...</td>\n      <td>No</td>\n      <td>No</td>\n      <td>Yes</td>\n      <td>No</td>\n      <td>No</td>\n      <td>CT Scan</td>\n      <td>1.254807</td>\n      <td>2113.073274</td>\n      <td>3716.525786</td>\n      <td>0</td>\n    </tr>\n  </tbody>\n</table>\n<p>5 rows × 24 columns</p>\n</div>"
     },
     "execution_count": 20,
     "metadata": {},
     "output_type": "execute_result"
    }
   ],
   "source": [
    "pruned_df.head()"
   ]
  },
  {
   "cell_type": "code",
   "execution_count": 21,
   "id": "e8f68ff3-b4bf-4bc2-a919-842f1047b0b6",
   "metadata": {
    "pycharm": {
     "name": "#%%\n"
    }
   },
   "outputs": [
    {
     "name": "stdout",
     "output_type": "stream",
     "text": [
      "Age                                    False\n",
      "VitD_levels                            False\n",
      "Doc_visits                             False\n",
      "vitD_supp                              False\n",
      "Initial_days                            True\n",
      "TotalCharge                             True\n",
      "Additional_charges                     False\n",
      "Gender_Female                          False\n",
      "Gender_Male                            False\n",
      "Gender_Nonbinary                       False\n",
      "ReAdmis_No                             False\n",
      "ReAdmis_Yes                             True\n",
      "Initial_admin_Elective Admission       False\n",
      "Initial_admin_Emergency Admission      False\n",
      "Initial_admin_Observation Admission    False\n",
      "HighBlood_No                           False\n",
      "HighBlood_Yes                          False\n",
      "Stroke_No                              False\n",
      "Stroke_Yes                             False\n",
      "Complication_risk_High                 False\n",
      "Complication_risk_Low                  False\n",
      "Complication_risk_Medium               False\n",
      "Overweight_No                          False\n",
      "Overweight_Yes                         False\n",
      "Arthritis_No                           False\n",
      "Arthritis_Yes                          False\n",
      "Diabetes_No                            False\n",
      "Diabetes_Yes                           False\n",
      "Hyperlipidemia_No                      False\n",
      "Hyperlipidemia_Yes                     False\n",
      "BackPain_No                            False\n",
      "BackPain_Yes                           False\n",
      "Anxiety_No                             False\n",
      "Anxiety_Yes                            False\n",
      "Allergic_rhinitis_No                   False\n",
      "Allergic_rhinitis_Yes                  False\n",
      "Reflux_esophagitis_No                  False\n",
      "Reflux_esophagitis_Yes                 False\n",
      "Asthma_No                              False\n",
      "Asthma_Yes                             False\n",
      "Services_Blood Work                    False\n",
      "Services_CT Scan                       False\n",
      "Services_Intravenous                   False\n",
      "Services_MRI                           False\n",
      "Name: ReAdmis_Yes, dtype: bool\n"
     ]
    }
   ],
   "source": [
    "# https://realpython.com/knn-python/\n",
    "# Correlations with target?\n",
    "correlation_matrix = df_dummies.corr()\n",
    "\n",
    "print(correlation_matrix[\"ReAdmis_Yes\"] > 0.51)"
   ]
  },
  {
   "cell_type": "code",
   "execution_count": 22,
   "id": "5f67b844-f522-416f-bbd5-55b984f92c61",
   "metadata": {
    "pycharm": {
     "name": "#%%\n"
    }
   },
   "outputs": [],
   "source": [
    "# Create df for datafields with higher than a 50% binomial distrobution\n",
    "pruned_df = pruned_df[['Initial_days', 'TotalCharge', 'ReAdmis_Yes']]"
   ]
  },
  {
   "cell_type": "code",
   "execution_count": 23,
   "id": "d91db2d2-ea47-435e-b87d-69552aed0cda",
   "metadata": {
    "pycharm": {
     "name": "#%%\n"
    }
   },
   "outputs": [
    {
     "data": {
      "text/plain": "<Figure size 1440x1080 with 4 Axes>",
      "image/png": "[encoded data removed]"
     },
     "metadata": {},
     "output_type": "display_data"
    }
   ],
   "source": [
    "# https://www.datacamp.com/community/tutorials/preprocessing-in-data-science-part-1-centering-scaling-and-knn\n",
    "plt.style.use('ggplot')\n",
    "# df = pd.read_csv('http://archive.ics.uci.edu/ml/machine-learning-databases/wine-quality/winequality-red.csv ' , sep = ';')\n",
    "X = pruned_df.drop('ReAdmis_Yes', axis=1).values # drop target variable\n",
    "y1 = pruned_df['ReAdmis_Yes'].values\n",
    "pd.DataFrame.hist(pruned_df, figsize = [20,15]);"
   ]
  },
  {
   "cell_type": "code",
   "execution_count": 24,
   "id": "370fc7dd-6971-42dd-ab69-0ffc6253917f",
   "metadata": {
    "pycharm": {
     "name": "#%%\n"
    }
   },
   "outputs": [
    {
     "data": {
      "text/plain": "(10000, 3)"
     },
     "execution_count": 24,
     "metadata": {},
     "output_type": "execute_result"
    }
   ],
   "source": [
    "pruned_df.shape"
   ]
  },
  {
   "cell_type": "code",
   "execution_count": 25,
   "id": "6aa59f95-57fe-4520-9704-42c868aa7d5b",
   "metadata": {
    "pycharm": {
     "name": "#%%\n"
    }
   },
   "outputs": [
    {
     "data": {
      "text/plain": "<Figure size 1080x576 with 2 Axes>",
      "image/png": "[encoded data removed]"
     },
     "metadata": {},
     "output_type": "display_data"
    }
   ],
   "source": [
    "# Trying to make sense of numerical values, discover possible correlations\n",
    "# Ref1: https://www.geeksforgeeks.org/how-to-create-a-seaborn-correlation-heatmap-in-python/\n",
    "# Ref2: https://medium.com/@szabo.bibor/how-to-create-a-seaborn-correlation-heatmap-in-python-834c0686b88e\n",
    "sns.set(rc = {'figure.figsize':(15,8)})\n",
    "sns.heatmap(pruned_df.corr(), annot=True);"
   ]
  },
  {
   "cell_type": "markdown",
   "id": "05c9ecae",
   "metadata": {
    "pycharm": {
     "name": "#%% md\n"
    }
   },
   "source": [
    "### PCA Implementation:"
   ]
  },
  {
   "cell_type": "code",
   "execution_count": 26,
   "id": "4a19afde",
   "metadata": {
    "pycharm": {
     "name": "#%%\n"
    }
   },
   "outputs": [
    {
     "data": {
      "text/plain": "   Initial_days  TotalCharge  ReAdmis_Yes\n0      0.011916     0.999929     0.000186\n1     -0.999843     0.011918    -0.013145\n2      0.013146     0.000030    -0.999914",
      "text/html": "<div>\n<style scoped>\n    .dataframe tbody tr th:only-of-type {\n        vertical-align: middle;\n    }\n\n    .dataframe tbody tr th {\n        vertical-align: top;\n    }\n\n    .dataframe thead th {\n        text-align: right;\n    }\n</style>\n<table border=\"1\" class=\"dataframe\">\n  <thead>\n    <tr style=\"text-align: right;\">\n      <th></th>\n      <th>Initial_days</th>\n      <th>TotalCharge</th>\n      <th>ReAdmis_Yes</th>\n    </tr>\n  </thead>\n  <tbody>\n    <tr>\n      <th>0</th>\n      <td>0.011916</td>\n      <td>0.999929</td>\n      <td>0.000186</td>\n    </tr>\n    <tr>\n      <th>1</th>\n      <td>-0.999843</td>\n      <td>0.011918</td>\n      <td>-0.013145</td>\n    </tr>\n    <tr>\n      <th>2</th>\n      <td>0.013146</td>\n      <td>0.000030</td>\n      <td>-0.999914</td>\n    </tr>\n  </tbody>\n</table>\n</div>"
     },
     "execution_count": 26,
     "metadata": {},
     "output_type": "execute_result"
    }
   ],
   "source": [
    "pcs = PCA(n_components=3)\n",
    "pcs.fit(pruned_df)\n",
    "loadings = pd.DataFrame(pcs.components_, columns=pruned_df.columns) #, index=['PC1', 'PC2', 'PC3'])\n",
    "loadings"
   ]
  },
  {
   "cell_type": "code",
   "execution_count": 27,
   "id": "9abffa5a",
   "metadata": {
    "pycharm": {
     "name": "#%%\n"
    }
   },
   "outputs": [
    {
     "name": "stderr",
     "output_type": "stream",
     "text": [
      "*c* argument looks like a single numeric RGB or RGBA sequence, which should be avoided as value-mapping will have precedence in case its length matches with *x* & *y*.  Please use the *color* keyword-argument or provide a 2D array with a single row if you intend to specify the same RGB or RGBA value for all points.\n"
     ]
    },
    {
     "data": {
      "text/plain": "''"
     },
     "execution_count": 27,
     "metadata": {},
     "output_type": "execute_result"
    },
    {
     "data": {
      "text/plain": "<Figure size 720x720 with 1 Axes>",
      "image/png": "[encoded data removed]"
     },
     "metadata": {},
     "output_type": "display_data"
    }
   ],
   "source": [
    "def abline(slope, intercept, ax):\n",
    "    \"\"\"Calculate coordinates of a line based on slope and intercept\"\"\"\n",
    "    x_vals = np.array(ax.get_xlim())\n",
    "    return (x_vals, intercept + slope * x_vals)\n",
    "\n",
    "ax = pruned_df.plot.scatter(x='Initial_days', y='TotalCharge', alpha=0.3, figsize=(10, 10))\n",
    "ax.set_xlim(-3, 3)\n",
    "ax.set_ylim(-3, 3)\n",
    "ax.plot(*abline(loadings.loc[0, 'TotalCharge'] / loadings.loc[0, 'Initial_days'], 0, ax),\n",
    "        '--', color='C1')\n",
    "ax.plot(*abline(loadings.loc[1, 'TotalCharge'] / loadings.loc[1, 'Initial_days'], 0, ax),\n",
    "        '--', color='C1')\n",
    "\n",
    ";"
   ]
  },
  {
   "cell_type": "code",
   "execution_count": 28,
   "id": "7710fc8d",
   "metadata": {
    "pycharm": {
     "name": "#%%\n"
    }
   },
   "outputs": [
    {
     "data": {
      "text/plain": "Text(0.5, 0, 'Component')"
     },
     "execution_count": 28,
     "metadata": {},
     "output_type": "execute_result"
    },
    {
     "data": {
      "text/plain": "<Figure size 288x288 with 1 Axes>",
      "image/png": "[encoded data removed]"
     },
     "metadata": {},
     "output_type": "display_data"
    }
   ],
   "source": [
    "syms = sorted(pruned_df.columns)\n",
    "top_sp = pruned_df.loc[pruned_df.index, syms]\n",
    "\n",
    "sp_pca = PCA()\n",
    "sp_pca.fit(top_sp)\n",
    "\n",
    "explained_variance = pd.DataFrame(sp_pca.explained_variance_)\n",
    "ax = explained_variance.head(10).plot.bar(legend=False, figsize=(4, 4))\n",
    "ax.set_xlabel('Component')"
   ]
  },
  {
   "cell_type": "code",
   "execution_count": 29,
   "id": "d7518c55",
   "metadata": {
    "pycharm": {
     "name": "#%%\n"
    }
   },
   "outputs": [
    {
     "name": "stderr",
     "output_type": "stream",
     "text": [
      "/Users/jasonewillis/opt/anaconda3/lib/python3.9/site-packages/numpy/core/fromnumeric.py:84: FutureWarning: In a future version, DataFrame.max(axis=None) will return a scalar max over the entire DataFrame. To retain the old behavior, use 'frame.max(axis=0)' or just 'frame.max()'\n",
      "  return reduction(axis=axis, out=out, **passkwargs)\n"
     ]
    },
    {
     "ename": "KeyError",
     "evalue": "3",
     "output_type": "error",
     "traceback": [
      "\u001B[0;31m---------------------------------------------------------------------------\u001B[0m",
      "\u001B[0;31mValueError\u001B[0m                                Traceback (most recent call last)",
      "File \u001B[0;32m~/opt/anaconda3/lib/python3.9/site-packages/pandas/core/indexes/range.py:385\u001B[0m, in \u001B[0;36mRangeIndex.get_loc\u001B[0;34m(self, key, method, tolerance)\u001B[0m\n\u001B[1;32m    384\u001B[0m \u001B[38;5;28;01mtry\u001B[39;00m:\n\u001B[0;32m--> 385\u001B[0m     \u001B[38;5;28;01mreturn\u001B[39;00m \u001B[38;5;28;43mself\u001B[39;49m\u001B[38;5;241;43m.\u001B[39;49m\u001B[43m_range\u001B[49m\u001B[38;5;241;43m.\u001B[39;49m\u001B[43mindex\u001B[49m\u001B[43m(\u001B[49m\u001B[43mnew_key\u001B[49m\u001B[43m)\u001B[49m\n\u001B[1;32m    386\u001B[0m \u001B[38;5;28;01mexcept\u001B[39;00m \u001B[38;5;167;01mValueError\u001B[39;00m \u001B[38;5;28;01mas\u001B[39;00m err:\n",
      "\u001B[0;31mValueError\u001B[0m: 3 is not in range",
      "\nThe above exception was the direct cause of the following exception:\n",
      "\u001B[0;31mKeyError\u001B[0m                                  Traceback (most recent call last)",
      "Input \u001B[0;32mIn [29]\u001B[0m, in \u001B[0;36m<cell line: 5>\u001B[0;34m()\u001B[0m\n\u001B[1;32m      4\u001B[0m f, axes \u001B[38;5;241m=\u001B[39m plt\u001B[38;5;241m.\u001B[39msubplots(\u001B[38;5;241m5\u001B[39m, \u001B[38;5;241m1\u001B[39m, figsize\u001B[38;5;241m=\u001B[39m(\u001B[38;5;241m5\u001B[39m, \u001B[38;5;241m5\u001B[39m), sharex\u001B[38;5;241m=\u001B[39m\u001B[38;5;28;01mTrue\u001B[39;00m)\n\u001B[1;32m      5\u001B[0m \u001B[38;5;28;01mfor\u001B[39;00m i, ax \u001B[38;5;129;01min\u001B[39;00m \u001B[38;5;28menumerate\u001B[39m(axes):\n\u001B[0;32m----> 6\u001B[0m     pc_loadings \u001B[38;5;241m=\u001B[39m \u001B[43mloadings\u001B[49m\u001B[38;5;241;43m.\u001B[39;49m\u001B[43mloc\u001B[49m\u001B[43m[\u001B[49m\u001B[43mi\u001B[49m\u001B[43m,\u001B[49m\u001B[43m \u001B[49m\u001B[43m:\u001B[49m\u001B[43m]\u001B[49m\n\u001B[1;32m      7\u001B[0m     colors \u001B[38;5;241m=\u001B[39m [\u001B[38;5;124m'\u001B[39m\u001B[38;5;124mC0\u001B[39m\u001B[38;5;124m'\u001B[39m \u001B[38;5;28;01mif\u001B[39;00m l \u001B[38;5;241m>\u001B[39m \u001B[38;5;241m0\u001B[39m \u001B[38;5;28;01melse\u001B[39;00m \u001B[38;5;124m'\u001B[39m\u001B[38;5;124mC1\u001B[39m\u001B[38;5;124m'\u001B[39m \u001B[38;5;28;01mfor\u001B[39;00m l \u001B[38;5;129;01min\u001B[39;00m pc_loadings]\n\u001B[1;32m      8\u001B[0m     ax\u001B[38;5;241m.\u001B[39maxhline(color\u001B[38;5;241m=\u001B[39m\u001B[38;5;124m'\u001B[39m\u001B[38;5;124m#888888\u001B[39m\u001B[38;5;124m'\u001B[39m)\n",
      "File \u001B[0;32m~/opt/anaconda3/lib/python3.9/site-packages/pandas/core/indexing.py:961\u001B[0m, in \u001B[0;36m_LocationIndexer.__getitem__\u001B[0;34m(self, key)\u001B[0m\n\u001B[1;32m    959\u001B[0m     \u001B[38;5;28;01mif\u001B[39;00m \u001B[38;5;28mself\u001B[39m\u001B[38;5;241m.\u001B[39m_is_scalar_access(key):\n\u001B[1;32m    960\u001B[0m         \u001B[38;5;28;01mreturn\u001B[39;00m \u001B[38;5;28mself\u001B[39m\u001B[38;5;241m.\u001B[39mobj\u001B[38;5;241m.\u001B[39m_get_value(\u001B[38;5;241m*\u001B[39mkey, takeable\u001B[38;5;241m=\u001B[39m\u001B[38;5;28mself\u001B[39m\u001B[38;5;241m.\u001B[39m_takeable)\n\u001B[0;32m--> 961\u001B[0m     \u001B[38;5;28;01mreturn\u001B[39;00m \u001B[38;5;28;43mself\u001B[39;49m\u001B[38;5;241;43m.\u001B[39;49m\u001B[43m_getitem_tuple\u001B[49m\u001B[43m(\u001B[49m\u001B[43mkey\u001B[49m\u001B[43m)\u001B[49m\n\u001B[1;32m    962\u001B[0m \u001B[38;5;28;01melse\u001B[39;00m:\n\u001B[1;32m    963\u001B[0m     \u001B[38;5;66;03m# we by definition only have the 0th axis\u001B[39;00m\n\u001B[1;32m    964\u001B[0m     axis \u001B[38;5;241m=\u001B[39m \u001B[38;5;28mself\u001B[39m\u001B[38;5;241m.\u001B[39maxis \u001B[38;5;129;01mor\u001B[39;00m \u001B[38;5;241m0\u001B[39m\n",
      "File \u001B[0;32m~/opt/anaconda3/lib/python3.9/site-packages/pandas/core/indexing.py:1140\u001B[0m, in \u001B[0;36m_LocIndexer._getitem_tuple\u001B[0;34m(self, tup)\u001B[0m\n\u001B[1;32m   1138\u001B[0m \u001B[38;5;28;01mwith\u001B[39;00m suppress(IndexingError):\n\u001B[1;32m   1139\u001B[0m     tup \u001B[38;5;241m=\u001B[39m \u001B[38;5;28mself\u001B[39m\u001B[38;5;241m.\u001B[39m_expand_ellipsis(tup)\n\u001B[0;32m-> 1140\u001B[0m     \u001B[38;5;28;01mreturn\u001B[39;00m \u001B[38;5;28;43mself\u001B[39;49m\u001B[38;5;241;43m.\u001B[39;49m\u001B[43m_getitem_lowerdim\u001B[49m\u001B[43m(\u001B[49m\u001B[43mtup\u001B[49m\u001B[43m)\u001B[49m\n\u001B[1;32m   1142\u001B[0m \u001B[38;5;66;03m# no multi-index, so validate all of the indexers\u001B[39;00m\n\u001B[1;32m   1143\u001B[0m tup \u001B[38;5;241m=\u001B[39m \u001B[38;5;28mself\u001B[39m\u001B[38;5;241m.\u001B[39m_validate_tuple_indexer(tup)\n",
      "File \u001B[0;32m~/opt/anaconda3/lib/python3.9/site-packages/pandas/core/indexing.py:867\u001B[0m, in \u001B[0;36m_LocationIndexer._getitem_lowerdim\u001B[0;34m(self, tup)\u001B[0m\n\u001B[1;32m    863\u001B[0m \u001B[38;5;28;01mfor\u001B[39;00m i, key \u001B[38;5;129;01min\u001B[39;00m \u001B[38;5;28menumerate\u001B[39m(tup):\n\u001B[1;32m    864\u001B[0m     \u001B[38;5;28;01mif\u001B[39;00m is_label_like(key):\n\u001B[1;32m    865\u001B[0m         \u001B[38;5;66;03m# We don't need to check for tuples here because those are\u001B[39;00m\n\u001B[1;32m    866\u001B[0m         \u001B[38;5;66;03m#  caught by the _is_nested_tuple_indexer check above.\u001B[39;00m\n\u001B[0;32m--> 867\u001B[0m         section \u001B[38;5;241m=\u001B[39m \u001B[38;5;28;43mself\u001B[39;49m\u001B[38;5;241;43m.\u001B[39;49m\u001B[43m_getitem_axis\u001B[49m\u001B[43m(\u001B[49m\u001B[43mkey\u001B[49m\u001B[43m,\u001B[49m\u001B[43m \u001B[49m\u001B[43maxis\u001B[49m\u001B[38;5;241;43m=\u001B[39;49m\u001B[43mi\u001B[49m\u001B[43m)\u001B[49m\n\u001B[1;32m    869\u001B[0m         \u001B[38;5;66;03m# We should never have a scalar section here, because\u001B[39;00m\n\u001B[1;32m    870\u001B[0m         \u001B[38;5;66;03m#  _getitem_lowerdim is only called after a check for\u001B[39;00m\n\u001B[1;32m    871\u001B[0m         \u001B[38;5;66;03m#  is_scalar_access, which that would be.\u001B[39;00m\n\u001B[1;32m    872\u001B[0m         \u001B[38;5;28;01mif\u001B[39;00m section\u001B[38;5;241m.\u001B[39mndim \u001B[38;5;241m==\u001B[39m \u001B[38;5;28mself\u001B[39m\u001B[38;5;241m.\u001B[39mndim:\n\u001B[1;32m    873\u001B[0m             \u001B[38;5;66;03m# we're in the middle of slicing through a MultiIndex\u001B[39;00m\n\u001B[1;32m    874\u001B[0m             \u001B[38;5;66;03m# revise the key wrt to `section` by inserting an _NS\u001B[39;00m\n",
      "File \u001B[0;32m~/opt/anaconda3/lib/python3.9/site-packages/pandas/core/indexing.py:1202\u001B[0m, in \u001B[0;36m_LocIndexer._getitem_axis\u001B[0;34m(self, key, axis)\u001B[0m\n\u001B[1;32m   1200\u001B[0m \u001B[38;5;66;03m# fall thru to straight lookup\u001B[39;00m\n\u001B[1;32m   1201\u001B[0m \u001B[38;5;28mself\u001B[39m\u001B[38;5;241m.\u001B[39m_validate_key(key, axis)\n\u001B[0;32m-> 1202\u001B[0m \u001B[38;5;28;01mreturn\u001B[39;00m \u001B[38;5;28;43mself\u001B[39;49m\u001B[38;5;241;43m.\u001B[39;49m\u001B[43m_get_label\u001B[49m\u001B[43m(\u001B[49m\u001B[43mkey\u001B[49m\u001B[43m,\u001B[49m\u001B[43m \u001B[49m\u001B[43maxis\u001B[49m\u001B[38;5;241;43m=\u001B[39;49m\u001B[43maxis\u001B[49m\u001B[43m)\u001B[49m\n",
      "File \u001B[0;32m~/opt/anaconda3/lib/python3.9/site-packages/pandas/core/indexing.py:1153\u001B[0m, in \u001B[0;36m_LocIndexer._get_label\u001B[0;34m(self, label, axis)\u001B[0m\n\u001B[1;32m   1151\u001B[0m \u001B[38;5;28;01mdef\u001B[39;00m \u001B[38;5;21m_get_label\u001B[39m(\u001B[38;5;28mself\u001B[39m, label, axis: \u001B[38;5;28mint\u001B[39m):\n\u001B[1;32m   1152\u001B[0m     \u001B[38;5;66;03m# GH#5667 this will fail if the label is not present in the axis.\u001B[39;00m\n\u001B[0;32m-> 1153\u001B[0m     \u001B[38;5;28;01mreturn\u001B[39;00m \u001B[38;5;28;43mself\u001B[39;49m\u001B[38;5;241;43m.\u001B[39;49m\u001B[43mobj\u001B[49m\u001B[38;5;241;43m.\u001B[39;49m\u001B[43mxs\u001B[49m\u001B[43m(\u001B[49m\u001B[43mlabel\u001B[49m\u001B[43m,\u001B[49m\u001B[43m \u001B[49m\u001B[43maxis\u001B[49m\u001B[38;5;241;43m=\u001B[39;49m\u001B[43maxis\u001B[49m\u001B[43m)\u001B[49m\n",
      "File \u001B[0;32m~/opt/anaconda3/lib/python3.9/site-packages/pandas/core/generic.py:3864\u001B[0m, in \u001B[0;36mNDFrame.xs\u001B[0;34m(self, key, axis, level, drop_level)\u001B[0m\n\u001B[1;32m   3862\u001B[0m             new_index \u001B[38;5;241m=\u001B[39m index[loc]\n\u001B[1;32m   3863\u001B[0m \u001B[38;5;28;01melse\u001B[39;00m:\n\u001B[0;32m-> 3864\u001B[0m     loc \u001B[38;5;241m=\u001B[39m \u001B[43mindex\u001B[49m\u001B[38;5;241;43m.\u001B[39;49m\u001B[43mget_loc\u001B[49m\u001B[43m(\u001B[49m\u001B[43mkey\u001B[49m\u001B[43m)\u001B[49m\n\u001B[1;32m   3866\u001B[0m     \u001B[38;5;28;01mif\u001B[39;00m \u001B[38;5;28misinstance\u001B[39m(loc, np\u001B[38;5;241m.\u001B[39mndarray):\n\u001B[1;32m   3867\u001B[0m         \u001B[38;5;28;01mif\u001B[39;00m loc\u001B[38;5;241m.\u001B[39mdtype \u001B[38;5;241m==\u001B[39m np\u001B[38;5;241m.\u001B[39mbool_:\n",
      "File \u001B[0;32m~/opt/anaconda3/lib/python3.9/site-packages/pandas/core/indexes/range.py:387\u001B[0m, in \u001B[0;36mRangeIndex.get_loc\u001B[0;34m(self, key, method, tolerance)\u001B[0m\n\u001B[1;32m    385\u001B[0m         \u001B[38;5;28;01mreturn\u001B[39;00m \u001B[38;5;28mself\u001B[39m\u001B[38;5;241m.\u001B[39m_range\u001B[38;5;241m.\u001B[39mindex(new_key)\n\u001B[1;32m    386\u001B[0m     \u001B[38;5;28;01mexcept\u001B[39;00m \u001B[38;5;167;01mValueError\u001B[39;00m \u001B[38;5;28;01mas\u001B[39;00m err:\n\u001B[0;32m--> 387\u001B[0m         \u001B[38;5;28;01mraise\u001B[39;00m \u001B[38;5;167;01mKeyError\u001B[39;00m(key) \u001B[38;5;28;01mfrom\u001B[39;00m \u001B[38;5;21;01merr\u001B[39;00m\n\u001B[1;32m    388\u001B[0m \u001B[38;5;28mself\u001B[39m\u001B[38;5;241m.\u001B[39m_check_indexing_error(key)\n\u001B[1;32m    389\u001B[0m \u001B[38;5;28;01mraise\u001B[39;00m \u001B[38;5;167;01mKeyError\u001B[39;00m(key)\n",
      "\u001B[0;31mKeyError\u001B[0m: 3"
     ]
    },
    {
     "data": {
      "text/plain": "<Figure size 360x360 with 5 Axes>",
      "image/png": "[encoded data removed]"
     },
     "metadata": {},
     "output_type": "display_data"
    }
   ],
   "source": [
    "loadings = pd.DataFrame(sp_pca.components_[0:5, :], columns=top_sp.columns)\n",
    "maxPC = 1.01 * np.max(np.max(np.abs(loadings.loc[0:5, :])))\n",
    "\n",
    "f, axes = plt.subplots(5, 1, figsize=(5, 5), sharex=True)\n",
    "for i, ax in enumerate(axes):\n",
    "    pc_loadings = loadings.loc[i, :]\n",
    "    colors = ['C0' if l > 0 else 'C1' for l in pc_loadings]\n",
    "    ax.axhline(color='#888888')\n",
    "    pc_loadings.plot.bar(ax=ax, color=colors)\n",
    "    ax.set_ylabel(f'PC{i+1}')\n",
    "    ax.set_ylim(-maxPC, maxPC)"
   ]
  },
  {
   "cell_type": "code",
   "execution_count": null,
   "id": "dd389f5c",
   "metadata": {
    "pycharm": {
     "name": "#%%\n"
    }
   },
   "outputs": [],
   "source": [
    "# Correspondance analysis using Prince: https://learning.oreilly.com/library/view/practical-statistics-for/9781492072935/ch07.html#idm45782022871240\n",
    "# https://pythonlang.dev/repo/maxhalford-prince/\n",
    "\n",
    "import prince\n",
    "from prince import PCA\n",
    "ca = prince.CA(n_components=2)\n",
    "ca = ca.fit(pruned_df)\n",
    "\n",
    "ca.plot_coordinates(pruned_df, figsize=(6, 6))"
   ]
  },
  {
   "cell_type": "markdown",
   "id": "7ef45cc8-f2ba-458a-934f-556849fbd775",
   "metadata": {
    "pycharm": {
     "name": "#%% md\n"
    }
   },
   "source": [
    "### K-Means Clustering"
   ]
  },
  {
   "cell_type": "code",
   "execution_count": null,
   "id": "8e274ed3",
   "metadata": {
    "pycharm": {
     "name": "#%%\n"
    }
   },
   "outputs": [],
   "source": [
    "df_cluster = pruned_df.copy()\n",
    "\n",
    "df_cluster['cluster'] = kmeans.labels_\n",
    "df_cluster.head()"
   ]
  },
  {
   "cell_type": "code",
   "execution_count": null,
   "id": "37f11093",
   "metadata": {
    "pycharm": {
     "name": "#%%\n"
    }
   },
   "outputs": [],
   "source": [
    "centers = pd.DataFrame(kmeans.cluster_centers_, columns=['TotalCharge', 'Initial_days'])\n",
    "centers"
   ]
  },
  {
   "cell_type": "code",
   "execution_count": null,
   "id": "0eb314c3",
   "metadata": {
    "pycharm": {
     "name": "#%%\n"
    }
   },
   "outputs": [],
   "source": [
    "fig, ax = plt.subplots(figsize=(4, 4))\n",
    "ax = sns.scatterplot(x='TotalCharge', y='Initial_days', hue='cluster', style='cluster',\n",
    "                     ax=ax, data=pruned_df)\n",
    "ax.set_xlim(-3, 3)\n",
    "ax.set_ylim(-3, 3)\n",
    "centers.plot.scatter(x='Initial_days', y='Initial_days', ax=ax, s=50, color='black')"
   ]
  },
  {
   "cell_type": "code",
   "execution_count": null,
   "id": "9126af3c",
   "metadata": {
    "pycharm": {
     "name": "#%%\n"
    }
   },
   "outputs": [],
   "source": []
  },
  {
   "cell_type": "code",
   "execution_count": null,
   "id": "9b373791-e5c2-4003-afae-b1f23566c5c6",
   "metadata": {
    "pycharm": {
     "name": "#%%\n"
    }
   },
   "outputs": [],
   "source": [
    "# Create training and testing data\n",
    "# https://scikit-learn.org/stable/modules/generated/sklearn.model_selection.train_test_split.html\n",
    "\n",
    "train, test = train_test_split(pruned_df, test_size=0.33, random_state=42)"
   ]
  },
  {
   "cell_type": "code",
   "execution_count": null,
   "id": "c0acb124-dfaf-4627-a43a-5cffdbcf1441",
   "metadata": {
    "pycharm": {
     "name": "#%%\n"
    }
   },
   "outputs": [],
   "source": [
    "print(\"***** Train_Set *****\")\n",
    "print(train.head())\n",
    "print(\"\\n\")\n",
    "print(\"***** Test_Set *****\")\n",
    "print(test.head())"
   ]
  },
  {
   "cell_type": "markdown",
   "id": "2a74b426-1d4f-4ff8-ba66-6307ee902e24",
   "metadata": {
    "pycharm": {
     "name": "#%% md\n"
    }
   },
   "source": [
    "### Describe Data Sets:"
   ]
  },
  {
   "cell_type": "code",
   "execution_count": null,
   "id": "cf55046e-59eb-45fa-a726-1e03826d3feb",
   "metadata": {
    "pycharm": {
     "name": "#%%\n"
    }
   },
   "outputs": [],
   "source": [
    "print(\"***** Train_Set *****\")\n",
    "print(train.describe())\n",
    "print(\"\\n\")\n",
    "print(\"***** Test_Set *****\")\n",
    "print(test.describe())"
   ]
  },
  {
   "cell_type": "code",
   "execution_count": null,
   "id": "cf0a1ac7-d831-40e5-a607-60fef478837f",
   "metadata": {
    "pycharm": {
     "name": "#%%\n"
    }
   },
   "outputs": [],
   "source": [
    "print(train.columns.values)"
   ]
  },
  {
   "cell_type": "markdown",
   "id": "da282526-bb8f-4b56-bc73-ed093a965f62",
   "metadata": {
    "pycharm": {
     "name": "#%% md\n"
    }
   },
   "source": [
    "### Verify No Missing Values:"
   ]
  },
  {
   "cell_type": "code",
   "execution_count": null,
   "id": "515796bf-26e6-47a6-861b-6ac3786c7004",
   "metadata": {
    "pycharm": {
     "name": "#%%\n"
    }
   },
   "outputs": [],
   "source": [
    "print(\"*****In the Train Set*****\")\n",
    "print(train.isna().sum())\n",
    "print(\"\\n\")\n",
    "print(\"*****In the Test Set*****\")\n",
    "print(test.isna().sum())"
   ]
  },
  {
   "cell_type": "code",
   "execution_count": null,
   "id": "af61ef1c-5a53-47c7-8740-e11460677815",
   "metadata": {
    "tags": [],
    "pycharm": {
     "name": "#%%\n"
    }
   },
   "outputs": [],
   "source": [
    "# Average of the train set grouped by ReAdmis_Yes\n",
    "train[['ReAdmis_Yes', 'Initial_days', 'TotalCharge']].groupby(['ReAdmis_Yes'], as_index=False).mean().sort_values(by='ReAdmis_Yes', ascending=False)"
   ]
  },
  {
   "cell_type": "code",
   "execution_count": null,
   "id": "64b3a58c",
   "metadata": {
    "pycharm": {
     "name": "#%%\n"
    }
   },
   "outputs": [],
   "source": [
    "#df['A'].round(1).value_counts()\n",
    "\n",
    "#train['Initial_days'] = train['Initial_days'].round(1).value_counts()\n",
    "\n",
    "train[['ReAdmis_Yes', 'Initial_days', 'TotalCharge']].groupby(['Initial_days'], as_index=False).mean().sort_values(by='Initial_days', ascending=False)\n"
   ]
  },
  {
   "cell_type": "code",
   "execution_count": null,
   "id": "f75b8755",
   "metadata": {
    "pycharm": {
     "name": "#%%\n"
    }
   },
   "outputs": [],
   "source": [
    "train[['ReAdmis_Yes', 'Initial_days', 'TotalCharge']].groupby(['TotalCharge'], as_index=False).mean().sort_values(by='TotalCharge', ascending=False)\n"
   ]
  },
  {
   "cell_type": "code",
   "execution_count": null,
   "id": "416a8fcd-0111-4569-a921-bbf74d6bd391",
   "metadata": {
    "pycharm": {
     "name": "#%%\n"
    }
   },
   "outputs": [],
   "source": [
    "train[['ReAdmis_Yes', 'Initial_days', 'TotalCharge']].groupby(['ReAdmis_Yes'], as_index=False).mean().sort_values(by='ReAdmis_Yes', ascending=False)\n",
    "\n",
    "g = sns.FacetGrid(train, col='ReAdmis_Yes')\n",
    "g.map(plt.hist, 'Initial_days', bins=20);"
   ]
  },
  {
   "cell_type": "code",
   "execution_count": null,
   "id": "ce74a79e-2fb1-4de9-bc4e-c1b66629b8f4",
   "metadata": {
    "tags": [],
    "pycharm": {
     "name": "#%%\n"
    }
   },
   "outputs": [],
   "source": [
    "# Takes too long, never completes\n",
    "#grid = sns.FacetGrid(train, col='ReAdmis_Yes', row='Initial_days', height=2.2, aspect=1.6)\n",
    "#grid.map(plt.hist, 'Initial_days', alpha=.5, bins=5)\n",
    "#grid.add_legend();"
   ]
  },
  {
   "cell_type": "code",
   "execution_count": null,
   "id": "defead1c-50ee-437d-911d-e6cd75cf2aeb",
   "metadata": {
    "pycharm": {
     "name": "#%%\n"
    }
   },
   "outputs": [],
   "source": [
    "train.info()"
   ]
  },
  {
   "cell_type": "code",
   "execution_count": null,
   "id": "7bb75662",
   "metadata": {
    "pycharm": {
     "name": "#%%\n"
    }
   },
   "outputs": [],
   "source": [
    "test.info()"
   ]
  },
  {
   "cell_type": "code",
   "execution_count": null,
   "id": "24145016",
   "metadata": {
    "pycharm": {
     "name": "#%%\n"
    }
   },
   "outputs": [],
   "source": [
    "X = train.drop('ReAdmis_Yes', axis=1).values # drop target variable\n",
    "\n",
    "y = train['ReAdmis_Yes'].values "
   ]
  },
  {
   "cell_type": "code",
   "execution_count": null,
   "id": "7e555e05",
   "metadata": {
    "pycharm": {
     "name": "#%%\n"
    }
   },
   "outputs": [],
   "source": [
    "train.info()"
   ]
  },
  {
   "cell_type": "code",
   "execution_count": null,
   "id": "790c96dd-3588-4205-bd85-9d7a1bdecf54",
   "metadata": {
    "pycharm": {
     "name": "#%%\n"
    }
   },
   "outputs": [],
   "source": [
    "#kmeans = KMeans(n_clusters=2, random_state=0).fit(train)\n",
    "kmeans = KMeans(n_clusters=2)\n",
    "kmeans.fit(X)"
   ]
  },
  {
   "cell_type": "code",
   "execution_count": null,
   "id": "a04219fe",
   "metadata": {
    "pycharm": {
     "name": "#%%\n"
    }
   },
   "outputs": [],
   "source": [
    "# https://www.datacamp.com/tutorial/k-means-clustering-python\n",
    "#https://stackoverflow.com/questions/70261095/sklearn-cluster-kmeans-got-typeerror-init-got-an-unexpected-keyword-argu\n",
    "KMeans(algorithm='auto', copy_x=True, init='k-means++', max_iter=300,\n",
    "    n_clusters=2, n_init=10, #precompute_distances='auto',\n",
    "    random_state=None, tol=0.0001, verbose=0)"
   ]
  },
  {
   "cell_type": "code",
   "execution_count": null,
   "id": "eb1ebb74-82ed-4838-a15e-4ea653095ffa",
   "metadata": {
    "pycharm": {
     "name": "#%%\n"
    }
   },
   "outputs": [],
   "source": [
    "### Not Working...\n",
    "# \n",
    "# # correct = 0\n",
    "# for i in range(len(train)):\n",
    "#     predict_me = np.array(train[i].astype(float))\n",
    "#     predict_me = predict_me.reshape(-1, len(predict_me))\n",
    "#     prediction = kmeans.predict(predict_me)\n",
    "#     if prediction[0] == y[i]:\n",
    "#         correct += 1\n",
    "\n",
    "# print(correct/len(train))\n"
   ]
  },
  {
   "cell_type": "code",
   "execution_count": null,
   "id": "e726dd47-bcd7-40bb-8492-534809f1e478",
   "metadata": {
    "pycharm": {
     "name": "#%%\n"
    }
   },
   "outputs": [],
   "source": [
    "#KMeans(algorithm='auto', copy_x=True, init='k-means++', max_iter=300,\n",
    " #   n_clusters=2, n_init=10, n_jobs=1, precompute_distances='auto',\n",
    "  #  random_state=None, tol=0.0001, verbose=0)"
   ]
  },
  {
   "cell_type": "code",
   "execution_count": null,
   "id": "43824e23-d346-4ac0-9c5a-d7daaad52898",
   "metadata": {
    "pycharm": {
     "name": "#%%\n"
    }
   },
   "outputs": [],
   "source": []
  }
 ],
 "metadata": {
  "kernelspec": {
   "display_name": "Python 3.9.12 ('base')",
   "language": "python",
   "name": "python3"
  },
  "language_info": {
   "codemirror_mode": {
    "name": "ipython",
    "version": 3
   },
   "file_extension": ".py",
   "mimetype": "text/x-python",
   "name": "python",
   "nbconvert_exporter": "python",
   "pygments_lexer": "ipython3",
   "version": "3.9.12"
  },
  "vscode": {
   "interpreter": {
    "hash": "5abbd6db220e8e7e0d98705c152b109e4d42831fb3d2e63347ab02729524c35e"
   }
  }
 },
 "nbformat": 4,
 "nbformat_minor": 5
}