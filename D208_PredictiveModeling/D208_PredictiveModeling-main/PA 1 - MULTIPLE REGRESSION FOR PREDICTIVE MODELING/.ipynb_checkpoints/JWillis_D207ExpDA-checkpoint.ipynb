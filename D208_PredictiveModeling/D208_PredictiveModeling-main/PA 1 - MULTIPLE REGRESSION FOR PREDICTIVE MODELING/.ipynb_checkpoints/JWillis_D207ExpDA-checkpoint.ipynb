{
 "cells": [
  {
   "cell_type": "markdown",
   "id": "5a6ee431-1581-414b-8fbd-38f305ce82a8",
   "metadata": {
    "tags": []
   },
   "source": [
    "# Import Libraries"
   ]
  },
  {
   "cell_type": "code",
   "execution_count": 1,
   "id": "bca9727e-53ce-4c8a-b594-d5daf4fd734a",
   "metadata": {},
   "outputs": [],
   "source": [
    "import pandas as pd\n",
    "import numpy as np\n",
    "import scipy as sc\n",
    "import matplotlib.pyplot as plt\n",
    "import seaborn as sb\n",
    "import statsmodels as stats\n",
    "from pandas import DataFrame\n",
    "from scipy.stats import kurtosis, skew\n",
    "from matplotlib.ticker import StrMethodFormatter"
   ]
  },
  {
   "cell_type": "markdown",
   "id": "c05e8d67-0129-4ed6-a299-1466dfa5fc0c",
   "metadata": {},
   "source": [
    "### Load Data From medical_clean.csv"
   ]
  },
  {
   "cell_type": "code",
   "execution_count": 2,
   "id": "b90e1c03-4187-4352-90fe-f80deeabbdc8",
   "metadata": {},
   "outputs": [
    {
     "data": {
      "text/html": [
       "<div>\n",
       "<style scoped>\n",
       "    .dataframe tbody tr th:only-of-type {\n",
       "        vertical-align: middle;\n",
       "    }\n",
       "\n",
       "    .dataframe tbody tr th {\n",
       "        vertical-align: top;\n",
       "    }\n",
       "\n",
       "    .dataframe thead th {\n",
       "        text-align: right;\n",
       "    }\n",
       "</style>\n",
       "<table border=\"1\" class=\"dataframe\">\n",
       "  <thead>\n",
       "    <tr style=\"text-align: right;\">\n",
       "      <th></th>\n",
       "      <th>CaseOrder</th>\n",
       "      <th>Customer_id</th>\n",
       "      <th>Interaction</th>\n",
       "      <th>UID</th>\n",
       "      <th>City</th>\n",
       "      <th>State</th>\n",
       "      <th>County</th>\n",
       "      <th>Zip</th>\n",
       "      <th>Lat</th>\n",
       "      <th>Lng</th>\n",
       "      <th>...</th>\n",
       "      <th>TotalCharge</th>\n",
       "      <th>Additional_charges</th>\n",
       "      <th>Item1</th>\n",
       "      <th>Item2</th>\n",
       "      <th>Item3</th>\n",
       "      <th>Item4</th>\n",
       "      <th>Item5</th>\n",
       "      <th>Item6</th>\n",
       "      <th>Item7</th>\n",
       "      <th>Item8</th>\n",
       "    </tr>\n",
       "  </thead>\n",
       "  <tbody>\n",
       "    <tr>\n",
       "      <th>0</th>\n",
       "      <td>1</td>\n",
       "      <td>C412403</td>\n",
       "      <td>8cd49b13-f45a-4b47-a2bd-173ffa932c2f</td>\n",
       "      <td>3a83ddb66e2ae73798bdf1d705dc0932</td>\n",
       "      <td>Eva</td>\n",
       "      <td>AL</td>\n",
       "      <td>Morgan</td>\n",
       "      <td>35621</td>\n",
       "      <td>34.34960</td>\n",
       "      <td>-86.72508</td>\n",
       "      <td>...</td>\n",
       "      <td>3726.702860</td>\n",
       "      <td>17939.403420</td>\n",
       "      <td>3</td>\n",
       "      <td>3</td>\n",
       "      <td>2</td>\n",
       "      <td>2</td>\n",
       "      <td>4</td>\n",
       "      <td>3</td>\n",
       "      <td>3</td>\n",
       "      <td>4</td>\n",
       "    </tr>\n",
       "    <tr>\n",
       "      <th>1</th>\n",
       "      <td>2</td>\n",
       "      <td>Z919181</td>\n",
       "      <td>d2450b70-0337-4406-bdbb-bc1037f1734c</td>\n",
       "      <td>176354c5eef714957d486009feabf195</td>\n",
       "      <td>Marianna</td>\n",
       "      <td>FL</td>\n",
       "      <td>Jackson</td>\n",
       "      <td>32446</td>\n",
       "      <td>30.84513</td>\n",
       "      <td>-85.22907</td>\n",
       "      <td>...</td>\n",
       "      <td>4193.190458</td>\n",
       "      <td>17612.998120</td>\n",
       "      <td>3</td>\n",
       "      <td>4</td>\n",
       "      <td>3</td>\n",
       "      <td>4</td>\n",
       "      <td>4</td>\n",
       "      <td>4</td>\n",
       "      <td>3</td>\n",
       "      <td>3</td>\n",
       "    </tr>\n",
       "    <tr>\n",
       "      <th>2</th>\n",
       "      <td>3</td>\n",
       "      <td>F995323</td>\n",
       "      <td>a2057123-abf5-4a2c-abad-8ffe33512562</td>\n",
       "      <td>e19a0fa00aeda885b8a436757e889bc9</td>\n",
       "      <td>Sioux Falls</td>\n",
       "      <td>SD</td>\n",
       "      <td>Minnehaha</td>\n",
       "      <td>57110</td>\n",
       "      <td>43.54321</td>\n",
       "      <td>-96.63772</td>\n",
       "      <td>...</td>\n",
       "      <td>2434.234222</td>\n",
       "      <td>17505.192460</td>\n",
       "      <td>2</td>\n",
       "      <td>4</td>\n",
       "      <td>4</td>\n",
       "      <td>4</td>\n",
       "      <td>3</td>\n",
       "      <td>4</td>\n",
       "      <td>3</td>\n",
       "      <td>3</td>\n",
       "    </tr>\n",
       "    <tr>\n",
       "      <th>3</th>\n",
       "      <td>4</td>\n",
       "      <td>A879973</td>\n",
       "      <td>1dec528d-eb34-4079-adce-0d7a40e82205</td>\n",
       "      <td>cd17d7b6d152cb6f23957346d11c3f07</td>\n",
       "      <td>New Richland</td>\n",
       "      <td>MN</td>\n",
       "      <td>Waseca</td>\n",
       "      <td>56072</td>\n",
       "      <td>43.89744</td>\n",
       "      <td>-93.51479</td>\n",
       "      <td>...</td>\n",
       "      <td>2127.830423</td>\n",
       "      <td>12993.437350</td>\n",
       "      <td>3</td>\n",
       "      <td>5</td>\n",
       "      <td>5</td>\n",
       "      <td>3</td>\n",
       "      <td>4</td>\n",
       "      <td>5</td>\n",
       "      <td>5</td>\n",
       "      <td>5</td>\n",
       "    </tr>\n",
       "    <tr>\n",
       "      <th>4</th>\n",
       "      <td>5</td>\n",
       "      <td>C544523</td>\n",
       "      <td>5885f56b-d6da-43a3-8760-83583af94266</td>\n",
       "      <td>d2f0425877b10ed6bb381f3e2579424a</td>\n",
       "      <td>West Point</td>\n",
       "      <td>VA</td>\n",
       "      <td>King William</td>\n",
       "      <td>23181</td>\n",
       "      <td>37.59894</td>\n",
       "      <td>-76.88958</td>\n",
       "      <td>...</td>\n",
       "      <td>2113.073274</td>\n",
       "      <td>3716.525786</td>\n",
       "      <td>2</td>\n",
       "      <td>1</td>\n",
       "      <td>3</td>\n",
       "      <td>3</td>\n",
       "      <td>5</td>\n",
       "      <td>3</td>\n",
       "      <td>4</td>\n",
       "      <td>3</td>\n",
       "    </tr>\n",
       "    <tr>\n",
       "      <th>...</th>\n",
       "      <td>...</td>\n",
       "      <td>...</td>\n",
       "      <td>...</td>\n",
       "      <td>...</td>\n",
       "      <td>...</td>\n",
       "      <td>...</td>\n",
       "      <td>...</td>\n",
       "      <td>...</td>\n",
       "      <td>...</td>\n",
       "      <td>...</td>\n",
       "      <td>...</td>\n",
       "      <td>...</td>\n",
       "      <td>...</td>\n",
       "      <td>...</td>\n",
       "      <td>...</td>\n",
       "      <td>...</td>\n",
       "      <td>...</td>\n",
       "      <td>...</td>\n",
       "      <td>...</td>\n",
       "      <td>...</td>\n",
       "      <td>...</td>\n",
       "    </tr>\n",
       "    <tr>\n",
       "      <th>9994</th>\n",
       "      <td>9995</td>\n",
       "      <td>M583491</td>\n",
       "      <td>15c2b4bb-2c36-41b2-b1e2-206144fae1dc</td>\n",
       "      <td>b9dd180aa8894ecea6af33a46b22e015</td>\n",
       "      <td>Fellsmere</td>\n",
       "      <td>FL</td>\n",
       "      <td>Indian River</td>\n",
       "      <td>32948</td>\n",
       "      <td>27.88942</td>\n",
       "      <td>-80.73347</td>\n",
       "      <td>...</td>\n",
       "      <td>5607.716000</td>\n",
       "      <td>12045.860000</td>\n",
       "      <td>2</td>\n",
       "      <td>3</td>\n",
       "      <td>2</td>\n",
       "      <td>1</td>\n",
       "      <td>5</td>\n",
       "      <td>3</td>\n",
       "      <td>4</td>\n",
       "      <td>2</td>\n",
       "    </tr>\n",
       "    <tr>\n",
       "      <th>9995</th>\n",
       "      <td>9996</td>\n",
       "      <td>B863060</td>\n",
       "      <td>a25b594d-0328-486f-a9b9-0567eb0f9723</td>\n",
       "      <td>39184dc28cc038871912ccc4500049e5</td>\n",
       "      <td>Norlina</td>\n",
       "      <td>NC</td>\n",
       "      <td>Warren</td>\n",
       "      <td>27563</td>\n",
       "      <td>36.42886</td>\n",
       "      <td>-78.23716</td>\n",
       "      <td>...</td>\n",
       "      <td>6850.942000</td>\n",
       "      <td>8927.642000</td>\n",
       "      <td>3</td>\n",
       "      <td>2</td>\n",
       "      <td>2</td>\n",
       "      <td>3</td>\n",
       "      <td>4</td>\n",
       "      <td>3</td>\n",
       "      <td>4</td>\n",
       "      <td>2</td>\n",
       "    </tr>\n",
       "    <tr>\n",
       "      <th>9996</th>\n",
       "      <td>9997</td>\n",
       "      <td>P712040</td>\n",
       "      <td>70711574-f7b1-4a17-b15f-48c54564b70f</td>\n",
       "      <td>3cd124ccd43147404292e883bf9ec55c</td>\n",
       "      <td>Milmay</td>\n",
       "      <td>NJ</td>\n",
       "      <td>Atlantic</td>\n",
       "      <td>8340</td>\n",
       "      <td>39.43609</td>\n",
       "      <td>-74.87302</td>\n",
       "      <td>...</td>\n",
       "      <td>7741.690000</td>\n",
       "      <td>28507.150000</td>\n",
       "      <td>3</td>\n",
       "      <td>3</td>\n",
       "      <td>4</td>\n",
       "      <td>2</td>\n",
       "      <td>5</td>\n",
       "      <td>3</td>\n",
       "      <td>4</td>\n",
       "      <td>4</td>\n",
       "    </tr>\n",
       "    <tr>\n",
       "      <th>9997</th>\n",
       "      <td>9998</td>\n",
       "      <td>R778890</td>\n",
       "      <td>1d79569d-8e0f-4180-a207-d67ee4527d26</td>\n",
       "      <td>41b770aeee97a5b9e7f69c906a8119d7</td>\n",
       "      <td>Southside</td>\n",
       "      <td>TN</td>\n",
       "      <td>Montgomery</td>\n",
       "      <td>37171</td>\n",
       "      <td>36.36655</td>\n",
       "      <td>-87.29988</td>\n",
       "      <td>...</td>\n",
       "      <td>8276.481000</td>\n",
       "      <td>15281.210000</td>\n",
       "      <td>3</td>\n",
       "      <td>3</td>\n",
       "      <td>3</td>\n",
       "      <td>4</td>\n",
       "      <td>4</td>\n",
       "      <td>2</td>\n",
       "      <td>3</td>\n",
       "      <td>2</td>\n",
       "    </tr>\n",
       "    <tr>\n",
       "      <th>9998</th>\n",
       "      <td>9999</td>\n",
       "      <td>E344109</td>\n",
       "      <td>f5a68e69-2a60-409b-a92f-ac0847b27db0</td>\n",
       "      <td>2bb491ef5b1beb1fed758cc6885c167a</td>\n",
       "      <td>Quinn</td>\n",
       "      <td>SD</td>\n",
       "      <td>Pennington</td>\n",
       "      <td>57775</td>\n",
       "      <td>44.10354</td>\n",
       "      <td>-102.01590</td>\n",
       "      <td>...</td>\n",
       "      <td>7644.483000</td>\n",
       "      <td>7781.678000</td>\n",
       "      <td>5</td>\n",
       "      <td>5</td>\n",
       "      <td>3</td>\n",
       "      <td>4</td>\n",
       "      <td>4</td>\n",
       "      <td>3</td>\n",
       "      <td>4</td>\n",
       "      <td>3</td>\n",
       "    </tr>\n",
       "  </tbody>\n",
       "</table>\n",
       "<p>9999 rows × 50 columns</p>\n",
       "</div>"
      ],
      "text/plain": [
       "      CaseOrder Customer_id                           Interaction  \\\n",
       "0             1     C412403  8cd49b13-f45a-4b47-a2bd-173ffa932c2f   \n",
       "1             2     Z919181  d2450b70-0337-4406-bdbb-bc1037f1734c   \n",
       "2             3     F995323  a2057123-abf5-4a2c-abad-8ffe33512562   \n",
       "3             4     A879973  1dec528d-eb34-4079-adce-0d7a40e82205   \n",
       "4             5     C544523  5885f56b-d6da-43a3-8760-83583af94266   \n",
       "...         ...         ...                                   ...   \n",
       "9994       9995     M583491  15c2b4bb-2c36-41b2-b1e2-206144fae1dc   \n",
       "9995       9996     B863060  a25b594d-0328-486f-a9b9-0567eb0f9723   \n",
       "9996       9997     P712040  70711574-f7b1-4a17-b15f-48c54564b70f   \n",
       "9997       9998     R778890  1d79569d-8e0f-4180-a207-d67ee4527d26   \n",
       "9998       9999     E344109  f5a68e69-2a60-409b-a92f-ac0847b27db0   \n",
       "\n",
       "                                   UID          City State        County  \\\n",
       "0     3a83ddb66e2ae73798bdf1d705dc0932           Eva    AL        Morgan   \n",
       "1     176354c5eef714957d486009feabf195      Marianna    FL       Jackson   \n",
       "2     e19a0fa00aeda885b8a436757e889bc9   Sioux Falls    SD     Minnehaha   \n",
       "3     cd17d7b6d152cb6f23957346d11c3f07  New Richland    MN        Waseca   \n",
       "4     d2f0425877b10ed6bb381f3e2579424a    West Point    VA  King William   \n",
       "...                                ...           ...   ...           ...   \n",
       "9994  b9dd180aa8894ecea6af33a46b22e015     Fellsmere    FL  Indian River   \n",
       "9995  39184dc28cc038871912ccc4500049e5       Norlina    NC        Warren   \n",
       "9996  3cd124ccd43147404292e883bf9ec55c        Milmay    NJ      Atlantic   \n",
       "9997  41b770aeee97a5b9e7f69c906a8119d7     Southside    TN    Montgomery   \n",
       "9998  2bb491ef5b1beb1fed758cc6885c167a         Quinn    SD    Pennington   \n",
       "\n",
       "        Zip       Lat        Lng  ...  TotalCharge Additional_charges Item1  \\\n",
       "0     35621  34.34960  -86.72508  ...  3726.702860       17939.403420     3   \n",
       "1     32446  30.84513  -85.22907  ...  4193.190458       17612.998120     3   \n",
       "2     57110  43.54321  -96.63772  ...  2434.234222       17505.192460     2   \n",
       "3     56072  43.89744  -93.51479  ...  2127.830423       12993.437350     3   \n",
       "4     23181  37.59894  -76.88958  ...  2113.073274        3716.525786     2   \n",
       "...     ...       ...        ...  ...          ...                ...   ...   \n",
       "9994  32948  27.88942  -80.73347  ...  5607.716000       12045.860000     2   \n",
       "9995  27563  36.42886  -78.23716  ...  6850.942000        8927.642000     3   \n",
       "9996   8340  39.43609  -74.87302  ...  7741.690000       28507.150000     3   \n",
       "9997  37171  36.36655  -87.29988  ...  8276.481000       15281.210000     3   \n",
       "9998  57775  44.10354 -102.01590  ...  7644.483000        7781.678000     5   \n",
       "\n",
       "     Item2  Item3  Item4  Item5 Item6 Item7 Item8  \n",
       "0        3      2      2      4     3     3     4  \n",
       "1        4      3      4      4     4     3     3  \n",
       "2        4      4      4      3     4     3     3  \n",
       "3        5      5      3      4     5     5     5  \n",
       "4        1      3      3      5     3     4     3  \n",
       "...    ...    ...    ...    ...   ...   ...   ...  \n",
       "9994     3      2      1      5     3     4     2  \n",
       "9995     2      2      3      4     3     4     2  \n",
       "9996     3      4      2      5     3     4     4  \n",
       "9997     3      3      4      4     2     3     2  \n",
       "9998     5      3      4      4     3     4     3  \n",
       "\n",
       "[9999 rows x 50 columns]"
      ]
     },
     "execution_count": 2,
     "metadata": {},
     "output_type": "execute_result"
    }
   ],
   "source": [
    "# load data file\n",
    "df = pd.read_csv('medical_clean.csv')\n",
    "# quick test the data is present and see the shape\n",
    "df.head(-1)"
   ]
  },
  {
   "cell_type": "markdown",
   "id": "44682f66-f087-4808-bd7f-4bd857b3f719",
   "metadata": {},
   "source": [
    "### Any Rows With All Nulls?"
   ]
  },
  {
   "cell_type": "code",
   "execution_count": 3,
   "id": "9e332732-f3a0-4081-bb14-689d8bb875dc",
   "metadata": {},
   "outputs": [
    {
     "data": {
      "text/plain": [
       "False"
      ]
     },
     "execution_count": 3,
     "metadata": {},
     "output_type": "execute_result"
    }
   ],
   "source": [
    "df.isnull().all(axis=1).any()"
   ]
  },
  {
   "cell_type": "markdown",
   "id": "9e68e8ef-0662-4c08-9d1d-68e21ab0ab65",
   "metadata": {},
   "source": [
    "### Any Missing Values?"
   ]
  },
  {
   "cell_type": "code",
   "execution_count": 4,
   "id": "e4b9a487-711c-4ae7-9d33-73d34126d39e",
   "metadata": {},
   "outputs": [
    {
     "data": {
      "text/html": [
       "<div>\n",
       "<style scoped>\n",
       "    .dataframe tbody tr th:only-of-type {\n",
       "        vertical-align: middle;\n",
       "    }\n",
       "\n",
       "    .dataframe tbody tr th {\n",
       "        vertical-align: top;\n",
       "    }\n",
       "\n",
       "    .dataframe thead th {\n",
       "        text-align: right;\n",
       "    }\n",
       "</style>\n",
       "<table border=\"1\" class=\"dataframe\">\n",
       "  <thead>\n",
       "    <tr style=\"text-align: right;\">\n",
       "      <th></th>\n",
       "    </tr>\n",
       "  </thead>\n",
       "  <tbody>\n",
       "    <tr>\n",
       "      <th>0</th>\n",
       "    </tr>\n",
       "    <tr>\n",
       "      <th>1</th>\n",
       "    </tr>\n",
       "    <tr>\n",
       "      <th>2</th>\n",
       "    </tr>\n",
       "    <tr>\n",
       "      <th>3</th>\n",
       "    </tr>\n",
       "    <tr>\n",
       "      <th>4</th>\n",
       "    </tr>\n",
       "    <tr>\n",
       "      <th>...</th>\n",
       "    </tr>\n",
       "    <tr>\n",
       "      <th>9995</th>\n",
       "    </tr>\n",
       "    <tr>\n",
       "      <th>9996</th>\n",
       "    </tr>\n",
       "    <tr>\n",
       "      <th>9997</th>\n",
       "    </tr>\n",
       "    <tr>\n",
       "      <th>9998</th>\n",
       "    </tr>\n",
       "    <tr>\n",
       "      <th>9999</th>\n",
       "    </tr>\n",
       "  </tbody>\n",
       "</table>\n",
       "<p>10000 rows × 0 columns</p>\n",
       "</div>"
      ],
      "text/plain": [
       "Empty DataFrame\n",
       "Columns: []\n",
       "Index: [0, 1, 2, 3, 4, 5, 6, 7, 8, 9, 10, 11, 12, 13, 14, 15, 16, 17, 18, 19, 20, 21, 22, 23, 24, 25, 26, 27, 28, 29, 30, 31, 32, 33, 34, 35, 36, 37, 38, 39, 40, 41, 42, 43, 44, 45, 46, 47, 48, 49, 50, 51, 52, 53, 54, 55, 56, 57, 58, 59, 60, 61, 62, 63, 64, 65, 66, 67, 68, 69, 70, 71, 72, 73, 74, 75, 76, 77, 78, 79, 80, 81, 82, 83, 84, 85, 86, 87, 88, 89, 90, 91, 92, 93, 94, 95, 96, 97, 98, 99, ...]\n",
       "\n",
       "[10000 rows x 0 columns]"
      ]
     },
     "execution_count": 4,
     "metadata": {},
     "output_type": "execute_result"
    }
   ],
   "source": [
    "df.loc[:, df.isnull().any()]"
   ]
  },
  {
   "cell_type": "markdown",
   "id": "270c8891-5c6d-40f1-a7ff-5d38a775e937",
   "metadata": {},
   "source": [
    "---\n",
    "### [A] **Question:** \"Did a patient’s initial inpatient stay (Initial_days) show an effect on their potential readmissions within our hospital chain?\""
   ]
  },
  {
   "cell_type": "markdown",
   "id": "e53df8bb-2c4f-47a2-b76c-2ca2bd7e4091",
   "metadata": {},
   "source": [
    "---\n",
    "#### [B] Describe Data - Start Getting a Feel of the Data Set\n",
    "---"
   ]
  },
  {
   "cell_type": "code",
   "execution_count": 5,
   "id": "691ca8ed-7e5e-485e-af45-27adf95cf3bf",
   "metadata": {},
   "outputs": [
    {
     "data": {
      "text/html": [
       "<div>\n",
       "<style scoped>\n",
       "    .dataframe tbody tr th:only-of-type {\n",
       "        vertical-align: middle;\n",
       "    }\n",
       "\n",
       "    .dataframe tbody tr th {\n",
       "        vertical-align: top;\n",
       "    }\n",
       "\n",
       "    .dataframe thead th {\n",
       "        text-align: right;\n",
       "    }\n",
       "</style>\n",
       "<table border=\"1\" class=\"dataframe\">\n",
       "  <thead>\n",
       "    <tr style=\"text-align: right;\">\n",
       "      <th></th>\n",
       "      <th>CaseOrder</th>\n",
       "      <th>Zip</th>\n",
       "      <th>Lat</th>\n",
       "      <th>Lng</th>\n",
       "      <th>Population</th>\n",
       "      <th>Children</th>\n",
       "      <th>Age</th>\n",
       "      <th>Income</th>\n",
       "      <th>VitD_levels</th>\n",
       "      <th>Doc_visits</th>\n",
       "      <th>...</th>\n",
       "      <th>TotalCharge</th>\n",
       "      <th>Additional_charges</th>\n",
       "      <th>Item1</th>\n",
       "      <th>Item2</th>\n",
       "      <th>Item3</th>\n",
       "      <th>Item4</th>\n",
       "      <th>Item5</th>\n",
       "      <th>Item6</th>\n",
       "      <th>Item7</th>\n",
       "      <th>Item8</th>\n",
       "    </tr>\n",
       "  </thead>\n",
       "  <tbody>\n",
       "    <tr>\n",
       "      <th>count</th>\n",
       "      <td>10000.00000</td>\n",
       "      <td>10000.000000</td>\n",
       "      <td>10000.000000</td>\n",
       "      <td>10000.000000</td>\n",
       "      <td>10000.000000</td>\n",
       "      <td>10000.000000</td>\n",
       "      <td>10000.000000</td>\n",
       "      <td>10000.000000</td>\n",
       "      <td>10000.000000</td>\n",
       "      <td>10000.000000</td>\n",
       "      <td>...</td>\n",
       "      <td>10000.000000</td>\n",
       "      <td>10000.000000</td>\n",
       "      <td>10000.000000</td>\n",
       "      <td>10000.000000</td>\n",
       "      <td>10000.000000</td>\n",
       "      <td>10000.000000</td>\n",
       "      <td>10000.000000</td>\n",
       "      <td>10000.000000</td>\n",
       "      <td>10000.000000</td>\n",
       "      <td>10000.000000</td>\n",
       "    </tr>\n",
       "    <tr>\n",
       "      <th>mean</th>\n",
       "      <td>5000.50000</td>\n",
       "      <td>50159.323900</td>\n",
       "      <td>38.751099</td>\n",
       "      <td>-91.243080</td>\n",
       "      <td>9965.253800</td>\n",
       "      <td>2.097200</td>\n",
       "      <td>53.511700</td>\n",
       "      <td>40490.495160</td>\n",
       "      <td>17.964262</td>\n",
       "      <td>5.012200</td>\n",
       "      <td>...</td>\n",
       "      <td>5312.172769</td>\n",
       "      <td>12934.528587</td>\n",
       "      <td>3.518800</td>\n",
       "      <td>3.506700</td>\n",
       "      <td>3.511100</td>\n",
       "      <td>3.515100</td>\n",
       "      <td>3.496900</td>\n",
       "      <td>3.522500</td>\n",
       "      <td>3.494000</td>\n",
       "      <td>3.509700</td>\n",
       "    </tr>\n",
       "    <tr>\n",
       "      <th>std</th>\n",
       "      <td>2886.89568</td>\n",
       "      <td>27469.588208</td>\n",
       "      <td>5.403085</td>\n",
       "      <td>15.205998</td>\n",
       "      <td>14824.758614</td>\n",
       "      <td>2.163659</td>\n",
       "      <td>20.638538</td>\n",
       "      <td>28521.153293</td>\n",
       "      <td>2.017231</td>\n",
       "      <td>1.045734</td>\n",
       "      <td>...</td>\n",
       "      <td>2180.393838</td>\n",
       "      <td>6542.601544</td>\n",
       "      <td>1.031966</td>\n",
       "      <td>1.034825</td>\n",
       "      <td>1.032755</td>\n",
       "      <td>1.036282</td>\n",
       "      <td>1.030192</td>\n",
       "      <td>1.032376</td>\n",
       "      <td>1.021405</td>\n",
       "      <td>1.042312</td>\n",
       "    </tr>\n",
       "    <tr>\n",
       "      <th>min</th>\n",
       "      <td>1.00000</td>\n",
       "      <td>610.000000</td>\n",
       "      <td>17.967190</td>\n",
       "      <td>-174.209700</td>\n",
       "      <td>0.000000</td>\n",
       "      <td>0.000000</td>\n",
       "      <td>18.000000</td>\n",
       "      <td>154.080000</td>\n",
       "      <td>9.806483</td>\n",
       "      <td>1.000000</td>\n",
       "      <td>...</td>\n",
       "      <td>1938.312067</td>\n",
       "      <td>3125.703000</td>\n",
       "      <td>1.000000</td>\n",
       "      <td>1.000000</td>\n",
       "      <td>1.000000</td>\n",
       "      <td>1.000000</td>\n",
       "      <td>1.000000</td>\n",
       "      <td>1.000000</td>\n",
       "      <td>1.000000</td>\n",
       "      <td>1.000000</td>\n",
       "    </tr>\n",
       "    <tr>\n",
       "      <th>25%</th>\n",
       "      <td>2500.75000</td>\n",
       "      <td>27592.000000</td>\n",
       "      <td>35.255120</td>\n",
       "      <td>-97.352982</td>\n",
       "      <td>694.750000</td>\n",
       "      <td>0.000000</td>\n",
       "      <td>36.000000</td>\n",
       "      <td>19598.775000</td>\n",
       "      <td>16.626439</td>\n",
       "      <td>4.000000</td>\n",
       "      <td>...</td>\n",
       "      <td>3179.374015</td>\n",
       "      <td>7986.487755</td>\n",
       "      <td>3.000000</td>\n",
       "      <td>3.000000</td>\n",
       "      <td>3.000000</td>\n",
       "      <td>3.000000</td>\n",
       "      <td>3.000000</td>\n",
       "      <td>3.000000</td>\n",
       "      <td>3.000000</td>\n",
       "      <td>3.000000</td>\n",
       "    </tr>\n",
       "    <tr>\n",
       "      <th>50%</th>\n",
       "      <td>5000.50000</td>\n",
       "      <td>50207.000000</td>\n",
       "      <td>39.419355</td>\n",
       "      <td>-88.397230</td>\n",
       "      <td>2769.000000</td>\n",
       "      <td>1.000000</td>\n",
       "      <td>53.000000</td>\n",
       "      <td>33768.420000</td>\n",
       "      <td>17.951122</td>\n",
       "      <td>5.000000</td>\n",
       "      <td>...</td>\n",
       "      <td>5213.952000</td>\n",
       "      <td>11573.977735</td>\n",
       "      <td>4.000000</td>\n",
       "      <td>3.000000</td>\n",
       "      <td>4.000000</td>\n",
       "      <td>4.000000</td>\n",
       "      <td>3.000000</td>\n",
       "      <td>4.000000</td>\n",
       "      <td>3.000000</td>\n",
       "      <td>3.000000</td>\n",
       "    </tr>\n",
       "    <tr>\n",
       "      <th>75%</th>\n",
       "      <td>7500.25000</td>\n",
       "      <td>72411.750000</td>\n",
       "      <td>42.044175</td>\n",
       "      <td>-80.438050</td>\n",
       "      <td>13945.000000</td>\n",
       "      <td>3.000000</td>\n",
       "      <td>71.000000</td>\n",
       "      <td>54296.402500</td>\n",
       "      <td>19.347963</td>\n",
       "      <td>6.000000</td>\n",
       "      <td>...</td>\n",
       "      <td>7459.699750</td>\n",
       "      <td>15626.490000</td>\n",
       "      <td>4.000000</td>\n",
       "      <td>4.000000</td>\n",
       "      <td>4.000000</td>\n",
       "      <td>4.000000</td>\n",
       "      <td>4.000000</td>\n",
       "      <td>4.000000</td>\n",
       "      <td>4.000000</td>\n",
       "      <td>4.000000</td>\n",
       "    </tr>\n",
       "    <tr>\n",
       "      <th>max</th>\n",
       "      <td>10000.00000</td>\n",
       "      <td>99929.000000</td>\n",
       "      <td>70.560990</td>\n",
       "      <td>-65.290170</td>\n",
       "      <td>122814.000000</td>\n",
       "      <td>10.000000</td>\n",
       "      <td>89.000000</td>\n",
       "      <td>207249.100000</td>\n",
       "      <td>26.394449</td>\n",
       "      <td>9.000000</td>\n",
       "      <td>...</td>\n",
       "      <td>9180.728000</td>\n",
       "      <td>30566.070000</td>\n",
       "      <td>8.000000</td>\n",
       "      <td>7.000000</td>\n",
       "      <td>8.000000</td>\n",
       "      <td>7.000000</td>\n",
       "      <td>7.000000</td>\n",
       "      <td>7.000000</td>\n",
       "      <td>7.000000</td>\n",
       "      <td>7.000000</td>\n",
       "    </tr>\n",
       "  </tbody>\n",
       "</table>\n",
       "<p>8 rows × 23 columns</p>\n",
       "</div>"
      ],
      "text/plain": [
       "         CaseOrder           Zip           Lat           Lng     Population  \\\n",
       "count  10000.00000  10000.000000  10000.000000  10000.000000   10000.000000   \n",
       "mean    5000.50000  50159.323900     38.751099    -91.243080    9965.253800   \n",
       "std     2886.89568  27469.588208      5.403085     15.205998   14824.758614   \n",
       "min        1.00000    610.000000     17.967190   -174.209700       0.000000   \n",
       "25%     2500.75000  27592.000000     35.255120    -97.352982     694.750000   \n",
       "50%     5000.50000  50207.000000     39.419355    -88.397230    2769.000000   \n",
       "75%     7500.25000  72411.750000     42.044175    -80.438050   13945.000000   \n",
       "max    10000.00000  99929.000000     70.560990    -65.290170  122814.000000   \n",
       "\n",
       "           Children           Age         Income   VitD_levels    Doc_visits  \\\n",
       "count  10000.000000  10000.000000   10000.000000  10000.000000  10000.000000   \n",
       "mean       2.097200     53.511700   40490.495160     17.964262      5.012200   \n",
       "std        2.163659     20.638538   28521.153293      2.017231      1.045734   \n",
       "min        0.000000     18.000000     154.080000      9.806483      1.000000   \n",
       "25%        0.000000     36.000000   19598.775000     16.626439      4.000000   \n",
       "50%        1.000000     53.000000   33768.420000     17.951122      5.000000   \n",
       "75%        3.000000     71.000000   54296.402500     19.347963      6.000000   \n",
       "max       10.000000     89.000000  207249.100000     26.394449      9.000000   \n",
       "\n",
       "       ...   TotalCharge  Additional_charges         Item1         Item2  \\\n",
       "count  ...  10000.000000        10000.000000  10000.000000  10000.000000   \n",
       "mean   ...   5312.172769        12934.528587      3.518800      3.506700   \n",
       "std    ...   2180.393838         6542.601544      1.031966      1.034825   \n",
       "min    ...   1938.312067         3125.703000      1.000000      1.000000   \n",
       "25%    ...   3179.374015         7986.487755      3.000000      3.000000   \n",
       "50%    ...   5213.952000        11573.977735      4.000000      3.000000   \n",
       "75%    ...   7459.699750        15626.490000      4.000000      4.000000   \n",
       "max    ...   9180.728000        30566.070000      8.000000      7.000000   \n",
       "\n",
       "              Item3         Item4         Item5         Item6         Item7  \\\n",
       "count  10000.000000  10000.000000  10000.000000  10000.000000  10000.000000   \n",
       "mean       3.511100      3.515100      3.496900      3.522500      3.494000   \n",
       "std        1.032755      1.036282      1.030192      1.032376      1.021405   \n",
       "min        1.000000      1.000000      1.000000      1.000000      1.000000   \n",
       "25%        3.000000      3.000000      3.000000      3.000000      3.000000   \n",
       "50%        4.000000      4.000000      3.000000      4.000000      3.000000   \n",
       "75%        4.000000      4.000000      4.000000      4.000000      4.000000   \n",
       "max        8.000000      7.000000      7.000000      7.000000      7.000000   \n",
       "\n",
       "              Item8  \n",
       "count  10000.000000  \n",
       "mean       3.509700  \n",
       "std        1.042312  \n",
       "min        1.000000  \n",
       "25%        3.000000  \n",
       "50%        3.000000  \n",
       "75%        4.000000  \n",
       "max        7.000000  \n",
       "\n",
       "[8 rows x 23 columns]"
      ]
     },
     "execution_count": 5,
     "metadata": {},
     "output_type": "execute_result"
    }
   ],
   "source": [
    "#https://stackoverflow.com/questions/24524104/pandas-describe-is-not-returning-summary-of-all-columns\n",
    "# Describe Numeric Fields\n",
    "df.describe(include = [np.number])"
   ]
  },
  {
   "cell_type": "code",
   "execution_count": 6,
   "id": "eb2f44f8-d479-43df-9103-31b25d11043e",
   "metadata": {},
   "outputs": [
    {
     "data": {
      "text/html": [
       "<div>\n",
       "<style scoped>\n",
       "    .dataframe tbody tr th:only-of-type {\n",
       "        vertical-align: middle;\n",
       "    }\n",
       "\n",
       "    .dataframe tbody tr th {\n",
       "        vertical-align: top;\n",
       "    }\n",
       "\n",
       "    .dataframe thead th {\n",
       "        text-align: right;\n",
       "    }\n",
       "</style>\n",
       "<table border=\"1\" class=\"dataframe\">\n",
       "  <thead>\n",
       "    <tr style=\"text-align: right;\">\n",
       "      <th></th>\n",
       "      <th>Customer_id</th>\n",
       "      <th>Interaction</th>\n",
       "      <th>UID</th>\n",
       "      <th>City</th>\n",
       "      <th>State</th>\n",
       "      <th>County</th>\n",
       "      <th>Area</th>\n",
       "      <th>TimeZone</th>\n",
       "      <th>Job</th>\n",
       "      <th>Marital</th>\n",
       "      <th>...</th>\n",
       "      <th>Overweight</th>\n",
       "      <th>Arthritis</th>\n",
       "      <th>Diabetes</th>\n",
       "      <th>Hyperlipidemia</th>\n",
       "      <th>BackPain</th>\n",
       "      <th>Anxiety</th>\n",
       "      <th>Allergic_rhinitis</th>\n",
       "      <th>Reflux_esophagitis</th>\n",
       "      <th>Asthma</th>\n",
       "      <th>Services</th>\n",
       "    </tr>\n",
       "  </thead>\n",
       "  <tbody>\n",
       "    <tr>\n",
       "      <th>count</th>\n",
       "      <td>10000</td>\n",
       "      <td>10000</td>\n",
       "      <td>10000</td>\n",
       "      <td>10000</td>\n",
       "      <td>10000</td>\n",
       "      <td>10000</td>\n",
       "      <td>10000</td>\n",
       "      <td>10000</td>\n",
       "      <td>10000</td>\n",
       "      <td>10000</td>\n",
       "      <td>...</td>\n",
       "      <td>10000</td>\n",
       "      <td>10000</td>\n",
       "      <td>10000</td>\n",
       "      <td>10000</td>\n",
       "      <td>10000</td>\n",
       "      <td>10000</td>\n",
       "      <td>10000</td>\n",
       "      <td>10000</td>\n",
       "      <td>10000</td>\n",
       "      <td>10000</td>\n",
       "    </tr>\n",
       "    <tr>\n",
       "      <th>unique</th>\n",
       "      <td>10000</td>\n",
       "      <td>10000</td>\n",
       "      <td>10000</td>\n",
       "      <td>6072</td>\n",
       "      <td>52</td>\n",
       "      <td>1607</td>\n",
       "      <td>3</td>\n",
       "      <td>26</td>\n",
       "      <td>639</td>\n",
       "      <td>5</td>\n",
       "      <td>...</td>\n",
       "      <td>2</td>\n",
       "      <td>2</td>\n",
       "      <td>2</td>\n",
       "      <td>2</td>\n",
       "      <td>2</td>\n",
       "      <td>2</td>\n",
       "      <td>2</td>\n",
       "      <td>2</td>\n",
       "      <td>2</td>\n",
       "      <td>4</td>\n",
       "    </tr>\n",
       "    <tr>\n",
       "      <th>top</th>\n",
       "      <td>Y928981</td>\n",
       "      <td>8a6a22b0-c385-404d-a12f-cb7fcc923a1c</td>\n",
       "      <td>3215b841497b1b27f4c9b4c5f70649f0</td>\n",
       "      <td>Houston</td>\n",
       "      <td>TX</td>\n",
       "      <td>Jefferson</td>\n",
       "      <td>Rural</td>\n",
       "      <td>America/New_York</td>\n",
       "      <td>Outdoor activities/education manager</td>\n",
       "      <td>Widowed</td>\n",
       "      <td>...</td>\n",
       "      <td>Yes</td>\n",
       "      <td>No</td>\n",
       "      <td>No</td>\n",
       "      <td>No</td>\n",
       "      <td>No</td>\n",
       "      <td>No</td>\n",
       "      <td>No</td>\n",
       "      <td>No</td>\n",
       "      <td>No</td>\n",
       "      <td>Blood Work</td>\n",
       "    </tr>\n",
       "    <tr>\n",
       "      <th>freq</th>\n",
       "      <td>1</td>\n",
       "      <td>1</td>\n",
       "      <td>1</td>\n",
       "      <td>36</td>\n",
       "      <td>553</td>\n",
       "      <td>118</td>\n",
       "      <td>3369</td>\n",
       "      <td>3889</td>\n",
       "      <td>29</td>\n",
       "      <td>2045</td>\n",
       "      <td>...</td>\n",
       "      <td>7094</td>\n",
       "      <td>6426</td>\n",
       "      <td>7262</td>\n",
       "      <td>6628</td>\n",
       "      <td>5886</td>\n",
       "      <td>6785</td>\n",
       "      <td>6059</td>\n",
       "      <td>5865</td>\n",
       "      <td>7107</td>\n",
       "      <td>5265</td>\n",
       "    </tr>\n",
       "  </tbody>\n",
       "</table>\n",
       "<p>4 rows × 27 columns</p>\n",
       "</div>"
      ],
      "text/plain": [
       "       Customer_id                           Interaction  \\\n",
       "count        10000                                 10000   \n",
       "unique       10000                                 10000   \n",
       "top        Y928981  8a6a22b0-c385-404d-a12f-cb7fcc923a1c   \n",
       "freq             1                                     1   \n",
       "\n",
       "                                     UID     City  State     County   Area  \\\n",
       "count                              10000    10000  10000      10000  10000   \n",
       "unique                             10000     6072     52       1607      3   \n",
       "top     3215b841497b1b27f4c9b4c5f70649f0  Houston     TX  Jefferson  Rural   \n",
       "freq                                   1       36    553        118   3369   \n",
       "\n",
       "                TimeZone                                   Job  Marital  ...  \\\n",
       "count              10000                                 10000    10000  ...   \n",
       "unique                26                                   639        5  ...   \n",
       "top     America/New_York  Outdoor activities/education manager  Widowed  ...   \n",
       "freq                3889                                    29     2045  ...   \n",
       "\n",
       "       Overweight Arthritis Diabetes Hyperlipidemia BackPain Anxiety  \\\n",
       "count       10000     10000    10000          10000    10000   10000   \n",
       "unique          2         2        2              2        2       2   \n",
       "top           Yes        No       No             No       No      No   \n",
       "freq         7094      6426     7262           6628     5886    6785   \n",
       "\n",
       "       Allergic_rhinitis Reflux_esophagitis Asthma    Services  \n",
       "count              10000              10000  10000       10000  \n",
       "unique                 2                  2      2           4  \n",
       "top                   No                 No     No  Blood Work  \n",
       "freq                6059               5865   7107        5265  \n",
       "\n",
       "[4 rows x 27 columns]"
      ]
     },
     "execution_count": 6,
     "metadata": {},
     "output_type": "execute_result"
    }
   ],
   "source": [
    "# Describe Categorical Fields\n",
    "df.describe(include = ['O'])"
   ]
  },
  {
   "cell_type": "markdown",
   "id": "fd6e43eb-7e74-4489-9636-47fefa9cf1fb",
   "metadata": {},
   "source": [
    "#### [B cont.] Create Subset Data Group to Focus On and Describe"
   ]
  },
  {
   "cell_type": "code",
   "execution_count": 7,
   "id": "bd6bf109-7bf1-4b00-857f-7624425da85f",
   "metadata": {
    "tags": []
   },
   "outputs": [
    {
     "name": "stdout",
     "output_type": "stream",
     "text": [
      "<class 'pandas.core.frame.DataFrame'>\n",
      "RangeIndex: 10000 entries, 0 to 9999\n",
      "Data columns (total 4 columns):\n",
      " #   Column        Non-Null Count  Dtype  \n",
      "---  ------        --------------  -----  \n",
      " 0   ReAdmis       10000 non-null  object \n",
      " 1   Overweight    10000 non-null  object \n",
      " 2   TotalCharge   10000 non-null  float64\n",
      " 3   Initial_days  10000 non-null  float64\n",
      "dtypes: float64(2), object(2)\n",
      "memory usage: 312.6+ KB\n"
     ]
    }
   ],
   "source": [
    "focus_df = df[['ReAdmis', 'Overweight', 'TotalCharge', 'Initial_days']]\n",
    "focus_df.info()"
   ]
  },
  {
   "cell_type": "markdown",
   "id": "6d13f14f-5af6-4f38-8b5e-15021fc852d2",
   "metadata": {},
   "source": [
    "#### [B cont.] Describe the data analysis by doing the following:\n",
    " _Using one of the following techniques, write code (in either Python or R) to run the analysis of the data set: **ANOVA**_"
   ]
  },
  {
   "cell_type": "markdown",
   "id": "92519664-12b9-4fb6-8784-0b9506966bfb",
   "metadata": {},
   "source": [
    "## One-Way ANOVA"
   ]
  },
  {
   "cell_type": "markdown",
   "id": "c2abab0f-c899-4c1b-af77-f30d82c648ec",
   "metadata": {},
   "source": [
    "### Does a Patients Initial Stay Affect Readmissions?"
   ]
  },
  {
   "cell_type": "code",
   "execution_count": 8,
   "id": "fc7636d9-95d7-48d6-80e7-11c0db2f5a77",
   "metadata": {
    "tags": []
   },
   "outputs": [],
   "source": [
    "# https://www.marsja.se/four-ways-to-conduct-one-way-anovas-using-python/\n",
    "# get ANOVA table\n",
    "import numpy as np\n",
    "import statsmodels.api as sm\n",
    "import statsmodels.formula.api as smf\n",
    "from statsmodels.formula.api import ols"
   ]
  },
  {
   "cell_type": "code",
   "execution_count": 9,
   "id": "77069198-e5c2-42c9-92ac-de3f77e84749",
   "metadata": {},
   "outputs": [
    {
     "name": "stdout",
     "output_type": "stream",
     "text": [
      "                sum_sq      df             F  PR(>F)\n",
      "ReAdmis   5.010653e+06     1.0  26222.105595     0.0\n",
      "Residual  1.910469e+06  9998.0           NaN     NaN\n"
     ]
    }
   ],
   "source": [
    "# Set up ANOVA Model\n",
    "mod = ols('Initial_days ~ ReAdmis',\n",
    "                data=focus_df).fit()\n",
    "\n",
    "# Carry out the ANOVA                \n",
    "aov_table = sm.stats.anova_lm(mod, typ=2)\n",
    "print(aov_table)"
   ]
  },
  {
   "cell_type": "code",
   "execution_count": 10,
   "id": "46e33e74-6ebd-4a7c-aa71-0fbe430a491e",
   "metadata": {
    "tags": []
   },
   "outputs": [
    {
     "data": {
      "text/html": [
       "<div>\n",
       "<style scoped>\n",
       "    .dataframe tbody tr th:only-of-type {\n",
       "        vertical-align: middle;\n",
       "    }\n",
       "\n",
       "    .dataframe tbody tr th {\n",
       "        vertical-align: top;\n",
       "    }\n",
       "\n",
       "    .dataframe thead th {\n",
       "        text-align: right;\n",
       "    }\n",
       "</style>\n",
       "<table border=\"1\" class=\"dataframe\">\n",
       "  <thead>\n",
       "    <tr style=\"text-align: right;\">\n",
       "      <th></th>\n",
       "      <th>df</th>\n",
       "      <th>sum_sq</th>\n",
       "      <th>mean_sq</th>\n",
       "      <th>F</th>\n",
       "      <th>PR(&gt;F)</th>\n",
       "    </tr>\n",
       "  </thead>\n",
       "  <tbody>\n",
       "    <tr>\n",
       "      <th>ReAdmis</th>\n",
       "      <td>1.0</td>\n",
       "      <td>5.010653e+06</td>\n",
       "      <td>5.010653e+06</td>\n",
       "      <td>26222.105595</td>\n",
       "      <td>0.0</td>\n",
       "    </tr>\n",
       "    <tr>\n",
       "      <th>Residual</th>\n",
       "      <td>9998.0</td>\n",
       "      <td>1.910469e+06</td>\n",
       "      <td>1.910851e+02</td>\n",
       "      <td>NaN</td>\n",
       "      <td>NaN</td>\n",
       "    </tr>\n",
       "  </tbody>\n",
       "</table>\n",
       "</div>"
      ],
      "text/plain": [
       "              df        sum_sq       mean_sq             F  PR(>F)\n",
       "ReAdmis      1.0  5.010653e+06  5.010653e+06  26222.105595     0.0\n",
       "Residual  9998.0  1.910469e+06  1.910851e+02           NaN     NaN"
      ]
     },
     "execution_count": 10,
     "metadata": {},
     "output_type": "execute_result"
    }
   ],
   "source": [
    "model = smf.ols('Initial_days ~ ReAdmis', data=focus_df).fit()\n",
    "\n",
    "aov_table = sm.stats.anova_lm(model)\n",
    "aov_table"
   ]
  },
  {
   "cell_type": "code",
   "execution_count": 11,
   "id": "2bb14a07-db2c-4485-b943-47d231215514",
   "metadata": {
    "tags": []
   },
   "outputs": [
    {
     "data": {
      "text/html": [
       "<div>\n",
       "<style scoped>\n",
       "    .dataframe tbody tr th:only-of-type {\n",
       "        vertical-align: middle;\n",
       "    }\n",
       "\n",
       "    .dataframe tbody tr th {\n",
       "        vertical-align: top;\n",
       "    }\n",
       "\n",
       "    .dataframe thead th {\n",
       "        text-align: right;\n",
       "    }\n",
       "</style>\n",
       "<table border=\"1\" class=\"dataframe\">\n",
       "  <thead>\n",
       "    <tr style=\"text-align: right;\">\n",
       "      <th></th>\n",
       "      <th>df</th>\n",
       "      <th>sum_sq</th>\n",
       "      <th>mean_sq</th>\n",
       "      <th>F</th>\n",
       "      <th>PR(&gt;F)</th>\n",
       "    </tr>\n",
       "  </thead>\n",
       "  <tbody>\n",
       "    <tr>\n",
       "      <th>C(ReAdmis)</th>\n",
       "      <td>1.0</td>\n",
       "      <td>5.010653e+06</td>\n",
       "      <td>5.010653e+06</td>\n",
       "      <td>26222.105595</td>\n",
       "      <td>0.0</td>\n",
       "    </tr>\n",
       "    <tr>\n",
       "      <th>Residual</th>\n",
       "      <td>9998.0</td>\n",
       "      <td>1.910469e+06</td>\n",
       "      <td>1.910851e+02</td>\n",
       "      <td>NaN</td>\n",
       "      <td>NaN</td>\n",
       "    </tr>\n",
       "  </tbody>\n",
       "</table>\n",
       "</div>"
      ],
      "text/plain": [
       "                df        sum_sq       mean_sq             F  PR(>F)\n",
       "C(ReAdmis)     1.0  5.010653e+06  5.010653e+06  26222.105595     0.0\n",
       "Residual    9998.0  1.910469e+06  1.910851e+02           NaN     NaN"
      ]
     },
     "execution_count": 11,
     "metadata": {},
     "output_type": "execute_result"
    }
   ],
   "source": [
    "# ANOVA table using bioinfokit v1.0.3 or later (it uses wrapper script for anova_lm)\n",
    "from bioinfokit.analys import stat\n",
    "res_t = stat()\n",
    "res_t.anova_stat(df=df, res_var='value', anova_model='Initial_days ~ C(ReAdmis)')\n",
    "res_t.anova_summary"
   ]
  },
  {
   "cell_type": "markdown",
   "id": "daec4b3d-282e-4a0b-a9f9-4a2f33b3d8e9",
   "metadata": {
    "tags": []
   },
   "source": [
    "---\n",
    "#### [C] _Identify the distribution of two continuous variables and two categorical variables **using univariate statistics** from your cleaned and prepared data._\n",
    "- Represent your findings in Part C, visually as part of your submission.\n",
    "---"
   ]
  },
  {
   "cell_type": "markdown",
   "id": "867547e0-62e9-4912-b4ea-3d8969ca4f5e",
   "metadata": {},
   "source": [
    "#### _Note on Univariate Statistics:_\n",
    "- General Information: (data type, count of total values, number of unique values)\n",
    "- Range and Middle: (min, max, mean, median, mode, quartiles)\n",
    "- Normality and Spread: (std dev, skweness, kurtosis)"
   ]
  },
  {
   "cell_type": "code",
   "execution_count": 12,
   "id": "cc410e13-5571-4693-89e5-e5ae47aea7c9",
   "metadata": {},
   "outputs": [
    {
     "name": "stdout",
     "output_type": "stream",
     "text": [
      "Continuous: \n",
      "\n",
      "        TotalCharge  Initial_days\n",
      "count  10000.000000  10000.000000\n",
      "mean    5312.172769     34.455299\n",
      "std     2180.393838     26.309341\n",
      "min     1938.312067      1.001981\n",
      "25%     3179.374015      7.896215\n",
      "50%     5213.952000     35.836244\n",
      "75%     7459.699750     61.161020\n",
      "max     9180.728000     71.981490\n",
      "\n",
      "------------------------------\n",
      "\n",
      "Categorical: \n",
      "\n",
      "       ReAdmis Overweight\n",
      "count    10000      10000\n",
      "unique       2          2\n",
      "top         No        Yes\n",
      "freq      6331       7094\n"
     ]
    }
   ],
   "source": [
    "#Describe Data:\n",
    "print('Continuous: \\n\\n' + str(focus_df.describe(include = [np.number])))\n",
    "print('\\n' + '------'*5 +'\\n')\n",
    "print('Categorical: \\n\\n' + str(focus_df.describe(include = ['O'])))"
   ]
  },
  {
   "cell_type": "code",
   "execution_count": 13,
   "id": "6a3bc150-7894-4378-9472-c792d8bf6b28",
   "metadata": {},
   "outputs": [
    {
     "name": "stdout",
     "output_type": "stream",
     "text": [
      "Describe Data (cont.)\n",
      "Median: \n",
      "\n",
      "TotalCharge     5213.952000\n",
      "Initial_days      35.836244\n",
      "dtype: float64\n",
      "\n",
      "------------------------------\n",
      "\n",
      "Mode: \n",
      "\n",
      "          TotalCharge\n",
      "7964.681            2\n",
      "8081.346            2\n",
      "7555.452            2\n",
      "\n",
      "          Initial_days\n",
      "67.42139             2\n",
      "63.54432             2\n",
      "70.32542             2\n"
     ]
    }
   ],
   "source": [
    "print('Describe Data (cont.)')\n",
    "print('Median: \\n\\n' + str(focus_df.median()))\n",
    "print('\\n' + '------'*5 +'\\n')\n",
    "#print('Mode: \\n\\n' + str(focus_df.mode(numeric_only=True)))\n",
    "print('Mode: \\n\\n' + str(focus_df['TotalCharge'].value_counts(ascending=True).loc[lambda x : x>1].to_frame()) + \n",
    "      '\\n\\n' + str(focus_df['Initial_days'].value_counts(ascending=True).loc[lambda x : x>1].to_frame()))"
   ]
  },
  {
   "cell_type": "code",
   "execution_count": 14,
   "id": "46c77c17-7a84-42c5-a981-508dec81d4df",
   "metadata": {
    "tags": []
   },
   "outputs": [
    {
     "name": "stdout",
     "output_type": "stream",
     "text": [
      "Look for Unique Values:\n",
      "-------------------------\n"
     ]
    },
    {
     "data": {
      "text/plain": [
       "ReAdmis            2\n",
       "Overweight         2\n",
       "TotalCharge     9997\n",
       "Initial_days    9997\n",
       "dtype: int64"
      ]
     },
     "execution_count": 14,
     "metadata": {},
     "output_type": "execute_result"
    }
   ],
   "source": [
    "# Look for Unique Values\n",
    "print('Look for Unique Values:')\n",
    "print('-----'*5)\n",
    "focus_df.nunique()"
   ]
  },
  {
   "cell_type": "code",
   "execution_count": 15,
   "id": "093edb31-2480-4345-b629-6184fd0f0c37",
   "metadata": {},
   "outputs": [
    {
     "name": "stdout",
     "output_type": "stream",
     "text": [
      "Look for Nulls:\n",
      "-------------------------\n"
     ]
    },
    {
     "data": {
      "text/plain": [
       "ReAdmis         0\n",
       "Overweight      0\n",
       "TotalCharge     0\n",
       "Initial_days    0\n",
       "dtype: int64"
      ]
     },
     "execution_count": 15,
     "metadata": {},
     "output_type": "execute_result"
    }
   ],
   "source": [
    "# Look for Nulls\n",
    "print('Look for Nulls:')\n",
    "print('-----'*5)\n",
    "focus_df.isnull().sum()"
   ]
  },
  {
   "cell_type": "code",
   "execution_count": 16,
   "id": "819fa6a9-0c61-4766-8eb8-fd5efb7ccf38",
   "metadata": {},
   "outputs": [
    {
     "name": "stdout",
     "output_type": "stream",
     "text": [
      "Look at Skewness (rule = +/- 1):\n",
      "-------------------------\n",
      "Total Charge: \t0.06966094634824574\n",
      "Initial Days: \t0.07028608266045332\n",
      "\n",
      "Look at Kurtosis (rule = +/- 1):\n",
      "-------------------------\n",
      "Total Charge: \t-1.6682665427232286\n",
      "Initial Days: \t-1.7545246170896873\n"
     ]
    }
   ],
   "source": [
    "print('Look at Skewness (rule = +/- 1):')\n",
    "print('-----'*5)\n",
    "print('Total Charge: \\t' + str(focus_df.TotalCharge.skew()))\n",
    "print('Initial Days: \\t' + str(focus_df.Initial_days.skew()))\n",
    "print('')\n",
    "print('Look at Kurtosis (rule = +/- 1):')\n",
    "print('-----'*5)\n",
    "print('Total Charge: \\t' + str(focus_df.TotalCharge.kurt()))\n",
    "print('Initial Days: \\t' + str(focus_df.Initial_days.kurt()))"
   ]
  },
  {
   "cell_type": "markdown",
   "id": "f5eaef41-7000-4396-87a4-b463ebee48a5",
   "metadata": {
    "tags": []
   },
   "source": [
    "#### Univariate Visualizations (cont.)"
   ]
  },
  {
   "cell_type": "code",
   "execution_count": 17,
   "id": "b4b2a568-f02c-44c3-8e2e-78f46e81826f",
   "metadata": {},
   "outputs": [
    {
     "data": {
      "text/plain": [
       "Text(0.5, 1.0, 'Readmissions')"
      ]
     },
     "execution_count": 17,
     "metadata": {},
     "output_type": "execute_result"
    },
    {
     "data": {
      "image/png": "[encoded data removed]",
      "text/plain": [
       "<Figure size 432x288 with 1 Axes>"
      ]
     },
     "metadata": {
      "needs_background": "light"
     },
     "output_type": "display_data"
    }
   ],
   "source": [
    "# Univariate: Readmissions\n",
    "readmis = []\n",
    "for value in df['ReAdmis']:\n",
    "    \n",
    "    if value == 'Yes':\n",
    "        readmis.append(1)\n",
    "    elif value == 'No':\n",
    "        readmis.append(0)\n",
    "        \n",
    "df['ReAdmis'] = readmis\n",
    "df[['ReAdmis']].plot.hist(bins=2);\n",
    "\n",
    "plt.xlabel('No | Yes')\n",
    "plt.ylabel('Num of Patients')\n",
    "plt.title('Readmissions')"
   ]
  },
  {
   "cell_type": "code",
   "execution_count": 18,
   "id": "24dc0a71-4e85-4f75-9641-1ea4f921e366",
   "metadata": {},
   "outputs": [
    {
     "data": {
      "text/plain": [
       "Text(0.5, 1.0, 'Overwieight')"
      ]
     },
     "execution_count": 18,
     "metadata": {},
     "output_type": "execute_result"
    },
    {
     "data": {
      "image/png": "[encoded data removed]",
      "text/plain": [
       "<Figure size 432x288 with 1 Axes>"
      ]
     },
     "metadata": {
      "needs_background": "light"
     },
     "output_type": "display_data"
    }
   ],
   "source": [
    "# Univariate: Overweight\n",
    "overweight = []\n",
    "for value in df['Overweight']:\n",
    "    \n",
    "    if value == 'Yes':\n",
    "        overweight.append(1)\n",
    "    elif value == 'No':\n",
    "        overweight.append(0)\n",
    "        \n",
    "df['OverweightIntegers'] = overweight\n",
    "df[['OverweightIntegers']].plot.hist(bins=2);\n",
    "\n",
    "plt.xlabel('No | Yes')\n",
    "plt.ylabel('Num of Patients')\n",
    "plt.title('Overwieight')"
   ]
  },
  {
   "cell_type": "code",
   "execution_count": 19,
   "id": "662d17f9-7a41-485c-a982-c8e64bf1eeca",
   "metadata": {},
   "outputs": [
    {
     "data": {
      "text/plain": [
       "Text(0.5, 1.0, 'Total Charges')"
      ]
     },
     "execution_count": 19,
     "metadata": {},
     "output_type": "execute_result"
    },
    {
     "data": {
      "image/png": "[encoded data removed]",
      "text/plain": [
       "<Figure size 432x288 with 1 Axes>"
      ]
     },
     "metadata": {
      "needs_background": "light"
     },
     "output_type": "display_data"
    }
   ],
   "source": [
    "import matplotlib.pyplot as plt\n",
    "\n",
    "#Univariate: Total Charges\n",
    "focus_df['TotalCharge'].plot.hist();\n",
    "\n",
    "plt.xlabel('Charge in Dollars ($)')\n",
    "plt.ylabel('# of Patients')\n",
    "plt.title('Total Charges')"
   ]
  },
  {
   "cell_type": "code",
   "execution_count": 20,
   "id": "7c4d4cf5-302a-4f91-88d1-e72d47209722",
   "metadata": {
    "tags": []
   },
   "outputs": [
    {
     "data": {
      "text/plain": [
       "Text(0.5, 1.0, 'Initial Inpatient Days')"
      ]
     },
     "execution_count": 20,
     "metadata": {},
     "output_type": "execute_result"
    },
    {
     "data": {
      "image/png": "[encoded data removed]",
      "text/plain": [
       "<Figure size 432x288 with 1 Axes>"
      ]
     },
     "metadata": {
      "needs_background": "light"
     },
     "output_type": "display_data"
    }
   ],
   "source": [
    "#Univariate: Initial Days\n",
    "focus_df['Initial_days'].plot.hist();\n",
    "\n",
    "plt.xlabel('# of Days')\n",
    "plt.ylabel('# of Patients')\n",
    "plt.title('Initial Inpatient Days')"
   ]
  },
  {
   "cell_type": "markdown",
   "id": "e4a50a91-487d-4103-a5bb-3c057c002328",
   "metadata": {},
   "source": [
    "---\n",
    "#### [D] _Identify the distribution of two continuous variables and two categorical variables **using bivariate statistics** from your cleaned and prepared data._\n",
    "- Represent your findings in Part D, visually as part of your submission.\n",
    "---"
   ]
  },
  {
   "cell_type": "code",
   "execution_count": 21,
   "id": "76d2ce11-2156-4c5b-afc8-ef783e4b1f3f",
   "metadata": {},
   "outputs": [
    {
     "data": {
      "image/png": "[encoded data removed]",
      "text/plain": [
       "<Figure size 432x288 with 1 Axes>"
      ]
     },
     "metadata": {
      "needs_background": "light"
     },
     "output_type": "display_data"
    }
   ],
   "source": [
    "# BoxPlot of Total Charge and Readmissions\n",
    "focus_df.boxplot(column='TotalCharge', by='ReAdmis');"
   ]
  },
  {
   "cell_type": "code",
   "execution_count": 22,
   "id": "b43742c7-f3d4-456e-9410-1fa4769f18c2",
   "metadata": {},
   "outputs": [
    {
     "data": {
      "image/png": "[encoded data removed]",
      "text/plain": [
       "<Figure size 432x288 with 1 Axes>"
      ]
     },
     "metadata": {
      "needs_background": "light"
     },
     "output_type": "display_data"
    }
   ],
   "source": [
    "# BoxPlot of Total Charge and Overweight\n",
    "focus_df.boxplot(column='TotalCharge', by='Overweight');"
   ]
  },
  {
   "cell_type": "code",
   "execution_count": 23,
   "id": "1a3d187b-606c-4c77-8458-2eb910d483aa",
   "metadata": {},
   "outputs": [
    {
     "data": {
      "image/png": "[encoded data removed]",
      "text/plain": [
       "<Figure size 432x288 with 1 Axes>"
      ]
     },
     "metadata": {
      "needs_background": "light"
     },
     "output_type": "display_data"
    }
   ],
   "source": [
    "# BoxPlot of Initial Days and Readmissions\n",
    "focus_df.boxplot(column='Initial_days', by='ReAdmis');"
   ]
  },
  {
   "cell_type": "code",
   "execution_count": 24,
   "id": "71c4943a-0fdb-4284-9fc7-9d863d1223b0",
   "metadata": {},
   "outputs": [
    {
     "data": {
      "image/png": "[encoded data removed]",
      "text/plain": [
       "<Figure size 432x288 with 1 Axes>"
      ]
     },
     "metadata": {
      "needs_background": "light"
     },
     "output_type": "display_data"
    }
   ],
   "source": [
    "# BoxPlot of Initial Days and Overweight\n",
    "focus_df.boxplot(column='Initial_days', by='Overweight');"
   ]
  },
  {
   "cell_type": "markdown",
   "id": "f03d545a-2097-4e2e-bc82-dabf3ff0aef6",
   "metadata": {},
   "source": [
    "### Histograms Comparing Initial Stay of Readmissions (Yes/No)"
   ]
  },
  {
   "cell_type": "code",
   "execution_count": 25,
   "id": "16b6fb70-f0b9-4a5c-9ac5-8ff020295806",
   "metadata": {},
   "outputs": [
    {
     "data": {
      "image/png": "[encoded data removed]",
      "text/plain": [
       "<Figure size 864x1080 with 3 Axes>"
      ]
     },
     "metadata": {
      "needs_background": "light"
     },
     "output_type": "display_data"
    }
   ],
   "source": [
    "#https://mode.com/example-gallery/python_histogram/\n",
    "\n",
    "ax = focus_df.hist(column='Initial_days', by='ReAdmis', bins=25, grid=False, figsize=(12,15), layout=(3,1), sharex=True, color='#86bf91', zorder=2, rwidth=.9)\n",
    "\n",
    "for i,x in enumerate(ax):\n",
    "\n",
    "    # Despine\n",
    "    x.spines['right'].set_visible(False)\n",
    "    x.spines['top'].set_visible(False)\n",
    "    x.spines['left'].set_visible(False)\n",
    "\n",
    "    # Switch off ticks\n",
    "    x.tick_params(axis=\"both\", which=\"both\", bottom=\"off\", top=\"off\", labelbottom=\"on\", left=\"off\", right=\"off\", labelleft=\"on\")\n",
    "\n",
    "    # Draw horizontal axis lines\n",
    "    vals = x.get_yticks()\n",
    "    for tick in vals:\n",
    "        x.axhline(y=tick, linestyle='dashed', alpha=0.4, color='#eeeeee', zorder=1)\n",
    "\n",
    "    # Set x-axis label\n",
    "    x.set_xlabel(\"Number of Inpatient Days\", labelpad=20, weight='bold', size=12)\n",
    "\n",
    "    # Set y-axis label\n",
    "    if i == 1:\n",
    "        x.set_ylabel(\"Number of Patients\", labelpad=50, weight='bold', size=12)\n",
    "\n",
    "    # Format y-axis label\n",
    "    x.yaxis.set_major_formatter(StrMethodFormatter('{x:,g}'))\n",
    "\n",
    "    x.tick_params(axis='x', rotation=0)\n"
   ]
  },
  {
   "cell_type": "markdown",
   "id": "c0cfc2a1-0a85-49e6-b3a2-cd15c9b5a9ea",
   "metadata": {},
   "source": [
    "#### Calculate Average Initial Days when Readmission = Yes"
   ]
  },
  {
   "cell_type": "code",
   "execution_count": 28,
   "id": "25bd06f4-2758-4e8c-b158-b15637fed42d",
   "metadata": {},
   "outputs": [
    {
     "name": "stdout",
     "output_type": "stream",
     "text": [
      "63.85950718996995\n"
     ]
    }
   ],
   "source": [
    "def calc_average(values):\n",
    "    average = 0\n",
    "    for value in values:\n",
    "        average += value\n",
    "    return average / len(values)\n",
    "    \n",
    "init_days_df = focus_df.loc[focus_df['ReAdmis'] == 'Yes']\n",
    "init_days_readmis = calc_average(init_days_df['Initial_days'])\n",
    "print(init_days_readmis)"
   ]
  },
  {
   "cell_type": "markdown",
   "id": "28147107-3dfb-4f24-8775-d22a4f9430ea",
   "metadata": {},
   "source": [
    "#### Calculate Average Initial Days when Readmission = No"
   ]
  },
  {
   "cell_type": "code",
   "execution_count": 29,
   "id": "ca15a758-209d-4d7a-b35f-0e3834b01436",
   "metadata": {},
   "outputs": [
    {
     "name": "stdout",
     "output_type": "stream",
     "text": [
      "17.4146992227966\n"
     ]
    }
   ],
   "source": [
    "def calc_average(values):\n",
    "    average = 0\n",
    "    for value in values:\n",
    "        average += value\n",
    "    return average / len(values)\n",
    "    \n",
    "init_days_df = focus_df.loc[focus_df['ReAdmis'] == 'No']\n",
    "init_days_df_readmis = calc_average(init_days_df['Initial_days'])\n",
    "print(init_days_df_readmis)"
   ]
  },
  {
   "cell_type": "markdown",
   "id": "6d48f621-e720-4533-9b55-edef945ba72d",
   "metadata": {},
   "source": [
    "#### Histogram of Readmissions and Initial Days"
   ]
  },
  {
   "cell_type": "code",
   "execution_count": 30,
   "id": "7afea27f-adc3-4ed6-860c-b66f7c06e807",
   "metadata": {
    "tags": []
   },
   "outputs": [
    {
     "data": {
      "image/png": "[encoded data removed]",
      "text/plain": [
       "<Figure size 432x288 with 1 Axes>"
      ]
     },
     "metadata": {
      "needs_background": "light"
     },
     "output_type": "display_data"
    }
   ],
   "source": [
    "# Bivariate: When readmissions did happen?\n",
    "readmis_df = focus_df.loc[focus_df['ReAdmis'] == 'Yes', 'Initial_days'].plot.hist(bins=10)\n",
    "\n",
    "plt.xlabel('Days')\n",
    "plt.ylabel('Patients')\n",
    "plt.title('Initial Days when Readmitted = \\'Yes\\'');"
   ]
  },
  {
   "cell_type": "code",
   "execution_count": 31,
   "id": "e5754a78-7dae-4616-9b4a-27e3870faa21",
   "metadata": {
    "tags": []
   },
   "outputs": [
    {
     "data": {
      "image/png": "[encoded data removed]",
      "text/plain": [
       "<Figure size 432x288 with 1 Axes>"
      ]
     },
     "metadata": {
      "needs_background": "light"
     },
     "output_type": "display_data"
    }
   ],
   "source": [
    "# Bivariate: When readmissions didn't happen\n",
    "readmis_df = focus_df.loc[focus_df['ReAdmis'] == 'No', 'Initial_days'].plot.hist(bins=10)\n",
    "\n",
    "plt.xlabel('Days')\n",
    "plt.ylabel('Patients')\n",
    "plt.title('Initial Days when Readmitted = \\'No\\'');"
   ]
  }
 ],
 "metadata": {
  "kernelspec": {
   "display_name": "Python 3",
   "language": "python",
   "name": "python3"
  },
  "language_info": {
   "codemirror_mode": {
    "name": "ipython",
    "version": 3
   },
   "file_extension": ".py",
   "mimetype": "text/x-python",
   "name": "python",
   "nbconvert_exporter": "python",
   "pygments_lexer": "ipython3",
   "version": "3.8.8"
  }
 },
 "nbformat": 4,
 "nbformat_minor": 5
}
