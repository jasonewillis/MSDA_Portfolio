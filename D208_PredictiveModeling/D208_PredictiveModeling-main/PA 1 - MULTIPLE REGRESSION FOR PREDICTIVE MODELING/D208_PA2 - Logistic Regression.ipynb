{
 "cells": [
  {
   "cell_type": "markdown",
   "id": "362e3a6c-65f0-4e2f-bb95-76e95dbf6884",
   "metadata": {},
   "source": [
    "## D208 - Predictive Modeling"
   ]
  },
  {
   "cell_type": "markdown",
   "id": "f05d995c-ec84-4bf0-a0ed-c29c32dfffa7",
   "metadata": {},
   "source": [
    "### Import Libraries"
   ]
  },
  {
   "cell_type": "code",
   "execution_count": 201,
   "id": "a6cec4a3-2f53-4179-b9b5-05e9b14aed77",
   "metadata": {},
   "outputs": [],
   "source": [
    "import pandas as pd\n",
    "import numpy as np\n",
    "import matplotlib.pyplot as plt\n",
    "import seaborn as sns\n",
    "%matplotlib inline\n",
    "import statsmodels.api as sm\n",
    "from pandas import DataFrame\n",
    "from sklearn.metrics import mean_absolute_error"
   ]
  },
  {
   "cell_type": "markdown",
   "id": "5976c632-9944-42dd-bc99-1f05a4ae18b2",
   "metadata": {},
   "source": [
    "### Load Data From medical_clean.csv"
   ]
  },
  {
   "cell_type": "code",
   "execution_count": 202,
   "id": "f42c639e-1aba-463f-8a98-cca68d3471ff",
   "metadata": {},
   "outputs": [
    {
     "data": {
      "text/html": [
       "<div>\n",
       "<style scoped>\n",
       "    .dataframe tbody tr th:only-of-type {\n",
       "        vertical-align: middle;\n",
       "    }\n",
       "\n",
       "    .dataframe tbody tr th {\n",
       "        vertical-align: top;\n",
       "    }\n",
       "\n",
       "    .dataframe thead th {\n",
       "        text-align: right;\n",
       "    }\n",
       "</style>\n",
       "<table border=\"1\" class=\"dataframe\">\n",
       "  <thead>\n",
       "    <tr style=\"text-align: right;\">\n",
       "      <th></th>\n",
       "      <th>CaseOrder</th>\n",
       "      <th>Customer_id</th>\n",
       "      <th>Interaction</th>\n",
       "      <th>UID</th>\n",
       "      <th>City</th>\n",
       "      <th>State</th>\n",
       "      <th>County</th>\n",
       "      <th>Zip</th>\n",
       "      <th>Lat</th>\n",
       "      <th>Lng</th>\n",
       "      <th>...</th>\n",
       "      <th>TotalCharge</th>\n",
       "      <th>Additional_charges</th>\n",
       "      <th>Item1</th>\n",
       "      <th>Item2</th>\n",
       "      <th>Item3</th>\n",
       "      <th>Item4</th>\n",
       "      <th>Item5</th>\n",
       "      <th>Item6</th>\n",
       "      <th>Item7</th>\n",
       "      <th>Item8</th>\n",
       "    </tr>\n",
       "  </thead>\n",
       "  <tbody>\n",
       "    <tr>\n",
       "      <th>0</th>\n",
       "      <td>1</td>\n",
       "      <td>C412403</td>\n",
       "      <td>8cd49b13-f45a-4b47-a2bd-173ffa932c2f</td>\n",
       "      <td>3a83ddb66e2ae73798bdf1d705dc0932</td>\n",
       "      <td>Eva</td>\n",
       "      <td>AL</td>\n",
       "      <td>Morgan</td>\n",
       "      <td>35621</td>\n",
       "      <td>34.34960</td>\n",
       "      <td>-86.72508</td>\n",
       "      <td>...</td>\n",
       "      <td>3726.702860</td>\n",
       "      <td>17939.403420</td>\n",
       "      <td>3</td>\n",
       "      <td>3</td>\n",
       "      <td>2</td>\n",
       "      <td>2</td>\n",
       "      <td>4</td>\n",
       "      <td>3</td>\n",
       "      <td>3</td>\n",
       "      <td>4</td>\n",
       "    </tr>\n",
       "    <tr>\n",
       "      <th>1</th>\n",
       "      <td>2</td>\n",
       "      <td>Z919181</td>\n",
       "      <td>d2450b70-0337-4406-bdbb-bc1037f1734c</td>\n",
       "      <td>176354c5eef714957d486009feabf195</td>\n",
       "      <td>Marianna</td>\n",
       "      <td>FL</td>\n",
       "      <td>Jackson</td>\n",
       "      <td>32446</td>\n",
       "      <td>30.84513</td>\n",
       "      <td>-85.22907</td>\n",
       "      <td>...</td>\n",
       "      <td>4193.190458</td>\n",
       "      <td>17612.998120</td>\n",
       "      <td>3</td>\n",
       "      <td>4</td>\n",
       "      <td>3</td>\n",
       "      <td>4</td>\n",
       "      <td>4</td>\n",
       "      <td>4</td>\n",
       "      <td>3</td>\n",
       "      <td>3</td>\n",
       "    </tr>\n",
       "    <tr>\n",
       "      <th>2</th>\n",
       "      <td>3</td>\n",
       "      <td>F995323</td>\n",
       "      <td>a2057123-abf5-4a2c-abad-8ffe33512562</td>\n",
       "      <td>e19a0fa00aeda885b8a436757e889bc9</td>\n",
       "      <td>Sioux Falls</td>\n",
       "      <td>SD</td>\n",
       "      <td>Minnehaha</td>\n",
       "      <td>57110</td>\n",
       "      <td>43.54321</td>\n",
       "      <td>-96.63772</td>\n",
       "      <td>...</td>\n",
       "      <td>2434.234222</td>\n",
       "      <td>17505.192460</td>\n",
       "      <td>2</td>\n",
       "      <td>4</td>\n",
       "      <td>4</td>\n",
       "      <td>4</td>\n",
       "      <td>3</td>\n",
       "      <td>4</td>\n",
       "      <td>3</td>\n",
       "      <td>3</td>\n",
       "    </tr>\n",
       "    <tr>\n",
       "      <th>3</th>\n",
       "      <td>4</td>\n",
       "      <td>A879973</td>\n",
       "      <td>1dec528d-eb34-4079-adce-0d7a40e82205</td>\n",
       "      <td>cd17d7b6d152cb6f23957346d11c3f07</td>\n",
       "      <td>New Richland</td>\n",
       "      <td>MN</td>\n",
       "      <td>Waseca</td>\n",
       "      <td>56072</td>\n",
       "      <td>43.89744</td>\n",
       "      <td>-93.51479</td>\n",
       "      <td>...</td>\n",
       "      <td>2127.830423</td>\n",
       "      <td>12993.437350</td>\n",
       "      <td>3</td>\n",
       "      <td>5</td>\n",
       "      <td>5</td>\n",
       "      <td>3</td>\n",
       "      <td>4</td>\n",
       "      <td>5</td>\n",
       "      <td>5</td>\n",
       "      <td>5</td>\n",
       "    </tr>\n",
       "    <tr>\n",
       "      <th>4</th>\n",
       "      <td>5</td>\n",
       "      <td>C544523</td>\n",
       "      <td>5885f56b-d6da-43a3-8760-83583af94266</td>\n",
       "      <td>d2f0425877b10ed6bb381f3e2579424a</td>\n",
       "      <td>West Point</td>\n",
       "      <td>VA</td>\n",
       "      <td>King William</td>\n",
       "      <td>23181</td>\n",
       "      <td>37.59894</td>\n",
       "      <td>-76.88958</td>\n",
       "      <td>...</td>\n",
       "      <td>2113.073274</td>\n",
       "      <td>3716.525786</td>\n",
       "      <td>2</td>\n",
       "      <td>1</td>\n",
       "      <td>3</td>\n",
       "      <td>3</td>\n",
       "      <td>5</td>\n",
       "      <td>3</td>\n",
       "      <td>4</td>\n",
       "      <td>3</td>\n",
       "    </tr>\n",
       "  </tbody>\n",
       "</table>\n",
       "<p>5 rows × 50 columns</p>\n",
       "</div>"
      ],
      "text/plain": [
       "   CaseOrder Customer_id                           Interaction  \\\n",
       "0          1     C412403  8cd49b13-f45a-4b47-a2bd-173ffa932c2f   \n",
       "1          2     Z919181  d2450b70-0337-4406-bdbb-bc1037f1734c   \n",
       "2          3     F995323  a2057123-abf5-4a2c-abad-8ffe33512562   \n",
       "3          4     A879973  1dec528d-eb34-4079-adce-0d7a40e82205   \n",
       "4          5     C544523  5885f56b-d6da-43a3-8760-83583af94266   \n",
       "\n",
       "                                UID          City State        County    Zip  \\\n",
       "0  3a83ddb66e2ae73798bdf1d705dc0932           Eva    AL        Morgan  35621   \n",
       "1  176354c5eef714957d486009feabf195      Marianna    FL       Jackson  32446   \n",
       "2  e19a0fa00aeda885b8a436757e889bc9   Sioux Falls    SD     Minnehaha  57110   \n",
       "3  cd17d7b6d152cb6f23957346d11c3f07  New Richland    MN        Waseca  56072   \n",
       "4  d2f0425877b10ed6bb381f3e2579424a    West Point    VA  King William  23181   \n",
       "\n",
       "        Lat       Lng  ...  TotalCharge Additional_charges Item1 Item2  Item3  \\\n",
       "0  34.34960 -86.72508  ...  3726.702860       17939.403420     3     3      2   \n",
       "1  30.84513 -85.22907  ...  4193.190458       17612.998120     3     4      3   \n",
       "2  43.54321 -96.63772  ...  2434.234222       17505.192460     2     4      4   \n",
       "3  43.89744 -93.51479  ...  2127.830423       12993.437350     3     5      5   \n",
       "4  37.59894 -76.88958  ...  2113.073274        3716.525786     2     1      3   \n",
       "\n",
       "   Item4  Item5 Item6 Item7 Item8  \n",
       "0      2      4     3     3     4  \n",
       "1      4      4     4     3     3  \n",
       "2      4      3     4     3     3  \n",
       "3      3      4     5     5     5  \n",
       "4      3      5     3     4     3  \n",
       "\n",
       "[5 rows x 50 columns]"
      ]
     },
     "execution_count": 202,
     "metadata": {},
     "output_type": "execute_result"
    }
   ],
   "source": [
    "# load data file\n",
    "train = pd.read_csv('medical_clean.csv')\n",
    "# quick test the data is present and see the shape\n",
    "train.head()"
   ]
  },
  {
   "cell_type": "markdown",
   "id": "f0167656-2359-4168-becb-af38b2ca598a",
   "metadata": {},
   "source": [
    "#### Exploratory Data Analysis"
   ]
  },
  {
   "cell_type": "code",
   "execution_count": 203,
   "id": "71fe2be3-93e3-4585-b544-1ad4040b4ea4",
   "metadata": {},
   "outputs": [
    {
     "data": {
      "image/png": "[encoded data removed]",
      "text/plain": [
       "<Figure size 432x288 with 1 Axes>"
      ]
     },
     "metadata": {
      "needs_background": "light"
     },
     "output_type": "display_data"
    }
   ],
   "source": [
    "# Mapping Vis to view missing data...none present.\n",
    "sns.heatmap(train.isnull(), yticklabels=False, cbar=False, cmap='viridis');"
   ]
  },
  {
   "cell_type": "code",
   "execution_count": 204,
   "id": "53e27b72-bd53-4252-8f32-5bd3c34a795b",
   "metadata": {},
   "outputs": [],
   "source": [
    "sns.set_style('whitegrid')"
   ]
  },
  {
   "cell_type": "code",
   "execution_count": 205,
   "id": "f2d72b89-ab91-4e00-91a5-be1eb79e2f83",
   "metadata": {},
   "outputs": [
    {
     "data": {
      "image/png": "[encoded data removed]",
      "text/plain": [
       "<Figure size 432x288 with 1 Axes>"
      ]
     },
     "metadata": {},
     "output_type": "display_data"
    }
   ],
   "source": [
    "sns.countplot(x='ReAdmis', hue='Gender', data=train);"
   ]
  },
  {
   "cell_type": "code",
   "execution_count": 206,
   "id": "6c83e9a0-b5a6-4e90-b2fd-f309b2fe312f",
   "metadata": {},
   "outputs": [
    {
     "data": {
      "image/png": "[encoded data removed]",
      "text/plain": [
       "<Figure size 432x288 with 1 Axes>"
      ]
     },
     "metadata": {},
     "output_type": "display_data"
    }
   ],
   "source": [
    "sns.histplot(hue=\"ReAdmis\", x=\"Age\", binwidth=10, data=train);\n",
    "plt.show()"
   ]
  },
  {
   "cell_type": "code",
   "execution_count": 207,
   "id": "08a69555-8e44-4875-bb9b-b5bcaac8d20a",
   "metadata": {},
   "outputs": [
    {
     "name": "stdout",
     "output_type": "stream",
     "text": [
      "<class 'pandas.core.frame.DataFrame'>\n",
      "RangeIndex: 10000 entries, 0 to 9999\n",
      "Data columns (total 50 columns):\n",
      " #   Column              Non-Null Count  Dtype  \n",
      "---  ------              --------------  -----  \n",
      " 0   CaseOrder           10000 non-null  int64  \n",
      " 1   Customer_id         10000 non-null  object \n",
      " 2   Interaction         10000 non-null  object \n",
      " 3   UID                 10000 non-null  object \n",
      " 4   City                10000 non-null  object \n",
      " 5   State               10000 non-null  object \n",
      " 6   County              10000 non-null  object \n",
      " 7   Zip                 10000 non-null  int64  \n",
      " 8   Lat                 10000 non-null  float64\n",
      " 9   Lng                 10000 non-null  float64\n",
      " 10  Population          10000 non-null  int64  \n",
      " 11  Area                10000 non-null  object \n",
      " 12  TimeZone            10000 non-null  object \n",
      " 13  Job                 10000 non-null  object \n",
      " 14  Children            10000 non-null  int64  \n",
      " 15  Age                 10000 non-null  int64  \n",
      " 16  Income              10000 non-null  float64\n",
      " 17  Marital             10000 non-null  object \n",
      " 18  Gender              10000 non-null  object \n",
      " 19  ReAdmis             10000 non-null  object \n",
      " 20  VitD_levels         10000 non-null  float64\n",
      " 21  Doc_visits          10000 non-null  int64  \n",
      " 22  Full_meals_eaten    10000 non-null  int64  \n",
      " 23  vitD_supp           10000 non-null  int64  \n",
      " 24  Soft_drink          10000 non-null  object \n",
      " 25  Initial_admin       10000 non-null  object \n",
      " 26  HighBlood           10000 non-null  object \n",
      " 27  Stroke              10000 non-null  object \n",
      " 28  Complication_risk   10000 non-null  object \n",
      " 29  Overweight          10000 non-null  object \n",
      " 30  Arthritis           10000 non-null  object \n",
      " 31  Diabetes            10000 non-null  object \n",
      " 32  Hyperlipidemia      10000 non-null  object \n",
      " 33  BackPain            10000 non-null  object \n",
      " 34  Anxiety             10000 non-null  object \n",
      " 35  Allergic_rhinitis   10000 non-null  object \n",
      " 36  Reflux_esophagitis  10000 non-null  object \n",
      " 37  Asthma              10000 non-null  object \n",
      " 38  Services            10000 non-null  object \n",
      " 39  Initial_days        10000 non-null  float64\n",
      " 40  TotalCharge         10000 non-null  float64\n",
      " 41  Additional_charges  10000 non-null  float64\n",
      " 42  Item1               10000 non-null  int64  \n",
      " 43  Item2               10000 non-null  int64  \n",
      " 44  Item3               10000 non-null  int64  \n",
      " 45  Item4               10000 non-null  int64  \n",
      " 46  Item5               10000 non-null  int64  \n",
      " 47  Item6               10000 non-null  int64  \n",
      " 48  Item7               10000 non-null  int64  \n",
      " 49  Item8               10000 non-null  int64  \n",
      "dtypes: float64(7), int64(16), object(27)\n",
      "memory usage: 3.8+ MB\n"
     ]
    }
   ],
   "source": [
    "train.info()"
   ]
  },
  {
   "cell_type": "code",
   "execution_count": 208,
   "id": "b7ded7fb-15b8-437f-bd81-94a81bd7d772",
   "metadata": {},
   "outputs": [
    {
     "data": {
      "text/plain": [
       "<AxesSubplot:xlabel='Initial_admin', ylabel='count'>"
      ]
     },
     "execution_count": 208,
     "metadata": {},
     "output_type": "execute_result"
    },
    {
     "data": {
      "image/png": "[encoded data removed]",
      "text/plain": [
       "<Figure size 432x288 with 1 Axes>"
      ]
     },
     "metadata": {},
     "output_type": "display_data"
    }
   ],
   "source": [
    "sns.countplot(x='Initial_admin', data=train)"
   ]
  },
  {
   "cell_type": "code",
   "execution_count": 209,
   "id": "9dec5482-cce7-4280-a70e-1d743419b99f",
   "metadata": {},
   "outputs": [
    {
     "data": {
      "image/png": "[encoded data removed]",
      "text/plain": [
       "<Figure size 720x360 with 1 Axes>"
      ]
     },
     "metadata": {},
     "output_type": "display_data"
    }
   ],
   "source": [
    "train['TotalCharge'].hist(bins=50, figsize=(10,5));"
   ]
  },
  {
   "cell_type": "code",
   "execution_count": 210,
   "id": "62c6fbb2-cd46-4f8a-af27-03635505ed46",
   "metadata": {},
   "outputs": [
    {
     "data": {
      "image/png": "[encoded data removed]",
      "text/plain": [
       "<Figure size 720x360 with 1 Axes>"
      ]
     },
     "metadata": {},
     "output_type": "display_data"
    }
   ],
   "source": [
    "train['Initial_days'].hist(bins=50, figsize=(10,5));"
   ]
  },
  {
   "cell_type": "code",
   "execution_count": 211,
   "id": "d1b09a6b-281b-4fc8-a90c-fcbdae3e5038",
   "metadata": {},
   "outputs": [
    {
     "data": {
      "image/png": "[encoded data removed]",
      "text/plain": [
       "<Figure size 720x360 with 1 Axes>"
      ]
     },
     "metadata": {},
     "output_type": "display_data"
    }
   ],
   "source": [
    "plt.figure(figsize=(10, 5))\n",
    "sns.boxplot(x='ReAdmis', y='Initial_days', data=train);"
   ]
  },
  {
   "cell_type": "code",
   "execution_count": 212,
   "id": "974037fa-4d13-4b02-bea5-427faf047807",
   "metadata": {},
   "outputs": [
    {
     "data": {
      "image/png": "[encoded data removed]",
      "text/plain": [
       "<Figure size 720x360 with 1 Axes>"
      ]
     },
     "metadata": {},
     "output_type": "display_data"
    }
   ],
   "source": [
    "plt.figure(figsize=(10, 5))\n",
    "sns.boxplot(x='Area', y='Initial_days', data=train);"
   ]
  },
  {
   "cell_type": "code",
   "execution_count": 213,
   "id": "8cc5fbe0-44bb-4e26-8801-1a4522ca480a",
   "metadata": {},
   "outputs": [
    {
     "data": {
      "image/png": "[encoded data removed]",
      "text/plain": [
       "<Figure size 1080x576 with 1 Axes>"
      ]
     },
     "metadata": {},
     "output_type": "display_data"
    }
   ],
   "source": [
    "plt.figure(figsize=(15, 8))\n",
    "sns.boxplot(x='TimeZone', y='Initial_days', data=train);"
   ]
  },
  {
   "cell_type": "code",
   "execution_count": 214,
   "id": "bdeddfaa-094d-4814-a188-865c7d7c37e5",
   "metadata": {},
   "outputs": [
    {
     "data": {
      "image/png": "[encoded data removed]",
      "text/plain": [
       "<Figure size 720x360 with 1 Axes>"
      ]
     },
     "metadata": {},
     "output_type": "display_data"
    }
   ],
   "source": [
    "plt.figure(figsize=(10, 5))\n",
    "sns.boxplot(x='Marital', y='Initial_days', data=train);"
   ]
  },
  {
   "cell_type": "markdown",
   "id": "5b5b5167-7344-48b3-8d0d-7fe51879d38e",
   "metadata": {},
   "source": [
    "### Convert Categorical Features"
   ]
  },
  {
   "cell_type": "code",
   "execution_count": 215,
   "id": "d2c1b5db-26b6-424d-b0db-c447a213cb7a",
   "metadata": {},
   "outputs": [
    {
     "data": {
      "text/html": [
       "<div>\n",
       "<style scoped>\n",
       "    .dataframe tbody tr th:only-of-type {\n",
       "        vertical-align: middle;\n",
       "    }\n",
       "\n",
       "    .dataframe tbody tr th {\n",
       "        vertical-align: top;\n",
       "    }\n",
       "\n",
       "    .dataframe thead th {\n",
       "        text-align: right;\n",
       "    }\n",
       "</style>\n",
       "<table border=\"1\" class=\"dataframe\">\n",
       "  <thead>\n",
       "    <tr style=\"text-align: right;\">\n",
       "      <th></th>\n",
       "      <th>Customer_id</th>\n",
       "      <th>Interaction</th>\n",
       "      <th>UID</th>\n",
       "      <th>City</th>\n",
       "      <th>State</th>\n",
       "      <th>County</th>\n",
       "      <th>Area</th>\n",
       "      <th>TimeZone</th>\n",
       "      <th>Job</th>\n",
       "      <th>Marital</th>\n",
       "      <th>...</th>\n",
       "      <th>Overweight</th>\n",
       "      <th>Arthritis</th>\n",
       "      <th>Diabetes</th>\n",
       "      <th>Hyperlipidemia</th>\n",
       "      <th>BackPain</th>\n",
       "      <th>Anxiety</th>\n",
       "      <th>Allergic_rhinitis</th>\n",
       "      <th>Reflux_esophagitis</th>\n",
       "      <th>Asthma</th>\n",
       "      <th>Services</th>\n",
       "    </tr>\n",
       "  </thead>\n",
       "  <tbody>\n",
       "    <tr>\n",
       "      <th>0</th>\n",
       "      <td>C412403</td>\n",
       "      <td>8cd49b13-f45a-4b47-a2bd-173ffa932c2f</td>\n",
       "      <td>3a83ddb66e2ae73798bdf1d705dc0932</td>\n",
       "      <td>Eva</td>\n",
       "      <td>AL</td>\n",
       "      <td>Morgan</td>\n",
       "      <td>Suburban</td>\n",
       "      <td>America/Chicago</td>\n",
       "      <td>Psychologist, sport and exercise</td>\n",
       "      <td>Divorced</td>\n",
       "      <td>...</td>\n",
       "      <td>No</td>\n",
       "      <td>Yes</td>\n",
       "      <td>Yes</td>\n",
       "      <td>No</td>\n",
       "      <td>Yes</td>\n",
       "      <td>Yes</td>\n",
       "      <td>Yes</td>\n",
       "      <td>No</td>\n",
       "      <td>Yes</td>\n",
       "      <td>Blood Work</td>\n",
       "    </tr>\n",
       "    <tr>\n",
       "      <th>1</th>\n",
       "      <td>Z919181</td>\n",
       "      <td>d2450b70-0337-4406-bdbb-bc1037f1734c</td>\n",
       "      <td>176354c5eef714957d486009feabf195</td>\n",
       "      <td>Marianna</td>\n",
       "      <td>FL</td>\n",
       "      <td>Jackson</td>\n",
       "      <td>Urban</td>\n",
       "      <td>America/Chicago</td>\n",
       "      <td>Community development worker</td>\n",
       "      <td>Married</td>\n",
       "      <td>...</td>\n",
       "      <td>Yes</td>\n",
       "      <td>No</td>\n",
       "      <td>No</td>\n",
       "      <td>No</td>\n",
       "      <td>No</td>\n",
       "      <td>No</td>\n",
       "      <td>No</td>\n",
       "      <td>Yes</td>\n",
       "      <td>No</td>\n",
       "      <td>Intravenous</td>\n",
       "    </tr>\n",
       "    <tr>\n",
       "      <th>2</th>\n",
       "      <td>F995323</td>\n",
       "      <td>a2057123-abf5-4a2c-abad-8ffe33512562</td>\n",
       "      <td>e19a0fa00aeda885b8a436757e889bc9</td>\n",
       "      <td>Sioux Falls</td>\n",
       "      <td>SD</td>\n",
       "      <td>Minnehaha</td>\n",
       "      <td>Suburban</td>\n",
       "      <td>America/Chicago</td>\n",
       "      <td>Chief Executive Officer</td>\n",
       "      <td>Widowed</td>\n",
       "      <td>...</td>\n",
       "      <td>Yes</td>\n",
       "      <td>No</td>\n",
       "      <td>Yes</td>\n",
       "      <td>No</td>\n",
       "      <td>No</td>\n",
       "      <td>No</td>\n",
       "      <td>No</td>\n",
       "      <td>No</td>\n",
       "      <td>No</td>\n",
       "      <td>Blood Work</td>\n",
       "    </tr>\n",
       "    <tr>\n",
       "      <th>3</th>\n",
       "      <td>A879973</td>\n",
       "      <td>1dec528d-eb34-4079-adce-0d7a40e82205</td>\n",
       "      <td>cd17d7b6d152cb6f23957346d11c3f07</td>\n",
       "      <td>New Richland</td>\n",
       "      <td>MN</td>\n",
       "      <td>Waseca</td>\n",
       "      <td>Suburban</td>\n",
       "      <td>America/Chicago</td>\n",
       "      <td>Early years teacher</td>\n",
       "      <td>Married</td>\n",
       "      <td>...</td>\n",
       "      <td>No</td>\n",
       "      <td>Yes</td>\n",
       "      <td>No</td>\n",
       "      <td>No</td>\n",
       "      <td>No</td>\n",
       "      <td>No</td>\n",
       "      <td>No</td>\n",
       "      <td>Yes</td>\n",
       "      <td>Yes</td>\n",
       "      <td>Blood Work</td>\n",
       "    </tr>\n",
       "    <tr>\n",
       "      <th>4</th>\n",
       "      <td>C544523</td>\n",
       "      <td>5885f56b-d6da-43a3-8760-83583af94266</td>\n",
       "      <td>d2f0425877b10ed6bb381f3e2579424a</td>\n",
       "      <td>West Point</td>\n",
       "      <td>VA</td>\n",
       "      <td>King William</td>\n",
       "      <td>Rural</td>\n",
       "      <td>America/New_York</td>\n",
       "      <td>Health promotion specialist</td>\n",
       "      <td>Widowed</td>\n",
       "      <td>...</td>\n",
       "      <td>No</td>\n",
       "      <td>No</td>\n",
       "      <td>No</td>\n",
       "      <td>Yes</td>\n",
       "      <td>No</td>\n",
       "      <td>No</td>\n",
       "      <td>Yes</td>\n",
       "      <td>No</td>\n",
       "      <td>No</td>\n",
       "      <td>CT Scan</td>\n",
       "    </tr>\n",
       "  </tbody>\n",
       "</table>\n",
       "<p>5 rows × 27 columns</p>\n",
       "</div>"
      ],
      "text/plain": [
       "  Customer_id                           Interaction  \\\n",
       "0     C412403  8cd49b13-f45a-4b47-a2bd-173ffa932c2f   \n",
       "1     Z919181  d2450b70-0337-4406-bdbb-bc1037f1734c   \n",
       "2     F995323  a2057123-abf5-4a2c-abad-8ffe33512562   \n",
       "3     A879973  1dec528d-eb34-4079-adce-0d7a40e82205   \n",
       "4     C544523  5885f56b-d6da-43a3-8760-83583af94266   \n",
       "\n",
       "                                UID          City State        County  \\\n",
       "0  3a83ddb66e2ae73798bdf1d705dc0932           Eva    AL        Morgan   \n",
       "1  176354c5eef714957d486009feabf195      Marianna    FL       Jackson   \n",
       "2  e19a0fa00aeda885b8a436757e889bc9   Sioux Falls    SD     Minnehaha   \n",
       "3  cd17d7b6d152cb6f23957346d11c3f07  New Richland    MN        Waseca   \n",
       "4  d2f0425877b10ed6bb381f3e2579424a    West Point    VA  King William   \n",
       "\n",
       "       Area          TimeZone                               Job   Marital  \\\n",
       "0  Suburban   America/Chicago  Psychologist, sport and exercise  Divorced   \n",
       "1     Urban   America/Chicago      Community development worker   Married   \n",
       "2  Suburban   America/Chicago           Chief Executive Officer   Widowed   \n",
       "3  Suburban   America/Chicago               Early years teacher   Married   \n",
       "4     Rural  America/New_York       Health promotion specialist   Widowed   \n",
       "\n",
       "   ... Overweight Arthritis Diabetes Hyperlipidemia BackPain Anxiety  \\\n",
       "0  ...         No       Yes      Yes             No      Yes     Yes   \n",
       "1  ...        Yes        No       No             No       No      No   \n",
       "2  ...        Yes        No      Yes             No       No      No   \n",
       "3  ...         No       Yes       No             No       No      No   \n",
       "4  ...         No        No       No            Yes       No      No   \n",
       "\n",
       "  Allergic_rhinitis Reflux_esophagitis Asthma     Services  \n",
       "0               Yes                 No    Yes   Blood Work  \n",
       "1                No                Yes     No  Intravenous  \n",
       "2                No                 No     No   Blood Work  \n",
       "3                No                Yes    Yes   Blood Work  \n",
       "4               Yes                 No     No      CT Scan  \n",
       "\n",
       "[5 rows x 27 columns]"
      ]
     },
     "execution_count": 215,
     "metadata": {},
     "output_type": "execute_result"
    }
   ],
   "source": [
    "train_cat = train.select_dtypes(exclude='number')\n",
    "train_cat.head()"
   ]
  },
  {
   "cell_type": "code",
   "execution_count": 216,
   "id": "060df550-ccd0-4c52-8170-3a1cfea8c2e3",
   "metadata": {
    "tags": []
   },
   "outputs": [
    {
     "data": {
      "text/plain": [
       "Index(['Customer_id', 'Interaction', 'UID', 'City', 'State', 'County', 'Area',\n",
       "       'TimeZone', 'Job', 'Marital', 'Gender', 'ReAdmis', 'Soft_drink',\n",
       "       'Initial_admin', 'HighBlood', 'Stroke', 'Complication_risk',\n",
       "       'Overweight', 'Arthritis', 'Diabetes', 'Hyperlipidemia', 'BackPain',\n",
       "       'Anxiety', 'Allergic_rhinitis', 'Reflux_esophagitis', 'Asthma',\n",
       "       'Services'],\n",
       "      dtype='object')"
      ]
     },
     "execution_count": 216,
     "metadata": {},
     "output_type": "execute_result"
    }
   ],
   "source": [
    "train_cat.columns"
   ]
  },
  {
   "cell_type": "code",
   "execution_count": 217,
   "id": "ada8973f-14a9-4ea7-a293-3861a8212465",
   "metadata": {},
   "outputs": [
    {
     "data": {
      "text/html": [
       "<div>\n",
       "<style scoped>\n",
       "    .dataframe tbody tr th:only-of-type {\n",
       "        vertical-align: middle;\n",
       "    }\n",
       "\n",
       "    .dataframe tbody tr th {\n",
       "        vertical-align: top;\n",
       "    }\n",
       "\n",
       "    .dataframe thead th {\n",
       "        text-align: right;\n",
       "    }\n",
       "</style>\n",
       "<table border=\"1\" class=\"dataframe\">\n",
       "  <thead>\n",
       "    <tr style=\"text-align: right;\">\n",
       "      <th></th>\n",
       "      <th>No</th>\n",
       "      <th>Yes</th>\n",
       "    </tr>\n",
       "  </thead>\n",
       "  <tbody>\n",
       "    <tr>\n",
       "      <th>0</th>\n",
       "      <td>1</td>\n",
       "      <td>0</td>\n",
       "    </tr>\n",
       "    <tr>\n",
       "      <th>1</th>\n",
       "      <td>1</td>\n",
       "      <td>0</td>\n",
       "    </tr>\n",
       "    <tr>\n",
       "      <th>2</th>\n",
       "      <td>1</td>\n",
       "      <td>0</td>\n",
       "    </tr>\n",
       "    <tr>\n",
       "      <th>3</th>\n",
       "      <td>1</td>\n",
       "      <td>0</td>\n",
       "    </tr>\n",
       "    <tr>\n",
       "      <th>4</th>\n",
       "      <td>1</td>\n",
       "      <td>0</td>\n",
       "    </tr>\n",
       "    <tr>\n",
       "      <th>...</th>\n",
       "      <td>...</td>\n",
       "      <td>...</td>\n",
       "    </tr>\n",
       "    <tr>\n",
       "      <th>9995</th>\n",
       "      <td>1</td>\n",
       "      <td>0</td>\n",
       "    </tr>\n",
       "    <tr>\n",
       "      <th>9996</th>\n",
       "      <td>0</td>\n",
       "      <td>1</td>\n",
       "    </tr>\n",
       "    <tr>\n",
       "      <th>9997</th>\n",
       "      <td>0</td>\n",
       "      <td>1</td>\n",
       "    </tr>\n",
       "    <tr>\n",
       "      <th>9998</th>\n",
       "      <td>0</td>\n",
       "      <td>1</td>\n",
       "    </tr>\n",
       "    <tr>\n",
       "      <th>9999</th>\n",
       "      <td>0</td>\n",
       "      <td>1</td>\n",
       "    </tr>\n",
       "  </tbody>\n",
       "</table>\n",
       "<p>10000 rows × 2 columns</p>\n",
       "</div>"
      ],
      "text/plain": [
       "      No  Yes\n",
       "0      1    0\n",
       "1      1    0\n",
       "2      1    0\n",
       "3      1    0\n",
       "4      1    0\n",
       "...   ..  ...\n",
       "9995   1    0\n",
       "9996   0    1\n",
       "9997   0    1\n",
       "9998   0    1\n",
       "9999   0    1\n",
       "\n",
       "[10000 rows x 2 columns]"
      ]
     },
     "execution_count": 217,
     "metadata": {},
     "output_type": "execute_result"
    }
   ],
   "source": [
    "pd.get_dummies(train['ReAdmis'])"
   ]
  },
  {
   "cell_type": "code",
   "execution_count": 218,
   "id": "f0205442-e5d2-42e5-8544-8938e945958d",
   "metadata": {},
   "outputs": [],
   "source": [
    "# Drop First Column (Female) due to Multicolliniarity ... Since there is a nonbinary column, do I need to do this?\n",
    "# gender = pd.get_dummies(train['Gender'], drop_first=True)\n",
    "readmis = pd.get_dummies(train['ReAdmis'], drop_first=True)"
   ]
  },
  {
   "cell_type": "code",
   "execution_count": 220,
   "id": "f765558e-a8c9-4afc-a98b-1dc155e3faf1",
   "metadata": {},
   "outputs": [
    {
     "data": {
      "text/html": [
       "<div>\n",
       "<style scoped>\n",
       "    .dataframe tbody tr th:only-of-type {\n",
       "        vertical-align: middle;\n",
       "    }\n",
       "\n",
       "    .dataframe tbody tr th {\n",
       "        vertical-align: top;\n",
       "    }\n",
       "\n",
       "    .dataframe thead th {\n",
       "        text-align: right;\n",
       "    }\n",
       "</style>\n",
       "<table border=\"1\" class=\"dataframe\">\n",
       "  <thead>\n",
       "    <tr style=\"text-align: right;\">\n",
       "      <th></th>\n",
       "      <th>CaseOrder</th>\n",
       "      <th>Customer_id</th>\n",
       "      <th>Interaction</th>\n",
       "      <th>UID</th>\n",
       "      <th>City</th>\n",
       "      <th>State</th>\n",
       "      <th>County</th>\n",
       "      <th>Zip</th>\n",
       "      <th>Lat</th>\n",
       "      <th>Lng</th>\n",
       "      <th>...</th>\n",
       "      <th>Item1</th>\n",
       "      <th>Item2</th>\n",
       "      <th>Item3</th>\n",
       "      <th>Item4</th>\n",
       "      <th>Item5</th>\n",
       "      <th>Item6</th>\n",
       "      <th>Item7</th>\n",
       "      <th>Item8</th>\n",
       "      <th>Yes</th>\n",
       "      <th>Yes</th>\n",
       "    </tr>\n",
       "  </thead>\n",
       "  <tbody>\n",
       "    <tr>\n",
       "      <th>0</th>\n",
       "      <td>1</td>\n",
       "      <td>C412403</td>\n",
       "      <td>8cd49b13-f45a-4b47-a2bd-173ffa932c2f</td>\n",
       "      <td>3a83ddb66e2ae73798bdf1d705dc0932</td>\n",
       "      <td>Eva</td>\n",
       "      <td>AL</td>\n",
       "      <td>Morgan</td>\n",
       "      <td>35621</td>\n",
       "      <td>34.34960</td>\n",
       "      <td>-86.72508</td>\n",
       "      <td>...</td>\n",
       "      <td>3</td>\n",
       "      <td>3</td>\n",
       "      <td>2</td>\n",
       "      <td>2</td>\n",
       "      <td>4</td>\n",
       "      <td>3</td>\n",
       "      <td>3</td>\n",
       "      <td>4</td>\n",
       "      <td>0</td>\n",
       "      <td>0</td>\n",
       "    </tr>\n",
       "    <tr>\n",
       "      <th>1</th>\n",
       "      <td>2</td>\n",
       "      <td>Z919181</td>\n",
       "      <td>d2450b70-0337-4406-bdbb-bc1037f1734c</td>\n",
       "      <td>176354c5eef714957d486009feabf195</td>\n",
       "      <td>Marianna</td>\n",
       "      <td>FL</td>\n",
       "      <td>Jackson</td>\n",
       "      <td>32446</td>\n",
       "      <td>30.84513</td>\n",
       "      <td>-85.22907</td>\n",
       "      <td>...</td>\n",
       "      <td>3</td>\n",
       "      <td>4</td>\n",
       "      <td>3</td>\n",
       "      <td>4</td>\n",
       "      <td>4</td>\n",
       "      <td>4</td>\n",
       "      <td>3</td>\n",
       "      <td>3</td>\n",
       "      <td>0</td>\n",
       "      <td>0</td>\n",
       "    </tr>\n",
       "  </tbody>\n",
       "</table>\n",
       "<p>2 rows × 52 columns</p>\n",
       "</div>"
      ],
      "text/plain": [
       "   CaseOrder Customer_id                           Interaction  \\\n",
       "0          1     C412403  8cd49b13-f45a-4b47-a2bd-173ffa932c2f   \n",
       "1          2     Z919181  d2450b70-0337-4406-bdbb-bc1037f1734c   \n",
       "\n",
       "                                UID      City State   County    Zip       Lat  \\\n",
       "0  3a83ddb66e2ae73798bdf1d705dc0932       Eva    AL   Morgan  35621  34.34960   \n",
       "1  176354c5eef714957d486009feabf195  Marianna    FL  Jackson  32446  30.84513   \n",
       "\n",
       "        Lng  ...  Item1 Item2 Item3 Item4  Item5  Item6  Item7 Item8 Yes Yes  \n",
       "0 -86.72508  ...      3     3     2     2      4      3      3     4   0   0  \n",
       "1 -85.22907  ...      3     4     3     4      4      4      3     3   0   0  \n",
       "\n",
       "[2 rows x 52 columns]"
      ]
     },
     "execution_count": 220,
     "metadata": {},
     "output_type": "execute_result"
    }
   ],
   "source": [
    "# Why is the readmis column labeled 'Yes'? ... How do I rename to ReAdmis?\n",
    "train = pd.concat([train,readmis],axis=1)\n",
    "train.head(2)"
   ]
  },
  {
   "cell_type": "code",
   "execution_count": 197,
   "id": "a011f352-0ac5-4586-99e5-6de312ab9a5b",
   "metadata": {},
   "outputs": [
    {
     "data": {
      "text/plain": [
       "Index(['CaseOrder', 'Customer_id', 'Interaction', 'UID', 'Age', 'Income',\n",
       "       'Marital', 'Gender', 'ReAdmis', 'VitD_levels', 'Doc_visits',\n",
       "       'Full_meals_eaten', 'vitD_supp', 'Soft_drink', 'Initial_admin',\n",
       "       'HighBlood', 'Stroke', 'Complication_risk', 'Overweight', 'Arthritis',\n",
       "       'Diabetes', 'Hyperlipidemia', 'BackPain', 'Anxiety',\n",
       "       'Allergic_rhinitis', 'Reflux_esophagitis', 'Asthma', 'Services',\n",
       "       'Initial_days', 'TotalCharge', 'Additional_charges', 'Yes'],\n",
       "      dtype='object')"
      ]
     },
     "execution_count": 197,
     "metadata": {},
     "output_type": "execute_result"
    }
   ],
   "source": [
    "# pruned_df_num = df_num.drop(['CaseOrder', 'Zip', 'Lat', 'Lng', 'Item1', 'Item2', 'Item3', 'Item4', 'Item5', 'Item6', 'Item7', 'Item8'], axis=1)\n",
    "train = train.drop(['City', 'State', 'County', 'Zip', 'Lat', 'Lng', 'Population', 'Area', 'TimeZone', 'Job', 'Children','Item1', 'Item2', 'Item3', 'Item4',\n",
    "       'Item5', 'Item6', 'Item7', 'Item8'], axis=1)\n",
    "train.columns"
   ]
  },
  {
   "cell_type": "code",
   "execution_count": null,
   "id": "959ad802-49fb-4581-8e64-f5c2383c328f",
   "metadata": {},
   "outputs": [],
   "source": []
  },
  {
   "cell_type": "code",
   "execution_count": null,
   "id": "981a2ed7-c80e-4eb3-8406-59ffdce37454",
   "metadata": {},
   "outputs": [],
   "source": []
  },
  {
   "cell_type": "markdown",
   "id": "e98e128a-f3a0-4950-9c5f-0deff63d7803",
   "metadata": {},
   "source": [
    "---\n",
    "###  **Part 1: Research Question:**\n",
    "[A1] **Question:** \"Do the following three predictiors (Initial Days, Overweight, and Diabetes) explain the variation in total total charges?\""
   ]
  },
  {
   "cell_type": "markdown",
   "id": "63e88bf4-6770-457c-9bf9-3701fa896332",
   "metadata": {
    "tags": []
   },
   "source": [
    "---\n",
    "### **Part III: Data Preparation**\n",
    "---"
   ]
  },
  {
   "cell_type": "code",
   "execution_count": 132,
   "id": "bf11675c-29d9-4019-baa2-e55dc064c8c9",
   "metadata": {},
   "outputs": [
    {
     "ename": "NameError",
     "evalue": "name 'df' is not defined",
     "output_type": "error",
     "traceback": [
      "\u001b[0;31m---------------------------------------------------------------------------\u001b[0m",
      "\u001b[0;31mNameError\u001b[0m                                 Traceback (most recent call last)",
      "\u001b[0;32m<ipython-input-132-4491f4bae2da>\u001b[0m in \u001b[0;36m<module>\u001b[0;34m\u001b[0m\n\u001b[1;32m      1\u001b[0m \u001b[0;31m#https://stackoverflow.com/questions/24524104/pandas-describe-is-not-returning-summary-of-all-columns\u001b[0m\u001b[0;34m\u001b[0m\u001b[0;34m\u001b[0m\u001b[0;34m\u001b[0m\u001b[0m\n\u001b[1;32m      2\u001b[0m \u001b[0;31m# Describe Numeric Fields\u001b[0m\u001b[0;34m\u001b[0m\u001b[0;34m\u001b[0m\u001b[0;34m\u001b[0m\u001b[0m\n\u001b[0;32m----> 3\u001b[0;31m \u001b[0mdf\u001b[0m\u001b[0;34m.\u001b[0m\u001b[0mdescribe\u001b[0m\u001b[0;34m(\u001b[0m\u001b[0minclude\u001b[0m \u001b[0;34m=\u001b[0m \u001b[0;34m[\u001b[0m\u001b[0mnp\u001b[0m\u001b[0;34m.\u001b[0m\u001b[0mnumber\u001b[0m\u001b[0;34m]\u001b[0m\u001b[0;34m)\u001b[0m\u001b[0;34m\u001b[0m\u001b[0;34m\u001b[0m\u001b[0m\n\u001b[0m",
      "\u001b[0;31mNameError\u001b[0m: name 'df' is not defined"
     ]
    }
   ],
   "source": [
    "#https://stackoverflow.com/questions/24524104/pandas-describe-is-not-returning-summary-of-all-columns\n",
    "# Describe Numeric Fields\n",
    "df.describe(include = [np.number])"
   ]
  },
  {
   "cell_type": "code",
   "execution_count": null,
   "id": "9d993a72-a012-4fb7-a90b-01ed67ceb8d1",
   "metadata": {},
   "outputs": [],
   "source": [
    "# Describe Categorical Fields\n",
    "df.describe(include = ['O'])"
   ]
  },
  {
   "cell_type": "markdown",
   "id": "6a7c23a8-e64c-4058-a7f3-ff82f94465af",
   "metadata": {},
   "source": [
    "#### [B cont.] Create Subset Data Group to Focus On and Describe"
   ]
  },
  {
   "cell_type": "code",
   "execution_count": null,
   "id": "205e9c64-8eae-4f98-9b42-2ca82f19018d",
   "metadata": {
    "tags": []
   },
   "outputs": [],
   "source": [
    "focus_df = df[['TotalCharge', 'Overweight', 'Diabetes', 'Initial_days']]\n",
    "focus_df.info()"
   ]
  },
  {
   "cell_type": "markdown",
   "id": "7259b028-669a-491e-b517-3b9f8f99c20f",
   "metadata": {},
   "source": [
    "#### [B cont.] Describe the data analysis by doing the following:\n",
    " _Using one of the following techniques, write code (in either Python or R) to run the analysis of the data set: **ANOVA**_"
   ]
  },
  {
   "cell_type": "code",
   "execution_count": null,
   "id": "f9399625-749b-44c4-9e3e-cb18b3fe6e26",
   "metadata": {},
   "outputs": [],
   "source": [
    "# Change Data for Predictors\n",
    "focus_df2 = focus_df.copy()\n",
    "focus_df2['Overweight_Num'] = focus_df['Overweight'].eq('Yes').astype(int)\n",
    "focus_df2['Diabetes_Num'] = focus_df['Diabetes'].eq('Yes').astype(int)\n",
    "focus_df2"
   ]
  },
  {
   "cell_type": "code",
   "execution_count": null,
   "id": "ac241449-1497-45a6-b8e9-abaaee596a41",
   "metadata": {},
   "outputs": [],
   "source": []
  },
  {
   "cell_type": "code",
   "execution_count": null,
   "id": "b80e75a8-6ca8-44ca-b36b-d8f91453d5fb",
   "metadata": {},
   "outputs": [],
   "source": []
  },
  {
   "cell_type": "code",
   "execution_count": null,
   "id": "0a1c6533-4793-4e01-b835-98084247dc47",
   "metadata": {},
   "outputs": [],
   "source": []
  },
  {
   "cell_type": "markdown",
   "id": "e41dbe39-f358-44f9-89fb-aa3e1d60ec15",
   "metadata": {},
   "source": [
    "#### [D] Compare an initial and reduced multiple regression model"
   ]
  },
  {
   "cell_type": "code",
   "execution_count": null,
   "id": "dda8a8e6-759f-4892-bf39-1c850231370e",
   "metadata": {},
   "outputs": [],
   "source": []
  },
  {
   "cell_type": "markdown",
   "id": "d2b09f9a-f12c-415e-8bee-e219f80389d0",
   "metadata": {},
   "source": [
    "####   [D1] Construct an initial multiple regression model from _all_ predictors that were identified in [C2]"
   ]
  },
  {
   "cell_type": "code",
   "execution_count": null,
   "id": "903f6f0d-01a4-4cd8-bd7d-2de3892457d1",
   "metadata": {},
   "outputs": [],
   "source": []
  },
  {
   "cell_type": "markdown",
   "id": "b11017bb-1cfe-4a30-a3e1-e716101c8574",
   "metadata": {},
   "source": [
    "####   [D2] Justify a statistically based variable selection procedure and a model evaluation metric to reduce the initial model in a way that aligns with the research question."
   ]
  },
  {
   "cell_type": "code",
   "execution_count": null,
   "id": "9ad5efd9-caaa-43e5-aadc-fae0914b3e9a",
   "metadata": {},
   "outputs": [],
   "source": []
  },
  {
   "cell_type": "markdown",
   "id": "d3e3c0b8-f390-4f9d-8b4d-e92d98664a23",
   "metadata": {},
   "source": [
    "####   [D3] Provide a reduced multiple regression model that includes both categorical and continuous variables."
   ]
  },
  {
   "cell_type": "code",
   "execution_count": null,
   "id": "2e9001a2-dd90-4a28-8a89-0fd2d84e0a61",
   "metadata": {},
   "outputs": [],
   "source": []
  },
  {
   "cell_type": "code",
   "execution_count": null,
   "id": "71218479-da4d-42c7-9793-fa18d5d6df4d",
   "metadata": {},
   "outputs": [],
   "source": []
  },
  {
   "cell_type": "code",
   "execution_count": null,
   "id": "27468bd8-6c1e-442f-9e78-d1d49ef55e68",
   "metadata": {},
   "outputs": [],
   "source": [
    "import numpy as np\n",
    "from sklearn.model_selection import train_test_split"
   ]
  },
  {
   "cell_type": "code",
   "execution_count": null,
   "id": "330da7c8-b54f-4f46-b9ca-a18dbaa7ea34",
   "metadata": {},
   "outputs": [],
   "source": [
    "# 90% Train, 10% Test\n",
    "focus_df2_train, focus_df2_test = train_test_split(focus_df2, test_size=0.10, random_state=123)"
   ]
  },
  {
   "cell_type": "code",
   "execution_count": null,
   "id": "daeab578-a477-4db0-84b0-a5fa0764d083",
   "metadata": {},
   "outputs": [],
   "source": [
    "focus_df2_train"
   ]
  },
  {
   "cell_type": "code",
   "execution_count": null,
   "id": "5075fd7b-108c-4de7-bc51-c8cebe7837e1",
   "metadata": {},
   "outputs": [],
   "source": [
    "focus_df2_test"
   ]
  },
  {
   "cell_type": "code",
   "execution_count": null,
   "id": "4fd96e17-39ac-4770-8554-f11ea1bf105f",
   "metadata": {},
   "outputs": [],
   "source": []
  },
  {
   "cell_type": "code",
   "execution_count": null,
   "id": "94febdd0-96e2-4adf-932c-0c9b5468a147",
   "metadata": {},
   "outputs": [],
   "source": [
    "X = focus_df2_train[['Initial_days', 'Overweight_Num', 'Diabetes_Num']]\n",
    "y = focus_df2_train[['TotalCharge']]\n",
    "# Add Constant\n",
    "X = sm.add_constant(X)"
   ]
  },
  {
   "cell_type": "code",
   "execution_count": null,
   "id": "1e74fff1-8a74-45e1-95fd-3b35c8ca0e97",
   "metadata": {},
   "outputs": [],
   "source": [
    "model01 = sm.OLS(y, X).fit()\n",
    "model01.summary()"
   ]
  },
  {
   "cell_type": "code",
   "execution_count": null,
   "id": "d3ab5ff6-1bbb-476c-b2d3-9c02acfed926",
   "metadata": {},
   "outputs": [],
   "source": [
    "# Verify Regression Model Results on Test Data:\n",
    "X_test = pd.DataFrame(focus_df2_test[['Initial_days', 'Overweight_Num', 'Diabetes_Num']])\n",
    "y_test = pd.DataFrame(focus_df2_test[['TotalCharge']])\n",
    "X_test = sm.add_constant(X_test)\n",
    "model01_test = sm.OLS(y_test, X_test).fit()\n",
    "model01_test.summary()"
   ]
  },
  {
   "cell_type": "markdown",
   "id": "07a2c791-4f12-4625-9745-b26a3d95b650",
   "metadata": {},
   "source": [
    "#### **Stepwise Regression** in Python?"
   ]
  },
  {
   "cell_type": "code",
   "execution_count": null,
   "id": "d61036e1-ee86-4851-892e-2fd2843fcaa1",
   "metadata": {},
   "outputs": [],
   "source": []
  },
  {
   "cell_type": "markdown",
   "id": "c33cb91e-04f5-44bc-ac8e-62b5a49f3edb",
   "metadata": {},
   "source": [
    "#### Estimation Model Evaluation"
   ]
  },
  {
   "cell_type": "code",
   "execution_count": null,
   "id": "86ed1d7a-cd4c-4a75-8e0c-078caf154eee",
   "metadata": {},
   "outputs": [],
   "source": [
    "# X = focus_df2_train[['Initial_days', 'Overweight_Num', 'Diabetes_Num']]\n",
    "# y = focus_df2_train[['TotalCharge']]\n",
    "# # Add Constant\n",
    "# X = sm.add_constant(X)\n",
    "focus_df2.head(1)"
   ]
  },
  {
   "cell_type": "code",
   "execution_count": null,
   "id": "1b16922f-ba78-46e5-acd2-96d107457dd6",
   "metadata": {},
   "outputs": [],
   "source": [
    "pat01 = np.column_stack((1, 10.58577, 0, 1))\n",
    "model01.predict(pat01)"
   ]
  },
  {
   "cell_type": "code",
   "execution_count": null,
   "id": "4f6d3bdd-3e71-4e3b-9880-058de4289578",
   "metadata": {},
   "outputs": [],
   "source": [
    "ypred = model01.predict(X_test)\n",
    "ypred\n",
    "# The result is a column of predictions, one for each record in the test data set. \n",
    "# These values will allow us to calculate the MAE later in this section."
   ]
  },
  {
   "cell_type": "code",
   "execution_count": null,
   "id": "e8315437-081c-422e-8858-11841ccb3b6f",
   "metadata": {},
   "outputs": [],
   "source": [
    "# Calculate Standard Error of the Estimate\n",
    "np.sqrt(model01.scale)"
   ]
  },
  {
   "cell_type": "code",
   "execution_count": null,
   "id": "0244c93e-27e6-4450-b2d3-81fcfc356206",
   "metadata": {},
   "outputs": [],
   "source": [
    "# 90% Train, 10% Test\n",
    "focus_df2_train, focus_df2_test = train_test_split(focus_df2, test_size=0.10, random_state=123)"
   ]
  },
  {
   "cell_type": "code",
   "execution_count": null,
   "id": "6f14c345-7f5c-4656-aa98-ddd0610c2353",
   "metadata": {},
   "outputs": [],
   "source": [
    "# Target variable values\n",
    "ytrue = focus_df2_test[['TotalCharge']]\n",
    "# MAE\n",
    "mean_absolute_error(y_true = ytrue, y_pred = ypred)"
   ]
  },
  {
   "cell_type": "markdown",
   "id": "3340250e-a920-4900-95f0-2368b28934c4",
   "metadata": {},
   "source": [
    "#### Identify Multicollinearity "
   ]
  },
  {
   "cell_type": "code",
   "execution_count": null,
   "id": "825e511b-9c78-4d1b-ace8-1f3fe24a8320",
   "metadata": {},
   "outputs": [],
   "source": [
    "import pandas as pd\n",
    "import statsmodels.api as sm\n",
    "import statsmodels.stats.outliers_influence as inf"
   ]
  },
  {
   "cell_type": "code",
   "execution_count": null,
   "id": "454867d1-d872-4b9e-9336-1b33be891b44",
   "metadata": {},
   "outputs": [],
   "source": [
    "X = pd.DataFrame(focus_df2[['Initial_days', 'Overweight_Num', 'Diabetes_Num']]);\n",
    "pd.plotting.scatter_matrix(X);"
   ]
  },
  {
   "cell_type": "code",
   "execution_count": null,
   "id": "d0429b9e-d704-4c06-b009-c2565e684c6e",
   "metadata": {},
   "outputs": [],
   "source": [
    "X = X.dropna()\n",
    "X = sm.add_constant(X)\n",
    "[inf.variance_inflation_factor(X.values, i) for i in range(X.shape[1])]\n",
    "# The output will include a VIF value for the constant term we added; ignore it. \n",
    "# The VIF values of interest are for the three predictor variables, which are \n",
    "# the second, third, and fourth numbers output by the variance_inflation_factor() command."
   ]
  },
  {
   "cell_type": "code",
   "execution_count": null,
   "id": "1e2717bf-e05b-4659-a658-204d5ec3e9c5",
   "metadata": {},
   "outputs": [],
   "source": []
  },
  {
   "cell_type": "markdown",
   "id": "2b8345d0-6e35-4302-95bc-e3d89e980080",
   "metadata": {
    "tags": []
   },
   "source": [
    "---\n",
    "### **Part IV: Model Comparison and Analysis**\n",
    "---"
   ]
  },
  {
   "cell_type": "markdown",
   "id": "7ca98ba8-953b-4b1b-aa5d-474ec5d474c2",
   "metadata": {},
   "source": [
    "<ol> [D] Compare an Initial and a reduced multiple regression model by doing the following:\n",
    "    <li>Construct an initial multiple regression model from all predictors that were identified in Part C2.</li>\n",
    "    <li>Justify a statistically based variable selection procedure and a model evaluation metric to reduce the initial model in a way that aligns with the research question.</li>\n",
    "    <li>Provide a reduced multiple regression model that includes both categorical and continuous variables.\n",
    "        </br>\n",
    "        __Note: The output should include a screenshot of each model.__\n",
    "</li>\n",
    "</ol>\n",
    "<ol> [E] Analyze the data set using your reduced multiple regression model by doing the following:\n",
    "<li>Explain your data analysis process by comparing the initial and reduced multiple regression models,\n",
    "    including the following elements:</li>\n",
    "    <ul>\n",
    "        <li>the logic of the variable selection technique</li>\n",
    "        <li>the model evaluation metric</li>\n",
    "        <li>a residual plot</li>\n",
    "    </ul>\n",
    "<li>Provide the output and any calculations of the analysis you performed, including the model’s residual error. \n",
    "</br>\n",
    "__Note: The output should include the predictions from the refined model you used to perform the analysis.__</li>\n",
    "<li>Provide the code used to support the implementation of the multiple regression models.</li>\n",
    "\n",
    "    \n",
    "    "
   ]
  },
  {
   "cell_type": "code",
   "execution_count": null,
   "id": "035d17c4-30e9-4a61-91bf-00add4ee53db",
   "metadata": {},
   "outputs": [],
   "source": []
  },
  {
   "cell_type": "code",
   "execution_count": null,
   "id": "79df3bf8-5c64-472b-b636-a892480b9657",
   "metadata": {},
   "outputs": [],
   "source": []
  },
  {
   "cell_type": "code",
   "execution_count": null,
   "id": "b14db84f-1c34-48d5-bdc7-5f2364e8c937",
   "metadata": {},
   "outputs": [],
   "source": []
  },
  {
   "cell_type": "code",
   "execution_count": null,
   "id": "1c69b08d-023c-49b1-8d63-28465239cb4d",
   "metadata": {},
   "outputs": [],
   "source": []
  },
  {
   "cell_type": "code",
   "execution_count": null,
   "id": "bcf73ea2-cdc2-4c66-bf8b-bf4e29ed80ef",
   "metadata": {},
   "outputs": [],
   "source": []
  },
  {
   "cell_type": "code",
   "execution_count": null,
   "id": "aaa06ef8-5d46-4ffa-9164-053905e65189",
   "metadata": {},
   "outputs": [],
   "source": []
  },
  {
   "cell_type": "code",
   "execution_count": null,
   "id": "22ad845c-41a7-45e2-954c-fc84614577ea",
   "metadata": {},
   "outputs": [],
   "source": []
  },
  {
   "cell_type": "code",
   "execution_count": null,
   "id": "a1ebd6ad-de6c-47ee-a9e2-729864977b15",
   "metadata": {},
   "outputs": [],
   "source": []
  },
  {
   "cell_type": "code",
   "execution_count": null,
   "id": "2723d915-b691-4e1e-a88c-2887e0ae5e3a",
   "metadata": {},
   "outputs": [],
   "source": []
  },
  {
   "cell_type": "code",
   "execution_count": null,
   "id": "5c3d8472-3c21-4cbe-81a0-1ced4da86fa8",
   "metadata": {},
   "outputs": [],
   "source": []
  }
 ],
 "metadata": {
  "kernelspec": {
   "display_name": "Python 3",
   "language": "python",
   "name": "python3"
  },
  "language_info": {
   "codemirror_mode": {
    "name": "ipython",
    "version": 3
   },
   "file_extension": ".py",
   "mimetype": "text/x-python",
   "name": "python",
   "nbconvert_exporter": "python",
   "pygments_lexer": "ipython3",
   "version": "3.8.8"
  }
 },
 "nbformat": 4,
 "nbformat_minor": 5
}
