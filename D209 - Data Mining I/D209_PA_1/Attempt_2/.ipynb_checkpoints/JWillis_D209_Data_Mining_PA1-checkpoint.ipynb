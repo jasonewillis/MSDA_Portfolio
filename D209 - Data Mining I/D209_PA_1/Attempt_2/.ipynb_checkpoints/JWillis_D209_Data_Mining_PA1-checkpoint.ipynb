{
 "cells": [
  {
   "cell_type": "markdown",
   "id": "362e3a6c-65f0-4e2f-bb95-76e95dbf6884",
   "metadata": {},
   "source": [
    "## D209 - Data Mining I - PA1"
   ]
  },
  {
   "cell_type": "markdown",
   "id": "f05d995c-ec84-4bf0-a0ed-c29c32dfffa7",
   "metadata": {},
   "source": [
    "### Import Libraries"
   ]
  },
  {
   "cell_type": "code",
   "execution_count": 261,
   "id": "a6cec4a3-2f53-4179-b9b5-05e9b14aed77",
   "metadata": {},
   "outputs": [],
   "source": [
    "import pandas as pd\n",
    "import numpy as np\n",
    "import matplotlib.pyplot as plt\n",
    "import seaborn as sns\n",
    "%matplotlib inline\n",
    "from pandas import DataFrame\n",
    "import sklearn.neighbors\n",
    "from sklearn.neighbors import KNeighborsClassifier\n",
    "from sklearn import preprocessing\n",
    "from sklearn.metrics import mean_absolute_error\n",
    "from sklearn.model_selection import train_test_split"
   ]
  },
  {
   "cell_type": "markdown",
   "id": "5976c632-9944-42dd-bc99-1f05a4ae18b2",
   "metadata": {},
   "source": [
    "### Load Data From medical_clean.csv"
   ]
  },
  {
   "cell_type": "code",
   "execution_count": 262,
   "id": "f42c639e-1aba-463f-8a98-cca68d3471ff",
   "metadata": {},
   "outputs": [
    {
     "data": {
      "text/html": [
       "<div>\n",
       "<style scoped>\n",
       "    .dataframe tbody tr th:only-of-type {\n",
       "        vertical-align: middle;\n",
       "    }\n",
       "\n",
       "    .dataframe tbody tr th {\n",
       "        vertical-align: top;\n",
       "    }\n",
       "\n",
       "    .dataframe thead th {\n",
       "        text-align: right;\n",
       "    }\n",
       "</style>\n",
       "<table border=\"1\" class=\"dataframe\">\n",
       "  <thead>\n",
       "    <tr style=\"text-align: right;\">\n",
       "      <th></th>\n",
       "      <th>CaseOrder</th>\n",
       "      <th>Customer_id</th>\n",
       "      <th>Interaction</th>\n",
       "      <th>UID</th>\n",
       "      <th>City</th>\n",
       "      <th>State</th>\n",
       "      <th>County</th>\n",
       "      <th>Zip</th>\n",
       "      <th>Lat</th>\n",
       "      <th>Lng</th>\n",
       "      <th>...</th>\n",
       "      <th>TotalCharge</th>\n",
       "      <th>Additional_charges</th>\n",
       "      <th>Item1</th>\n",
       "      <th>Item2</th>\n",
       "      <th>Item3</th>\n",
       "      <th>Item4</th>\n",
       "      <th>Item5</th>\n",
       "      <th>Item6</th>\n",
       "      <th>Item7</th>\n",
       "      <th>Item8</th>\n",
       "    </tr>\n",
       "  </thead>\n",
       "  <tbody>\n",
       "    <tr>\n",
       "      <th>0</th>\n",
       "      <td>1</td>\n",
       "      <td>C412403</td>\n",
       "      <td>8cd49b13-f45a-4b47-a2bd-173ffa932c2f</td>\n",
       "      <td>3a83ddb66e2ae73798bdf1d705dc0932</td>\n",
       "      <td>Eva</td>\n",
       "      <td>AL</td>\n",
       "      <td>Morgan</td>\n",
       "      <td>35621</td>\n",
       "      <td>34.34960</td>\n",
       "      <td>-86.72508</td>\n",
       "      <td>...</td>\n",
       "      <td>3726.702860</td>\n",
       "      <td>17939.403420</td>\n",
       "      <td>3</td>\n",
       "      <td>3</td>\n",
       "      <td>2</td>\n",
       "      <td>2</td>\n",
       "      <td>4</td>\n",
       "      <td>3</td>\n",
       "      <td>3</td>\n",
       "      <td>4</td>\n",
       "    </tr>\n",
       "    <tr>\n",
       "      <th>1</th>\n",
       "      <td>2</td>\n",
       "      <td>Z919181</td>\n",
       "      <td>d2450b70-0337-4406-bdbb-bc1037f1734c</td>\n",
       "      <td>176354c5eef714957d486009feabf195</td>\n",
       "      <td>Marianna</td>\n",
       "      <td>FL</td>\n",
       "      <td>Jackson</td>\n",
       "      <td>32446</td>\n",
       "      <td>30.84513</td>\n",
       "      <td>-85.22907</td>\n",
       "      <td>...</td>\n",
       "      <td>4193.190458</td>\n",
       "      <td>17612.998120</td>\n",
       "      <td>3</td>\n",
       "      <td>4</td>\n",
       "      <td>3</td>\n",
       "      <td>4</td>\n",
       "      <td>4</td>\n",
       "      <td>4</td>\n",
       "      <td>3</td>\n",
       "      <td>3</td>\n",
       "    </tr>\n",
       "    <tr>\n",
       "      <th>2</th>\n",
       "      <td>3</td>\n",
       "      <td>F995323</td>\n",
       "      <td>a2057123-abf5-4a2c-abad-8ffe33512562</td>\n",
       "      <td>e19a0fa00aeda885b8a436757e889bc9</td>\n",
       "      <td>Sioux Falls</td>\n",
       "      <td>SD</td>\n",
       "      <td>Minnehaha</td>\n",
       "      <td>57110</td>\n",
       "      <td>43.54321</td>\n",
       "      <td>-96.63772</td>\n",
       "      <td>...</td>\n",
       "      <td>2434.234222</td>\n",
       "      <td>17505.192460</td>\n",
       "      <td>2</td>\n",
       "      <td>4</td>\n",
       "      <td>4</td>\n",
       "      <td>4</td>\n",
       "      <td>3</td>\n",
       "      <td>4</td>\n",
       "      <td>3</td>\n",
       "      <td>3</td>\n",
       "    </tr>\n",
       "    <tr>\n",
       "      <th>3</th>\n",
       "      <td>4</td>\n",
       "      <td>A879973</td>\n",
       "      <td>1dec528d-eb34-4079-adce-0d7a40e82205</td>\n",
       "      <td>cd17d7b6d152cb6f23957346d11c3f07</td>\n",
       "      <td>New Richland</td>\n",
       "      <td>MN</td>\n",
       "      <td>Waseca</td>\n",
       "      <td>56072</td>\n",
       "      <td>43.89744</td>\n",
       "      <td>-93.51479</td>\n",
       "      <td>...</td>\n",
       "      <td>2127.830423</td>\n",
       "      <td>12993.437350</td>\n",
       "      <td>3</td>\n",
       "      <td>5</td>\n",
       "      <td>5</td>\n",
       "      <td>3</td>\n",
       "      <td>4</td>\n",
       "      <td>5</td>\n",
       "      <td>5</td>\n",
       "      <td>5</td>\n",
       "    </tr>\n",
       "    <tr>\n",
       "      <th>4</th>\n",
       "      <td>5</td>\n",
       "      <td>C544523</td>\n",
       "      <td>5885f56b-d6da-43a3-8760-83583af94266</td>\n",
       "      <td>d2f0425877b10ed6bb381f3e2579424a</td>\n",
       "      <td>West Point</td>\n",
       "      <td>VA</td>\n",
       "      <td>King William</td>\n",
       "      <td>23181</td>\n",
       "      <td>37.59894</td>\n",
       "      <td>-76.88958</td>\n",
       "      <td>...</td>\n",
       "      <td>2113.073274</td>\n",
       "      <td>3716.525786</td>\n",
       "      <td>2</td>\n",
       "      <td>1</td>\n",
       "      <td>3</td>\n",
       "      <td>3</td>\n",
       "      <td>5</td>\n",
       "      <td>3</td>\n",
       "      <td>4</td>\n",
       "      <td>3</td>\n",
       "    </tr>\n",
       "  </tbody>\n",
       "</table>\n",
       "<p>5 rows × 50 columns</p>\n",
       "</div>"
      ],
      "text/plain": [
       "   CaseOrder Customer_id                           Interaction  \\\n",
       "0          1     C412403  8cd49b13-f45a-4b47-a2bd-173ffa932c2f   \n",
       "1          2     Z919181  d2450b70-0337-4406-bdbb-bc1037f1734c   \n",
       "2          3     F995323  a2057123-abf5-4a2c-abad-8ffe33512562   \n",
       "3          4     A879973  1dec528d-eb34-4079-adce-0d7a40e82205   \n",
       "4          5     C544523  5885f56b-d6da-43a3-8760-83583af94266   \n",
       "\n",
       "                                UID          City State        County    Zip  \\\n",
       "0  3a83ddb66e2ae73798bdf1d705dc0932           Eva    AL        Morgan  35621   \n",
       "1  176354c5eef714957d486009feabf195      Marianna    FL       Jackson  32446   \n",
       "2  e19a0fa00aeda885b8a436757e889bc9   Sioux Falls    SD     Minnehaha  57110   \n",
       "3  cd17d7b6d152cb6f23957346d11c3f07  New Richland    MN        Waseca  56072   \n",
       "4  d2f0425877b10ed6bb381f3e2579424a    West Point    VA  King William  23181   \n",
       "\n",
       "        Lat       Lng  ...  TotalCharge Additional_charges Item1 Item2  Item3  \\\n",
       "0  34.34960 -86.72508  ...  3726.702860       17939.403420     3     3      2   \n",
       "1  30.84513 -85.22907  ...  4193.190458       17612.998120     3     4      3   \n",
       "2  43.54321 -96.63772  ...  2434.234222       17505.192460     2     4      4   \n",
       "3  43.89744 -93.51479  ...  2127.830423       12993.437350     3     5      5   \n",
       "4  37.59894 -76.88958  ...  2113.073274        3716.525786     2     1      3   \n",
       "\n",
       "   Item4  Item5 Item6 Item7 Item8  \n",
       "0      2      4     3     3     4  \n",
       "1      4      4     4     3     3  \n",
       "2      4      3     4     3     3  \n",
       "3      3      4     5     5     5  \n",
       "4      3      5     3     4     3  \n",
       "\n",
       "[5 rows x 50 columns]"
      ]
     },
     "execution_count": 262,
     "metadata": {},
     "output_type": "execute_result"
    }
   ],
   "source": [
    "# load data file\n",
    "df = pd.read_csv('medical_clean.csv')\n",
    "# quick test the data is present and see the shape\n",
    "df.head()"
   ]
  },
  {
   "cell_type": "markdown",
   "id": "5e788ade-c761-4cba-947c-2e019779e8a3",
   "metadata": {},
   "source": [
    "---\n",
    "### Exploratory Data Analysis\n",
    "---"
   ]
  },
  {
   "cell_type": "code",
   "execution_count": 263,
   "id": "269b5be9-3313-422d-9d7b-0ad46b4547c2",
   "metadata": {},
   "outputs": [
    {
     "name": "stdout",
     "output_type": "stream",
     "text": [
      "<class 'pandas.core.frame.DataFrame'>\n",
      "RangeIndex: 10000 entries, 0 to 9999\n",
      "Data columns (total 50 columns):\n",
      " #   Column              Non-Null Count  Dtype  \n",
      "---  ------              --------------  -----  \n",
      " 0   CaseOrder           10000 non-null  int64  \n",
      " 1   Customer_id         10000 non-null  object \n",
      " 2   Interaction         10000 non-null  object \n",
      " 3   UID                 10000 non-null  object \n",
      " 4   City                10000 non-null  object \n",
      " 5   State               10000 non-null  object \n",
      " 6   County              10000 non-null  object \n",
      " 7   Zip                 10000 non-null  int64  \n",
      " 8   Lat                 10000 non-null  float64\n",
      " 9   Lng                 10000 non-null  float64\n",
      " 10  Population          10000 non-null  int64  \n",
      " 11  Area                10000 non-null  object \n",
      " 12  TimeZone            10000 non-null  object \n",
      " 13  Job                 10000 non-null  object \n",
      " 14  Children            10000 non-null  int64  \n",
      " 15  Age                 10000 non-null  int64  \n",
      " 16  Income              10000 non-null  float64\n",
      " 17  Marital             10000 non-null  object \n",
      " 18  Gender              10000 non-null  object \n",
      " 19  ReAdmis             10000 non-null  object \n",
      " 20  VitD_levels         10000 non-null  float64\n",
      " 21  Doc_visits          10000 non-null  int64  \n",
      " 22  Full_meals_eaten    10000 non-null  int64  \n",
      " 23  vitD_supp           10000 non-null  int64  \n",
      " 24  Soft_drink          10000 non-null  object \n",
      " 25  Initial_admin       10000 non-null  object \n",
      " 26  HighBlood           10000 non-null  object \n",
      " 27  Stroke              10000 non-null  object \n",
      " 28  Complication_risk   10000 non-null  object \n",
      " 29  Overweight          10000 non-null  object \n",
      " 30  Arthritis           10000 non-null  object \n",
      " 31  Diabetes            10000 non-null  object \n",
      " 32  Hyperlipidemia      10000 non-null  object \n",
      " 33  BackPain            10000 non-null  object \n",
      " 34  Anxiety             10000 non-null  object \n",
      " 35  Allergic_rhinitis   10000 non-null  object \n",
      " 36  Reflux_esophagitis  10000 non-null  object \n",
      " 37  Asthma              10000 non-null  object \n",
      " 38  Services            10000 non-null  object \n",
      " 39  Initial_days        10000 non-null  float64\n",
      " 40  TotalCharge         10000 non-null  float64\n",
      " 41  Additional_charges  10000 non-null  float64\n",
      " 42  Item1               10000 non-null  int64  \n",
      " 43  Item2               10000 non-null  int64  \n",
      " 44  Item3               10000 non-null  int64  \n",
      " 45  Item4               10000 non-null  int64  \n",
      " 46  Item5               10000 non-null  int64  \n",
      " 47  Item6               10000 non-null  int64  \n",
      " 48  Item7               10000 non-null  int64  \n",
      " 49  Item8               10000 non-null  int64  \n",
      "dtypes: float64(7), int64(16), object(27)\n",
      "memory usage: 3.8+ MB\n"
     ]
    }
   ],
   "source": [
    "df.info()"
   ]
  },
  {
   "cell_type": "markdown",
   "id": "ff78174a-8e12-43b1-9518-092898369e8d",
   "metadata": {},
   "source": [
    "#### Look for Missing Values"
   ]
  },
  {
   "cell_type": "code",
   "execution_count": 264,
   "id": "71fe2be3-93e3-4585-b544-1ad4040b4ea4",
   "metadata": {},
   "outputs": [
    {
     "data": {
      "image/png": "[encoded data removed]",
      "text/plain": [
       "<Figure size 432x288 with 1 Axes>"
      ]
     },
     "metadata": {
      "needs_background": "light"
     },
     "output_type": "display_data"
    }
   ],
   "source": [
    "# Mapping to view missing data...none present.\n",
    "sns.heatmap(df.isnull(), yticklabels=False, cbar=False, cmap='viridis');"
   ]
  },
  {
   "cell_type": "code",
   "execution_count": 265,
   "id": "1974e574-f539-435b-a52b-89003e9b14ca",
   "metadata": {},
   "outputs": [
    {
     "data": {
      "text/html": [
       "<div>\n",
       "<style scoped>\n",
       "    .dataframe tbody tr th:only-of-type {\n",
       "        vertical-align: middle;\n",
       "    }\n",
       "\n",
       "    .dataframe tbody tr th {\n",
       "        vertical-align: top;\n",
       "    }\n",
       "\n",
       "    .dataframe thead th {\n",
       "        text-align: right;\n",
       "    }\n",
       "</style>\n",
       "<table border=\"1\" class=\"dataframe\">\n",
       "  <thead>\n",
       "    <tr style=\"text-align: right;\">\n",
       "      <th></th>\n",
       "      <th>CaseOrder</th>\n",
       "      <th>Zip</th>\n",
       "      <th>Lat</th>\n",
       "      <th>Lng</th>\n",
       "      <th>Population</th>\n",
       "      <th>Children</th>\n",
       "      <th>Age</th>\n",
       "      <th>Income</th>\n",
       "      <th>VitD_levels</th>\n",
       "      <th>Doc_visits</th>\n",
       "      <th>...</th>\n",
       "      <th>TotalCharge</th>\n",
       "      <th>Additional_charges</th>\n",
       "      <th>Item1</th>\n",
       "      <th>Item2</th>\n",
       "      <th>Item3</th>\n",
       "      <th>Item4</th>\n",
       "      <th>Item5</th>\n",
       "      <th>Item6</th>\n",
       "      <th>Item7</th>\n",
       "      <th>Item8</th>\n",
       "    </tr>\n",
       "  </thead>\n",
       "  <tbody>\n",
       "    <tr>\n",
       "      <th>count</th>\n",
       "      <td>10000.00000</td>\n",
       "      <td>10000.000000</td>\n",
       "      <td>10000.000000</td>\n",
       "      <td>10000.000000</td>\n",
       "      <td>10000.000000</td>\n",
       "      <td>10000.000000</td>\n",
       "      <td>10000.000000</td>\n",
       "      <td>10000.000000</td>\n",
       "      <td>10000.000000</td>\n",
       "      <td>10000.000000</td>\n",
       "      <td>...</td>\n",
       "      <td>10000.000000</td>\n",
       "      <td>10000.000000</td>\n",
       "      <td>10000.000000</td>\n",
       "      <td>10000.000000</td>\n",
       "      <td>10000.000000</td>\n",
       "      <td>10000.000000</td>\n",
       "      <td>10000.000000</td>\n",
       "      <td>10000.000000</td>\n",
       "      <td>10000.000000</td>\n",
       "      <td>10000.000000</td>\n",
       "    </tr>\n",
       "    <tr>\n",
       "      <th>mean</th>\n",
       "      <td>5000.50000</td>\n",
       "      <td>50159.323900</td>\n",
       "      <td>38.751099</td>\n",
       "      <td>-91.243080</td>\n",
       "      <td>9965.253800</td>\n",
       "      <td>2.097200</td>\n",
       "      <td>53.511700</td>\n",
       "      <td>40490.495160</td>\n",
       "      <td>17.964262</td>\n",
       "      <td>5.012200</td>\n",
       "      <td>...</td>\n",
       "      <td>5312.172769</td>\n",
       "      <td>12934.528587</td>\n",
       "      <td>3.518800</td>\n",
       "      <td>3.506700</td>\n",
       "      <td>3.511100</td>\n",
       "      <td>3.515100</td>\n",
       "      <td>3.496900</td>\n",
       "      <td>3.522500</td>\n",
       "      <td>3.494000</td>\n",
       "      <td>3.509700</td>\n",
       "    </tr>\n",
       "    <tr>\n",
       "      <th>std</th>\n",
       "      <td>2886.89568</td>\n",
       "      <td>27469.588208</td>\n",
       "      <td>5.403085</td>\n",
       "      <td>15.205998</td>\n",
       "      <td>14824.758614</td>\n",
       "      <td>2.163659</td>\n",
       "      <td>20.638538</td>\n",
       "      <td>28521.153293</td>\n",
       "      <td>2.017231</td>\n",
       "      <td>1.045734</td>\n",
       "      <td>...</td>\n",
       "      <td>2180.393838</td>\n",
       "      <td>6542.601544</td>\n",
       "      <td>1.031966</td>\n",
       "      <td>1.034825</td>\n",
       "      <td>1.032755</td>\n",
       "      <td>1.036282</td>\n",
       "      <td>1.030192</td>\n",
       "      <td>1.032376</td>\n",
       "      <td>1.021405</td>\n",
       "      <td>1.042312</td>\n",
       "    </tr>\n",
       "    <tr>\n",
       "      <th>min</th>\n",
       "      <td>1.00000</td>\n",
       "      <td>610.000000</td>\n",
       "      <td>17.967190</td>\n",
       "      <td>-174.209700</td>\n",
       "      <td>0.000000</td>\n",
       "      <td>0.000000</td>\n",
       "      <td>18.000000</td>\n",
       "      <td>154.080000</td>\n",
       "      <td>9.806483</td>\n",
       "      <td>1.000000</td>\n",
       "      <td>...</td>\n",
       "      <td>1938.312067</td>\n",
       "      <td>3125.703000</td>\n",
       "      <td>1.000000</td>\n",
       "      <td>1.000000</td>\n",
       "      <td>1.000000</td>\n",
       "      <td>1.000000</td>\n",
       "      <td>1.000000</td>\n",
       "      <td>1.000000</td>\n",
       "      <td>1.000000</td>\n",
       "      <td>1.000000</td>\n",
       "    </tr>\n",
       "    <tr>\n",
       "      <th>25%</th>\n",
       "      <td>2500.75000</td>\n",
       "      <td>27592.000000</td>\n",
       "      <td>35.255120</td>\n",
       "      <td>-97.352982</td>\n",
       "      <td>694.750000</td>\n",
       "      <td>0.000000</td>\n",
       "      <td>36.000000</td>\n",
       "      <td>19598.775000</td>\n",
       "      <td>16.626439</td>\n",
       "      <td>4.000000</td>\n",
       "      <td>...</td>\n",
       "      <td>3179.374015</td>\n",
       "      <td>7986.487755</td>\n",
       "      <td>3.000000</td>\n",
       "      <td>3.000000</td>\n",
       "      <td>3.000000</td>\n",
       "      <td>3.000000</td>\n",
       "      <td>3.000000</td>\n",
       "      <td>3.000000</td>\n",
       "      <td>3.000000</td>\n",
       "      <td>3.000000</td>\n",
       "    </tr>\n",
       "    <tr>\n",
       "      <th>50%</th>\n",
       "      <td>5000.50000</td>\n",
       "      <td>50207.000000</td>\n",
       "      <td>39.419355</td>\n",
       "      <td>-88.397230</td>\n",
       "      <td>2769.000000</td>\n",
       "      <td>1.000000</td>\n",
       "      <td>53.000000</td>\n",
       "      <td>33768.420000</td>\n",
       "      <td>17.951122</td>\n",
       "      <td>5.000000</td>\n",
       "      <td>...</td>\n",
       "      <td>5213.952000</td>\n",
       "      <td>11573.977735</td>\n",
       "      <td>4.000000</td>\n",
       "      <td>3.000000</td>\n",
       "      <td>4.000000</td>\n",
       "      <td>4.000000</td>\n",
       "      <td>3.000000</td>\n",
       "      <td>4.000000</td>\n",
       "      <td>3.000000</td>\n",
       "      <td>3.000000</td>\n",
       "    </tr>\n",
       "    <tr>\n",
       "      <th>75%</th>\n",
       "      <td>7500.25000</td>\n",
       "      <td>72411.750000</td>\n",
       "      <td>42.044175</td>\n",
       "      <td>-80.438050</td>\n",
       "      <td>13945.000000</td>\n",
       "      <td>3.000000</td>\n",
       "      <td>71.000000</td>\n",
       "      <td>54296.402500</td>\n",
       "      <td>19.347963</td>\n",
       "      <td>6.000000</td>\n",
       "      <td>...</td>\n",
       "      <td>7459.699750</td>\n",
       "      <td>15626.490000</td>\n",
       "      <td>4.000000</td>\n",
       "      <td>4.000000</td>\n",
       "      <td>4.000000</td>\n",
       "      <td>4.000000</td>\n",
       "      <td>4.000000</td>\n",
       "      <td>4.000000</td>\n",
       "      <td>4.000000</td>\n",
       "      <td>4.000000</td>\n",
       "    </tr>\n",
       "    <tr>\n",
       "      <th>max</th>\n",
       "      <td>10000.00000</td>\n",
       "      <td>99929.000000</td>\n",
       "      <td>70.560990</td>\n",
       "      <td>-65.290170</td>\n",
       "      <td>122814.000000</td>\n",
       "      <td>10.000000</td>\n",
       "      <td>89.000000</td>\n",
       "      <td>207249.100000</td>\n",
       "      <td>26.394449</td>\n",
       "      <td>9.000000</td>\n",
       "      <td>...</td>\n",
       "      <td>9180.728000</td>\n",
       "      <td>30566.070000</td>\n",
       "      <td>8.000000</td>\n",
       "      <td>7.000000</td>\n",
       "      <td>8.000000</td>\n",
       "      <td>7.000000</td>\n",
       "      <td>7.000000</td>\n",
       "      <td>7.000000</td>\n",
       "      <td>7.000000</td>\n",
       "      <td>7.000000</td>\n",
       "    </tr>\n",
       "  </tbody>\n",
       "</table>\n",
       "<p>8 rows × 23 columns</p>\n",
       "</div>"
      ],
      "text/plain": [
       "         CaseOrder           Zip           Lat           Lng     Population  \\\n",
       "count  10000.00000  10000.000000  10000.000000  10000.000000   10000.000000   \n",
       "mean    5000.50000  50159.323900     38.751099    -91.243080    9965.253800   \n",
       "std     2886.89568  27469.588208      5.403085     15.205998   14824.758614   \n",
       "min        1.00000    610.000000     17.967190   -174.209700       0.000000   \n",
       "25%     2500.75000  27592.000000     35.255120    -97.352982     694.750000   \n",
       "50%     5000.50000  50207.000000     39.419355    -88.397230    2769.000000   \n",
       "75%     7500.25000  72411.750000     42.044175    -80.438050   13945.000000   \n",
       "max    10000.00000  99929.000000     70.560990    -65.290170  122814.000000   \n",
       "\n",
       "           Children           Age         Income   VitD_levels    Doc_visits  \\\n",
       "count  10000.000000  10000.000000   10000.000000  10000.000000  10000.000000   \n",
       "mean       2.097200     53.511700   40490.495160     17.964262      5.012200   \n",
       "std        2.163659     20.638538   28521.153293      2.017231      1.045734   \n",
       "min        0.000000     18.000000     154.080000      9.806483      1.000000   \n",
       "25%        0.000000     36.000000   19598.775000     16.626439      4.000000   \n",
       "50%        1.000000     53.000000   33768.420000     17.951122      5.000000   \n",
       "75%        3.000000     71.000000   54296.402500     19.347963      6.000000   \n",
       "max       10.000000     89.000000  207249.100000     26.394449      9.000000   \n",
       "\n",
       "       ...   TotalCharge  Additional_charges         Item1         Item2  \\\n",
       "count  ...  10000.000000        10000.000000  10000.000000  10000.000000   \n",
       "mean   ...   5312.172769        12934.528587      3.518800      3.506700   \n",
       "std    ...   2180.393838         6542.601544      1.031966      1.034825   \n",
       "min    ...   1938.312067         3125.703000      1.000000      1.000000   \n",
       "25%    ...   3179.374015         7986.487755      3.000000      3.000000   \n",
       "50%    ...   5213.952000        11573.977735      4.000000      3.000000   \n",
       "75%    ...   7459.699750        15626.490000      4.000000      4.000000   \n",
       "max    ...   9180.728000        30566.070000      8.000000      7.000000   \n",
       "\n",
       "              Item3         Item4         Item5         Item6         Item7  \\\n",
       "count  10000.000000  10000.000000  10000.000000  10000.000000  10000.000000   \n",
       "mean       3.511100      3.515100      3.496900      3.522500      3.494000   \n",
       "std        1.032755      1.036282      1.030192      1.032376      1.021405   \n",
       "min        1.000000      1.000000      1.000000      1.000000      1.000000   \n",
       "25%        3.000000      3.000000      3.000000      3.000000      3.000000   \n",
       "50%        4.000000      4.000000      3.000000      4.000000      3.000000   \n",
       "75%        4.000000      4.000000      4.000000      4.000000      4.000000   \n",
       "max        8.000000      7.000000      7.000000      7.000000      7.000000   \n",
       "\n",
       "              Item8  \n",
       "count  10000.000000  \n",
       "mean       3.509700  \n",
       "std        1.042312  \n",
       "min        1.000000  \n",
       "25%        3.000000  \n",
       "50%        3.000000  \n",
       "75%        4.000000  \n",
       "max        7.000000  \n",
       "\n",
       "[8 rows x 23 columns]"
      ]
     },
     "execution_count": 265,
     "metadata": {},
     "output_type": "execute_result"
    }
   ],
   "source": [
    "df.describe()"
   ]
  },
  {
   "cell_type": "markdown",
   "id": "fe8631c0-4345-4d11-9fa3-4f487cfbf65d",
   "metadata": {},
   "source": [
    "### Describe and Explore Numeric Fields:"
   ]
  },
  {
   "cell_type": "code",
   "execution_count": 266,
   "id": "6cb87684-e75e-4ae8-8b82-e0566581d852",
   "metadata": {},
   "outputs": [
    {
     "data": {
      "text/html": [
       "<div>\n",
       "<style scoped>\n",
       "    .dataframe tbody tr th:only-of-type {\n",
       "        vertical-align: middle;\n",
       "    }\n",
       "\n",
       "    .dataframe tbody tr th {\n",
       "        vertical-align: top;\n",
       "    }\n",
       "\n",
       "    .dataframe thead th {\n",
       "        text-align: right;\n",
       "    }\n",
       "</style>\n",
       "<table border=\"1\" class=\"dataframe\">\n",
       "  <thead>\n",
       "    <tr style=\"text-align: right;\">\n",
       "      <th></th>\n",
       "      <th>CaseOrder</th>\n",
       "      <th>Zip</th>\n",
       "      <th>Lat</th>\n",
       "      <th>Lng</th>\n",
       "      <th>Population</th>\n",
       "      <th>Children</th>\n",
       "      <th>Age</th>\n",
       "      <th>Income</th>\n",
       "      <th>VitD_levels</th>\n",
       "      <th>Doc_visits</th>\n",
       "      <th>...</th>\n",
       "      <th>TotalCharge</th>\n",
       "      <th>Additional_charges</th>\n",
       "      <th>Item1</th>\n",
       "      <th>Item2</th>\n",
       "      <th>Item3</th>\n",
       "      <th>Item4</th>\n",
       "      <th>Item5</th>\n",
       "      <th>Item6</th>\n",
       "      <th>Item7</th>\n",
       "      <th>Item8</th>\n",
       "    </tr>\n",
       "  </thead>\n",
       "  <tbody>\n",
       "    <tr>\n",
       "      <th>count</th>\n",
       "      <td>10000.00000</td>\n",
       "      <td>10000.000000</td>\n",
       "      <td>10000.000000</td>\n",
       "      <td>10000.000000</td>\n",
       "      <td>10000.000000</td>\n",
       "      <td>10000.000000</td>\n",
       "      <td>10000.000000</td>\n",
       "      <td>10000.000000</td>\n",
       "      <td>10000.000000</td>\n",
       "      <td>10000.000000</td>\n",
       "      <td>...</td>\n",
       "      <td>10000.000000</td>\n",
       "      <td>10000.000000</td>\n",
       "      <td>10000.000000</td>\n",
       "      <td>10000.000000</td>\n",
       "      <td>10000.000000</td>\n",
       "      <td>10000.000000</td>\n",
       "      <td>10000.000000</td>\n",
       "      <td>10000.000000</td>\n",
       "      <td>10000.000000</td>\n",
       "      <td>10000.000000</td>\n",
       "    </tr>\n",
       "    <tr>\n",
       "      <th>mean</th>\n",
       "      <td>5000.50000</td>\n",
       "      <td>50159.323900</td>\n",
       "      <td>38.751099</td>\n",
       "      <td>-91.243080</td>\n",
       "      <td>9965.253800</td>\n",
       "      <td>2.097200</td>\n",
       "      <td>53.511700</td>\n",
       "      <td>40490.495160</td>\n",
       "      <td>17.964262</td>\n",
       "      <td>5.012200</td>\n",
       "      <td>...</td>\n",
       "      <td>5312.172769</td>\n",
       "      <td>12934.528587</td>\n",
       "      <td>3.518800</td>\n",
       "      <td>3.506700</td>\n",
       "      <td>3.511100</td>\n",
       "      <td>3.515100</td>\n",
       "      <td>3.496900</td>\n",
       "      <td>3.522500</td>\n",
       "      <td>3.494000</td>\n",
       "      <td>3.509700</td>\n",
       "    </tr>\n",
       "    <tr>\n",
       "      <th>std</th>\n",
       "      <td>2886.89568</td>\n",
       "      <td>27469.588208</td>\n",
       "      <td>5.403085</td>\n",
       "      <td>15.205998</td>\n",
       "      <td>14824.758614</td>\n",
       "      <td>2.163659</td>\n",
       "      <td>20.638538</td>\n",
       "      <td>28521.153293</td>\n",
       "      <td>2.017231</td>\n",
       "      <td>1.045734</td>\n",
       "      <td>...</td>\n",
       "      <td>2180.393838</td>\n",
       "      <td>6542.601544</td>\n",
       "      <td>1.031966</td>\n",
       "      <td>1.034825</td>\n",
       "      <td>1.032755</td>\n",
       "      <td>1.036282</td>\n",
       "      <td>1.030192</td>\n",
       "      <td>1.032376</td>\n",
       "      <td>1.021405</td>\n",
       "      <td>1.042312</td>\n",
       "    </tr>\n",
       "    <tr>\n",
       "      <th>min</th>\n",
       "      <td>1.00000</td>\n",
       "      <td>610.000000</td>\n",
       "      <td>17.967190</td>\n",
       "      <td>-174.209700</td>\n",
       "      <td>0.000000</td>\n",
       "      <td>0.000000</td>\n",
       "      <td>18.000000</td>\n",
       "      <td>154.080000</td>\n",
       "      <td>9.806483</td>\n",
       "      <td>1.000000</td>\n",
       "      <td>...</td>\n",
       "      <td>1938.312067</td>\n",
       "      <td>3125.703000</td>\n",
       "      <td>1.000000</td>\n",
       "      <td>1.000000</td>\n",
       "      <td>1.000000</td>\n",
       "      <td>1.000000</td>\n",
       "      <td>1.000000</td>\n",
       "      <td>1.000000</td>\n",
       "      <td>1.000000</td>\n",
       "      <td>1.000000</td>\n",
       "    </tr>\n",
       "    <tr>\n",
       "      <th>25%</th>\n",
       "      <td>2500.75000</td>\n",
       "      <td>27592.000000</td>\n",
       "      <td>35.255120</td>\n",
       "      <td>-97.352982</td>\n",
       "      <td>694.750000</td>\n",
       "      <td>0.000000</td>\n",
       "      <td>36.000000</td>\n",
       "      <td>19598.775000</td>\n",
       "      <td>16.626439</td>\n",
       "      <td>4.000000</td>\n",
       "      <td>...</td>\n",
       "      <td>3179.374015</td>\n",
       "      <td>7986.487755</td>\n",
       "      <td>3.000000</td>\n",
       "      <td>3.000000</td>\n",
       "      <td>3.000000</td>\n",
       "      <td>3.000000</td>\n",
       "      <td>3.000000</td>\n",
       "      <td>3.000000</td>\n",
       "      <td>3.000000</td>\n",
       "      <td>3.000000</td>\n",
       "    </tr>\n",
       "    <tr>\n",
       "      <th>50%</th>\n",
       "      <td>5000.50000</td>\n",
       "      <td>50207.000000</td>\n",
       "      <td>39.419355</td>\n",
       "      <td>-88.397230</td>\n",
       "      <td>2769.000000</td>\n",
       "      <td>1.000000</td>\n",
       "      <td>53.000000</td>\n",
       "      <td>33768.420000</td>\n",
       "      <td>17.951122</td>\n",
       "      <td>5.000000</td>\n",
       "      <td>...</td>\n",
       "      <td>5213.952000</td>\n",
       "      <td>11573.977735</td>\n",
       "      <td>4.000000</td>\n",
       "      <td>3.000000</td>\n",
       "      <td>4.000000</td>\n",
       "      <td>4.000000</td>\n",
       "      <td>3.000000</td>\n",
       "      <td>4.000000</td>\n",
       "      <td>3.000000</td>\n",
       "      <td>3.000000</td>\n",
       "    </tr>\n",
       "    <tr>\n",
       "      <th>75%</th>\n",
       "      <td>7500.25000</td>\n",
       "      <td>72411.750000</td>\n",
       "      <td>42.044175</td>\n",
       "      <td>-80.438050</td>\n",
       "      <td>13945.000000</td>\n",
       "      <td>3.000000</td>\n",
       "      <td>71.000000</td>\n",
       "      <td>54296.402500</td>\n",
       "      <td>19.347963</td>\n",
       "      <td>6.000000</td>\n",
       "      <td>...</td>\n",
       "      <td>7459.699750</td>\n",
       "      <td>15626.490000</td>\n",
       "      <td>4.000000</td>\n",
       "      <td>4.000000</td>\n",
       "      <td>4.000000</td>\n",
       "      <td>4.000000</td>\n",
       "      <td>4.000000</td>\n",
       "      <td>4.000000</td>\n",
       "      <td>4.000000</td>\n",
       "      <td>4.000000</td>\n",
       "    </tr>\n",
       "    <tr>\n",
       "      <th>max</th>\n",
       "      <td>10000.00000</td>\n",
       "      <td>99929.000000</td>\n",
       "      <td>70.560990</td>\n",
       "      <td>-65.290170</td>\n",
       "      <td>122814.000000</td>\n",
       "      <td>10.000000</td>\n",
       "      <td>89.000000</td>\n",
       "      <td>207249.100000</td>\n",
       "      <td>26.394449</td>\n",
       "      <td>9.000000</td>\n",
       "      <td>...</td>\n",
       "      <td>9180.728000</td>\n",
       "      <td>30566.070000</td>\n",
       "      <td>8.000000</td>\n",
       "      <td>7.000000</td>\n",
       "      <td>8.000000</td>\n",
       "      <td>7.000000</td>\n",
       "      <td>7.000000</td>\n",
       "      <td>7.000000</td>\n",
       "      <td>7.000000</td>\n",
       "      <td>7.000000</td>\n",
       "    </tr>\n",
       "  </tbody>\n",
       "</table>\n",
       "<p>8 rows × 23 columns</p>\n",
       "</div>"
      ],
      "text/plain": [
       "         CaseOrder           Zip           Lat           Lng     Population  \\\n",
       "count  10000.00000  10000.000000  10000.000000  10000.000000   10000.000000   \n",
       "mean    5000.50000  50159.323900     38.751099    -91.243080    9965.253800   \n",
       "std     2886.89568  27469.588208      5.403085     15.205998   14824.758614   \n",
       "min        1.00000    610.000000     17.967190   -174.209700       0.000000   \n",
       "25%     2500.75000  27592.000000     35.255120    -97.352982     694.750000   \n",
       "50%     5000.50000  50207.000000     39.419355    -88.397230    2769.000000   \n",
       "75%     7500.25000  72411.750000     42.044175    -80.438050   13945.000000   \n",
       "max    10000.00000  99929.000000     70.560990    -65.290170  122814.000000   \n",
       "\n",
       "           Children           Age         Income   VitD_levels    Doc_visits  \\\n",
       "count  10000.000000  10000.000000   10000.000000  10000.000000  10000.000000   \n",
       "mean       2.097200     53.511700   40490.495160     17.964262      5.012200   \n",
       "std        2.163659     20.638538   28521.153293      2.017231      1.045734   \n",
       "min        0.000000     18.000000     154.080000      9.806483      1.000000   \n",
       "25%        0.000000     36.000000   19598.775000     16.626439      4.000000   \n",
       "50%        1.000000     53.000000   33768.420000     17.951122      5.000000   \n",
       "75%        3.000000     71.000000   54296.402500     19.347963      6.000000   \n",
       "max       10.000000     89.000000  207249.100000     26.394449      9.000000   \n",
       "\n",
       "       ...   TotalCharge  Additional_charges         Item1         Item2  \\\n",
       "count  ...  10000.000000        10000.000000  10000.000000  10000.000000   \n",
       "mean   ...   5312.172769        12934.528587      3.518800      3.506700   \n",
       "std    ...   2180.393838         6542.601544      1.031966      1.034825   \n",
       "min    ...   1938.312067         3125.703000      1.000000      1.000000   \n",
       "25%    ...   3179.374015         7986.487755      3.000000      3.000000   \n",
       "50%    ...   5213.952000        11573.977735      4.000000      3.000000   \n",
       "75%    ...   7459.699750        15626.490000      4.000000      4.000000   \n",
       "max    ...   9180.728000        30566.070000      8.000000      7.000000   \n",
       "\n",
       "              Item3         Item4         Item5         Item6         Item7  \\\n",
       "count  10000.000000  10000.000000  10000.000000  10000.000000  10000.000000   \n",
       "mean       3.511100      3.515100      3.496900      3.522500      3.494000   \n",
       "std        1.032755      1.036282      1.030192      1.032376      1.021405   \n",
       "min        1.000000      1.000000      1.000000      1.000000      1.000000   \n",
       "25%        3.000000      3.000000      3.000000      3.000000      3.000000   \n",
       "50%        4.000000      4.000000      3.000000      4.000000      3.000000   \n",
       "75%        4.000000      4.000000      4.000000      4.000000      4.000000   \n",
       "max        8.000000      7.000000      7.000000      7.000000      7.000000   \n",
       "\n",
       "              Item8  \n",
       "count  10000.000000  \n",
       "mean       3.509700  \n",
       "std        1.042312  \n",
       "min        1.000000  \n",
       "25%        3.000000  \n",
       "50%        3.000000  \n",
       "75%        4.000000  \n",
       "max        7.000000  \n",
       "\n",
       "[8 rows x 23 columns]"
      ]
     },
     "execution_count": 266,
     "metadata": {},
     "output_type": "execute_result"
    }
   ],
   "source": [
    "df.describe(include = [np.number])"
   ]
  },
  {
   "cell_type": "code",
   "execution_count": 267,
   "id": "4ac0fd32-90f0-498b-9afd-43abb13c968a",
   "metadata": {},
   "outputs": [
    {
     "data": {
      "text/html": [
       "<div>\n",
       "<style scoped>\n",
       "    .dataframe tbody tr th:only-of-type {\n",
       "        vertical-align: middle;\n",
       "    }\n",
       "\n",
       "    .dataframe tbody tr th {\n",
       "        vertical-align: top;\n",
       "    }\n",
       "\n",
       "    .dataframe thead th {\n",
       "        text-align: right;\n",
       "    }\n",
       "</style>\n",
       "<table border=\"1\" class=\"dataframe\">\n",
       "  <thead>\n",
       "    <tr style=\"text-align: right;\">\n",
       "      <th></th>\n",
       "      <th>CaseOrder</th>\n",
       "      <th>Zip</th>\n",
       "      <th>Lat</th>\n",
       "      <th>Lng</th>\n",
       "      <th>Population</th>\n",
       "      <th>Children</th>\n",
       "      <th>Age</th>\n",
       "      <th>Income</th>\n",
       "      <th>VitD_levels</th>\n",
       "      <th>Doc_visits</th>\n",
       "      <th>...</th>\n",
       "      <th>TotalCharge</th>\n",
       "      <th>Additional_charges</th>\n",
       "      <th>Item1</th>\n",
       "      <th>Item2</th>\n",
       "      <th>Item3</th>\n",
       "      <th>Item4</th>\n",
       "      <th>Item5</th>\n",
       "      <th>Item6</th>\n",
       "      <th>Item7</th>\n",
       "      <th>Item8</th>\n",
       "    </tr>\n",
       "  </thead>\n",
       "  <tbody>\n",
       "    <tr>\n",
       "      <th>0</th>\n",
       "      <td>1</td>\n",
       "      <td>35621</td>\n",
       "      <td>34.34960</td>\n",
       "      <td>-86.72508</td>\n",
       "      <td>2951</td>\n",
       "      <td>1</td>\n",
       "      <td>53</td>\n",
       "      <td>86575.93</td>\n",
       "      <td>19.141466</td>\n",
       "      <td>6</td>\n",
       "      <td>...</td>\n",
       "      <td>3726.702860</td>\n",
       "      <td>17939.403420</td>\n",
       "      <td>3</td>\n",
       "      <td>3</td>\n",
       "      <td>2</td>\n",
       "      <td>2</td>\n",
       "      <td>4</td>\n",
       "      <td>3</td>\n",
       "      <td>3</td>\n",
       "      <td>4</td>\n",
       "    </tr>\n",
       "    <tr>\n",
       "      <th>1</th>\n",
       "      <td>2</td>\n",
       "      <td>32446</td>\n",
       "      <td>30.84513</td>\n",
       "      <td>-85.22907</td>\n",
       "      <td>11303</td>\n",
       "      <td>3</td>\n",
       "      <td>51</td>\n",
       "      <td>46805.99</td>\n",
       "      <td>18.940352</td>\n",
       "      <td>4</td>\n",
       "      <td>...</td>\n",
       "      <td>4193.190458</td>\n",
       "      <td>17612.998120</td>\n",
       "      <td>3</td>\n",
       "      <td>4</td>\n",
       "      <td>3</td>\n",
       "      <td>4</td>\n",
       "      <td>4</td>\n",
       "      <td>4</td>\n",
       "      <td>3</td>\n",
       "      <td>3</td>\n",
       "    </tr>\n",
       "    <tr>\n",
       "      <th>2</th>\n",
       "      <td>3</td>\n",
       "      <td>57110</td>\n",
       "      <td>43.54321</td>\n",
       "      <td>-96.63772</td>\n",
       "      <td>17125</td>\n",
       "      <td>3</td>\n",
       "      <td>53</td>\n",
       "      <td>14370.14</td>\n",
       "      <td>18.057507</td>\n",
       "      <td>4</td>\n",
       "      <td>...</td>\n",
       "      <td>2434.234222</td>\n",
       "      <td>17505.192460</td>\n",
       "      <td>2</td>\n",
       "      <td>4</td>\n",
       "      <td>4</td>\n",
       "      <td>4</td>\n",
       "      <td>3</td>\n",
       "      <td>4</td>\n",
       "      <td>3</td>\n",
       "      <td>3</td>\n",
       "    </tr>\n",
       "    <tr>\n",
       "      <th>3</th>\n",
       "      <td>4</td>\n",
       "      <td>56072</td>\n",
       "      <td>43.89744</td>\n",
       "      <td>-93.51479</td>\n",
       "      <td>2162</td>\n",
       "      <td>0</td>\n",
       "      <td>78</td>\n",
       "      <td>39741.49</td>\n",
       "      <td>16.576858</td>\n",
       "      <td>4</td>\n",
       "      <td>...</td>\n",
       "      <td>2127.830423</td>\n",
       "      <td>12993.437350</td>\n",
       "      <td>3</td>\n",
       "      <td>5</td>\n",
       "      <td>5</td>\n",
       "      <td>3</td>\n",
       "      <td>4</td>\n",
       "      <td>5</td>\n",
       "      <td>5</td>\n",
       "      <td>5</td>\n",
       "    </tr>\n",
       "    <tr>\n",
       "      <th>4</th>\n",
       "      <td>5</td>\n",
       "      <td>23181</td>\n",
       "      <td>37.59894</td>\n",
       "      <td>-76.88958</td>\n",
       "      <td>5287</td>\n",
       "      <td>1</td>\n",
       "      <td>22</td>\n",
       "      <td>1209.56</td>\n",
       "      <td>17.439069</td>\n",
       "      <td>5</td>\n",
       "      <td>...</td>\n",
       "      <td>2113.073274</td>\n",
       "      <td>3716.525786</td>\n",
       "      <td>2</td>\n",
       "      <td>1</td>\n",
       "      <td>3</td>\n",
       "      <td>3</td>\n",
       "      <td>5</td>\n",
       "      <td>3</td>\n",
       "      <td>4</td>\n",
       "      <td>3</td>\n",
       "    </tr>\n",
       "  </tbody>\n",
       "</table>\n",
       "<p>5 rows × 23 columns</p>\n",
       "</div>"
      ],
      "text/plain": [
       "   CaseOrder    Zip       Lat       Lng  Population  Children  Age    Income  \\\n",
       "0          1  35621  34.34960 -86.72508        2951         1   53  86575.93   \n",
       "1          2  32446  30.84513 -85.22907       11303         3   51  46805.99   \n",
       "2          3  57110  43.54321 -96.63772       17125         3   53  14370.14   \n",
       "3          4  56072  43.89744 -93.51479        2162         0   78  39741.49   \n",
       "4          5  23181  37.59894 -76.88958        5287         1   22   1209.56   \n",
       "\n",
       "   VitD_levels  Doc_visits  ...  TotalCharge  Additional_charges  Item1  \\\n",
       "0    19.141466           6  ...  3726.702860        17939.403420      3   \n",
       "1    18.940352           4  ...  4193.190458        17612.998120      3   \n",
       "2    18.057507           4  ...  2434.234222        17505.192460      2   \n",
       "3    16.576858           4  ...  2127.830423        12993.437350      3   \n",
       "4    17.439069           5  ...  2113.073274         3716.525786      2   \n",
       "\n",
       "   Item2  Item3  Item4  Item5  Item6  Item7  Item8  \n",
       "0      3      2      2      4      3      3      4  \n",
       "1      4      3      4      4      4      3      3  \n",
       "2      4      4      4      3      4      3      3  \n",
       "3      5      5      3      4      5      5      5  \n",
       "4      1      3      3      5      3      4      3  \n",
       "\n",
       "[5 rows x 23 columns]"
      ]
     },
     "execution_count": 267,
     "metadata": {},
     "output_type": "execute_result"
    }
   ],
   "source": [
    "df_num = df.select_dtypes(include='number')\n",
    "df_num.head()"
   ]
  },
  {
   "cell_type": "markdown",
   "id": "4e21fe24-9574-4f6e-84cf-468686534cc0",
   "metadata": {},
   "source": [
    "### Describe and Explore Categorical Fields:"
   ]
  },
  {
   "cell_type": "code",
   "execution_count": 268,
   "id": "263ac24a-575c-48b7-9be0-08976448dd29",
   "metadata": {},
   "outputs": [
    {
     "data": {
      "text/html": [
       "<div>\n",
       "<style scoped>\n",
       "    .dataframe tbody tr th:only-of-type {\n",
       "        vertical-align: middle;\n",
       "    }\n",
       "\n",
       "    .dataframe tbody tr th {\n",
       "        vertical-align: top;\n",
       "    }\n",
       "\n",
       "    .dataframe thead th {\n",
       "        text-align: right;\n",
       "    }\n",
       "</style>\n",
       "<table border=\"1\" class=\"dataframe\">\n",
       "  <thead>\n",
       "    <tr style=\"text-align: right;\">\n",
       "      <th></th>\n",
       "      <th>Customer_id</th>\n",
       "      <th>Interaction</th>\n",
       "      <th>UID</th>\n",
       "      <th>City</th>\n",
       "      <th>State</th>\n",
       "      <th>County</th>\n",
       "      <th>Area</th>\n",
       "      <th>TimeZone</th>\n",
       "      <th>Job</th>\n",
       "      <th>Marital</th>\n",
       "      <th>...</th>\n",
       "      <th>Overweight</th>\n",
       "      <th>Arthritis</th>\n",
       "      <th>Diabetes</th>\n",
       "      <th>Hyperlipidemia</th>\n",
       "      <th>BackPain</th>\n",
       "      <th>Anxiety</th>\n",
       "      <th>Allergic_rhinitis</th>\n",
       "      <th>Reflux_esophagitis</th>\n",
       "      <th>Asthma</th>\n",
       "      <th>Services</th>\n",
       "    </tr>\n",
       "  </thead>\n",
       "  <tbody>\n",
       "    <tr>\n",
       "      <th>count</th>\n",
       "      <td>10000</td>\n",
       "      <td>10000</td>\n",
       "      <td>10000</td>\n",
       "      <td>10000</td>\n",
       "      <td>10000</td>\n",
       "      <td>10000</td>\n",
       "      <td>10000</td>\n",
       "      <td>10000</td>\n",
       "      <td>10000</td>\n",
       "      <td>10000</td>\n",
       "      <td>...</td>\n",
       "      <td>10000</td>\n",
       "      <td>10000</td>\n",
       "      <td>10000</td>\n",
       "      <td>10000</td>\n",
       "      <td>10000</td>\n",
       "      <td>10000</td>\n",
       "      <td>10000</td>\n",
       "      <td>10000</td>\n",
       "      <td>10000</td>\n",
       "      <td>10000</td>\n",
       "    </tr>\n",
       "    <tr>\n",
       "      <th>unique</th>\n",
       "      <td>10000</td>\n",
       "      <td>10000</td>\n",
       "      <td>10000</td>\n",
       "      <td>6072</td>\n",
       "      <td>52</td>\n",
       "      <td>1607</td>\n",
       "      <td>3</td>\n",
       "      <td>26</td>\n",
       "      <td>639</td>\n",
       "      <td>5</td>\n",
       "      <td>...</td>\n",
       "      <td>2</td>\n",
       "      <td>2</td>\n",
       "      <td>2</td>\n",
       "      <td>2</td>\n",
       "      <td>2</td>\n",
       "      <td>2</td>\n",
       "      <td>2</td>\n",
       "      <td>2</td>\n",
       "      <td>2</td>\n",
       "      <td>4</td>\n",
       "    </tr>\n",
       "    <tr>\n",
       "      <th>top</th>\n",
       "      <td>J996358</td>\n",
       "      <td>d3fb6bb4-7af2-4e0f-a560-38d9b85f550f</td>\n",
       "      <td>8f1c55480f3ae80979083c8151dd6e4b</td>\n",
       "      <td>Houston</td>\n",
       "      <td>TX</td>\n",
       "      <td>Jefferson</td>\n",
       "      <td>Rural</td>\n",
       "      <td>America/New_York</td>\n",
       "      <td>Outdoor activities/education manager</td>\n",
       "      <td>Widowed</td>\n",
       "      <td>...</td>\n",
       "      <td>Yes</td>\n",
       "      <td>No</td>\n",
       "      <td>No</td>\n",
       "      <td>No</td>\n",
       "      <td>No</td>\n",
       "      <td>No</td>\n",
       "      <td>No</td>\n",
       "      <td>No</td>\n",
       "      <td>No</td>\n",
       "      <td>Blood Work</td>\n",
       "    </tr>\n",
       "    <tr>\n",
       "      <th>freq</th>\n",
       "      <td>1</td>\n",
       "      <td>1</td>\n",
       "      <td>1</td>\n",
       "      <td>36</td>\n",
       "      <td>553</td>\n",
       "      <td>118</td>\n",
       "      <td>3369</td>\n",
       "      <td>3889</td>\n",
       "      <td>29</td>\n",
       "      <td>2045</td>\n",
       "      <td>...</td>\n",
       "      <td>7094</td>\n",
       "      <td>6426</td>\n",
       "      <td>7262</td>\n",
       "      <td>6628</td>\n",
       "      <td>5886</td>\n",
       "      <td>6785</td>\n",
       "      <td>6059</td>\n",
       "      <td>5865</td>\n",
       "      <td>7107</td>\n",
       "      <td>5265</td>\n",
       "    </tr>\n",
       "  </tbody>\n",
       "</table>\n",
       "<p>4 rows × 27 columns</p>\n",
       "</div>"
      ],
      "text/plain": [
       "       Customer_id                           Interaction  \\\n",
       "count        10000                                 10000   \n",
       "unique       10000                                 10000   \n",
       "top        J996358  d3fb6bb4-7af2-4e0f-a560-38d9b85f550f   \n",
       "freq             1                                     1   \n",
       "\n",
       "                                     UID     City  State     County   Area  \\\n",
       "count                              10000    10000  10000      10000  10000   \n",
       "unique                             10000     6072     52       1607      3   \n",
       "top     8f1c55480f3ae80979083c8151dd6e4b  Houston     TX  Jefferson  Rural   \n",
       "freq                                   1       36    553        118   3369   \n",
       "\n",
       "                TimeZone                                   Job  Marital  ...  \\\n",
       "count              10000                                 10000    10000  ...   \n",
       "unique                26                                   639        5  ...   \n",
       "top     America/New_York  Outdoor activities/education manager  Widowed  ...   \n",
       "freq                3889                                    29     2045  ...   \n",
       "\n",
       "       Overweight Arthritis Diabetes Hyperlipidemia BackPain Anxiety  \\\n",
       "count       10000     10000    10000          10000    10000   10000   \n",
       "unique          2         2        2              2        2       2   \n",
       "top           Yes        No       No             No       No      No   \n",
       "freq         7094      6426     7262           6628     5886    6785   \n",
       "\n",
       "       Allergic_rhinitis Reflux_esophagitis Asthma    Services  \n",
       "count              10000              10000  10000       10000  \n",
       "unique                 2                  2      2           4  \n",
       "top                   No                 No     No  Blood Work  \n",
       "freq                6059               5865   7107        5265  \n",
       "\n",
       "[4 rows x 27 columns]"
      ]
     },
     "execution_count": 268,
     "metadata": {},
     "output_type": "execute_result"
    }
   ],
   "source": [
    "df.describe(exclude = [np.number])"
   ]
  },
  {
   "cell_type": "code",
   "execution_count": 269,
   "id": "d2c1b5db-26b6-424d-b0db-c447a213cb7a",
   "metadata": {
    "tags": []
   },
   "outputs": [
    {
     "data": {
      "text/html": [
       "<div>\n",
       "<style scoped>\n",
       "    .dataframe tbody tr th:only-of-type {\n",
       "        vertical-align: middle;\n",
       "    }\n",
       "\n",
       "    .dataframe tbody tr th {\n",
       "        vertical-align: top;\n",
       "    }\n",
       "\n",
       "    .dataframe thead th {\n",
       "        text-align: right;\n",
       "    }\n",
       "</style>\n",
       "<table border=\"1\" class=\"dataframe\">\n",
       "  <thead>\n",
       "    <tr style=\"text-align: right;\">\n",
       "      <th></th>\n",
       "      <th>Customer_id</th>\n",
       "      <th>Interaction</th>\n",
       "      <th>UID</th>\n",
       "      <th>City</th>\n",
       "      <th>State</th>\n",
       "      <th>County</th>\n",
       "      <th>Area</th>\n",
       "      <th>TimeZone</th>\n",
       "      <th>Job</th>\n",
       "      <th>Marital</th>\n",
       "      <th>...</th>\n",
       "      <th>Overweight</th>\n",
       "      <th>Arthritis</th>\n",
       "      <th>Diabetes</th>\n",
       "      <th>Hyperlipidemia</th>\n",
       "      <th>BackPain</th>\n",
       "      <th>Anxiety</th>\n",
       "      <th>Allergic_rhinitis</th>\n",
       "      <th>Reflux_esophagitis</th>\n",
       "      <th>Asthma</th>\n",
       "      <th>Services</th>\n",
       "    </tr>\n",
       "  </thead>\n",
       "  <tbody>\n",
       "    <tr>\n",
       "      <th>0</th>\n",
       "      <td>C412403</td>\n",
       "      <td>8cd49b13-f45a-4b47-a2bd-173ffa932c2f</td>\n",
       "      <td>3a83ddb66e2ae73798bdf1d705dc0932</td>\n",
       "      <td>Eva</td>\n",
       "      <td>AL</td>\n",
       "      <td>Morgan</td>\n",
       "      <td>Suburban</td>\n",
       "      <td>America/Chicago</td>\n",
       "      <td>Psychologist, sport and exercise</td>\n",
       "      <td>Divorced</td>\n",
       "      <td>...</td>\n",
       "      <td>No</td>\n",
       "      <td>Yes</td>\n",
       "      <td>Yes</td>\n",
       "      <td>No</td>\n",
       "      <td>Yes</td>\n",
       "      <td>Yes</td>\n",
       "      <td>Yes</td>\n",
       "      <td>No</td>\n",
       "      <td>Yes</td>\n",
       "      <td>Blood Work</td>\n",
       "    </tr>\n",
       "    <tr>\n",
       "      <th>1</th>\n",
       "      <td>Z919181</td>\n",
       "      <td>d2450b70-0337-4406-bdbb-bc1037f1734c</td>\n",
       "      <td>176354c5eef714957d486009feabf195</td>\n",
       "      <td>Marianna</td>\n",
       "      <td>FL</td>\n",
       "      <td>Jackson</td>\n",
       "      <td>Urban</td>\n",
       "      <td>America/Chicago</td>\n",
       "      <td>Community development worker</td>\n",
       "      <td>Married</td>\n",
       "      <td>...</td>\n",
       "      <td>Yes</td>\n",
       "      <td>No</td>\n",
       "      <td>No</td>\n",
       "      <td>No</td>\n",
       "      <td>No</td>\n",
       "      <td>No</td>\n",
       "      <td>No</td>\n",
       "      <td>Yes</td>\n",
       "      <td>No</td>\n",
       "      <td>Intravenous</td>\n",
       "    </tr>\n",
       "    <tr>\n",
       "      <th>2</th>\n",
       "      <td>F995323</td>\n",
       "      <td>a2057123-abf5-4a2c-abad-8ffe33512562</td>\n",
       "      <td>e19a0fa00aeda885b8a436757e889bc9</td>\n",
       "      <td>Sioux Falls</td>\n",
       "      <td>SD</td>\n",
       "      <td>Minnehaha</td>\n",
       "      <td>Suburban</td>\n",
       "      <td>America/Chicago</td>\n",
       "      <td>Chief Executive Officer</td>\n",
       "      <td>Widowed</td>\n",
       "      <td>...</td>\n",
       "      <td>Yes</td>\n",
       "      <td>No</td>\n",
       "      <td>Yes</td>\n",
       "      <td>No</td>\n",
       "      <td>No</td>\n",
       "      <td>No</td>\n",
       "      <td>No</td>\n",
       "      <td>No</td>\n",
       "      <td>No</td>\n",
       "      <td>Blood Work</td>\n",
       "    </tr>\n",
       "    <tr>\n",
       "      <th>3</th>\n",
       "      <td>A879973</td>\n",
       "      <td>1dec528d-eb34-4079-adce-0d7a40e82205</td>\n",
       "      <td>cd17d7b6d152cb6f23957346d11c3f07</td>\n",
       "      <td>New Richland</td>\n",
       "      <td>MN</td>\n",
       "      <td>Waseca</td>\n",
       "      <td>Suburban</td>\n",
       "      <td>America/Chicago</td>\n",
       "      <td>Early years teacher</td>\n",
       "      <td>Married</td>\n",
       "      <td>...</td>\n",
       "      <td>No</td>\n",
       "      <td>Yes</td>\n",
       "      <td>No</td>\n",
       "      <td>No</td>\n",
       "      <td>No</td>\n",
       "      <td>No</td>\n",
       "      <td>No</td>\n",
       "      <td>Yes</td>\n",
       "      <td>Yes</td>\n",
       "      <td>Blood Work</td>\n",
       "    </tr>\n",
       "    <tr>\n",
       "      <th>4</th>\n",
       "      <td>C544523</td>\n",
       "      <td>5885f56b-d6da-43a3-8760-83583af94266</td>\n",
       "      <td>d2f0425877b10ed6bb381f3e2579424a</td>\n",
       "      <td>West Point</td>\n",
       "      <td>VA</td>\n",
       "      <td>King William</td>\n",
       "      <td>Rural</td>\n",
       "      <td>America/New_York</td>\n",
       "      <td>Health promotion specialist</td>\n",
       "      <td>Widowed</td>\n",
       "      <td>...</td>\n",
       "      <td>No</td>\n",
       "      <td>No</td>\n",
       "      <td>No</td>\n",
       "      <td>Yes</td>\n",
       "      <td>No</td>\n",
       "      <td>No</td>\n",
       "      <td>Yes</td>\n",
       "      <td>No</td>\n",
       "      <td>No</td>\n",
       "      <td>CT Scan</td>\n",
       "    </tr>\n",
       "  </tbody>\n",
       "</table>\n",
       "<p>5 rows × 27 columns</p>\n",
       "</div>"
      ],
      "text/plain": [
       "  Customer_id                           Interaction  \\\n",
       "0     C412403  8cd49b13-f45a-4b47-a2bd-173ffa932c2f   \n",
       "1     Z919181  d2450b70-0337-4406-bdbb-bc1037f1734c   \n",
       "2     F995323  a2057123-abf5-4a2c-abad-8ffe33512562   \n",
       "3     A879973  1dec528d-eb34-4079-adce-0d7a40e82205   \n",
       "4     C544523  5885f56b-d6da-43a3-8760-83583af94266   \n",
       "\n",
       "                                UID          City State        County  \\\n",
       "0  3a83ddb66e2ae73798bdf1d705dc0932           Eva    AL        Morgan   \n",
       "1  176354c5eef714957d486009feabf195      Marianna    FL       Jackson   \n",
       "2  e19a0fa00aeda885b8a436757e889bc9   Sioux Falls    SD     Minnehaha   \n",
       "3  cd17d7b6d152cb6f23957346d11c3f07  New Richland    MN        Waseca   \n",
       "4  d2f0425877b10ed6bb381f3e2579424a    West Point    VA  King William   \n",
       "\n",
       "       Area          TimeZone                               Job   Marital  \\\n",
       "0  Suburban   America/Chicago  Psychologist, sport and exercise  Divorced   \n",
       "1     Urban   America/Chicago      Community development worker   Married   \n",
       "2  Suburban   America/Chicago           Chief Executive Officer   Widowed   \n",
       "3  Suburban   America/Chicago               Early years teacher   Married   \n",
       "4     Rural  America/New_York       Health promotion specialist   Widowed   \n",
       "\n",
       "   ... Overweight Arthritis Diabetes Hyperlipidemia BackPain Anxiety  \\\n",
       "0  ...         No       Yes      Yes             No      Yes     Yes   \n",
       "1  ...        Yes        No       No             No       No      No   \n",
       "2  ...        Yes        No      Yes             No       No      No   \n",
       "3  ...         No       Yes       No             No       No      No   \n",
       "4  ...         No        No       No            Yes       No      No   \n",
       "\n",
       "  Allergic_rhinitis Reflux_esophagitis Asthma     Services  \n",
       "0               Yes                 No    Yes   Blood Work  \n",
       "1                No                Yes     No  Intravenous  \n",
       "2                No                 No     No   Blood Work  \n",
       "3                No                Yes    Yes   Blood Work  \n",
       "4               Yes                 No     No      CT Scan  \n",
       "\n",
       "[5 rows x 27 columns]"
      ]
     },
     "execution_count": 269,
     "metadata": {},
     "output_type": "execute_result"
    }
   ],
   "source": [
    "df_cat = df.select_dtypes(exclude='number')\n",
    "df_cat.head()"
   ]
  },
  {
   "cell_type": "code",
   "execution_count": 270,
   "id": "a019f12b-5c48-4376-85d5-8a57a2ae167c",
   "metadata": {},
   "outputs": [
    {
     "data": {
      "text/html": [
       "<div>\n",
       "<style scoped>\n",
       "    .dataframe tbody tr th:only-of-type {\n",
       "        vertical-align: middle;\n",
       "    }\n",
       "\n",
       "    .dataframe tbody tr th {\n",
       "        vertical-align: top;\n",
       "    }\n",
       "\n",
       "    .dataframe thead th {\n",
       "        text-align: right;\n",
       "    }\n",
       "</style>\n",
       "<table border=\"1\" class=\"dataframe\">\n",
       "  <thead>\n",
       "    <tr style=\"text-align: right;\">\n",
       "      <th></th>\n",
       "      <th>CaseOrder</th>\n",
       "      <th>Customer_id</th>\n",
       "      <th>Interaction</th>\n",
       "      <th>UID</th>\n",
       "      <th>City</th>\n",
       "      <th>State</th>\n",
       "      <th>County</th>\n",
       "      <th>Zip</th>\n",
       "      <th>Lat</th>\n",
       "      <th>Lng</th>\n",
       "      <th>...</th>\n",
       "      <th>TotalCharge</th>\n",
       "      <th>Additional_charges</th>\n",
       "      <th>Item1</th>\n",
       "      <th>Item2</th>\n",
       "      <th>Item3</th>\n",
       "      <th>Item4</th>\n",
       "      <th>Item5</th>\n",
       "      <th>Item6</th>\n",
       "      <th>Item7</th>\n",
       "      <th>Item8</th>\n",
       "    </tr>\n",
       "  </thead>\n",
       "  <tbody>\n",
       "    <tr>\n",
       "      <th>0</th>\n",
       "      <td>1</td>\n",
       "      <td>C412403</td>\n",
       "      <td>8cd49b13-f45a-4b47-a2bd-173ffa932c2f</td>\n",
       "      <td>3a83ddb66e2ae73798bdf1d705dc0932</td>\n",
       "      <td>Eva</td>\n",
       "      <td>AL</td>\n",
       "      <td>Morgan</td>\n",
       "      <td>35621</td>\n",
       "      <td>34.34960</td>\n",
       "      <td>-86.72508</td>\n",
       "      <td>...</td>\n",
       "      <td>3726.702860</td>\n",
       "      <td>17939.403420</td>\n",
       "      <td>3</td>\n",
       "      <td>3</td>\n",
       "      <td>2</td>\n",
       "      <td>2</td>\n",
       "      <td>4</td>\n",
       "      <td>3</td>\n",
       "      <td>3</td>\n",
       "      <td>4</td>\n",
       "    </tr>\n",
       "    <tr>\n",
       "      <th>1</th>\n",
       "      <td>2</td>\n",
       "      <td>Z919181</td>\n",
       "      <td>d2450b70-0337-4406-bdbb-bc1037f1734c</td>\n",
       "      <td>176354c5eef714957d486009feabf195</td>\n",
       "      <td>Marianna</td>\n",
       "      <td>FL</td>\n",
       "      <td>Jackson</td>\n",
       "      <td>32446</td>\n",
       "      <td>30.84513</td>\n",
       "      <td>-85.22907</td>\n",
       "      <td>...</td>\n",
       "      <td>4193.190458</td>\n",
       "      <td>17612.998120</td>\n",
       "      <td>3</td>\n",
       "      <td>4</td>\n",
       "      <td>3</td>\n",
       "      <td>4</td>\n",
       "      <td>4</td>\n",
       "      <td>4</td>\n",
       "      <td>3</td>\n",
       "      <td>3</td>\n",
       "    </tr>\n",
       "    <tr>\n",
       "      <th>2</th>\n",
       "      <td>3</td>\n",
       "      <td>F995323</td>\n",
       "      <td>a2057123-abf5-4a2c-abad-8ffe33512562</td>\n",
       "      <td>e19a0fa00aeda885b8a436757e889bc9</td>\n",
       "      <td>Sioux Falls</td>\n",
       "      <td>SD</td>\n",
       "      <td>Minnehaha</td>\n",
       "      <td>57110</td>\n",
       "      <td>43.54321</td>\n",
       "      <td>-96.63772</td>\n",
       "      <td>...</td>\n",
       "      <td>2434.234222</td>\n",
       "      <td>17505.192460</td>\n",
       "      <td>2</td>\n",
       "      <td>4</td>\n",
       "      <td>4</td>\n",
       "      <td>4</td>\n",
       "      <td>3</td>\n",
       "      <td>4</td>\n",
       "      <td>3</td>\n",
       "      <td>3</td>\n",
       "    </tr>\n",
       "    <tr>\n",
       "      <th>3</th>\n",
       "      <td>4</td>\n",
       "      <td>A879973</td>\n",
       "      <td>1dec528d-eb34-4079-adce-0d7a40e82205</td>\n",
       "      <td>cd17d7b6d152cb6f23957346d11c3f07</td>\n",
       "      <td>New Richland</td>\n",
       "      <td>MN</td>\n",
       "      <td>Waseca</td>\n",
       "      <td>56072</td>\n",
       "      <td>43.89744</td>\n",
       "      <td>-93.51479</td>\n",
       "      <td>...</td>\n",
       "      <td>2127.830423</td>\n",
       "      <td>12993.437350</td>\n",
       "      <td>3</td>\n",
       "      <td>5</td>\n",
       "      <td>5</td>\n",
       "      <td>3</td>\n",
       "      <td>4</td>\n",
       "      <td>5</td>\n",
       "      <td>5</td>\n",
       "      <td>5</td>\n",
       "    </tr>\n",
       "    <tr>\n",
       "      <th>4</th>\n",
       "      <td>5</td>\n",
       "      <td>C544523</td>\n",
       "      <td>5885f56b-d6da-43a3-8760-83583af94266</td>\n",
       "      <td>d2f0425877b10ed6bb381f3e2579424a</td>\n",
       "      <td>West Point</td>\n",
       "      <td>VA</td>\n",
       "      <td>King William</td>\n",
       "      <td>23181</td>\n",
       "      <td>37.59894</td>\n",
       "      <td>-76.88958</td>\n",
       "      <td>...</td>\n",
       "      <td>2113.073274</td>\n",
       "      <td>3716.525786</td>\n",
       "      <td>2</td>\n",
       "      <td>1</td>\n",
       "      <td>3</td>\n",
       "      <td>3</td>\n",
       "      <td>5</td>\n",
       "      <td>3</td>\n",
       "      <td>4</td>\n",
       "      <td>3</td>\n",
       "    </tr>\n",
       "    <tr>\n",
       "      <th>...</th>\n",
       "      <td>...</td>\n",
       "      <td>...</td>\n",
       "      <td>...</td>\n",
       "      <td>...</td>\n",
       "      <td>...</td>\n",
       "      <td>...</td>\n",
       "      <td>...</td>\n",
       "      <td>...</td>\n",
       "      <td>...</td>\n",
       "      <td>...</td>\n",
       "      <td>...</td>\n",
       "      <td>...</td>\n",
       "      <td>...</td>\n",
       "      <td>...</td>\n",
       "      <td>...</td>\n",
       "      <td>...</td>\n",
       "      <td>...</td>\n",
       "      <td>...</td>\n",
       "      <td>...</td>\n",
       "      <td>...</td>\n",
       "      <td>...</td>\n",
       "    </tr>\n",
       "    <tr>\n",
       "      <th>9995</th>\n",
       "      <td>9996</td>\n",
       "      <td>B863060</td>\n",
       "      <td>a25b594d-0328-486f-a9b9-0567eb0f9723</td>\n",
       "      <td>39184dc28cc038871912ccc4500049e5</td>\n",
       "      <td>Norlina</td>\n",
       "      <td>NC</td>\n",
       "      <td>Warren</td>\n",
       "      <td>27563</td>\n",
       "      <td>36.42886</td>\n",
       "      <td>-78.23716</td>\n",
       "      <td>...</td>\n",
       "      <td>6850.942000</td>\n",
       "      <td>8927.642000</td>\n",
       "      <td>3</td>\n",
       "      <td>2</td>\n",
       "      <td>2</td>\n",
       "      <td>3</td>\n",
       "      <td>4</td>\n",
       "      <td>3</td>\n",
       "      <td>4</td>\n",
       "      <td>2</td>\n",
       "    </tr>\n",
       "    <tr>\n",
       "      <th>9996</th>\n",
       "      <td>9997</td>\n",
       "      <td>P712040</td>\n",
       "      <td>70711574-f7b1-4a17-b15f-48c54564b70f</td>\n",
       "      <td>3cd124ccd43147404292e883bf9ec55c</td>\n",
       "      <td>Milmay</td>\n",
       "      <td>NJ</td>\n",
       "      <td>Atlantic</td>\n",
       "      <td>8340</td>\n",
       "      <td>39.43609</td>\n",
       "      <td>-74.87302</td>\n",
       "      <td>...</td>\n",
       "      <td>7741.690000</td>\n",
       "      <td>28507.150000</td>\n",
       "      <td>3</td>\n",
       "      <td>3</td>\n",
       "      <td>4</td>\n",
       "      <td>2</td>\n",
       "      <td>5</td>\n",
       "      <td>3</td>\n",
       "      <td>4</td>\n",
       "      <td>4</td>\n",
       "    </tr>\n",
       "    <tr>\n",
       "      <th>9997</th>\n",
       "      <td>9998</td>\n",
       "      <td>R778890</td>\n",
       "      <td>1d79569d-8e0f-4180-a207-d67ee4527d26</td>\n",
       "      <td>41b770aeee97a5b9e7f69c906a8119d7</td>\n",
       "      <td>Southside</td>\n",
       "      <td>TN</td>\n",
       "      <td>Montgomery</td>\n",
       "      <td>37171</td>\n",
       "      <td>36.36655</td>\n",
       "      <td>-87.29988</td>\n",
       "      <td>...</td>\n",
       "      <td>8276.481000</td>\n",
       "      <td>15281.210000</td>\n",
       "      <td>3</td>\n",
       "      <td>3</td>\n",
       "      <td>3</td>\n",
       "      <td>4</td>\n",
       "      <td>4</td>\n",
       "      <td>2</td>\n",
       "      <td>3</td>\n",
       "      <td>2</td>\n",
       "    </tr>\n",
       "    <tr>\n",
       "      <th>9998</th>\n",
       "      <td>9999</td>\n",
       "      <td>E344109</td>\n",
       "      <td>f5a68e69-2a60-409b-a92f-ac0847b27db0</td>\n",
       "      <td>2bb491ef5b1beb1fed758cc6885c167a</td>\n",
       "      <td>Quinn</td>\n",
       "      <td>SD</td>\n",
       "      <td>Pennington</td>\n",
       "      <td>57775</td>\n",
       "      <td>44.10354</td>\n",
       "      <td>-102.01590</td>\n",
       "      <td>...</td>\n",
       "      <td>7644.483000</td>\n",
       "      <td>7781.678000</td>\n",
       "      <td>5</td>\n",
       "      <td>5</td>\n",
       "      <td>3</td>\n",
       "      <td>4</td>\n",
       "      <td>4</td>\n",
       "      <td>3</td>\n",
       "      <td>4</td>\n",
       "      <td>3</td>\n",
       "    </tr>\n",
       "    <tr>\n",
       "      <th>9999</th>\n",
       "      <td>10000</td>\n",
       "      <td>I569847</td>\n",
       "      <td>bc482c02-f8c9-4423-99de-3db5e62a18d5</td>\n",
       "      <td>95663a202338000abdf7e09311c2a8a1</td>\n",
       "      <td>Coraopolis</td>\n",
       "      <td>PA</td>\n",
       "      <td>Allegheny</td>\n",
       "      <td>15108</td>\n",
       "      <td>40.49998</td>\n",
       "      <td>-80.19959</td>\n",
       "      <td>...</td>\n",
       "      <td>7887.553000</td>\n",
       "      <td>11643.190000</td>\n",
       "      <td>4</td>\n",
       "      <td>3</td>\n",
       "      <td>3</td>\n",
       "      <td>2</td>\n",
       "      <td>3</td>\n",
       "      <td>6</td>\n",
       "      <td>4</td>\n",
       "      <td>3</td>\n",
       "    </tr>\n",
       "  </tbody>\n",
       "</table>\n",
       "<p>10000 rows × 50 columns</p>\n",
       "</div>"
      ],
      "text/plain": [
       "      CaseOrder Customer_id                           Interaction  \\\n",
       "0             1     C412403  8cd49b13-f45a-4b47-a2bd-173ffa932c2f   \n",
       "1             2     Z919181  d2450b70-0337-4406-bdbb-bc1037f1734c   \n",
       "2             3     F995323  a2057123-abf5-4a2c-abad-8ffe33512562   \n",
       "3             4     A879973  1dec528d-eb34-4079-adce-0d7a40e82205   \n",
       "4             5     C544523  5885f56b-d6da-43a3-8760-83583af94266   \n",
       "...         ...         ...                                   ...   \n",
       "9995       9996     B863060  a25b594d-0328-486f-a9b9-0567eb0f9723   \n",
       "9996       9997     P712040  70711574-f7b1-4a17-b15f-48c54564b70f   \n",
       "9997       9998     R778890  1d79569d-8e0f-4180-a207-d67ee4527d26   \n",
       "9998       9999     E344109  f5a68e69-2a60-409b-a92f-ac0847b27db0   \n",
       "9999      10000     I569847  bc482c02-f8c9-4423-99de-3db5e62a18d5   \n",
       "\n",
       "                                   UID          City State        County  \\\n",
       "0     3a83ddb66e2ae73798bdf1d705dc0932           Eva    AL        Morgan   \n",
       "1     176354c5eef714957d486009feabf195      Marianna    FL       Jackson   \n",
       "2     e19a0fa00aeda885b8a436757e889bc9   Sioux Falls    SD     Minnehaha   \n",
       "3     cd17d7b6d152cb6f23957346d11c3f07  New Richland    MN        Waseca   \n",
       "4     d2f0425877b10ed6bb381f3e2579424a    West Point    VA  King William   \n",
       "...                                ...           ...   ...           ...   \n",
       "9995  39184dc28cc038871912ccc4500049e5       Norlina    NC        Warren   \n",
       "9996  3cd124ccd43147404292e883bf9ec55c        Milmay    NJ      Atlantic   \n",
       "9997  41b770aeee97a5b9e7f69c906a8119d7     Southside    TN    Montgomery   \n",
       "9998  2bb491ef5b1beb1fed758cc6885c167a         Quinn    SD    Pennington   \n",
       "9999  95663a202338000abdf7e09311c2a8a1    Coraopolis    PA     Allegheny   \n",
       "\n",
       "        Zip       Lat        Lng  ...  TotalCharge Additional_charges Item1  \\\n",
       "0     35621  34.34960  -86.72508  ...  3726.702860       17939.403420     3   \n",
       "1     32446  30.84513  -85.22907  ...  4193.190458       17612.998120     3   \n",
       "2     57110  43.54321  -96.63772  ...  2434.234222       17505.192460     2   \n",
       "3     56072  43.89744  -93.51479  ...  2127.830423       12993.437350     3   \n",
       "4     23181  37.59894  -76.88958  ...  2113.073274        3716.525786     2   \n",
       "...     ...       ...        ...  ...          ...                ...   ...   \n",
       "9995  27563  36.42886  -78.23716  ...  6850.942000        8927.642000     3   \n",
       "9996   8340  39.43609  -74.87302  ...  7741.690000       28507.150000     3   \n",
       "9997  37171  36.36655  -87.29988  ...  8276.481000       15281.210000     3   \n",
       "9998  57775  44.10354 -102.01590  ...  7644.483000        7781.678000     5   \n",
       "9999  15108  40.49998  -80.19959  ...  7887.553000       11643.190000     4   \n",
       "\n",
       "     Item2  Item3  Item4  Item5 Item6 Item7 Item8  \n",
       "0        3      2      2      4     3     3     4  \n",
       "1        4      3      4      4     4     3     3  \n",
       "2        4      4      4      3     4     3     3  \n",
       "3        5      5      3      4     5     5     5  \n",
       "4        1      3      3      5     3     4     3  \n",
       "...    ...    ...    ...    ...   ...   ...   ...  \n",
       "9995     2      2      3      4     3     4     2  \n",
       "9996     3      4      2      5     3     4     4  \n",
       "9997     3      3      4      4     2     3     2  \n",
       "9998     5      3      4      4     3     4     3  \n",
       "9999     3      3      2      3     6     4     3  \n",
       "\n",
       "[10000 rows x 50 columns]"
      ]
     },
     "execution_count": 270,
     "metadata": {},
     "output_type": "execute_result"
    }
   ],
   "source": [
    "df[['ReAdmis']].describe()\n",
    "df"
   ]
  },
  {
   "cell_type": "code",
   "execution_count": 271,
   "id": "4f9d9b65-0f79-4b58-afb0-43a243c9c732",
   "metadata": {},
   "outputs": [
    {
     "data": {
      "text/plain": [
       "0       0\n",
       "1       0\n",
       "2       0\n",
       "3       0\n",
       "4       0\n",
       "       ..\n",
       "9995    0\n",
       "9996    1\n",
       "9997    1\n",
       "9998    1\n",
       "9999    1\n",
       "Name: ReAdmis_Yes, Length: 10000, dtype: int64"
      ]
     },
     "execution_count": 271,
     "metadata": {},
     "output_type": "execute_result"
    }
   ],
   "source": [
    "df['ReAdmis_Yes'] = df['ReAdmis']\n",
    "df['ReAdmis_Yes'] = df['ReAdmis_Yes'].eq('Yes').astype(int)\n",
    "df['ReAdmis_Yes']"
   ]
  },
  {
   "cell_type": "code",
   "execution_count": 272,
   "id": "f97f679d-ee80-47c4-80cf-01f95b4b1022",
   "metadata": {},
   "outputs": [
    {
     "data": {
      "text/plain": [
       "Index(['CaseOrder', 'Customer_id', 'Interaction', 'UID', 'City', 'State',\n",
       "       'County', 'Zip', 'Lat', 'Lng', 'Population', 'Area', 'TimeZone', 'Job',\n",
       "       'Children', 'Age', 'Income', 'Marital', 'Gender', 'ReAdmis',\n",
       "       'VitD_levels', 'Doc_visits', 'Full_meals_eaten', 'vitD_supp',\n",
       "       'Soft_drink', 'Initial_admin', 'HighBlood', 'Stroke',\n",
       "       'Complication_risk', 'Overweight', 'Arthritis', 'Diabetes',\n",
       "       'Hyperlipidemia', 'BackPain', 'Anxiety', 'Allergic_rhinitis',\n",
       "       'Reflux_esophagitis', 'Asthma', 'Services', 'Initial_days',\n",
       "       'TotalCharge', 'Additional_charges', 'Item1', 'Item2', 'Item3', 'Item4',\n",
       "       'Item5', 'Item6', 'Item7', 'Item8', 'ReAdmis_Yes'],\n",
       "      dtype='object')"
      ]
     },
     "execution_count": 272,
     "metadata": {},
     "output_type": "execute_result"
    }
   ],
   "source": [
    "df.columns"
   ]
  },
  {
   "cell_type": "code",
   "execution_count": 273,
   "id": "773571a0-eb2a-473d-b3fe-df06188760a3",
   "metadata": {},
   "outputs": [
    {
     "data": {
      "text/plain": [
       "Index(['CaseOrder', 'Zip', 'Lat', 'Lng', 'Population', 'Children', 'Age',\n",
       "       'Income', 'VitD_levels', 'Doc_visits', 'Full_meals_eaten', 'vitD_supp',\n",
       "       'Initial_days', 'TotalCharge', 'Additional_charges', 'Item1', 'Item2',\n",
       "       'Item3', 'Item4', 'Item5', 'Item6', 'Item7', 'Item8'],\n",
       "      dtype='object')"
      ]
     },
     "execution_count": 273,
     "metadata": {},
     "output_type": "execute_result"
    }
   ],
   "source": [
    "df_num.columns"
   ]
  },
  {
   "cell_type": "code",
   "execution_count": 274,
   "id": "e92cb099-a2d9-47fd-b360-907ccf80c43b",
   "metadata": {
    "tags": []
   },
   "outputs": [
    {
     "data": {
      "text/plain": [
       "Female       5018\n",
       "Male         4768\n",
       "Nonbinary     214\n",
       "Name: Gender, dtype: int64"
      ]
     },
     "execution_count": 274,
     "metadata": {},
     "output_type": "execute_result"
    }
   ],
   "source": [
    "df['Gender'].value_counts()"
   ]
  },
  {
   "cell_type": "code",
   "execution_count": 275,
   "id": "e8bab3a2-9402-4100-bb41-0d2c282c0f9c",
   "metadata": {},
   "outputs": [
    {
     "data": {
      "text/plain": [
       "Emergency Admission      5060\n",
       "Elective Admission       2504\n",
       "Observation Admission    2436\n",
       "Name: Initial_admin, dtype: int64"
      ]
     },
     "execution_count": 275,
     "metadata": {},
     "output_type": "execute_result"
    }
   ],
   "source": [
    "df['Initial_admin'].value_counts()"
   ]
  },
  {
   "cell_type": "markdown",
   "id": "e98e128a-f3a0-4950-9c5f-0deff63d7803",
   "metadata": {},
   "source": [
    "---\n",
    "##  **Part 1: Research Question:**\n",
    "### [A1] **Question:** \"From information about previous patients who were readmitted, can we predict which patients are likely to be readmitted in the future?\"\n",
    "\n"
   ]
  },
  {
   "cell_type": "markdown",
   "id": "63e88bf4-6770-457c-9bf9-3701fa896332",
   "metadata": {
    "tags": []
   },
   "source": [
    "---\n",
    "### **Data Preparation**\n",
    "---"
   ]
  },
  {
   "cell_type": "markdown",
   "id": "7aafccd3-b742-4432-b164-12f69612fc50",
   "metadata": {},
   "source": [
    "### Prune Data"
   ]
  },
  {
   "cell_type": "code",
   "execution_count": 276,
   "id": "8c6bc3ae-5cc2-40c4-bf94-bed42b0f0fb5",
   "metadata": {
    "tags": []
   },
   "outputs": [
    {
     "data": {
      "text/plain": [
       "Index(['CaseOrder', 'Customer_id', 'Interaction', 'UID', 'City', 'State',\n",
       "       'County', 'Zip', 'Lat', 'Lng', 'Population', 'Area', 'TimeZone', 'Job',\n",
       "       'Children', 'Age', 'Income', 'Marital', 'Gender', 'ReAdmis',\n",
       "       'VitD_levels', 'Doc_visits', 'Full_meals_eaten', 'vitD_supp',\n",
       "       'Soft_drink', 'Initial_admin', 'HighBlood', 'Stroke',\n",
       "       'Complication_risk', 'Overweight', 'Arthritis', 'Diabetes',\n",
       "       'Hyperlipidemia', 'BackPain', 'Anxiety', 'Allergic_rhinitis',\n",
       "       'Reflux_esophagitis', 'Asthma', 'Services', 'Initial_days',\n",
       "       'TotalCharge', 'Additional_charges', 'Item1', 'Item2', 'Item3', 'Item4',\n",
       "       'Item5', 'Item6', 'Item7', 'Item8', 'ReAdmis_Yes'],\n",
       "      dtype='object')"
      ]
     },
     "execution_count": 276,
     "metadata": {},
     "output_type": "execute_result"
    }
   ],
   "source": [
    "df.columns"
   ]
  },
  {
   "cell_type": "code",
   "execution_count": 277,
   "id": "d887b731-771c-4477-8dfd-69eff81ab9ec",
   "metadata": {},
   "outputs": [
    {
     "data": {
      "text/html": [
       "<div>\n",
       "<style scoped>\n",
       "    .dataframe tbody tr th:only-of-type {\n",
       "        vertical-align: middle;\n",
       "    }\n",
       "\n",
       "    .dataframe tbody tr th {\n",
       "        vertical-align: top;\n",
       "    }\n",
       "\n",
       "    .dataframe thead th {\n",
       "        text-align: right;\n",
       "    }\n",
       "</style>\n",
       "<table border=\"1\" class=\"dataframe\">\n",
       "  <thead>\n",
       "    <tr style=\"text-align: right;\">\n",
       "      <th></th>\n",
       "      <th>Age</th>\n",
       "      <th>Gender</th>\n",
       "      <th>ReAdmis</th>\n",
       "      <th>Doc_visits</th>\n",
       "      <th>vitD_supp</th>\n",
       "      <th>Initial_admin</th>\n",
       "      <th>HighBlood</th>\n",
       "      <th>Stroke</th>\n",
       "      <th>Complication_risk</th>\n",
       "      <th>Overweight</th>\n",
       "      <th>...</th>\n",
       "      <th>BackPain</th>\n",
       "      <th>Anxiety</th>\n",
       "      <th>Allergic_rhinitis</th>\n",
       "      <th>Reflux_esophagitis</th>\n",
       "      <th>Asthma</th>\n",
       "      <th>Services</th>\n",
       "      <th>Initial_days</th>\n",
       "      <th>TotalCharge</th>\n",
       "      <th>Additional_charges</th>\n",
       "      <th>ReAdmis_Yes</th>\n",
       "    </tr>\n",
       "  </thead>\n",
       "  <tbody>\n",
       "    <tr>\n",
       "      <th>0</th>\n",
       "      <td>53</td>\n",
       "      <td>Male</td>\n",
       "      <td>No</td>\n",
       "      <td>6</td>\n",
       "      <td>0</td>\n",
       "      <td>Emergency Admission</td>\n",
       "      <td>Yes</td>\n",
       "      <td>No</td>\n",
       "      <td>Medium</td>\n",
       "      <td>No</td>\n",
       "      <td>...</td>\n",
       "      <td>Yes</td>\n",
       "      <td>Yes</td>\n",
       "      <td>Yes</td>\n",
       "      <td>No</td>\n",
       "      <td>Yes</td>\n",
       "      <td>Blood Work</td>\n",
       "      <td>10.585770</td>\n",
       "      <td>3726.702860</td>\n",
       "      <td>17939.403420</td>\n",
       "      <td>0</td>\n",
       "    </tr>\n",
       "    <tr>\n",
       "      <th>1</th>\n",
       "      <td>51</td>\n",
       "      <td>Female</td>\n",
       "      <td>No</td>\n",
       "      <td>4</td>\n",
       "      <td>1</td>\n",
       "      <td>Emergency Admission</td>\n",
       "      <td>Yes</td>\n",
       "      <td>No</td>\n",
       "      <td>High</td>\n",
       "      <td>Yes</td>\n",
       "      <td>...</td>\n",
       "      <td>No</td>\n",
       "      <td>No</td>\n",
       "      <td>No</td>\n",
       "      <td>Yes</td>\n",
       "      <td>No</td>\n",
       "      <td>Intravenous</td>\n",
       "      <td>15.129562</td>\n",
       "      <td>4193.190458</td>\n",
       "      <td>17612.998120</td>\n",
       "      <td>0</td>\n",
       "    </tr>\n",
       "    <tr>\n",
       "      <th>2</th>\n",
       "      <td>53</td>\n",
       "      <td>Female</td>\n",
       "      <td>No</td>\n",
       "      <td>4</td>\n",
       "      <td>0</td>\n",
       "      <td>Elective Admission</td>\n",
       "      <td>Yes</td>\n",
       "      <td>No</td>\n",
       "      <td>Medium</td>\n",
       "      <td>Yes</td>\n",
       "      <td>...</td>\n",
       "      <td>No</td>\n",
       "      <td>No</td>\n",
       "      <td>No</td>\n",
       "      <td>No</td>\n",
       "      <td>No</td>\n",
       "      <td>Blood Work</td>\n",
       "      <td>4.772177</td>\n",
       "      <td>2434.234222</td>\n",
       "      <td>17505.192460</td>\n",
       "      <td>0</td>\n",
       "    </tr>\n",
       "    <tr>\n",
       "      <th>3</th>\n",
       "      <td>78</td>\n",
       "      <td>Male</td>\n",
       "      <td>No</td>\n",
       "      <td>4</td>\n",
       "      <td>0</td>\n",
       "      <td>Elective Admission</td>\n",
       "      <td>No</td>\n",
       "      <td>Yes</td>\n",
       "      <td>Medium</td>\n",
       "      <td>No</td>\n",
       "      <td>...</td>\n",
       "      <td>No</td>\n",
       "      <td>No</td>\n",
       "      <td>No</td>\n",
       "      <td>Yes</td>\n",
       "      <td>Yes</td>\n",
       "      <td>Blood Work</td>\n",
       "      <td>1.714879</td>\n",
       "      <td>2127.830423</td>\n",
       "      <td>12993.437350</td>\n",
       "      <td>0</td>\n",
       "    </tr>\n",
       "    <tr>\n",
       "      <th>4</th>\n",
       "      <td>22</td>\n",
       "      <td>Female</td>\n",
       "      <td>No</td>\n",
       "      <td>5</td>\n",
       "      <td>2</td>\n",
       "      <td>Elective Admission</td>\n",
       "      <td>No</td>\n",
       "      <td>No</td>\n",
       "      <td>Low</td>\n",
       "      <td>No</td>\n",
       "      <td>...</td>\n",
       "      <td>No</td>\n",
       "      <td>No</td>\n",
       "      <td>Yes</td>\n",
       "      <td>No</td>\n",
       "      <td>No</td>\n",
       "      <td>CT Scan</td>\n",
       "      <td>1.254807</td>\n",
       "      <td>2113.073274</td>\n",
       "      <td>3716.525786</td>\n",
       "      <td>0</td>\n",
       "    </tr>\n",
       "  </tbody>\n",
       "</table>\n",
       "<p>5 rows × 23 columns</p>\n",
       "</div>"
      ],
      "text/plain": [
       "   Age  Gender ReAdmis  Doc_visits  vitD_supp        Initial_admin HighBlood  \\\n",
       "0   53    Male      No           6          0  Emergency Admission       Yes   \n",
       "1   51  Female      No           4          1  Emergency Admission       Yes   \n",
       "2   53  Female      No           4          0   Elective Admission       Yes   \n",
       "3   78    Male      No           4          0   Elective Admission        No   \n",
       "4   22  Female      No           5          2   Elective Admission        No   \n",
       "\n",
       "  Stroke Complication_risk Overweight  ... BackPain Anxiety Allergic_rhinitis  \\\n",
       "0     No            Medium         No  ...      Yes     Yes               Yes   \n",
       "1     No              High        Yes  ...       No      No                No   \n",
       "2     No            Medium        Yes  ...       No      No                No   \n",
       "3    Yes            Medium         No  ...       No      No                No   \n",
       "4     No               Low         No  ...       No      No               Yes   \n",
       "\n",
       "  Reflux_esophagitis Asthma     Services Initial_days  TotalCharge  \\\n",
       "0                 No    Yes   Blood Work    10.585770  3726.702860   \n",
       "1                Yes     No  Intravenous    15.129562  4193.190458   \n",
       "2                 No     No   Blood Work     4.772177  2434.234222   \n",
       "3                Yes    Yes   Blood Work     1.714879  2127.830423   \n",
       "4                 No     No      CT Scan     1.254807  2113.073274   \n",
       "\n",
       "  Additional_charges  ReAdmis_Yes  \n",
       "0       17939.403420            0  \n",
       "1       17612.998120            0  \n",
       "2       17505.192460            0  \n",
       "3       12993.437350            0  \n",
       "4        3716.525786            0  \n",
       "\n",
       "[5 rows x 23 columns]"
      ]
     },
     "execution_count": 277,
     "metadata": {},
     "output_type": "execute_result"
    }
   ],
   "source": [
    "# Start pruning non-relavent series\n",
    "pruned_df = df.drop(['CaseOrder', 'Customer_id', 'Interaction', 'UID', 'City', 'State', \\\n",
    "                     'County', 'Zip', 'Lat', 'Lng', 'Population', 'Area', 'TimeZone', 'Job', \\\n",
    "                     'Children', 'Income', 'Marital', 'VitD_levels', 'Full_meals_eaten', \\\n",
    "                     'Soft_drink', 'Item1', 'Item2', 'Item3', 'Item4', 'Item5', 'Item6', 'Item7', 'Item8'], axis=1)\n",
    "pruned_df.head()"
   ]
  },
  {
   "cell_type": "code",
   "execution_count": 278,
   "id": "5ba017a7-1310-4bc2-9a51-3434ab0de813",
   "metadata": {},
   "outputs": [
    {
     "data": {
      "text/plain": [
       "Index(['Age', 'Gender', 'ReAdmis', 'Doc_visits', 'vitD_supp', 'Initial_admin',\n",
       "       'HighBlood', 'Stroke', 'Complication_risk', 'Overweight', 'Arthritis',\n",
       "       'Diabetes', 'Hyperlipidemia', 'BackPain', 'Anxiety',\n",
       "       'Allergic_rhinitis', 'Reflux_esophagitis', 'Asthma', 'Services',\n",
       "       'Initial_days', 'TotalCharge', 'Additional_charges', 'ReAdmis_Yes'],\n",
       "      dtype='object')"
      ]
     },
     "execution_count": 278,
     "metadata": {},
     "output_type": "execute_result"
    }
   ],
   "source": [
    "pruned_df.columns"
   ]
  },
  {
   "cell_type": "code",
   "execution_count": 279,
   "id": "aede0842-2346-45c7-9016-62cdcdf1d159",
   "metadata": {},
   "outputs": [
    {
     "data": {
      "image/png": "[encoded data removed]",
      "text/plain": [
       "<Figure size 1440x1080 with 25 Axes>"
      ]
     },
     "metadata": {},
     "output_type": "display_data"
    }
   ],
   "source": [
    "# https://www.datacamp.com/community/tutorials/preprocessing-in-data-science-part-1-centering-scaling-and-knn\n",
    "plt.style.use('ggplot')\n",
    "# df = pd.read_csv('http://archive.ics.uci.edu/ml/machine-learning-databases/wine-quality/winequality-red.csv ' , sep = ';')\n",
    "X = pruned_df.drop('ReAdmis_Yes', 1).values # drop target variable\n",
    "y1 = pruned_df['ReAdmis_Yes'].values\n",
    "pd.DataFrame.hist(df, figsize = [20,15]);"
   ]
  },
  {
   "cell_type": "code",
   "execution_count": 280,
   "id": "34660820-44af-4570-8129-ee0ac8705cb2",
   "metadata": {
    "tags": []
   },
   "outputs": [
    {
     "name": "stdout",
     "output_type": "stream",
     "text": [
      "Age                   False\n",
      "Doc_visits            False\n",
      "vitD_supp             False\n",
      "Initial_days           True\n",
      "TotalCharge            True\n",
      "Additional_charges    False\n",
      "ReAdmis_Yes            True\n",
      "Name: ReAdmis_Yes, dtype: bool\n"
     ]
    }
   ],
   "source": [
    "# https://realpython.com/knn-python/\n",
    "# Correlations with target?\n",
    "correlation_matrix = pruned_df.corr()\n",
    "\n",
    "print(correlation_matrix[\"ReAdmis_Yes\"] > 0.5)"
   ]
  },
  {
   "cell_type": "markdown",
   "id": "d2b09f9a-f12c-415e-8bee-e219f80389d0",
   "metadata": {},
   "source": [
    "####   [D1] Construct an initial multiple regression model from _all_ predictors that were identified in [C2]"
   ]
  },
  {
   "cell_type": "code",
   "execution_count": 281,
   "id": "07674c2e-47da-4dc2-a797-07e0b347521e",
   "metadata": {},
   "outputs": [],
   "source": [
    "pruned_df = pruned_df[['Initial_days', 'TotalCharge', 'ReAdmis_Yes']]"
   ]
  },
  {
   "cell_type": "code",
   "execution_count": 282,
   "id": "20e3005d-180e-4c67-99aa-fe40a2b82e32",
   "metadata": {},
   "outputs": [
    {
     "data": {
      "text/plain": [
       "(10000, 3)"
      ]
     },
     "execution_count": 282,
     "metadata": {},
     "output_type": "execute_result"
    }
   ],
   "source": [
    "pruned_df.shape"
   ]
  },
  {
   "cell_type": "code",
   "execution_count": 283,
   "id": "903f6f0d-01a4-4cd8-bd7d-2de3892457d1",
   "metadata": {},
   "outputs": [
    {
     "data": {
      "image/png": "[encoded data removed]",
      "text/plain": [
       "<Figure size 1080x576 with 2 Axes>"
      ]
     },
     "metadata": {},
     "output_type": "display_data"
    }
   ],
   "source": [
    "# Trying to make sense of numerical values, discover possible correlations\n",
    "# Ref1: https://www.geeksforgeeks.org/how-to-create-a-seaborn-correlation-heatmap-in-python/\n",
    "# Ref2: https://medium.com/@szabo.bibor/how-to-create-a-seaborn-correlation-heatmap-in-python-834c0686b88e\n",
    "sns.set(rc = {'figure.figsize':(15,8)})\n",
    "sns.heatmap(pruned_df.corr(), annot=True);"
   ]
  },
  {
   "cell_type": "markdown",
   "id": "8e10d5d3-3314-4494-9b75-b9946e22a116",
   "metadata": {},
   "source": [
    "## KNN"
   ]
  },
  {
   "cell_type": "markdown",
   "id": "9334d9ec-f62a-443f-b296-63672aff44ec",
   "metadata": {},
   "source": [
    "### Define Distances on the Vectors of Independent Vars"
   ]
  },
  {
   "cell_type": "code",
   "execution_count": 284,
   "id": "7fa33008-7806-4522-917c-21c12f892721",
   "metadata": {},
   "outputs": [],
   "source": [
    "# Independed Var\n",
    "# pruned_df = pruned_df[['Initial_days', 'TotalCharge', 'ReAdmis_Yes']]\n",
    "X = pruned_df.drop('ReAdmis_Yes', axis=1)\n",
    "X = X.values\n",
    "\n",
    "# Dependent Var\n",
    "y = pruned_df['ReAdmis_Yes']\n",
    "y = y.values"
   ]
  },
  {
   "cell_type": "markdown",
   "id": "3288de94-686a-4135-8c70-6debe57db50c",
   "metadata": {},
   "source": [
    "## Confusion Matrix"
   ]
  },
  {
   "cell_type": "markdown",
   "id": "38e550f4-e7fc-40f1-bbfc-959fc39d43ac",
   "metadata": {},
   "source": [
    "### Supervised Learning: To Predict Target Variable (ReAdmi_Yes) Given Predictor Vars\n",
    "#### Classification: Target Variable is Catagorical\n",
    "#### Features --> Predictor Vars --> Independent Vars\n",
    "#### Target Vars --> Dependent Vars --> Response Vars"
   ]
  },
  {
   "cell_type": "code",
   "execution_count": 285,
   "id": "905df232-63a8-4090-b775-966f0711e58a",
   "metadata": {},
   "outputs": [
    {
     "name": "stdout",
     "output_type": "stream",
     "text": [
      "Test set predictions:\n",
      " [0 1 0 ... 0 1 0]\n"
     ]
    }
   ],
   "source": [
    "from sklearn.model_selection import train_test_split\n",
    "from sklearn.metrics import classification_report\n",
    "from sklearn.metrics import confusion_matrix\n",
    "\n",
    "knn = KNeighborsClassifier(n_neighbors=3)  # From Fit kNN Regression Below\n",
    "\n",
    "X_train, X_test, y_train, y_test = train_test_split(X, y,\n",
    "    test_size=0.3, \n",
    "    random_state=73, \n",
    "    stratify=y)  # stratisfy reflects labels of data for both train and test\n",
    "knn.fit(X_train, y_train)\n",
    "y_pred = knn.predict(X_test)\n",
    "print(\"Test set predictions:\\n {}\".format(y_pred));"
   ]
  },
  {
   "cell_type": "code",
   "execution_count": 286,
   "id": "c317ca85-3a61-44b1-9fd7-3c03fa65fb32",
   "metadata": {},
   "outputs": [
    {
     "data": {
      "text/plain": [
       "0.9766666666666667"
      ]
     },
     "execution_count": 286,
     "metadata": {},
     "output_type": "execute_result"
    }
   ],
   "source": [
    "#accuracy of Model\n",
    "knn.score(X_test, y_test)"
   ]
  },
  {
   "cell_type": "code",
   "execution_count": 287,
   "id": "389b1708-f793-4836-bf5a-98a67f98d445",
   "metadata": {},
   "outputs": [
    {
     "name": "stdout",
     "output_type": "stream",
     "text": [
      "              precision    recall  f1-score   support\n",
      "\n",
      "           0       0.98      0.98      0.98      1899\n",
      "           1       0.97      0.97      0.97      1101\n",
      "\n",
      "    accuracy                           0.98      3000\n",
      "   macro avg       0.98      0.97      0.97      3000\n",
      "weighted avg       0.98      0.98      0.98      3000\n",
      "\n"
     ]
    }
   ],
   "source": [
    "print(classification_report(y_test, y_pred))"
   ]
  },
  {
   "cell_type": "markdown",
   "id": "29222172-a1df-4e42-90ad-3d6989c31506",
   "metadata": {},
   "source": [
    "## Preprocessing - Scaling"
   ]
  },
  {
   "cell_type": "code",
   "execution_count": 288,
   "id": "0312db9d-9f91-4f1b-949e-3b0a48c1e182",
   "metadata": {
    "tags": []
   },
   "outputs": [
    {
     "name": "stdout",
     "output_type": "stream",
     "text": [
      "k-NN score for test set: 0.980333\n",
      "k-NN score for training set: 0.986143\n",
      "              precision    recall  f1-score   support\n",
      "\n",
      "           0       0.98      0.98      0.98      1899\n",
      "           1       0.97      0.97      0.97      1101\n",
      "\n",
      "    accuracy                           0.98      3000\n",
      "   macro avg       0.98      0.98      0.98      3000\n",
      "weighted avg       0.98      0.98      0.98      3000\n",
      "\n"
     ]
    }
   ],
   "source": [
    "from sklearn.preprocessing import scale\n",
    "Xs = scale(X)\n",
    "Xs_train, Xs_test, y_train, y_test = train_test_split(Xs, y, test_size=0.3, random_state=73)\n",
    "knn_model_2 = knn.fit(Xs_train, y_train)\n",
    "print('k-NN score for test set: %f' % knn_model_2.score(Xs_test, y_test))\n",
    "print('k-NN score for training set: %f' % knn_model_2.score(Xs_train, y_train))\n",
    "y_true, y_pred = y_test, knn_model_2.predict(Xs_test)\n",
    "print(classification_report(y_true, y_pred))"
   ]
  },
  {
   "cell_type": "code",
   "execution_count": 289,
   "id": "8f982d5c-7326-4217-b5f1-199e7abb1187",
   "metadata": {},
   "outputs": [
    {
     "name": "stdout",
     "output_type": "stream",
     "text": [
      "k-NN score for test set: 0.980333\n",
      "k-NN score for training set: 0.986143\n",
      "[[1870   29]\n",
      " [  30 1071]]\n"
     ]
    }
   ],
   "source": [
    "print('k-NN score for test set: %f' % knn_model_2.score(Xs_test, y_test))\n",
    "print('k-NN score for training set: %f' % knn_model_2.score(Xs_train, y_train))\n",
    "y_true, y_pred = y_test, knn_model_2.predict(Xs_test)\n",
    "print(confusion_matrix(y_test, y_pred))"
   ]
  },
  {
   "cell_type": "markdown",
   "id": "00a67a18-5ce4-4b79-b4bb-18b5d368a78b",
   "metadata": {},
   "source": [
    "## Logistic Regression, Probability Thresholds and ROC Curve"
   ]
  },
  {
   "cell_type": "code",
   "execution_count": 290,
   "id": "b2a53b24-2121-41ce-baf9-8af729be0d63",
   "metadata": {},
   "outputs": [
    {
     "data": {
      "image/png": "[encoded data removed]",
      "text/plain": [
       "<Figure size 1080x576 with 1 Axes>"
      ]
     },
     "metadata": {},
     "output_type": "display_data"
    }
   ],
   "source": [
    "from sklearn.metrics import roc_curve\n",
    "y_pred_prob = knn.predict_proba(Xs_test)[:,1]\n",
    "fpr, tpr, thresholds = roc_curve(y_test, y_pred_prob)\n",
    "plt.plot([0, 1], [0, 1], 'k--')\n",
    "plt.plot(fpr, tpr, label='KNN Regression')\n",
    "plt.xlabel('False Positive Rate')\n",
    "plt.ylabel('True Positive Rate')\n",
    "plt.title('KNN ROC / AUC Curve')\n",
    "plt.show();"
   ]
  },
  {
   "cell_type": "code",
   "execution_count": 291,
   "id": "10d37f8a-d248-48a1-9e5e-8fa230eab28b",
   "metadata": {},
   "outputs": [
    {
     "data": {
      "text/plain": [
       "array([0., 1., 0., ..., 0., 0., 0.])"
      ]
     },
     "execution_count": 291,
     "metadata": {},
     "output_type": "execute_result"
    }
   ],
   "source": [
    "knn.predict_proba(Xs_test)[:,1]"
   ]
  },
  {
   "cell_type": "code",
   "execution_count": 292,
   "id": "102f3df6-3c1d-4724-be18-fb9a6000174f",
   "metadata": {},
   "outputs": [
    {
     "data": {
      "text/plain": [
       "0.9913121730018046"
      ]
     },
     "execution_count": 292,
     "metadata": {},
     "output_type": "execute_result"
    }
   ],
   "source": [
    "from sklearn.metrics import roc_auc_score\n",
    "\n",
    "y_pred_prob = knn.predict_proba(Xs_test)[:,1]\n",
    "roc_auc_score(y_test, y_pred_prob)"
   ]
  },
  {
   "cell_type": "code",
   "execution_count": 293,
   "id": "322ff25c-b17e-41f8-a4f7-6a6f8c5ce6ee",
   "metadata": {},
   "outputs": [
    {
     "name": "stdout",
     "output_type": "stream",
     "text": [
      "[0.99454297 0.99455041 0.99318801 0.99310461 0.82710784]\n"
     ]
    }
   ],
   "source": [
    "from sklearn.model_selection import cross_val_score\n",
    "cv_scores = cross_val_score(knn, X, y, cv=5,\n",
    "                                scoring='roc_auc')\n",
    "print(cv_scores)"
   ]
  },
  {
   "cell_type": "code",
   "execution_count": 294,
   "id": "add5f809-85c2-42d5-90e6-a9edd2353cd7",
   "metadata": {},
   "outputs": [
    {
     "data": {
      "text/plain": [
       "{'n_neighbors': 2}"
      ]
     },
     "execution_count": 294,
     "metadata": {},
     "output_type": "execute_result"
    }
   ],
   "source": [
    "# Optimal KNN\n",
    "from sklearn.model_selection import GridSearchCV\n",
    "param_grid = {'n_neighbors': np.arange(1, 100)}\n",
    "knn = KNeighborsClassifier()\n",
    "knn_cv = GridSearchCV(knn, param_grid, cv=5)\n",
    "knn_cv.fit(X, y)\n",
    "knn_cv.best_params_"
   ]
  },
  {
   "cell_type": "code",
   "execution_count": 295,
   "id": "b3907011-3e03-46aa-b875-2e258a8998f5",
   "metadata": {},
   "outputs": [
    {
     "data": {
      "text/plain": [
       "0.9273999999999999"
      ]
     },
     "execution_count": 295,
     "metadata": {},
     "output_type": "execute_result"
    }
   ],
   "source": [
    "knn_cv.best_score_"
   ]
  },
  {
   "cell_type": "markdown",
   "id": "d66e7a2e-ea7d-4248-a54d-d13b0cee8f3d",
   "metadata": {},
   "source": [
    "## Prediction for Classification"
   ]
  },
  {
   "cell_type": "code",
   "execution_count": 296,
   "id": "38bac003-840d-4906-aaa6-2d8d766adea6",
   "metadata": {
    "tags": []
   },
   "outputs": [
    {
     "data": {
      "text/plain": [
       "array([0, 1, 0, ..., 0, 0, 0])"
      ]
     },
     "execution_count": 296,
     "metadata": {},
     "output_type": "execute_result"
    }
   ],
   "source": [
    "from sklearn.ensemble import RandomForestClassifier\n",
    "rfc = RandomForestClassifier(random_state=73)\n",
    "rfc.fit(Xs_train, y_train)\n",
    "rfc.predict(Xs_test)"
   ]
  },
  {
   "cell_type": "code",
   "execution_count": 297,
   "id": "4349c08e-0e50-4172-89eb-bbb42f38ad80",
   "metadata": {},
   "outputs": [
    {
     "data": {
      "text/plain": [
       "0    1907\n",
       "1    1093\n",
       "dtype: int64"
      ]
     },
     "execution_count": 297,
     "metadata": {},
     "output_type": "execute_result"
    }
   ],
   "source": [
    "pd.Series(rfc.predict(Xs_test)).value_counts()"
   ]
  },
  {
   "cell_type": "code",
   "execution_count": 298,
   "id": "1ef1650a-46a4-4f66-ae78-a9d53112b455",
   "metadata": {},
   "outputs": [
    {
     "data": {
      "text/plain": [
       "array([[1., 0.],\n",
       "       [0., 1.],\n",
       "       [1., 0.],\n",
       "       ...,\n",
       "       [1., 0.],\n",
       "       [1., 0.],\n",
       "       [1., 0.]])"
      ]
     },
     "execution_count": 298,
     "metadata": {},
     "output_type": "execute_result"
    }
   ],
   "source": [
    " rfc.predict_proba(Xs_test)"
   ]
  },
  {
   "cell_type": "code",
   "execution_count": 299,
   "id": "902e1bc9-3c73-4b2f-bdff-aa7d6b732edb",
   "metadata": {},
   "outputs": [
    {
     "data": {
      "text/plain": [
       "{'bootstrap': True,\n",
       " 'ccp_alpha': 0.0,\n",
       " 'class_weight': None,\n",
       " 'criterion': 'gini',\n",
       " 'max_depth': None,\n",
       " 'max_features': 'auto',\n",
       " 'max_leaf_nodes': None,\n",
       " 'max_samples': None,\n",
       " 'min_impurity_decrease': 0.0,\n",
       " 'min_impurity_split': None,\n",
       " 'min_samples_leaf': 1,\n",
       " 'min_samples_split': 2,\n",
       " 'min_weight_fraction_leaf': 0.0,\n",
       " 'n_estimators': 100,\n",
       " 'n_jobs': None,\n",
       " 'oob_score': False,\n",
       " 'random_state': 73,\n",
       " 'verbose': 0,\n",
       " 'warm_start': False}"
      ]
     },
     "execution_count": 299,
     "metadata": {},
     "output_type": "execute_result"
    }
   ],
   "source": [
    "rfc = RandomForestClassifier(random_state=73)\n",
    "rfc.get_params()"
   ]
  },
  {
   "cell_type": "code",
   "execution_count": 300,
   "id": "b12a6d87-818b-4773-82da-abc2fc2b65d3",
   "metadata": {},
   "outputs": [
    {
     "data": {
      "text/plain": [
       "0.98"
      ]
     },
     "execution_count": 300,
     "metadata": {},
     "output_type": "execute_result"
    }
   ],
   "source": [
    "rfc.fit(Xs_train, y_train)\n",
    "rfc.score(Xs_test, y_test)"
   ]
  },
  {
   "cell_type": "code",
   "execution_count": 301,
   "id": "e4a40ad6-30e4-4c8a-99f5-f3dc38f3f0a8",
   "metadata": {},
   "outputs": [
    {
     "name": "stdout",
     "output_type": "stream",
     "text": [
      "MSE:  0.013857142857142858\n",
      "MAE:  0.019666666666666666\n"
     ]
    }
   ],
   "source": [
    "# Using scikit-learn to Inspect Model Fit\n",
    "from sklearn.metrics import mean_squared_error\n",
    "from math import sqrt\n",
    "from sklearn.metrics import mean_absolute_error\n",
    "\n",
    "train_preds = knn_model_2.predict(Xs_train)\n",
    "mse = mean_squared_error(y_train, train_preds)\n",
    "print(\"MSE: \", mse)\n",
    "\n",
    "test_preds = knn_model_2.predict(Xs_test)\n",
    "mae = mean_absolute_error(y_test, test_preds)\n",
    "print(\"MAE: \", mae)\n"
   ]
  },
  {
   "cell_type": "code",
   "execution_count": 302,
   "id": "05e6463a-d7b3-4920-8d6a-5913474fc540",
   "metadata": {},
   "outputs": [
    {
     "data": {
      "text/plain": [
       "0.019666666666666666"
      ]
     },
     "execution_count": 302,
     "metadata": {},
     "output_type": "execute_result"
    }
   ],
   "source": [
    "test_preds = knn_model_2.predict(Xs_test)\n",
    "mse = mean_squared_error(y_test, test_preds)\n",
    "mse\n",
    "#rmse = sqrt(mse)\n",
    "#rmse"
   ]
  },
  {
   "cell_type": "code",
   "execution_count": 303,
   "id": "07106d76-cf91-456d-bee2-b5421360e255",
   "metadata": {},
   "outputs": [
    {
     "data": {
      "image/png": "[encoded data removed]",
      "text/plain": [
       "<Figure size 1080x576 with 2 Axes>"
      ]
     },
     "metadata": {},
     "output_type": "display_data"
    }
   ],
   "source": [
    "# Predicted\n",
    "import seaborn as sns\n",
    "cmap = sns.cubehelix_palette(as_cmap=True)\n",
    "f, ax = plt.subplots()\n",
    "points = ax.scatter(\n",
    "    Xs_test[:, 0], Xs_test[:, 1], c=test_preds, s=50, cmap=cmap\n",
    ")\n",
    "f.colorbar(points)\n",
    "plt.show()"
   ]
  },
  {
   "cell_type": "code",
   "execution_count": 304,
   "id": "a6c03eaf-f783-419a-88f1-62f79f0a8e02",
   "metadata": {},
   "outputs": [
    {
     "data": {
      "image/png": "[encoded data removed]",
      "text/plain": [
       "<Figure size 1080x576 with 2 Axes>"
      ]
     },
     "metadata": {},
     "output_type": "display_data"
    }
   ],
   "source": [
    "# Actual\n",
    "import seaborn as sns\n",
    "cmap = sns.cubehelix_palette(as_cmap=True)\n",
    "f, ax = plt.subplots()\n",
    "points = ax.scatter(\n",
    "    Xs_test[:, 0], Xs_test[:, 1], c=y_test, s=50, cmap=cmap\n",
    ")\n",
    "f.colorbar(points)\n",
    "plt.show()"
   ]
  },
  {
   "cell_type": "code",
   "execution_count": 305,
   "id": "d564c79f-8c90-49a2-b98d-7a37376b5f94",
   "metadata": {},
   "outputs": [
    {
     "data": {
      "text/plain": [
       "0.019666666666666666"
      ]
     },
     "execution_count": 305,
     "metadata": {},
     "output_type": "execute_result"
    }
   ],
   "source": [
    "# Mean Absolute Error (MAE)\n",
    "from sklearn.metrics import mean_absolute_error\n",
    "mean_absolute_error(y_test, y_pred)"
   ]
  },
  {
   "cell_type": "code",
   "execution_count": 306,
   "id": "5aeef41d-43d1-4713-8eb7-41f76925f4fe",
   "metadata": {},
   "outputs": [
    {
     "data": {
      "text/plain": [
       "0.019666666666666666"
      ]
     },
     "execution_count": 306,
     "metadata": {},
     "output_type": "execute_result"
    }
   ],
   "source": [
    "# Mean Squared Error (MSE)\n",
    "from sklearn.metrics import mean_squared_error\n",
    "mean_squared_error(y_test, y_pred)"
   ]
  },
  {
   "cell_type": "code",
   "execution_count": 307,
   "id": "bb6390d7-4c29-46ab-b83f-2434ef8a863b",
   "metadata": {},
   "outputs": [
    {
     "data": {
      "text/plain": [
       "0.9803333333333333"
      ]
     },
     "execution_count": 307,
     "metadata": {},
     "output_type": "execute_result"
    }
   ],
   "source": [
    " from sklearn.metrics import accuracy_score, precision_score, recall_score\n",
    "accuracy_score(y_test, y_pred)"
   ]
  },
  {
   "cell_type": "code",
   "execution_count": 308,
   "id": "d0f6507f-a4ae-456a-9c1e-cc0ff24af79f",
   "metadata": {},
   "outputs": [
    {
     "data": {
      "text/plain": [
       "0.9736363636363636"
      ]
     },
     "execution_count": 308,
     "metadata": {},
     "output_type": "execute_result"
    }
   ],
   "source": [
    "precision_score(y_test, y_pred)"
   ]
  },
  {
   "cell_type": "code",
   "execution_count": 309,
   "id": "5bdd0c4e-07e9-4fa1-8918-980b0619328e",
   "metadata": {},
   "outputs": [
    {
     "data": {
      "text/plain": [
       "0.9727520435967303"
      ]
     },
     "execution_count": 309,
     "metadata": {},
     "output_type": "execute_result"
    }
   ],
   "source": [
    "recall_score(y_test, y_pred)"
   ]
  },
  {
   "cell_type": "code",
   "execution_count": 310,
   "id": "9b8ff812-af48-4c13-a06f-2c8bd78cd9db",
   "metadata": {},
   "outputs": [
    {
     "data": {
      "text/html": [
       "<div>\n",
       "<style scoped>\n",
       "    .dataframe tbody tr th:only-of-type {\n",
       "        vertical-align: middle;\n",
       "    }\n",
       "\n",
       "    .dataframe tbody tr th {\n",
       "        vertical-align: top;\n",
       "    }\n",
       "\n",
       "    .dataframe thead th {\n",
       "        text-align: right;\n",
       "    }\n",
       "</style>\n",
       "<table border=\"1\" class=\"dataframe\">\n",
       "  <thead>\n",
       "    <tr style=\"text-align: right;\">\n",
       "      <th></th>\n",
       "      <th>Initial_days</th>\n",
       "      <th>TotalCharge</th>\n",
       "      <th>ReAdmis_Yes</th>\n",
       "    </tr>\n",
       "  </thead>\n",
       "  <tbody>\n",
       "    <tr>\n",
       "      <th>0</th>\n",
       "      <td>10.585770</td>\n",
       "      <td>3726.702860</td>\n",
       "      <td>0</td>\n",
       "    </tr>\n",
       "    <tr>\n",
       "      <th>1</th>\n",
       "      <td>15.129562</td>\n",
       "      <td>4193.190458</td>\n",
       "      <td>0</td>\n",
       "    </tr>\n",
       "    <tr>\n",
       "      <th>2</th>\n",
       "      <td>4.772177</td>\n",
       "      <td>2434.234222</td>\n",
       "      <td>0</td>\n",
       "    </tr>\n",
       "    <tr>\n",
       "      <th>3</th>\n",
       "      <td>1.714879</td>\n",
       "      <td>2127.830423</td>\n",
       "      <td>0</td>\n",
       "    </tr>\n",
       "    <tr>\n",
       "      <th>4</th>\n",
       "      <td>1.254807</td>\n",
       "      <td>2113.073274</td>\n",
       "      <td>0</td>\n",
       "    </tr>\n",
       "    <tr>\n",
       "      <th>...</th>\n",
       "      <td>...</td>\n",
       "      <td>...</td>\n",
       "      <td>...</td>\n",
       "    </tr>\n",
       "    <tr>\n",
       "      <th>9995</th>\n",
       "      <td>51.561220</td>\n",
       "      <td>6850.942000</td>\n",
       "      <td>0</td>\n",
       "    </tr>\n",
       "    <tr>\n",
       "      <th>9996</th>\n",
       "      <td>68.668240</td>\n",
       "      <td>7741.690000</td>\n",
       "      <td>1</td>\n",
       "    </tr>\n",
       "    <tr>\n",
       "      <th>9997</th>\n",
       "      <td>70.154180</td>\n",
       "      <td>8276.481000</td>\n",
       "      <td>1</td>\n",
       "    </tr>\n",
       "    <tr>\n",
       "      <th>9998</th>\n",
       "      <td>63.356900</td>\n",
       "      <td>7644.483000</td>\n",
       "      <td>1</td>\n",
       "    </tr>\n",
       "    <tr>\n",
       "      <th>9999</th>\n",
       "      <td>70.850590</td>\n",
       "      <td>7887.553000</td>\n",
       "      <td>1</td>\n",
       "    </tr>\n",
       "  </tbody>\n",
       "</table>\n",
       "<p>10000 rows × 3 columns</p>\n",
       "</div>"
      ],
      "text/plain": [
       "      Initial_days  TotalCharge  ReAdmis_Yes\n",
       "0        10.585770  3726.702860            0\n",
       "1        15.129562  4193.190458            0\n",
       "2         4.772177  2434.234222            0\n",
       "3         1.714879  2127.830423            0\n",
       "4         1.254807  2113.073274            0\n",
       "...            ...          ...          ...\n",
       "9995     51.561220  6850.942000            0\n",
       "9996     68.668240  7741.690000            1\n",
       "9997     70.154180  8276.481000            1\n",
       "9998     63.356900  7644.483000            1\n",
       "9999     70.850590  7887.553000            1\n",
       "\n",
       "[10000 rows x 3 columns]"
      ]
     },
     "execution_count": 310,
     "metadata": {},
     "output_type": "execute_result"
    }
   ],
   "source": [
    "pruned_df"
   ]
  },
  {
   "cell_type": "markdown",
   "id": "33f89bed-e2aa-4626-a561-3d2b5574f143",
   "metadata": {},
   "source": [
    "### Export Data"
   ]
  },
  {
   "cell_type": "code",
   "execution_count": 311,
   "id": "c0cb7f84-e7ca-4e94-a23e-26e47afd6c18",
   "metadata": {},
   "outputs": [
    {
     "data": {
      "text/plain": [
       "[['Initial_days', 'TotalCharge', 'ReAdmis_Yes']]"
      ]
     },
     "execution_count": 311,
     "metadata": {},
     "output_type": "execute_result"
    }
   ],
   "source": [
    "[['Initial_days', 'TotalCharge', 'ReAdmis_Yes']]"
   ]
  },
  {
   "cell_type": "code",
   "execution_count": 312,
   "id": "0c15c804-fc75-4989-87ee-7f698790e980",
   "metadata": {},
   "outputs": [
    {
     "data": {
      "text/plain": [
       "(7000, 2)"
      ]
     },
     "execution_count": 312,
     "metadata": {},
     "output_type": "execute_result"
    }
   ],
   "source": [
    "X_train.shape"
   ]
  },
  {
   "cell_type": "code",
   "execution_count": 313,
   "id": "7b8ad66c-b453-4649-8273-52c11fb2fa9d",
   "metadata": {
    "tags": []
   },
   "outputs": [],
   "source": [
    "# Export Training Data\n",
    "X_train_data = pd.DataFrame(X_train, columns = ['Initial_days','TotalCharge'])\n",
    "y_train_data = pd.DataFrame(y_train, columns = ['ReAdmis_Yes'])"
   ]
  },
  {
   "cell_type": "code",
   "execution_count": 314,
   "id": "0cd10720-ab90-4b8c-a060-b6d04da6c19c",
   "metadata": {},
   "outputs": [],
   "source": [
    "# Export Testing Data\n",
    "X_test_data = pd.DataFrame(X_test, columns = ['Initial_days','TotalCharge'])\n",
    "y_test_data = pd.DataFrame(y_test, columns = ['ReAdmis_Yes'])"
   ]
  },
  {
   "cell_type": "code",
   "execution_count": 315,
   "id": "a58fc8c8-a58a-441a-ace5-23e11efaaee9",
   "metadata": {},
   "outputs": [],
   "source": [
    "pruned_df.to_csv('final_cleaned_dataset.csv', index=False)\n",
    "X_train_data.to_csv('X_train_data.csv', index=False)\n",
    "X_test_data.to_csv('X_test_data.csv', index=False)\n",
    "y_train_data.to_csv('y_train_data.csv', index=False)\n",
    "y_test_data.to_csv('y_test_data.csv', index=False)"
   ]
  },
  {
   "cell_type": "code",
   "execution_count": 316,
   "id": "201afc03-a52a-4f33-bd69-aafee5b5035c",
   "metadata": {},
   "outputs": [
    {
     "data": {
      "text/html": [
       "<div>\n",
       "<style scoped>\n",
       "    .dataframe tbody tr th:only-of-type {\n",
       "        vertical-align: middle;\n",
       "    }\n",
       "\n",
       "    .dataframe tbody tr th {\n",
       "        vertical-align: top;\n",
       "    }\n",
       "\n",
       "    .dataframe thead th {\n",
       "        text-align: right;\n",
       "    }\n",
       "</style>\n",
       "<table border=\"1\" class=\"dataframe\">\n",
       "  <thead>\n",
       "    <tr style=\"text-align: right;\">\n",
       "      <th></th>\n",
       "      <th>Initial_days</th>\n",
       "      <th>TotalCharge</th>\n",
       "      <th>ReAdmis_Yes</th>\n",
       "    </tr>\n",
       "  </thead>\n",
       "  <tbody>\n",
       "    <tr>\n",
       "      <th>count</th>\n",
       "      <td>10000.000000</td>\n",
       "      <td>10000.000000</td>\n",
       "      <td>10000.000000</td>\n",
       "    </tr>\n",
       "    <tr>\n",
       "      <th>mean</th>\n",
       "      <td>34.455299</td>\n",
       "      <td>5312.172769</td>\n",
       "      <td>0.366900</td>\n",
       "    </tr>\n",
       "    <tr>\n",
       "      <th>std</th>\n",
       "      <td>26.309341</td>\n",
       "      <td>2180.393838</td>\n",
       "      <td>0.481983</td>\n",
       "    </tr>\n",
       "    <tr>\n",
       "      <th>min</th>\n",
       "      <td>1.001981</td>\n",
       "      <td>1938.312067</td>\n",
       "      <td>0.000000</td>\n",
       "    </tr>\n",
       "    <tr>\n",
       "      <th>25%</th>\n",
       "      <td>7.896215</td>\n",
       "      <td>3179.374015</td>\n",
       "      <td>0.000000</td>\n",
       "    </tr>\n",
       "    <tr>\n",
       "      <th>50%</th>\n",
       "      <td>35.836244</td>\n",
       "      <td>5213.952000</td>\n",
       "      <td>0.000000</td>\n",
       "    </tr>\n",
       "    <tr>\n",
       "      <th>75%</th>\n",
       "      <td>61.161020</td>\n",
       "      <td>7459.699750</td>\n",
       "      <td>1.000000</td>\n",
       "    </tr>\n",
       "    <tr>\n",
       "      <th>max</th>\n",
       "      <td>71.981490</td>\n",
       "      <td>9180.728000</td>\n",
       "      <td>1.000000</td>\n",
       "    </tr>\n",
       "  </tbody>\n",
       "</table>\n",
       "</div>"
      ],
      "text/plain": [
       "       Initial_days   TotalCharge   ReAdmis_Yes\n",
       "count  10000.000000  10000.000000  10000.000000\n",
       "mean      34.455299   5312.172769      0.366900\n",
       "std       26.309341   2180.393838      0.481983\n",
       "min        1.001981   1938.312067      0.000000\n",
       "25%        7.896215   3179.374015      0.000000\n",
       "50%       35.836244   5213.952000      0.000000\n",
       "75%       61.161020   7459.699750      1.000000\n",
       "max       71.981490   9180.728000      1.000000"
      ]
     },
     "execution_count": 316,
     "metadata": {},
     "output_type": "execute_result"
    }
   ],
   "source": [
    "pruned_df.describe()"
   ]
  },
  {
   "cell_type": "code",
   "execution_count": 317,
   "id": "0d0db8b8-e796-43b9-a56d-43248b14c10d",
   "metadata": {},
   "outputs": [
    {
     "data": {
      "text/plain": [
       "Initial_days    9997\n",
       "TotalCharge     9997\n",
       "ReAdmis_Yes        2\n",
       "dtype: int64"
      ]
     },
     "execution_count": 317,
     "metadata": {},
     "output_type": "execute_result"
    }
   ],
   "source": [
    "pruned_df.nunique()"
   ]
  },
  {
   "cell_type": "code",
   "execution_count": 318,
   "id": "2cf3f0f8-1421-48e8-ba5d-f9d53edbc567",
   "metadata": {},
   "outputs": [
    {
     "data": {
      "text/plain": [
       "0    6331\n",
       "1    3669\n",
       "Name: ReAdmis_Yes, dtype: int64"
      ]
     },
     "execution_count": 318,
     "metadata": {},
     "output_type": "execute_result"
    }
   ],
   "source": [
    "pruned_df['ReAdmis_Yes'].value_counts()"
   ]
  }
 ],
 "metadata": {
  "kernelspec": {
   "display_name": "Python 3",
   "language": "python",
   "name": "python3"
  },
  "language_info": {
   "codemirror_mode": {
    "name": "ipython",
    "version": 3
   },
   "file_extension": ".py",
   "mimetype": "text/x-python",
   "name": "python",
   "nbconvert_exporter": "python",
   "pygments_lexer": "ipython3",
   "version": "3.8.8"
  }
 },
 "nbformat": 4,
 "nbformat_minor": 5
}
