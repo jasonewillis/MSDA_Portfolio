{
 "cells": [
  {
   "cell_type": "markdown",
   "id": "9a05da96-be7f-4b72-9404-ffa428e7d251",
   "metadata": {
    "pycharm": {
     "name": "#%% md\n"
    }
   },
   "source": [
    "## D212 - Data Mining II - PA1"
   ]
  },
  {
   "cell_type": "markdown",
   "id": "6f2ccc30-cd76-4012-ad10-2fc554e6ee5d",
   "metadata": {
    "pycharm": {
     "name": "#%% md\n"
    }
   },
   "source": [
    "### Background Info:\n",
    "\n",
    "**You are an analyst on a team of analysts for a popular medical hospital chain with patients in almost every state in the United States. You have been asked to investigate the extent to which readmission is a problem for this chain of hospitals.The purpose of the analysis is to predict readmission based on other conditions and factors of the patient.**\n",
    "\n",
    "**You have been asked to use PCA to analyze patient data to identify the principal variables of your patients, ultimately allowing better business and strategic decision-making for the hospital.**"
   ]
  },
  {
   "cell_type": "markdown",
   "id": "07712ef5-8175-4032-9a36-3973f6db834f",
   "metadata": {
    "pycharm": {
     "name": "#%% md\n"
    }
   },
   "source": [
    "### Import Libraries"
   ]
  },
  {
   "cell_type": "code",
   "execution_count": 1,
   "id": "df83b34d-1955-4a21-bde0-f68c26a235e7",
   "metadata": {
    "pycharm": {
     "name": "#%%\n"
    }
   },
   "outputs": [],
   "source": [
    "import pandas as pd\n",
    "import seaborn as sns\n",
    "import numpy as np\n",
    "from sklearn.cluster import KMeans\n",
    "from sklearn.preprocessing import LabelEncoder\n",
    "from sklearn.preprocessing import MinMaxScaler\n",
    "from sklearn.decomposition import PCA\n",
    "import matplotlib.pyplot as plt\n",
    "from sklearn.model_selection import train_test_split\n",
    "%matplotlib inline"
   ]
  },
  {
   "cell_type": "markdown",
   "id": "dbb231fb-a260-451c-bb3a-f085371d21b6",
   "metadata": {
    "pycharm": {
     "name": "#%% md\n"
    }
   },
   "source": [
    "### Load Data From medical_clean.csv"
   ]
  },
  {
   "cell_type": "code",
   "execution_count": 2,
   "id": "ae78b466-ae42-4caf-889a-6ff70a6cd528",
   "metadata": {
    "pycharm": {
     "name": "#%%\n"
    }
   },
   "outputs": [
    {
     "data": {
      "text/plain": "   CaseOrder Customer_id                           Interaction  \\\n0          1     C412403  8cd49b13-f45a-4b47-a2bd-173ffa932c2f   \n1          2     Z919181  d2450b70-0337-4406-bdbb-bc1037f1734c   \n2          3     F995323  a2057123-abf5-4a2c-abad-8ffe33512562   \n3          4     A879973  1dec528d-eb34-4079-adce-0d7a40e82205   \n4          5     C544523  5885f56b-d6da-43a3-8760-83583af94266   \n\n                                UID          City State        County    Zip  \\\n0  3a83ddb66e2ae73798bdf1d705dc0932           Eva    AL        Morgan  35621   \n1  176354c5eef714957d486009feabf195      Marianna    FL       Jackson  32446   \n2  e19a0fa00aeda885b8a436757e889bc9   Sioux Falls    SD     Minnehaha  57110   \n3  cd17d7b6d152cb6f23957346d11c3f07  New Richland    MN        Waseca  56072   \n4  d2f0425877b10ed6bb381f3e2579424a    West Point    VA  King William  23181   \n\n        Lat       Lng  ...  TotalCharge Additional_charges Item1 Item2  Item3  \\\n0  34.34960 -86.72508  ...  3726.702860       17939.403420     3     3      2   \n1  30.84513 -85.22907  ...  4193.190458       17612.998120     3     4      3   \n2  43.54321 -96.63772  ...  2434.234222       17505.192460     2     4      4   \n3  43.89744 -93.51479  ...  2127.830423       12993.437350     3     5      5   \n4  37.59894 -76.88958  ...  2113.073274        3716.525786     2     1      3   \n\n   Item4  Item5 Item6 Item7 Item8  \n0      2      4     3     3     4  \n1      4      4     4     3     3  \n2      4      3     4     3     3  \n3      3      4     5     5     5  \n4      3      5     3     4     3  \n\n[5 rows x 50 columns]",
      "text/html": "<div>\n<style scoped>\n    .dataframe tbody tr th:only-of-type {\n        vertical-align: middle;\n    }\n\n    .dataframe tbody tr th {\n        vertical-align: top;\n    }\n\n    .dataframe thead th {\n        text-align: right;\n    }\n</style>\n<table border=\"1\" class=\"dataframe\">\n  <thead>\n    <tr style=\"text-align: right;\">\n      <th></th>\n      <th>CaseOrder</th>\n      <th>Customer_id</th>\n      <th>Interaction</th>\n      <th>UID</th>\n      <th>City</th>\n      <th>State</th>\n      <th>County</th>\n      <th>Zip</th>\n      <th>Lat</th>\n      <th>Lng</th>\n      <th>...</th>\n      <th>TotalCharge</th>\n      <th>Additional_charges</th>\n      <th>Item1</th>\n      <th>Item2</th>\n      <th>Item3</th>\n      <th>Item4</th>\n      <th>Item5</th>\n      <th>Item6</th>\n      <th>Item7</th>\n      <th>Item8</th>\n    </tr>\n  </thead>\n  <tbody>\n    <tr>\n      <th>0</th>\n      <td>1</td>\n      <td>C412403</td>\n      <td>8cd49b13-f45a-4b47-a2bd-173ffa932c2f</td>\n      <td>3a83ddb66e2ae73798bdf1d705dc0932</td>\n      <td>Eva</td>\n      <td>AL</td>\n      <td>Morgan</td>\n      <td>35621</td>\n      <td>34.34960</td>\n      <td>-86.72508</td>\n      <td>...</td>\n      <td>3726.702860</td>\n      <td>17939.403420</td>\n      <td>3</td>\n      <td>3</td>\n      <td>2</td>\n      <td>2</td>\n      <td>4</td>\n      <td>3</td>\n      <td>3</td>\n      <td>4</td>\n    </tr>\n    <tr>\n      <th>1</th>\n      <td>2</td>\n      <td>Z919181</td>\n      <td>d2450b70-0337-4406-bdbb-bc1037f1734c</td>\n      <td>176354c5eef714957d486009feabf195</td>\n      <td>Marianna</td>\n      <td>FL</td>\n      <td>Jackson</td>\n      <td>32446</td>\n      <td>30.84513</td>\n      <td>-85.22907</td>\n      <td>...</td>\n      <td>4193.190458</td>\n      <td>17612.998120</td>\n      <td>3</td>\n      <td>4</td>\n      <td>3</td>\n      <td>4</td>\n      <td>4</td>\n      <td>4</td>\n      <td>3</td>\n      <td>3</td>\n    </tr>\n    <tr>\n      <th>2</th>\n      <td>3</td>\n      <td>F995323</td>\n      <td>a2057123-abf5-4a2c-abad-8ffe33512562</td>\n      <td>e19a0fa00aeda885b8a436757e889bc9</td>\n      <td>Sioux Falls</td>\n      <td>SD</td>\n      <td>Minnehaha</td>\n      <td>57110</td>\n      <td>43.54321</td>\n      <td>-96.63772</td>\n      <td>...</td>\n      <td>2434.234222</td>\n      <td>17505.192460</td>\n      <td>2</td>\n      <td>4</td>\n      <td>4</td>\n      <td>4</td>\n      <td>3</td>\n      <td>4</td>\n      <td>3</td>\n      <td>3</td>\n    </tr>\n    <tr>\n      <th>3</th>\n      <td>4</td>\n      <td>A879973</td>\n      <td>1dec528d-eb34-4079-adce-0d7a40e82205</td>\n      <td>cd17d7b6d152cb6f23957346d11c3f07</td>\n      <td>New Richland</td>\n      <td>MN</td>\n      <td>Waseca</td>\n      <td>56072</td>\n      <td>43.89744</td>\n      <td>-93.51479</td>\n      <td>...</td>\n      <td>2127.830423</td>\n      <td>12993.437350</td>\n      <td>3</td>\n      <td>5</td>\n      <td>5</td>\n      <td>3</td>\n      <td>4</td>\n      <td>5</td>\n      <td>5</td>\n      <td>5</td>\n    </tr>\n    <tr>\n      <th>4</th>\n      <td>5</td>\n      <td>C544523</td>\n      <td>5885f56b-d6da-43a3-8760-83583af94266</td>\n      <td>d2f0425877b10ed6bb381f3e2579424a</td>\n      <td>West Point</td>\n      <td>VA</td>\n      <td>King William</td>\n      <td>23181</td>\n      <td>37.59894</td>\n      <td>-76.88958</td>\n      <td>...</td>\n      <td>2113.073274</td>\n      <td>3716.525786</td>\n      <td>2</td>\n      <td>1</td>\n      <td>3</td>\n      <td>3</td>\n      <td>5</td>\n      <td>3</td>\n      <td>4</td>\n      <td>3</td>\n    </tr>\n  </tbody>\n</table>\n<p>5 rows × 50 columns</p>\n</div>"
     },
     "execution_count": 2,
     "metadata": {},
     "output_type": "execute_result"
    }
   ],
   "source": [
    "# load data file\n",
    "df = pd.read_csv('medical_clean.csv')\n",
    "# quick test the data is present and see the shape\n",
    "df.head()"
   ]
  },
  {
   "cell_type": "markdown",
   "id": "674c6f92-79c3-48df-a3c3-743eb69771e2",
   "metadata": {
    "pycharm": {
     "name": "#%% md\n"
    }
   },
   "source": [
    "---\n",
    "### Exploratory Data Analysis\n",
    "---"
   ]
  },
  {
   "cell_type": "code",
   "execution_count": 3,
   "id": "5832d92a-c445-435c-8378-9dcfaa3681bb",
   "metadata": {
    "pycharm": {
     "name": "#%%\n"
    }
   },
   "outputs": [
    {
     "name": "stdout",
     "output_type": "stream",
     "text": [
      "<class 'pandas.core.frame.DataFrame'>\n",
      "RangeIndex: 10000 entries, 0 to 9999\n",
      "Data columns (total 50 columns):\n",
      " #   Column              Non-Null Count  Dtype  \n",
      "---  ------              --------------  -----  \n",
      " 0   CaseOrder           10000 non-null  int64  \n",
      " 1   Customer_id         10000 non-null  object \n",
      " 2   Interaction         10000 non-null  object \n",
      " 3   UID                 10000 non-null  object \n",
      " 4   City                10000 non-null  object \n",
      " 5   State               10000 non-null  object \n",
      " 6   County              10000 non-null  object \n",
      " 7   Zip                 10000 non-null  int64  \n",
      " 8   Lat                 10000 non-null  float64\n",
      " 9   Lng                 10000 non-null  float64\n",
      " 10  Population          10000 non-null  int64  \n",
      " 11  Area                10000 non-null  object \n",
      " 12  TimeZone            10000 non-null  object \n",
      " 13  Job                 10000 non-null  object \n",
      " 14  Children            10000 non-null  int64  \n",
      " 15  Age                 10000 non-null  int64  \n",
      " 16  Income              10000 non-null  float64\n",
      " 17  Marital             10000 non-null  object \n",
      " 18  Gender              10000 non-null  object \n",
      " 19  ReAdmis             10000 non-null  object \n",
      " 20  VitD_levels         10000 non-null  float64\n",
      " 21  Doc_visits          10000 non-null  int64  \n",
      " 22  Full_meals_eaten    10000 non-null  int64  \n",
      " 23  vitD_supp           10000 non-null  int64  \n",
      " 24  Soft_drink          10000 non-null  object \n",
      " 25  Initial_admin       10000 non-null  object \n",
      " 26  HighBlood           10000 non-null  object \n",
      " 27  Stroke              10000 non-null  object \n",
      " 28  Complication_risk   10000 non-null  object \n",
      " 29  Overweight          10000 non-null  object \n",
      " 30  Arthritis           10000 non-null  object \n",
      " 31  Diabetes            10000 non-null  object \n",
      " 32  Hyperlipidemia      10000 non-null  object \n",
      " 33  BackPain            10000 non-null  object \n",
      " 34  Anxiety             10000 non-null  object \n",
      " 35  Allergic_rhinitis   10000 non-null  object \n",
      " 36  Reflux_esophagitis  10000 non-null  object \n",
      " 37  Asthma              10000 non-null  object \n",
      " 38  Services            10000 non-null  object \n",
      " 39  Initial_days        10000 non-null  float64\n",
      " 40  TotalCharge         10000 non-null  float64\n",
      " 41  Additional_charges  10000 non-null  float64\n",
      " 42  Item1               10000 non-null  int64  \n",
      " 43  Item2               10000 non-null  int64  \n",
      " 44  Item3               10000 non-null  int64  \n",
      " 45  Item4               10000 non-null  int64  \n",
      " 46  Item5               10000 non-null  int64  \n",
      " 47  Item6               10000 non-null  int64  \n",
      " 48  Item7               10000 non-null  int64  \n",
      " 49  Item8               10000 non-null  int64  \n",
      "dtypes: float64(7), int64(16), object(27)\n",
      "memory usage: 3.8+ MB\n"
     ]
    }
   ],
   "source": [
    "df.info()"
   ]
  },
  {
   "cell_type": "markdown",
   "id": "ae23d16f-0a3c-4844-ad79-34d06f7de851",
   "metadata": {
    "pycharm": {
     "name": "#%% md\n"
    }
   },
   "source": [
    "### Check for Missing Values"
   ]
  },
  {
   "cell_type": "code",
   "execution_count": 4,
   "id": "2203a14c-41fb-4ea8-ac50-df59756aa276",
   "metadata": {
    "pycharm": {
     "name": "#%%\n"
    }
   },
   "outputs": [
    {
     "data": {
      "text/plain": "<Figure size 432x288 with 1 Axes>",
      "image/png": "[encoded data removed]"
     },
     "metadata": {
      "needs_background": "light"
     },
     "output_type": "display_data"
    }
   ],
   "source": [
    "# Mapping to view missing data...none present.\n",
    "sns.heatmap(df.isnull(), yticklabels=False, cbar=False, cmap='viridis');"
   ]
  },
  {
   "cell_type": "code",
   "execution_count": 5,
   "id": "4d655d3b-6f11-4412-937c-4023efc97581",
   "metadata": {
    "pycharm": {
     "name": "#%%\n"
    }
   },
   "outputs": [
    {
     "data": {
      "text/plain": "         CaseOrder           Zip           Lat           Lng     Population  \\\ncount  10000.00000  10000.000000  10000.000000  10000.000000   10000.000000   \nmean    5000.50000  50159.323900     38.751099    -91.243080    9965.253800   \nstd     2886.89568  27469.588208      5.403085     15.205998   14824.758614   \nmin        1.00000    610.000000     17.967190   -174.209700       0.000000   \n25%     2500.75000  27592.000000     35.255120    -97.352982     694.750000   \n50%     5000.50000  50207.000000     39.419355    -88.397230    2769.000000   \n75%     7500.25000  72411.750000     42.044175    -80.438050   13945.000000   \nmax    10000.00000  99929.000000     70.560990    -65.290170  122814.000000   \n\n           Children           Age         Income   VitD_levels    Doc_visits  \\\ncount  10000.000000  10000.000000   10000.000000  10000.000000  10000.000000   \nmean       2.097200     53.511700   40490.495160     17.964262      5.012200   \nstd        2.163659     20.638538   28521.153293      2.017231      1.045734   \nmin        0.000000     18.000000     154.080000      9.806483      1.000000   \n25%        0.000000     36.000000   19598.775000     16.626439      4.000000   \n50%        1.000000     53.000000   33768.420000     17.951122      5.000000   \n75%        3.000000     71.000000   54296.402500     19.347963      6.000000   \nmax       10.000000     89.000000  207249.100000     26.394449      9.000000   \n\n       ...   TotalCharge  Additional_charges         Item1         Item2  \\\ncount  ...  10000.000000        10000.000000  10000.000000  10000.000000   \nmean   ...   5312.172769        12934.528587      3.518800      3.506700   \nstd    ...   2180.393838         6542.601544      1.031966      1.034825   \nmin    ...   1938.312067         3125.703000      1.000000      1.000000   \n25%    ...   3179.374015         7986.487755      3.000000      3.000000   \n50%    ...   5213.952000        11573.977735      4.000000      3.000000   \n75%    ...   7459.699750        15626.490000      4.000000      4.000000   \nmax    ...   9180.728000        30566.070000      8.000000      7.000000   \n\n              Item3         Item4         Item5         Item6         Item7  \\\ncount  10000.000000  10000.000000  10000.000000  10000.000000  10000.000000   \nmean       3.511100      3.515100      3.496900      3.522500      3.494000   \nstd        1.032755      1.036282      1.030192      1.032376      1.021405   \nmin        1.000000      1.000000      1.000000      1.000000      1.000000   \n25%        3.000000      3.000000      3.000000      3.000000      3.000000   \n50%        4.000000      4.000000      3.000000      4.000000      3.000000   \n75%        4.000000      4.000000      4.000000      4.000000      4.000000   \nmax        8.000000      7.000000      7.000000      7.000000      7.000000   \n\n              Item8  \ncount  10000.000000  \nmean       3.509700  \nstd        1.042312  \nmin        1.000000  \n25%        3.000000  \n50%        3.000000  \n75%        4.000000  \nmax        7.000000  \n\n[8 rows x 23 columns]",
      "text/html": "<div>\n<style scoped>\n    .dataframe tbody tr th:only-of-type {\n        vertical-align: middle;\n    }\n\n    .dataframe tbody tr th {\n        vertical-align: top;\n    }\n\n    .dataframe thead th {\n        text-align: right;\n    }\n</style>\n<table border=\"1\" class=\"dataframe\">\n  <thead>\n    <tr style=\"text-align: right;\">\n      <th></th>\n      <th>CaseOrder</th>\n      <th>Zip</th>\n      <th>Lat</th>\n      <th>Lng</th>\n      <th>Population</th>\n      <th>Children</th>\n      <th>Age</th>\n      <th>Income</th>\n      <th>VitD_levels</th>\n      <th>Doc_visits</th>\n      <th>...</th>\n      <th>TotalCharge</th>\n      <th>Additional_charges</th>\n      <th>Item1</th>\n      <th>Item2</th>\n      <th>Item3</th>\n      <th>Item4</th>\n      <th>Item5</th>\n      <th>Item6</th>\n      <th>Item7</th>\n      <th>Item8</th>\n    </tr>\n  </thead>\n  <tbody>\n    <tr>\n      <th>count</th>\n      <td>10000.00000</td>\n      <td>10000.000000</td>\n      <td>10000.000000</td>\n      <td>10000.000000</td>\n      <td>10000.000000</td>\n      <td>10000.000000</td>\n      <td>10000.000000</td>\n      <td>10000.000000</td>\n      <td>10000.000000</td>\n      <td>10000.000000</td>\n      <td>...</td>\n      <td>10000.000000</td>\n      <td>10000.000000</td>\n      <td>10000.000000</td>\n      <td>10000.000000</td>\n      <td>10000.000000</td>\n      <td>10000.000000</td>\n      <td>10000.000000</td>\n      <td>10000.000000</td>\n      <td>10000.000000</td>\n      <td>10000.000000</td>\n    </tr>\n    <tr>\n      <th>mean</th>\n      <td>5000.50000</td>\n      <td>50159.323900</td>\n      <td>38.751099</td>\n      <td>-91.243080</td>\n      <td>9965.253800</td>\n      <td>2.097200</td>\n      <td>53.511700</td>\n      <td>40490.495160</td>\n      <td>17.964262</td>\n      <td>5.012200</td>\n      <td>...</td>\n      <td>5312.172769</td>\n      <td>12934.528587</td>\n      <td>3.518800</td>\n      <td>3.506700</td>\n      <td>3.511100</td>\n      <td>3.515100</td>\n      <td>3.496900</td>\n      <td>3.522500</td>\n      <td>3.494000</td>\n      <td>3.509700</td>\n    </tr>\n    <tr>\n      <th>std</th>\n      <td>2886.89568</td>\n      <td>27469.588208</td>\n      <td>5.403085</td>\n      <td>15.205998</td>\n      <td>14824.758614</td>\n      <td>2.163659</td>\n      <td>20.638538</td>\n      <td>28521.153293</td>\n      <td>2.017231</td>\n      <td>1.045734</td>\n      <td>...</td>\n      <td>2180.393838</td>\n      <td>6542.601544</td>\n      <td>1.031966</td>\n      <td>1.034825</td>\n      <td>1.032755</td>\n      <td>1.036282</td>\n      <td>1.030192</td>\n      <td>1.032376</td>\n      <td>1.021405</td>\n      <td>1.042312</td>\n    </tr>\n    <tr>\n      <th>min</th>\n      <td>1.00000</td>\n      <td>610.000000</td>\n      <td>17.967190</td>\n      <td>-174.209700</td>\n      <td>0.000000</td>\n      <td>0.000000</td>\n      <td>18.000000</td>\n      <td>154.080000</td>\n      <td>9.806483</td>\n      <td>1.000000</td>\n      <td>...</td>\n      <td>1938.312067</td>\n      <td>3125.703000</td>\n      <td>1.000000</td>\n      <td>1.000000</td>\n      <td>1.000000</td>\n      <td>1.000000</td>\n      <td>1.000000</td>\n      <td>1.000000</td>\n      <td>1.000000</td>\n      <td>1.000000</td>\n    </tr>\n    <tr>\n      <th>25%</th>\n      <td>2500.75000</td>\n      <td>27592.000000</td>\n      <td>35.255120</td>\n      <td>-97.352982</td>\n      <td>694.750000</td>\n      <td>0.000000</td>\n      <td>36.000000</td>\n      <td>19598.775000</td>\n      <td>16.626439</td>\n      <td>4.000000</td>\n      <td>...</td>\n      <td>3179.374015</td>\n      <td>7986.487755</td>\n      <td>3.000000</td>\n      <td>3.000000</td>\n      <td>3.000000</td>\n      <td>3.000000</td>\n      <td>3.000000</td>\n      <td>3.000000</td>\n      <td>3.000000</td>\n      <td>3.000000</td>\n    </tr>\n    <tr>\n      <th>50%</th>\n      <td>5000.50000</td>\n      <td>50207.000000</td>\n      <td>39.419355</td>\n      <td>-88.397230</td>\n      <td>2769.000000</td>\n      <td>1.000000</td>\n      <td>53.000000</td>\n      <td>33768.420000</td>\n      <td>17.951122</td>\n      <td>5.000000</td>\n      <td>...</td>\n      <td>5213.952000</td>\n      <td>11573.977735</td>\n      <td>4.000000</td>\n      <td>3.000000</td>\n      <td>4.000000</td>\n      <td>4.000000</td>\n      <td>3.000000</td>\n      <td>4.000000</td>\n      <td>3.000000</td>\n      <td>3.000000</td>\n    </tr>\n    <tr>\n      <th>75%</th>\n      <td>7500.25000</td>\n      <td>72411.750000</td>\n      <td>42.044175</td>\n      <td>-80.438050</td>\n      <td>13945.000000</td>\n      <td>3.000000</td>\n      <td>71.000000</td>\n      <td>54296.402500</td>\n      <td>19.347963</td>\n      <td>6.000000</td>\n      <td>...</td>\n      <td>7459.699750</td>\n      <td>15626.490000</td>\n      <td>4.000000</td>\n      <td>4.000000</td>\n      <td>4.000000</td>\n      <td>4.000000</td>\n      <td>4.000000</td>\n      <td>4.000000</td>\n      <td>4.000000</td>\n      <td>4.000000</td>\n    </tr>\n    <tr>\n      <th>max</th>\n      <td>10000.00000</td>\n      <td>99929.000000</td>\n      <td>70.560990</td>\n      <td>-65.290170</td>\n      <td>122814.000000</td>\n      <td>10.000000</td>\n      <td>89.000000</td>\n      <td>207249.100000</td>\n      <td>26.394449</td>\n      <td>9.000000</td>\n      <td>...</td>\n      <td>9180.728000</td>\n      <td>30566.070000</td>\n      <td>8.000000</td>\n      <td>7.000000</td>\n      <td>8.000000</td>\n      <td>7.000000</td>\n      <td>7.000000</td>\n      <td>7.000000</td>\n      <td>7.000000</td>\n      <td>7.000000</td>\n    </tr>\n  </tbody>\n</table>\n<p>8 rows × 23 columns</p>\n</div>"
     },
     "execution_count": 5,
     "metadata": {},
     "output_type": "execute_result"
    }
   ],
   "source": [
    "df.describe()"
   ]
  },
  {
   "cell_type": "markdown",
   "id": "8921e578-fc53-48d6-9d83-9651fe3ec695",
   "metadata": {
    "pycharm": {
     "name": "#%% md\n"
    }
   },
   "source": [
    "### Describe and Explore Numeric Fields:"
   ]
  },
  {
   "cell_type": "code",
   "execution_count": 6,
   "id": "ed69eccc-df93-4b3b-a150-529b25f9d2fd",
   "metadata": {
    "pycharm": {
     "name": "#%%\n"
    }
   },
   "outputs": [
    {
     "data": {
      "text/plain": "         CaseOrder           Zip           Lat           Lng     Population  \\\ncount  10000.00000  10000.000000  10000.000000  10000.000000   10000.000000   \nmean    5000.50000  50159.323900     38.751099    -91.243080    9965.253800   \nstd     2886.89568  27469.588208      5.403085     15.205998   14824.758614   \nmin        1.00000    610.000000     17.967190   -174.209700       0.000000   \n25%     2500.75000  27592.000000     35.255120    -97.352982     694.750000   \n50%     5000.50000  50207.000000     39.419355    -88.397230    2769.000000   \n75%     7500.25000  72411.750000     42.044175    -80.438050   13945.000000   \nmax    10000.00000  99929.000000     70.560990    -65.290170  122814.000000   \n\n           Children           Age         Income   VitD_levels    Doc_visits  \\\ncount  10000.000000  10000.000000   10000.000000  10000.000000  10000.000000   \nmean       2.097200     53.511700   40490.495160     17.964262      5.012200   \nstd        2.163659     20.638538   28521.153293      2.017231      1.045734   \nmin        0.000000     18.000000     154.080000      9.806483      1.000000   \n25%        0.000000     36.000000   19598.775000     16.626439      4.000000   \n50%        1.000000     53.000000   33768.420000     17.951122      5.000000   \n75%        3.000000     71.000000   54296.402500     19.347963      6.000000   \nmax       10.000000     89.000000  207249.100000     26.394449      9.000000   \n\n       ...   TotalCharge  Additional_charges         Item1         Item2  \\\ncount  ...  10000.000000        10000.000000  10000.000000  10000.000000   \nmean   ...   5312.172769        12934.528587      3.518800      3.506700   \nstd    ...   2180.393838         6542.601544      1.031966      1.034825   \nmin    ...   1938.312067         3125.703000      1.000000      1.000000   \n25%    ...   3179.374015         7986.487755      3.000000      3.000000   \n50%    ...   5213.952000        11573.977735      4.000000      3.000000   \n75%    ...   7459.699750        15626.490000      4.000000      4.000000   \nmax    ...   9180.728000        30566.070000      8.000000      7.000000   \n\n              Item3         Item4         Item5         Item6         Item7  \\\ncount  10000.000000  10000.000000  10000.000000  10000.000000  10000.000000   \nmean       3.511100      3.515100      3.496900      3.522500      3.494000   \nstd        1.032755      1.036282      1.030192      1.032376      1.021405   \nmin        1.000000      1.000000      1.000000      1.000000      1.000000   \n25%        3.000000      3.000000      3.000000      3.000000      3.000000   \n50%        4.000000      4.000000      3.000000      4.000000      3.000000   \n75%        4.000000      4.000000      4.000000      4.000000      4.000000   \nmax        8.000000      7.000000      7.000000      7.000000      7.000000   \n\n              Item8  \ncount  10000.000000  \nmean       3.509700  \nstd        1.042312  \nmin        1.000000  \n25%        3.000000  \n50%        3.000000  \n75%        4.000000  \nmax        7.000000  \n\n[8 rows x 23 columns]",
      "text/html": "<div>\n<style scoped>\n    .dataframe tbody tr th:only-of-type {\n        vertical-align: middle;\n    }\n\n    .dataframe tbody tr th {\n        vertical-align: top;\n    }\n\n    .dataframe thead th {\n        text-align: right;\n    }\n</style>\n<table border=\"1\" class=\"dataframe\">\n  <thead>\n    <tr style=\"text-align: right;\">\n      <th></th>\n      <th>CaseOrder</th>\n      <th>Zip</th>\n      <th>Lat</th>\n      <th>Lng</th>\n      <th>Population</th>\n      <th>Children</th>\n      <th>Age</th>\n      <th>Income</th>\n      <th>VitD_levels</th>\n      <th>Doc_visits</th>\n      <th>...</th>\n      <th>TotalCharge</th>\n      <th>Additional_charges</th>\n      <th>Item1</th>\n      <th>Item2</th>\n      <th>Item3</th>\n      <th>Item4</th>\n      <th>Item5</th>\n      <th>Item6</th>\n      <th>Item7</th>\n      <th>Item8</th>\n    </tr>\n  </thead>\n  <tbody>\n    <tr>\n      <th>count</th>\n      <td>10000.00000</td>\n      <td>10000.000000</td>\n      <td>10000.000000</td>\n      <td>10000.000000</td>\n      <td>10000.000000</td>\n      <td>10000.000000</td>\n      <td>10000.000000</td>\n      <td>10000.000000</td>\n      <td>10000.000000</td>\n      <td>10000.000000</td>\n      <td>...</td>\n      <td>10000.000000</td>\n      <td>10000.000000</td>\n      <td>10000.000000</td>\n      <td>10000.000000</td>\n      <td>10000.000000</td>\n      <td>10000.000000</td>\n      <td>10000.000000</td>\n      <td>10000.000000</td>\n      <td>10000.000000</td>\n      <td>10000.000000</td>\n    </tr>\n    <tr>\n      <th>mean</th>\n      <td>5000.50000</td>\n      <td>50159.323900</td>\n      <td>38.751099</td>\n      <td>-91.243080</td>\n      <td>9965.253800</td>\n      <td>2.097200</td>\n      <td>53.511700</td>\n      <td>40490.495160</td>\n      <td>17.964262</td>\n      <td>5.012200</td>\n      <td>...</td>\n      <td>5312.172769</td>\n      <td>12934.528587</td>\n      <td>3.518800</td>\n      <td>3.506700</td>\n      <td>3.511100</td>\n      <td>3.515100</td>\n      <td>3.496900</td>\n      <td>3.522500</td>\n      <td>3.494000</td>\n      <td>3.509700</td>\n    </tr>\n    <tr>\n      <th>std</th>\n      <td>2886.89568</td>\n      <td>27469.588208</td>\n      <td>5.403085</td>\n      <td>15.205998</td>\n      <td>14824.758614</td>\n      <td>2.163659</td>\n      <td>20.638538</td>\n      <td>28521.153293</td>\n      <td>2.017231</td>\n      <td>1.045734</td>\n      <td>...</td>\n      <td>2180.393838</td>\n      <td>6542.601544</td>\n      <td>1.031966</td>\n      <td>1.034825</td>\n      <td>1.032755</td>\n      <td>1.036282</td>\n      <td>1.030192</td>\n      <td>1.032376</td>\n      <td>1.021405</td>\n      <td>1.042312</td>\n    </tr>\n    <tr>\n      <th>min</th>\n      <td>1.00000</td>\n      <td>610.000000</td>\n      <td>17.967190</td>\n      <td>-174.209700</td>\n      <td>0.000000</td>\n      <td>0.000000</td>\n      <td>18.000000</td>\n      <td>154.080000</td>\n      <td>9.806483</td>\n      <td>1.000000</td>\n      <td>...</td>\n      <td>1938.312067</td>\n      <td>3125.703000</td>\n      <td>1.000000</td>\n      <td>1.000000</td>\n      <td>1.000000</td>\n      <td>1.000000</td>\n      <td>1.000000</td>\n      <td>1.000000</td>\n      <td>1.000000</td>\n      <td>1.000000</td>\n    </tr>\n    <tr>\n      <th>25%</th>\n      <td>2500.75000</td>\n      <td>27592.000000</td>\n      <td>35.255120</td>\n      <td>-97.352982</td>\n      <td>694.750000</td>\n      <td>0.000000</td>\n      <td>36.000000</td>\n      <td>19598.775000</td>\n      <td>16.626439</td>\n      <td>4.000000</td>\n      <td>...</td>\n      <td>3179.374015</td>\n      <td>7986.487755</td>\n      <td>3.000000</td>\n      <td>3.000000</td>\n      <td>3.000000</td>\n      <td>3.000000</td>\n      <td>3.000000</td>\n      <td>3.000000</td>\n      <td>3.000000</td>\n      <td>3.000000</td>\n    </tr>\n    <tr>\n      <th>50%</th>\n      <td>5000.50000</td>\n      <td>50207.000000</td>\n      <td>39.419355</td>\n      <td>-88.397230</td>\n      <td>2769.000000</td>\n      <td>1.000000</td>\n      <td>53.000000</td>\n      <td>33768.420000</td>\n      <td>17.951122</td>\n      <td>5.000000</td>\n      <td>...</td>\n      <td>5213.952000</td>\n      <td>11573.977735</td>\n      <td>4.000000</td>\n      <td>3.000000</td>\n      <td>4.000000</td>\n      <td>4.000000</td>\n      <td>3.000000</td>\n      <td>4.000000</td>\n      <td>3.000000</td>\n      <td>3.000000</td>\n    </tr>\n    <tr>\n      <th>75%</th>\n      <td>7500.25000</td>\n      <td>72411.750000</td>\n      <td>42.044175</td>\n      <td>-80.438050</td>\n      <td>13945.000000</td>\n      <td>3.000000</td>\n      <td>71.000000</td>\n      <td>54296.402500</td>\n      <td>19.347963</td>\n      <td>6.000000</td>\n      <td>...</td>\n      <td>7459.699750</td>\n      <td>15626.490000</td>\n      <td>4.000000</td>\n      <td>4.000000</td>\n      <td>4.000000</td>\n      <td>4.000000</td>\n      <td>4.000000</td>\n      <td>4.000000</td>\n      <td>4.000000</td>\n      <td>4.000000</td>\n    </tr>\n    <tr>\n      <th>max</th>\n      <td>10000.00000</td>\n      <td>99929.000000</td>\n      <td>70.560990</td>\n      <td>-65.290170</td>\n      <td>122814.000000</td>\n      <td>10.000000</td>\n      <td>89.000000</td>\n      <td>207249.100000</td>\n      <td>26.394449</td>\n      <td>9.000000</td>\n      <td>...</td>\n      <td>9180.728000</td>\n      <td>30566.070000</td>\n      <td>8.000000</td>\n      <td>7.000000</td>\n      <td>8.000000</td>\n      <td>7.000000</td>\n      <td>7.000000</td>\n      <td>7.000000</td>\n      <td>7.000000</td>\n      <td>7.000000</td>\n    </tr>\n  </tbody>\n</table>\n<p>8 rows × 23 columns</p>\n</div>"
     },
     "execution_count": 6,
     "metadata": {},
     "output_type": "execute_result"
    }
   ],
   "source": [
    "df.describe(include = [np.number])"
   ]
  },
  {
   "cell_type": "markdown",
   "id": "25cf9116-84b7-4f8a-9e73-ee9e314df319",
   "metadata": {
    "pycharm": {
     "name": "#%% md\n"
    }
   },
   "source": [
    "#### Create DataFrame w/Number DataTypes Only"
   ]
  },
  {
   "cell_type": "code",
   "execution_count": 7,
   "id": "4eed1326-d09f-4efc-8bc4-e7b4cbb168b7",
   "metadata": {
    "pycharm": {
     "name": "#%%\n"
    }
   },
   "outputs": [
    {
     "data": {
      "text/plain": "   CaseOrder    Zip       Lat       Lng  Population  Children  Age    Income  \\\n0          1  35621  34.34960 -86.72508        2951         1   53  86575.93   \n1          2  32446  30.84513 -85.22907       11303         3   51  46805.99   \n2          3  57110  43.54321 -96.63772       17125         3   53  14370.14   \n3          4  56072  43.89744 -93.51479        2162         0   78  39741.49   \n4          5  23181  37.59894 -76.88958        5287         1   22   1209.56   \n\n   VitD_levels  Doc_visits  ...  TotalCharge  Additional_charges  Item1  \\\n0    19.141466           6  ...  3726.702860        17939.403420      3   \n1    18.940352           4  ...  4193.190458        17612.998120      3   \n2    18.057507           4  ...  2434.234222        17505.192460      2   \n3    16.576858           4  ...  2127.830423        12993.437350      3   \n4    17.439069           5  ...  2113.073274         3716.525786      2   \n\n   Item2  Item3  Item4  Item5  Item6  Item7  Item8  \n0      3      2      2      4      3      3      4  \n1      4      3      4      4      4      3      3  \n2      4      4      4      3      4      3      3  \n3      5      5      3      4      5      5      5  \n4      1      3      3      5      3      4      3  \n\n[5 rows x 23 columns]",
      "text/html": "<div>\n<style scoped>\n    .dataframe tbody tr th:only-of-type {\n        vertical-align: middle;\n    }\n\n    .dataframe tbody tr th {\n        vertical-align: top;\n    }\n\n    .dataframe thead th {\n        text-align: right;\n    }\n</style>\n<table border=\"1\" class=\"dataframe\">\n  <thead>\n    <tr style=\"text-align: right;\">\n      <th></th>\n      <th>CaseOrder</th>\n      <th>Zip</th>\n      <th>Lat</th>\n      <th>Lng</th>\n      <th>Population</th>\n      <th>Children</th>\n      <th>Age</th>\n      <th>Income</th>\n      <th>VitD_levels</th>\n      <th>Doc_visits</th>\n      <th>...</th>\n      <th>TotalCharge</th>\n      <th>Additional_charges</th>\n      <th>Item1</th>\n      <th>Item2</th>\n      <th>Item3</th>\n      <th>Item4</th>\n      <th>Item5</th>\n      <th>Item6</th>\n      <th>Item7</th>\n      <th>Item8</th>\n    </tr>\n  </thead>\n  <tbody>\n    <tr>\n      <th>0</th>\n      <td>1</td>\n      <td>35621</td>\n      <td>34.34960</td>\n      <td>-86.72508</td>\n      <td>2951</td>\n      <td>1</td>\n      <td>53</td>\n      <td>86575.93</td>\n      <td>19.141466</td>\n      <td>6</td>\n      <td>...</td>\n      <td>3726.702860</td>\n      <td>17939.403420</td>\n      <td>3</td>\n      <td>3</td>\n      <td>2</td>\n      <td>2</td>\n      <td>4</td>\n      <td>3</td>\n      <td>3</td>\n      <td>4</td>\n    </tr>\n    <tr>\n      <th>1</th>\n      <td>2</td>\n      <td>32446</td>\n      <td>30.84513</td>\n      <td>-85.22907</td>\n      <td>11303</td>\n      <td>3</td>\n      <td>51</td>\n      <td>46805.99</td>\n      <td>18.940352</td>\n      <td>4</td>\n      <td>...</td>\n      <td>4193.190458</td>\n      <td>17612.998120</td>\n      <td>3</td>\n      <td>4</td>\n      <td>3</td>\n      <td>4</td>\n      <td>4</td>\n      <td>4</td>\n      <td>3</td>\n      <td>3</td>\n    </tr>\n    <tr>\n      <th>2</th>\n      <td>3</td>\n      <td>57110</td>\n      <td>43.54321</td>\n      <td>-96.63772</td>\n      <td>17125</td>\n      <td>3</td>\n      <td>53</td>\n      <td>14370.14</td>\n      <td>18.057507</td>\n      <td>4</td>\n      <td>...</td>\n      <td>2434.234222</td>\n      <td>17505.192460</td>\n      <td>2</td>\n      <td>4</td>\n      <td>4</td>\n      <td>4</td>\n      <td>3</td>\n      <td>4</td>\n      <td>3</td>\n      <td>3</td>\n    </tr>\n    <tr>\n      <th>3</th>\n      <td>4</td>\n      <td>56072</td>\n      <td>43.89744</td>\n      <td>-93.51479</td>\n      <td>2162</td>\n      <td>0</td>\n      <td>78</td>\n      <td>39741.49</td>\n      <td>16.576858</td>\n      <td>4</td>\n      <td>...</td>\n      <td>2127.830423</td>\n      <td>12993.437350</td>\n      <td>3</td>\n      <td>5</td>\n      <td>5</td>\n      <td>3</td>\n      <td>4</td>\n      <td>5</td>\n      <td>5</td>\n      <td>5</td>\n    </tr>\n    <tr>\n      <th>4</th>\n      <td>5</td>\n      <td>23181</td>\n      <td>37.59894</td>\n      <td>-76.88958</td>\n      <td>5287</td>\n      <td>1</td>\n      <td>22</td>\n      <td>1209.56</td>\n      <td>17.439069</td>\n      <td>5</td>\n      <td>...</td>\n      <td>2113.073274</td>\n      <td>3716.525786</td>\n      <td>2</td>\n      <td>1</td>\n      <td>3</td>\n      <td>3</td>\n      <td>5</td>\n      <td>3</td>\n      <td>4</td>\n      <td>3</td>\n    </tr>\n  </tbody>\n</table>\n<p>5 rows × 23 columns</p>\n</div>"
     },
     "execution_count": 7,
     "metadata": {},
     "output_type": "execute_result"
    }
   ],
   "source": [
    "df_num = df.select_dtypes(include='number')\n",
    "df_num.head()"
   ]
  },
  {
   "cell_type": "markdown",
   "id": "d15d5fc2-3829-4e79-9375-9021c994db0e",
   "metadata": {
    "pycharm": {
     "name": "#%% md\n"
    }
   },
   "source": [
    "### Describe and Explore Categorical Fields:"
   ]
  },
  {
   "cell_type": "code",
   "execution_count": 8,
   "id": "f1ba7908-547a-430f-a68a-69878949ac4a",
   "metadata": {
    "pycharm": {
     "name": "#%%\n"
    }
   },
   "outputs": [
    {
     "data": {
      "text/plain": "       Customer_id                           Interaction  \\\ncount        10000                                 10000   \nunique       10000                                 10000   \ntop        C412403  8cd49b13-f45a-4b47-a2bd-173ffa932c2f   \nfreq             1                                     1   \n\n                                     UID     City  State     County   Area  \\\ncount                              10000    10000  10000      10000  10000   \nunique                             10000     6072     52       1607      3   \ntop     3a83ddb66e2ae73798bdf1d705dc0932  Houston     TX  Jefferson  Rural   \nfreq                                   1       36    553        118   3369   \n\n                TimeZone                                   Job  Marital  ...  \\\ncount              10000                                 10000    10000  ...   \nunique                26                                   639        5  ...   \ntop     America/New_York  Outdoor activities/education manager  Widowed  ...   \nfreq                3889                                    29     2045  ...   \n\n       Overweight Arthritis Diabetes Hyperlipidemia BackPain Anxiety  \\\ncount       10000     10000    10000          10000    10000   10000   \nunique          2         2        2              2        2       2   \ntop           Yes        No       No             No       No      No   \nfreq         7094      6426     7262           6628     5886    6785   \n\n       Allergic_rhinitis Reflux_esophagitis Asthma    Services  \ncount              10000              10000  10000       10000  \nunique                 2                  2      2           4  \ntop                   No                 No     No  Blood Work  \nfreq                6059               5865   7107        5265  \n\n[4 rows x 27 columns]",
      "text/html": "<div>\n<style scoped>\n    .dataframe tbody tr th:only-of-type {\n        vertical-align: middle;\n    }\n\n    .dataframe tbody tr th {\n        vertical-align: top;\n    }\n\n    .dataframe thead th {\n        text-align: right;\n    }\n</style>\n<table border=\"1\" class=\"dataframe\">\n  <thead>\n    <tr style=\"text-align: right;\">\n      <th></th>\n      <th>Customer_id</th>\n      <th>Interaction</th>\n      <th>UID</th>\n      <th>City</th>\n      <th>State</th>\n      <th>County</th>\n      <th>Area</th>\n      <th>TimeZone</th>\n      <th>Job</th>\n      <th>Marital</th>\n      <th>...</th>\n      <th>Overweight</th>\n      <th>Arthritis</th>\n      <th>Diabetes</th>\n      <th>Hyperlipidemia</th>\n      <th>BackPain</th>\n      <th>Anxiety</th>\n      <th>Allergic_rhinitis</th>\n      <th>Reflux_esophagitis</th>\n      <th>Asthma</th>\n      <th>Services</th>\n    </tr>\n  </thead>\n  <tbody>\n    <tr>\n      <th>count</th>\n      <td>10000</td>\n      <td>10000</td>\n      <td>10000</td>\n      <td>10000</td>\n      <td>10000</td>\n      <td>10000</td>\n      <td>10000</td>\n      <td>10000</td>\n      <td>10000</td>\n      <td>10000</td>\n      <td>...</td>\n      <td>10000</td>\n      <td>10000</td>\n      <td>10000</td>\n      <td>10000</td>\n      <td>10000</td>\n      <td>10000</td>\n      <td>10000</td>\n      <td>10000</td>\n      <td>10000</td>\n      <td>10000</td>\n    </tr>\n    <tr>\n      <th>unique</th>\n      <td>10000</td>\n      <td>10000</td>\n      <td>10000</td>\n      <td>6072</td>\n      <td>52</td>\n      <td>1607</td>\n      <td>3</td>\n      <td>26</td>\n      <td>639</td>\n      <td>5</td>\n      <td>...</td>\n      <td>2</td>\n      <td>2</td>\n      <td>2</td>\n      <td>2</td>\n      <td>2</td>\n      <td>2</td>\n      <td>2</td>\n      <td>2</td>\n      <td>2</td>\n      <td>4</td>\n    </tr>\n    <tr>\n      <th>top</th>\n      <td>C412403</td>\n      <td>8cd49b13-f45a-4b47-a2bd-173ffa932c2f</td>\n      <td>3a83ddb66e2ae73798bdf1d705dc0932</td>\n      <td>Houston</td>\n      <td>TX</td>\n      <td>Jefferson</td>\n      <td>Rural</td>\n      <td>America/New_York</td>\n      <td>Outdoor activities/education manager</td>\n      <td>Widowed</td>\n      <td>...</td>\n      <td>Yes</td>\n      <td>No</td>\n      <td>No</td>\n      <td>No</td>\n      <td>No</td>\n      <td>No</td>\n      <td>No</td>\n      <td>No</td>\n      <td>No</td>\n      <td>Blood Work</td>\n    </tr>\n    <tr>\n      <th>freq</th>\n      <td>1</td>\n      <td>1</td>\n      <td>1</td>\n      <td>36</td>\n      <td>553</td>\n      <td>118</td>\n      <td>3369</td>\n      <td>3889</td>\n      <td>29</td>\n      <td>2045</td>\n      <td>...</td>\n      <td>7094</td>\n      <td>6426</td>\n      <td>7262</td>\n      <td>6628</td>\n      <td>5886</td>\n      <td>6785</td>\n      <td>6059</td>\n      <td>5865</td>\n      <td>7107</td>\n      <td>5265</td>\n    </tr>\n  </tbody>\n</table>\n<p>4 rows × 27 columns</p>\n</div>"
     },
     "execution_count": 8,
     "metadata": {},
     "output_type": "execute_result"
    }
   ],
   "source": [
    "df.describe(exclude=[np.number])"
   ]
  },
  {
   "cell_type": "markdown",
   "id": "4f677743-1082-479b-b091-faa9e10849c0",
   "metadata": {
    "pycharm": {
     "name": "#%% md\n"
    }
   },
   "source": [
    "#### Create DataFrame w/Categorical DataTypes Only"
   ]
  },
  {
   "cell_type": "code",
   "execution_count": 9,
   "id": "b73c08d9-5947-40e8-a69c-fb07fae4bd39",
   "metadata": {
    "pycharm": {
     "name": "#%%\n"
    }
   },
   "outputs": [
    {
     "data": {
      "text/plain": "  Customer_id                           Interaction  \\\n0     C412403  8cd49b13-f45a-4b47-a2bd-173ffa932c2f   \n1     Z919181  d2450b70-0337-4406-bdbb-bc1037f1734c   \n2     F995323  a2057123-abf5-4a2c-abad-8ffe33512562   \n3     A879973  1dec528d-eb34-4079-adce-0d7a40e82205   \n4     C544523  5885f56b-d6da-43a3-8760-83583af94266   \n\n                                UID          City State        County  \\\n0  3a83ddb66e2ae73798bdf1d705dc0932           Eva    AL        Morgan   \n1  176354c5eef714957d486009feabf195      Marianna    FL       Jackson   \n2  e19a0fa00aeda885b8a436757e889bc9   Sioux Falls    SD     Minnehaha   \n3  cd17d7b6d152cb6f23957346d11c3f07  New Richland    MN        Waseca   \n4  d2f0425877b10ed6bb381f3e2579424a    West Point    VA  King William   \n\n       Area          TimeZone                               Job   Marital  \\\n0  Suburban   America/Chicago  Psychologist, sport and exercise  Divorced   \n1     Urban   America/Chicago      Community development worker   Married   \n2  Suburban   America/Chicago           Chief Executive Officer   Widowed   \n3  Suburban   America/Chicago               Early years teacher   Married   \n4     Rural  America/New_York       Health promotion specialist   Widowed   \n\n   ... Overweight Arthritis Diabetes Hyperlipidemia BackPain Anxiety  \\\n0  ...         No       Yes      Yes             No      Yes     Yes   \n1  ...        Yes        No       No             No       No      No   \n2  ...        Yes        No      Yes             No       No      No   \n3  ...         No       Yes       No             No       No      No   \n4  ...         No        No       No            Yes       No      No   \n\n  Allergic_rhinitis Reflux_esophagitis Asthma     Services  \n0               Yes                 No    Yes   Blood Work  \n1                No                Yes     No  Intravenous  \n2                No                 No     No   Blood Work  \n3                No                Yes    Yes   Blood Work  \n4               Yes                 No     No      CT Scan  \n\n[5 rows x 27 columns]",
      "text/html": "<div>\n<style scoped>\n    .dataframe tbody tr th:only-of-type {\n        vertical-align: middle;\n    }\n\n    .dataframe tbody tr th {\n        vertical-align: top;\n    }\n\n    .dataframe thead th {\n        text-align: right;\n    }\n</style>\n<table border=\"1\" class=\"dataframe\">\n  <thead>\n    <tr style=\"text-align: right;\">\n      <th></th>\n      <th>Customer_id</th>\n      <th>Interaction</th>\n      <th>UID</th>\n      <th>City</th>\n      <th>State</th>\n      <th>County</th>\n      <th>Area</th>\n      <th>TimeZone</th>\n      <th>Job</th>\n      <th>Marital</th>\n      <th>...</th>\n      <th>Overweight</th>\n      <th>Arthritis</th>\n      <th>Diabetes</th>\n      <th>Hyperlipidemia</th>\n      <th>BackPain</th>\n      <th>Anxiety</th>\n      <th>Allergic_rhinitis</th>\n      <th>Reflux_esophagitis</th>\n      <th>Asthma</th>\n      <th>Services</th>\n    </tr>\n  </thead>\n  <tbody>\n    <tr>\n      <th>0</th>\n      <td>C412403</td>\n      <td>8cd49b13-f45a-4b47-a2bd-173ffa932c2f</td>\n      <td>3a83ddb66e2ae73798bdf1d705dc0932</td>\n      <td>Eva</td>\n      <td>AL</td>\n      <td>Morgan</td>\n      <td>Suburban</td>\n      <td>America/Chicago</td>\n      <td>Psychologist, sport and exercise</td>\n      <td>Divorced</td>\n      <td>...</td>\n      <td>No</td>\n      <td>Yes</td>\n      <td>Yes</td>\n      <td>No</td>\n      <td>Yes</td>\n      <td>Yes</td>\n      <td>Yes</td>\n      <td>No</td>\n      <td>Yes</td>\n      <td>Blood Work</td>\n    </tr>\n    <tr>\n      <th>1</th>\n      <td>Z919181</td>\n      <td>d2450b70-0337-4406-bdbb-bc1037f1734c</td>\n      <td>176354c5eef714957d486009feabf195</td>\n      <td>Marianna</td>\n      <td>FL</td>\n      <td>Jackson</td>\n      <td>Urban</td>\n      <td>America/Chicago</td>\n      <td>Community development worker</td>\n      <td>Married</td>\n      <td>...</td>\n      <td>Yes</td>\n      <td>No</td>\n      <td>No</td>\n      <td>No</td>\n      <td>No</td>\n      <td>No</td>\n      <td>No</td>\n      <td>Yes</td>\n      <td>No</td>\n      <td>Intravenous</td>\n    </tr>\n    <tr>\n      <th>2</th>\n      <td>F995323</td>\n      <td>a2057123-abf5-4a2c-abad-8ffe33512562</td>\n      <td>e19a0fa00aeda885b8a436757e889bc9</td>\n      <td>Sioux Falls</td>\n      <td>SD</td>\n      <td>Minnehaha</td>\n      <td>Suburban</td>\n      <td>America/Chicago</td>\n      <td>Chief Executive Officer</td>\n      <td>Widowed</td>\n      <td>...</td>\n      <td>Yes</td>\n      <td>No</td>\n      <td>Yes</td>\n      <td>No</td>\n      <td>No</td>\n      <td>No</td>\n      <td>No</td>\n      <td>No</td>\n      <td>No</td>\n      <td>Blood Work</td>\n    </tr>\n    <tr>\n      <th>3</th>\n      <td>A879973</td>\n      <td>1dec528d-eb34-4079-adce-0d7a40e82205</td>\n      <td>cd17d7b6d152cb6f23957346d11c3f07</td>\n      <td>New Richland</td>\n      <td>MN</td>\n      <td>Waseca</td>\n      <td>Suburban</td>\n      <td>America/Chicago</td>\n      <td>Early years teacher</td>\n      <td>Married</td>\n      <td>...</td>\n      <td>No</td>\n      <td>Yes</td>\n      <td>No</td>\n      <td>No</td>\n      <td>No</td>\n      <td>No</td>\n      <td>No</td>\n      <td>Yes</td>\n      <td>Yes</td>\n      <td>Blood Work</td>\n    </tr>\n    <tr>\n      <th>4</th>\n      <td>C544523</td>\n      <td>5885f56b-d6da-43a3-8760-83583af94266</td>\n      <td>d2f0425877b10ed6bb381f3e2579424a</td>\n      <td>West Point</td>\n      <td>VA</td>\n      <td>King William</td>\n      <td>Rural</td>\n      <td>America/New_York</td>\n      <td>Health promotion specialist</td>\n      <td>Widowed</td>\n      <td>...</td>\n      <td>No</td>\n      <td>No</td>\n      <td>No</td>\n      <td>Yes</td>\n      <td>No</td>\n      <td>No</td>\n      <td>Yes</td>\n      <td>No</td>\n      <td>No</td>\n      <td>CT Scan</td>\n    </tr>\n  </tbody>\n</table>\n<p>5 rows × 27 columns</p>\n</div>"
     },
     "execution_count": 9,
     "metadata": {},
     "output_type": "execute_result"
    }
   ],
   "source": [
    "df_cat = df.select_dtypes(exclude='number')\n",
    "df_cat.head()"
   ]
  },
  {
   "cell_type": "markdown",
   "id": "e653d8a1-665c-447a-af26-9d194875b3c5",
   "metadata": {
    "pycharm": {
     "name": "#%% md\n"
    }
   },
   "source": [
    "#### Describe Readmissions"
   ]
  },
  {
   "cell_type": "code",
   "execution_count": 10,
   "id": "6515fe2e-3892-41fe-bebe-7825aeecd2d4",
   "metadata": {
    "pycharm": {
     "name": "#%%\n"
    }
   },
   "outputs": [
    {
     "data": {
      "text/plain": "       ReAdmis\ncount    10000\nunique       2\ntop         No\nfreq      6331",
      "text/html": "<div>\n<style scoped>\n    .dataframe tbody tr th:only-of-type {\n        vertical-align: middle;\n    }\n\n    .dataframe tbody tr th {\n        vertical-align: top;\n    }\n\n    .dataframe thead th {\n        text-align: right;\n    }\n</style>\n<table border=\"1\" class=\"dataframe\">\n  <thead>\n    <tr style=\"text-align: right;\">\n      <th></th>\n      <th>ReAdmis</th>\n    </tr>\n  </thead>\n  <tbody>\n    <tr>\n      <th>count</th>\n      <td>10000</td>\n    </tr>\n    <tr>\n      <th>unique</th>\n      <td>2</td>\n    </tr>\n    <tr>\n      <th>top</th>\n      <td>No</td>\n    </tr>\n    <tr>\n      <th>freq</th>\n      <td>6331</td>\n    </tr>\n  </tbody>\n</table>\n</div>"
     },
     "execution_count": 10,
     "metadata": {},
     "output_type": "execute_result"
    }
   ],
   "source": [
    "df[['ReAdmis']].describe()"
   ]
  },
  {
   "cell_type": "markdown",
   "id": "deac87a0-839d-49b2-8a62-56c7a7c18e5e",
   "metadata": {
    "pycharm": {
     "name": "#%% md\n"
    }
   },
   "source": [
    "#### Store ReAdmin='Yes' in New Var"
   ]
  },
  {
   "cell_type": "code",
   "execution_count": 11,
   "id": "b7d53069-fca0-4712-9ad9-2692158a91cb",
   "metadata": {
    "pycharm": {
     "name": "#%%\n"
    }
   },
   "outputs": [
    {
     "data": {
      "text/plain": "0       0\n1       0\n2       0\n3       0\n4       0\n       ..\n9995    0\n9996    1\n9997    1\n9998    1\n9999    1\nName: ReAdmis_Yes, Length: 10000, dtype: int64"
     },
     "execution_count": 11,
     "metadata": {},
     "output_type": "execute_result"
    }
   ],
   "source": [
    "df['ReAdmis_Yes'] = df['ReAdmis'].eq('Yes').astype(int)\n",
    "df['ReAdmis_Yes']"
   ]
  },
  {
   "cell_type": "markdown",
   "id": "01e80f4d-aa6c-4895-a2fe-b86cac28c0f9",
   "metadata": {
    "pycharm": {
     "name": "#%% md\n"
    }
   },
   "source": [
    "#### Describe Gender"
   ]
  },
  {
   "cell_type": "code",
   "execution_count": 12,
   "id": "52d5d880-5bc0-4f8f-851e-edcf0acd525a",
   "metadata": {
    "pycharm": {
     "name": "#%%\n"
    }
   },
   "outputs": [
    {
     "data": {
      "text/plain": "Female       5018\nMale         4768\nNonbinary     214\nName: Gender, dtype: int64"
     },
     "execution_count": 12,
     "metadata": {},
     "output_type": "execute_result"
    }
   ],
   "source": [
    "df['Gender'].value_counts()"
   ]
  },
  {
   "cell_type": "code",
   "execution_count": 13,
   "id": "60044dc2-eea3-4a6b-bded-d46ff9db7358",
   "metadata": {
    "pycharm": {
     "name": "#%%\n"
    }
   },
   "outputs": [
    {
     "name": "stdout",
     "output_type": "stream",
     "text": [
      "      Female  Male  Nonbinary\n",
      "0          0     1          0\n",
      "1          1     0          0\n",
      "2          1     0          0\n",
      "3          0     1          0\n",
      "4          1     0          0\n",
      "...      ...   ...        ...\n",
      "9995       0     1          0\n",
      "9996       0     1          0\n",
      "9997       1     0          0\n",
      "9998       0     1          0\n",
      "9999       1     0          0\n",
      "\n",
      "[10000 rows x 3 columns]\n",
      "Female       5018\n",
      "Male         4768\n",
      "Nonbinary     214\n",
      "dtype: int64\n"
     ]
    }
   ],
   "source": [
    "df_gender = pd.get_dummies(df[\"Gender\"])\n",
    "print(df_gender)\n",
    "print(df_gender.sum())"
   ]
  },
  {
   "cell_type": "code",
   "execution_count": 14,
   "id": "f202faa1-25a0-4747-9b48-0a2ad7b47240",
   "metadata": {
    "pycharm": {
     "name": "#%%\n"
    }
   },
   "outputs": [
    {
     "data": {
      "text/plain": "Index(['CaseOrder', 'Customer_id', 'Interaction', 'UID', 'City', 'State',\n       'County', 'Zip', 'Lat', 'Lng', 'Population', 'Area', 'TimeZone', 'Job',\n       'Children', 'Age', 'Income', 'Marital', 'Gender', 'ReAdmis',\n       'VitD_levels', 'Doc_visits', 'Full_meals_eaten', 'vitD_supp',\n       'Soft_drink', 'Initial_admin', 'HighBlood', 'Stroke',\n       'Complication_risk', 'Overweight', 'Arthritis', 'Diabetes',\n       'Hyperlipidemia', 'BackPain', 'Anxiety', 'Allergic_rhinitis',\n       'Reflux_esophagitis', 'Asthma', 'Services', 'Initial_days',\n       'TotalCharge', 'Additional_charges', 'Item1', 'Item2', 'Item3', 'Item4',\n       'Item5', 'Item6', 'Item7', 'Item8', 'ReAdmis_Yes'],\n      dtype='object')"
     },
     "execution_count": 14,
     "metadata": {},
     "output_type": "execute_result"
    }
   ],
   "source": [
    "df.columns"
   ]
  },
  {
   "cell_type": "code",
   "execution_count": 15,
   "id": "534ef0a5-cd65-439e-b701-cca14a08bc3b",
   "metadata": {
    "pycharm": {
     "name": "#%%\n"
    }
   },
   "outputs": [],
   "source": [
    "df_test = df[['Age', 'Gender', 'ReAdmis', 'VitD_levels', 'Doc_visits', 'vitD_supp', 'Initial_admin', \\\n",
    "              'HighBlood', 'Stroke', 'Complication_risk', 'Overweight', 'Arthritis', 'Diabetes', 'Hyperlipidemia', \\\n",
    "              'BackPain', 'Anxiety', 'Allergic_rhinitis', 'Reflux_esophagitis', 'Asthma', 'Services', 'Initial_days', \\\n",
    "              'TotalCharge', 'Additional_charges']]"
   ]
  },
  {
   "cell_type": "code",
   "execution_count": 16,
   "id": "f8274ef6-ef0b-400e-9295-05bcaedd5d3e",
   "metadata": {
    "pycharm": {
     "name": "#%%\n"
    }
   },
   "outputs": [
    {
     "data": {
      "text/plain": "   Age  VitD_levels  Doc_visits  vitD_supp  Initial_days  TotalCharge  \\\n0   53    19.141466           6          0     10.585770  3726.702860   \n1   51    18.940352           4          1     15.129562  4193.190458   \n2   53    18.057507           4          0      4.772177  2434.234222   \n3   78    16.576858           4          0      1.714879  2127.830423   \n4   22    17.439069           5          2      1.254807  2113.073274   \n\n   Additional_charges  Gender_Female  Gender_Male  Gender_Nonbinary  ...  \\\n0        17939.403420              0            1                 0  ...   \n1        17612.998120              1            0                 0  ...   \n2        17505.192460              1            0                 0  ...   \n3        12993.437350              0            1                 0  ...   \n4         3716.525786              1            0                 0  ...   \n\n   Allergic_rhinitis_No  Allergic_rhinitis_Yes  Reflux_esophagitis_No  \\\n0                     0                      1                      1   \n1                     1                      0                      0   \n2                     1                      0                      1   \n3                     1                      0                      0   \n4                     0                      1                      1   \n\n   Reflux_esophagitis_Yes  Asthma_No  Asthma_Yes  Services_Blood Work  \\\n0                       0          0           1                    1   \n1                       1          1           0                    0   \n2                       0          1           0                    1   \n3                       1          0           1                    1   \n4                       0          1           0                    0   \n\n   Services_CT Scan  Services_Intravenous  Services_MRI  \n0                 0                     0             0  \n1                 0                     1             0  \n2                 0                     0             0  \n3                 0                     0             0  \n4                 1                     0             0  \n\n[5 rows x 44 columns]",
      "text/html": "<div>\n<style scoped>\n    .dataframe tbody tr th:only-of-type {\n        vertical-align: middle;\n    }\n\n    .dataframe tbody tr th {\n        vertical-align: top;\n    }\n\n    .dataframe thead th {\n        text-align: right;\n    }\n</style>\n<table border=\"1\" class=\"dataframe\">\n  <thead>\n    <tr style=\"text-align: right;\">\n      <th></th>\n      <th>Age</th>\n      <th>VitD_levels</th>\n      <th>Doc_visits</th>\n      <th>vitD_supp</th>\n      <th>Initial_days</th>\n      <th>TotalCharge</th>\n      <th>Additional_charges</th>\n      <th>Gender_Female</th>\n      <th>Gender_Male</th>\n      <th>Gender_Nonbinary</th>\n      <th>...</th>\n      <th>Allergic_rhinitis_No</th>\n      <th>Allergic_rhinitis_Yes</th>\n      <th>Reflux_esophagitis_No</th>\n      <th>Reflux_esophagitis_Yes</th>\n      <th>Asthma_No</th>\n      <th>Asthma_Yes</th>\n      <th>Services_Blood Work</th>\n      <th>Services_CT Scan</th>\n      <th>Services_Intravenous</th>\n      <th>Services_MRI</th>\n    </tr>\n  </thead>\n  <tbody>\n    <tr>\n      <th>0</th>\n      <td>53</td>\n      <td>19.141466</td>\n      <td>6</td>\n      <td>0</td>\n      <td>10.585770</td>\n      <td>3726.702860</td>\n      <td>17939.403420</td>\n      <td>0</td>\n      <td>1</td>\n      <td>0</td>\n      <td>...</td>\n      <td>0</td>\n      <td>1</td>\n      <td>1</td>\n      <td>0</td>\n      <td>0</td>\n      <td>1</td>\n      <td>1</td>\n      <td>0</td>\n      <td>0</td>\n      <td>0</td>\n    </tr>\n    <tr>\n      <th>1</th>\n      <td>51</td>\n      <td>18.940352</td>\n      <td>4</td>\n      <td>1</td>\n      <td>15.129562</td>\n      <td>4193.190458</td>\n      <td>17612.998120</td>\n      <td>1</td>\n      <td>0</td>\n      <td>0</td>\n      <td>...</td>\n      <td>1</td>\n      <td>0</td>\n      <td>0</td>\n      <td>1</td>\n      <td>1</td>\n      <td>0</td>\n      <td>0</td>\n      <td>0</td>\n      <td>1</td>\n      <td>0</td>\n    </tr>\n    <tr>\n      <th>2</th>\n      <td>53</td>\n      <td>18.057507</td>\n      <td>4</td>\n      <td>0</td>\n      <td>4.772177</td>\n      <td>2434.234222</td>\n      <td>17505.192460</td>\n      <td>1</td>\n      <td>0</td>\n      <td>0</td>\n      <td>...</td>\n      <td>1</td>\n      <td>0</td>\n      <td>1</td>\n      <td>0</td>\n      <td>1</td>\n      <td>0</td>\n      <td>1</td>\n      <td>0</td>\n      <td>0</td>\n      <td>0</td>\n    </tr>\n    <tr>\n      <th>3</th>\n      <td>78</td>\n      <td>16.576858</td>\n      <td>4</td>\n      <td>0</td>\n      <td>1.714879</td>\n      <td>2127.830423</td>\n      <td>12993.437350</td>\n      <td>0</td>\n      <td>1</td>\n      <td>0</td>\n      <td>...</td>\n      <td>1</td>\n      <td>0</td>\n      <td>0</td>\n      <td>1</td>\n      <td>0</td>\n      <td>1</td>\n      <td>1</td>\n      <td>0</td>\n      <td>0</td>\n      <td>0</td>\n    </tr>\n    <tr>\n      <th>4</th>\n      <td>22</td>\n      <td>17.439069</td>\n      <td>5</td>\n      <td>2</td>\n      <td>1.254807</td>\n      <td>2113.073274</td>\n      <td>3716.525786</td>\n      <td>1</td>\n      <td>0</td>\n      <td>0</td>\n      <td>...</td>\n      <td>0</td>\n      <td>1</td>\n      <td>1</td>\n      <td>0</td>\n      <td>1</td>\n      <td>0</td>\n      <td>0</td>\n      <td>1</td>\n      <td>0</td>\n      <td>0</td>\n    </tr>\n  </tbody>\n</table>\n<p>5 rows × 44 columns</p>\n</div>"
     },
     "execution_count": 16,
     "metadata": {},
     "output_type": "execute_result"
    }
   ],
   "source": [
    "df_dummies = pd.get_dummies(df_test)\n",
    "df_dummies.head()"
   ]
  },
  {
   "cell_type": "code",
   "execution_count": 17,
   "id": "db923538-c1c0-44fe-88d8-071bfe266c48",
   "metadata": {
    "pycharm": {
     "name": "#%%\n"
    }
   },
   "outputs": [
    {
     "name": "stdout",
     "output_type": "stream",
     "text": [
      "<class 'pandas.core.frame.DataFrame'>\n",
      "RangeIndex: 10000 entries, 0 to 9999\n",
      "Data columns (total 44 columns):\n",
      " #   Column                               Non-Null Count  Dtype  \n",
      "---  ------                               --------------  -----  \n",
      " 0   Age                                  10000 non-null  int64  \n",
      " 1   VitD_levels                          10000 non-null  float64\n",
      " 2   Doc_visits                           10000 non-null  int64  \n",
      " 3   vitD_supp                            10000 non-null  int64  \n",
      " 4   Initial_days                         10000 non-null  float64\n",
      " 5   TotalCharge                          10000 non-null  float64\n",
      " 6   Additional_charges                   10000 non-null  float64\n",
      " 7   Gender_Female                        10000 non-null  uint8  \n",
      " 8   Gender_Male                          10000 non-null  uint8  \n",
      " 9   Gender_Nonbinary                     10000 non-null  uint8  \n",
      " 10  ReAdmis_No                           10000 non-null  uint8  \n",
      " 11  ReAdmis_Yes                          10000 non-null  uint8  \n",
      " 12  Initial_admin_Elective Admission     10000 non-null  uint8  \n",
      " 13  Initial_admin_Emergency Admission    10000 non-null  uint8  \n",
      " 14  Initial_admin_Observation Admission  10000 non-null  uint8  \n",
      " 15  HighBlood_No                         10000 non-null  uint8  \n",
      " 16  HighBlood_Yes                        10000 non-null  uint8  \n",
      " 17  Stroke_No                            10000 non-null  uint8  \n",
      " 18  Stroke_Yes                           10000 non-null  uint8  \n",
      " 19  Complication_risk_High               10000 non-null  uint8  \n",
      " 20  Complication_risk_Low                10000 non-null  uint8  \n",
      " 21  Complication_risk_Medium             10000 non-null  uint8  \n",
      " 22  Overweight_No                        10000 non-null  uint8  \n",
      " 23  Overweight_Yes                       10000 non-null  uint8  \n",
      " 24  Arthritis_No                         10000 non-null  uint8  \n",
      " 25  Arthritis_Yes                        10000 non-null  uint8  \n",
      " 26  Diabetes_No                          10000 non-null  uint8  \n",
      " 27  Diabetes_Yes                         10000 non-null  uint8  \n",
      " 28  Hyperlipidemia_No                    10000 non-null  uint8  \n",
      " 29  Hyperlipidemia_Yes                   10000 non-null  uint8  \n",
      " 30  BackPain_No                          10000 non-null  uint8  \n",
      " 31  BackPain_Yes                         10000 non-null  uint8  \n",
      " 32  Anxiety_No                           10000 non-null  uint8  \n",
      " 33  Anxiety_Yes                          10000 non-null  uint8  \n",
      " 34  Allergic_rhinitis_No                 10000 non-null  uint8  \n",
      " 35  Allergic_rhinitis_Yes                10000 non-null  uint8  \n",
      " 36  Reflux_esophagitis_No                10000 non-null  uint8  \n",
      " 37  Reflux_esophagitis_Yes               10000 non-null  uint8  \n",
      " 38  Asthma_No                            10000 non-null  uint8  \n",
      " 39  Asthma_Yes                           10000 non-null  uint8  \n",
      " 40  Services_Blood Work                  10000 non-null  uint8  \n",
      " 41  Services_CT Scan                     10000 non-null  uint8  \n",
      " 42  Services_Intravenous                 10000 non-null  uint8  \n",
      " 43  Services_MRI                         10000 non-null  uint8  \n",
      "dtypes: float64(4), int64(3), uint8(37)\n",
      "memory usage: 908.3 KB\n"
     ]
    }
   ],
   "source": [
    "df_dummies.info()"
   ]
  },
  {
   "cell_type": "markdown",
   "id": "1e7f0cb0-6fcc-458f-9af9-31a472b7c63c",
   "metadata": {
    "pycharm": {
     "name": "#%% md\n"
    }
   },
   "source": [
    "#### Describe Columns"
   ]
  },
  {
   "cell_type": "code",
   "execution_count": 18,
   "id": "aa48fc95-2955-49f6-a98a-b399fae2c699",
   "metadata": {
    "pycharm": {
     "name": "#%%\n"
    }
   },
   "outputs": [
    {
     "data": {
      "text/plain": "Index(['Age', 'VitD_levels', 'Doc_visits', 'vitD_supp', 'Initial_days',\n       'TotalCharge', 'Additional_charges', 'Gender_Female', 'Gender_Male',\n       'Gender_Nonbinary', 'ReAdmis_No', 'ReAdmis_Yes',\n       'Initial_admin_Elective Admission', 'Initial_admin_Emergency Admission',\n       'Initial_admin_Observation Admission', 'HighBlood_No', 'HighBlood_Yes',\n       'Stroke_No', 'Stroke_Yes', 'Complication_risk_High',\n       'Complication_risk_Low', 'Complication_risk_Medium', 'Overweight_No',\n       'Overweight_Yes', 'Arthritis_No', 'Arthritis_Yes', 'Diabetes_No',\n       'Diabetes_Yes', 'Hyperlipidemia_No', 'Hyperlipidemia_Yes',\n       'BackPain_No', 'BackPain_Yes', 'Anxiety_No', 'Anxiety_Yes',\n       'Allergic_rhinitis_No', 'Allergic_rhinitis_Yes',\n       'Reflux_esophagitis_No', 'Reflux_esophagitis_Yes', 'Asthma_No',\n       'Asthma_Yes', 'Services_Blood Work', 'Services_CT Scan',\n       'Services_Intravenous', 'Services_MRI'],\n      dtype='object')"
     },
     "execution_count": 18,
     "metadata": {},
     "output_type": "execute_result"
    }
   ],
   "source": [
    "df_dummies.columns"
   ]
  },
  {
   "cell_type": "markdown",
   "id": "47e8d7b9-04cf-46af-b71e-7a84ed1c2f68",
   "metadata": {
    "pycharm": {
     "name": "#%% md\n"
    }
   },
   "source": [
    "### Keep Only Necessary Columns"
   ]
  },
  {
   "cell_type": "code",
   "execution_count": 19,
   "id": "2545c0c9-1759-4068-9e6e-62c1721ca6a5",
   "metadata": {
    "pycharm": {
     "name": "#%%\n"
    }
   },
   "outputs": [
    {
     "data": {
      "text/plain": "Index(['State', 'Lat', 'Lng', 'Population', 'Area', 'TimeZone', 'Children',\n       'Age', 'Income', 'Marital', 'Gender', 'VitD_levels', 'Doc_visits',\n       'Full_meals_eaten', 'vitD_supp', 'Soft_drink', 'Initial_admin',\n       'HighBlood', 'Stroke', 'Complication_risk', 'Overweight', 'Arthritis',\n       'Diabetes', 'Hyperlipidemia', 'BackPain', 'Anxiety',\n       'Allergic_rhinitis', 'Reflux_esophagitis', 'Asthma', 'Services',\n       'Initial_days', 'TotalCharge', 'Additional_charges'],\n      dtype='object')"
     },
     "execution_count": 19,
     "metadata": {},
     "output_type": "execute_result"
    }
   ],
   "source": [
    "# Start pruning non-relavent series\n",
    "pca_df = df.drop(['CaseOrder', 'Interaction','Customer_id', 'UID', 'Job', 'Zip', 'City', 'County','ReAdmis','ReAdmis_Yes','Item1', 'Item2', 'Item3', 'Item4','Item5', 'Item6', 'Item7', 'Item8'], axis=1)\n",
    "pca_df.columns"
   ]
  },
  {
   "cell_type": "code",
   "execution_count": 20,
   "id": "15e7e818-0218-43e2-9a2e-70eb1952931b",
   "metadata": {
    "pycharm": {
     "name": "#%%\n"
    }
   },
   "outputs": [
    {
     "name": "stdout",
     "output_type": "stream",
     "text": [
      "yes\n",
      "yes\n",
      "yes\n",
      "yes\n",
      "yes\n",
      "yes\n",
      "yes\n"
     ]
    }
   ],
   "source": [
    "for t in pca_df.dtypes:\n",
    "    if t == \"float64\":\n",
    "        print(\"yes\")"
   ]
  },
  {
   "cell_type": "code",
   "execution_count": 21,
   "id": "9b06a9fc-7491-41cf-828c-f693940d21f2",
   "metadata": {
    "pycharm": {
     "name": "#%%\n"
    }
   },
   "outputs": [
    {
     "data": {
      "text/plain": "State                  object\nLat                   float64\nLng                   float64\nPopulation              int64\nArea                   object\nTimeZone               object\nChildren                int64\nAge                     int64\nIncome                float64\nMarital                object\nGender                 object\nVitD_levels           float64\nDoc_visits              int64\nFull_meals_eaten        int64\nvitD_supp               int64\nSoft_drink             object\nInitial_admin          object\nHighBlood              object\nStroke                 object\nComplication_risk      object\nOverweight             object\nArthritis              object\nDiabetes               object\nHyperlipidemia         object\nBackPain               object\nAnxiety                object\nAllergic_rhinitis      object\nReflux_esophagitis     object\nAsthma                 object\nServices               object\nInitial_days          float64\nTotalCharge           float64\nAdditional_charges    float64\ndtype: object"
     },
     "execution_count": 21,
     "metadata": {},
     "output_type": "execute_result"
    }
   ],
   "source": [
    "pca_df.dtypes"
   ]
  },
  {
   "cell_type": "code",
   "execution_count": 22,
   "id": "5094e71f-b2e0-4abd-af2f-3866d19ccb25",
   "metadata": {
    "pycharm": {
     "name": "#%%\n"
    }
   },
   "outputs": [],
   "source": [
    "def dummify(df, max_cols=10):\n",
    "    # Get list of orig df cols\n",
    "    df_cols = df.columns\n",
    "    # Make copy of df\n",
    "    df_dummy=df.copy()\n",
    "    # ForEach Col, check if numeric.  If no, convert to binary\n",
    "    for t in df_cols:\n",
    "        if str(df_dummy[t].dtypes) not in ['float64', 'int64']:  # if numeric var dissapears, check dtypes and add new ones as needed.\n",
    "            # take non numerics, set (unique) list, then sort\n",
    "            val_list = sorted(list(set(df_dummy[t])))\n",
    "            if len(val_list) > 1 and len(val_list) <= max_cols:\n",
    "                for v in val_list[1:]: # make 'no' the dummy var\n",
    "                    df_dummy[t+\"__\"+str(v)]=df_dummy[t].apply(lambda x: 1 if x == v else 0)\n",
    "            df_dummy.drop([t],axis=1, inplace=True)\n",
    "    return df_dummy\n"
   ]
  },
  {
   "cell_type": "code",
   "execution_count": 23,
   "id": "13548472-08f3-4cf2-a587-a33445603f9a",
   "metadata": {
    "pycharm": {
     "name": "#%%\n"
    }
   },
   "outputs": [
    {
     "data": {
      "text/plain": "        Lat       Lng  Population  Children  Age    Income  VitD_levels  \\\n0  34.34960 -86.72508        2951         1   53  86575.93    19.141466   \n1  30.84513 -85.22907       11303         3   51  46805.99    18.940352   \n2  43.54321 -96.63772       17125         3   53  14370.14    18.057507   \n3  43.89744 -93.51479        2162         0   78  39741.49    16.576858   \n4  37.59894 -76.88958        5287         1   22   1209.56    17.439069   \n\n   Doc_visits  Full_meals_eaten  vitD_supp  ...  Diabetes__Yes  \\\n0           6                 0          0  ...              1   \n1           4                 2          1  ...              0   \n2           4                 1          0  ...              1   \n3           4                 1          0  ...              0   \n4           5                 0          2  ...              0   \n\n   Hyperlipidemia__Yes  BackPain__Yes  Anxiety__Yes  Allergic_rhinitis__Yes  \\\n0                    0              1             1                       1   \n1                    0              0             0                       0   \n2                    0              0             0                       0   \n3                    0              0             0                       0   \n4                    1              0             0                       1   \n\n   Reflux_esophagitis__Yes  Asthma__Yes  Services__CT Scan  \\\n0                        0            1                  0   \n1                        1            0                  0   \n2                        0            0                  0   \n3                        1            1                  0   \n4                        0            0                  1   \n\n   Services__Intravenous  Services__MRI  \n0                      0              0  \n1                      1              0  \n2                      0              0  \n3                      0              0  \n4                      0              0  \n\n[5 rows x 40 columns]",
      "text/html": "<div>\n<style scoped>\n    .dataframe tbody tr th:only-of-type {\n        vertical-align: middle;\n    }\n\n    .dataframe tbody tr th {\n        vertical-align: top;\n    }\n\n    .dataframe thead th {\n        text-align: right;\n    }\n</style>\n<table border=\"1\" class=\"dataframe\">\n  <thead>\n    <tr style=\"text-align: right;\">\n      <th></th>\n      <th>Lat</th>\n      <th>Lng</th>\n      <th>Population</th>\n      <th>Children</th>\n      <th>Age</th>\n      <th>Income</th>\n      <th>VitD_levels</th>\n      <th>Doc_visits</th>\n      <th>Full_meals_eaten</th>\n      <th>vitD_supp</th>\n      <th>...</th>\n      <th>Diabetes__Yes</th>\n      <th>Hyperlipidemia__Yes</th>\n      <th>BackPain__Yes</th>\n      <th>Anxiety__Yes</th>\n      <th>Allergic_rhinitis__Yes</th>\n      <th>Reflux_esophagitis__Yes</th>\n      <th>Asthma__Yes</th>\n      <th>Services__CT Scan</th>\n      <th>Services__Intravenous</th>\n      <th>Services__MRI</th>\n    </tr>\n  </thead>\n  <tbody>\n    <tr>\n      <th>0</th>\n      <td>34.34960</td>\n      <td>-86.72508</td>\n      <td>2951</td>\n      <td>1</td>\n      <td>53</td>\n      <td>86575.93</td>\n      <td>19.141466</td>\n      <td>6</td>\n      <td>0</td>\n      <td>0</td>\n      <td>...</td>\n      <td>1</td>\n      <td>0</td>\n      <td>1</td>\n      <td>1</td>\n      <td>1</td>\n      <td>0</td>\n      <td>1</td>\n      <td>0</td>\n      <td>0</td>\n      <td>0</td>\n    </tr>\n    <tr>\n      <th>1</th>\n      <td>30.84513</td>\n      <td>-85.22907</td>\n      <td>11303</td>\n      <td>3</td>\n      <td>51</td>\n      <td>46805.99</td>\n      <td>18.940352</td>\n      <td>4</td>\n      <td>2</td>\n      <td>1</td>\n      <td>...</td>\n      <td>0</td>\n      <td>0</td>\n      <td>0</td>\n      <td>0</td>\n      <td>0</td>\n      <td>1</td>\n      <td>0</td>\n      <td>0</td>\n      <td>1</td>\n      <td>0</td>\n    </tr>\n    <tr>\n      <th>2</th>\n      <td>43.54321</td>\n      <td>-96.63772</td>\n      <td>17125</td>\n      <td>3</td>\n      <td>53</td>\n      <td>14370.14</td>\n      <td>18.057507</td>\n      <td>4</td>\n      <td>1</td>\n      <td>0</td>\n      <td>...</td>\n      <td>1</td>\n      <td>0</td>\n      <td>0</td>\n      <td>0</td>\n      <td>0</td>\n      <td>0</td>\n      <td>0</td>\n      <td>0</td>\n      <td>0</td>\n      <td>0</td>\n    </tr>\n    <tr>\n      <th>3</th>\n      <td>43.89744</td>\n      <td>-93.51479</td>\n      <td>2162</td>\n      <td>0</td>\n      <td>78</td>\n      <td>39741.49</td>\n      <td>16.576858</td>\n      <td>4</td>\n      <td>1</td>\n      <td>0</td>\n      <td>...</td>\n      <td>0</td>\n      <td>0</td>\n      <td>0</td>\n      <td>0</td>\n      <td>0</td>\n      <td>1</td>\n      <td>1</td>\n      <td>0</td>\n      <td>0</td>\n      <td>0</td>\n    </tr>\n    <tr>\n      <th>4</th>\n      <td>37.59894</td>\n      <td>-76.88958</td>\n      <td>5287</td>\n      <td>1</td>\n      <td>22</td>\n      <td>1209.56</td>\n      <td>17.439069</td>\n      <td>5</td>\n      <td>0</td>\n      <td>2</td>\n      <td>...</td>\n      <td>0</td>\n      <td>1</td>\n      <td>0</td>\n      <td>0</td>\n      <td>1</td>\n      <td>0</td>\n      <td>0</td>\n      <td>1</td>\n      <td>0</td>\n      <td>0</td>\n    </tr>\n  </tbody>\n</table>\n<p>5 rows × 40 columns</p>\n</div>"
     },
     "execution_count": 23,
     "metadata": {},
     "output_type": "execute_result"
    }
   ],
   "source": [
    "pca_df_binary = dummify(pca_df)\n",
    "pca_df_binary.head()"
   ]
  },
  {
   "cell_type": "code",
   "execution_count": 24,
   "id": "3265445b-7507-4e86-8703-9def7d476c77",
   "metadata": {
    "pycharm": {
     "name": "#%%\n"
    }
   },
   "outputs": [
    {
     "data": {
      "text/plain": "Index(['Lat', 'Lng', 'Population', 'Children', 'Age', 'Income', 'VitD_levels',\n       'Doc_visits', 'Full_meals_eaten', 'vitD_supp', 'Initial_days',\n       'TotalCharge', 'Additional_charges', 'Area__Suburban', 'Area__Urban',\n       'Marital__Married', 'Marital__Never Married', 'Marital__Separated',\n       'Marital__Widowed', 'Gender__Male', 'Gender__Nonbinary',\n       'Soft_drink__Yes', 'Initial_admin__Emergency Admission',\n       'Initial_admin__Observation Admission', 'HighBlood__Yes', 'Stroke__Yes',\n       'Complication_risk__Low', 'Complication_risk__Medium',\n       'Overweight__Yes', 'Arthritis__Yes', 'Diabetes__Yes',\n       'Hyperlipidemia__Yes', 'BackPain__Yes', 'Anxiety__Yes',\n       'Allergic_rhinitis__Yes', 'Reflux_esophagitis__Yes', 'Asthma__Yes',\n       'Services__CT Scan', 'Services__Intravenous', 'Services__MRI'],\n      dtype='object')"
     },
     "execution_count": 24,
     "metadata": {},
     "output_type": "execute_result"
    }
   ],
   "source": [
    "pca_df_binary.columns"
   ]
  },
  {
   "cell_type": "code",
   "execution_count": 24,
   "id": "ace99f96-2d67-485c-8aac-25a3a9f9599d",
   "metadata": {
    "pycharm": {
     "name": "#%%\n"
    }
   },
   "outputs": [],
   "source": []
  },
  {
   "cell_type": "code",
   "execution_count": 25,
   "id": "5f67b844-f522-416f-bbd5-55b984f92c61",
   "metadata": {
    "pycharm": {
     "name": "#%%\n"
    }
   },
   "outputs": [
    {
     "ename": "NameError",
     "evalue": "name 'pruned_df' is not defined",
     "output_type": "error",
     "traceback": [
      "\u001B[0;31m---------------------------------------------------------------------------\u001B[0m",
      "\u001B[0;31mNameError\u001B[0m                                 Traceback (most recent call last)",
      "Input \u001B[0;32mIn [25]\u001B[0m, in \u001B[0;36m<cell line: 2>\u001B[0;34m()\u001B[0m\n\u001B[1;32m      1\u001B[0m \u001B[38;5;66;03m# Create df for datafields with higher than a 50% binomial distrobution\u001B[39;00m\n\u001B[0;32m----> 2\u001B[0m pruned_df \u001B[38;5;241m=\u001B[39m \u001B[43mpruned_df\u001B[49m[[\u001B[38;5;124m'\u001B[39m\u001B[38;5;124mInitial_days\u001B[39m\u001B[38;5;124m'\u001B[39m, \u001B[38;5;124m'\u001B[39m\u001B[38;5;124mTotalCharge\u001B[39m\u001B[38;5;124m'\u001B[39m, \u001B[38;5;124m'\u001B[39m\u001B[38;5;124mReAdmis_Yes\u001B[39m\u001B[38;5;124m'\u001B[39m]]\n",
      "\u001B[0;31mNameError\u001B[0m: name 'pruned_df' is not defined"
     ]
    }
   ],
   "source": [
    "# Create df for datafields with higher than a 50% binomial distrobution\n",
    "pruned_df = pruned_df[['Initial_days', 'TotalCharge', 'ReAdmis_Yes']]"
   ]
  },
  {
   "cell_type": "code",
   "execution_count": null,
   "id": "d91db2d2-ea47-435e-b87d-69552aed0cda",
   "metadata": {
    "pycharm": {
     "name": "#%%\n"
    }
   },
   "outputs": [],
   "source": [
    "# https://www.datacamp.com/community/tutorials/preprocessing-in-data-science-part-1-centering-scaling-and-knn\n",
    "plt.style.use('ggplot')\n",
    "# df = pd.read_csv('http://archive.ics.uci.edu/ml/machine-learning-databases/wine-quality/winequality-red.csv ' , sep = ';')\n",
    "X = pruned_df.drop('ReAdmis_Yes', axis=1).values # drop target variable\n",
    "y1 = pruned_df['ReAdmis_Yes'].values\n",
    "pd.DataFrame.hist(pruned_df, figsize = [20,15]);"
   ]
  },
  {
   "cell_type": "code",
   "execution_count": null,
   "id": "370fc7dd-6971-42dd-ab69-0ffc6253917f",
   "metadata": {
    "pycharm": {
     "name": "#%%\n"
    }
   },
   "outputs": [],
   "source": [
    "pruned_df.shape"
   ]
  },
  {
   "cell_type": "code",
   "execution_count": null,
   "id": "6aa59f95-57fe-4520-9704-42c868aa7d5b",
   "metadata": {
    "pycharm": {
     "name": "#%%\n"
    }
   },
   "outputs": [],
   "source": [
    "# Trying to make sense of numerical values, discover possible correlations\n",
    "# Ref1: https://www.geeksforgeeks.org/how-to-create-a-seaborn-correlation-heatmap-in-python/\n",
    "# Ref2: https://medium.com/@szabo.bibor/how-to-create-a-seaborn-correlation-heatmap-in-python-834c0686b88e\n",
    "sns.set(rc = {'figure.figsize':(15,8)})\n",
    "sns.heatmap(pruned_df.corr(), annot=True);"
   ]
  },
  {
   "cell_type": "markdown",
   "id": "05c9ecae",
   "metadata": {
    "pycharm": {
     "name": "#%% md\n"
    }
   },
   "source": [
    "### PCA Implementation:"
   ]
  },
  {
   "cell_type": "code",
   "execution_count": null,
   "id": "4a19afde",
   "metadata": {
    "pycharm": {
     "name": "#%%\n"
    }
   },
   "outputs": [],
   "source": [
    "pcs = PCA(n_components=3)\n",
    "pcs.fit(pca_df_binary)\n",
    "loadings = pd.DataFrame(pcs.components_, columns=pca_df_binary.columns)\n",
    "loadings"
   ]
  },
  {
   "cell_type": "code",
   "execution_count": null,
   "id": "24c0d930-06a1-4b2b-9370-431ddd169699",
   "metadata": {
    "pycharm": {
     "name": "#%%\n"
    }
   },
   "outputs": [],
   "source": [
    "# Tested...3 seems best\n",
    "explained_variance = pd.DataFrame(pcs.explained_variance_)\n",
    "ax = explained_variance.head(10).plot.bar(legend=False, figsize=(4, 4))\n",
    "ax.set_xlabel('Component')"
   ]
  },
  {
   "cell_type": "code",
   "execution_count": null,
   "id": "abc85f46-00d2-442b-866f-ea04c9e2fe21",
   "metadata": {
    "pycharm": {
     "name": "#%%\n"
    }
   },
   "outputs": [],
   "source": [
    "pcs.components_.shape"
   ]
  },
  {
   "cell_type": "code",
   "execution_count": null,
   "id": "d7518c55",
   "metadata": {
    "pycharm": {
     "name": "#%%\n"
    }
   },
   "outputs": [],
   "source": [
    "pcs_c_n=pcs.components_.shape[0]\n",
    "loadings = pd.DataFrame(pcs.components_[0:pcs_c_n, :], columns=pca_df_binary.columns)\n",
    "maxPC = 1.01 * np.max(np.max(np.abs(loadings.loc[0:pcs_c_n, :])))\n",
    "\n",
    "f, axes = plt.subplots(pcs_c_n, 1, figsize=(15, 5), sharex=True)\n",
    "for i, ax in enumerate(axes):\n",
    "    pc_loadings = loadings.loc[i, :]\n",
    "    colors = ['C0' if l > 0 else 'C1' for l in pc_loadings]\n",
    "    ax.axhline(color='#888888')\n",
    "    pc_loadings.plot.bar(ax=ax, color=colors)\n",
    "    ax.set_ylabel(f'PC{i+1}')\n",
    "    ax.set_ylim(-maxPC, maxPC)"
   ]
  },
  {
   "cell_type": "markdown",
   "id": "7ef45cc8-f2ba-458a-934f-556849fbd775",
   "metadata": {
    "pycharm": {
     "name": "#%% md\n"
    }
   },
   "source": [
    "### K-Means Clustering"
   ]
  },
  {
   "cell_type": "code",
   "execution_count": 26,
   "id": "e6c9408d-b037-40e8-98e9-36cdb9bcdfdc",
   "metadata": {
    "pycharm": {
     "name": "#%%\n"
    }
   },
   "outputs": [
    {
     "data": {
      "text/plain": "        Lat       Lng  Population  Children       Age    Income  VitD_levels  \\\n0 -0.814668  0.297134   -0.473168 -0.507129 -0.024795  1.615914     0.583603   \n1 -1.463305  0.395522    0.090242  0.417277 -0.121706  0.221443     0.483901   \n2  0.886966 -0.354788    0.482983  0.417277 -0.024795 -0.915870     0.046227   \n3  0.952530 -0.149403   -0.526393 -0.969332  1.186592 -0.026263    -0.687811   \n4 -0.213252  0.943984   -0.315586 -0.507129 -1.526914 -1.377325    -0.260366   \n\n   Doc_visits  Full_meals_eaten  vitD_supp  ...  Diabetes__Yes  \\\n0    0.944647         -0.993387  -0.634713  ...       1.628589   \n1   -0.967981          0.990609   0.956445  ...      -0.614029   \n2   -0.967981         -0.001389  -0.634713  ...       1.628589   \n3   -0.967981         -0.001389  -0.634713  ...      -0.614029   \n4   -0.011667         -0.993387   2.547602  ...      -0.614029   \n\n   Hyperlipidemia__Yes  BackPain__Yes  Anxiety__Yes  Allergic_rhinitis__Yes  \\\n0            -0.713268       1.196129      1.452728                1.239930   \n1            -0.713268      -0.836030     -0.688360               -0.806497   \n2            -0.713268      -0.836030     -0.688360               -0.806497   \n3            -0.713268      -0.836030     -0.688360               -0.806497   \n4             1.401998      -0.836030     -0.688360                1.239930   \n\n   Reflux_esophagitis__Yes  Asthma__Yes  Services__CT Scan  \\\n0                -0.839661     1.567361          -0.373632   \n1                 1.190957    -0.638015          -0.373632   \n2                -0.839661    -0.638015          -0.373632   \n3                 1.190957     1.567361          -0.373632   \n4                -0.839661    -0.638015           2.676428   \n\n   Services__Intravenous  Services__MRI  \n0              -0.674985      -0.198749  \n1               1.481516      -0.198749  \n2              -0.674985      -0.198749  \n3              -0.674985      -0.198749  \n4              -0.674985      -0.198749  \n\n[5 rows x 40 columns]",
      "text/html": "<div>\n<style scoped>\n    .dataframe tbody tr th:only-of-type {\n        vertical-align: middle;\n    }\n\n    .dataframe tbody tr th {\n        vertical-align: top;\n    }\n\n    .dataframe thead th {\n        text-align: right;\n    }\n</style>\n<table border=\"1\" class=\"dataframe\">\n  <thead>\n    <tr style=\"text-align: right;\">\n      <th></th>\n      <th>Lat</th>\n      <th>Lng</th>\n      <th>Population</th>\n      <th>Children</th>\n      <th>Age</th>\n      <th>Income</th>\n      <th>VitD_levels</th>\n      <th>Doc_visits</th>\n      <th>Full_meals_eaten</th>\n      <th>vitD_supp</th>\n      <th>...</th>\n      <th>Diabetes__Yes</th>\n      <th>Hyperlipidemia__Yes</th>\n      <th>BackPain__Yes</th>\n      <th>Anxiety__Yes</th>\n      <th>Allergic_rhinitis__Yes</th>\n      <th>Reflux_esophagitis__Yes</th>\n      <th>Asthma__Yes</th>\n      <th>Services__CT Scan</th>\n      <th>Services__Intravenous</th>\n      <th>Services__MRI</th>\n    </tr>\n  </thead>\n  <tbody>\n    <tr>\n      <th>0</th>\n      <td>-0.814668</td>\n      <td>0.297134</td>\n      <td>-0.473168</td>\n      <td>-0.507129</td>\n      <td>-0.024795</td>\n      <td>1.615914</td>\n      <td>0.583603</td>\n      <td>0.944647</td>\n      <td>-0.993387</td>\n      <td>-0.634713</td>\n      <td>...</td>\n      <td>1.628589</td>\n      <td>-0.713268</td>\n      <td>1.196129</td>\n      <td>1.452728</td>\n      <td>1.239930</td>\n      <td>-0.839661</td>\n      <td>1.567361</td>\n      <td>-0.373632</td>\n      <td>-0.674985</td>\n      <td>-0.198749</td>\n    </tr>\n    <tr>\n      <th>1</th>\n      <td>-1.463305</td>\n      <td>0.395522</td>\n      <td>0.090242</td>\n      <td>0.417277</td>\n      <td>-0.121706</td>\n      <td>0.221443</td>\n      <td>0.483901</td>\n      <td>-0.967981</td>\n      <td>0.990609</td>\n      <td>0.956445</td>\n      <td>...</td>\n      <td>-0.614029</td>\n      <td>-0.713268</td>\n      <td>-0.836030</td>\n      <td>-0.688360</td>\n      <td>-0.806497</td>\n      <td>1.190957</td>\n      <td>-0.638015</td>\n      <td>-0.373632</td>\n      <td>1.481516</td>\n      <td>-0.198749</td>\n    </tr>\n    <tr>\n      <th>2</th>\n      <td>0.886966</td>\n      <td>-0.354788</td>\n      <td>0.482983</td>\n      <td>0.417277</td>\n      <td>-0.024795</td>\n      <td>-0.915870</td>\n      <td>0.046227</td>\n      <td>-0.967981</td>\n      <td>-0.001389</td>\n      <td>-0.634713</td>\n      <td>...</td>\n      <td>1.628589</td>\n      <td>-0.713268</td>\n      <td>-0.836030</td>\n      <td>-0.688360</td>\n      <td>-0.806497</td>\n      <td>-0.839661</td>\n      <td>-0.638015</td>\n      <td>-0.373632</td>\n      <td>-0.674985</td>\n      <td>-0.198749</td>\n    </tr>\n    <tr>\n      <th>3</th>\n      <td>0.952530</td>\n      <td>-0.149403</td>\n      <td>-0.526393</td>\n      <td>-0.969332</td>\n      <td>1.186592</td>\n      <td>-0.026263</td>\n      <td>-0.687811</td>\n      <td>-0.967981</td>\n      <td>-0.001389</td>\n      <td>-0.634713</td>\n      <td>...</td>\n      <td>-0.614029</td>\n      <td>-0.713268</td>\n      <td>-0.836030</td>\n      <td>-0.688360</td>\n      <td>-0.806497</td>\n      <td>1.190957</td>\n      <td>1.567361</td>\n      <td>-0.373632</td>\n      <td>-0.674985</td>\n      <td>-0.198749</td>\n    </tr>\n    <tr>\n      <th>4</th>\n      <td>-0.213252</td>\n      <td>0.943984</td>\n      <td>-0.315586</td>\n      <td>-0.507129</td>\n      <td>-1.526914</td>\n      <td>-1.377325</td>\n      <td>-0.260366</td>\n      <td>-0.011667</td>\n      <td>-0.993387</td>\n      <td>2.547602</td>\n      <td>...</td>\n      <td>-0.614029</td>\n      <td>1.401998</td>\n      <td>-0.836030</td>\n      <td>-0.688360</td>\n      <td>1.239930</td>\n      <td>-0.839661</td>\n      <td>-0.638015</td>\n      <td>2.676428</td>\n      <td>-0.674985</td>\n      <td>-0.198749</td>\n    </tr>\n  </tbody>\n</table>\n<p>5 rows × 40 columns</p>\n</div>"
     },
     "execution_count": 26,
     "metadata": {},
     "output_type": "execute_result"
    }
   ],
   "source": [
    "# http://mlreference.com/k-means-standardization-sklearn\n",
    "# Standardize Data\n",
    "\n",
    "# Create the scalar.\n",
    "from sklearn.preprocessing import StandardScaler\n",
    "\n",
    "scaler = StandardScaler().fit(pca_df_binary)\n",
    "\n",
    "# Standardize the columns.\n",
    "pca_df_binary_standardized = pca_df_binary.copy()\n",
    "standardized_data = scaler.transform(pca_df_binary)\n",
    "pca_df_binary_standardized[pca_df_binary_standardized.columns] = standardized_data\n",
    "pca_df_binary_standardized.head()"
   ]
  },
  {
   "cell_type": "code",
   "execution_count": 27,
   "id": "cd35a55d-7ac2-4414-8c15-b0970e75f129",
   "metadata": {
    "tags": [],
    "pycharm": {
     "name": "#%%\n"
    }
   },
   "outputs": [],
   "source": [
    "# Clusters --> ReAdmin vs Not ReAdmitted \n",
    "kmeans = KMeans(n_clusters=2).fit(pca_df_binary_standardized)"
   ]
  },
  {
   "cell_type": "code",
   "execution_count": 28,
   "id": "8e274ed3",
   "metadata": {
    "pycharm": {
     "name": "#%%\n"
    }
   },
   "outputs": [
    {
     "data": {
      "text/plain": "        Lat       Lng  Population  Children       Age    Income  VitD_levels  \\\n0 -0.814668  0.297134   -0.473168 -0.507129 -0.024795  1.615914     0.583603   \n1 -1.463305  0.395522    0.090242  0.417277 -0.121706  0.221443     0.483901   \n2  0.886966 -0.354788    0.482983  0.417277 -0.024795 -0.915870     0.046227   \n3  0.952530 -0.149403   -0.526393 -0.969332  1.186592 -0.026263    -0.687811   \n4 -0.213252  0.943984   -0.315586 -0.507129 -1.526914 -1.377325    -0.260366   \n\n   Doc_visits  Full_meals_eaten  vitD_supp  ...  Hyperlipidemia__Yes  \\\n0    0.944647         -0.993387  -0.634713  ...            -0.713268   \n1   -0.967981          0.990609   0.956445  ...            -0.713268   \n2   -0.967981         -0.001389  -0.634713  ...            -0.713268   \n3   -0.967981         -0.001389  -0.634713  ...            -0.713268   \n4   -0.011667         -0.993387   2.547602  ...             1.401998   \n\n   BackPain__Yes  Anxiety__Yes  Allergic_rhinitis__Yes  \\\n0       1.196129      1.452728                1.239930   \n1      -0.836030     -0.688360               -0.806497   \n2      -0.836030     -0.688360               -0.806497   \n3      -0.836030     -0.688360               -0.806497   \n4      -0.836030     -0.688360                1.239930   \n\n   Reflux_esophagitis__Yes  Asthma__Yes  Services__CT Scan  \\\n0                -0.839661     1.567361          -0.373632   \n1                 1.190957    -0.638015          -0.373632   \n2                -0.839661    -0.638015          -0.373632   \n3                 1.190957     1.567361          -0.373632   \n4                -0.839661    -0.638015           2.676428   \n\n   Services__Intravenous  Services__MRI  cluster  \n0              -0.674985      -0.198749        0  \n1               1.481516      -0.198749        0  \n2              -0.674985      -0.198749        0  \n3              -0.674985      -0.198749        0  \n4              -0.674985      -0.198749        0  \n\n[5 rows x 41 columns]",
      "text/html": "<div>\n<style scoped>\n    .dataframe tbody tr th:only-of-type {\n        vertical-align: middle;\n    }\n\n    .dataframe tbody tr th {\n        vertical-align: top;\n    }\n\n    .dataframe thead th {\n        text-align: right;\n    }\n</style>\n<table border=\"1\" class=\"dataframe\">\n  <thead>\n    <tr style=\"text-align: right;\">\n      <th></th>\n      <th>Lat</th>\n      <th>Lng</th>\n      <th>Population</th>\n      <th>Children</th>\n      <th>Age</th>\n      <th>Income</th>\n      <th>VitD_levels</th>\n      <th>Doc_visits</th>\n      <th>Full_meals_eaten</th>\n      <th>vitD_supp</th>\n      <th>...</th>\n      <th>Hyperlipidemia__Yes</th>\n      <th>BackPain__Yes</th>\n      <th>Anxiety__Yes</th>\n      <th>Allergic_rhinitis__Yes</th>\n      <th>Reflux_esophagitis__Yes</th>\n      <th>Asthma__Yes</th>\n      <th>Services__CT Scan</th>\n      <th>Services__Intravenous</th>\n      <th>Services__MRI</th>\n      <th>cluster</th>\n    </tr>\n  </thead>\n  <tbody>\n    <tr>\n      <th>0</th>\n      <td>-0.814668</td>\n      <td>0.297134</td>\n      <td>-0.473168</td>\n      <td>-0.507129</td>\n      <td>-0.024795</td>\n      <td>1.615914</td>\n      <td>0.583603</td>\n      <td>0.944647</td>\n      <td>-0.993387</td>\n      <td>-0.634713</td>\n      <td>...</td>\n      <td>-0.713268</td>\n      <td>1.196129</td>\n      <td>1.452728</td>\n      <td>1.239930</td>\n      <td>-0.839661</td>\n      <td>1.567361</td>\n      <td>-0.373632</td>\n      <td>-0.674985</td>\n      <td>-0.198749</td>\n      <td>0</td>\n    </tr>\n    <tr>\n      <th>1</th>\n      <td>-1.463305</td>\n      <td>0.395522</td>\n      <td>0.090242</td>\n      <td>0.417277</td>\n      <td>-0.121706</td>\n      <td>0.221443</td>\n      <td>0.483901</td>\n      <td>-0.967981</td>\n      <td>0.990609</td>\n      <td>0.956445</td>\n      <td>...</td>\n      <td>-0.713268</td>\n      <td>-0.836030</td>\n      <td>-0.688360</td>\n      <td>-0.806497</td>\n      <td>1.190957</td>\n      <td>-0.638015</td>\n      <td>-0.373632</td>\n      <td>1.481516</td>\n      <td>-0.198749</td>\n      <td>0</td>\n    </tr>\n    <tr>\n      <th>2</th>\n      <td>0.886966</td>\n      <td>-0.354788</td>\n      <td>0.482983</td>\n      <td>0.417277</td>\n      <td>-0.024795</td>\n      <td>-0.915870</td>\n      <td>0.046227</td>\n      <td>-0.967981</td>\n      <td>-0.001389</td>\n      <td>-0.634713</td>\n      <td>...</td>\n      <td>-0.713268</td>\n      <td>-0.836030</td>\n      <td>-0.688360</td>\n      <td>-0.806497</td>\n      <td>-0.839661</td>\n      <td>-0.638015</td>\n      <td>-0.373632</td>\n      <td>-0.674985</td>\n      <td>-0.198749</td>\n      <td>0</td>\n    </tr>\n    <tr>\n      <th>3</th>\n      <td>0.952530</td>\n      <td>-0.149403</td>\n      <td>-0.526393</td>\n      <td>-0.969332</td>\n      <td>1.186592</td>\n      <td>-0.026263</td>\n      <td>-0.687811</td>\n      <td>-0.967981</td>\n      <td>-0.001389</td>\n      <td>-0.634713</td>\n      <td>...</td>\n      <td>-0.713268</td>\n      <td>-0.836030</td>\n      <td>-0.688360</td>\n      <td>-0.806497</td>\n      <td>1.190957</td>\n      <td>1.567361</td>\n      <td>-0.373632</td>\n      <td>-0.674985</td>\n      <td>-0.198749</td>\n      <td>0</td>\n    </tr>\n    <tr>\n      <th>4</th>\n      <td>-0.213252</td>\n      <td>0.943984</td>\n      <td>-0.315586</td>\n      <td>-0.507129</td>\n      <td>-1.526914</td>\n      <td>-1.377325</td>\n      <td>-0.260366</td>\n      <td>-0.011667</td>\n      <td>-0.993387</td>\n      <td>2.547602</td>\n      <td>...</td>\n      <td>1.401998</td>\n      <td>-0.836030</td>\n      <td>-0.688360</td>\n      <td>1.239930</td>\n      <td>-0.839661</td>\n      <td>-0.638015</td>\n      <td>2.676428</td>\n      <td>-0.674985</td>\n      <td>-0.198749</td>\n      <td>0</td>\n    </tr>\n  </tbody>\n</table>\n<p>5 rows × 41 columns</p>\n</div>"
     },
     "execution_count": 28,
     "metadata": {},
     "output_type": "execute_result"
    }
   ],
   "source": [
    "# Identify cluster\n",
    "df_cluster = pca_df_binary_standardized.copy()\n",
    "\n",
    "df_cluster['cluster'] = kmeans.labels_\n",
    "df_cluster.head()"
   ]
  },
  {
   "cell_type": "code",
   "execution_count": 29,
   "id": "51dd5f05-3133-4203-814d-67f300410782",
   "metadata": {
    "tags": [],
    "pycharm": {
     "name": "#%%\n"
    }
   },
   "outputs": [
    {
     "data": {
      "text/plain": "Counter({0: 5003, 1: 4997})"
     },
     "execution_count": 29,
     "metadata": {},
     "output_type": "execute_result"
    }
   ],
   "source": [
    "# Distinct Patient Clusters\n",
    "from collections import Counter\n",
    "Counter(kmeans.labels_)"
   ]
  },
  {
   "cell_type": "code",
   "execution_count": 30,
   "id": "9cf38093-141a-43bf-b03a-16a8705d9b35",
   "metadata": {
    "pycharm": {
     "name": "#%%\n"
    }
   },
   "outputs": [
    {
     "data": {
      "text/plain": "<Figure size 1080x576 with 2 Axes>",
      "image/png": "[encoded data removed]"
     },
     "metadata": {
      "needs_background": "light"
     },
     "output_type": "display_data"
    }
   ],
   "source": [
    "centers = pd.DataFrame(kmeans.cluster_centers_, columns=df_cluster.columns[:-1])\n",
    "centers_n = kmeans.cluster_centers_.shape[0]\n",
    "\n",
    "\n",
    "f, axes = plt.subplots(centers_n,1, figsize=(15,8), sharex=True)\n",
    "for i, ax in enumerate(axes):\n",
    "    center = centers.loc[i, :]\n",
    "    maxPC = 1.01 * np.max(np.max(np.abs(center)))\n",
    "    colors = ['C0' if l > 0 else 'C1' for l in center]\n",
    "    ax.axhline(linewidth=4, color='r')\n",
    "    center.plot.bar(ax=ax, color=colors)\n",
    "    ax.set_ylabel(f'Cluster {i + 1}')\n",
    "    ax.set_ylim(-maxPC, maxPC)"
   ]
  },
  {
   "cell_type": "code",
   "execution_count": 31,
   "id": "37f11093",
   "metadata": {
    "pycharm": {
     "name": "#%%\n"
    }
   },
   "outputs": [
    {
     "data": {
      "text/plain": "        Lat       Lng  Population  Children       Age    Income  VitD_levels  \\\n0  0.001218  0.011525   -0.014907 -0.021654 -0.016401  0.008506     0.007306   \n1 -0.001220 -0.011548    0.014936  0.021698  0.016434 -0.008523    -0.007321   \n\n   Doc_visits  Full_meals_eaten  vitD_supp  ...  Diabetes__Yes  \\\n0    0.010688          0.018233  -0.017325  ...       0.000731   \n1   -0.010710         -0.018270   0.017359  ...      -0.000732   \n\n   Hyperlipidemia__Yes  BackPain__Yes  Anxiety__Yes  Allergic_rhinitis__Yes  \\\n0             0.006472      -0.016264     -0.012452               -0.004690   \n1            -0.006485       0.016297      0.012477                0.004699   \n\n   Reflux_esophagitis__Yes  Asthma__Yes  Services__CT Scan  \\\n0                -0.011590     0.018090          -0.006163   \n1                 0.011614    -0.018126           0.006175   \n\n   Services__Intravenous  Services__MRI  \n0               0.013114      -0.010649  \n1              -0.013140       0.010670  \n\n[2 rows x 40 columns]",
      "text/html": "<div>\n<style scoped>\n    .dataframe tbody tr th:only-of-type {\n        vertical-align: middle;\n    }\n\n    .dataframe tbody tr th {\n        vertical-align: top;\n    }\n\n    .dataframe thead th {\n        text-align: right;\n    }\n</style>\n<table border=\"1\" class=\"dataframe\">\n  <thead>\n    <tr style=\"text-align: right;\">\n      <th></th>\n      <th>Lat</th>\n      <th>Lng</th>\n      <th>Population</th>\n      <th>Children</th>\n      <th>Age</th>\n      <th>Income</th>\n      <th>VitD_levels</th>\n      <th>Doc_visits</th>\n      <th>Full_meals_eaten</th>\n      <th>vitD_supp</th>\n      <th>...</th>\n      <th>Diabetes__Yes</th>\n      <th>Hyperlipidemia__Yes</th>\n      <th>BackPain__Yes</th>\n      <th>Anxiety__Yes</th>\n      <th>Allergic_rhinitis__Yes</th>\n      <th>Reflux_esophagitis__Yes</th>\n      <th>Asthma__Yes</th>\n      <th>Services__CT Scan</th>\n      <th>Services__Intravenous</th>\n      <th>Services__MRI</th>\n    </tr>\n  </thead>\n  <tbody>\n    <tr>\n      <th>0</th>\n      <td>0.001218</td>\n      <td>0.011525</td>\n      <td>-0.014907</td>\n      <td>-0.021654</td>\n      <td>-0.016401</td>\n      <td>0.008506</td>\n      <td>0.007306</td>\n      <td>0.010688</td>\n      <td>0.018233</td>\n      <td>-0.017325</td>\n      <td>...</td>\n      <td>0.000731</td>\n      <td>0.006472</td>\n      <td>-0.016264</td>\n      <td>-0.012452</td>\n      <td>-0.004690</td>\n      <td>-0.011590</td>\n      <td>0.018090</td>\n      <td>-0.006163</td>\n      <td>0.013114</td>\n      <td>-0.010649</td>\n    </tr>\n    <tr>\n      <th>1</th>\n      <td>-0.001220</td>\n      <td>-0.011548</td>\n      <td>0.014936</td>\n      <td>0.021698</td>\n      <td>0.016434</td>\n      <td>-0.008523</td>\n      <td>-0.007321</td>\n      <td>-0.010710</td>\n      <td>-0.018270</td>\n      <td>0.017359</td>\n      <td>...</td>\n      <td>-0.000732</td>\n      <td>-0.006485</td>\n      <td>0.016297</td>\n      <td>0.012477</td>\n      <td>0.004699</td>\n      <td>0.011614</td>\n      <td>-0.018126</td>\n      <td>0.006175</td>\n      <td>-0.013140</td>\n      <td>0.010670</td>\n    </tr>\n  </tbody>\n</table>\n<p>2 rows × 40 columns</p>\n</div>"
     },
     "execution_count": 31,
     "metadata": {},
     "output_type": "execute_result"
    }
   ],
   "source": [
    "centers = pd.DataFrame(kmeans.cluster_centers_, columns=['Lat', 'Lng', 'Population', 'Children', 'Age', 'Income', 'VitD_levels',\n",
    "       'Doc_visits', 'Full_meals_eaten', 'vitD_supp', 'Initial_days',\n",
    "       'TotalCharge', 'Additional_charges', 'Area__Suburban', 'Area__Urban',\n",
    "       'Marital__Married', 'Marital__Never Married', 'Marital__Separated',\n",
    "       'Marital__Widowed', 'Gender__Male', 'Gender__Nonbinary',\n",
    "       'Soft_drink__Yes', 'Initial_admin__Emergency Admission',\n",
    "       'Initial_admin__Observation Admission', 'HighBlood__Yes', 'Stroke__Yes',\n",
    "       'Complication_risk__Low', 'Complication_risk__Medium',\n",
    "       'Overweight__Yes', 'Arthritis__Yes', 'Diabetes__Yes',\n",
    "       'Hyperlipidemia__Yes', 'BackPain__Yes', 'Anxiety__Yes',\n",
    "       'Allergic_rhinitis__Yes', 'Reflux_esophagitis__Yes', 'Asthma__Yes',\n",
    "       'Services__CT Scan', 'Services__Intravenous', 'Services__MRI'])\n",
    "centers"
   ]
  },
  {
   "cell_type": "code",
   "execution_count": 32,
   "id": "0eb314c3",
   "metadata": {
    "pycharm": {
     "name": "#%%\n"
    }
   },
   "outputs": [
    {
     "data": {
      "text/plain": "<AxesSubplot:xlabel='Initial_days', ylabel='Initial_days'>"
     },
     "execution_count": 32,
     "metadata": {},
     "output_type": "execute_result"
    },
    {
     "data": {
      "text/plain": "<Figure size 576x576 with 1 Axes>",
      "image/png": "[encoded data removed]"
     },
     "metadata": {
      "needs_background": "light"
     },
     "output_type": "display_data"
    }
   ],
   "source": [
    "fig, ax = plt.subplots(figsize=(8, 8))\n",
    "ax = sns.scatterplot(x='TotalCharge', y='Initial_days', ax=ax, data=pca_df_binary_standardized)\n",
    "ax.set_xlim(-3, 3)\n",
    "ax.set_ylim(-3, 3)\n",
    "centers.plot.scatter(x='Initial_days', y='Initial_days', ax=ax, s=50, color='black')"
   ]
  },
  {
   "cell_type": "code",
   "execution_count": 33,
   "id": "9b373791-e5c2-4003-afae-b1f23566c5c6",
   "metadata": {
    "pycharm": {
     "name": "#%%\n"
    }
   },
   "outputs": [],
   "source": [
    "# Create training and testing data\n",
    "# https://scikit-learn.org/stable/modules/generated/sklearn.model_selection.train_test_split.html\n",
    "\n",
    "train, test = train_test_split(pca_df_binary_standardized, test_size=0.33, random_state=42)"
   ]
  },
  {
   "cell_type": "code",
   "execution_count": 34,
   "id": "c0acb124-dfaf-4627-a43a-5cffdbcf1441",
   "metadata": {
    "pycharm": {
     "name": "#%%\n"
    }
   },
   "outputs": [
    {
     "name": "stdout",
     "output_type": "stream",
     "text": [
      "***** Train_Set *****\n",
      "           Lat       Lng  Population  Children       Age    Income  \\\n",
      "8371 -0.313238  0.627401   -0.426690 -0.969332  0.750493 -0.700692   \n",
      "5027 -2.210094  0.609127    0.097190  0.417277  0.605126  0.187865   \n",
      "9234 -0.518676  0.442590    0.465106 -0.969332 -1.478459  0.977979   \n",
      "3944  0.792480  1.002280    0.174362 -0.507129 -0.896993  0.218487   \n",
      "6862 -0.788833 -1.757797    0.348741  1.803886 -0.896993  0.177451   \n",
      "\n",
      "      VitD_levels  Doc_visits  Full_meals_eaten  vitD_supp  ...  \\\n",
      "8371    -1.027936   -0.967981          0.990609  -0.634713  ...   \n",
      "5027     0.135836   -0.967981          1.982607  -0.634713  ...   \n",
      "9234    -0.157318   -0.967981         -0.001389   0.956445  ...   \n",
      "3944    -0.380859   -0.011667         -0.993387   0.956445  ...   \n",
      "6862     0.792105   -0.011667         -0.993387  -0.634713  ...   \n",
      "\n",
      "      Diabetes__Yes  Hyperlipidemia__Yes  BackPain__Yes  Anxiety__Yes  \\\n",
      "8371       1.628589            -0.713268       1.196129     -0.688360   \n",
      "5027      -0.614029            -0.713268      -0.836030     -0.688360   \n",
      "9234      -0.614029            -0.713268      -0.836030      1.452728   \n",
      "3944      -0.614029            -0.713268       1.196129     -0.688360   \n",
      "6862      -0.614029            -0.713268       1.196129     -0.688360   \n",
      "\n",
      "      Allergic_rhinitis__Yes  Reflux_esophagitis__Yes  Asthma__Yes  \\\n",
      "8371               -0.806497                 1.190957     1.567361   \n",
      "5027                1.239930                -0.839661     1.567361   \n",
      "9234                1.239930                -0.839661     1.567361   \n",
      "3944               -0.806497                -0.839661    -0.638015   \n",
      "6862               -0.806497                 1.190957     1.567361   \n",
      "\n",
      "      Services__CT Scan  Services__Intravenous  Services__MRI  \n",
      "8371          -0.373632               1.481516      -0.198749  \n",
      "5027           2.676428              -0.674985      -0.198749  \n",
      "9234          -0.373632              -0.674985      -0.198749  \n",
      "3944          -0.373632              -0.674985      -0.198749  \n",
      "6862          -0.373632              -0.674985      -0.198749  \n",
      "\n",
      "[5 rows x 40 columns]\n",
      "\n",
      "\n",
      "***** Test_Set *****\n",
      "           Lat       Lng  Population  Children       Age    Income  \\\n",
      "6252 -0.873874  0.528136   -0.208530 -0.507129  0.653582  0.726271   \n",
      "4684  0.105079 -0.722315   -0.327391 -0.507129  0.217483 -0.226763   \n",
      "1731  0.066915 -0.359337   -0.554523 -0.507129  1.041226 -0.390756   \n",
      "4742  0.400256  1.196740    0.991684 -0.044926  1.089681  0.825839   \n",
      "4521  0.612512  1.263335    0.467400 -0.969332 -0.073250 -0.476741   \n",
      "\n",
      "      VitD_levels  Doc_visits  Full_meals_eaten  vitD_supp  ...  \\\n",
      "6252     0.089884    0.944647         -0.001389   0.956445  ...   \n",
      "4684     0.454914   -0.011667         -0.001389  -0.634713  ...   \n",
      "1731     1.976174   -0.011667          0.990609  -0.634713  ...   \n",
      "4742    -0.028400   -0.011667         -0.993387   0.956445  ...   \n",
      "4521     1.062094   -0.011667          1.982607  -0.634713  ...   \n",
      "\n",
      "      Diabetes__Yes  Hyperlipidemia__Yes  BackPain__Yes  Anxiety__Yes  \\\n",
      "6252       1.628589            -0.713268       1.196129     -0.688360   \n",
      "4684      -0.614029             1.401998       1.196129     -0.688360   \n",
      "1731      -0.614029             1.401998      -0.836030     -0.688360   \n",
      "4742      -0.614029            -0.713268      -0.836030     -0.688360   \n",
      "4521      -0.614029             1.401998       1.196129      1.452728   \n",
      "\n",
      "      Allergic_rhinitis__Yes  Reflux_esophagitis__Yes  Asthma__Yes  \\\n",
      "6252               -0.806497                 1.190957    -0.638015   \n",
      "4684                1.239930                 1.190957    -0.638015   \n",
      "1731                1.239930                -0.839661    -0.638015   \n",
      "4742                1.239930                -0.839661    -0.638015   \n",
      "4521                1.239930                 1.190957    -0.638015   \n",
      "\n",
      "      Services__CT Scan  Services__Intravenous  Services__MRI  \n",
      "6252           2.676428              -0.674985      -0.198749  \n",
      "4684          -0.373632              -0.674985      -0.198749  \n",
      "1731          -0.373632               1.481516      -0.198749  \n",
      "4742          -0.373632              -0.674985      -0.198749  \n",
      "4521          -0.373632              -0.674985      -0.198749  \n",
      "\n",
      "[5 rows x 40 columns]\n"
     ]
    }
   ],
   "source": [
    "print(\"***** Train_Set *****\")\n",
    "print(train.head())\n",
    "print(\"\\n\")\n",
    "print(\"***** Test_Set *****\")\n",
    "print(test.head())"
   ]
  },
  {
   "cell_type": "markdown",
   "id": "2a74b426-1d4f-4ff8-ba66-6307ee902e24",
   "metadata": {
    "pycharm": {
     "name": "#%% md\n"
    }
   },
   "source": [
    "### Describe Data Sets:"
   ]
  },
  {
   "cell_type": "code",
   "execution_count": 35,
   "id": "cf55046e-59eb-45fa-a726-1e03826d3feb",
   "metadata": {
    "pycharm": {
     "name": "#%%\n"
    }
   },
   "outputs": [
    {
     "name": "stdout",
     "output_type": "stream",
     "text": [
      "***** Train_Set *****\n",
      "               Lat          Lng   Population     Children          Age  \\\n",
      "count  6700.000000  6700.000000  6700.000000  6700.000000  6700.000000   \n",
      "mean     -0.006813     0.006251     0.006510    -0.000361     0.000525   \n",
      "std       0.992281     0.983131     1.003193     0.997765     0.997928   \n",
      "min      -3.846867    -5.456450    -0.672237    -0.969332    -1.720736   \n",
      "25%      -0.648287    -0.398643    -0.624814    -0.969332    -0.848538   \n",
      "50%       0.118215     0.187162    -0.481061    -0.507129    -0.024795   \n",
      "75%       0.602443     0.711772     0.286579     0.417277     0.847404   \n",
      "max       5.809453     1.706840     7.612562     3.652699     1.719602   \n",
      "\n",
      "            Income  VitD_levels   Doc_visits  Full_meals_eaten    vitD_supp  \\\n",
      "count  6700.000000  6700.000000  6700.000000       6700.000000  6700.000000   \n",
      "mean      0.000703    -0.000601    -0.005244         -0.007163     0.002938   \n",
      "std       1.000508     1.002334     1.000387          1.001120     1.005095   \n",
      "min      -1.405878    -4.044250    -3.836921         -0.993387    -0.634713   \n",
      "25%      -0.730725    -0.664665    -0.967981         -0.993387    -0.634713   \n",
      "50%      -0.239092    -0.005605    -0.011667         -0.001389    -0.634713   \n",
      "75%       0.493628     0.685975     0.944647          0.990609     0.956445   \n",
      "max       5.847132     4.179297     3.813587          5.950600     5.729917   \n",
      "\n",
      "       ...  Diabetes__Yes  Hyperlipidemia__Yes  BackPain__Yes  Anxiety__Yes  \\\n",
      "count  ...    6700.000000          6700.000000    6700.000000   6700.000000   \n",
      "mean   ...      -0.009861             0.005291      -0.011034     -0.003212   \n",
      "std    ...       0.995011             1.001881       0.998025      0.998841   \n",
      "min    ...      -0.614029            -0.713268      -0.836030     -0.688360   \n",
      "25%    ...      -0.614029            -0.713268      -0.836030     -0.688360   \n",
      "50%    ...      -0.614029            -0.713268      -0.836030     -0.688360   \n",
      "75%    ...       1.628589             1.401998       1.196129      1.452728   \n",
      "max    ...       1.628589             1.401998       1.196129      1.452728   \n",
      "\n",
      "       Allergic_rhinitis__Yes  Reflux_esophagitis__Yes  Asthma__Yes  \\\n",
      "count             6700.000000              6700.000000  6700.000000   \n",
      "mean                -0.013277                 0.002894     0.007469   \n",
      "std                  0.997104                 1.000579     1.003512   \n",
      "min                 -0.806497                -0.839661    -0.638015   \n",
      "25%                 -0.806497                -0.839661    -0.638015   \n",
      "50%                 -0.806497                -0.839661    -0.638015   \n",
      "75%                  1.239930                 1.190957     1.567361   \n",
      "max                  1.239930                 1.190957     1.567361   \n",
      "\n",
      "       Services__CT Scan  Services__Intravenous  Services__MRI  \n",
      "count        6700.000000            6700.000000    6700.000000  \n",
      "mean           -0.001252               0.002543      -0.002810  \n",
      "std             0.998631               1.001096       0.993256  \n",
      "min            -0.373632              -0.674985      -0.198749  \n",
      "25%            -0.373632              -0.674985      -0.198749  \n",
      "50%            -0.373632              -0.674985      -0.198749  \n",
      "75%            -0.373632               1.481516      -0.198749  \n",
      "max             2.676428               1.481516       5.031480  \n",
      "\n",
      "[8 rows x 40 columns]\n",
      "\n",
      "\n",
      "***** Test_Set *****\n",
      "               Lat          Lng   Population     Children          Age  \\\n",
      "count  3300.000000  3300.000000  3300.000000  3300.000000  3300.000000   \n",
      "mean      0.013832    -0.012692    -0.013218     0.000734    -0.001066   \n",
      "std       1.015651     1.033584     0.993659     1.004824     1.004495   \n",
      "min      -3.835073    -5.290616    -0.672237    -0.969332    -1.720736   \n",
      "25%      -0.646062    -0.406650    -0.625978    -0.969332    -0.896993   \n",
      "50%       0.138799     0.187824    -0.492326    -0.507129    -0.024795   \n",
      "75%       0.625878     0.702064     0.215646     0.417277     0.895859   \n",
      "max       5.887651     1.675870     7.612562     3.652699     1.719602   \n",
      "\n",
      "            Income  VitD_levels   Doc_visits  Full_meals_eaten    vitD_supp  \\\n",
      "count  3300.000000  3300.000000  3300.000000       3300.000000  3300.000000   \n",
      "mean     -0.001427     0.001220     0.010647          0.014543    -0.005964   \n",
      "std       0.999269     0.995546     0.999433          0.997867     0.989852   \n",
      "min      -1.414334    -3.792035    -3.836921         -0.993387    -0.634713   \n",
      "25%      -0.735737    -0.662815    -0.967981         -0.993387    -0.634713   \n",
      "50%      -0.227233    -0.009530    -0.011667         -0.001389    -0.634713   \n",
      "75%       0.466150     0.685874     0.944647          0.990609     0.956445   \n",
      "max       5.752226     3.708158     3.813587          5.950600     7.321074   \n",
      "\n",
      "       ...  Diabetes__Yes  Hyperlipidemia__Yes  BackPain__Yes  Anxiety__Yes  \\\n",
      "count  ...    3300.000000          3300.000000    3300.000000   3300.000000   \n",
      "mean   ...       0.020020            -0.010743       0.022403      0.006521   \n",
      "std    ...       1.010060             0.996387       1.003928      1.002620   \n",
      "min    ...      -0.614029            -0.713268      -0.836030     -0.688360   \n",
      "25%    ...      -0.614029            -0.713268      -0.836030     -0.688360   \n",
      "50%    ...      -0.614029            -0.713268      -0.836030     -0.688360   \n",
      "75%    ...       1.628589             1.401998       1.196129      1.452728   \n",
      "max    ...       1.628589             1.401998       1.196129      1.452728   \n",
      "\n",
      "       Allergic_rhinitis__Yes  Reflux_esophagitis__Yes  Asthma__Yes  \\\n",
      "count             3300.000000              3300.000000  3300.000000   \n",
      "mean                 0.026957                -0.005876    -0.015164   \n",
      "std                  1.005616                 0.999101     0.992964   \n",
      "min                 -0.806497                -0.839661    -0.638015   \n",
      "25%                 -0.806497                -0.839661    -0.638015   \n",
      "50%                 -0.806497                -0.839661    -0.638015   \n",
      "75%                  1.239930                 1.190957     1.567361   \n",
      "max                  1.239930                 1.190957     1.567361   \n",
      "\n",
      "       Services__CT Scan  Services__Intravenous  Services__MRI  \n",
      "count        3300.000000            3300.000000    3300.000000  \n",
      "mean            0.002542              -0.005163       0.005706  \n",
      "std             1.003071               0.998054       1.013831  \n",
      "min            -0.373632              -0.674985      -0.198749  \n",
      "25%            -0.373632              -0.674985      -0.198749  \n",
      "50%            -0.373632              -0.674985      -0.198749  \n",
      "75%            -0.373632               1.481516      -0.198749  \n",
      "max             2.676428               1.481516       5.031480  \n",
      "\n",
      "[8 rows x 40 columns]\n"
     ]
    }
   ],
   "source": [
    "print(\"***** Train_Set *****\")\n",
    "print(train.describe())\n",
    "print(\"\\n\")\n",
    "print(\"***** Test_Set *****\")\n",
    "print(test.describe())"
   ]
  },
  {
   "cell_type": "code",
   "execution_count": 36,
   "id": "cf0a1ac7-d831-40e5-a607-60fef478837f",
   "metadata": {
    "pycharm": {
     "name": "#%%\n"
    }
   },
   "outputs": [
    {
     "name": "stdout",
     "output_type": "stream",
     "text": [
      "['Lat' 'Lng' 'Population' 'Children' 'Age' 'Income' 'VitD_levels'\n",
      " 'Doc_visits' 'Full_meals_eaten' 'vitD_supp' 'Initial_days' 'TotalCharge'\n",
      " 'Additional_charges' 'Area__Suburban' 'Area__Urban' 'Marital__Married'\n",
      " 'Marital__Never Married' 'Marital__Separated' 'Marital__Widowed'\n",
      " 'Gender__Male' 'Gender__Nonbinary' 'Soft_drink__Yes'\n",
      " 'Initial_admin__Emergency Admission'\n",
      " 'Initial_admin__Observation Admission' 'HighBlood__Yes' 'Stroke__Yes'\n",
      " 'Complication_risk__Low' 'Complication_risk__Medium' 'Overweight__Yes'\n",
      " 'Arthritis__Yes' 'Diabetes__Yes' 'Hyperlipidemia__Yes' 'BackPain__Yes'\n",
      " 'Anxiety__Yes' 'Allergic_rhinitis__Yes' 'Reflux_esophagitis__Yes'\n",
      " 'Asthma__Yes' 'Services__CT Scan' 'Services__Intravenous' 'Services__MRI']\n"
     ]
    }
   ],
   "source": [
    "print(train.columns.values)"
   ]
  },
  {
   "cell_type": "markdown",
   "id": "da282526-bb8f-4b56-bc73-ed093a965f62",
   "metadata": {
    "pycharm": {
     "name": "#%% md\n"
    }
   },
   "source": [
    "### Verify No Missing Values:"
   ]
  },
  {
   "cell_type": "code",
   "execution_count": 37,
   "id": "515796bf-26e6-47a6-861b-6ac3786c7004",
   "metadata": {
    "pycharm": {
     "name": "#%%\n"
    }
   },
   "outputs": [
    {
     "name": "stdout",
     "output_type": "stream",
     "text": [
      "*****In the Train Set*****\n",
      "Lat                                     0\n",
      "Lng                                     0\n",
      "Population                              0\n",
      "Children                                0\n",
      "Age                                     0\n",
      "Income                                  0\n",
      "VitD_levels                             0\n",
      "Doc_visits                              0\n",
      "Full_meals_eaten                        0\n",
      "vitD_supp                               0\n",
      "Initial_days                            0\n",
      "TotalCharge                             0\n",
      "Additional_charges                      0\n",
      "Area__Suburban                          0\n",
      "Area__Urban                             0\n",
      "Marital__Married                        0\n",
      "Marital__Never Married                  0\n",
      "Marital__Separated                      0\n",
      "Marital__Widowed                        0\n",
      "Gender__Male                            0\n",
      "Gender__Nonbinary                       0\n",
      "Soft_drink__Yes                         0\n",
      "Initial_admin__Emergency Admission      0\n",
      "Initial_admin__Observation Admission    0\n",
      "HighBlood__Yes                          0\n",
      "Stroke__Yes                             0\n",
      "Complication_risk__Low                  0\n",
      "Complication_risk__Medium               0\n",
      "Overweight__Yes                         0\n",
      "Arthritis__Yes                          0\n",
      "Diabetes__Yes                           0\n",
      "Hyperlipidemia__Yes                     0\n",
      "BackPain__Yes                           0\n",
      "Anxiety__Yes                            0\n",
      "Allergic_rhinitis__Yes                  0\n",
      "Reflux_esophagitis__Yes                 0\n",
      "Asthma__Yes                             0\n",
      "Services__CT Scan                       0\n",
      "Services__Intravenous                   0\n",
      "Services__MRI                           0\n",
      "dtype: int64\n",
      "\n",
      "\n",
      "*****In the Test Set*****\n",
      "Lat                                     0\n",
      "Lng                                     0\n",
      "Population                              0\n",
      "Children                                0\n",
      "Age                                     0\n",
      "Income                                  0\n",
      "VitD_levels                             0\n",
      "Doc_visits                              0\n",
      "Full_meals_eaten                        0\n",
      "vitD_supp                               0\n",
      "Initial_days                            0\n",
      "TotalCharge                             0\n",
      "Additional_charges                      0\n",
      "Area__Suburban                          0\n",
      "Area__Urban                             0\n",
      "Marital__Married                        0\n",
      "Marital__Never Married                  0\n",
      "Marital__Separated                      0\n",
      "Marital__Widowed                        0\n",
      "Gender__Male                            0\n",
      "Gender__Nonbinary                       0\n",
      "Soft_drink__Yes                         0\n",
      "Initial_admin__Emergency Admission      0\n",
      "Initial_admin__Observation Admission    0\n",
      "HighBlood__Yes                          0\n",
      "Stroke__Yes                             0\n",
      "Complication_risk__Low                  0\n",
      "Complication_risk__Medium               0\n",
      "Overweight__Yes                         0\n",
      "Arthritis__Yes                          0\n",
      "Diabetes__Yes                           0\n",
      "Hyperlipidemia__Yes                     0\n",
      "BackPain__Yes                           0\n",
      "Anxiety__Yes                            0\n",
      "Allergic_rhinitis__Yes                  0\n",
      "Reflux_esophagitis__Yes                 0\n",
      "Asthma__Yes                             0\n",
      "Services__CT Scan                       0\n",
      "Services__Intravenous                   0\n",
      "Services__MRI                           0\n",
      "dtype: int64\n"
     ]
    }
   ],
   "source": [
    "print(\"*****In the Train Set*****\")\n",
    "print(train.isna().sum())\n",
    "print(\"\\n\")\n",
    "print(\"*****In the Test Set*****\")\n",
    "print(test.isna().sum())"
   ]
  },
  {
   "cell_type": "code",
   "execution_count": 38,
   "id": "af61ef1c-5a53-47c7-8740-e11460677815",
   "metadata": {
    "pycharm": {
     "name": "#%%\n"
    },
    "tags": []
   },
   "outputs": [
    {
     "ename": "KeyError",
     "evalue": "\"['ReAdmis_Yes'] not in index\"",
     "output_type": "error",
     "traceback": [
      "\u001B[0;31m---------------------------------------------------------------------------\u001B[0m",
      "\u001B[0;31mKeyError\u001B[0m                                  Traceback (most recent call last)",
      "Input \u001B[0;32mIn [38]\u001B[0m, in \u001B[0;36m<cell line: 2>\u001B[0;34m()\u001B[0m\n\u001B[1;32m      1\u001B[0m \u001B[38;5;66;03m# Average of the train set grouped by ReAdmis_Yes\u001B[39;00m\n\u001B[0;32m----> 2\u001B[0m \u001B[43mtrain\u001B[49m\u001B[43m[\u001B[49m\u001B[43m[\u001B[49m\u001B[38;5;124;43m'\u001B[39;49m\u001B[38;5;124;43mReAdmis_Yes\u001B[39;49m\u001B[38;5;124;43m'\u001B[39;49m\u001B[43m,\u001B[49m\u001B[43m \u001B[49m\u001B[38;5;124;43m'\u001B[39;49m\u001B[38;5;124;43mInitial_days\u001B[39;49m\u001B[38;5;124;43m'\u001B[39;49m\u001B[43m,\u001B[49m\u001B[43m \u001B[49m\u001B[38;5;124;43m'\u001B[39;49m\u001B[38;5;124;43mTotalCharge\u001B[39;49m\u001B[38;5;124;43m'\u001B[39;49m\u001B[43m]\u001B[49m\u001B[43m]\u001B[49m\u001B[38;5;241m.\u001B[39mgroupby([\u001B[38;5;124m'\u001B[39m\u001B[38;5;124mReAdmis_Yes\u001B[39m\u001B[38;5;124m'\u001B[39m], as_index\u001B[38;5;241m=\u001B[39m\u001B[38;5;28;01mFalse\u001B[39;00m)\u001B[38;5;241m.\u001B[39mmean()\u001B[38;5;241m.\u001B[39msort_values(by\u001B[38;5;241m=\u001B[39m\u001B[38;5;124m'\u001B[39m\u001B[38;5;124mReAdmis_Yes\u001B[39m\u001B[38;5;124m'\u001B[39m, ascending\u001B[38;5;241m=\u001B[39m\u001B[38;5;28;01mFalse\u001B[39;00m)\n",
      "File \u001B[0;32m~/opt/anaconda3/lib/python3.9/site-packages/pandas/core/frame.py:3511\u001B[0m, in \u001B[0;36mDataFrame.__getitem__\u001B[0;34m(self, key)\u001B[0m\n\u001B[1;32m   3509\u001B[0m     \u001B[38;5;28;01mif\u001B[39;00m is_iterator(key):\n\u001B[1;32m   3510\u001B[0m         key \u001B[38;5;241m=\u001B[39m \u001B[38;5;28mlist\u001B[39m(key)\n\u001B[0;32m-> 3511\u001B[0m     indexer \u001B[38;5;241m=\u001B[39m \u001B[38;5;28;43mself\u001B[39;49m\u001B[38;5;241;43m.\u001B[39;49m\u001B[43mcolumns\u001B[49m\u001B[38;5;241;43m.\u001B[39;49m\u001B[43m_get_indexer_strict\u001B[49m\u001B[43m(\u001B[49m\u001B[43mkey\u001B[49m\u001B[43m,\u001B[49m\u001B[43m \u001B[49m\u001B[38;5;124;43m\"\u001B[39;49m\u001B[38;5;124;43mcolumns\u001B[39;49m\u001B[38;5;124;43m\"\u001B[39;49m\u001B[43m)\u001B[49m[\u001B[38;5;241m1\u001B[39m]\n\u001B[1;32m   3513\u001B[0m \u001B[38;5;66;03m# take() does not accept boolean indexers\u001B[39;00m\n\u001B[1;32m   3514\u001B[0m \u001B[38;5;28;01mif\u001B[39;00m \u001B[38;5;28mgetattr\u001B[39m(indexer, \u001B[38;5;124m\"\u001B[39m\u001B[38;5;124mdtype\u001B[39m\u001B[38;5;124m\"\u001B[39m, \u001B[38;5;28;01mNone\u001B[39;00m) \u001B[38;5;241m==\u001B[39m \u001B[38;5;28mbool\u001B[39m:\n",
      "File \u001B[0;32m~/opt/anaconda3/lib/python3.9/site-packages/pandas/core/indexes/base.py:5782\u001B[0m, in \u001B[0;36mIndex._get_indexer_strict\u001B[0;34m(self, key, axis_name)\u001B[0m\n\u001B[1;32m   5779\u001B[0m \u001B[38;5;28;01melse\u001B[39;00m:\n\u001B[1;32m   5780\u001B[0m     keyarr, indexer, new_indexer \u001B[38;5;241m=\u001B[39m \u001B[38;5;28mself\u001B[39m\u001B[38;5;241m.\u001B[39m_reindex_non_unique(keyarr)\n\u001B[0;32m-> 5782\u001B[0m \u001B[38;5;28;43mself\u001B[39;49m\u001B[38;5;241;43m.\u001B[39;49m\u001B[43m_raise_if_missing\u001B[49m\u001B[43m(\u001B[49m\u001B[43mkeyarr\u001B[49m\u001B[43m,\u001B[49m\u001B[43m \u001B[49m\u001B[43mindexer\u001B[49m\u001B[43m,\u001B[49m\u001B[43m \u001B[49m\u001B[43maxis_name\u001B[49m\u001B[43m)\u001B[49m\n\u001B[1;32m   5784\u001B[0m keyarr \u001B[38;5;241m=\u001B[39m \u001B[38;5;28mself\u001B[39m\u001B[38;5;241m.\u001B[39mtake(indexer)\n\u001B[1;32m   5785\u001B[0m \u001B[38;5;28;01mif\u001B[39;00m \u001B[38;5;28misinstance\u001B[39m(key, Index):\n\u001B[1;32m   5786\u001B[0m     \u001B[38;5;66;03m# GH 42790 - Preserve name from an Index\u001B[39;00m\n",
      "File \u001B[0;32m~/opt/anaconda3/lib/python3.9/site-packages/pandas/core/indexes/base.py:5845\u001B[0m, in \u001B[0;36mIndex._raise_if_missing\u001B[0;34m(self, key, indexer, axis_name)\u001B[0m\n\u001B[1;32m   5842\u001B[0m     \u001B[38;5;28;01mraise\u001B[39;00m \u001B[38;5;167;01mKeyError\u001B[39;00m(\u001B[38;5;124mf\u001B[39m\u001B[38;5;124m\"\u001B[39m\u001B[38;5;124mNone of [\u001B[39m\u001B[38;5;132;01m{\u001B[39;00mkey\u001B[38;5;132;01m}\u001B[39;00m\u001B[38;5;124m] are in the [\u001B[39m\u001B[38;5;132;01m{\u001B[39;00maxis_name\u001B[38;5;132;01m}\u001B[39;00m\u001B[38;5;124m]\u001B[39m\u001B[38;5;124m\"\u001B[39m)\n\u001B[1;32m   5844\u001B[0m not_found \u001B[38;5;241m=\u001B[39m \u001B[38;5;28mlist\u001B[39m(ensure_index(key)[missing_mask\u001B[38;5;241m.\u001B[39mnonzero()[\u001B[38;5;241m0\u001B[39m]]\u001B[38;5;241m.\u001B[39munique())\n\u001B[0;32m-> 5845\u001B[0m \u001B[38;5;28;01mraise\u001B[39;00m \u001B[38;5;167;01mKeyError\u001B[39;00m(\u001B[38;5;124mf\u001B[39m\u001B[38;5;124m\"\u001B[39m\u001B[38;5;132;01m{\u001B[39;00mnot_found\u001B[38;5;132;01m}\u001B[39;00m\u001B[38;5;124m not in index\u001B[39m\u001B[38;5;124m\"\u001B[39m)\n",
      "\u001B[0;31mKeyError\u001B[0m: \"['ReAdmis_Yes'] not in index\""
     ]
    }
   ],
   "source": [
    "# Average of the train set grouped by ReAdmis_Yes\n",
    "train[['ReAdmis_Yes', 'Initial_days', 'TotalCharge']].groupby(['ReAdmis_Yes'], as_index=False).mean().sort_values(by='ReAdmis_Yes', ascending=False)"
   ]
  },
  {
   "cell_type": "code",
   "execution_count": null,
   "id": "64b3a58c",
   "metadata": {
    "pycharm": {
     "name": "#%%\n"
    }
   },
   "outputs": [],
   "source": [
    "#df['A'].round(1).value_counts()\n",
    "\n",
    "#train['Initial_days'] = train['Initial_days'].round(1).value_counts()\n",
    "\n",
    "train[['ReAdmis_Yes', 'Initial_days', 'TotalCharge']].groupby(['Initial_days'], as_index=False).mean().sort_values(by='Initial_days', ascending=False)\n"
   ]
  },
  {
   "cell_type": "code",
   "execution_count": null,
   "id": "f75b8755",
   "metadata": {
    "pycharm": {
     "name": "#%%\n"
    }
   },
   "outputs": [],
   "source": [
    "train[['ReAdmis_Yes', 'Initial_days', 'TotalCharge']].groupby(['TotalCharge'], as_index=False).mean().sort_values(by='TotalCharge', ascending=False)\n"
   ]
  },
  {
   "cell_type": "code",
   "execution_count": null,
   "id": "416a8fcd-0111-4569-a921-bbf74d6bd391",
   "metadata": {
    "pycharm": {
     "name": "#%%\n"
    }
   },
   "outputs": [],
   "source": [
    "train[['ReAdmis_Yes', 'Initial_days', 'TotalCharge']].groupby(['ReAdmis_Yes'], as_index=False).mean().sort_values(by='ReAdmis_Yes', ascending=False)\n",
    "\n",
    "g = sns.FacetGrid(train, col='ReAdmis_Yes')\n",
    "g.map(plt.hist, 'Initial_days', bins=20);"
   ]
  },
  {
   "cell_type": "code",
   "execution_count": null,
   "id": "ce74a79e-2fb1-4de9-bc4e-c1b66629b8f4",
   "metadata": {
    "pycharm": {
     "name": "#%%\n"
    },
    "tags": []
   },
   "outputs": [],
   "source": [
    "# Takes too long, never completes\n",
    "#grid = sns.FacetGrid(train, col='ReAdmis_Yes', row='Initial_days', height=2.2, aspect=1.6)\n",
    "#grid.map(plt.hist, 'Initial_days', alpha=.5, bins=5)\n",
    "#grid.add_legend();"
   ]
  },
  {
   "cell_type": "code",
   "execution_count": null,
   "id": "defead1c-50ee-437d-911d-e6cd75cf2aeb",
   "metadata": {
    "pycharm": {
     "name": "#%%\n"
    }
   },
   "outputs": [],
   "source": [
    "train.info()"
   ]
  },
  {
   "cell_type": "code",
   "execution_count": 39,
   "id": "7bb75662",
   "metadata": {
    "pycharm": {
     "name": "#%%\n"
    }
   },
   "outputs": [
    {
     "name": "stdout",
     "output_type": "stream",
     "text": [
      "<class 'pandas.core.frame.DataFrame'>\n",
      "Int64Index: 3300 entries, 6252 to 9401\n",
      "Data columns (total 40 columns):\n",
      " #   Column                                Non-Null Count  Dtype  \n",
      "---  ------                                --------------  -----  \n",
      " 0   Lat                                   3300 non-null   float64\n",
      " 1   Lng                                   3300 non-null   float64\n",
      " 2   Population                            3300 non-null   float64\n",
      " 3   Children                              3300 non-null   float64\n",
      " 4   Age                                   3300 non-null   float64\n",
      " 5   Income                                3300 non-null   float64\n",
      " 6   VitD_levels                           3300 non-null   float64\n",
      " 7   Doc_visits                            3300 non-null   float64\n",
      " 8   Full_meals_eaten                      3300 non-null   float64\n",
      " 9   vitD_supp                             3300 non-null   float64\n",
      " 10  Initial_days                          3300 non-null   float64\n",
      " 11  TotalCharge                           3300 non-null   float64\n",
      " 12  Additional_charges                    3300 non-null   float64\n",
      " 13  Area__Suburban                        3300 non-null   float64\n",
      " 14  Area__Urban                           3300 non-null   float64\n",
      " 15  Marital__Married                      3300 non-null   float64\n",
      " 16  Marital__Never Married                3300 non-null   float64\n",
      " 17  Marital__Separated                    3300 non-null   float64\n",
      " 18  Marital__Widowed                      3300 non-null   float64\n",
      " 19  Gender__Male                          3300 non-null   float64\n",
      " 20  Gender__Nonbinary                     3300 non-null   float64\n",
      " 21  Soft_drink__Yes                       3300 non-null   float64\n",
      " 22  Initial_admin__Emergency Admission    3300 non-null   float64\n",
      " 23  Initial_admin__Observation Admission  3300 non-null   float64\n",
      " 24  HighBlood__Yes                        3300 non-null   float64\n",
      " 25  Stroke__Yes                           3300 non-null   float64\n",
      " 26  Complication_risk__Low                3300 non-null   float64\n",
      " 27  Complication_risk__Medium             3300 non-null   float64\n",
      " 28  Overweight__Yes                       3300 non-null   float64\n",
      " 29  Arthritis__Yes                        3300 non-null   float64\n",
      " 30  Diabetes__Yes                         3300 non-null   float64\n",
      " 31  Hyperlipidemia__Yes                   3300 non-null   float64\n",
      " 32  BackPain__Yes                         3300 non-null   float64\n",
      " 33  Anxiety__Yes                          3300 non-null   float64\n",
      " 34  Allergic_rhinitis__Yes                3300 non-null   float64\n",
      " 35  Reflux_esophagitis__Yes               3300 non-null   float64\n",
      " 36  Asthma__Yes                           3300 non-null   float64\n",
      " 37  Services__CT Scan                     3300 non-null   float64\n",
      " 38  Services__Intravenous                 3300 non-null   float64\n",
      " 39  Services__MRI                         3300 non-null   float64\n",
      "dtypes: float64(40)\n",
      "memory usage: 1.0 MB\n"
     ]
    }
   ],
   "source": [
    "test.info()"
   ]
  },
  {
   "cell_type": "code",
   "execution_count": 40,
   "id": "24145016",
   "metadata": {
    "pycharm": {
     "name": "#%%\n"
    }
   },
   "outputs": [
    {
     "ename": "KeyError",
     "evalue": "\"['ReAdmis_Yes'] not found in axis\"",
     "output_type": "error",
     "traceback": [
      "\u001B[0;31m---------------------------------------------------------------------------\u001B[0m",
      "\u001B[0;31mKeyError\u001B[0m                                  Traceback (most recent call last)",
      "Input \u001B[0;32mIn [40]\u001B[0m, in \u001B[0;36m<cell line: 1>\u001B[0;34m()\u001B[0m\n\u001B[0;32m----> 1\u001B[0m X \u001B[38;5;241m=\u001B[39m \u001B[43mtrain\u001B[49m\u001B[38;5;241;43m.\u001B[39;49m\u001B[43mdrop\u001B[49m\u001B[43m(\u001B[49m\u001B[38;5;124;43m'\u001B[39;49m\u001B[38;5;124;43mReAdmis_Yes\u001B[39;49m\u001B[38;5;124;43m'\u001B[39;49m\u001B[43m,\u001B[49m\u001B[43m \u001B[49m\u001B[43maxis\u001B[49m\u001B[38;5;241;43m=\u001B[39;49m\u001B[38;5;241;43m1\u001B[39;49m\u001B[43m)\u001B[49m\u001B[38;5;241m.\u001B[39mvalues \u001B[38;5;66;03m# drop target variable\u001B[39;00m\n\u001B[1;32m      3\u001B[0m y \u001B[38;5;241m=\u001B[39m train[\u001B[38;5;124m'\u001B[39m\u001B[38;5;124mReAdmis_Yes\u001B[39m\u001B[38;5;124m'\u001B[39m]\u001B[38;5;241m.\u001B[39mvalues\n",
      "File \u001B[0;32m~/opt/anaconda3/lib/python3.9/site-packages/pandas/util/_decorators.py:311\u001B[0m, in \u001B[0;36mdeprecate_nonkeyword_arguments.<locals>.decorate.<locals>.wrapper\u001B[0;34m(*args, **kwargs)\u001B[0m\n\u001B[1;32m    305\u001B[0m \u001B[38;5;28;01mif\u001B[39;00m \u001B[38;5;28mlen\u001B[39m(args) \u001B[38;5;241m>\u001B[39m num_allow_args:\n\u001B[1;32m    306\u001B[0m     warnings\u001B[38;5;241m.\u001B[39mwarn(\n\u001B[1;32m    307\u001B[0m         msg\u001B[38;5;241m.\u001B[39mformat(arguments\u001B[38;5;241m=\u001B[39marguments),\n\u001B[1;32m    308\u001B[0m         \u001B[38;5;167;01mFutureWarning\u001B[39;00m,\n\u001B[1;32m    309\u001B[0m         stacklevel\u001B[38;5;241m=\u001B[39mstacklevel,\n\u001B[1;32m    310\u001B[0m     )\n\u001B[0;32m--> 311\u001B[0m \u001B[38;5;28;01mreturn\u001B[39;00m \u001B[43mfunc\u001B[49m\u001B[43m(\u001B[49m\u001B[38;5;241;43m*\u001B[39;49m\u001B[43margs\u001B[49m\u001B[43m,\u001B[49m\u001B[43m \u001B[49m\u001B[38;5;241;43m*\u001B[39;49m\u001B[38;5;241;43m*\u001B[39;49m\u001B[43mkwargs\u001B[49m\u001B[43m)\u001B[49m\n",
      "File \u001B[0;32m~/opt/anaconda3/lib/python3.9/site-packages/pandas/core/frame.py:4954\u001B[0m, in \u001B[0;36mDataFrame.drop\u001B[0;34m(self, labels, axis, index, columns, level, inplace, errors)\u001B[0m\n\u001B[1;32m   4806\u001B[0m \u001B[38;5;129m@deprecate_nonkeyword_arguments\u001B[39m(version\u001B[38;5;241m=\u001B[39m\u001B[38;5;28;01mNone\u001B[39;00m, allowed_args\u001B[38;5;241m=\u001B[39m[\u001B[38;5;124m\"\u001B[39m\u001B[38;5;124mself\u001B[39m\u001B[38;5;124m\"\u001B[39m, \u001B[38;5;124m\"\u001B[39m\u001B[38;5;124mlabels\u001B[39m\u001B[38;5;124m\"\u001B[39m])\n\u001B[1;32m   4807\u001B[0m \u001B[38;5;28;01mdef\u001B[39;00m \u001B[38;5;21mdrop\u001B[39m(\n\u001B[1;32m   4808\u001B[0m     \u001B[38;5;28mself\u001B[39m,\n\u001B[0;32m   (...)\u001B[0m\n\u001B[1;32m   4815\u001B[0m     errors: \u001B[38;5;28mstr\u001B[39m \u001B[38;5;241m=\u001B[39m \u001B[38;5;124m\"\u001B[39m\u001B[38;5;124mraise\u001B[39m\u001B[38;5;124m\"\u001B[39m,\n\u001B[1;32m   4816\u001B[0m ):\n\u001B[1;32m   4817\u001B[0m     \u001B[38;5;124;03m\"\"\"\u001B[39;00m\n\u001B[1;32m   4818\u001B[0m \u001B[38;5;124;03m    Drop specified labels from rows or columns.\u001B[39;00m\n\u001B[1;32m   4819\u001B[0m \n\u001B[0;32m   (...)\u001B[0m\n\u001B[1;32m   4952\u001B[0m \u001B[38;5;124;03m            weight  1.0     0.8\u001B[39;00m\n\u001B[1;32m   4953\u001B[0m \u001B[38;5;124;03m    \"\"\"\u001B[39;00m\n\u001B[0;32m-> 4954\u001B[0m     \u001B[38;5;28;01mreturn\u001B[39;00m \u001B[38;5;28;43msuper\u001B[39;49m\u001B[43m(\u001B[49m\u001B[43m)\u001B[49m\u001B[38;5;241;43m.\u001B[39;49m\u001B[43mdrop\u001B[49m\u001B[43m(\u001B[49m\n\u001B[1;32m   4955\u001B[0m \u001B[43m        \u001B[49m\u001B[43mlabels\u001B[49m\u001B[38;5;241;43m=\u001B[39;49m\u001B[43mlabels\u001B[49m\u001B[43m,\u001B[49m\n\u001B[1;32m   4956\u001B[0m \u001B[43m        \u001B[49m\u001B[43maxis\u001B[49m\u001B[38;5;241;43m=\u001B[39;49m\u001B[43maxis\u001B[49m\u001B[43m,\u001B[49m\n\u001B[1;32m   4957\u001B[0m \u001B[43m        \u001B[49m\u001B[43mindex\u001B[49m\u001B[38;5;241;43m=\u001B[39;49m\u001B[43mindex\u001B[49m\u001B[43m,\u001B[49m\n\u001B[1;32m   4958\u001B[0m \u001B[43m        \u001B[49m\u001B[43mcolumns\u001B[49m\u001B[38;5;241;43m=\u001B[39;49m\u001B[43mcolumns\u001B[49m\u001B[43m,\u001B[49m\n\u001B[1;32m   4959\u001B[0m \u001B[43m        \u001B[49m\u001B[43mlevel\u001B[49m\u001B[38;5;241;43m=\u001B[39;49m\u001B[43mlevel\u001B[49m\u001B[43m,\u001B[49m\n\u001B[1;32m   4960\u001B[0m \u001B[43m        \u001B[49m\u001B[43minplace\u001B[49m\u001B[38;5;241;43m=\u001B[39;49m\u001B[43minplace\u001B[49m\u001B[43m,\u001B[49m\n\u001B[1;32m   4961\u001B[0m \u001B[43m        \u001B[49m\u001B[43merrors\u001B[49m\u001B[38;5;241;43m=\u001B[39;49m\u001B[43merrors\u001B[49m\u001B[43m,\u001B[49m\n\u001B[1;32m   4962\u001B[0m \u001B[43m    \u001B[49m\u001B[43m)\u001B[49m\n",
      "File \u001B[0;32m~/opt/anaconda3/lib/python3.9/site-packages/pandas/core/generic.py:4267\u001B[0m, in \u001B[0;36mNDFrame.drop\u001B[0;34m(self, labels, axis, index, columns, level, inplace, errors)\u001B[0m\n\u001B[1;32m   4265\u001B[0m \u001B[38;5;28;01mfor\u001B[39;00m axis, labels \u001B[38;5;129;01min\u001B[39;00m axes\u001B[38;5;241m.\u001B[39mitems():\n\u001B[1;32m   4266\u001B[0m     \u001B[38;5;28;01mif\u001B[39;00m labels \u001B[38;5;129;01mis\u001B[39;00m \u001B[38;5;129;01mnot\u001B[39;00m \u001B[38;5;28;01mNone\u001B[39;00m:\n\u001B[0;32m-> 4267\u001B[0m         obj \u001B[38;5;241m=\u001B[39m \u001B[43mobj\u001B[49m\u001B[38;5;241;43m.\u001B[39;49m\u001B[43m_drop_axis\u001B[49m\u001B[43m(\u001B[49m\u001B[43mlabels\u001B[49m\u001B[43m,\u001B[49m\u001B[43m \u001B[49m\u001B[43maxis\u001B[49m\u001B[43m,\u001B[49m\u001B[43m \u001B[49m\u001B[43mlevel\u001B[49m\u001B[38;5;241;43m=\u001B[39;49m\u001B[43mlevel\u001B[49m\u001B[43m,\u001B[49m\u001B[43m \u001B[49m\u001B[43merrors\u001B[49m\u001B[38;5;241;43m=\u001B[39;49m\u001B[43merrors\u001B[49m\u001B[43m)\u001B[49m\n\u001B[1;32m   4269\u001B[0m \u001B[38;5;28;01mif\u001B[39;00m inplace:\n\u001B[1;32m   4270\u001B[0m     \u001B[38;5;28mself\u001B[39m\u001B[38;5;241m.\u001B[39m_update_inplace(obj)\n",
      "File \u001B[0;32m~/opt/anaconda3/lib/python3.9/site-packages/pandas/core/generic.py:4311\u001B[0m, in \u001B[0;36mNDFrame._drop_axis\u001B[0;34m(self, labels, axis, level, errors, consolidate, only_slice)\u001B[0m\n\u001B[1;32m   4309\u001B[0m         new_axis \u001B[38;5;241m=\u001B[39m axis\u001B[38;5;241m.\u001B[39mdrop(labels, level\u001B[38;5;241m=\u001B[39mlevel, errors\u001B[38;5;241m=\u001B[39merrors)\n\u001B[1;32m   4310\u001B[0m     \u001B[38;5;28;01melse\u001B[39;00m:\n\u001B[0;32m-> 4311\u001B[0m         new_axis \u001B[38;5;241m=\u001B[39m \u001B[43maxis\u001B[49m\u001B[38;5;241;43m.\u001B[39;49m\u001B[43mdrop\u001B[49m\u001B[43m(\u001B[49m\u001B[43mlabels\u001B[49m\u001B[43m,\u001B[49m\u001B[43m \u001B[49m\u001B[43merrors\u001B[49m\u001B[38;5;241;43m=\u001B[39;49m\u001B[43merrors\u001B[49m\u001B[43m)\u001B[49m\n\u001B[1;32m   4312\u001B[0m     indexer \u001B[38;5;241m=\u001B[39m axis\u001B[38;5;241m.\u001B[39mget_indexer(new_axis)\n\u001B[1;32m   4314\u001B[0m \u001B[38;5;66;03m# Case for non-unique axis\u001B[39;00m\n\u001B[1;32m   4315\u001B[0m \u001B[38;5;28;01melse\u001B[39;00m:\n",
      "File \u001B[0;32m~/opt/anaconda3/lib/python3.9/site-packages/pandas/core/indexes/base.py:6644\u001B[0m, in \u001B[0;36mIndex.drop\u001B[0;34m(self, labels, errors)\u001B[0m\n\u001B[1;32m   6642\u001B[0m \u001B[38;5;28;01mif\u001B[39;00m mask\u001B[38;5;241m.\u001B[39many():\n\u001B[1;32m   6643\u001B[0m     \u001B[38;5;28;01mif\u001B[39;00m errors \u001B[38;5;241m!=\u001B[39m \u001B[38;5;124m\"\u001B[39m\u001B[38;5;124mignore\u001B[39m\u001B[38;5;124m\"\u001B[39m:\n\u001B[0;32m-> 6644\u001B[0m         \u001B[38;5;28;01mraise\u001B[39;00m \u001B[38;5;167;01mKeyError\u001B[39;00m(\u001B[38;5;124mf\u001B[39m\u001B[38;5;124m\"\u001B[39m\u001B[38;5;132;01m{\u001B[39;00m\u001B[38;5;28mlist\u001B[39m(labels[mask])\u001B[38;5;132;01m}\u001B[39;00m\u001B[38;5;124m not found in axis\u001B[39m\u001B[38;5;124m\"\u001B[39m)\n\u001B[1;32m   6645\u001B[0m     indexer \u001B[38;5;241m=\u001B[39m indexer[\u001B[38;5;241m~\u001B[39mmask]\n\u001B[1;32m   6646\u001B[0m \u001B[38;5;28;01mreturn\u001B[39;00m \u001B[38;5;28mself\u001B[39m\u001B[38;5;241m.\u001B[39mdelete(indexer)\n",
      "\u001B[0;31mKeyError\u001B[0m: \"['ReAdmis_Yes'] not found in axis\""
     ]
    }
   ],
   "source": [
    "X = train.drop('ReAdmis_Yes', axis=1).values # drop target variable\n",
    "\n",
    "y = train['ReAdmis_Yes'].values "
   ]
  },
  {
   "cell_type": "code",
   "execution_count": null,
   "id": "7e555e05",
   "metadata": {
    "pycharm": {
     "name": "#%%\n"
    }
   },
   "outputs": [],
   "source": [
    "train.info()"
   ]
  },
  {
   "cell_type": "code",
   "execution_count": null,
   "id": "790c96dd-3588-4205-bd85-9d7a1bdecf54",
   "metadata": {
    "pycharm": {
     "name": "#%%\n"
    }
   },
   "outputs": [],
   "source": [
    "#kmeans = KMeans(n_clusters=2, random_state=0).fit(train)\n",
    "kmeans = KMeans(n_clusters=2)\n",
    "kmeans.fit(X)"
   ]
  },
  {
   "cell_type": "code",
   "execution_count": null,
   "id": "a04219fe",
   "metadata": {
    "pycharm": {
     "name": "#%%\n"
    }
   },
   "outputs": [],
   "source": [
    "# https://www.datacamp.com/tutorial/k-means-clustering-python\n",
    "#https://stackoverflow.com/questions/70261095/sklearn-cluster-kmeans-got-typeerror-init-got-an-unexpected-keyword-argu\n",
    "KMeans(algorithm='auto', copy_x=True, init='k-means++', max_iter=300,\n",
    "    n_clusters=2, n_init=10, #precompute_distances='auto',\n",
    "    random_state=None, tol=0.0001, verbose=0)"
   ]
  },
  {
   "cell_type": "code",
   "execution_count": null,
   "id": "eb1ebb74-82ed-4838-a15e-4ea653095ffa",
   "metadata": {
    "pycharm": {
     "name": "#%%\n"
    }
   },
   "outputs": [],
   "source": [
    "### Not Working...\n",
    "# \n",
    "# # correct = 0\n",
    "# for i in range(len(train)):\n",
    "#     predict_me = np.array(train[i].astype(float))\n",
    "#     predict_me = predict_me.reshape(-1, len(predict_me))\n",
    "#     prediction = kmeans.predict(predict_me)\n",
    "#     if prediction[0] == y[i]:\n",
    "#         correct += 1\n",
    "\n",
    "# print(correct/len(train))\n"
   ]
  },
  {
   "cell_type": "code",
   "execution_count": 41,
   "id": "e726dd47-bcd7-40bb-8492-534809f1e478",
   "metadata": {
    "pycharm": {
     "name": "#%%\n"
    }
   },
   "outputs": [],
   "source": [
    "#KMeans(algorithm='auto', copy_x=True, init='k-means++', max_iter=300,\n",
    " #   n_clusters=2, n_init=10, n_jobs=1, precompute_distances='auto',\n",
    "  #  random_state=None, tol=0.0001, verbose=0)"
   ]
  },
  {
   "cell_type": "code",
   "execution_count": null,
   "id": "43824e23-d346-4ac0-9c5a-d7daaad52898",
   "metadata": {
    "pycharm": {
     "name": "#%%\n"
    }
   },
   "outputs": [],
   "source": []
  }
 ],
 "metadata": {
  "kernelspec": {
   "display_name": "Python 3 (ipykernel)",
   "language": "python",
   "name": "python3"
  },
  "language_info": {
   "codemirror_mode": {
    "name": "ipython",
    "version": 3
   },
   "file_extension": ".py",
   "mimetype": "text/x-python",
   "name": "python",
   "nbconvert_exporter": "python",
   "pygments_lexer": "ipython3",
   "version": "3.9.12"
  },
  "vscode": {
   "interpreter": {
    "hash": "5abbd6db220e8e7e0d98705c152b109e4d42831fb3d2e63347ab02729524c35e"
   }
  }
 },
 "nbformat": 4,
 "nbformat_minor": 5
}